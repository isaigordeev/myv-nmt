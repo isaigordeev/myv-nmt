{
 "cells": [
  {
   "cell_type": "code",
   "execution_count": 1,
   "id": "2b68d3f5",
   "metadata": {},
   "outputs": [],
   "source": [
    "import pickle\n",
    "\n",
    "with open('mini_langid_v2.pkl', 'rb') as f:\n",
    "    langid = pickle.load(f)\n",
    "    \n",
    "def get_langs(text):\n",
    "    return dict(zip(langid.classes_, langid.predict_proba([text])[0]))"
   ]
  },
  {
   "cell_type": "code",
   "execution_count": 6,
   "id": "8ce491b0",
   "metadata": {},
   "outputs": [],
   "source": [
    "base_url = 'http://goloserzi.ru'"
   ]
  },
  {
   "cell_type": "code",
   "execution_count": 7,
   "id": "4b3244d2",
   "metadata": {},
   "outputs": [],
   "source": [
    "import requests\n",
    "import random\n",
    "import pandas as pd\n",
    "from bs4 import BeautifulSoup\n",
    "from tqdm.auto import tqdm, trange\n",
    "from heapdict import heapdict"
   ]
  },
  {
   "cell_type": "code",
   "execution_count": 8,
   "id": "f42bcc3a",
   "metadata": {},
   "outputs": [],
   "source": [
    "downloaded_pages = dict()\n",
    "urls_queue = {base_url}"
   ]
  },
  {
   "cell_type": "code",
   "execution_count": 18,
   "id": "0684d782",
   "metadata": {
    "scrolled": true
   },
   "outputs": [
    {
     "data": {
      "application/vnd.jupyter.widget-view+json": {
       "model_id": "e27c11c300324688bf2a6f02346d2eac",
       "version_major": 2,
       "version_minor": 0
      },
      "text/plain": [
       "  0%|          | 0/1000000 [00:00<?, ?it/s]"
      ]
     },
     "metadata": {},
     "output_type": "display_data"
    },
    {
     "name": "stdout",
     "output_type": "stream",
     "text": [
      "http://goloserzi.ru/obshchestvo/deyatelnost/priglashaem-na-vystavku-mordovskikh-erzya-moksha-khudozhnikov-v-moskve-koy-obychay-/\n",
      "http://goloserzi.ru/obshchestvo/novosti/?PAGEN_1=3\n",
      "http://goloserzi.ru/obshchestvo/avtorskie-rubriki/novosti-na-erzyanskom-yazyke/vaygel-radionten-10-iet/\n",
      "http://goloserzi.ru/etnos/istoriya/rannie-etapy-etnogeneza-finno-ugorskikh-narodov/\n",
      "http://goloserzi.ru/obshchestvo/avtorskie-rubriki/kladovaya-erzyanskogo-slova/tashto-valt-drevnie-slova/\n",
      "http://goloserzi.ru/obshchestvo/novosti/s-dnem-rossii/\n",
      "http://goloserzi.ru/etnos/fotografii/v-y-festival-drevney-erzyanskoy-pesni-zov-torama-fotoalbom/\n",
      "http://goloserzi.ru/obshchestvo/novosti/den-erzyanskogo-yazyka-1917-2017/\n",
      "http://goloserzi.ru/etnos/?PAGEN_1=8\n",
      "http://goloserzi.ru/obshchestvo/novosti/priglashaem-v-parakino-na-maslenichnye-gulyaniya/\n",
      "http://goloserzi.ru/etnos/kukhnya/pyat-blyud-kotorye-nado-poprobovat-v-mordovii/\n",
      "http://goloserzi.ru/obshchestvo/novosti/sevastopol-krym-rossiya/\n",
      "http://goloserzi.ru/obshchestvo/novosti/30-letiyu-chernobylskoy-tragedii/\n",
      "http://goloserzi.ru/obshchestvo/novosti/25-let-tvorcheskoy-deyatelnosti-very-prokhorovoy/\n",
      "http://goloserzi.ru/obshchestvo/novosti/vsye-budet-pek-vadrya-iii-vserossiyskiy-festival-konkurs-mordovskogo-folklora-i-dekorativno-prikladn/\n",
      "http://goloserzi.ru/obshchestvo/novosti/naslednitsa-ruslanovoy/\n",
      "http://goloserzi.ru/obshchestvo/novosti/s-dnem-pobedy/\n",
      "http://goloserzi.ru/etnos/istoriya/?PAGEN_1=2\n",
      "http://goloserzi.ru/obshchestvo/novosti/?news_start=90&PAGEN_1=4\n",
      "http://goloserzi.ru/obshchestvo/novosti/yubileynyy-kontsert-skoro/\n",
      "http://goloserzi.ru/obshchestvo/novosti/?news_start=0&amp%3BPAGEN_1=6&PAGEN_1=3\n",
      "http://goloserzi.ru/obshchestvo/novosti/novaya-podpiska-na-sayt-goloserzi-ru/\n",
      "http://goloserzi.ru/obshchestvo/novosti/umarina-v-moskve-v-zolotom-koltse-nadezhdy-kadyshevoy/\n",
      "http://goloserzi.ru/obshchestvo/novosti/zapusk-obnovlennoy-versii-sayta-golos-erzi/\n",
      "http://goloserzi.ru/etnos/yazyk/avtor-pervogo-erzyanskogo-bukvarya/\n",
      "http://goloserzi.ru/obshchestvo/avtorskie-rubriki/kladovaya-erzyanskogo-slova/slova-na-bukvu-v/\n",
      "http://goloserzi.ru/etnos/istoriya/muzhskie-imena-erzyan-erzyan-tseran-lemt/\n",
      "http://goloserzi.ru/obshchestvo/novosti/?news_start=90&PAGEN_1=6\n",
      "http://goloserzi.ru/obshchestvo/novosti/moya-malaya-rodina-sabaevo-survele/\n",
      "http://goloserzi.ru/obshchestvo/novosti/den-erzyanskogo-yazyka-2017/\n",
      "http://goloserzi.ru/obshchestvo/novosti/poksh-erzyan-chi-v-penzenskoy-oblasti-selo-pazelki/\n",
      "http://goloserzi.ru/obshchestvo/novosti/prezentatsiya-filma-o-f-f-ushakove-svyatoy-admiral/\n",
      "http://goloserzi.ru/obshchestvo/novosti/shumbrat-2017-v-moskve/\n",
      "http://goloserzi.ru/etnos/istoriya/istoricheskaya-geografiya-drevnemordovskikh-plemen/\n",
      "http://goloserzi.ru/obshchestvo/novosti/?news_start=0&amp%3BPAGEN_1=6&PAGEN_1=6\n",
      "http://goloserzi.ru/obshchestvo/novosti/erzyan-sermadytsyatnen-marto-vastovoma/\n",
      "http://goloserzi.ru/obshchestvo/avtorskie-rubriki/kladovaya-erzyanskogo-slova/slova-s-bukvy-b/\n",
      "http://goloserzi.ru/obshchestvo/novosti/s-dnem-zashchitnika-otechestva-pozdravlyaem/\n",
      "http://goloserzi.ru/etnos/geografiya/arkheologicheskie-pamyatniki-srednevekovykh-erzyan-i-mokshan-na-territorii-tambovskoy-oblasti/\n",
      "http://goloserzi.ru/obshchestvo/novosti/?news_start=0&amp%3BPAGEN_1=6&PAGEN_1=5\n",
      "http://goloserzi.ru/etnos/kukhnya/vokrug-bragi-iz-podlesnoy-tavly/\n",
      "http://goloserzi.ru/obshchestvo/avtorskie-rubriki/novosti-na-erzyanskom-yazyke/karaoke-na-rodnom-yazyke-tirin-kelse/\n",
      "http://goloserzi.ru/obshchestvo/novosti/ostalos-20-dney-chtoby-podpisatsya-na-zhurnal-syatko/\n",
      "http://goloserzi.ru/obshchestvo/novosti/velen-morot/\n",
      "http://goloserzi.ru/etnos/istoriya/predstavleniya-drevney-mordvy-o-sotvorenii-mira/\n",
      "http://goloserzi.ru/etnos/istoriya/narod-erzya-i-rus-v-fokuse-russkogo-neslavyanina/\n",
      "http://goloserzi.ru/etnos/yazyk/erzyanskie-poslovitsy-i-pogovorki/\n",
      "http://goloserzi.ru/obshchestvo/novosti/rodoslovnaya-ot-radova/\n",
      "http://goloserzi.ru/etnos/geografiya/drevnie-narody-penzenskogo-kraya/\n",
      "http://goloserzi.ru/obshchestvo/novosti/v-kanun-dnya-pobedy/\n",
      "http://goloserzi.ru/etnos/literature/pisateli/lyulyakina-serafima-markovna/kniga-statya-2/\n",
      "http://goloserzi.ru/obshchestvo/novosti/shumbrat-ulyanovsk-2016/\n",
      "http://goloserzi.ru/obshchestvo/novosti/den-narodnogo-edinstva-v-moskve/\n",
      "http://goloserzi.ru/etnos/kukhnya/kukhnya/\n",
      "http://goloserzi.ru/etnos/kukhnya/traditsionnnoe-pitanie-erzyan-i-mokshan-respubliki-mordoviya-i-dalnego-vostoka/\n",
      "http://goloserzi.ru/obshchestvo/novosti/motiv-obraz-vdokhnovenie/\n",
      "http://goloserzi.ru/obshchestvo/novosti/tavlinskaya-igrushka-mudrost-narodnaya/\n",
      "http://goloserzi.ru/obshchestvo/novosti/yovlan-olon-ledstnemga-panzhoz-kevrungo/\n",
      "http://goloserzi.ru/obshchestvo/novosti/gde-dolzhny-byt-deti-letom-kursy-vyzhivaniya-v-mordovskom-zapovednike/\n",
      "http://goloserzi.ru/obshchestvo/novosti/s-nastupayushchim-8-marata/\n",
      "http://goloserzi.ru/etnos/yazyk/nekotorye-razmyshleniya-o-znachimosti-mokshanskogo-i-erzyanskogo-yazykov-v-shkolnoy-praktike/\n",
      "http://goloserzi.ru/obshchestvo/novosti/kontsert-miting-za-silnuyu-rossiyu-/\n",
      "http://goloserzi.ru/obshchestvo/novosti/svetlana-konopyanovna-ignatevna/\n",
      "http://goloserzi.ru/etnos/istoriya/drevnie-korni-erzyanskogo-naroda-drevne-mordovskiy-epos-mastorava/\n",
      "http://goloserzi.ru/etnos/istoriya/erzyanskie-svyatyni-nizhegorodskoy-oblasti/\n",
      "http://goloserzi.ru/obshchestvo/avtorskie-rubriki/samarskie-erzyane/s-dnyem-rozhdeniya-chislav-grigorevich/?sphrase_id=519\n",
      "http://goloserzi.ru/obshchestvo/novosti/s-dnem-zashchitnika-otechestva/\n",
      "http://goloserzi.ru/obshchestvo/novosti/od-viy-gala-kontsert-segodnya/\n",
      "http://goloserzi.ru/obshchestvo/novosti/festival-selskoy-pesni-velen-morot-v-moskve-novyy-proekt-ot-very-prokhorovoy/\n",
      "http://goloserzi.ru/obshchestvo/novosti/erzyan-etnoromantizma/\n",
      "http://goloserzi.ru/obshchestvo/novosti/?news_start=90&PAGEN_1=2\n",
      "http://goloserzi.ru/obshchestvo/novosti/15-y-yubileynyy-mezhdunarodnyy-festival-vechno-v-serdtse-rodnaya-zemlya-mordoviya-lyubimaya-moya-/\n",
      "http://goloserzi.ru/obshchestvo/novosti/?news_start=90&PAGEN_1=5\n",
      "http://goloserzi.ru/obshchestvo/novosti/?news_start=90\n",
      "http://goloserzi.ru/obshchestvo/novosti/arkheologicheskaya-karta-rossii/\n",
      "http://goloserzi.ru/obshchestvo/novosti/den-erzyanskogo-yazyka-erzyan-moros-sedey-vansty/\n",
      "http://goloserzi.ru/etnos/istoriya/etnokulturnyy-portret-odnogo-naroda-v-kontekste-russkoy-zhurnalistiki-kontsa-khikh-nachala-khkh-veka/\n",
      "http://goloserzi.ru/obshchestvo/novosti/vera-prokhorova-priglashaet/\n",
      "http://goloserzi.ru/obshchestvo/novosti/erzyan-lismaprya-chto-i-kak-budet-v-etom-godu/\n"
     ]
    }
   ],
   "source": [
    "for i in trange(1_000_000):\n",
    "    if not urls_queue:\n",
    "        break\n",
    "    url = urls_queue.pop()\n",
    "    \n",
    "    if 'old.goloserzi.ru' in url:\n",
    "        continue\n",
    "    if url.startswith('mailto:'):\n",
    "        continue\n",
    "    if url.lower().endswith('.mp3') or url.lower().endswith('.jpg') or url.lower().endswith('.pdf'):\n",
    "        continue\n",
    "    \n",
    "    print(url)\n",
    "    html = requests.get(url).text\n",
    "    downloaded_pages[url] = html\n",
    "    soup = BeautifulSoup(html)\n",
    "\n",
    "    for a in soup.findAll('a'):\n",
    "        if not a.has_attr('href'):\n",
    "            # skip anchors\n",
    "            continue\n",
    "        href = a['href']\n",
    "        if href.startswith('#'):\n",
    "            continue\n",
    "        if not href.startswith('/') and not 'goloserzi.ru' in href:\n",
    "            continue\n",
    "            \n",
    "        # print(a['href'])\n",
    "        \n",
    "        if href.startswith('/'):\n",
    "            new_url = base_url + href\n",
    "        else:\n",
    "            new_url =  href\n",
    "            \n",
    "        \n",
    "        if new_url not in downloaded_pages:\n",
    "            urls_queue.add(new_url)\n",
    "        "
   ]
  },
  {
   "cell_type": "code",
   "execution_count": 19,
   "id": "0c074c1f",
   "metadata": {},
   "outputs": [
    {
     "data": {
      "text/plain": [
       "0"
      ]
     },
     "execution_count": 19,
     "metadata": {},
     "output_type": "execute_result"
    }
   ],
   "source": [
    "len(urls_queue)"
   ]
  },
  {
   "cell_type": "code",
   "execution_count": 20,
   "id": "52dd4824",
   "metadata": {},
   "outputs": [
    {
     "data": {
      "text/plain": [
       "510"
      ]
     },
     "execution_count": 20,
     "metadata": {},
     "output_type": "execute_result"
    }
   ],
   "source": [
    "len(downloaded_pages)"
   ]
  },
  {
   "cell_type": "code",
   "execution_count": null,
   "id": "619ed8d4",
   "metadata": {},
   "outputs": [],
   "source": []
  },
  {
   "cell_type": "code",
   "execution_count": 33,
   "id": "e523bc89",
   "metadata": {
    "scrolled": true
   },
   "outputs": [
    {
     "data": {
      "application/vnd.jupyter.widget-view+json": {
       "model_id": "085a2c24dd15408c83f8c168a274a0be",
       "version_major": 2,
       "version_minor": 0
      },
      "text/plain": [
       "  0%|          | 0/510 [00:00<?, ?it/s]"
      ]
     },
     "metadata": {},
     "output_type": "display_data"
    },
    {
     "name": "stdout",
     "output_type": "stream",
     "text": [
      "http://old.goloserzi.ru/\n",
      "http://goloserzi.ru/upload/iblock/73a/73af89bf9aa41e6a60584627cbff8716.JPG\n",
      "http://goloserzi.ru/upload/iblock/08e/08e39f5e10978bd9eb7ac03ebeea0d06.JPG\n",
      "http://goloserzi.ru/upload/iblock/12e/12eeabcc02dde8637196ac60441aa671.JPG\n",
      "http://goloserzi.ru/upload/iblock/8d9/8d9ce044743edfde7dfcf609a1d55b0d.jpg\n",
      "http://goloserzi.ru/upload/iblock/5e5/5e54658784945e3a8801b5b9ded0cbcc.jpg\n",
      "http://goloserzi.ru/upload/iblock/e99/e99a3d9e18388a065981246b5683ab3a.jpg\n",
      "http://goloserzi.ru/upload/iblock/f81/f8141442e551610113c8d2fa298f1ba9.jpg\n",
      "http://goloserzi.ru/upload/iblock/294/2947e8cb3ac195ac5dc6c2c725935cb1.pdf\n",
      "http://goloserzi.ru/upload/iblock/642/6425e7ea7077c516e71bd4957908481b.jpg\n",
      "http://goloserzi.ru/upload/iblock/fbf/fbfd884e667928b745893b25fc32983b.jpg\n",
      "http://goloserzi.ru/upload/iblock/491/491c01e9cd7ccc4471533dc104436f37.jpg\n",
      "http://goloserzi.ru/upload/iblock/89f/89f8e034f69571b927cce12047226a12.jpg\n",
      "http://goloserzi.ru/upload/iblock/73e/73e116ab34145f6877b0a05abcc447ee.JPG\n",
      "http://goloserzi.ru/upload/iblock/170/170eceacd4d682b38d726acbe693da66.jpg\n",
      "http://goloserzi.ru/upload/iblock/418/418a5db0c6089b430074cb846b8c9e83.JPG\n",
      "http://goloserzi.ru/upload/iblock/975/975d5159c1ab149de7f52786043fd1e2.jpg\n",
      "http://goloserzi.ru/upload/iblock/7d9/7d9c35c084cffe8d10c5cb5f8e50348a.jpg\n",
      "http://goloserzi.ru/upload/iblock/6eb/6eb399f15a2be0046067840dddf68723.JPG\n",
      "http://goloserzi.ru/upload/iblock/cc4/cc4e34d25227e63ca0e9df14a6a2e28d.JPG\n",
      "http://goloserzi.ru/upload/iblock/155/1551347cbf3c807584313d6c1616ffef.JPG\n",
      "http://goloserzi.ru/upload/iblock/29f/29fb7b0317d6a431e6ac6994b2576027.JPG\n",
      "http://goloserzi.ru/upload/iblock/ffa/ffaea082b89a348039136ad42e160de9.jpg\n",
      "http://goloserzi.ru/upload/iblock/260/2602791fabfbe82683dd7123558cf953.JPG\n",
      "http://goloserzi.ru/upload/iblock/40c/40c25ffc82d8db23b4ace907fb1fa0f9.jpg\n",
      "http://goloserzi.ru/upload/iblock/f79/f798653955be01698c64bf77a5075110.jpg\n",
      "http://goloserzi.ru/upload/iblock/876/8760334b209afd66c4d1ef16658edd6c.JPG\n",
      "http://goloserzi.ru/upload/iblock/686/686fa06ed118fb3f6e6b4d33988c3544.jpg\n",
      "http://goloserzi.ru/upload/iblock/739/739a69e8dea5c681aa3824e08fe5439e.JPG\n",
      "http://goloserzi.ru/upload/iblock/a8e/a8e56ba0a0c264dc0d2e019915752d9e.JPG\n",
      "http://goloserzi.ru/upload/iblock/5cc/5ccbdafce39918e8d20e17f9dc4be0f0.JPG\n",
      "http://goloserzi.ru/upload/iblock/19a/19a1c54fb6f2b950761e8c16f24205a6.JPG\n",
      "http://goloserzi.ru/upload/iblock/d9c/d9c8d30ddf9c160031881d35da348df5.JPG\n",
      "http://goloserzi.ru/upload/iblock/0d7/0d7e59a465ec8ee574e8b95061baacb7.JPG\n",
      "http://goloserzi.ru/upload/iblock/afb/afb38de55dd17a868c239faa57e5e7cb.pdf\n",
      "http://goloserzi.ru/upload/iblock/ca8/ca8cd5ebe60b225adef526bdd9d20553.pdf\n"
     ]
    }
   ],
   "source": [
    "parsed_pages = []\n",
    "\n",
    "for url in tqdm(downloaded_pages):\n",
    "    if '?start=' in url:\n",
    "        continue\n",
    "    html = downloaded_pages[url]\n",
    "    soup = BeautifulSoup(html)\n",
    "    try:\n",
    "        gw = soup.find('div', {'class': 'global-wrapper'})\n",
    "        gw.find('div', {'class': 'side-menu'}).extract()\n",
    "        body = gw.text\n",
    "    except AttributeError:\n",
    "        print(url)\n",
    "        continue\n",
    "    parsed_pages.append({\n",
    "        'url': url,\n",
    "        'body': body,\n",
    "        'myv_score': get_langs(body)['myv']\n",
    "    })"
   ]
  },
  {
   "cell_type": "code",
   "execution_count": 44,
   "id": "239c3c37",
   "metadata": {},
   "outputs": [],
   "source": [
    "soup = BeautifulSoup(html)"
   ]
  },
  {
   "cell_type": "code",
   "execution_count": 45,
   "id": "3a896397",
   "metadata": {},
   "outputs": [
    {
     "data": {
      "text/plain": [
       "'\\n\\n\\n\\n\\nГлавная\\n\\n\\n\\n\\n\\nОбщество\\n\\n\\n\\n\\nНовости\\n\\n\\n\\n\\n\\n28 Июня 2017\\n\\n            1993        \\n\\n            Новости        \\n\\n\\nЭрзянь лисьмапря. Что и как будет в этом году?\\n\\n\\n\\n\\n\\r\\n\\t Отдел культуры и спорта администрации Лукояновского муниципального района Нижегородской области и общественная организация «Местная национально-культурная автономия мордвы Лукояновского района Нижегородской области «Лисьмапря», приглашает Вас принять участие 22 июля 2017 года в VII Межрегиональном фестивале мордовской национальной культуры «ЭРЗЯНЬ ЛИСЬМАПРЯ» (в окрестностях села Новоселки на роднике \"Кельмалисьмалеень Лисьмапря\"). Просим Вас направить творческие коллективы на фестиваль, который\\xa0 стал традиционным и собирает сотни людей со всей страны, хранящими эрзянскую и мокшанскую культуру. В торжественных мероприятиях принимают участие фольклорные коллективы, мастера-умельцы народных промыслов. Для гостей фестиваля будут проводиться спортивные состязания в национальном стиле.\\xa0\\r\\n\\n\\r\\n\\t О своем участии просим сообщить до 10 июля 2017 года на адрес электронной почты: Lukcult@yndex.ru\\xa0\\r\\n\\n\\n\\n\\n\\r\\n\\t ПОЛОЖЕНИЕ\\r\\n\\n\\r\\n\\t \\xa0о VII Межрегиональном фестивале\\xa0\\r\\n\\n\\r\\n\\t мордовской национальной культуры\\r\\n\\n\\r\\n\\t «ЭРЗЯНЬ ЛИСЬМАПРЯ»\\r\\n\\n\\n\\n\\n\\r\\n\\t VII\\xa0 Межрегиональный фестиваль мордовской национальной культуры «Эрзянь Лисьмапря» проводится\\xa0 22 июля\\xa0 2017 г.\\xa0 у родника «Кельмелисьмалеень Лисьмапря» вблизи с. Новосёлки Лукояновского района Нижегородской области.\\r\\n\\n\\r\\n\\t Место для праздника выбрано не случайно. На этой поляне располагается почитаемый родник “Кельмелисьмалеень Лисьмапря” (Родник холодного оврага),\\xa0\\r\\n\\n\\r\\n\\t а, напротив, через дорогу - священная роща “Лукаш” с древним ритуальным камнем, который служил алтарём для свеч во время летних молений, которые проводились порядка шести тысяч лет! На территории проведения фестиваля расположен этнопарк, который включен в реестр этнопарков России.\\r\\n\\n\\n\\n\\n\\n\\n\\n\\r\\n\\t УЧРЕДИТЕЛИ И ОРГАНИЗАТОРЫ ФЕСТИВАЛЯ-КОНКУРСА:\\r\\n\\n\\n• Министерство культуры Нижегородской области.\\n• Министерство внутренней региональной\\xa0 и муниципальной политики Нижегородской области.\\n• Министерство культуры\\xa0 и туризма Республики Мордовия.\\n• ГБУК НО «Центр народного творчества».\\n• Поволжский центр культур финно-угорских народов (г. Саранск).\\n• Администрация Лукояновского муниципального района.\\n• Общественная организация «Местная национально-культурная автономия мордвы Лукояновского\\xa0 района, Нижегородской области «Лисьмапря».\\n\\n\\n\\n\\n\\r\\n\\t ЦЕЛИ И ЗАДАЧИ:\\r\\n\\n\\n• Укрепление межрегионального культурного сотрудничества на основе общности корней и национальных традиций;\\n• Сохранение, популяризация и развитие мордовской национальной\\xa0 культуры, языка, национальных обычаев и традиций;\\n• Повышение профессионального уровня руководителей творческих коллективов;\\n• Изучение состояния традиционной мордовской национальной культуры Нижегородской области;\\n• Реконструкция обрядовых традиций эрзян, связанных с ритуальным камнем, родниками и т.д.\\n• Укрепление толерантности и воспитание эстетического вкуса у подрастающего поколения.\\n\\n\\n\\n\\n\\r\\n\\t УСЛОВИЯ И ПОРЯДОК ПРОВЕДЕНИЯ\\r\\n\\n\\r\\n\\t В фестивале принимают участие:\\xa0\\r\\n\\n\\n• солисты, театры обряда, творческие коллективы, отражающие особенности национальной культуры, национальный колорит (костюмы, язык, репертуар);\\n• мастера художественно-прикладного творчества (вышивка, кухня, фото и т.д.);\\n• участники спортивных состязаний по единоборствам: метание копья, боевого топорика, борьба на поясах и руках, поднятие тяжестей.\\n• Возраст участников не ограничен.\\n\\n\\n\\n\\n\\r\\n\\t Программа участников должна состоять:\\r\\n\\n\\r\\n\\t Для солистов и коллективов – 2 номера не более 8 минут.\\r\\n\\n\\r\\n\\t К сведению участников и руководителей: в случае наличия фонограммы минус, она должна быть представлена на отдельном СD - диске.\\r\\n\\n\\n\\n\\n\\r\\n\\t Очередность выступлений определяется\\xa0 Оргкомитетом фестиваля.\\r\\n\\n\\n\\n\\n\\r\\n\\t Для участия в фестивале необходимо до 10 июля 2017 г. направить анкету-заявку (Приложение 1) по факсу: (8-831) 96 4 17 82 (отдел культуры Лукояновского района) или на e-mail: lukcult@yandex.ru\\n\\n\\n\\n\\n\\r\\n\\t ПРИМЕРНАЯ ПРОГРАММА ФЕСТИВАЛЯ\\r\\n\\n\\n\\n\\n\\r\\n\\t Заезд и регистрация коллективов 22 июля 2017 года в 9.00 по адресу: Нижегородская область, Лукояновский район, Родник «Кельмелисьмалеень Лисьмапря» вблизи с. Новосёлки.\\r\\n\\n\\r\\n\\t 9.00 –10.00 Регистрация участников\\r\\n\\n\\n\\n\\n\\r\\n\\t 9.00 - 16.00 – Выставка-продажа продукции народных художественных промыслов, литературы, выставка-продажа продукции национальной мордовской кухни.\\r\\n\\n\\n\\n\\n\\r\\n\\t 9.00-10.45 – Угощение участников фестиваля национальной мордовской кухней\\r\\n\\n\\n\\n\\n\\r\\n\\t 11.00 – 11.30 Реконструкция обрядового действия на кургане Маар, обряд оберега\\r\\n\\n\\n\\n\\n\\r\\n\\t 11.30 – 11.40 – Открытие скульптуры «Соловьи России»\\r\\n\\n\\n\\n\\n\\r\\n\\t 11.40 - 16.00\\xa0 - Торжественное открытие и гала-концерт участников\\xa0 VII Межрегионального фестиваля на открытой площадке:\\r\\n\\n\\n\\n\\n\\r\\n\\t 11.40 – 16.00 - спортивные состязания: борьба, поднятие бревна, метание топора, копья, стрельба из лука.\\r\\n\\n\\n\\n\\n\\n\\n\\n\\r\\n\\t НАГРАЖДЕНИЕ УЧАСТНИКОВ\\r\\n\\n\\r\\n\\t Все участники\\xa0 фестиваля\\xa0 награждаются дипломами и ценными подарками.\\r\\n\\n\\n\\n\\n\\r\\n\\t ФИНАНСОВЫЕ УСЛОВИЯ\\r\\n\\n\\r\\n\\t Оплата питания участников (обед) – за счет организаторов. Расходы по оплате проезда (до места проведения и\\xa0 обратно) несет направляющая сторона. \\xa0\\r\\n\\n\\n\\n\\n\\r\\n\\t СПРАВКИ ПО ТЕЛЕФОНАМ:\\r\\n\\n\\r\\n\\t Тел./факс: (8-831)96 4 17 82; Начальник отдела культуры Лукояновского муниципального района Семьина Л. В. \\xa0\\r\\n\\n\\r\\n\\t (8-831)96 4-19-09 – Специалисты отдела культуры Лукояновского муниципального района (8-831)96 4 12 12\\xa0 - Александрова Галина Алексеевна.\\r\\n\\n\\r\\n\\t E-mail:lukcult@yandex.ru\\n\\n\\n\\n\\n\\n\\n\\n\\n\\n\\n\\nРассказать друзьям\\n\\n\\n\\n \\n\\n\\n\\n'"
      ]
     },
     "execution_count": 45,
     "metadata": {},
     "output_type": "execute_result"
    }
   ],
   "source": [
    "gw = soup.find('div', {'class': 'global-wrapper'})\n",
    "gw.find('div', {'class': 'side-menu'}).extract()\n",
    "gw.text"
   ]
  },
  {
   "cell_type": "code",
   "execution_count": 34,
   "id": "c6976f9d",
   "metadata": {},
   "outputs": [
    {
     "name": "stdout",
     "output_type": "stream",
     "text": [
      "474\n"
     ]
    }
   ],
   "source": [
    "print(len(parsed_pages))"
   ]
  },
  {
   "cell_type": "code",
   "execution_count": 35,
   "id": "a8f6f3d5",
   "metadata": {},
   "outputs": [],
   "source": [
    "df = pd.DataFrame(parsed_pages)"
   ]
  },
  {
   "cell_type": "code",
   "execution_count": 36,
   "id": "907eba3b",
   "metadata": {},
   "outputs": [
    {
     "data": {
      "image/png": "[encoded data removed]",
      "text/plain": [
       "<Figure size 432x288 with 1 Axes>"
      ]
     },
     "metadata": {
      "needs_background": "light"
     },
     "output_type": "display_data"
    }
   ],
   "source": [
    "df.myv_score.hist(bins=100);"
   ]
  },
  {
   "cell_type": "code",
   "execution_count": 37,
   "id": "c8ad2e78",
   "metadata": {},
   "outputs": [
    {
     "data": {
      "text/plain": [
       "(68, 3)"
      ]
     },
     "execution_count": 37,
     "metadata": {},
     "output_type": "execute_result"
    }
   ],
   "source": [
    "df[df.myv_score>0.5].shape"
   ]
  },
  {
   "cell_type": "code",
   "execution_count": 42,
   "id": "205eca7d",
   "metadata": {},
   "outputs": [],
   "source": [
    "pd.options.display.max_colwidth = 500"
   ]
  },
  {
   "cell_type": "code",
   "execution_count": 53,
   "id": "4b878ffb",
   "metadata": {},
   "outputs": [
    {
     "data": {
      "text/html": [
       "<div>\n",
       "<style scoped>\n",
       "    .dataframe tbody tr th:only-of-type {\n",
       "        vertical-align: middle;\n",
       "    }\n",
       "\n",
       "    .dataframe tbody tr th {\n",
       "        vertical-align: top;\n",
       "    }\n",
       "\n",
       "    .dataframe thead th {\n",
       "        text-align: right;\n",
       "    }\n",
       "</style>\n",
       "<table border=\"1\" class=\"dataframe\">\n",
       "  <thead>\n",
       "    <tr style=\"text-align: right;\">\n",
       "      <th></th>\n",
       "      <th>url</th>\n",
       "      <th>body</th>\n",
       "      <th>myv_score</th>\n",
       "    </tr>\n",
       "  </thead>\n",
       "  <tbody>\n",
       "    <tr>\n",
       "      <th>348</th>\n",
       "      <td>http://goloserzi.ru/obshchestvo/deyatelnost/yunoshev-sergey-ivanovich-v-novom-proekte-moya-semya/</td>\n",
       "      <td>\\n\\n\\n\\n\\nГлавная\\n\\n\\n\\n\\n\\nОбщество\\n\\n\\n\\n\\nДеятельность\\n\\n\\n\\n\\n\\n28 Января 2016\\n\\n            2642        \\n\\n            Деятельность        \\n\\n\\nЮношев Сергей Иванович в новом проекте \"Моя семья\"\\n\\n\\n\\n\\n\\r\\n\\t 28.01.16 года в Постпредстве Республики Мордовия состоялось открытие новой традиции в нашей московской общине по проведению ежемесячных встреч по теме «Моя семья». Формат мероприятия подразумевает знакомство с семейными архивами интересных людей, знающих своих предков, пони...</td>\n",
       "      <td>0.0</td>\n",
       "    </tr>\n",
       "    <tr>\n",
       "      <th>367</th>\n",
       "      <td>http://goloserzi.ru/etnos/istoriya/vkhozhdenie-v-sostav-rossiyskogo-gosudarstva-xiv-xvi-veka/</td>\n",
       "      <td>\\n\\n\\n\\n\\nГлавная\\n\\n\\n\\n\\n\\nЭтнос\\n\\n\\n\\n\\nИстория\\n\\n\\n\\n\\n\\n26 Ноября 2015\\n\\n            19518        \\n\\n            История        \\n\\n\\nВхождение в состав Российского государства (XIV-XVI века)\\n\\n\\r\\n\\t К середине XV века не имевшая ни крепкой экономической базы, ни этнического единства и объединяемая лишь силой оружия, Золотая Орда окончательно распалась на несколько государств. Причерноморские степи и Крым составили владения Крымского ханства; низовья Волги — Астраханского; бассейн...</td>\n",
       "      <td>0.0</td>\n",
       "    </tr>\n",
       "    <tr>\n",
       "      <th>319</th>\n",
       "      <td>http://goloserzi.ru/etnos/simvolika/chuzhaya-meta-ruku-zhzhet/</td>\n",
       "      <td>\\n\\n\\n\\n\\nГлавная\\n\\n\\n\\n\\n\\nЭтнос\\n\\n\\n\\n\\nСимволика\\n\\n\\n\\n\\n\\n27 Ноября 2015\\n\\n            3945        \\n\\n            Символика        \\n\\n\\nЧужая мета руку жжет\\n\\n\\n\\n\\n\\r\\n\\t Мордовские магические знаки - «пазава», «тешкс», «серма» - интересовали  ученых еще в 17 веке.  Откуда они взялись, о чем рассказывают? Почему эти незамысловатые черточки, крестики, ромбы, которые ложатся то красной нитью на домотканую одежду, то еле заметной зарубкой на домашнюю утварь, так привлекают? Издавна ...</td>\n",
       "      <td>0.0</td>\n",
       "    </tr>\n",
       "  </tbody>\n",
       "</table>\n",
       "</div>"
      ],
      "text/plain": [
       "                                                                                                   url  \\\n",
       "348  http://goloserzi.ru/obshchestvo/deyatelnost/yunoshev-sergey-ivanovich-v-novom-proekte-moya-semya/   \n",
       "367      http://goloserzi.ru/etnos/istoriya/vkhozhdenie-v-sostav-rossiyskogo-gosudarstva-xiv-xvi-veka/   \n",
       "319                                     http://goloserzi.ru/etnos/simvolika/chuzhaya-meta-ruku-zhzhet/   \n",
       "\n",
       "                                                                                                                                                                                                                                                                                                                                                                                                                                                                                                                    body  \\\n",
       "348  \\n\\n\\n\\n\\nГлавная\\n\\n\\n\\n\\n\\nОбщество\\n\\n\\n\\n\\nДеятельность\\n\\n\\n\\n\\n\\n28 Января 2016\\n\\n            2642        \\n\\n            Деятельность        \\n\\n\\nЮношев Сергей Иванович в новом проекте \"Моя семья\"\\n\\n\\n\\n\\n\\r\\n\\t 28.01.16 года в Постпредстве Республики Мордовия состоялось открытие новой традиции в нашей московской общине по проведению ежемесячных встреч по теме «Моя семья». Формат мероприятия подразумевает знакомство с семейными архивами интересных людей, знающих своих предков, пони...   \n",
       "367  \\n\\n\\n\\n\\nГлавная\\n\\n\\n\\n\\n\\nЭтнос\\n\\n\\n\\n\\nИстория\\n\\n\\n\\n\\n\\n26 Ноября 2015\\n\\n            19518        \\n\\n            История        \\n\\n\\nВхождение в состав Российского государства (XIV-XVI века)\\n\\n\\r\\n\\t К середине XV века не имевшая ни крепкой экономической базы, ни этнического единства и объединяемая лишь силой оружия, Золотая Орда окончательно распалась на несколько государств. Причерноморские степи и Крым составили владения Крымского ханства; низовья Волги — Астраханского; бассейн...   \n",
       "319  \\n\\n\\n\\n\\nГлавная\\n\\n\\n\\n\\n\\nЭтнос\\n\\n\\n\\n\\nСимволика\\n\\n\\n\\n\\n\\n27 Ноября 2015\\n\\n            3945        \\n\\n            Символика        \\n\\n\\nЧужая мета руку жжет\\n\\n\\n\\n\\n\\r\\n\\t Мордовские магические знаки - «пазава», «тешкс», «серма» - интересовали  ученых еще в 17 веке.  Откуда они взялись, о чем рассказывают? Почему эти незамысловатые черточки, крестики, ромбы, которые ложатся то красной нитью на домотканую одежду, то еле заметной зарубкой на домашнюю утварь, так привлекают? Издавна ...   \n",
       "\n",
       "     myv_score  \n",
       "348        0.0  \n",
       "367        0.0  \n",
       "319        0.0  "
      ]
     },
     "execution_count": 53,
     "metadata": {},
     "output_type": "execute_result"
    }
   ],
   "source": [
    "df[df.myv_score<0.5].sample(3)"
   ]
  },
  {
   "cell_type": "code",
   "execution_count": 55,
   "id": "b65c733b",
   "metadata": {},
   "outputs": [
    {
     "data": {
      "text/plain": [
       "(68, 3)"
      ]
     },
     "execution_count": 55,
     "metadata": {},
     "output_type": "execute_result"
    }
   ],
   "source": [
    "df[df.myv_score>0.5].shape"
   ]
  },
  {
   "cell_type": "code",
   "execution_count": 65,
   "id": "40d70188",
   "metadata": {},
   "outputs": [
    {
     "data": {
      "text/html": [
       "<div>\n",
       "<style scoped>\n",
       "    .dataframe tbody tr th:only-of-type {\n",
       "        vertical-align: middle;\n",
       "    }\n",
       "\n",
       "    .dataframe tbody tr th {\n",
       "        vertical-align: top;\n",
       "    }\n",
       "\n",
       "    .dataframe thead th {\n",
       "        text-align: right;\n",
       "    }\n",
       "</style>\n",
       "<table border=\"1\" class=\"dataframe\">\n",
       "  <thead>\n",
       "    <tr style=\"text-align: right;\">\n",
       "      <th></th>\n",
       "      <th>url</th>\n",
       "      <th>body</th>\n",
       "      <th>myv_score</th>\n",
       "    </tr>\n",
       "  </thead>\n",
       "  <tbody>\n",
       "    <tr>\n",
       "      <th>71</th>\n",
       "      <td>http://goloserzi.ru/obshchestvo/avtorskie-rubriki/zachinayu-pesn-o-mastorave/epicheskoe-skazanie-kilyava/</td>\n",
       "      <td>\\n\\n\\n\\n\\nГлавная\\n\\n\\n\\n\\n\\nОбщество\\n\\n\\n\\n\\n\\nАвторские рубрики\\n\\n\\n\\n\\nЗачинаю песнь о Мастораве\\n\\n\\n\\n\\n\\n27 Февраля 2016\\n\\n            2603        \\n\\n            Зачинаю песнь о Мастораве        \\n\\n\\nЭпическое сказание \"Килява\"\\n\\nПоэтический перевод с эрзянского\\r\\nязыка Татьяны Ротановой (Фоминой)\\nЭпическое сказание\\r\\n«Килява»\\n \\nОй,\\r\\nда высью, высью летят утки, \\r\\nОй, да выше выси летят гуси. \\r\\nОй, куда, куда есть опустятся? \\r\\nОй, куда, куда пить опустятся? \\r\\nНа зел...</td>\n",
       "      <td>1.0</td>\n",
       "    </tr>\n",
       "    <tr>\n",
       "      <th>170</th>\n",
       "      <td>http://goloserzi.ru/obshchestvo/avtorskie-rubriki/santyay-kulyat/vserossiyskaya-literaturnaya-premiya/</td>\n",
       "      <td>\\n\\n\\n\\n\\nГлавная\\n\\n\\n\\n\\n\\nОбщество\\n\\n\\n\\n\\n\\nАвторские рубрики\\n\\n\\n\\n\\nСантяй-кулят\\n\\n\\n\\n\\n\\n21 Февраля 2016\\n\\n            1891        \\n\\n            Сантяй-кулят        \\n\\n\\nВсероссийская литературная премия\\n\\n\\n\\n\\n\\r\\n\\t Всероссийская литературная премия за лучший художественный перевод «Словес связующая нить» вручена 16 февраля в Москве коллективу переводчиков стихов Дмитрия Мизгулина «Когда-то солнце было Богом» с русского на финно-угорские языки. В торжественном мероприятии ...</td>\n",
       "      <td>1.0</td>\n",
       "    </tr>\n",
       "    <tr>\n",
       "      <th>200</th>\n",
       "      <td>http://goloserzi.ru/obshchestvo/avtorskie-rubriki/novoe-ot-tamary-bargovoy/erzyanskie-pesni-v-bolgarii/</td>\n",
       "      <td>\\n\\n\\n\\n\\nГлавная\\n\\n\\n\\n\\n\\nОбщество\\n\\n\\n\\n\\n\\nАвторские рубрики\\n\\n\\n\\n\\nНовое от Тамары Барговой\\n\\n\\n\\n\\n\\n28 Июня 2016\\n\\n            1902        \\n\\n            Новое от Тамары Барговой        \\n\\n\\nЭрзянские песни в Болгарии\\n\\n\\n\\n\\n\\r\\n\\t Разве могла я подумать, что буду петь наши эрзянские песни… в Болгарии?!\\r\\n\\n\\r\\n\\t А вот случилось! Дочь взяла путевку на отдых для двоих в Болгарию: для себя и для меня. Но у нее в жизни случились очень важные перемены: любимый позвал замуж. Ка...</td>\n",
       "      <td>1.0</td>\n",
       "    </tr>\n",
       "  </tbody>\n",
       "</table>\n",
       "</div>"
      ],
      "text/plain": [
       "                                                                                                           url  \\\n",
       "71   http://goloserzi.ru/obshchestvo/avtorskie-rubriki/zachinayu-pesn-o-mastorave/epicheskoe-skazanie-kilyava/   \n",
       "170     http://goloserzi.ru/obshchestvo/avtorskie-rubriki/santyay-kulyat/vserossiyskaya-literaturnaya-premiya/   \n",
       "200    http://goloserzi.ru/obshchestvo/avtorskie-rubriki/novoe-ot-tamary-bargovoy/erzyanskie-pesni-v-bolgarii/   \n",
       "\n",
       "                                                                                                                                                                                                                                                                                                                                                                                                                                                                                                                    body  \\\n",
       "71   \\n\\n\\n\\n\\nГлавная\\n\\n\\n\\n\\n\\nОбщество\\n\\n\\n\\n\\n\\nАвторские рубрики\\n\\n\\n\\n\\nЗачинаю песнь о Мастораве\\n\\n\\n\\n\\n\\n27 Февраля 2016\\n\\n            2603        \\n\\n            Зачинаю песнь о Мастораве        \\n\\n\\nЭпическое сказание \"Килява\"\\n\\nПоэтический перевод с эрзянского\\r\\nязыка Татьяны Ротановой (Фоминой)\\nЭпическое сказание\\r\\n«Килява»\\n \\nОй,\\r\\nда высью, высью летят утки, \\r\\nОй, да выше выси летят гуси. \\r\\nОй, куда, куда есть опустятся? \\r\\nОй, куда, куда пить опустятся? \\r\\nНа зел...   \n",
       "170  \\n\\n\\n\\n\\nГлавная\\n\\n\\n\\n\\n\\nОбщество\\n\\n\\n\\n\\n\\nАвторские рубрики\\n\\n\\n\\n\\nСантяй-кулят\\n\\n\\n\\n\\n\\n21 Февраля 2016\\n\\n            1891        \\n\\n            Сантяй-кулят        \\n\\n\\nВсероссийская литературная премия\\n\\n\\n\\n\\n\\r\\n\\t Всероссийская литературная премия за лучший художественный перевод «Словес связующая нить» вручена 16 февраля в Москве коллективу переводчиков стихов Дмитрия Мизгулина «Когда-то солнце было Богом» с русского на финно-угорские языки. В торжественном мероприятии ...   \n",
       "200  \\n\\n\\n\\n\\nГлавная\\n\\n\\n\\n\\n\\nОбщество\\n\\n\\n\\n\\n\\nАвторские рубрики\\n\\n\\n\\n\\nНовое от Тамары Барговой\\n\\n\\n\\n\\n\\n28 Июня 2016\\n\\n            1902        \\n\\n            Новое от Тамары Барговой        \\n\\n\\nЭрзянские песни в Болгарии\\n\\n\\n\\n\\n\\r\\n\\t Разве могла я подумать, что буду петь наши эрзянские песни… в Болгарии?!\\r\\n\\n\\r\\n\\t А вот случилось! Дочь взяла путевку на отдых для двоих в Болгарию: для себя и для меня. Но у нее в жизни случились очень важные перемены: любимый позвал замуж. Ка...   \n",
       "\n",
       "     myv_score  \n",
       "71         1.0  \n",
       "170        1.0  \n",
       "200        1.0  "
      ]
     },
     "execution_count": 65,
     "metadata": {},
     "output_type": "execute_result"
    }
   ],
   "source": [
    "df[df.myv_score>0.5].sample(3)"
   ]
  },
  {
   "cell_type": "code",
   "execution_count": 62,
   "id": "74bcda11",
   "metadata": {},
   "outputs": [
    {
     "data": {
      "text/plain": [
       "{'myv': 1.0, 'ru': 5.427421370557627e-64}"
      ]
     },
     "execution_count": 62,
     "metadata": {},
     "output_type": "execute_result"
    }
   ],
   "source": [
    "get_langs(text)"
   ]
  },
  {
   "cell_type": "markdown",
   "id": "2aa5a66a",
   "metadata": {},
   "source": [
    "The dataset is small and noisy, so I will not bother with it."
   ]
  },
  {
   "cell_type": "code",
   "execution_count": 66,
   "id": "9195e46f",
   "metadata": {},
   "outputs": [],
   "source": [
    "# df[df.myv_score>0.5].to_csv('other_sources/goloserzi.tsv', sep='\\t', index=None)"
   ]
  },
  {
   "cell_type": "code",
   "execution_count": null,
   "id": "d7d77750",
   "metadata": {},
   "outputs": [],
   "source": []
  }
 ],
 "metadata": {
  "kernelspec": {
   "display_name": "Python 3 (ipykernel)",
   "language": "python",
   "name": "python3"
  },
  "language_info": {
   "codemirror_mode": {
    "name": "ipython",
    "version": 3
   },
   "file_extension": ".py",
   "mimetype": "text/x-python",
   "name": "python",
   "nbconvert_exporter": "python",
   "pygments_lexer": "ipython3",
   "version": "3.9.6"
  }
 },
 "nbformat": 4,
 "nbformat_minor": 5
}
