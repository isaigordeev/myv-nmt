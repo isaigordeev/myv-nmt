{
  "nbformat": 4,
  "nbformat_minor": 0,
  "metadata": {
    "colab": {
      "provenance": [],
      "collapsed_sections": [],
      "toc_visible": true
    },
    "kernelspec": {
      "name": "python3",
      "display_name": "Python 3"
    },
    "language_info": {
      "name": "python"
    },
    "accelerator": "GPU",
    "gpuClass": "standard",
    "widgets": {
      "application/vnd.jupyter.widget-state+json": {
        "cc1b106444cc4b1eab03db4c7b8070bf": {
          "model_module": "@jupyter-widgets/controls",
          "model_name": "HBoxModel",
          "model_module_version": "1.5.0",
          "state": {
            "_dom_classes": [],
            "_model_module": "@jupyter-widgets/controls",
            "_model_module_version": "1.5.0",
            "_model_name": "HBoxModel",
            "_view_count": null,
            "_view_module": "@jupyter-widgets/controls",
            "_view_module_version": "1.5.0",
            "_view_name": "HBoxView",
            "box_style": "",
            "children": [
              "IPY_MODEL_cb6faf9b555d4eacbffbad703430453d",
              "IPY_MODEL_ebae154c889a4570898012cbf07c32e6",
              "IPY_MODEL_48ee06d5a8c04bb68f068a98265f8264"
            ],
            "layout": "IPY_MODEL_075dcfd7f1d245389abf99ce798814d9"
          }
        },
        "cb6faf9b555d4eacbffbad703430453d": {
          "model_module": "@jupyter-widgets/controls",
          "model_name": "HTMLModel",
          "model_module_version": "1.5.0",
          "state": {
            "_dom_classes": [],
            "_model_module": "@jupyter-widgets/controls",
            "_model_module_version": "1.5.0",
            "_model_name": "HTMLModel",
            "_view_count": null,
            "_view_module": "@jupyter-widgets/controls",
            "_view_module_version": "1.5.0",
            "_view_name": "HTMLView",
            "description": "",
            "description_tooltip": null,
            "layout": "IPY_MODEL_72be02547a4c4508853ccbe655a83556",
            "placeholder": "​",
            "style": "IPY_MODEL_57d13bfefd2a43269e32934d7a982b8c",
            "value": "100%"
          }
        },
        "ebae154c889a4570898012cbf07c32e6": {
          "model_module": "@jupyter-widgets/controls",
          "model_name": "FloatProgressModel",
          "model_module_version": "1.5.0",
          "state": {
            "_dom_classes": [],
            "_model_module": "@jupyter-widgets/controls",
            "_model_module_version": "1.5.0",
            "_model_name": "FloatProgressModel",
            "_view_count": null,
            "_view_module": "@jupyter-widgets/controls",
            "_view_module_version": "1.5.0",
            "_view_name": "ProgressView",
            "bar_style": "success",
            "description": "",
            "description_tooltip": null,
            "layout": "IPY_MODEL_354704e27a6943dd9d06b130b7c75162",
            "max": 221,
            "min": 0,
            "orientation": "horizontal",
            "style": "IPY_MODEL_6c91599d456b42fa9d59ca8be807c774",
            "value": 221
          }
        },
        "48ee06d5a8c04bb68f068a98265f8264": {
          "model_module": "@jupyter-widgets/controls",
          "model_name": "HTMLModel",
          "model_module_version": "1.5.0",
          "state": {
            "_dom_classes": [],
            "_model_module": "@jupyter-widgets/controls",
            "_model_module_version": "1.5.0",
            "_model_name": "HTMLModel",
            "_view_count": null,
            "_view_module": "@jupyter-widgets/controls",
            "_view_module_version": "1.5.0",
            "_view_name": "HTMLView",
            "description": "",
            "description_tooltip": null,
            "layout": "IPY_MODEL_634b8eca5f3942f8af5f47a5138580fb",
            "placeholder": "​",
            "style": "IPY_MODEL_5e47d1a82509467cb9a6ef1fc0d1451f",
            "value": " 221/221 [03:14&lt;00:00,  1.20it/s]"
          }
        },
        "075dcfd7f1d245389abf99ce798814d9": {
          "model_module": "@jupyter-widgets/base",
          "model_name": "LayoutModel",
          "model_module_version": "1.2.0",
          "state": {
            "_model_module": "@jupyter-widgets/base",
            "_model_module_version": "1.2.0",
            "_model_name": "LayoutModel",
            "_view_count": null,
            "_view_module": "@jupyter-widgets/base",
            "_view_module_version": "1.2.0",
            "_view_name": "LayoutView",
            "align_content": null,
            "align_items": null,
            "align_self": null,
            "border": null,
            "bottom": null,
            "display": null,
            "flex": null,
            "flex_flow": null,
            "grid_area": null,
            "grid_auto_columns": null,
            "grid_auto_flow": null,
            "grid_auto_rows": null,
            "grid_column": null,
            "grid_gap": null,
            "grid_row": null,
            "grid_template_areas": null,
            "grid_template_columns": null,
            "grid_template_rows": null,
            "height": null,
            "justify_content": null,
            "justify_items": null,
            "left": null,
            "margin": null,
            "max_height": null,
            "max_width": null,
            "min_height": null,
            "min_width": null,
            "object_fit": null,
            "object_position": null,
            "order": null,
            "overflow": null,
            "overflow_x": null,
            "overflow_y": null,
            "padding": null,
            "right": null,
            "top": null,
            "visibility": null,
            "width": null
          }
        },
        "72be02547a4c4508853ccbe655a83556": {
          "model_module": "@jupyter-widgets/base",
          "model_name": "LayoutModel",
          "model_module_version": "1.2.0",
          "state": {
            "_model_module": "@jupyter-widgets/base",
            "_model_module_version": "1.2.0",
            "_model_name": "LayoutModel",
            "_view_count": null,
            "_view_module": "@jupyter-widgets/base",
            "_view_module_version": "1.2.0",
            "_view_name": "LayoutView",
            "align_content": null,
            "align_items": null,
            "align_self": null,
            "border": null,
            "bottom": null,
            "display": null,
            "flex": null,
            "flex_flow": null,
            "grid_area": null,
            "grid_auto_columns": null,
            "grid_auto_flow": null,
            "grid_auto_rows": null,
            "grid_column": null,
            "grid_gap": null,
            "grid_row": null,
            "grid_template_areas": null,
            "grid_template_columns": null,
            "grid_template_rows": null,
            "height": null,
            "justify_content": null,
            "justify_items": null,
            "left": null,
            "margin": null,
            "max_height": null,
            "max_width": null,
            "min_height": null,
            "min_width": null,
            "object_fit": null,
            "object_position": null,
            "order": null,
            "overflow": null,
            "overflow_x": null,
            "overflow_y": null,
            "padding": null,
            "right": null,
            "top": null,
            "visibility": null,
            "width": null
          }
        },
        "57d13bfefd2a43269e32934d7a982b8c": {
          "model_module": "@jupyter-widgets/controls",
          "model_name": "DescriptionStyleModel",
          "model_module_version": "1.5.0",
          "state": {
            "_model_module": "@jupyter-widgets/controls",
            "_model_module_version": "1.5.0",
            "_model_name": "DescriptionStyleModel",
            "_view_count": null,
            "_view_module": "@jupyter-widgets/base",
            "_view_module_version": "1.2.0",
            "_view_name": "StyleView",
            "description_width": ""
          }
        },
        "354704e27a6943dd9d06b130b7c75162": {
          "model_module": "@jupyter-widgets/base",
          "model_name": "LayoutModel",
          "model_module_version": "1.2.0",
          "state": {
            "_model_module": "@jupyter-widgets/base",
            "_model_module_version": "1.2.0",
            "_model_name": "LayoutModel",
            "_view_count": null,
            "_view_module": "@jupyter-widgets/base",
            "_view_module_version": "1.2.0",
            "_view_name": "LayoutView",
            "align_content": null,
            "align_items": null,
            "align_self": null,
            "border": null,
            "bottom": null,
            "display": null,
            "flex": null,
            "flex_flow": null,
            "grid_area": null,
            "grid_auto_columns": null,
            "grid_auto_flow": null,
            "grid_auto_rows": null,
            "grid_column": null,
            "grid_gap": null,
            "grid_row": null,
            "grid_template_areas": null,
            "grid_template_columns": null,
            "grid_template_rows": null,
            "height": null,
            "justify_content": null,
            "justify_items": null,
            "left": null,
            "margin": null,
            "max_height": null,
            "max_width": null,
            "min_height": null,
            "min_width": null,
            "object_fit": null,
            "object_position": null,
            "order": null,
            "overflow": null,
            "overflow_x": null,
            "overflow_y": null,
            "padding": null,
            "right": null,
            "top": null,
            "visibility": null,
            "width": null
          }
        },
        "6c91599d456b42fa9d59ca8be807c774": {
          "model_module": "@jupyter-widgets/controls",
          "model_name": "ProgressStyleModel",
          "model_module_version": "1.5.0",
          "state": {
            "_model_module": "@jupyter-widgets/controls",
            "_model_module_version": "1.5.0",
            "_model_name": "ProgressStyleModel",
            "_view_count": null,
            "_view_module": "@jupyter-widgets/base",
            "_view_module_version": "1.2.0",
            "_view_name": "StyleView",
            "bar_color": null,
            "description_width": ""
          }
        },
        "634b8eca5f3942f8af5f47a5138580fb": {
          "model_module": "@jupyter-widgets/base",
          "model_name": "LayoutModel",
          "model_module_version": "1.2.0",
          "state": {
            "_model_module": "@jupyter-widgets/base",
            "_model_module_version": "1.2.0",
            "_model_name": "LayoutModel",
            "_view_count": null,
            "_view_module": "@jupyter-widgets/base",
            "_view_module_version": "1.2.0",
            "_view_name": "LayoutView",
            "align_content": null,
            "align_items": null,
            "align_self": null,
            "border": null,
            "bottom": null,
            "display": null,
            "flex": null,
            "flex_flow": null,
            "grid_area": null,
            "grid_auto_columns": null,
            "grid_auto_flow": null,
            "grid_auto_rows": null,
            "grid_column": null,
            "grid_gap": null,
            "grid_row": null,
            "grid_template_areas": null,
            "grid_template_columns": null,
            "grid_template_rows": null,
            "height": null,
            "justify_content": null,
            "justify_items": null,
            "left": null,
            "margin": null,
            "max_height": null,
            "max_width": null,
            "min_height": null,
            "min_width": null,
            "object_fit": null,
            "object_position": null,
            "order": null,
            "overflow": null,
            "overflow_x": null,
            "overflow_y": null,
            "padding": null,
            "right": null,
            "top": null,
            "visibility": null,
            "width": null
          }
        },
        "5e47d1a82509467cb9a6ef1fc0d1451f": {
          "model_module": "@jupyter-widgets/controls",
          "model_name": "DescriptionStyleModel",
          "model_module_version": "1.5.0",
          "state": {
            "_model_module": "@jupyter-widgets/controls",
            "_model_module_version": "1.5.0",
            "_model_name": "DescriptionStyleModel",
            "_view_count": null,
            "_view_module": "@jupyter-widgets/base",
            "_view_module_version": "1.2.0",
            "_view_name": "StyleView",
            "description_width": ""
          }
        },
        "f22429b618864432b01bdc183a8b1c2e": {
          "model_module": "@jupyter-widgets/controls",
          "model_name": "HBoxModel",
          "model_module_version": "1.5.0",
          "state": {
            "_dom_classes": [],
            "_model_module": "@jupyter-widgets/controls",
            "_model_module_version": "1.5.0",
            "_model_name": "HBoxModel",
            "_view_count": null,
            "_view_module": "@jupyter-widgets/controls",
            "_view_module_version": "1.5.0",
            "_view_name": "HBoxView",
            "box_style": "",
            "children": [
              "IPY_MODEL_7280932302ee4f2c93b8af4f472fcb89",
              "IPY_MODEL_4ff373535d134ca882ca3cd859733613",
              "IPY_MODEL_33474e5f9f4842ac9fe8dbe4a3446fd3"
            ],
            "layout": "IPY_MODEL_f7ff3df9a8e54e32b73ebc79cb44ee10"
          }
        },
        "7280932302ee4f2c93b8af4f472fcb89": {
          "model_module": "@jupyter-widgets/controls",
          "model_name": "HTMLModel",
          "model_module_version": "1.5.0",
          "state": {
            "_dom_classes": [],
            "_model_module": "@jupyter-widgets/controls",
            "_model_module_version": "1.5.0",
            "_model_name": "HTMLModel",
            "_view_count": null,
            "_view_module": "@jupyter-widgets/controls",
            "_view_module_version": "1.5.0",
            "_view_name": "HTMLView",
            "description": "",
            "description_tooltip": null,
            "layout": "IPY_MODEL_4b9dd9e2b8c542cfa1d458f21739ba55",
            "placeholder": "​",
            "style": "IPY_MODEL_4c582fef2bf4487fb12428f9362849a4",
            "value": "100%"
          }
        },
        "4ff373535d134ca882ca3cd859733613": {
          "model_module": "@jupyter-widgets/controls",
          "model_name": "FloatProgressModel",
          "model_module_version": "1.5.0",
          "state": {
            "_dom_classes": [],
            "_model_module": "@jupyter-widgets/controls",
            "_model_module_version": "1.5.0",
            "_model_name": "FloatProgressModel",
            "_view_count": null,
            "_view_module": "@jupyter-widgets/controls",
            "_view_module_version": "1.5.0",
            "_view_name": "ProgressView",
            "bar_style": "success",
            "description": "",
            "description_tooltip": null,
            "layout": "IPY_MODEL_01462c0aff8148d2a54f0cc4811e7fbb",
            "max": 155,
            "min": 0,
            "orientation": "horizontal",
            "style": "IPY_MODEL_08dc03deae3a4890a94b0bfa27f6080b",
            "value": 155
          }
        },
        "33474e5f9f4842ac9fe8dbe4a3446fd3": {
          "model_module": "@jupyter-widgets/controls",
          "model_name": "HTMLModel",
          "model_module_version": "1.5.0",
          "state": {
            "_dom_classes": [],
            "_model_module": "@jupyter-widgets/controls",
            "_model_module_version": "1.5.0",
            "_model_name": "HTMLModel",
            "_view_count": null,
            "_view_module": "@jupyter-widgets/controls",
            "_view_module_version": "1.5.0",
            "_view_name": "HTMLView",
            "description": "",
            "description_tooltip": null,
            "layout": "IPY_MODEL_cbb98f8e4b3f42a3a03237bfacd07b80",
            "placeholder": "​",
            "style": "IPY_MODEL_fe99c152de24425797d7744bd555799d",
            "value": " 155/155 [02:31&lt;00:00,  1.06s/it]"
          }
        },
        "f7ff3df9a8e54e32b73ebc79cb44ee10": {
          "model_module": "@jupyter-widgets/base",
          "model_name": "LayoutModel",
          "model_module_version": "1.2.0",
          "state": {
            "_model_module": "@jupyter-widgets/base",
            "_model_module_version": "1.2.0",
            "_model_name": "LayoutModel",
            "_view_count": null,
            "_view_module": "@jupyter-widgets/base",
            "_view_module_version": "1.2.0",
            "_view_name": "LayoutView",
            "align_content": null,
            "align_items": null,
            "align_self": null,
            "border": null,
            "bottom": null,
            "display": null,
            "flex": null,
            "flex_flow": null,
            "grid_area": null,
            "grid_auto_columns": null,
            "grid_auto_flow": null,
            "grid_auto_rows": null,
            "grid_column": null,
            "grid_gap": null,
            "grid_row": null,
            "grid_template_areas": null,
            "grid_template_columns": null,
            "grid_template_rows": null,
            "height": null,
            "justify_content": null,
            "justify_items": null,
            "left": null,
            "margin": null,
            "max_height": null,
            "max_width": null,
            "min_height": null,
            "min_width": null,
            "object_fit": null,
            "object_position": null,
            "order": null,
            "overflow": null,
            "overflow_x": null,
            "overflow_y": null,
            "padding": null,
            "right": null,
            "top": null,
            "visibility": null,
            "width": null
          }
        },
        "4b9dd9e2b8c542cfa1d458f21739ba55": {
          "model_module": "@jupyter-widgets/base",
          "model_name": "LayoutModel",
          "model_module_version": "1.2.0",
          "state": {
            "_model_module": "@jupyter-widgets/base",
            "_model_module_version": "1.2.0",
            "_model_name": "LayoutModel",
            "_view_count": null,
            "_view_module": "@jupyter-widgets/base",
            "_view_module_version": "1.2.0",
            "_view_name": "LayoutView",
            "align_content": null,
            "align_items": null,
            "align_self": null,
            "border": null,
            "bottom": null,
            "display": null,
            "flex": null,
            "flex_flow": null,
            "grid_area": null,
            "grid_auto_columns": null,
            "grid_auto_flow": null,
            "grid_auto_rows": null,
            "grid_column": null,
            "grid_gap": null,
            "grid_row": null,
            "grid_template_areas": null,
            "grid_template_columns": null,
            "grid_template_rows": null,
            "height": null,
            "justify_content": null,
            "justify_items": null,
            "left": null,
            "margin": null,
            "max_height": null,
            "max_width": null,
            "min_height": null,
            "min_width": null,
            "object_fit": null,
            "object_position": null,
            "order": null,
            "overflow": null,
            "overflow_x": null,
            "overflow_y": null,
            "padding": null,
            "right": null,
            "top": null,
            "visibility": null,
            "width": null
          }
        },
        "4c582fef2bf4487fb12428f9362849a4": {
          "model_module": "@jupyter-widgets/controls",
          "model_name": "DescriptionStyleModel",
          "model_module_version": "1.5.0",
          "state": {
            "_model_module": "@jupyter-widgets/controls",
            "_model_module_version": "1.5.0",
            "_model_name": "DescriptionStyleModel",
            "_view_count": null,
            "_view_module": "@jupyter-widgets/base",
            "_view_module_version": "1.2.0",
            "_view_name": "StyleView",
            "description_width": ""
          }
        },
        "01462c0aff8148d2a54f0cc4811e7fbb": {
          "model_module": "@jupyter-widgets/base",
          "model_name": "LayoutModel",
          "model_module_version": "1.2.0",
          "state": {
            "_model_module": "@jupyter-widgets/base",
            "_model_module_version": "1.2.0",
            "_model_name": "LayoutModel",
            "_view_count": null,
            "_view_module": "@jupyter-widgets/base",
            "_view_module_version": "1.2.0",
            "_view_name": "LayoutView",
            "align_content": null,
            "align_items": null,
            "align_self": null,
            "border": null,
            "bottom": null,
            "display": null,
            "flex": null,
            "flex_flow": null,
            "grid_area": null,
            "grid_auto_columns": null,
            "grid_auto_flow": null,
            "grid_auto_rows": null,
            "grid_column": null,
            "grid_gap": null,
            "grid_row": null,
            "grid_template_areas": null,
            "grid_template_columns": null,
            "grid_template_rows": null,
            "height": null,
            "justify_content": null,
            "justify_items": null,
            "left": null,
            "margin": null,
            "max_height": null,
            "max_width": null,
            "min_height": null,
            "min_width": null,
            "object_fit": null,
            "object_position": null,
            "order": null,
            "overflow": null,
            "overflow_x": null,
            "overflow_y": null,
            "padding": null,
            "right": null,
            "top": null,
            "visibility": null,
            "width": null
          }
        },
        "08dc03deae3a4890a94b0bfa27f6080b": {
          "model_module": "@jupyter-widgets/controls",
          "model_name": "ProgressStyleModel",
          "model_module_version": "1.5.0",
          "state": {
            "_model_module": "@jupyter-widgets/controls",
            "_model_module_version": "1.5.0",
            "_model_name": "ProgressStyleModel",
            "_view_count": null,
            "_view_module": "@jupyter-widgets/base",
            "_view_module_version": "1.2.0",
            "_view_name": "StyleView",
            "bar_color": null,
            "description_width": ""
          }
        },
        "cbb98f8e4b3f42a3a03237bfacd07b80": {
          "model_module": "@jupyter-widgets/base",
          "model_name": "LayoutModel",
          "model_module_version": "1.2.0",
          "state": {
            "_model_module": "@jupyter-widgets/base",
            "_model_module_version": "1.2.0",
            "_model_name": "LayoutModel",
            "_view_count": null,
            "_view_module": "@jupyter-widgets/base",
            "_view_module_version": "1.2.0",
            "_view_name": "LayoutView",
            "align_content": null,
            "align_items": null,
            "align_self": null,
            "border": null,
            "bottom": null,
            "display": null,
            "flex": null,
            "flex_flow": null,
            "grid_area": null,
            "grid_auto_columns": null,
            "grid_auto_flow": null,
            "grid_auto_rows": null,
            "grid_column": null,
            "grid_gap": null,
            "grid_row": null,
            "grid_template_areas": null,
            "grid_template_columns": null,
            "grid_template_rows": null,
            "height": null,
            "justify_content": null,
            "justify_items": null,
            "left": null,
            "margin": null,
            "max_height": null,
            "max_width": null,
            "min_height": null,
            "min_width": null,
            "object_fit": null,
            "object_position": null,
            "order": null,
            "overflow": null,
            "overflow_x": null,
            "overflow_y": null,
            "padding": null,
            "right": null,
            "top": null,
            "visibility": null,
            "width": null
          }
        },
        "fe99c152de24425797d7744bd555799d": {
          "model_module": "@jupyter-widgets/controls",
          "model_name": "DescriptionStyleModel",
          "model_module_version": "1.5.0",
          "state": {
            "_model_module": "@jupyter-widgets/controls",
            "_model_module_version": "1.5.0",
            "_model_name": "DescriptionStyleModel",
            "_view_count": null,
            "_view_module": "@jupyter-widgets/base",
            "_view_module_version": "1.2.0",
            "_view_name": "StyleView",
            "description_width": ""
          }
        },
        "2c854a3b5e114df3b0fb0a751032c72d": {
          "model_module": "@jupyter-widgets/controls",
          "model_name": "HBoxModel",
          "model_module_version": "1.5.0",
          "state": {
            "_dom_classes": [],
            "_model_module": "@jupyter-widgets/controls",
            "_model_module_version": "1.5.0",
            "_model_name": "HBoxModel",
            "_view_count": null,
            "_view_module": "@jupyter-widgets/controls",
            "_view_module_version": "1.5.0",
            "_view_name": "HBoxView",
            "box_style": "",
            "children": [
              "IPY_MODEL_536ace3fc62e418f85740ed473f32487",
              "IPY_MODEL_3ab5795282104a27a279ae09b5868dff",
              "IPY_MODEL_ae837fda80ec4e84ab7cb1333882ca7a"
            ],
            "layout": "IPY_MODEL_f33b9d5fc6ea46ec91b90a2900e1dd4a"
          }
        },
        "536ace3fc62e418f85740ed473f32487": {
          "model_module": "@jupyter-widgets/controls",
          "model_name": "HTMLModel",
          "model_module_version": "1.5.0",
          "state": {
            "_dom_classes": [],
            "_model_module": "@jupyter-widgets/controls",
            "_model_module_version": "1.5.0",
            "_model_name": "HTMLModel",
            "_view_count": null,
            "_view_module": "@jupyter-widgets/controls",
            "_view_module_version": "1.5.0",
            "_view_name": "HTMLView",
            "description": "",
            "description_tooltip": null,
            "layout": "IPY_MODEL_7bb4b29337404266bc290b9d4424ff83",
            "placeholder": "​",
            "style": "IPY_MODEL_e836c4d910034e169d4f29a1e00984ca",
            "value": "100%"
          }
        },
        "3ab5795282104a27a279ae09b5868dff": {
          "model_module": "@jupyter-widgets/controls",
          "model_name": "FloatProgressModel",
          "model_module_version": "1.5.0",
          "state": {
            "_dom_classes": [],
            "_model_module": "@jupyter-widgets/controls",
            "_model_module_version": "1.5.0",
            "_model_name": "FloatProgressModel",
            "_view_count": null,
            "_view_module": "@jupyter-widgets/controls",
            "_view_module_version": "1.5.0",
            "_view_name": "ProgressView",
            "bar_style": "success",
            "description": "",
            "description_tooltip": null,
            "layout": "IPY_MODEL_9b457a7880f04deba21d59b2984f1235",
            "max": 221,
            "min": 0,
            "orientation": "horizontal",
            "style": "IPY_MODEL_1666e0772beb4791abb73908a705f5b2",
            "value": 221
          }
        },
        "ae837fda80ec4e84ab7cb1333882ca7a": {
          "model_module": "@jupyter-widgets/controls",
          "model_name": "HTMLModel",
          "model_module_version": "1.5.0",
          "state": {
            "_dom_classes": [],
            "_model_module": "@jupyter-widgets/controls",
            "_model_module_version": "1.5.0",
            "_model_name": "HTMLModel",
            "_view_count": null,
            "_view_module": "@jupyter-widgets/controls",
            "_view_module_version": "1.5.0",
            "_view_name": "HTMLView",
            "description": "",
            "description_tooltip": null,
            "layout": "IPY_MODEL_83740952ae104030896419fd2caeda7a",
            "placeholder": "​",
            "style": "IPY_MODEL_c8f426bb973343e29aa089a821bdc01b",
            "value": " 221/221 [02:58&lt;00:00,  1.34it/s]"
          }
        },
        "f33b9d5fc6ea46ec91b90a2900e1dd4a": {
          "model_module": "@jupyter-widgets/base",
          "model_name": "LayoutModel",
          "model_module_version": "1.2.0",
          "state": {
            "_model_module": "@jupyter-widgets/base",
            "_model_module_version": "1.2.0",
            "_model_name": "LayoutModel",
            "_view_count": null,
            "_view_module": "@jupyter-widgets/base",
            "_view_module_version": "1.2.0",
            "_view_name": "LayoutView",
            "align_content": null,
            "align_items": null,
            "align_self": null,
            "border": null,
            "bottom": null,
            "display": null,
            "flex": null,
            "flex_flow": null,
            "grid_area": null,
            "grid_auto_columns": null,
            "grid_auto_flow": null,
            "grid_auto_rows": null,
            "grid_column": null,
            "grid_gap": null,
            "grid_row": null,
            "grid_template_areas": null,
            "grid_template_columns": null,
            "grid_template_rows": null,
            "height": null,
            "justify_content": null,
            "justify_items": null,
            "left": null,
            "margin": null,
            "max_height": null,
            "max_width": null,
            "min_height": null,
            "min_width": null,
            "object_fit": null,
            "object_position": null,
            "order": null,
            "overflow": null,
            "overflow_x": null,
            "overflow_y": null,
            "padding": null,
            "right": null,
            "top": null,
            "visibility": null,
            "width": null
          }
        },
        "7bb4b29337404266bc290b9d4424ff83": {
          "model_module": "@jupyter-widgets/base",
          "model_name": "LayoutModel",
          "model_module_version": "1.2.0",
          "state": {
            "_model_module": "@jupyter-widgets/base",
            "_model_module_version": "1.2.0",
            "_model_name": "LayoutModel",
            "_view_count": null,
            "_view_module": "@jupyter-widgets/base",
            "_view_module_version": "1.2.0",
            "_view_name": "LayoutView",
            "align_content": null,
            "align_items": null,
            "align_self": null,
            "border": null,
            "bottom": null,
            "display": null,
            "flex": null,
            "flex_flow": null,
            "grid_area": null,
            "grid_auto_columns": null,
            "grid_auto_flow": null,
            "grid_auto_rows": null,
            "grid_column": null,
            "grid_gap": null,
            "grid_row": null,
            "grid_template_areas": null,
            "grid_template_columns": null,
            "grid_template_rows": null,
            "height": null,
            "justify_content": null,
            "justify_items": null,
            "left": null,
            "margin": null,
            "max_height": null,
            "max_width": null,
            "min_height": null,
            "min_width": null,
            "object_fit": null,
            "object_position": null,
            "order": null,
            "overflow": null,
            "overflow_x": null,
            "overflow_y": null,
            "padding": null,
            "right": null,
            "top": null,
            "visibility": null,
            "width": null
          }
        },
        "e836c4d910034e169d4f29a1e00984ca": {
          "model_module": "@jupyter-widgets/controls",
          "model_name": "DescriptionStyleModel",
          "model_module_version": "1.5.0",
          "state": {
            "_model_module": "@jupyter-widgets/controls",
            "_model_module_version": "1.5.0",
            "_model_name": "DescriptionStyleModel",
            "_view_count": null,
            "_view_module": "@jupyter-widgets/base",
            "_view_module_version": "1.2.0",
            "_view_name": "StyleView",
            "description_width": ""
          }
        },
        "9b457a7880f04deba21d59b2984f1235": {
          "model_module": "@jupyter-widgets/base",
          "model_name": "LayoutModel",
          "model_module_version": "1.2.0",
          "state": {
            "_model_module": "@jupyter-widgets/base",
            "_model_module_version": "1.2.0",
            "_model_name": "LayoutModel",
            "_view_count": null,
            "_view_module": "@jupyter-widgets/base",
            "_view_module_version": "1.2.0",
            "_view_name": "LayoutView",
            "align_content": null,
            "align_items": null,
            "align_self": null,
            "border": null,
            "bottom": null,
            "display": null,
            "flex": null,
            "flex_flow": null,
            "grid_area": null,
            "grid_auto_columns": null,
            "grid_auto_flow": null,
            "grid_auto_rows": null,
            "grid_column": null,
            "grid_gap": null,
            "grid_row": null,
            "grid_template_areas": null,
            "grid_template_columns": null,
            "grid_template_rows": null,
            "height": null,
            "justify_content": null,
            "justify_items": null,
            "left": null,
            "margin": null,
            "max_height": null,
            "max_width": null,
            "min_height": null,
            "min_width": null,
            "object_fit": null,
            "object_position": null,
            "order": null,
            "overflow": null,
            "overflow_x": null,
            "overflow_y": null,
            "padding": null,
            "right": null,
            "top": null,
            "visibility": null,
            "width": null
          }
        },
        "1666e0772beb4791abb73908a705f5b2": {
          "model_module": "@jupyter-widgets/controls",
          "model_name": "ProgressStyleModel",
          "model_module_version": "1.5.0",
          "state": {
            "_model_module": "@jupyter-widgets/controls",
            "_model_module_version": "1.5.0",
            "_model_name": "ProgressStyleModel",
            "_view_count": null,
            "_view_module": "@jupyter-widgets/base",
            "_view_module_version": "1.2.0",
            "_view_name": "StyleView",
            "bar_color": null,
            "description_width": ""
          }
        },
        "83740952ae104030896419fd2caeda7a": {
          "model_module": "@jupyter-widgets/base",
          "model_name": "LayoutModel",
          "model_module_version": "1.2.0",
          "state": {
            "_model_module": "@jupyter-widgets/base",
            "_model_module_version": "1.2.0",
            "_model_name": "LayoutModel",
            "_view_count": null,
            "_view_module": "@jupyter-widgets/base",
            "_view_module_version": "1.2.0",
            "_view_name": "LayoutView",
            "align_content": null,
            "align_items": null,
            "align_self": null,
            "border": null,
            "bottom": null,
            "display": null,
            "flex": null,
            "flex_flow": null,
            "grid_area": null,
            "grid_auto_columns": null,
            "grid_auto_flow": null,
            "grid_auto_rows": null,
            "grid_column": null,
            "grid_gap": null,
            "grid_row": null,
            "grid_template_areas": null,
            "grid_template_columns": null,
            "grid_template_rows": null,
            "height": null,
            "justify_content": null,
            "justify_items": null,
            "left": null,
            "margin": null,
            "max_height": null,
            "max_width": null,
            "min_height": null,
            "min_width": null,
            "object_fit": null,
            "object_position": null,
            "order": null,
            "overflow": null,
            "overflow_x": null,
            "overflow_y": null,
            "padding": null,
            "right": null,
            "top": null,
            "visibility": null,
            "width": null
          }
        },
        "c8f426bb973343e29aa089a821bdc01b": {
          "model_module": "@jupyter-widgets/controls",
          "model_name": "DescriptionStyleModel",
          "model_module_version": "1.5.0",
          "state": {
            "_model_module": "@jupyter-widgets/controls",
            "_model_module_version": "1.5.0",
            "_model_name": "DescriptionStyleModel",
            "_view_count": null,
            "_view_module": "@jupyter-widgets/base",
            "_view_module_version": "1.2.0",
            "_view_name": "StyleView",
            "description_width": ""
          }
        },
        "2fd01aad906f4270a6316da96739cfea": {
          "model_module": "@jupyter-widgets/controls",
          "model_name": "HBoxModel",
          "model_module_version": "1.5.0",
          "state": {
            "_dom_classes": [],
            "_model_module": "@jupyter-widgets/controls",
            "_model_module_version": "1.5.0",
            "_model_name": "HBoxModel",
            "_view_count": null,
            "_view_module": "@jupyter-widgets/controls",
            "_view_module_version": "1.5.0",
            "_view_name": "HBoxView",
            "box_style": "",
            "children": [
              "IPY_MODEL_3c42ca4e83e2494c852ff9c48b95fca3",
              "IPY_MODEL_4ec0d1f1af674320b2b491a25ac8c916",
              "IPY_MODEL_e1e01f5eabd846af81e0d0015169a5f0"
            ],
            "layout": "IPY_MODEL_b34668c25b774681ac78eb8773bb5e60"
          }
        },
        "3c42ca4e83e2494c852ff9c48b95fca3": {
          "model_module": "@jupyter-widgets/controls",
          "model_name": "HTMLModel",
          "model_module_version": "1.5.0",
          "state": {
            "_dom_classes": [],
            "_model_module": "@jupyter-widgets/controls",
            "_model_module_version": "1.5.0",
            "_model_name": "HTMLModel",
            "_view_count": null,
            "_view_module": "@jupyter-widgets/controls",
            "_view_module_version": "1.5.0",
            "_view_name": "HTMLView",
            "description": "",
            "description_tooltip": null,
            "layout": "IPY_MODEL_527261d34c884f73a1f28fe7f919a398",
            "placeholder": "​",
            "style": "IPY_MODEL_7de6bf9fcf084596b3d2d2af250408a4",
            "value": "100%"
          }
        },
        "4ec0d1f1af674320b2b491a25ac8c916": {
          "model_module": "@jupyter-widgets/controls",
          "model_name": "FloatProgressModel",
          "model_module_version": "1.5.0",
          "state": {
            "_dom_classes": [],
            "_model_module": "@jupyter-widgets/controls",
            "_model_module_version": "1.5.0",
            "_model_name": "FloatProgressModel",
            "_view_count": null,
            "_view_module": "@jupyter-widgets/controls",
            "_view_module_version": "1.5.0",
            "_view_name": "ProgressView",
            "bar_style": "success",
            "description": "",
            "description_tooltip": null,
            "layout": "IPY_MODEL_70e4db39dfcb4220a98420a9cc92404e",
            "max": 155,
            "min": 0,
            "orientation": "horizontal",
            "style": "IPY_MODEL_4cbc86dbae2240f19f85b8d4d4184883",
            "value": 155
          }
        },
        "e1e01f5eabd846af81e0d0015169a5f0": {
          "model_module": "@jupyter-widgets/controls",
          "model_name": "HTMLModel",
          "model_module_version": "1.5.0",
          "state": {
            "_dom_classes": [],
            "_model_module": "@jupyter-widgets/controls",
            "_model_module_version": "1.5.0",
            "_model_name": "HTMLModel",
            "_view_count": null,
            "_view_module": "@jupyter-widgets/controls",
            "_view_module_version": "1.5.0",
            "_view_name": "HTMLView",
            "description": "",
            "description_tooltip": null,
            "layout": "IPY_MODEL_a051149d676c46699235695443a44723",
            "placeholder": "​",
            "style": "IPY_MODEL_73f26b8c39924333ae687d5140f49029",
            "value": " 155/155 [02:10&lt;00:00,  1.03it/s]"
          }
        },
        "b34668c25b774681ac78eb8773bb5e60": {
          "model_module": "@jupyter-widgets/base",
          "model_name": "LayoutModel",
          "model_module_version": "1.2.0",
          "state": {
            "_model_module": "@jupyter-widgets/base",
            "_model_module_version": "1.2.0",
            "_model_name": "LayoutModel",
            "_view_count": null,
            "_view_module": "@jupyter-widgets/base",
            "_view_module_version": "1.2.0",
            "_view_name": "LayoutView",
            "align_content": null,
            "align_items": null,
            "align_self": null,
            "border": null,
            "bottom": null,
            "display": null,
            "flex": null,
            "flex_flow": null,
            "grid_area": null,
            "grid_auto_columns": null,
            "grid_auto_flow": null,
            "grid_auto_rows": null,
            "grid_column": null,
            "grid_gap": null,
            "grid_row": null,
            "grid_template_areas": null,
            "grid_template_columns": null,
            "grid_template_rows": null,
            "height": null,
            "justify_content": null,
            "justify_items": null,
            "left": null,
            "margin": null,
            "max_height": null,
            "max_width": null,
            "min_height": null,
            "min_width": null,
            "object_fit": null,
            "object_position": null,
            "order": null,
            "overflow": null,
            "overflow_x": null,
            "overflow_y": null,
            "padding": null,
            "right": null,
            "top": null,
            "visibility": null,
            "width": null
          }
        },
        "527261d34c884f73a1f28fe7f919a398": {
          "model_module": "@jupyter-widgets/base",
          "model_name": "LayoutModel",
          "model_module_version": "1.2.0",
          "state": {
            "_model_module": "@jupyter-widgets/base",
            "_model_module_version": "1.2.0",
            "_model_name": "LayoutModel",
            "_view_count": null,
            "_view_module": "@jupyter-widgets/base",
            "_view_module_version": "1.2.0",
            "_view_name": "LayoutView",
            "align_content": null,
            "align_items": null,
            "align_self": null,
            "border": null,
            "bottom": null,
            "display": null,
            "flex": null,
            "flex_flow": null,
            "grid_area": null,
            "grid_auto_columns": null,
            "grid_auto_flow": null,
            "grid_auto_rows": null,
            "grid_column": null,
            "grid_gap": null,
            "grid_row": null,
            "grid_template_areas": null,
            "grid_template_columns": null,
            "grid_template_rows": null,
            "height": null,
            "justify_content": null,
            "justify_items": null,
            "left": null,
            "margin": null,
            "max_height": null,
            "max_width": null,
            "min_height": null,
            "min_width": null,
            "object_fit": null,
            "object_position": null,
            "order": null,
            "overflow": null,
            "overflow_x": null,
            "overflow_y": null,
            "padding": null,
            "right": null,
            "top": null,
            "visibility": null,
            "width": null
          }
        },
        "7de6bf9fcf084596b3d2d2af250408a4": {
          "model_module": "@jupyter-widgets/controls",
          "model_name": "DescriptionStyleModel",
          "model_module_version": "1.5.0",
          "state": {
            "_model_module": "@jupyter-widgets/controls",
            "_model_module_version": "1.5.0",
            "_model_name": "DescriptionStyleModel",
            "_view_count": null,
            "_view_module": "@jupyter-widgets/base",
            "_view_module_version": "1.2.0",
            "_view_name": "StyleView",
            "description_width": ""
          }
        },
        "70e4db39dfcb4220a98420a9cc92404e": {
          "model_module": "@jupyter-widgets/base",
          "model_name": "LayoutModel",
          "model_module_version": "1.2.0",
          "state": {
            "_model_module": "@jupyter-widgets/base",
            "_model_module_version": "1.2.0",
            "_model_name": "LayoutModel",
            "_view_count": null,
            "_view_module": "@jupyter-widgets/base",
            "_view_module_version": "1.2.0",
            "_view_name": "LayoutView",
            "align_content": null,
            "align_items": null,
            "align_self": null,
            "border": null,
            "bottom": null,
            "display": null,
            "flex": null,
            "flex_flow": null,
            "grid_area": null,
            "grid_auto_columns": null,
            "grid_auto_flow": null,
            "grid_auto_rows": null,
            "grid_column": null,
            "grid_gap": null,
            "grid_row": null,
            "grid_template_areas": null,
            "grid_template_columns": null,
            "grid_template_rows": null,
            "height": null,
            "justify_content": null,
            "justify_items": null,
            "left": null,
            "margin": null,
            "max_height": null,
            "max_width": null,
            "min_height": null,
            "min_width": null,
            "object_fit": null,
            "object_position": null,
            "order": null,
            "overflow": null,
            "overflow_x": null,
            "overflow_y": null,
            "padding": null,
            "right": null,
            "top": null,
            "visibility": null,
            "width": null
          }
        },
        "4cbc86dbae2240f19f85b8d4d4184883": {
          "model_module": "@jupyter-widgets/controls",
          "model_name": "ProgressStyleModel",
          "model_module_version": "1.5.0",
          "state": {
            "_model_module": "@jupyter-widgets/controls",
            "_model_module_version": "1.5.0",
            "_model_name": "ProgressStyleModel",
            "_view_count": null,
            "_view_module": "@jupyter-widgets/base",
            "_view_module_version": "1.2.0",
            "_view_name": "StyleView",
            "bar_color": null,
            "description_width": ""
          }
        },
        "a051149d676c46699235695443a44723": {
          "model_module": "@jupyter-widgets/base",
          "model_name": "LayoutModel",
          "model_module_version": "1.2.0",
          "state": {
            "_model_module": "@jupyter-widgets/base",
            "_model_module_version": "1.2.0",
            "_model_name": "LayoutModel",
            "_view_count": null,
            "_view_module": "@jupyter-widgets/base",
            "_view_module_version": "1.2.0",
            "_view_name": "LayoutView",
            "align_content": null,
            "align_items": null,
            "align_self": null,
            "border": null,
            "bottom": null,
            "display": null,
            "flex": null,
            "flex_flow": null,
            "grid_area": null,
            "grid_auto_columns": null,
            "grid_auto_flow": null,
            "grid_auto_rows": null,
            "grid_column": null,
            "grid_gap": null,
            "grid_row": null,
            "grid_template_areas": null,
            "grid_template_columns": null,
            "grid_template_rows": null,
            "height": null,
            "justify_content": null,
            "justify_items": null,
            "left": null,
            "margin": null,
            "max_height": null,
            "max_width": null,
            "min_height": null,
            "min_width": null,
            "object_fit": null,
            "object_position": null,
            "order": null,
            "overflow": null,
            "overflow_x": null,
            "overflow_y": null,
            "padding": null,
            "right": null,
            "top": null,
            "visibility": null,
            "width": null
          }
        },
        "73f26b8c39924333ae687d5140f49029": {
          "model_module": "@jupyter-widgets/controls",
          "model_name": "DescriptionStyleModel",
          "model_module_version": "1.5.0",
          "state": {
            "_model_module": "@jupyter-widgets/controls",
            "_model_module_version": "1.5.0",
            "_model_name": "DescriptionStyleModel",
            "_view_count": null,
            "_view_module": "@jupyter-widgets/base",
            "_view_module_version": "1.2.0",
            "_view_name": "StyleView",
            "description_width": ""
          }
        },
        "f194c170553e46d8b1910bdb08d35084": {
          "model_module": "@jupyter-widgets/controls",
          "model_name": "HBoxModel",
          "model_module_version": "1.5.0",
          "state": {
            "_dom_classes": [],
            "_model_module": "@jupyter-widgets/controls",
            "_model_module_version": "1.5.0",
            "_model_name": "HBoxModel",
            "_view_count": null,
            "_view_module": "@jupyter-widgets/controls",
            "_view_module_version": "1.5.0",
            "_view_name": "HBoxView",
            "box_style": "",
            "children": [
              "IPY_MODEL_0557ea633260435399edae9a5601fa0b",
              "IPY_MODEL_a2734eea4803414fb76a91bd4c14170a",
              "IPY_MODEL_1925f4de2e254c9295102f3dd4891d8b"
            ],
            "layout": "IPY_MODEL_360101a573844b92a83bd99f6c3f7b90"
          }
        },
        "0557ea633260435399edae9a5601fa0b": {
          "model_module": "@jupyter-widgets/controls",
          "model_name": "HTMLModel",
          "model_module_version": "1.5.0",
          "state": {
            "_dom_classes": [],
            "_model_module": "@jupyter-widgets/controls",
            "_model_module_version": "1.5.0",
            "_model_name": "HTMLModel",
            "_view_count": null,
            "_view_module": "@jupyter-widgets/controls",
            "_view_module_version": "1.5.0",
            "_view_name": "HTMLView",
            "description": "",
            "description_tooltip": null,
            "layout": "IPY_MODEL_9ed0f2ad7f9a41f2ae08fea8aaffb024",
            "placeholder": "​",
            "style": "IPY_MODEL_5ab05e537a664603b35511b405e03b7f",
            "value": "100%"
          }
        },
        "a2734eea4803414fb76a91bd4c14170a": {
          "model_module": "@jupyter-widgets/controls",
          "model_name": "FloatProgressModel",
          "model_module_version": "1.5.0",
          "state": {
            "_dom_classes": [],
            "_model_module": "@jupyter-widgets/controls",
            "_model_module_version": "1.5.0",
            "_model_name": "FloatProgressModel",
            "_view_count": null,
            "_view_module": "@jupyter-widgets/controls",
            "_view_module_version": "1.5.0",
            "_view_name": "ProgressView",
            "bar_style": "success",
            "description": "",
            "description_tooltip": null,
            "layout": "IPY_MODEL_99c185e1e42546aca5e662c9f6f2f69f",
            "max": 221,
            "min": 0,
            "orientation": "horizontal",
            "style": "IPY_MODEL_5ba40e27c6844220a99382e2ee6fc760",
            "value": 221
          }
        },
        "1925f4de2e254c9295102f3dd4891d8b": {
          "model_module": "@jupyter-widgets/controls",
          "model_name": "HTMLModel",
          "model_module_version": "1.5.0",
          "state": {
            "_dom_classes": [],
            "_model_module": "@jupyter-widgets/controls",
            "_model_module_version": "1.5.0",
            "_model_name": "HTMLModel",
            "_view_count": null,
            "_view_module": "@jupyter-widgets/controls",
            "_view_module_version": "1.5.0",
            "_view_name": "HTMLView",
            "description": "",
            "description_tooltip": null,
            "layout": "IPY_MODEL_3a68656519fe4785a5fa241ac1162f54",
            "placeholder": "​",
            "style": "IPY_MODEL_d12224c0c3e84d5a80d02fc3452b1110",
            "value": " 221/221 [03:20&lt;00:00,  1.14it/s]"
          }
        },
        "360101a573844b92a83bd99f6c3f7b90": {
          "model_module": "@jupyter-widgets/base",
          "model_name": "LayoutModel",
          "model_module_version": "1.2.0",
          "state": {
            "_model_module": "@jupyter-widgets/base",
            "_model_module_version": "1.2.0",
            "_model_name": "LayoutModel",
            "_view_count": null,
            "_view_module": "@jupyter-widgets/base",
            "_view_module_version": "1.2.0",
            "_view_name": "LayoutView",
            "align_content": null,
            "align_items": null,
            "align_self": null,
            "border": null,
            "bottom": null,
            "display": null,
            "flex": null,
            "flex_flow": null,
            "grid_area": null,
            "grid_auto_columns": null,
            "grid_auto_flow": null,
            "grid_auto_rows": null,
            "grid_column": null,
            "grid_gap": null,
            "grid_row": null,
            "grid_template_areas": null,
            "grid_template_columns": null,
            "grid_template_rows": null,
            "height": null,
            "justify_content": null,
            "justify_items": null,
            "left": null,
            "margin": null,
            "max_height": null,
            "max_width": null,
            "min_height": null,
            "min_width": null,
            "object_fit": null,
            "object_position": null,
            "order": null,
            "overflow": null,
            "overflow_x": null,
            "overflow_y": null,
            "padding": null,
            "right": null,
            "top": null,
            "visibility": null,
            "width": null
          }
        },
        "9ed0f2ad7f9a41f2ae08fea8aaffb024": {
          "model_module": "@jupyter-widgets/base",
          "model_name": "LayoutModel",
          "model_module_version": "1.2.0",
          "state": {
            "_model_module": "@jupyter-widgets/base",
            "_model_module_version": "1.2.0",
            "_model_name": "LayoutModel",
            "_view_count": null,
            "_view_module": "@jupyter-widgets/base",
            "_view_module_version": "1.2.0",
            "_view_name": "LayoutView",
            "align_content": null,
            "align_items": null,
            "align_self": null,
            "border": null,
            "bottom": null,
            "display": null,
            "flex": null,
            "flex_flow": null,
            "grid_area": null,
            "grid_auto_columns": null,
            "grid_auto_flow": null,
            "grid_auto_rows": null,
            "grid_column": null,
            "grid_gap": null,
            "grid_row": null,
            "grid_template_areas": null,
            "grid_template_columns": null,
            "grid_template_rows": null,
            "height": null,
            "justify_content": null,
            "justify_items": null,
            "left": null,
            "margin": null,
            "max_height": null,
            "max_width": null,
            "min_height": null,
            "min_width": null,
            "object_fit": null,
            "object_position": null,
            "order": null,
            "overflow": null,
            "overflow_x": null,
            "overflow_y": null,
            "padding": null,
            "right": null,
            "top": null,
            "visibility": null,
            "width": null
          }
        },
        "5ab05e537a664603b35511b405e03b7f": {
          "model_module": "@jupyter-widgets/controls",
          "model_name": "DescriptionStyleModel",
          "model_module_version": "1.5.0",
          "state": {
            "_model_module": "@jupyter-widgets/controls",
            "_model_module_version": "1.5.0",
            "_model_name": "DescriptionStyleModel",
            "_view_count": null,
            "_view_module": "@jupyter-widgets/base",
            "_view_module_version": "1.2.0",
            "_view_name": "StyleView",
            "description_width": ""
          }
        },
        "99c185e1e42546aca5e662c9f6f2f69f": {
          "model_module": "@jupyter-widgets/base",
          "model_name": "LayoutModel",
          "model_module_version": "1.2.0",
          "state": {
            "_model_module": "@jupyter-widgets/base",
            "_model_module_version": "1.2.0",
            "_model_name": "LayoutModel",
            "_view_count": null,
            "_view_module": "@jupyter-widgets/base",
            "_view_module_version": "1.2.0",
            "_view_name": "LayoutView",
            "align_content": null,
            "align_items": null,
            "align_self": null,
            "border": null,
            "bottom": null,
            "display": null,
            "flex": null,
            "flex_flow": null,
            "grid_area": null,
            "grid_auto_columns": null,
            "grid_auto_flow": null,
            "grid_auto_rows": null,
            "grid_column": null,
            "grid_gap": null,
            "grid_row": null,
            "grid_template_areas": null,
            "grid_template_columns": null,
            "grid_template_rows": null,
            "height": null,
            "justify_content": null,
            "justify_items": null,
            "left": null,
            "margin": null,
            "max_height": null,
            "max_width": null,
            "min_height": null,
            "min_width": null,
            "object_fit": null,
            "object_position": null,
            "order": null,
            "overflow": null,
            "overflow_x": null,
            "overflow_y": null,
            "padding": null,
            "right": null,
            "top": null,
            "visibility": null,
            "width": null
          }
        },
        "5ba40e27c6844220a99382e2ee6fc760": {
          "model_module": "@jupyter-widgets/controls",
          "model_name": "ProgressStyleModel",
          "model_module_version": "1.5.0",
          "state": {
            "_model_module": "@jupyter-widgets/controls",
            "_model_module_version": "1.5.0",
            "_model_name": "ProgressStyleModel",
            "_view_count": null,
            "_view_module": "@jupyter-widgets/base",
            "_view_module_version": "1.2.0",
            "_view_name": "StyleView",
            "bar_color": null,
            "description_width": ""
          }
        },
        "3a68656519fe4785a5fa241ac1162f54": {
          "model_module": "@jupyter-widgets/base",
          "model_name": "LayoutModel",
          "model_module_version": "1.2.0",
          "state": {
            "_model_module": "@jupyter-widgets/base",
            "_model_module_version": "1.2.0",
            "_model_name": "LayoutModel",
            "_view_count": null,
            "_view_module": "@jupyter-widgets/base",
            "_view_module_version": "1.2.0",
            "_view_name": "LayoutView",
            "align_content": null,
            "align_items": null,
            "align_self": null,
            "border": null,
            "bottom": null,
            "display": null,
            "flex": null,
            "flex_flow": null,
            "grid_area": null,
            "grid_auto_columns": null,
            "grid_auto_flow": null,
            "grid_auto_rows": null,
            "grid_column": null,
            "grid_gap": null,
            "grid_row": null,
            "grid_template_areas": null,
            "grid_template_columns": null,
            "grid_template_rows": null,
            "height": null,
            "justify_content": null,
            "justify_items": null,
            "left": null,
            "margin": null,
            "max_height": null,
            "max_width": null,
            "min_height": null,
            "min_width": null,
            "object_fit": null,
            "object_position": null,
            "order": null,
            "overflow": null,
            "overflow_x": null,
            "overflow_y": null,
            "padding": null,
            "right": null,
            "top": null,
            "visibility": null,
            "width": null
          }
        },
        "d12224c0c3e84d5a80d02fc3452b1110": {
          "model_module": "@jupyter-widgets/controls",
          "model_name": "DescriptionStyleModel",
          "model_module_version": "1.5.0",
          "state": {
            "_model_module": "@jupyter-widgets/controls",
            "_model_module_version": "1.5.0",
            "_model_name": "DescriptionStyleModel",
            "_view_count": null,
            "_view_module": "@jupyter-widgets/base",
            "_view_module_version": "1.2.0",
            "_view_name": "StyleView",
            "description_width": ""
          }
        },
        "8b125726384c40edbfb2528a01444901": {
          "model_module": "@jupyter-widgets/controls",
          "model_name": "HBoxModel",
          "model_module_version": "1.5.0",
          "state": {
            "_dom_classes": [],
            "_model_module": "@jupyter-widgets/controls",
            "_model_module_version": "1.5.0",
            "_model_name": "HBoxModel",
            "_view_count": null,
            "_view_module": "@jupyter-widgets/controls",
            "_view_module_version": "1.5.0",
            "_view_name": "HBoxView",
            "box_style": "",
            "children": [
              "IPY_MODEL_cc31d685ba5641b58bbbb8d21af227ce",
              "IPY_MODEL_6214029244f94b7a8a2909c9c4e3ca75",
              "IPY_MODEL_5fdc44b62e0644839477f4d6dde63fc5"
            ],
            "layout": "IPY_MODEL_06a3bc7ba79c437087b241c9e8a5603d"
          }
        },
        "cc31d685ba5641b58bbbb8d21af227ce": {
          "model_module": "@jupyter-widgets/controls",
          "model_name": "HTMLModel",
          "model_module_version": "1.5.0",
          "state": {
            "_dom_classes": [],
            "_model_module": "@jupyter-widgets/controls",
            "_model_module_version": "1.5.0",
            "_model_name": "HTMLModel",
            "_view_count": null,
            "_view_module": "@jupyter-widgets/controls",
            "_view_module_version": "1.5.0",
            "_view_name": "HTMLView",
            "description": "",
            "description_tooltip": null,
            "layout": "IPY_MODEL_2431cf3104e74691adbad6cfed5e5b35",
            "placeholder": "​",
            "style": "IPY_MODEL_a1cdf1ef3a9442d1a2a4b220825a7d88",
            "value": "100%"
          }
        },
        "6214029244f94b7a8a2909c9c4e3ca75": {
          "model_module": "@jupyter-widgets/controls",
          "model_name": "FloatProgressModel",
          "model_module_version": "1.5.0",
          "state": {
            "_dom_classes": [],
            "_model_module": "@jupyter-widgets/controls",
            "_model_module_version": "1.5.0",
            "_model_name": "FloatProgressModel",
            "_view_count": null,
            "_view_module": "@jupyter-widgets/controls",
            "_view_module_version": "1.5.0",
            "_view_name": "ProgressView",
            "bar_style": "success",
            "description": "",
            "description_tooltip": null,
            "layout": "IPY_MODEL_c2db49b6dd374798bb6e1531ba190fce",
            "max": 155,
            "min": 0,
            "orientation": "horizontal",
            "style": "IPY_MODEL_b38cc67c0f55431da518658975a583a4",
            "value": 155
          }
        },
        "5fdc44b62e0644839477f4d6dde63fc5": {
          "model_module": "@jupyter-widgets/controls",
          "model_name": "HTMLModel",
          "model_module_version": "1.5.0",
          "state": {
            "_dom_classes": [],
            "_model_module": "@jupyter-widgets/controls",
            "_model_module_version": "1.5.0",
            "_model_name": "HTMLModel",
            "_view_count": null,
            "_view_module": "@jupyter-widgets/controls",
            "_view_module_version": "1.5.0",
            "_view_name": "HTMLView",
            "description": "",
            "description_tooltip": null,
            "layout": "IPY_MODEL_fc28ef2172a648c7a913a39d1c50f74b",
            "placeholder": "​",
            "style": "IPY_MODEL_54bfc3c490534c6d8b1f2b3e8ddd45e6",
            "value": " 155/155 [02:30&lt;00:00,  1.10s/it]"
          }
        },
        "06a3bc7ba79c437087b241c9e8a5603d": {
          "model_module": "@jupyter-widgets/base",
          "model_name": "LayoutModel",
          "model_module_version": "1.2.0",
          "state": {
            "_model_module": "@jupyter-widgets/base",
            "_model_module_version": "1.2.0",
            "_model_name": "LayoutModel",
            "_view_count": null,
            "_view_module": "@jupyter-widgets/base",
            "_view_module_version": "1.2.0",
            "_view_name": "LayoutView",
            "align_content": null,
            "align_items": null,
            "align_self": null,
            "border": null,
            "bottom": null,
            "display": null,
            "flex": null,
            "flex_flow": null,
            "grid_area": null,
            "grid_auto_columns": null,
            "grid_auto_flow": null,
            "grid_auto_rows": null,
            "grid_column": null,
            "grid_gap": null,
            "grid_row": null,
            "grid_template_areas": null,
            "grid_template_columns": null,
            "grid_template_rows": null,
            "height": null,
            "justify_content": null,
            "justify_items": null,
            "left": null,
            "margin": null,
            "max_height": null,
            "max_width": null,
            "min_height": null,
            "min_width": null,
            "object_fit": null,
            "object_position": null,
            "order": null,
            "overflow": null,
            "overflow_x": null,
            "overflow_y": null,
            "padding": null,
            "right": null,
            "top": null,
            "visibility": null,
            "width": null
          }
        },
        "2431cf3104e74691adbad6cfed5e5b35": {
          "model_module": "@jupyter-widgets/base",
          "model_name": "LayoutModel",
          "model_module_version": "1.2.0",
          "state": {
            "_model_module": "@jupyter-widgets/base",
            "_model_module_version": "1.2.0",
            "_model_name": "LayoutModel",
            "_view_count": null,
            "_view_module": "@jupyter-widgets/base",
            "_view_module_version": "1.2.0",
            "_view_name": "LayoutView",
            "align_content": null,
            "align_items": null,
            "align_self": null,
            "border": null,
            "bottom": null,
            "display": null,
            "flex": null,
            "flex_flow": null,
            "grid_area": null,
            "grid_auto_columns": null,
            "grid_auto_flow": null,
            "grid_auto_rows": null,
            "grid_column": null,
            "grid_gap": null,
            "grid_row": null,
            "grid_template_areas": null,
            "grid_template_columns": null,
            "grid_template_rows": null,
            "height": null,
            "justify_content": null,
            "justify_items": null,
            "left": null,
            "margin": null,
            "max_height": null,
            "max_width": null,
            "min_height": null,
            "min_width": null,
            "object_fit": null,
            "object_position": null,
            "order": null,
            "overflow": null,
            "overflow_x": null,
            "overflow_y": null,
            "padding": null,
            "right": null,
            "top": null,
            "visibility": null,
            "width": null
          }
        },
        "a1cdf1ef3a9442d1a2a4b220825a7d88": {
          "model_module": "@jupyter-widgets/controls",
          "model_name": "DescriptionStyleModel",
          "model_module_version": "1.5.0",
          "state": {
            "_model_module": "@jupyter-widgets/controls",
            "_model_module_version": "1.5.0",
            "_model_name": "DescriptionStyleModel",
            "_view_count": null,
            "_view_module": "@jupyter-widgets/base",
            "_view_module_version": "1.2.0",
            "_view_name": "StyleView",
            "description_width": ""
          }
        },
        "c2db49b6dd374798bb6e1531ba190fce": {
          "model_module": "@jupyter-widgets/base",
          "model_name": "LayoutModel",
          "model_module_version": "1.2.0",
          "state": {
            "_model_module": "@jupyter-widgets/base",
            "_model_module_version": "1.2.0",
            "_model_name": "LayoutModel",
            "_view_count": null,
            "_view_module": "@jupyter-widgets/base",
            "_view_module_version": "1.2.0",
            "_view_name": "LayoutView",
            "align_content": null,
            "align_items": null,
            "align_self": null,
            "border": null,
            "bottom": null,
            "display": null,
            "flex": null,
            "flex_flow": null,
            "grid_area": null,
            "grid_auto_columns": null,
            "grid_auto_flow": null,
            "grid_auto_rows": null,
            "grid_column": null,
            "grid_gap": null,
            "grid_row": null,
            "grid_template_areas": null,
            "grid_template_columns": null,
            "grid_template_rows": null,
            "height": null,
            "justify_content": null,
            "justify_items": null,
            "left": null,
            "margin": null,
            "max_height": null,
            "max_width": null,
            "min_height": null,
            "min_width": null,
            "object_fit": null,
            "object_position": null,
            "order": null,
            "overflow": null,
            "overflow_x": null,
            "overflow_y": null,
            "padding": null,
            "right": null,
            "top": null,
            "visibility": null,
            "width": null
          }
        },
        "b38cc67c0f55431da518658975a583a4": {
          "model_module": "@jupyter-widgets/controls",
          "model_name": "ProgressStyleModel",
          "model_module_version": "1.5.0",
          "state": {
            "_model_module": "@jupyter-widgets/controls",
            "_model_module_version": "1.5.0",
            "_model_name": "ProgressStyleModel",
            "_view_count": null,
            "_view_module": "@jupyter-widgets/base",
            "_view_module_version": "1.2.0",
            "_view_name": "StyleView",
            "bar_color": null,
            "description_width": ""
          }
        },
        "fc28ef2172a648c7a913a39d1c50f74b": {
          "model_module": "@jupyter-widgets/base",
          "model_name": "LayoutModel",
          "model_module_version": "1.2.0",
          "state": {
            "_model_module": "@jupyter-widgets/base",
            "_model_module_version": "1.2.0",
            "_model_name": "LayoutModel",
            "_view_count": null,
            "_view_module": "@jupyter-widgets/base",
            "_view_module_version": "1.2.0",
            "_view_name": "LayoutView",
            "align_content": null,
            "align_items": null,
            "align_self": null,
            "border": null,
            "bottom": null,
            "display": null,
            "flex": null,
            "flex_flow": null,
            "grid_area": null,
            "grid_auto_columns": null,
            "grid_auto_flow": null,
            "grid_auto_rows": null,
            "grid_column": null,
            "grid_gap": null,
            "grid_row": null,
            "grid_template_areas": null,
            "grid_template_columns": null,
            "grid_template_rows": null,
            "height": null,
            "justify_content": null,
            "justify_items": null,
            "left": null,
            "margin": null,
            "max_height": null,
            "max_width": null,
            "min_height": null,
            "min_width": null,
            "object_fit": null,
            "object_position": null,
            "order": null,
            "overflow": null,
            "overflow_x": null,
            "overflow_y": null,
            "padding": null,
            "right": null,
            "top": null,
            "visibility": null,
            "width": null
          }
        },
        "54bfc3c490534c6d8b1f2b3e8ddd45e6": {
          "model_module": "@jupyter-widgets/controls",
          "model_name": "DescriptionStyleModel",
          "model_module_version": "1.5.0",
          "state": {
            "_model_module": "@jupyter-widgets/controls",
            "_model_module_version": "1.5.0",
            "_model_name": "DescriptionStyleModel",
            "_view_count": null,
            "_view_module": "@jupyter-widgets/base",
            "_view_module_version": "1.2.0",
            "_view_name": "StyleView",
            "description_width": ""
          }
        },
        "2672bf789d5d41409eb88b6a6840cd98": {
          "model_module": "@jupyter-widgets/controls",
          "model_name": "HBoxModel",
          "model_module_version": "1.5.0",
          "state": {
            "_dom_classes": [],
            "_model_module": "@jupyter-widgets/controls",
            "_model_module_version": "1.5.0",
            "_model_name": "HBoxModel",
            "_view_count": null,
            "_view_module": "@jupyter-widgets/controls",
            "_view_module_version": "1.5.0",
            "_view_name": "HBoxView",
            "box_style": "",
            "children": [
              "IPY_MODEL_f6f4ac0c44794840a93bb52b74bd09b5",
              "IPY_MODEL_5af8b3f4f5284c4fb2216c89749aa947",
              "IPY_MODEL_429ce834c5764850b75be7f79b4d526d"
            ],
            "layout": "IPY_MODEL_38e98f1fb2eb4bae96221d72348fe228"
          }
        },
        "f6f4ac0c44794840a93bb52b74bd09b5": {
          "model_module": "@jupyter-widgets/controls",
          "model_name": "HTMLModel",
          "model_module_version": "1.5.0",
          "state": {
            "_dom_classes": [],
            "_model_module": "@jupyter-widgets/controls",
            "_model_module_version": "1.5.0",
            "_model_name": "HTMLModel",
            "_view_count": null,
            "_view_module": "@jupyter-widgets/controls",
            "_view_module_version": "1.5.0",
            "_view_name": "HTMLView",
            "description": "",
            "description_tooltip": null,
            "layout": "IPY_MODEL_48462818b29347d9bdb0e236977e4947",
            "placeholder": "​",
            "style": "IPY_MODEL_cd3a23b814fb4ee795b2a25680348a42",
            "value": "100%"
          }
        },
        "5af8b3f4f5284c4fb2216c89749aa947": {
          "model_module": "@jupyter-widgets/controls",
          "model_name": "FloatProgressModel",
          "model_module_version": "1.5.0",
          "state": {
            "_dom_classes": [],
            "_model_module": "@jupyter-widgets/controls",
            "_model_module_version": "1.5.0",
            "_model_name": "FloatProgressModel",
            "_view_count": null,
            "_view_module": "@jupyter-widgets/controls",
            "_view_module_version": "1.5.0",
            "_view_name": "ProgressView",
            "bar_style": "success",
            "description": "",
            "description_tooltip": null,
            "layout": "IPY_MODEL_c7b551b7fbfd4a51ab1230f037795b6f",
            "max": 221,
            "min": 0,
            "orientation": "horizontal",
            "style": "IPY_MODEL_ed9924adb7ed4b4b99aaa06f2380d96b",
            "value": 221
          }
        },
        "429ce834c5764850b75be7f79b4d526d": {
          "model_module": "@jupyter-widgets/controls",
          "model_name": "HTMLModel",
          "model_module_version": "1.5.0",
          "state": {
            "_dom_classes": [],
            "_model_module": "@jupyter-widgets/controls",
            "_model_module_version": "1.5.0",
            "_model_name": "HTMLModel",
            "_view_count": null,
            "_view_module": "@jupyter-widgets/controls",
            "_view_module_version": "1.5.0",
            "_view_name": "HTMLView",
            "description": "",
            "description_tooltip": null,
            "layout": "IPY_MODEL_24bad49626604a9a816a7c6c21dac5b1",
            "placeholder": "​",
            "style": "IPY_MODEL_8443397e6c934240b6a134958e3e3b09",
            "value": " 221/221 [02:58&lt;00:00,  1.26it/s]"
          }
        },
        "38e98f1fb2eb4bae96221d72348fe228": {
          "model_module": "@jupyter-widgets/base",
          "model_name": "LayoutModel",
          "model_module_version": "1.2.0",
          "state": {
            "_model_module": "@jupyter-widgets/base",
            "_model_module_version": "1.2.0",
            "_model_name": "LayoutModel",
            "_view_count": null,
            "_view_module": "@jupyter-widgets/base",
            "_view_module_version": "1.2.0",
            "_view_name": "LayoutView",
            "align_content": null,
            "align_items": null,
            "align_self": null,
            "border": null,
            "bottom": null,
            "display": null,
            "flex": null,
            "flex_flow": null,
            "grid_area": null,
            "grid_auto_columns": null,
            "grid_auto_flow": null,
            "grid_auto_rows": null,
            "grid_column": null,
            "grid_gap": null,
            "grid_row": null,
            "grid_template_areas": null,
            "grid_template_columns": null,
            "grid_template_rows": null,
            "height": null,
            "justify_content": null,
            "justify_items": null,
            "left": null,
            "margin": null,
            "max_height": null,
            "max_width": null,
            "min_height": null,
            "min_width": null,
            "object_fit": null,
            "object_position": null,
            "order": null,
            "overflow": null,
            "overflow_x": null,
            "overflow_y": null,
            "padding": null,
            "right": null,
            "top": null,
            "visibility": null,
            "width": null
          }
        },
        "48462818b29347d9bdb0e236977e4947": {
          "model_module": "@jupyter-widgets/base",
          "model_name": "LayoutModel",
          "model_module_version": "1.2.0",
          "state": {
            "_model_module": "@jupyter-widgets/base",
            "_model_module_version": "1.2.0",
            "_model_name": "LayoutModel",
            "_view_count": null,
            "_view_module": "@jupyter-widgets/base",
            "_view_module_version": "1.2.0",
            "_view_name": "LayoutView",
            "align_content": null,
            "align_items": null,
            "align_self": null,
            "border": null,
            "bottom": null,
            "display": null,
            "flex": null,
            "flex_flow": null,
            "grid_area": null,
            "grid_auto_columns": null,
            "grid_auto_flow": null,
            "grid_auto_rows": null,
            "grid_column": null,
            "grid_gap": null,
            "grid_row": null,
            "grid_template_areas": null,
            "grid_template_columns": null,
            "grid_template_rows": null,
            "height": null,
            "justify_content": null,
            "justify_items": null,
            "left": null,
            "margin": null,
            "max_height": null,
            "max_width": null,
            "min_height": null,
            "min_width": null,
            "object_fit": null,
            "object_position": null,
            "order": null,
            "overflow": null,
            "overflow_x": null,
            "overflow_y": null,
            "padding": null,
            "right": null,
            "top": null,
            "visibility": null,
            "width": null
          }
        },
        "cd3a23b814fb4ee795b2a25680348a42": {
          "model_module": "@jupyter-widgets/controls",
          "model_name": "DescriptionStyleModel",
          "model_module_version": "1.5.0",
          "state": {
            "_model_module": "@jupyter-widgets/controls",
            "_model_module_version": "1.5.0",
            "_model_name": "DescriptionStyleModel",
            "_view_count": null,
            "_view_module": "@jupyter-widgets/base",
            "_view_module_version": "1.2.0",
            "_view_name": "StyleView",
            "description_width": ""
          }
        },
        "c7b551b7fbfd4a51ab1230f037795b6f": {
          "model_module": "@jupyter-widgets/base",
          "model_name": "LayoutModel",
          "model_module_version": "1.2.0",
          "state": {
            "_model_module": "@jupyter-widgets/base",
            "_model_module_version": "1.2.0",
            "_model_name": "LayoutModel",
            "_view_count": null,
            "_view_module": "@jupyter-widgets/base",
            "_view_module_version": "1.2.0",
            "_view_name": "LayoutView",
            "align_content": null,
            "align_items": null,
            "align_self": null,
            "border": null,
            "bottom": null,
            "display": null,
            "flex": null,
            "flex_flow": null,
            "grid_area": null,
            "grid_auto_columns": null,
            "grid_auto_flow": null,
            "grid_auto_rows": null,
            "grid_column": null,
            "grid_gap": null,
            "grid_row": null,
            "grid_template_areas": null,
            "grid_template_columns": null,
            "grid_template_rows": null,
            "height": null,
            "justify_content": null,
            "justify_items": null,
            "left": null,
            "margin": null,
            "max_height": null,
            "max_width": null,
            "min_height": null,
            "min_width": null,
            "object_fit": null,
            "object_position": null,
            "order": null,
            "overflow": null,
            "overflow_x": null,
            "overflow_y": null,
            "padding": null,
            "right": null,
            "top": null,
            "visibility": null,
            "width": null
          }
        },
        "ed9924adb7ed4b4b99aaa06f2380d96b": {
          "model_module": "@jupyter-widgets/controls",
          "model_name": "ProgressStyleModel",
          "model_module_version": "1.5.0",
          "state": {
            "_model_module": "@jupyter-widgets/controls",
            "_model_module_version": "1.5.0",
            "_model_name": "ProgressStyleModel",
            "_view_count": null,
            "_view_module": "@jupyter-widgets/base",
            "_view_module_version": "1.2.0",
            "_view_name": "StyleView",
            "bar_color": null,
            "description_width": ""
          }
        },
        "24bad49626604a9a816a7c6c21dac5b1": {
          "model_module": "@jupyter-widgets/base",
          "model_name": "LayoutModel",
          "model_module_version": "1.2.0",
          "state": {
            "_model_module": "@jupyter-widgets/base",
            "_model_module_version": "1.2.0",
            "_model_name": "LayoutModel",
            "_view_count": null,
            "_view_module": "@jupyter-widgets/base",
            "_view_module_version": "1.2.0",
            "_view_name": "LayoutView",
            "align_content": null,
            "align_items": null,
            "align_self": null,
            "border": null,
            "bottom": null,
            "display": null,
            "flex": null,
            "flex_flow": null,
            "grid_area": null,
            "grid_auto_columns": null,
            "grid_auto_flow": null,
            "grid_auto_rows": null,
            "grid_column": null,
            "grid_gap": null,
            "grid_row": null,
            "grid_template_areas": null,
            "grid_template_columns": null,
            "grid_template_rows": null,
            "height": null,
            "justify_content": null,
            "justify_items": null,
            "left": null,
            "margin": null,
            "max_height": null,
            "max_width": null,
            "min_height": null,
            "min_width": null,
            "object_fit": null,
            "object_position": null,
            "order": null,
            "overflow": null,
            "overflow_x": null,
            "overflow_y": null,
            "padding": null,
            "right": null,
            "top": null,
            "visibility": null,
            "width": null
          }
        },
        "8443397e6c934240b6a134958e3e3b09": {
          "model_module": "@jupyter-widgets/controls",
          "model_name": "DescriptionStyleModel",
          "model_module_version": "1.5.0",
          "state": {
            "_model_module": "@jupyter-widgets/controls",
            "_model_module_version": "1.5.0",
            "_model_name": "DescriptionStyleModel",
            "_view_count": null,
            "_view_module": "@jupyter-widgets/base",
            "_view_module_version": "1.2.0",
            "_view_name": "StyleView",
            "description_width": ""
          }
        },
        "c6eea8775f254209a6f340328bb527f0": {
          "model_module": "@jupyter-widgets/controls",
          "model_name": "HBoxModel",
          "model_module_version": "1.5.0",
          "state": {
            "_dom_classes": [],
            "_model_module": "@jupyter-widgets/controls",
            "_model_module_version": "1.5.0",
            "_model_name": "HBoxModel",
            "_view_count": null,
            "_view_module": "@jupyter-widgets/controls",
            "_view_module_version": "1.5.0",
            "_view_name": "HBoxView",
            "box_style": "",
            "children": [
              "IPY_MODEL_4a5da9b2b2964319a20bfb34b7ccf172",
              "IPY_MODEL_b77be63eeb684d89a992a70334ad05ae",
              "IPY_MODEL_7216f5c015d74bd7ba9b533f8ba5d1aa"
            ],
            "layout": "IPY_MODEL_6f6a315060dc4aa8907b888d6a482ea5"
          }
        },
        "4a5da9b2b2964319a20bfb34b7ccf172": {
          "model_module": "@jupyter-widgets/controls",
          "model_name": "HTMLModel",
          "model_module_version": "1.5.0",
          "state": {
            "_dom_classes": [],
            "_model_module": "@jupyter-widgets/controls",
            "_model_module_version": "1.5.0",
            "_model_name": "HTMLModel",
            "_view_count": null,
            "_view_module": "@jupyter-widgets/controls",
            "_view_module_version": "1.5.0",
            "_view_name": "HTMLView",
            "description": "",
            "description_tooltip": null,
            "layout": "IPY_MODEL_4a4ad8a39b8a4ca1ba65912dd3dafe1a",
            "placeholder": "​",
            "style": "IPY_MODEL_580c8092b7dc4133a79af990cb13d69d",
            "value": "100%"
          }
        },
        "b77be63eeb684d89a992a70334ad05ae": {
          "model_module": "@jupyter-widgets/controls",
          "model_name": "FloatProgressModel",
          "model_module_version": "1.5.0",
          "state": {
            "_dom_classes": [],
            "_model_module": "@jupyter-widgets/controls",
            "_model_module_version": "1.5.0",
            "_model_name": "FloatProgressModel",
            "_view_count": null,
            "_view_module": "@jupyter-widgets/controls",
            "_view_module_version": "1.5.0",
            "_view_name": "ProgressView",
            "bar_style": "success",
            "description": "",
            "description_tooltip": null,
            "layout": "IPY_MODEL_ee06f012ffa749af980bd1d84e7dfe4e",
            "max": 155,
            "min": 0,
            "orientation": "horizontal",
            "style": "IPY_MODEL_9eb574ddc4054300a8f670b95dea84f8",
            "value": 155
          }
        },
        "7216f5c015d74bd7ba9b533f8ba5d1aa": {
          "model_module": "@jupyter-widgets/controls",
          "model_name": "HTMLModel",
          "model_module_version": "1.5.0",
          "state": {
            "_dom_classes": [],
            "_model_module": "@jupyter-widgets/controls",
            "_model_module_version": "1.5.0",
            "_model_name": "HTMLModel",
            "_view_count": null,
            "_view_module": "@jupyter-widgets/controls",
            "_view_module_version": "1.5.0",
            "_view_name": "HTMLView",
            "description": "",
            "description_tooltip": null,
            "layout": "IPY_MODEL_f1103812c6644a64a5dfbd20158b9116",
            "placeholder": "​",
            "style": "IPY_MODEL_1da940c49d9146ddad3d1872c381f650",
            "value": " 155/155 [02:06&lt;00:00,  1.17it/s]"
          }
        },
        "6f6a315060dc4aa8907b888d6a482ea5": {
          "model_module": "@jupyter-widgets/base",
          "model_name": "LayoutModel",
          "model_module_version": "1.2.0",
          "state": {
            "_model_module": "@jupyter-widgets/base",
            "_model_module_version": "1.2.0",
            "_model_name": "LayoutModel",
            "_view_count": null,
            "_view_module": "@jupyter-widgets/base",
            "_view_module_version": "1.2.0",
            "_view_name": "LayoutView",
            "align_content": null,
            "align_items": null,
            "align_self": null,
            "border": null,
            "bottom": null,
            "display": null,
            "flex": null,
            "flex_flow": null,
            "grid_area": null,
            "grid_auto_columns": null,
            "grid_auto_flow": null,
            "grid_auto_rows": null,
            "grid_column": null,
            "grid_gap": null,
            "grid_row": null,
            "grid_template_areas": null,
            "grid_template_columns": null,
            "grid_template_rows": null,
            "height": null,
            "justify_content": null,
            "justify_items": null,
            "left": null,
            "margin": null,
            "max_height": null,
            "max_width": null,
            "min_height": null,
            "min_width": null,
            "object_fit": null,
            "object_position": null,
            "order": null,
            "overflow": null,
            "overflow_x": null,
            "overflow_y": null,
            "padding": null,
            "right": null,
            "top": null,
            "visibility": null,
            "width": null
          }
        },
        "4a4ad8a39b8a4ca1ba65912dd3dafe1a": {
          "model_module": "@jupyter-widgets/base",
          "model_name": "LayoutModel",
          "model_module_version": "1.2.0",
          "state": {
            "_model_module": "@jupyter-widgets/base",
            "_model_module_version": "1.2.0",
            "_model_name": "LayoutModel",
            "_view_count": null,
            "_view_module": "@jupyter-widgets/base",
            "_view_module_version": "1.2.0",
            "_view_name": "LayoutView",
            "align_content": null,
            "align_items": null,
            "align_self": null,
            "border": null,
            "bottom": null,
            "display": null,
            "flex": null,
            "flex_flow": null,
            "grid_area": null,
            "grid_auto_columns": null,
            "grid_auto_flow": null,
            "grid_auto_rows": null,
            "grid_column": null,
            "grid_gap": null,
            "grid_row": null,
            "grid_template_areas": null,
            "grid_template_columns": null,
            "grid_template_rows": null,
            "height": null,
            "justify_content": null,
            "justify_items": null,
            "left": null,
            "margin": null,
            "max_height": null,
            "max_width": null,
            "min_height": null,
            "min_width": null,
            "object_fit": null,
            "object_position": null,
            "order": null,
            "overflow": null,
            "overflow_x": null,
            "overflow_y": null,
            "padding": null,
            "right": null,
            "top": null,
            "visibility": null,
            "width": null
          }
        },
        "580c8092b7dc4133a79af990cb13d69d": {
          "model_module": "@jupyter-widgets/controls",
          "model_name": "DescriptionStyleModel",
          "model_module_version": "1.5.0",
          "state": {
            "_model_module": "@jupyter-widgets/controls",
            "_model_module_version": "1.5.0",
            "_model_name": "DescriptionStyleModel",
            "_view_count": null,
            "_view_module": "@jupyter-widgets/base",
            "_view_module_version": "1.2.0",
            "_view_name": "StyleView",
            "description_width": ""
          }
        },
        "ee06f012ffa749af980bd1d84e7dfe4e": {
          "model_module": "@jupyter-widgets/base",
          "model_name": "LayoutModel",
          "model_module_version": "1.2.0",
          "state": {
            "_model_module": "@jupyter-widgets/base",
            "_model_module_version": "1.2.0",
            "_model_name": "LayoutModel",
            "_view_count": null,
            "_view_module": "@jupyter-widgets/base",
            "_view_module_version": "1.2.0",
            "_view_name": "LayoutView",
            "align_content": null,
            "align_items": null,
            "align_self": null,
            "border": null,
            "bottom": null,
            "display": null,
            "flex": null,
            "flex_flow": null,
            "grid_area": null,
            "grid_auto_columns": null,
            "grid_auto_flow": null,
            "grid_auto_rows": null,
            "grid_column": null,
            "grid_gap": null,
            "grid_row": null,
            "grid_template_areas": null,
            "grid_template_columns": null,
            "grid_template_rows": null,
            "height": null,
            "justify_content": null,
            "justify_items": null,
            "left": null,
            "margin": null,
            "max_height": null,
            "max_width": null,
            "min_height": null,
            "min_width": null,
            "object_fit": null,
            "object_position": null,
            "order": null,
            "overflow": null,
            "overflow_x": null,
            "overflow_y": null,
            "padding": null,
            "right": null,
            "top": null,
            "visibility": null,
            "width": null
          }
        },
        "9eb574ddc4054300a8f670b95dea84f8": {
          "model_module": "@jupyter-widgets/controls",
          "model_name": "ProgressStyleModel",
          "model_module_version": "1.5.0",
          "state": {
            "_model_module": "@jupyter-widgets/controls",
            "_model_module_version": "1.5.0",
            "_model_name": "ProgressStyleModel",
            "_view_count": null,
            "_view_module": "@jupyter-widgets/base",
            "_view_module_version": "1.2.0",
            "_view_name": "StyleView",
            "bar_color": null,
            "description_width": ""
          }
        },
        "f1103812c6644a64a5dfbd20158b9116": {
          "model_module": "@jupyter-widgets/base",
          "model_name": "LayoutModel",
          "model_module_version": "1.2.0",
          "state": {
            "_model_module": "@jupyter-widgets/base",
            "_model_module_version": "1.2.0",
            "_model_name": "LayoutModel",
            "_view_count": null,
            "_view_module": "@jupyter-widgets/base",
            "_view_module_version": "1.2.0",
            "_view_name": "LayoutView",
            "align_content": null,
            "align_items": null,
            "align_self": null,
            "border": null,
            "bottom": null,
            "display": null,
            "flex": null,
            "flex_flow": null,
            "grid_area": null,
            "grid_auto_columns": null,
            "grid_auto_flow": null,
            "grid_auto_rows": null,
            "grid_column": null,
            "grid_gap": null,
            "grid_row": null,
            "grid_template_areas": null,
            "grid_template_columns": null,
            "grid_template_rows": null,
            "height": null,
            "justify_content": null,
            "justify_items": null,
            "left": null,
            "margin": null,
            "max_height": null,
            "max_width": null,
            "min_height": null,
            "min_width": null,
            "object_fit": null,
            "object_position": null,
            "order": null,
            "overflow": null,
            "overflow_x": null,
            "overflow_y": null,
            "padding": null,
            "right": null,
            "top": null,
            "visibility": null,
            "width": null
          }
        },
        "1da940c49d9146ddad3d1872c381f650": {
          "model_module": "@jupyter-widgets/controls",
          "model_name": "DescriptionStyleModel",
          "model_module_version": "1.5.0",
          "state": {
            "_model_module": "@jupyter-widgets/controls",
            "_model_module_version": "1.5.0",
            "_model_name": "DescriptionStyleModel",
            "_view_count": null,
            "_view_module": "@jupyter-widgets/base",
            "_view_module_version": "1.2.0",
            "_view_name": "StyleView",
            "description_width": ""
          }
        },
        "4e21fc8b410248c9aa15d0176f8bbc93": {
          "model_module": "@jupyter-widgets/controls",
          "model_name": "HBoxModel",
          "model_module_version": "1.5.0",
          "state": {
            "_dom_classes": [],
            "_model_module": "@jupyter-widgets/controls",
            "_model_module_version": "1.5.0",
            "_model_name": "HBoxModel",
            "_view_count": null,
            "_view_module": "@jupyter-widgets/controls",
            "_view_module_version": "1.5.0",
            "_view_name": "HBoxView",
            "box_style": "",
            "children": [
              "IPY_MODEL_32072b9292ba43f2ab59e1ff77faa231",
              "IPY_MODEL_f7358c5ced33439682613d7929371c6d",
              "IPY_MODEL_c8723f8b043c41668efd5ffc61f9a84b"
            ],
            "layout": "IPY_MODEL_f0a46e30e6e04fbab77cd1e7737a4abd"
          }
        },
        "32072b9292ba43f2ab59e1ff77faa231": {
          "model_module": "@jupyter-widgets/controls",
          "model_name": "HTMLModel",
          "model_module_version": "1.5.0",
          "state": {
            "_dom_classes": [],
            "_model_module": "@jupyter-widgets/controls",
            "_model_module_version": "1.5.0",
            "_model_name": "HTMLModel",
            "_view_count": null,
            "_view_module": "@jupyter-widgets/controls",
            "_view_module_version": "1.5.0",
            "_view_name": "HTMLView",
            "description": "",
            "description_tooltip": null,
            "layout": "IPY_MODEL_6305f75e8e1045af81afb0112aa3780e",
            "placeholder": "​",
            "style": "IPY_MODEL_97bce7ecd4c04682b60a4622ce7e04e0",
            "value": "100%"
          }
        },
        "f7358c5ced33439682613d7929371c6d": {
          "model_module": "@jupyter-widgets/controls",
          "model_name": "FloatProgressModel",
          "model_module_version": "1.5.0",
          "state": {
            "_dom_classes": [],
            "_model_module": "@jupyter-widgets/controls",
            "_model_module_version": "1.5.0",
            "_model_name": "FloatProgressModel",
            "_view_count": null,
            "_view_module": "@jupyter-widgets/controls",
            "_view_module_version": "1.5.0",
            "_view_name": "ProgressView",
            "bar_style": "success",
            "description": "",
            "description_tooltip": null,
            "layout": "IPY_MODEL_ec43f19d35bd4798aa6cc69bcb13b125",
            "max": 221,
            "min": 0,
            "orientation": "horizontal",
            "style": "IPY_MODEL_518c5aabd6c84fc292f26a79c5ad2a53",
            "value": 221
          }
        },
        "c8723f8b043c41668efd5ffc61f9a84b": {
          "model_module": "@jupyter-widgets/controls",
          "model_name": "HTMLModel",
          "model_module_version": "1.5.0",
          "state": {
            "_dom_classes": [],
            "_model_module": "@jupyter-widgets/controls",
            "_model_module_version": "1.5.0",
            "_model_name": "HTMLModel",
            "_view_count": null,
            "_view_module": "@jupyter-widgets/controls",
            "_view_module_version": "1.5.0",
            "_view_name": "HTMLView",
            "description": "",
            "description_tooltip": null,
            "layout": "IPY_MODEL_c10fb7f6a3004dcba400fac3c90ed7f8",
            "placeholder": "​",
            "style": "IPY_MODEL_888f3e432da3451d93058b108e6ac65e",
            "value": " 221/221 [02:33&lt;00:00,  1.85it/s]"
          }
        },
        "f0a46e30e6e04fbab77cd1e7737a4abd": {
          "model_module": "@jupyter-widgets/base",
          "model_name": "LayoutModel",
          "model_module_version": "1.2.0",
          "state": {
            "_model_module": "@jupyter-widgets/base",
            "_model_module_version": "1.2.0",
            "_model_name": "LayoutModel",
            "_view_count": null,
            "_view_module": "@jupyter-widgets/base",
            "_view_module_version": "1.2.0",
            "_view_name": "LayoutView",
            "align_content": null,
            "align_items": null,
            "align_self": null,
            "border": null,
            "bottom": null,
            "display": null,
            "flex": null,
            "flex_flow": null,
            "grid_area": null,
            "grid_auto_columns": null,
            "grid_auto_flow": null,
            "grid_auto_rows": null,
            "grid_column": null,
            "grid_gap": null,
            "grid_row": null,
            "grid_template_areas": null,
            "grid_template_columns": null,
            "grid_template_rows": null,
            "height": null,
            "justify_content": null,
            "justify_items": null,
            "left": null,
            "margin": null,
            "max_height": null,
            "max_width": null,
            "min_height": null,
            "min_width": null,
            "object_fit": null,
            "object_position": null,
            "order": null,
            "overflow": null,
            "overflow_x": null,
            "overflow_y": null,
            "padding": null,
            "right": null,
            "top": null,
            "visibility": null,
            "width": null
          }
        },
        "6305f75e8e1045af81afb0112aa3780e": {
          "model_module": "@jupyter-widgets/base",
          "model_name": "LayoutModel",
          "model_module_version": "1.2.0",
          "state": {
            "_model_module": "@jupyter-widgets/base",
            "_model_module_version": "1.2.0",
            "_model_name": "LayoutModel",
            "_view_count": null,
            "_view_module": "@jupyter-widgets/base",
            "_view_module_version": "1.2.0",
            "_view_name": "LayoutView",
            "align_content": null,
            "align_items": null,
            "align_self": null,
            "border": null,
            "bottom": null,
            "display": null,
            "flex": null,
            "flex_flow": null,
            "grid_area": null,
            "grid_auto_columns": null,
            "grid_auto_flow": null,
            "grid_auto_rows": null,
            "grid_column": null,
            "grid_gap": null,
            "grid_row": null,
            "grid_template_areas": null,
            "grid_template_columns": null,
            "grid_template_rows": null,
            "height": null,
            "justify_content": null,
            "justify_items": null,
            "left": null,
            "margin": null,
            "max_height": null,
            "max_width": null,
            "min_height": null,
            "min_width": null,
            "object_fit": null,
            "object_position": null,
            "order": null,
            "overflow": null,
            "overflow_x": null,
            "overflow_y": null,
            "padding": null,
            "right": null,
            "top": null,
            "visibility": null,
            "width": null
          }
        },
        "97bce7ecd4c04682b60a4622ce7e04e0": {
          "model_module": "@jupyter-widgets/controls",
          "model_name": "DescriptionStyleModel",
          "model_module_version": "1.5.0",
          "state": {
            "_model_module": "@jupyter-widgets/controls",
            "_model_module_version": "1.5.0",
            "_model_name": "DescriptionStyleModel",
            "_view_count": null,
            "_view_module": "@jupyter-widgets/base",
            "_view_module_version": "1.2.0",
            "_view_name": "StyleView",
            "description_width": ""
          }
        },
        "ec43f19d35bd4798aa6cc69bcb13b125": {
          "model_module": "@jupyter-widgets/base",
          "model_name": "LayoutModel",
          "model_module_version": "1.2.0",
          "state": {
            "_model_module": "@jupyter-widgets/base",
            "_model_module_version": "1.2.0",
            "_model_name": "LayoutModel",
            "_view_count": null,
            "_view_module": "@jupyter-widgets/base",
            "_view_module_version": "1.2.0",
            "_view_name": "LayoutView",
            "align_content": null,
            "align_items": null,
            "align_self": null,
            "border": null,
            "bottom": null,
            "display": null,
            "flex": null,
            "flex_flow": null,
            "grid_area": null,
            "grid_auto_columns": null,
            "grid_auto_flow": null,
            "grid_auto_rows": null,
            "grid_column": null,
            "grid_gap": null,
            "grid_row": null,
            "grid_template_areas": null,
            "grid_template_columns": null,
            "grid_template_rows": null,
            "height": null,
            "justify_content": null,
            "justify_items": null,
            "left": null,
            "margin": null,
            "max_height": null,
            "max_width": null,
            "min_height": null,
            "min_width": null,
            "object_fit": null,
            "object_position": null,
            "order": null,
            "overflow": null,
            "overflow_x": null,
            "overflow_y": null,
            "padding": null,
            "right": null,
            "top": null,
            "visibility": null,
            "width": null
          }
        },
        "518c5aabd6c84fc292f26a79c5ad2a53": {
          "model_module": "@jupyter-widgets/controls",
          "model_name": "ProgressStyleModel",
          "model_module_version": "1.5.0",
          "state": {
            "_model_module": "@jupyter-widgets/controls",
            "_model_module_version": "1.5.0",
            "_model_name": "ProgressStyleModel",
            "_view_count": null,
            "_view_module": "@jupyter-widgets/base",
            "_view_module_version": "1.2.0",
            "_view_name": "StyleView",
            "bar_color": null,
            "description_width": ""
          }
        },
        "c10fb7f6a3004dcba400fac3c90ed7f8": {
          "model_module": "@jupyter-widgets/base",
          "model_name": "LayoutModel",
          "model_module_version": "1.2.0",
          "state": {
            "_model_module": "@jupyter-widgets/base",
            "_model_module_version": "1.2.0",
            "_model_name": "LayoutModel",
            "_view_count": null,
            "_view_module": "@jupyter-widgets/base",
            "_view_module_version": "1.2.0",
            "_view_name": "LayoutView",
            "align_content": null,
            "align_items": null,
            "align_self": null,
            "border": null,
            "bottom": null,
            "display": null,
            "flex": null,
            "flex_flow": null,
            "grid_area": null,
            "grid_auto_columns": null,
            "grid_auto_flow": null,
            "grid_auto_rows": null,
            "grid_column": null,
            "grid_gap": null,
            "grid_row": null,
            "grid_template_areas": null,
            "grid_template_columns": null,
            "grid_template_rows": null,
            "height": null,
            "justify_content": null,
            "justify_items": null,
            "left": null,
            "margin": null,
            "max_height": null,
            "max_width": null,
            "min_height": null,
            "min_width": null,
            "object_fit": null,
            "object_position": null,
            "order": null,
            "overflow": null,
            "overflow_x": null,
            "overflow_y": null,
            "padding": null,
            "right": null,
            "top": null,
            "visibility": null,
            "width": null
          }
        },
        "888f3e432da3451d93058b108e6ac65e": {
          "model_module": "@jupyter-widgets/controls",
          "model_name": "DescriptionStyleModel",
          "model_module_version": "1.5.0",
          "state": {
            "_model_module": "@jupyter-widgets/controls",
            "_model_module_version": "1.5.0",
            "_model_name": "DescriptionStyleModel",
            "_view_count": null,
            "_view_module": "@jupyter-widgets/base",
            "_view_module_version": "1.2.0",
            "_view_name": "StyleView",
            "description_width": ""
          }
        },
        "d0cb8193cfd44865a0520fbab147759b": {
          "model_module": "@jupyter-widgets/controls",
          "model_name": "HBoxModel",
          "model_module_version": "1.5.0",
          "state": {
            "_dom_classes": [],
            "_model_module": "@jupyter-widgets/controls",
            "_model_module_version": "1.5.0",
            "_model_name": "HBoxModel",
            "_view_count": null,
            "_view_module": "@jupyter-widgets/controls",
            "_view_module_version": "1.5.0",
            "_view_name": "HBoxView",
            "box_style": "",
            "children": [
              "IPY_MODEL_a77c63c9b6b94cfc88cf84dba929c465",
              "IPY_MODEL_602fed9c3fc34d309ac7a1c934bacea6",
              "IPY_MODEL_cef40248f6084c5d9341623c9b7a4bc3"
            ],
            "layout": "IPY_MODEL_9872f5e2b71645ca99c135f063a0559c"
          }
        },
        "a77c63c9b6b94cfc88cf84dba929c465": {
          "model_module": "@jupyter-widgets/controls",
          "model_name": "HTMLModel",
          "model_module_version": "1.5.0",
          "state": {
            "_dom_classes": [],
            "_model_module": "@jupyter-widgets/controls",
            "_model_module_version": "1.5.0",
            "_model_name": "HTMLModel",
            "_view_count": null,
            "_view_module": "@jupyter-widgets/controls",
            "_view_module_version": "1.5.0",
            "_view_name": "HTMLView",
            "description": "",
            "description_tooltip": null,
            "layout": "IPY_MODEL_9bee132864444fe8a74e888cc8e415de",
            "placeholder": "​",
            "style": "IPY_MODEL_bcce9c7ac8ba4a198f4859745811dd52",
            "value": "100%"
          }
        },
        "602fed9c3fc34d309ac7a1c934bacea6": {
          "model_module": "@jupyter-widgets/controls",
          "model_name": "FloatProgressModel",
          "model_module_version": "1.5.0",
          "state": {
            "_dom_classes": [],
            "_model_module": "@jupyter-widgets/controls",
            "_model_module_version": "1.5.0",
            "_model_name": "FloatProgressModel",
            "_view_count": null,
            "_view_module": "@jupyter-widgets/controls",
            "_view_module_version": "1.5.0",
            "_view_name": "ProgressView",
            "bar_style": "success",
            "description": "",
            "description_tooltip": null,
            "layout": "IPY_MODEL_3e3b12b6625d4c78a351a36292390154",
            "max": 155,
            "min": 0,
            "orientation": "horizontal",
            "style": "IPY_MODEL_76153a80c5b64795a8e17e58c186d8dd",
            "value": 155
          }
        },
        "cef40248f6084c5d9341623c9b7a4bc3": {
          "model_module": "@jupyter-widgets/controls",
          "model_name": "HTMLModel",
          "model_module_version": "1.5.0",
          "state": {
            "_dom_classes": [],
            "_model_module": "@jupyter-widgets/controls",
            "_model_module_version": "1.5.0",
            "_model_name": "HTMLModel",
            "_view_count": null,
            "_view_module": "@jupyter-widgets/controls",
            "_view_module_version": "1.5.0",
            "_view_name": "HTMLView",
            "description": "",
            "description_tooltip": null,
            "layout": "IPY_MODEL_ee13545504a7478da5125f6beee9c86f",
            "placeholder": "​",
            "style": "IPY_MODEL_40f8ccb57b8a4271bc245a0cbbf0d0aa",
            "value": " 155/155 [01:39&lt;00:00,  1.39it/s]"
          }
        },
        "9872f5e2b71645ca99c135f063a0559c": {
          "model_module": "@jupyter-widgets/base",
          "model_name": "LayoutModel",
          "model_module_version": "1.2.0",
          "state": {
            "_model_module": "@jupyter-widgets/base",
            "_model_module_version": "1.2.0",
            "_model_name": "LayoutModel",
            "_view_count": null,
            "_view_module": "@jupyter-widgets/base",
            "_view_module_version": "1.2.0",
            "_view_name": "LayoutView",
            "align_content": null,
            "align_items": null,
            "align_self": null,
            "border": null,
            "bottom": null,
            "display": null,
            "flex": null,
            "flex_flow": null,
            "grid_area": null,
            "grid_auto_columns": null,
            "grid_auto_flow": null,
            "grid_auto_rows": null,
            "grid_column": null,
            "grid_gap": null,
            "grid_row": null,
            "grid_template_areas": null,
            "grid_template_columns": null,
            "grid_template_rows": null,
            "height": null,
            "justify_content": null,
            "justify_items": null,
            "left": null,
            "margin": null,
            "max_height": null,
            "max_width": null,
            "min_height": null,
            "min_width": null,
            "object_fit": null,
            "object_position": null,
            "order": null,
            "overflow": null,
            "overflow_x": null,
            "overflow_y": null,
            "padding": null,
            "right": null,
            "top": null,
            "visibility": null,
            "width": null
          }
        },
        "9bee132864444fe8a74e888cc8e415de": {
          "model_module": "@jupyter-widgets/base",
          "model_name": "LayoutModel",
          "model_module_version": "1.2.0",
          "state": {
            "_model_module": "@jupyter-widgets/base",
            "_model_module_version": "1.2.0",
            "_model_name": "LayoutModel",
            "_view_count": null,
            "_view_module": "@jupyter-widgets/base",
            "_view_module_version": "1.2.0",
            "_view_name": "LayoutView",
            "align_content": null,
            "align_items": null,
            "align_self": null,
            "border": null,
            "bottom": null,
            "display": null,
            "flex": null,
            "flex_flow": null,
            "grid_area": null,
            "grid_auto_columns": null,
            "grid_auto_flow": null,
            "grid_auto_rows": null,
            "grid_column": null,
            "grid_gap": null,
            "grid_row": null,
            "grid_template_areas": null,
            "grid_template_columns": null,
            "grid_template_rows": null,
            "height": null,
            "justify_content": null,
            "justify_items": null,
            "left": null,
            "margin": null,
            "max_height": null,
            "max_width": null,
            "min_height": null,
            "min_width": null,
            "object_fit": null,
            "object_position": null,
            "order": null,
            "overflow": null,
            "overflow_x": null,
            "overflow_y": null,
            "padding": null,
            "right": null,
            "top": null,
            "visibility": null,
            "width": null
          }
        },
        "bcce9c7ac8ba4a198f4859745811dd52": {
          "model_module": "@jupyter-widgets/controls",
          "model_name": "DescriptionStyleModel",
          "model_module_version": "1.5.0",
          "state": {
            "_model_module": "@jupyter-widgets/controls",
            "_model_module_version": "1.5.0",
            "_model_name": "DescriptionStyleModel",
            "_view_count": null,
            "_view_module": "@jupyter-widgets/base",
            "_view_module_version": "1.2.0",
            "_view_name": "StyleView",
            "description_width": ""
          }
        },
        "3e3b12b6625d4c78a351a36292390154": {
          "model_module": "@jupyter-widgets/base",
          "model_name": "LayoutModel",
          "model_module_version": "1.2.0",
          "state": {
            "_model_module": "@jupyter-widgets/base",
            "_model_module_version": "1.2.0",
            "_model_name": "LayoutModel",
            "_view_count": null,
            "_view_module": "@jupyter-widgets/base",
            "_view_module_version": "1.2.0",
            "_view_name": "LayoutView",
            "align_content": null,
            "align_items": null,
            "align_self": null,
            "border": null,
            "bottom": null,
            "display": null,
            "flex": null,
            "flex_flow": null,
            "grid_area": null,
            "grid_auto_columns": null,
            "grid_auto_flow": null,
            "grid_auto_rows": null,
            "grid_column": null,
            "grid_gap": null,
            "grid_row": null,
            "grid_template_areas": null,
            "grid_template_columns": null,
            "grid_template_rows": null,
            "height": null,
            "justify_content": null,
            "justify_items": null,
            "left": null,
            "margin": null,
            "max_height": null,
            "max_width": null,
            "min_height": null,
            "min_width": null,
            "object_fit": null,
            "object_position": null,
            "order": null,
            "overflow": null,
            "overflow_x": null,
            "overflow_y": null,
            "padding": null,
            "right": null,
            "top": null,
            "visibility": null,
            "width": null
          }
        },
        "76153a80c5b64795a8e17e58c186d8dd": {
          "model_module": "@jupyter-widgets/controls",
          "model_name": "ProgressStyleModel",
          "model_module_version": "1.5.0",
          "state": {
            "_model_module": "@jupyter-widgets/controls",
            "_model_module_version": "1.5.0",
            "_model_name": "ProgressStyleModel",
            "_view_count": null,
            "_view_module": "@jupyter-widgets/base",
            "_view_module_version": "1.2.0",
            "_view_name": "StyleView",
            "bar_color": null,
            "description_width": ""
          }
        },
        "ee13545504a7478da5125f6beee9c86f": {
          "model_module": "@jupyter-widgets/base",
          "model_name": "LayoutModel",
          "model_module_version": "1.2.0",
          "state": {
            "_model_module": "@jupyter-widgets/base",
            "_model_module_version": "1.2.0",
            "_model_name": "LayoutModel",
            "_view_count": null,
            "_view_module": "@jupyter-widgets/base",
            "_view_module_version": "1.2.0",
            "_view_name": "LayoutView",
            "align_content": null,
            "align_items": null,
            "align_self": null,
            "border": null,
            "bottom": null,
            "display": null,
            "flex": null,
            "flex_flow": null,
            "grid_area": null,
            "grid_auto_columns": null,
            "grid_auto_flow": null,
            "grid_auto_rows": null,
            "grid_column": null,
            "grid_gap": null,
            "grid_row": null,
            "grid_template_areas": null,
            "grid_template_columns": null,
            "grid_template_rows": null,
            "height": null,
            "justify_content": null,
            "justify_items": null,
            "left": null,
            "margin": null,
            "max_height": null,
            "max_width": null,
            "min_height": null,
            "min_width": null,
            "object_fit": null,
            "object_position": null,
            "order": null,
            "overflow": null,
            "overflow_x": null,
            "overflow_y": null,
            "padding": null,
            "right": null,
            "top": null,
            "visibility": null,
            "width": null
          }
        },
        "40f8ccb57b8a4271bc245a0cbbf0d0aa": {
          "model_module": "@jupyter-widgets/controls",
          "model_name": "DescriptionStyleModel",
          "model_module_version": "1.5.0",
          "state": {
            "_model_module": "@jupyter-widgets/controls",
            "_model_module_version": "1.5.0",
            "_model_name": "DescriptionStyleModel",
            "_view_count": null,
            "_view_module": "@jupyter-widgets/base",
            "_view_module_version": "1.2.0",
            "_view_name": "StyleView",
            "description_width": ""
          }
        },
        "c6508aaf1e8d43d58d4d15c439000979": {
          "model_module": "@jupyter-widgets/controls",
          "model_name": "HBoxModel",
          "model_module_version": "1.5.0",
          "state": {
            "_dom_classes": [],
            "_model_module": "@jupyter-widgets/controls",
            "_model_module_version": "1.5.0",
            "_model_name": "HBoxModel",
            "_view_count": null,
            "_view_module": "@jupyter-widgets/controls",
            "_view_module_version": "1.5.0",
            "_view_name": "HBoxView",
            "box_style": "",
            "children": [
              "IPY_MODEL_1260c4f044494c5b8183fa25232c93eb",
              "IPY_MODEL_7ff805f7ecce4d09834c7a3197c0dfcf",
              "IPY_MODEL_9dbf89f935dd46a792ffaf0ed8dddf3c"
            ],
            "layout": "IPY_MODEL_de35b3e8feef4e31a8c0f5e08ae6f5f0"
          }
        },
        "1260c4f044494c5b8183fa25232c93eb": {
          "model_module": "@jupyter-widgets/controls",
          "model_name": "HTMLModel",
          "model_module_version": "1.5.0",
          "state": {
            "_dom_classes": [],
            "_model_module": "@jupyter-widgets/controls",
            "_model_module_version": "1.5.0",
            "_model_name": "HTMLModel",
            "_view_count": null,
            "_view_module": "@jupyter-widgets/controls",
            "_view_module_version": "1.5.0",
            "_view_name": "HTMLView",
            "description": "",
            "description_tooltip": null,
            "layout": "IPY_MODEL_91c5de1c70734e5bb1c23cd53e4a6f4e",
            "placeholder": "​",
            "style": "IPY_MODEL_6e88df2d60db453fbe049162470b38f6",
            "value": "100%"
          }
        },
        "7ff805f7ecce4d09834c7a3197c0dfcf": {
          "model_module": "@jupyter-widgets/controls",
          "model_name": "FloatProgressModel",
          "model_module_version": "1.5.0",
          "state": {
            "_dom_classes": [],
            "_model_module": "@jupyter-widgets/controls",
            "_model_module_version": "1.5.0",
            "_model_name": "FloatProgressModel",
            "_view_count": null,
            "_view_module": "@jupyter-widgets/controls",
            "_view_module_version": "1.5.0",
            "_view_name": "ProgressView",
            "bar_style": "success",
            "description": "",
            "description_tooltip": null,
            "layout": "IPY_MODEL_77281f5e2eac4aa7adf2dfe65eeb12d2",
            "max": 221,
            "min": 0,
            "orientation": "horizontal",
            "style": "IPY_MODEL_079ad5babc4b48eb90f64422b509b8b0",
            "value": 221
          }
        },
        "9dbf89f935dd46a792ffaf0ed8dddf3c": {
          "model_module": "@jupyter-widgets/controls",
          "model_name": "HTMLModel",
          "model_module_version": "1.5.0",
          "state": {
            "_dom_classes": [],
            "_model_module": "@jupyter-widgets/controls",
            "_model_module_version": "1.5.0",
            "_model_name": "HTMLModel",
            "_view_count": null,
            "_view_module": "@jupyter-widgets/controls",
            "_view_module_version": "1.5.0",
            "_view_name": "HTMLView",
            "description": "",
            "description_tooltip": null,
            "layout": "IPY_MODEL_5c027be5f33446faa4e7b35e318cd340",
            "placeholder": "​",
            "style": "IPY_MODEL_d515d006a095474a8638535a5cafeb4b",
            "value": " 221/221 [01:52&lt;00:00,  2.04it/s]"
          }
        },
        "de35b3e8feef4e31a8c0f5e08ae6f5f0": {
          "model_module": "@jupyter-widgets/base",
          "model_name": "LayoutModel",
          "model_module_version": "1.2.0",
          "state": {
            "_model_module": "@jupyter-widgets/base",
            "_model_module_version": "1.2.0",
            "_model_name": "LayoutModel",
            "_view_count": null,
            "_view_module": "@jupyter-widgets/base",
            "_view_module_version": "1.2.0",
            "_view_name": "LayoutView",
            "align_content": null,
            "align_items": null,
            "align_self": null,
            "border": null,
            "bottom": null,
            "display": null,
            "flex": null,
            "flex_flow": null,
            "grid_area": null,
            "grid_auto_columns": null,
            "grid_auto_flow": null,
            "grid_auto_rows": null,
            "grid_column": null,
            "grid_gap": null,
            "grid_row": null,
            "grid_template_areas": null,
            "grid_template_columns": null,
            "grid_template_rows": null,
            "height": null,
            "justify_content": null,
            "justify_items": null,
            "left": null,
            "margin": null,
            "max_height": null,
            "max_width": null,
            "min_height": null,
            "min_width": null,
            "object_fit": null,
            "object_position": null,
            "order": null,
            "overflow": null,
            "overflow_x": null,
            "overflow_y": null,
            "padding": null,
            "right": null,
            "top": null,
            "visibility": null,
            "width": null
          }
        },
        "91c5de1c70734e5bb1c23cd53e4a6f4e": {
          "model_module": "@jupyter-widgets/base",
          "model_name": "LayoutModel",
          "model_module_version": "1.2.0",
          "state": {
            "_model_module": "@jupyter-widgets/base",
            "_model_module_version": "1.2.0",
            "_model_name": "LayoutModel",
            "_view_count": null,
            "_view_module": "@jupyter-widgets/base",
            "_view_module_version": "1.2.0",
            "_view_name": "LayoutView",
            "align_content": null,
            "align_items": null,
            "align_self": null,
            "border": null,
            "bottom": null,
            "display": null,
            "flex": null,
            "flex_flow": null,
            "grid_area": null,
            "grid_auto_columns": null,
            "grid_auto_flow": null,
            "grid_auto_rows": null,
            "grid_column": null,
            "grid_gap": null,
            "grid_row": null,
            "grid_template_areas": null,
            "grid_template_columns": null,
            "grid_template_rows": null,
            "height": null,
            "justify_content": null,
            "justify_items": null,
            "left": null,
            "margin": null,
            "max_height": null,
            "max_width": null,
            "min_height": null,
            "min_width": null,
            "object_fit": null,
            "object_position": null,
            "order": null,
            "overflow": null,
            "overflow_x": null,
            "overflow_y": null,
            "padding": null,
            "right": null,
            "top": null,
            "visibility": null,
            "width": null
          }
        },
        "6e88df2d60db453fbe049162470b38f6": {
          "model_module": "@jupyter-widgets/controls",
          "model_name": "DescriptionStyleModel",
          "model_module_version": "1.5.0",
          "state": {
            "_model_module": "@jupyter-widgets/controls",
            "_model_module_version": "1.5.0",
            "_model_name": "DescriptionStyleModel",
            "_view_count": null,
            "_view_module": "@jupyter-widgets/base",
            "_view_module_version": "1.2.0",
            "_view_name": "StyleView",
            "description_width": ""
          }
        },
        "77281f5e2eac4aa7adf2dfe65eeb12d2": {
          "model_module": "@jupyter-widgets/base",
          "model_name": "LayoutModel",
          "model_module_version": "1.2.0",
          "state": {
            "_model_module": "@jupyter-widgets/base",
            "_model_module_version": "1.2.0",
            "_model_name": "LayoutModel",
            "_view_count": null,
            "_view_module": "@jupyter-widgets/base",
            "_view_module_version": "1.2.0",
            "_view_name": "LayoutView",
            "align_content": null,
            "align_items": null,
            "align_self": null,
            "border": null,
            "bottom": null,
            "display": null,
            "flex": null,
            "flex_flow": null,
            "grid_area": null,
            "grid_auto_columns": null,
            "grid_auto_flow": null,
            "grid_auto_rows": null,
            "grid_column": null,
            "grid_gap": null,
            "grid_row": null,
            "grid_template_areas": null,
            "grid_template_columns": null,
            "grid_template_rows": null,
            "height": null,
            "justify_content": null,
            "justify_items": null,
            "left": null,
            "margin": null,
            "max_height": null,
            "max_width": null,
            "min_height": null,
            "min_width": null,
            "object_fit": null,
            "object_position": null,
            "order": null,
            "overflow": null,
            "overflow_x": null,
            "overflow_y": null,
            "padding": null,
            "right": null,
            "top": null,
            "visibility": null,
            "width": null
          }
        },
        "079ad5babc4b48eb90f64422b509b8b0": {
          "model_module": "@jupyter-widgets/controls",
          "model_name": "ProgressStyleModel",
          "model_module_version": "1.5.0",
          "state": {
            "_model_module": "@jupyter-widgets/controls",
            "_model_module_version": "1.5.0",
            "_model_name": "ProgressStyleModel",
            "_view_count": null,
            "_view_module": "@jupyter-widgets/base",
            "_view_module_version": "1.2.0",
            "_view_name": "StyleView",
            "bar_color": null,
            "description_width": ""
          }
        },
        "5c027be5f33446faa4e7b35e318cd340": {
          "model_module": "@jupyter-widgets/base",
          "model_name": "LayoutModel",
          "model_module_version": "1.2.0",
          "state": {
            "_model_module": "@jupyter-widgets/base",
            "_model_module_version": "1.2.0",
            "_model_name": "LayoutModel",
            "_view_count": null,
            "_view_module": "@jupyter-widgets/base",
            "_view_module_version": "1.2.0",
            "_view_name": "LayoutView",
            "align_content": null,
            "align_items": null,
            "align_self": null,
            "border": null,
            "bottom": null,
            "display": null,
            "flex": null,
            "flex_flow": null,
            "grid_area": null,
            "grid_auto_columns": null,
            "grid_auto_flow": null,
            "grid_auto_rows": null,
            "grid_column": null,
            "grid_gap": null,
            "grid_row": null,
            "grid_template_areas": null,
            "grid_template_columns": null,
            "grid_template_rows": null,
            "height": null,
            "justify_content": null,
            "justify_items": null,
            "left": null,
            "margin": null,
            "max_height": null,
            "max_width": null,
            "min_height": null,
            "min_width": null,
            "object_fit": null,
            "object_position": null,
            "order": null,
            "overflow": null,
            "overflow_x": null,
            "overflow_y": null,
            "padding": null,
            "right": null,
            "top": null,
            "visibility": null,
            "width": null
          }
        },
        "d515d006a095474a8638535a5cafeb4b": {
          "model_module": "@jupyter-widgets/controls",
          "model_name": "DescriptionStyleModel",
          "model_module_version": "1.5.0",
          "state": {
            "_model_module": "@jupyter-widgets/controls",
            "_model_module_version": "1.5.0",
            "_model_name": "DescriptionStyleModel",
            "_view_count": null,
            "_view_module": "@jupyter-widgets/base",
            "_view_module_version": "1.2.0",
            "_view_name": "StyleView",
            "description_width": ""
          }
        },
        "34a0ff94e99f47a38e4a7b77e1875dc8": {
          "model_module": "@jupyter-widgets/controls",
          "model_name": "HBoxModel",
          "model_module_version": "1.5.0",
          "state": {
            "_dom_classes": [],
            "_model_module": "@jupyter-widgets/controls",
            "_model_module_version": "1.5.0",
            "_model_name": "HBoxModel",
            "_view_count": null,
            "_view_module": "@jupyter-widgets/controls",
            "_view_module_version": "1.5.0",
            "_view_name": "HBoxView",
            "box_style": "",
            "children": [
              "IPY_MODEL_faaff2534760418d89002066a95ee034",
              "IPY_MODEL_2c3c65e69a5e47c5b629a6237e6abd18",
              "IPY_MODEL_2e4426f6abfe4a409b365eaa47d6eac5"
            ],
            "layout": "IPY_MODEL_ce03882cdb034a45ad8b4f3f79308f3b"
          }
        },
        "faaff2534760418d89002066a95ee034": {
          "model_module": "@jupyter-widgets/controls",
          "model_name": "HTMLModel",
          "model_module_version": "1.5.0",
          "state": {
            "_dom_classes": [],
            "_model_module": "@jupyter-widgets/controls",
            "_model_module_version": "1.5.0",
            "_model_name": "HTMLModel",
            "_view_count": null,
            "_view_module": "@jupyter-widgets/controls",
            "_view_module_version": "1.5.0",
            "_view_name": "HTMLView",
            "description": "",
            "description_tooltip": null,
            "layout": "IPY_MODEL_d852b3e54b50487f9d0fce15351feba1",
            "placeholder": "​",
            "style": "IPY_MODEL_ec8c32e746bf4c788f762a9b374d7e90",
            "value": "100%"
          }
        },
        "2c3c65e69a5e47c5b629a6237e6abd18": {
          "model_module": "@jupyter-widgets/controls",
          "model_name": "FloatProgressModel",
          "model_module_version": "1.5.0",
          "state": {
            "_dom_classes": [],
            "_model_module": "@jupyter-widgets/controls",
            "_model_module_version": "1.5.0",
            "_model_name": "FloatProgressModel",
            "_view_count": null,
            "_view_module": "@jupyter-widgets/controls",
            "_view_module_version": "1.5.0",
            "_view_name": "ProgressView",
            "bar_style": "success",
            "description": "",
            "description_tooltip": null,
            "layout": "IPY_MODEL_17ff24512a6c4ce1937835cf22d50b27",
            "max": 155,
            "min": 0,
            "orientation": "horizontal",
            "style": "IPY_MODEL_101c186d08a144ca83ca3506723df0fe",
            "value": 155
          }
        },
        "2e4426f6abfe4a409b365eaa47d6eac5": {
          "model_module": "@jupyter-widgets/controls",
          "model_name": "HTMLModel",
          "model_module_version": "1.5.0",
          "state": {
            "_dom_classes": [],
            "_model_module": "@jupyter-widgets/controls",
            "_model_module_version": "1.5.0",
            "_model_name": "HTMLModel",
            "_view_count": null,
            "_view_module": "@jupyter-widgets/controls",
            "_view_module_version": "1.5.0",
            "_view_name": "HTMLView",
            "description": "",
            "description_tooltip": null,
            "layout": "IPY_MODEL_c25979625d974636a9a95a11014cdf43",
            "placeholder": "​",
            "style": "IPY_MODEL_93c78407ea52437391fe5643b6131368",
            "value": " 155/155 [01:25&lt;00:00,  1.77it/s]"
          }
        },
        "ce03882cdb034a45ad8b4f3f79308f3b": {
          "model_module": "@jupyter-widgets/base",
          "model_name": "LayoutModel",
          "model_module_version": "1.2.0",
          "state": {
            "_model_module": "@jupyter-widgets/base",
            "_model_module_version": "1.2.0",
            "_model_name": "LayoutModel",
            "_view_count": null,
            "_view_module": "@jupyter-widgets/base",
            "_view_module_version": "1.2.0",
            "_view_name": "LayoutView",
            "align_content": null,
            "align_items": null,
            "align_self": null,
            "border": null,
            "bottom": null,
            "display": null,
            "flex": null,
            "flex_flow": null,
            "grid_area": null,
            "grid_auto_columns": null,
            "grid_auto_flow": null,
            "grid_auto_rows": null,
            "grid_column": null,
            "grid_gap": null,
            "grid_row": null,
            "grid_template_areas": null,
            "grid_template_columns": null,
            "grid_template_rows": null,
            "height": null,
            "justify_content": null,
            "justify_items": null,
            "left": null,
            "margin": null,
            "max_height": null,
            "max_width": null,
            "min_height": null,
            "min_width": null,
            "object_fit": null,
            "object_position": null,
            "order": null,
            "overflow": null,
            "overflow_x": null,
            "overflow_y": null,
            "padding": null,
            "right": null,
            "top": null,
            "visibility": null,
            "width": null
          }
        },
        "d852b3e54b50487f9d0fce15351feba1": {
          "model_module": "@jupyter-widgets/base",
          "model_name": "LayoutModel",
          "model_module_version": "1.2.0",
          "state": {
            "_model_module": "@jupyter-widgets/base",
            "_model_module_version": "1.2.0",
            "_model_name": "LayoutModel",
            "_view_count": null,
            "_view_module": "@jupyter-widgets/base",
            "_view_module_version": "1.2.0",
            "_view_name": "LayoutView",
            "align_content": null,
            "align_items": null,
            "align_self": null,
            "border": null,
            "bottom": null,
            "display": null,
            "flex": null,
            "flex_flow": null,
            "grid_area": null,
            "grid_auto_columns": null,
            "grid_auto_flow": null,
            "grid_auto_rows": null,
            "grid_column": null,
            "grid_gap": null,
            "grid_row": null,
            "grid_template_areas": null,
            "grid_template_columns": null,
            "grid_template_rows": null,
            "height": null,
            "justify_content": null,
            "justify_items": null,
            "left": null,
            "margin": null,
            "max_height": null,
            "max_width": null,
            "min_height": null,
            "min_width": null,
            "object_fit": null,
            "object_position": null,
            "order": null,
            "overflow": null,
            "overflow_x": null,
            "overflow_y": null,
            "padding": null,
            "right": null,
            "top": null,
            "visibility": null,
            "width": null
          }
        },
        "ec8c32e746bf4c788f762a9b374d7e90": {
          "model_module": "@jupyter-widgets/controls",
          "model_name": "DescriptionStyleModel",
          "model_module_version": "1.5.0",
          "state": {
            "_model_module": "@jupyter-widgets/controls",
            "_model_module_version": "1.5.0",
            "_model_name": "DescriptionStyleModel",
            "_view_count": null,
            "_view_module": "@jupyter-widgets/base",
            "_view_module_version": "1.2.0",
            "_view_name": "StyleView",
            "description_width": ""
          }
        },
        "17ff24512a6c4ce1937835cf22d50b27": {
          "model_module": "@jupyter-widgets/base",
          "model_name": "LayoutModel",
          "model_module_version": "1.2.0",
          "state": {
            "_model_module": "@jupyter-widgets/base",
            "_model_module_version": "1.2.0",
            "_model_name": "LayoutModel",
            "_view_count": null,
            "_view_module": "@jupyter-widgets/base",
            "_view_module_version": "1.2.0",
            "_view_name": "LayoutView",
            "align_content": null,
            "align_items": null,
            "align_self": null,
            "border": null,
            "bottom": null,
            "display": null,
            "flex": null,
            "flex_flow": null,
            "grid_area": null,
            "grid_auto_columns": null,
            "grid_auto_flow": null,
            "grid_auto_rows": null,
            "grid_column": null,
            "grid_gap": null,
            "grid_row": null,
            "grid_template_areas": null,
            "grid_template_columns": null,
            "grid_template_rows": null,
            "height": null,
            "justify_content": null,
            "justify_items": null,
            "left": null,
            "margin": null,
            "max_height": null,
            "max_width": null,
            "min_height": null,
            "min_width": null,
            "object_fit": null,
            "object_position": null,
            "order": null,
            "overflow": null,
            "overflow_x": null,
            "overflow_y": null,
            "padding": null,
            "right": null,
            "top": null,
            "visibility": null,
            "width": null
          }
        },
        "101c186d08a144ca83ca3506723df0fe": {
          "model_module": "@jupyter-widgets/controls",
          "model_name": "ProgressStyleModel",
          "model_module_version": "1.5.0",
          "state": {
            "_model_module": "@jupyter-widgets/controls",
            "_model_module_version": "1.5.0",
            "_model_name": "ProgressStyleModel",
            "_view_count": null,
            "_view_module": "@jupyter-widgets/base",
            "_view_module_version": "1.2.0",
            "_view_name": "StyleView",
            "bar_color": null,
            "description_width": ""
          }
        },
        "c25979625d974636a9a95a11014cdf43": {
          "model_module": "@jupyter-widgets/base",
          "model_name": "LayoutModel",
          "model_module_version": "1.2.0",
          "state": {
            "_model_module": "@jupyter-widgets/base",
            "_model_module_version": "1.2.0",
            "_model_name": "LayoutModel",
            "_view_count": null,
            "_view_module": "@jupyter-widgets/base",
            "_view_module_version": "1.2.0",
            "_view_name": "LayoutView",
            "align_content": null,
            "align_items": null,
            "align_self": null,
            "border": null,
            "bottom": null,
            "display": null,
            "flex": null,
            "flex_flow": null,
            "grid_area": null,
            "grid_auto_columns": null,
            "grid_auto_flow": null,
            "grid_auto_rows": null,
            "grid_column": null,
            "grid_gap": null,
            "grid_row": null,
            "grid_template_areas": null,
            "grid_template_columns": null,
            "grid_template_rows": null,
            "height": null,
            "justify_content": null,
            "justify_items": null,
            "left": null,
            "margin": null,
            "max_height": null,
            "max_width": null,
            "min_height": null,
            "min_width": null,
            "object_fit": null,
            "object_position": null,
            "order": null,
            "overflow": null,
            "overflow_x": null,
            "overflow_y": null,
            "padding": null,
            "right": null,
            "top": null,
            "visibility": null,
            "width": null
          }
        },
        "93c78407ea52437391fe5643b6131368": {
          "model_module": "@jupyter-widgets/controls",
          "model_name": "DescriptionStyleModel",
          "model_module_version": "1.5.0",
          "state": {
            "_model_module": "@jupyter-widgets/controls",
            "_model_module_version": "1.5.0",
            "_model_name": "DescriptionStyleModel",
            "_view_count": null,
            "_view_module": "@jupyter-widgets/base",
            "_view_module_version": "1.2.0",
            "_view_name": "StyleView",
            "description_width": ""
          }
        },
        "d8d6e72b40504ef6ad2de1d20a4fdffa": {
          "model_module": "@jupyter-widgets/controls",
          "model_name": "HBoxModel",
          "model_module_version": "1.5.0",
          "state": {
            "_dom_classes": [],
            "_model_module": "@jupyter-widgets/controls",
            "_model_module_version": "1.5.0",
            "_model_name": "HBoxModel",
            "_view_count": null,
            "_view_module": "@jupyter-widgets/controls",
            "_view_module_version": "1.5.0",
            "_view_name": "HBoxView",
            "box_style": "",
            "children": [
              "IPY_MODEL_6ce71aae624741118abd3e3fcd57ebef",
              "IPY_MODEL_2143129231484329afbfeb3a36e3bdfb",
              "IPY_MODEL_bb70edaadd844007b280248457ed478d"
            ],
            "layout": "IPY_MODEL_1f5624a14af142d9b151b344747e874a"
          }
        },
        "6ce71aae624741118abd3e3fcd57ebef": {
          "model_module": "@jupyter-widgets/controls",
          "model_name": "HTMLModel",
          "model_module_version": "1.5.0",
          "state": {
            "_dom_classes": [],
            "_model_module": "@jupyter-widgets/controls",
            "_model_module_version": "1.5.0",
            "_model_name": "HTMLModel",
            "_view_count": null,
            "_view_module": "@jupyter-widgets/controls",
            "_view_module_version": "1.5.0",
            "_view_name": "HTMLView",
            "description": "",
            "description_tooltip": null,
            "layout": "IPY_MODEL_7056c154a8784e56bd20daa6a6135c87",
            "placeholder": "​",
            "style": "IPY_MODEL_810dd165a6af4151bfe62502ac5e7830",
            "value": "100%"
          }
        },
        "2143129231484329afbfeb3a36e3bdfb": {
          "model_module": "@jupyter-widgets/controls",
          "model_name": "FloatProgressModel",
          "model_module_version": "1.5.0",
          "state": {
            "_dom_classes": [],
            "_model_module": "@jupyter-widgets/controls",
            "_model_module_version": "1.5.0",
            "_model_name": "FloatProgressModel",
            "_view_count": null,
            "_view_module": "@jupyter-widgets/controls",
            "_view_module_version": "1.5.0",
            "_view_name": "ProgressView",
            "bar_style": "success",
            "description": "",
            "description_tooltip": null,
            "layout": "IPY_MODEL_22d39f2e4ede401ab351915177405c12",
            "max": 221,
            "min": 0,
            "orientation": "horizontal",
            "style": "IPY_MODEL_3dc5ca5e999c47da813d8a9376b43973",
            "value": 221
          }
        },
        "bb70edaadd844007b280248457ed478d": {
          "model_module": "@jupyter-widgets/controls",
          "model_name": "HTMLModel",
          "model_module_version": "1.5.0",
          "state": {
            "_dom_classes": [],
            "_model_module": "@jupyter-widgets/controls",
            "_model_module_version": "1.5.0",
            "_model_name": "HTMLModel",
            "_view_count": null,
            "_view_module": "@jupyter-widgets/controls",
            "_view_module_version": "1.5.0",
            "_view_name": "HTMLView",
            "description": "",
            "description_tooltip": null,
            "layout": "IPY_MODEL_e8cdec4bfbe54864aaf748853f5bb4f4",
            "placeholder": "​",
            "style": "IPY_MODEL_ce1747ce03c24034bd522fe69cfe1e5c",
            "value": " 221/221 [02:06&lt;00:00,  1.71it/s]"
          }
        },
        "1f5624a14af142d9b151b344747e874a": {
          "model_module": "@jupyter-widgets/base",
          "model_name": "LayoutModel",
          "model_module_version": "1.2.0",
          "state": {
            "_model_module": "@jupyter-widgets/base",
            "_model_module_version": "1.2.0",
            "_model_name": "LayoutModel",
            "_view_count": null,
            "_view_module": "@jupyter-widgets/base",
            "_view_module_version": "1.2.0",
            "_view_name": "LayoutView",
            "align_content": null,
            "align_items": null,
            "align_self": null,
            "border": null,
            "bottom": null,
            "display": null,
            "flex": null,
            "flex_flow": null,
            "grid_area": null,
            "grid_auto_columns": null,
            "grid_auto_flow": null,
            "grid_auto_rows": null,
            "grid_column": null,
            "grid_gap": null,
            "grid_row": null,
            "grid_template_areas": null,
            "grid_template_columns": null,
            "grid_template_rows": null,
            "height": null,
            "justify_content": null,
            "justify_items": null,
            "left": null,
            "margin": null,
            "max_height": null,
            "max_width": null,
            "min_height": null,
            "min_width": null,
            "object_fit": null,
            "object_position": null,
            "order": null,
            "overflow": null,
            "overflow_x": null,
            "overflow_y": null,
            "padding": null,
            "right": null,
            "top": null,
            "visibility": null,
            "width": null
          }
        },
        "7056c154a8784e56bd20daa6a6135c87": {
          "model_module": "@jupyter-widgets/base",
          "model_name": "LayoutModel",
          "model_module_version": "1.2.0",
          "state": {
            "_model_module": "@jupyter-widgets/base",
            "_model_module_version": "1.2.0",
            "_model_name": "LayoutModel",
            "_view_count": null,
            "_view_module": "@jupyter-widgets/base",
            "_view_module_version": "1.2.0",
            "_view_name": "LayoutView",
            "align_content": null,
            "align_items": null,
            "align_self": null,
            "border": null,
            "bottom": null,
            "display": null,
            "flex": null,
            "flex_flow": null,
            "grid_area": null,
            "grid_auto_columns": null,
            "grid_auto_flow": null,
            "grid_auto_rows": null,
            "grid_column": null,
            "grid_gap": null,
            "grid_row": null,
            "grid_template_areas": null,
            "grid_template_columns": null,
            "grid_template_rows": null,
            "height": null,
            "justify_content": null,
            "justify_items": null,
            "left": null,
            "margin": null,
            "max_height": null,
            "max_width": null,
            "min_height": null,
            "min_width": null,
            "object_fit": null,
            "object_position": null,
            "order": null,
            "overflow": null,
            "overflow_x": null,
            "overflow_y": null,
            "padding": null,
            "right": null,
            "top": null,
            "visibility": null,
            "width": null
          }
        },
        "810dd165a6af4151bfe62502ac5e7830": {
          "model_module": "@jupyter-widgets/controls",
          "model_name": "DescriptionStyleModel",
          "model_module_version": "1.5.0",
          "state": {
            "_model_module": "@jupyter-widgets/controls",
            "_model_module_version": "1.5.0",
            "_model_name": "DescriptionStyleModel",
            "_view_count": null,
            "_view_module": "@jupyter-widgets/base",
            "_view_module_version": "1.2.0",
            "_view_name": "StyleView",
            "description_width": ""
          }
        },
        "22d39f2e4ede401ab351915177405c12": {
          "model_module": "@jupyter-widgets/base",
          "model_name": "LayoutModel",
          "model_module_version": "1.2.0",
          "state": {
            "_model_module": "@jupyter-widgets/base",
            "_model_module_version": "1.2.0",
            "_model_name": "LayoutModel",
            "_view_count": null,
            "_view_module": "@jupyter-widgets/base",
            "_view_module_version": "1.2.0",
            "_view_name": "LayoutView",
            "align_content": null,
            "align_items": null,
            "align_self": null,
            "border": null,
            "bottom": null,
            "display": null,
            "flex": null,
            "flex_flow": null,
            "grid_area": null,
            "grid_auto_columns": null,
            "grid_auto_flow": null,
            "grid_auto_rows": null,
            "grid_column": null,
            "grid_gap": null,
            "grid_row": null,
            "grid_template_areas": null,
            "grid_template_columns": null,
            "grid_template_rows": null,
            "height": null,
            "justify_content": null,
            "justify_items": null,
            "left": null,
            "margin": null,
            "max_height": null,
            "max_width": null,
            "min_height": null,
            "min_width": null,
            "object_fit": null,
            "object_position": null,
            "order": null,
            "overflow": null,
            "overflow_x": null,
            "overflow_y": null,
            "padding": null,
            "right": null,
            "top": null,
            "visibility": null,
            "width": null
          }
        },
        "3dc5ca5e999c47da813d8a9376b43973": {
          "model_module": "@jupyter-widgets/controls",
          "model_name": "ProgressStyleModel",
          "model_module_version": "1.5.0",
          "state": {
            "_model_module": "@jupyter-widgets/controls",
            "_model_module_version": "1.5.0",
            "_model_name": "ProgressStyleModel",
            "_view_count": null,
            "_view_module": "@jupyter-widgets/base",
            "_view_module_version": "1.2.0",
            "_view_name": "StyleView",
            "bar_color": null,
            "description_width": ""
          }
        },
        "e8cdec4bfbe54864aaf748853f5bb4f4": {
          "model_module": "@jupyter-widgets/base",
          "model_name": "LayoutModel",
          "model_module_version": "1.2.0",
          "state": {
            "_model_module": "@jupyter-widgets/base",
            "_model_module_version": "1.2.0",
            "_model_name": "LayoutModel",
            "_view_count": null,
            "_view_module": "@jupyter-widgets/base",
            "_view_module_version": "1.2.0",
            "_view_name": "LayoutView",
            "align_content": null,
            "align_items": null,
            "align_self": null,
            "border": null,
            "bottom": null,
            "display": null,
            "flex": null,
            "flex_flow": null,
            "grid_area": null,
            "grid_auto_columns": null,
            "grid_auto_flow": null,
            "grid_auto_rows": null,
            "grid_column": null,
            "grid_gap": null,
            "grid_row": null,
            "grid_template_areas": null,
            "grid_template_columns": null,
            "grid_template_rows": null,
            "height": null,
            "justify_content": null,
            "justify_items": null,
            "left": null,
            "margin": null,
            "max_height": null,
            "max_width": null,
            "min_height": null,
            "min_width": null,
            "object_fit": null,
            "object_position": null,
            "order": null,
            "overflow": null,
            "overflow_x": null,
            "overflow_y": null,
            "padding": null,
            "right": null,
            "top": null,
            "visibility": null,
            "width": null
          }
        },
        "ce1747ce03c24034bd522fe69cfe1e5c": {
          "model_module": "@jupyter-widgets/controls",
          "model_name": "DescriptionStyleModel",
          "model_module_version": "1.5.0",
          "state": {
            "_model_module": "@jupyter-widgets/controls",
            "_model_module_version": "1.5.0",
            "_model_name": "DescriptionStyleModel",
            "_view_count": null,
            "_view_module": "@jupyter-widgets/base",
            "_view_module_version": "1.2.0",
            "_view_name": "StyleView",
            "description_width": ""
          }
        },
        "bb28403e5f7848a6bb5819bcedabde69": {
          "model_module": "@jupyter-widgets/controls",
          "model_name": "HBoxModel",
          "model_module_version": "1.5.0",
          "state": {
            "_dom_classes": [],
            "_model_module": "@jupyter-widgets/controls",
            "_model_module_version": "1.5.0",
            "_model_name": "HBoxModel",
            "_view_count": null,
            "_view_module": "@jupyter-widgets/controls",
            "_view_module_version": "1.5.0",
            "_view_name": "HBoxView",
            "box_style": "",
            "children": [
              "IPY_MODEL_6a70ddb5193c4040b7d38231c445d454",
              "IPY_MODEL_139d666936334c5cb6425d164988f85b",
              "IPY_MODEL_f8f32c9afa80401780582c7032efb0ef"
            ],
            "layout": "IPY_MODEL_c44987002a9b4f2e8396e1851086781c"
          }
        },
        "6a70ddb5193c4040b7d38231c445d454": {
          "model_module": "@jupyter-widgets/controls",
          "model_name": "HTMLModel",
          "model_module_version": "1.5.0",
          "state": {
            "_dom_classes": [],
            "_model_module": "@jupyter-widgets/controls",
            "_model_module_version": "1.5.0",
            "_model_name": "HTMLModel",
            "_view_count": null,
            "_view_module": "@jupyter-widgets/controls",
            "_view_module_version": "1.5.0",
            "_view_name": "HTMLView",
            "description": "",
            "description_tooltip": null,
            "layout": "IPY_MODEL_00595386c0484719aa9395c127eac1a5",
            "placeholder": "​",
            "style": "IPY_MODEL_70cd8a08c1074839b0970abc46576de8",
            "value": "100%"
          }
        },
        "139d666936334c5cb6425d164988f85b": {
          "model_module": "@jupyter-widgets/controls",
          "model_name": "FloatProgressModel",
          "model_module_version": "1.5.0",
          "state": {
            "_dom_classes": [],
            "_model_module": "@jupyter-widgets/controls",
            "_model_module_version": "1.5.0",
            "_model_name": "FloatProgressModel",
            "_view_count": null,
            "_view_module": "@jupyter-widgets/controls",
            "_view_module_version": "1.5.0",
            "_view_name": "ProgressView",
            "bar_style": "success",
            "description": "",
            "description_tooltip": null,
            "layout": "IPY_MODEL_add11f28c9ac4de881072e4c0a175f2e",
            "max": 155,
            "min": 0,
            "orientation": "horizontal",
            "style": "IPY_MODEL_ef06285a3b2241c2a884d173835807e9",
            "value": 155
          }
        },
        "f8f32c9afa80401780582c7032efb0ef": {
          "model_module": "@jupyter-widgets/controls",
          "model_name": "HTMLModel",
          "model_module_version": "1.5.0",
          "state": {
            "_dom_classes": [],
            "_model_module": "@jupyter-widgets/controls",
            "_model_module_version": "1.5.0",
            "_model_name": "HTMLModel",
            "_view_count": null,
            "_view_module": "@jupyter-widgets/controls",
            "_view_module_version": "1.5.0",
            "_view_name": "HTMLView",
            "description": "",
            "description_tooltip": null,
            "layout": "IPY_MODEL_e285d146aea448fca3a7a2c9fdaf4b0f",
            "placeholder": "​",
            "style": "IPY_MODEL_6d842b4539564738ac52c6a77f7243d8",
            "value": " 155/155 [01:39&lt;00:00,  1.43it/s]"
          }
        },
        "c44987002a9b4f2e8396e1851086781c": {
          "model_module": "@jupyter-widgets/base",
          "model_name": "LayoutModel",
          "model_module_version": "1.2.0",
          "state": {
            "_model_module": "@jupyter-widgets/base",
            "_model_module_version": "1.2.0",
            "_model_name": "LayoutModel",
            "_view_count": null,
            "_view_module": "@jupyter-widgets/base",
            "_view_module_version": "1.2.0",
            "_view_name": "LayoutView",
            "align_content": null,
            "align_items": null,
            "align_self": null,
            "border": null,
            "bottom": null,
            "display": null,
            "flex": null,
            "flex_flow": null,
            "grid_area": null,
            "grid_auto_columns": null,
            "grid_auto_flow": null,
            "grid_auto_rows": null,
            "grid_column": null,
            "grid_gap": null,
            "grid_row": null,
            "grid_template_areas": null,
            "grid_template_columns": null,
            "grid_template_rows": null,
            "height": null,
            "justify_content": null,
            "justify_items": null,
            "left": null,
            "margin": null,
            "max_height": null,
            "max_width": null,
            "min_height": null,
            "min_width": null,
            "object_fit": null,
            "object_position": null,
            "order": null,
            "overflow": null,
            "overflow_x": null,
            "overflow_y": null,
            "padding": null,
            "right": null,
            "top": null,
            "visibility": null,
            "width": null
          }
        },
        "00595386c0484719aa9395c127eac1a5": {
          "model_module": "@jupyter-widgets/base",
          "model_name": "LayoutModel",
          "model_module_version": "1.2.0",
          "state": {
            "_model_module": "@jupyter-widgets/base",
            "_model_module_version": "1.2.0",
            "_model_name": "LayoutModel",
            "_view_count": null,
            "_view_module": "@jupyter-widgets/base",
            "_view_module_version": "1.2.0",
            "_view_name": "LayoutView",
            "align_content": null,
            "align_items": null,
            "align_self": null,
            "border": null,
            "bottom": null,
            "display": null,
            "flex": null,
            "flex_flow": null,
            "grid_area": null,
            "grid_auto_columns": null,
            "grid_auto_flow": null,
            "grid_auto_rows": null,
            "grid_column": null,
            "grid_gap": null,
            "grid_row": null,
            "grid_template_areas": null,
            "grid_template_columns": null,
            "grid_template_rows": null,
            "height": null,
            "justify_content": null,
            "justify_items": null,
            "left": null,
            "margin": null,
            "max_height": null,
            "max_width": null,
            "min_height": null,
            "min_width": null,
            "object_fit": null,
            "object_position": null,
            "order": null,
            "overflow": null,
            "overflow_x": null,
            "overflow_y": null,
            "padding": null,
            "right": null,
            "top": null,
            "visibility": null,
            "width": null
          }
        },
        "70cd8a08c1074839b0970abc46576de8": {
          "model_module": "@jupyter-widgets/controls",
          "model_name": "DescriptionStyleModel",
          "model_module_version": "1.5.0",
          "state": {
            "_model_module": "@jupyter-widgets/controls",
            "_model_module_version": "1.5.0",
            "_model_name": "DescriptionStyleModel",
            "_view_count": null,
            "_view_module": "@jupyter-widgets/base",
            "_view_module_version": "1.2.0",
            "_view_name": "StyleView",
            "description_width": ""
          }
        },
        "add11f28c9ac4de881072e4c0a175f2e": {
          "model_module": "@jupyter-widgets/base",
          "model_name": "LayoutModel",
          "model_module_version": "1.2.0",
          "state": {
            "_model_module": "@jupyter-widgets/base",
            "_model_module_version": "1.2.0",
            "_model_name": "LayoutModel",
            "_view_count": null,
            "_view_module": "@jupyter-widgets/base",
            "_view_module_version": "1.2.0",
            "_view_name": "LayoutView",
            "align_content": null,
            "align_items": null,
            "align_self": null,
            "border": null,
            "bottom": null,
            "display": null,
            "flex": null,
            "flex_flow": null,
            "grid_area": null,
            "grid_auto_columns": null,
            "grid_auto_flow": null,
            "grid_auto_rows": null,
            "grid_column": null,
            "grid_gap": null,
            "grid_row": null,
            "grid_template_areas": null,
            "grid_template_columns": null,
            "grid_template_rows": null,
            "height": null,
            "justify_content": null,
            "justify_items": null,
            "left": null,
            "margin": null,
            "max_height": null,
            "max_width": null,
            "min_height": null,
            "min_width": null,
            "object_fit": null,
            "object_position": null,
            "order": null,
            "overflow": null,
            "overflow_x": null,
            "overflow_y": null,
            "padding": null,
            "right": null,
            "top": null,
            "visibility": null,
            "width": null
          }
        },
        "ef06285a3b2241c2a884d173835807e9": {
          "model_module": "@jupyter-widgets/controls",
          "model_name": "ProgressStyleModel",
          "model_module_version": "1.5.0",
          "state": {
            "_model_module": "@jupyter-widgets/controls",
            "_model_module_version": "1.5.0",
            "_model_name": "ProgressStyleModel",
            "_view_count": null,
            "_view_module": "@jupyter-widgets/base",
            "_view_module_version": "1.2.0",
            "_view_name": "StyleView",
            "bar_color": null,
            "description_width": ""
          }
        },
        "e285d146aea448fca3a7a2c9fdaf4b0f": {
          "model_module": "@jupyter-widgets/base",
          "model_name": "LayoutModel",
          "model_module_version": "1.2.0",
          "state": {
            "_model_module": "@jupyter-widgets/base",
            "_model_module_version": "1.2.0",
            "_model_name": "LayoutModel",
            "_view_count": null,
            "_view_module": "@jupyter-widgets/base",
            "_view_module_version": "1.2.0",
            "_view_name": "LayoutView",
            "align_content": null,
            "align_items": null,
            "align_self": null,
            "border": null,
            "bottom": null,
            "display": null,
            "flex": null,
            "flex_flow": null,
            "grid_area": null,
            "grid_auto_columns": null,
            "grid_auto_flow": null,
            "grid_auto_rows": null,
            "grid_column": null,
            "grid_gap": null,
            "grid_row": null,
            "grid_template_areas": null,
            "grid_template_columns": null,
            "grid_template_rows": null,
            "height": null,
            "justify_content": null,
            "justify_items": null,
            "left": null,
            "margin": null,
            "max_height": null,
            "max_width": null,
            "min_height": null,
            "min_width": null,
            "object_fit": null,
            "object_position": null,
            "order": null,
            "overflow": null,
            "overflow_x": null,
            "overflow_y": null,
            "padding": null,
            "right": null,
            "top": null,
            "visibility": null,
            "width": null
          }
        },
        "6d842b4539564738ac52c6a77f7243d8": {
          "model_module": "@jupyter-widgets/controls",
          "model_name": "DescriptionStyleModel",
          "model_module_version": "1.5.0",
          "state": {
            "_model_module": "@jupyter-widgets/controls",
            "_model_module_version": "1.5.0",
            "_model_name": "DescriptionStyleModel",
            "_view_count": null,
            "_view_module": "@jupyter-widgets/base",
            "_view_module_version": "1.2.0",
            "_view_name": "StyleView",
            "description_width": ""
          }
        },
        "3c27c6415097438093d51732d1ae0dcf": {
          "model_module": "@jupyter-widgets/controls",
          "model_name": "HBoxModel",
          "model_module_version": "1.5.0",
          "state": {
            "_dom_classes": [],
            "_model_module": "@jupyter-widgets/controls",
            "_model_module_version": "1.5.0",
            "_model_name": "HBoxModel",
            "_view_count": null,
            "_view_module": "@jupyter-widgets/controls",
            "_view_module_version": "1.5.0",
            "_view_name": "HBoxView",
            "box_style": "",
            "children": [
              "IPY_MODEL_1ecda613814e4a24b35ee8b280090acb",
              "IPY_MODEL_a36b10b8f4de4675aa633b019e46669c",
              "IPY_MODEL_c3002dad0f094017bf90b24f57c93f4f"
            ],
            "layout": "IPY_MODEL_1e33bccd6ad74a4dafc9ed2ea456cd80"
          }
        },
        "1ecda613814e4a24b35ee8b280090acb": {
          "model_module": "@jupyter-widgets/controls",
          "model_name": "HTMLModel",
          "model_module_version": "1.5.0",
          "state": {
            "_dom_classes": [],
            "_model_module": "@jupyter-widgets/controls",
            "_model_module_version": "1.5.0",
            "_model_name": "HTMLModel",
            "_view_count": null,
            "_view_module": "@jupyter-widgets/controls",
            "_view_module_version": "1.5.0",
            "_view_name": "HTMLView",
            "description": "",
            "description_tooltip": null,
            "layout": "IPY_MODEL_582f8674582345b7b0ca967458648809",
            "placeholder": "​",
            "style": "IPY_MODEL_56b2040a79d743c38915f0fd4fbf1047",
            "value": "100%"
          }
        },
        "a36b10b8f4de4675aa633b019e46669c": {
          "model_module": "@jupyter-widgets/controls",
          "model_name": "FloatProgressModel",
          "model_module_version": "1.5.0",
          "state": {
            "_dom_classes": [],
            "_model_module": "@jupyter-widgets/controls",
            "_model_module_version": "1.5.0",
            "_model_name": "FloatProgressModel",
            "_view_count": null,
            "_view_module": "@jupyter-widgets/controls",
            "_view_module_version": "1.5.0",
            "_view_name": "ProgressView",
            "bar_style": "success",
            "description": "",
            "description_tooltip": null,
            "layout": "IPY_MODEL_d9261eeec21c46beb994f639c30ce327",
            "max": 221,
            "min": 0,
            "orientation": "horizontal",
            "style": "IPY_MODEL_a152dfe89963433e967a4ac283a9b64f",
            "value": 221
          }
        },
        "c3002dad0f094017bf90b24f57c93f4f": {
          "model_module": "@jupyter-widgets/controls",
          "model_name": "HTMLModel",
          "model_module_version": "1.5.0",
          "state": {
            "_dom_classes": [],
            "_model_module": "@jupyter-widgets/controls",
            "_model_module_version": "1.5.0",
            "_model_name": "HTMLModel",
            "_view_count": null,
            "_view_module": "@jupyter-widgets/controls",
            "_view_module_version": "1.5.0",
            "_view_name": "HTMLView",
            "description": "",
            "description_tooltip": null,
            "layout": "IPY_MODEL_77728d1815414d7ea6f3b86b2edf9e8f",
            "placeholder": "​",
            "style": "IPY_MODEL_ab7f6a19590544e5b46d654cffe9626d",
            "value": " 221/221 [02:09&lt;00:00,  1.63it/s]"
          }
        },
        "1e33bccd6ad74a4dafc9ed2ea456cd80": {
          "model_module": "@jupyter-widgets/base",
          "model_name": "LayoutModel",
          "model_module_version": "1.2.0",
          "state": {
            "_model_module": "@jupyter-widgets/base",
            "_model_module_version": "1.2.0",
            "_model_name": "LayoutModel",
            "_view_count": null,
            "_view_module": "@jupyter-widgets/base",
            "_view_module_version": "1.2.0",
            "_view_name": "LayoutView",
            "align_content": null,
            "align_items": null,
            "align_self": null,
            "border": null,
            "bottom": null,
            "display": null,
            "flex": null,
            "flex_flow": null,
            "grid_area": null,
            "grid_auto_columns": null,
            "grid_auto_flow": null,
            "grid_auto_rows": null,
            "grid_column": null,
            "grid_gap": null,
            "grid_row": null,
            "grid_template_areas": null,
            "grid_template_columns": null,
            "grid_template_rows": null,
            "height": null,
            "justify_content": null,
            "justify_items": null,
            "left": null,
            "margin": null,
            "max_height": null,
            "max_width": null,
            "min_height": null,
            "min_width": null,
            "object_fit": null,
            "object_position": null,
            "order": null,
            "overflow": null,
            "overflow_x": null,
            "overflow_y": null,
            "padding": null,
            "right": null,
            "top": null,
            "visibility": null,
            "width": null
          }
        },
        "582f8674582345b7b0ca967458648809": {
          "model_module": "@jupyter-widgets/base",
          "model_name": "LayoutModel",
          "model_module_version": "1.2.0",
          "state": {
            "_model_module": "@jupyter-widgets/base",
            "_model_module_version": "1.2.0",
            "_model_name": "LayoutModel",
            "_view_count": null,
            "_view_module": "@jupyter-widgets/base",
            "_view_module_version": "1.2.0",
            "_view_name": "LayoutView",
            "align_content": null,
            "align_items": null,
            "align_self": null,
            "border": null,
            "bottom": null,
            "display": null,
            "flex": null,
            "flex_flow": null,
            "grid_area": null,
            "grid_auto_columns": null,
            "grid_auto_flow": null,
            "grid_auto_rows": null,
            "grid_column": null,
            "grid_gap": null,
            "grid_row": null,
            "grid_template_areas": null,
            "grid_template_columns": null,
            "grid_template_rows": null,
            "height": null,
            "justify_content": null,
            "justify_items": null,
            "left": null,
            "margin": null,
            "max_height": null,
            "max_width": null,
            "min_height": null,
            "min_width": null,
            "object_fit": null,
            "object_position": null,
            "order": null,
            "overflow": null,
            "overflow_x": null,
            "overflow_y": null,
            "padding": null,
            "right": null,
            "top": null,
            "visibility": null,
            "width": null
          }
        },
        "56b2040a79d743c38915f0fd4fbf1047": {
          "model_module": "@jupyter-widgets/controls",
          "model_name": "DescriptionStyleModel",
          "model_module_version": "1.5.0",
          "state": {
            "_model_module": "@jupyter-widgets/controls",
            "_model_module_version": "1.5.0",
            "_model_name": "DescriptionStyleModel",
            "_view_count": null,
            "_view_module": "@jupyter-widgets/base",
            "_view_module_version": "1.2.0",
            "_view_name": "StyleView",
            "description_width": ""
          }
        },
        "d9261eeec21c46beb994f639c30ce327": {
          "model_module": "@jupyter-widgets/base",
          "model_name": "LayoutModel",
          "model_module_version": "1.2.0",
          "state": {
            "_model_module": "@jupyter-widgets/base",
            "_model_module_version": "1.2.0",
            "_model_name": "LayoutModel",
            "_view_count": null,
            "_view_module": "@jupyter-widgets/base",
            "_view_module_version": "1.2.0",
            "_view_name": "LayoutView",
            "align_content": null,
            "align_items": null,
            "align_self": null,
            "border": null,
            "bottom": null,
            "display": null,
            "flex": null,
            "flex_flow": null,
            "grid_area": null,
            "grid_auto_columns": null,
            "grid_auto_flow": null,
            "grid_auto_rows": null,
            "grid_column": null,
            "grid_gap": null,
            "grid_row": null,
            "grid_template_areas": null,
            "grid_template_columns": null,
            "grid_template_rows": null,
            "height": null,
            "justify_content": null,
            "justify_items": null,
            "left": null,
            "margin": null,
            "max_height": null,
            "max_width": null,
            "min_height": null,
            "min_width": null,
            "object_fit": null,
            "object_position": null,
            "order": null,
            "overflow": null,
            "overflow_x": null,
            "overflow_y": null,
            "padding": null,
            "right": null,
            "top": null,
            "visibility": null,
            "width": null
          }
        },
        "a152dfe89963433e967a4ac283a9b64f": {
          "model_module": "@jupyter-widgets/controls",
          "model_name": "ProgressStyleModel",
          "model_module_version": "1.5.0",
          "state": {
            "_model_module": "@jupyter-widgets/controls",
            "_model_module_version": "1.5.0",
            "_model_name": "ProgressStyleModel",
            "_view_count": null,
            "_view_module": "@jupyter-widgets/base",
            "_view_module_version": "1.2.0",
            "_view_name": "StyleView",
            "bar_color": null,
            "description_width": ""
          }
        },
        "77728d1815414d7ea6f3b86b2edf9e8f": {
          "model_module": "@jupyter-widgets/base",
          "model_name": "LayoutModel",
          "model_module_version": "1.2.0",
          "state": {
            "_model_module": "@jupyter-widgets/base",
            "_model_module_version": "1.2.0",
            "_model_name": "LayoutModel",
            "_view_count": null,
            "_view_module": "@jupyter-widgets/base",
            "_view_module_version": "1.2.0",
            "_view_name": "LayoutView",
            "align_content": null,
            "align_items": null,
            "align_self": null,
            "border": null,
            "bottom": null,
            "display": null,
            "flex": null,
            "flex_flow": null,
            "grid_area": null,
            "grid_auto_columns": null,
            "grid_auto_flow": null,
            "grid_auto_rows": null,
            "grid_column": null,
            "grid_gap": null,
            "grid_row": null,
            "grid_template_areas": null,
            "grid_template_columns": null,
            "grid_template_rows": null,
            "height": null,
            "justify_content": null,
            "justify_items": null,
            "left": null,
            "margin": null,
            "max_height": null,
            "max_width": null,
            "min_height": null,
            "min_width": null,
            "object_fit": null,
            "object_position": null,
            "order": null,
            "overflow": null,
            "overflow_x": null,
            "overflow_y": null,
            "padding": null,
            "right": null,
            "top": null,
            "visibility": null,
            "width": null
          }
        },
        "ab7f6a19590544e5b46d654cffe9626d": {
          "model_module": "@jupyter-widgets/controls",
          "model_name": "DescriptionStyleModel",
          "model_module_version": "1.5.0",
          "state": {
            "_model_module": "@jupyter-widgets/controls",
            "_model_module_version": "1.5.0",
            "_model_name": "DescriptionStyleModel",
            "_view_count": null,
            "_view_module": "@jupyter-widgets/base",
            "_view_module_version": "1.2.0",
            "_view_name": "StyleView",
            "description_width": ""
          }
        },
        "ceb16b03fd0047fab9aa9096899b24f9": {
          "model_module": "@jupyter-widgets/controls",
          "model_name": "HBoxModel",
          "model_module_version": "1.5.0",
          "state": {
            "_dom_classes": [],
            "_model_module": "@jupyter-widgets/controls",
            "_model_module_version": "1.5.0",
            "_model_name": "HBoxModel",
            "_view_count": null,
            "_view_module": "@jupyter-widgets/controls",
            "_view_module_version": "1.5.0",
            "_view_name": "HBoxView",
            "box_style": "",
            "children": [
              "IPY_MODEL_dc6efe5dc15c45c7b24ae2bfcb4b0433",
              "IPY_MODEL_86f845b68c7e4abba5b1d1e5cd2594a4",
              "IPY_MODEL_c4fc5cfaab8346199ecbd159f6fc9c86"
            ],
            "layout": "IPY_MODEL_29cb65e68fa04bffada0f98b503ece48"
          }
        },
        "dc6efe5dc15c45c7b24ae2bfcb4b0433": {
          "model_module": "@jupyter-widgets/controls",
          "model_name": "HTMLModel",
          "model_module_version": "1.5.0",
          "state": {
            "_dom_classes": [],
            "_model_module": "@jupyter-widgets/controls",
            "_model_module_version": "1.5.0",
            "_model_name": "HTMLModel",
            "_view_count": null,
            "_view_module": "@jupyter-widgets/controls",
            "_view_module_version": "1.5.0",
            "_view_name": "HTMLView",
            "description": "",
            "description_tooltip": null,
            "layout": "IPY_MODEL_be7d74527c034f2c86bc72ec8b45cc80",
            "placeholder": "​",
            "style": "IPY_MODEL_04dab7511e1b41fc963fae880796b233",
            "value": "100%"
          }
        },
        "86f845b68c7e4abba5b1d1e5cd2594a4": {
          "model_module": "@jupyter-widgets/controls",
          "model_name": "FloatProgressModel",
          "model_module_version": "1.5.0",
          "state": {
            "_dom_classes": [],
            "_model_module": "@jupyter-widgets/controls",
            "_model_module_version": "1.5.0",
            "_model_name": "FloatProgressModel",
            "_view_count": null,
            "_view_module": "@jupyter-widgets/controls",
            "_view_module_version": "1.5.0",
            "_view_name": "ProgressView",
            "bar_style": "success",
            "description": "",
            "description_tooltip": null,
            "layout": "IPY_MODEL_c06a5c322a4842c685700e151ba085f5",
            "max": 155,
            "min": 0,
            "orientation": "horizontal",
            "style": "IPY_MODEL_f56338b58df4460d91ec1abbe015c2cf",
            "value": 155
          }
        },
        "c4fc5cfaab8346199ecbd159f6fc9c86": {
          "model_module": "@jupyter-widgets/controls",
          "model_name": "HTMLModel",
          "model_module_version": "1.5.0",
          "state": {
            "_dom_classes": [],
            "_model_module": "@jupyter-widgets/controls",
            "_model_module_version": "1.5.0",
            "_model_name": "HTMLModel",
            "_view_count": null,
            "_view_module": "@jupyter-widgets/controls",
            "_view_module_version": "1.5.0",
            "_view_name": "HTMLView",
            "description": "",
            "description_tooltip": null,
            "layout": "IPY_MODEL_0644a3247c3644e0b93833ac2daf4a86",
            "placeholder": "​",
            "style": "IPY_MODEL_195c3221906e44c3841a27f140ece52e",
            "value": " 155/155 [01:37&lt;00:00,  1.49it/s]"
          }
        },
        "29cb65e68fa04bffada0f98b503ece48": {
          "model_module": "@jupyter-widgets/base",
          "model_name": "LayoutModel",
          "model_module_version": "1.2.0",
          "state": {
            "_model_module": "@jupyter-widgets/base",
            "_model_module_version": "1.2.0",
            "_model_name": "LayoutModel",
            "_view_count": null,
            "_view_module": "@jupyter-widgets/base",
            "_view_module_version": "1.2.0",
            "_view_name": "LayoutView",
            "align_content": null,
            "align_items": null,
            "align_self": null,
            "border": null,
            "bottom": null,
            "display": null,
            "flex": null,
            "flex_flow": null,
            "grid_area": null,
            "grid_auto_columns": null,
            "grid_auto_flow": null,
            "grid_auto_rows": null,
            "grid_column": null,
            "grid_gap": null,
            "grid_row": null,
            "grid_template_areas": null,
            "grid_template_columns": null,
            "grid_template_rows": null,
            "height": null,
            "justify_content": null,
            "justify_items": null,
            "left": null,
            "margin": null,
            "max_height": null,
            "max_width": null,
            "min_height": null,
            "min_width": null,
            "object_fit": null,
            "object_position": null,
            "order": null,
            "overflow": null,
            "overflow_x": null,
            "overflow_y": null,
            "padding": null,
            "right": null,
            "top": null,
            "visibility": null,
            "width": null
          }
        },
        "be7d74527c034f2c86bc72ec8b45cc80": {
          "model_module": "@jupyter-widgets/base",
          "model_name": "LayoutModel",
          "model_module_version": "1.2.0",
          "state": {
            "_model_module": "@jupyter-widgets/base",
            "_model_module_version": "1.2.0",
            "_model_name": "LayoutModel",
            "_view_count": null,
            "_view_module": "@jupyter-widgets/base",
            "_view_module_version": "1.2.0",
            "_view_name": "LayoutView",
            "align_content": null,
            "align_items": null,
            "align_self": null,
            "border": null,
            "bottom": null,
            "display": null,
            "flex": null,
            "flex_flow": null,
            "grid_area": null,
            "grid_auto_columns": null,
            "grid_auto_flow": null,
            "grid_auto_rows": null,
            "grid_column": null,
            "grid_gap": null,
            "grid_row": null,
            "grid_template_areas": null,
            "grid_template_columns": null,
            "grid_template_rows": null,
            "height": null,
            "justify_content": null,
            "justify_items": null,
            "left": null,
            "margin": null,
            "max_height": null,
            "max_width": null,
            "min_height": null,
            "min_width": null,
            "object_fit": null,
            "object_position": null,
            "order": null,
            "overflow": null,
            "overflow_x": null,
            "overflow_y": null,
            "padding": null,
            "right": null,
            "top": null,
            "visibility": null,
            "width": null
          }
        },
        "04dab7511e1b41fc963fae880796b233": {
          "model_module": "@jupyter-widgets/controls",
          "model_name": "DescriptionStyleModel",
          "model_module_version": "1.5.0",
          "state": {
            "_model_module": "@jupyter-widgets/controls",
            "_model_module_version": "1.5.0",
            "_model_name": "DescriptionStyleModel",
            "_view_count": null,
            "_view_module": "@jupyter-widgets/base",
            "_view_module_version": "1.2.0",
            "_view_name": "StyleView",
            "description_width": ""
          }
        },
        "c06a5c322a4842c685700e151ba085f5": {
          "model_module": "@jupyter-widgets/base",
          "model_name": "LayoutModel",
          "model_module_version": "1.2.0",
          "state": {
            "_model_module": "@jupyter-widgets/base",
            "_model_module_version": "1.2.0",
            "_model_name": "LayoutModel",
            "_view_count": null,
            "_view_module": "@jupyter-widgets/base",
            "_view_module_version": "1.2.0",
            "_view_name": "LayoutView",
            "align_content": null,
            "align_items": null,
            "align_self": null,
            "border": null,
            "bottom": null,
            "display": null,
            "flex": null,
            "flex_flow": null,
            "grid_area": null,
            "grid_auto_columns": null,
            "grid_auto_flow": null,
            "grid_auto_rows": null,
            "grid_column": null,
            "grid_gap": null,
            "grid_row": null,
            "grid_template_areas": null,
            "grid_template_columns": null,
            "grid_template_rows": null,
            "height": null,
            "justify_content": null,
            "justify_items": null,
            "left": null,
            "margin": null,
            "max_height": null,
            "max_width": null,
            "min_height": null,
            "min_width": null,
            "object_fit": null,
            "object_position": null,
            "order": null,
            "overflow": null,
            "overflow_x": null,
            "overflow_y": null,
            "padding": null,
            "right": null,
            "top": null,
            "visibility": null,
            "width": null
          }
        },
        "f56338b58df4460d91ec1abbe015c2cf": {
          "model_module": "@jupyter-widgets/controls",
          "model_name": "ProgressStyleModel",
          "model_module_version": "1.5.0",
          "state": {
            "_model_module": "@jupyter-widgets/controls",
            "_model_module_version": "1.5.0",
            "_model_name": "ProgressStyleModel",
            "_view_count": null,
            "_view_module": "@jupyter-widgets/base",
            "_view_module_version": "1.2.0",
            "_view_name": "StyleView",
            "bar_color": null,
            "description_width": ""
          }
        },
        "0644a3247c3644e0b93833ac2daf4a86": {
          "model_module": "@jupyter-widgets/base",
          "model_name": "LayoutModel",
          "model_module_version": "1.2.0",
          "state": {
            "_model_module": "@jupyter-widgets/base",
            "_model_module_version": "1.2.0",
            "_model_name": "LayoutModel",
            "_view_count": null,
            "_view_module": "@jupyter-widgets/base",
            "_view_module_version": "1.2.0",
            "_view_name": "LayoutView",
            "align_content": null,
            "align_items": null,
            "align_self": null,
            "border": null,
            "bottom": null,
            "display": null,
            "flex": null,
            "flex_flow": null,
            "grid_area": null,
            "grid_auto_columns": null,
            "grid_auto_flow": null,
            "grid_auto_rows": null,
            "grid_column": null,
            "grid_gap": null,
            "grid_row": null,
            "grid_template_areas": null,
            "grid_template_columns": null,
            "grid_template_rows": null,
            "height": null,
            "justify_content": null,
            "justify_items": null,
            "left": null,
            "margin": null,
            "max_height": null,
            "max_width": null,
            "min_height": null,
            "min_width": null,
            "object_fit": null,
            "object_position": null,
            "order": null,
            "overflow": null,
            "overflow_x": null,
            "overflow_y": null,
            "padding": null,
            "right": null,
            "top": null,
            "visibility": null,
            "width": null
          }
        },
        "195c3221906e44c3841a27f140ece52e": {
          "model_module": "@jupyter-widgets/controls",
          "model_name": "DescriptionStyleModel",
          "model_module_version": "1.5.0",
          "state": {
            "_model_module": "@jupyter-widgets/controls",
            "_model_module_version": "1.5.0",
            "_model_name": "DescriptionStyleModel",
            "_view_count": null,
            "_view_module": "@jupyter-widgets/base",
            "_view_module_version": "1.2.0",
            "_view_name": "StyleView",
            "description_width": ""
          }
        }
      }
    }
  },
  "cells": [
    {
      "cell_type": "code",
      "execution_count": null,
      "metadata": {
        "colab": {
          "base_uri": "https://localhost:8080/"
        },
        "id": "q4IkhDFI1kk0",
        "outputId": "656bf22e-36fd-4a6e-b39d-04e00ad0feb9"
      },
      "outputs": [
        {
          "output_type": "stream",
          "name": "stdout",
          "text": [
            "Mounted at /gd\n"
          ]
        }
      ],
      "source": [
        "from google.colab import drive\n",
        "drive.mount('/gd')"
      ]
    },
    {
      "cell_type": "code",
      "source": [
        "!pip install transformers sentencepiece sacrebleu datasets  sentence-transformers fasttext -q"
      ],
      "metadata": {
        "colab": {
          "base_uri": "https://localhost:8080/"
        },
        "id": "mmpImnab1sBd",
        "outputId": "b096d8ff-3b48-4fb7-dc75-79f731a36b93"
      },
      "execution_count": null,
      "outputs": [
        {
          "output_type": "stream",
          "name": "stdout",
          "text": [
            "\u001b[K     |████████████████████████████████| 4.7 MB 31.2 MB/s \n",
            "\u001b[K     |████████████████████████████████| 1.3 MB 64.9 MB/s \n",
            "\u001b[K     |████████████████████████████████| 116 kB 74.9 MB/s \n",
            "\u001b[K     |████████████████████████████████| 365 kB 73.2 MB/s \n",
            "\u001b[K     |████████████████████████████████| 85 kB 5.5 MB/s \n",
            "\u001b[K     |████████████████████████████████| 68 kB 8.1 MB/s \n",
            "\u001b[K     |████████████████████████████████| 596 kB 6.3 MB/s \n",
            "\u001b[K     |████████████████████████████████| 6.6 MB 62.0 MB/s \n",
            "\u001b[K     |████████████████████████████████| 101 kB 11.5 MB/s \n",
            "\u001b[K     |████████████████████████████████| 141 kB 76.4 MB/s \n",
            "\u001b[K     |████████████████████████████████| 115 kB 74.9 MB/s \n",
            "\u001b[K     |████████████████████████████████| 212 kB 53.1 MB/s \n",
            "\u001b[K     |████████████████████████████████| 127 kB 73.5 MB/s \n",
            "\u001b[?25h  Building wheel for sentence-transformers (setup.py) ... \u001b[?25l\u001b[?25hdone\n",
            "  Building wheel for fasttext (setup.py) ... \u001b[?25l\u001b[?25hdone\n"
          ]
        }
      ]
    },
    {
      "cell_type": "code",
      "source": [
        "import os\n",
        "import numpy as np\n",
        "import pandas as pd\n",
        "from tqdm.auto import tqdm, trange\n",
        "import json\n",
        "import random"
      ],
      "metadata": {
        "id": "1IVfZODB1tc2"
      },
      "execution_count": null,
      "outputs": []
    },
    {
      "cell_type": "code",
      "source": [
        "import torch\n",
        "from transformers import MBartForConditionalGeneration, MBart50Tokenizer"
      ],
      "metadata": {
        "id": "mGiiGUeX1_Cb"
      },
      "execution_count": null,
      "outputs": []
    },
    {
      "cell_type": "code",
      "source": [
        "import gc\n",
        "\n",
        "def cleanup():\n",
        "    gc.collect()\n",
        "    torch.cuda.empty_cache()\n",
        "    \n",
        "cleanup()"
      ],
      "metadata": {
        "id": "xx-8M8hS3oVm"
      },
      "execution_count": null,
      "outputs": []
    },
    {
      "cell_type": "code",
      "source": [
        "BASE_DIR = '/gd/MyDrive/models/myv/'"
      ],
      "metadata": {
        "id": "Fgqi4LGk2Dlz"
      },
      "execution_count": null,
      "outputs": []
    },
    {
      "cell_type": "markdown",
      "source": [
        "# Do the manual scores correlate with what the BERT detects? No."
      ],
      "metadata": {
        "id": "01gjh1Zd6nMv"
      }
    },
    {
      "cell_type": "code",
      "source": [
        "manual_scores = pd.read_csv(BASE_DIR + 'manual_scores_v1.tsv', sep='\\t')"
      ],
      "metadata": {
        "id": "DjglRreD2AO9"
      },
      "execution_count": null,
      "outputs": []
    },
    {
      "cell_type": "code",
      "source": [
        "manual_scores"
      ],
      "metadata": {
        "colab": {
          "base_uri": "https://localhost:8080/",
          "height": 959
        },
        "id": "UncWN7aM2I-c",
        "outputId": "cf514e06-d7d0-4450-f2d1-90671d804ed6"
      },
      "execution_count": null,
      "outputs": [
        {
          "output_type": "execute_result",
          "data": {
            "text/plain": [
              "                                             original  \\\n",
              "0   Благодарение Богу, вложившему в сердце Титово ...   \n",
              "1   Ибо если я снова созидаю, что разрушил, то сам...   \n",
              "2   И вот что рассказывают наши русские старики: «...   \n",
              "3   Старшему имя Михаил, второму — Семен, третьему...   \n",
              "4   Там будем, эрзяне, жить, Уж там построим мы те...   \n",
              "5     ф) установление основ законодательства о труде;   \n",
              "6   Высший надзор за точным исполнением законов вс...   \n",
              "7       Участники игры мальчики и девочки 6 — 12 лет.   \n",
              "8                      И сердце у тебя совсем другое…   \n",
              "9   — Ты это к чему? — осторожно осведомился Михалыч.   \n",
              "10  Цветки крупные, одиночные, с 4 ярко-красными л...   \n",
              "11  В 1999 году Манч помог найти и спасти трёхлетн...   \n",
              "12  Давид инязороськак корты: «Кадык сынь понгить ...   \n",
              "13  Сюкпря Пазонтень, кие кирвазтизе Титэнь седейс...   \n",
              "14  Ансяк бути мон карман одс стявтомо сень, мезен...   \n",
              "15  Вана мезе ёвтнить миненек рузонь атятне: зярдо...   \n",
              "16  Покшонть лемезэ ульнесь Мишка, омбоценть — Сём...   \n",
              "17  Тосо карматам, эрзят, эрямо, Уш тосо путтан ми...   \n",
              "18  ф) трудонь кувалт законодательствань основатне...   \n",
              "19  Весе Народной Комиссариатнэнь ды сыненст подве...   \n",
              "20  Бути налксицясь номерэнть теемстэ ильведи, нал...   \n",
              "21    Налксицятне 6 — 12 иесэ цёрынеть ды тейтернеть.   \n",
              "22  Тейтернетне ды цёрынетне арыть най мунонть пер...   \n",
              "23  Венчесь кшнинь рисьмесэ сюлмазь кувака балкас,...   \n",
              "24           Сонзэ оймензэ тон эсеть седейсэ марясак…   \n",
              "25  — Те тон мезень кувалма? — ёжомарязь кевкстсь ...   \n",
              "26  Ало пурназь ве таркас ды невтезь: ошонть лемез...   \n",
              "27  Цецянзо покшт, вейкестэ аштицят, 4 мазы-якстер...   \n",
              "28  1999-це иестэ Манч лездась муемс ды идемс Хати...   \n",
              "\n",
              "                                          translation  score source  \n",
              "0   Сюкпря Пазонтень, кона путсь Титовонь седейсэ ...    3.0     ru  \n",
              "1   Бути мон таго теинь сень, мезе разрушил, сестэ...    2.0     ru  \n",
              "2   Вана мезе ёвтнить миненек рузонь атятне: зярдо...    4.0     ru  \n",
              "3   Покшонть лемезэ ульнесь Мишка, омбоценть — Сём...    4.5     ru  \n",
              "4   Тосо карматано, эрзят, эрямо, Уш тосо стявттан...    3.0     ru  \n",
              "5   ф) трудоустройствань закононь основатнень уста...    1.0     ru  \n",
              "6   Весе Народной Комиссариаттнэнь ды сынст подвед...    3.0     ru  \n",
              "7     Налксицятне 6 — 12 иесэ цёрынеть ды тейтернеть.    4.0     ru  \n",
              "8                              Ды седееть тунь лия...    4.0     ru  \n",
              "9      — Тон те мезекс? — чевтестэ чарькодсь Михалыч.    2.0     ru  \n",
              "10  Лопанзо покшт, ськамост, 4 ярко-красные лепест...    1.0     ru  \n",
              "11  1999-це иестэ Манч лездась муемс ды идемс колм...    3.0     ru  \n",
              "12  И сказал царь Давид: да уловятся они во время ...    4.5    myv  \n",
              "13  Спасибо Богу, Который разжигает любовь Тита дл...    3.0    myv  \n",
              "14  Но если бы я был предан тому, что разрушал пре...    2.0    myv  \n",
              "15  Вот что нам говорят русские старцы: когда село...    4.0    myv  \n",
              "16  Пок Name был Мишка, другой — Сёмка, третий — З...    4.0    myv  \n",
              "17  Там я ищу, эру, жизнь, Уш там мы теперь путимс...    2.0    myv  \n",
              "18  ф) неравенство основ законодательства в отноше...    2.0    myv  \n",
              "19  Высший надзор за всеми Народными Комиссиями и ...    4.5    myv  \n",
              "20  Если номер игрока ошибается, игра переходит на...    1.0    myv  \n",
              "21              Играют мальчики и девочки 6 — 12 лет.    4.5    myv  \n",
              "22  Девушки и юноши собираются вокруг барана, чтоб...    1.0    myv  \n",
              "23  Венча привязана к железной цепи в виде длинног...    3.0    myv  \n",
              "24              Его душу ты слышишь в твоем сердце...    3.5    myv  \n",
              "25   — Это что ты для чего? — осторожно спросил Миыч.    4.5    myv  \n",
              "26  Место нахождения и обозначение: городское назв...    2.0    myv  \n",
              "27  Высокие размеры, друг к другу, с 4 красивыми-п...    1.0    myv  \n",
              "28  В 1999 году Ман помог найти и спасти трёхлетню...    2.0    myv  "
            ],
            "text/html": [
              "\n",
              "  <div id=\"df-462641fd-229c-47d8-a312-ea1be1c05fde\">\n",
              "    <div class=\"colab-df-container\">\n",
              "      <div>\n",
              "<style scoped>\n",
              "    .dataframe tbody tr th:only-of-type {\n",
              "        vertical-align: middle;\n",
              "    }\n",
              "\n",
              "    .dataframe tbody tr th {\n",
              "        vertical-align: top;\n",
              "    }\n",
              "\n",
              "    .dataframe thead th {\n",
              "        text-align: right;\n",
              "    }\n",
              "</style>\n",
              "<table border=\"1\" class=\"dataframe\">\n",
              "  <thead>\n",
              "    <tr style=\"text-align: right;\">\n",
              "      <th></th>\n",
              "      <th>original</th>\n",
              "      <th>translation</th>\n",
              "      <th>score</th>\n",
              "      <th>source</th>\n",
              "    </tr>\n",
              "  </thead>\n",
              "  <tbody>\n",
              "    <tr>\n",
              "      <th>0</th>\n",
              "      <td>Благодарение Богу, вложившему в сердце Титово ...</td>\n",
              "      <td>Сюкпря Пазонтень, кона путсь Титовонь седейсэ ...</td>\n",
              "      <td>3.0</td>\n",
              "      <td>ru</td>\n",
              "    </tr>\n",
              "    <tr>\n",
              "      <th>1</th>\n",
              "      <td>Ибо если я снова созидаю, что разрушил, то сам...</td>\n",
              "      <td>Бути мон таго теинь сень, мезе разрушил, сестэ...</td>\n",
              "      <td>2.0</td>\n",
              "      <td>ru</td>\n",
              "    </tr>\n",
              "    <tr>\n",
              "      <th>2</th>\n",
              "      <td>И вот что рассказывают наши русские старики: «...</td>\n",
              "      <td>Вана мезе ёвтнить миненек рузонь атятне: зярдо...</td>\n",
              "      <td>4.0</td>\n",
              "      <td>ru</td>\n",
              "    </tr>\n",
              "    <tr>\n",
              "      <th>3</th>\n",
              "      <td>Старшему имя Михаил, второму — Семен, третьему...</td>\n",
              "      <td>Покшонть лемезэ ульнесь Мишка, омбоценть — Сём...</td>\n",
              "      <td>4.5</td>\n",
              "      <td>ru</td>\n",
              "    </tr>\n",
              "    <tr>\n",
              "      <th>4</th>\n",
              "      <td>Там будем, эрзяне, жить, Уж там построим мы те...</td>\n",
              "      <td>Тосо карматано, эрзят, эрямо, Уш тосо стявттан...</td>\n",
              "      <td>3.0</td>\n",
              "      <td>ru</td>\n",
              "    </tr>\n",
              "    <tr>\n",
              "      <th>5</th>\n",
              "      <td>ф) установление основ законодательства о труде;</td>\n",
              "      <td>ф) трудоустройствань закононь основатнень уста...</td>\n",
              "      <td>1.0</td>\n",
              "      <td>ru</td>\n",
              "    </tr>\n",
              "    <tr>\n",
              "      <th>6</th>\n",
              "      <td>Высший надзор за точным исполнением законов вс...</td>\n",
              "      <td>Весе Народной Комиссариаттнэнь ды сынст подвед...</td>\n",
              "      <td>3.0</td>\n",
              "      <td>ru</td>\n",
              "    </tr>\n",
              "    <tr>\n",
              "      <th>7</th>\n",
              "      <td>Участники игры мальчики и девочки 6 — 12 лет.</td>\n",
              "      <td>Налксицятне 6 — 12 иесэ цёрынеть ды тейтернеть.</td>\n",
              "      <td>4.0</td>\n",
              "      <td>ru</td>\n",
              "    </tr>\n",
              "    <tr>\n",
              "      <th>8</th>\n",
              "      <td>И сердце у тебя совсем другое…</td>\n",
              "      <td>Ды седееть тунь лия...</td>\n",
              "      <td>4.0</td>\n",
              "      <td>ru</td>\n",
              "    </tr>\n",
              "    <tr>\n",
              "      <th>9</th>\n",
              "      <td>— Ты это к чему? — осторожно осведомился Михалыч.</td>\n",
              "      <td>— Тон те мезекс? — чевтестэ чарькодсь Михалыч.</td>\n",
              "      <td>2.0</td>\n",
              "      <td>ru</td>\n",
              "    </tr>\n",
              "    <tr>\n",
              "      <th>10</th>\n",
              "      <td>Цветки крупные, одиночные, с 4 ярко-красными л...</td>\n",
              "      <td>Лопанзо покшт, ськамост, 4 ярко-красные лепест...</td>\n",
              "      <td>1.0</td>\n",
              "      <td>ru</td>\n",
              "    </tr>\n",
              "    <tr>\n",
              "      <th>11</th>\n",
              "      <td>В 1999 году Манч помог найти и спасти трёхлетн...</td>\n",
              "      <td>1999-це иестэ Манч лездась муемс ды идемс колм...</td>\n",
              "      <td>3.0</td>\n",
              "      <td>ru</td>\n",
              "    </tr>\n",
              "    <tr>\n",
              "      <th>12</th>\n",
              "      <td>Давид инязороськак корты: «Кадык сынь понгить ...</td>\n",
              "      <td>И сказал царь Давид: да уловятся они во время ...</td>\n",
              "      <td>4.5</td>\n",
              "      <td>myv</td>\n",
              "    </tr>\n",
              "    <tr>\n",
              "      <th>13</th>\n",
              "      <td>Сюкпря Пазонтень, кие кирвазтизе Титэнь седейс...</td>\n",
              "      <td>Спасибо Богу, Который разжигает любовь Тита дл...</td>\n",
              "      <td>3.0</td>\n",
              "      <td>myv</td>\n",
              "    </tr>\n",
              "    <tr>\n",
              "      <th>14</th>\n",
              "      <td>Ансяк бути мон карман одс стявтомо сень, мезен...</td>\n",
              "      <td>Но если бы я был предан тому, что разрушал пре...</td>\n",
              "      <td>2.0</td>\n",
              "      <td>myv</td>\n",
              "    </tr>\n",
              "    <tr>\n",
              "      <th>15</th>\n",
              "      <td>Вана мезе ёвтнить миненек рузонь атятне: зярдо...</td>\n",
              "      <td>Вот что нам говорят русские старцы: когда село...</td>\n",
              "      <td>4.0</td>\n",
              "      <td>myv</td>\n",
              "    </tr>\n",
              "    <tr>\n",
              "      <th>16</th>\n",
              "      <td>Покшонть лемезэ ульнесь Мишка, омбоценть — Сём...</td>\n",
              "      <td>Пок Name был Мишка, другой — Сёмка, третий — З...</td>\n",
              "      <td>4.0</td>\n",
              "      <td>myv</td>\n",
              "    </tr>\n",
              "    <tr>\n",
              "      <th>17</th>\n",
              "      <td>Тосо карматам, эрзят, эрямо, Уш тосо путтан ми...</td>\n",
              "      <td>Там я ищу, эру, жизнь, Уш там мы теперь путимс...</td>\n",
              "      <td>2.0</td>\n",
              "      <td>myv</td>\n",
              "    </tr>\n",
              "    <tr>\n",
              "      <th>18</th>\n",
              "      <td>ф) трудонь кувалт законодательствань основатне...</td>\n",
              "      <td>ф) неравенство основ законодательства в отноше...</td>\n",
              "      <td>2.0</td>\n",
              "      <td>myv</td>\n",
              "    </tr>\n",
              "    <tr>\n",
              "      <th>19</th>\n",
              "      <td>Весе Народной Комиссариатнэнь ды сыненст подве...</td>\n",
              "      <td>Высший надзор за всеми Народными Комиссиями и ...</td>\n",
              "      <td>4.5</td>\n",
              "      <td>myv</td>\n",
              "    </tr>\n",
              "    <tr>\n",
              "      <th>20</th>\n",
              "      <td>Бути налксицясь номерэнть теемстэ ильведи, нал...</td>\n",
              "      <td>Если номер игрока ошибается, игра переходит на...</td>\n",
              "      <td>1.0</td>\n",
              "      <td>myv</td>\n",
              "    </tr>\n",
              "    <tr>\n",
              "      <th>21</th>\n",
              "      <td>Налксицятне 6 — 12 иесэ цёрынеть ды тейтернеть.</td>\n",
              "      <td>Играют мальчики и девочки 6 — 12 лет.</td>\n",
              "      <td>4.5</td>\n",
              "      <td>myv</td>\n",
              "    </tr>\n",
              "    <tr>\n",
              "      <th>22</th>\n",
              "      <td>Тейтернетне ды цёрынетне арыть най мунонть пер...</td>\n",
              "      <td>Девушки и юноши собираются вокруг барана, чтоб...</td>\n",
              "      <td>1.0</td>\n",
              "      <td>myv</td>\n",
              "    </tr>\n",
              "    <tr>\n",
              "      <th>23</th>\n",
              "      <td>Венчесь кшнинь рисьмесэ сюлмазь кувака балкас,...</td>\n",
              "      <td>Венча привязана к железной цепи в виде длинног...</td>\n",
              "      <td>3.0</td>\n",
              "      <td>myv</td>\n",
              "    </tr>\n",
              "    <tr>\n",
              "      <th>24</th>\n",
              "      <td>Сонзэ оймензэ тон эсеть седейсэ марясак…</td>\n",
              "      <td>Его душу ты слышишь в твоем сердце...</td>\n",
              "      <td>3.5</td>\n",
              "      <td>myv</td>\n",
              "    </tr>\n",
              "    <tr>\n",
              "      <th>25</th>\n",
              "      <td>— Те тон мезень кувалма? — ёжомарязь кевкстсь ...</td>\n",
              "      <td>— Это что ты для чего? — осторожно спросил Миыч.</td>\n",
              "      <td>4.5</td>\n",
              "      <td>myv</td>\n",
              "    </tr>\n",
              "    <tr>\n",
              "      <th>26</th>\n",
              "      <td>Ало пурназь ве таркас ды невтезь: ошонть лемез...</td>\n",
              "      <td>Место нахождения и обозначение: городское назв...</td>\n",
              "      <td>2.0</td>\n",
              "      <td>myv</td>\n",
              "    </tr>\n",
              "    <tr>\n",
              "      <th>27</th>\n",
              "      <td>Цецянзо покшт, вейкестэ аштицят, 4 мазы-якстер...</td>\n",
              "      <td>Высокие размеры, друг к другу, с 4 красивыми-п...</td>\n",
              "      <td>1.0</td>\n",
              "      <td>myv</td>\n",
              "    </tr>\n",
              "    <tr>\n",
              "      <th>28</th>\n",
              "      <td>1999-це иестэ Манч лездась муемс ды идемс Хати...</td>\n",
              "      <td>В 1999 году Ман помог найти и спасти трёхлетню...</td>\n",
              "      <td>2.0</td>\n",
              "      <td>myv</td>\n",
              "    </tr>\n",
              "  </tbody>\n",
              "</table>\n",
              "</div>\n",
              "      <button class=\"colab-df-convert\" onclick=\"convertToInteractive('df-462641fd-229c-47d8-a312-ea1be1c05fde')\"\n",
              "              title=\"Convert this dataframe to an interactive table.\"\n",
              "              style=\"display:none;\">\n",
              "        \n",
              "  <svg xmlns=\"http://www.w3.org/2000/svg\" height=\"24px\"viewBox=\"0 0 24 24\"\n",
              "       width=\"24px\">\n",
              "    <path d=\"M0 0h24v24H0V0z\" fill=\"none\"/>\n",
              "    <path d=\"M18.56 5.44l.94 2.06.94-2.06 2.06-.94-2.06-.94-.94-2.06-.94 2.06-2.06.94zm-11 1L8.5 8.5l.94-2.06 2.06-.94-2.06-.94L8.5 2.5l-.94 2.06-2.06.94zm10 10l.94 2.06.94-2.06 2.06-.94-2.06-.94-.94-2.06-.94 2.06-2.06.94z\"/><path d=\"M17.41 7.96l-1.37-1.37c-.4-.4-.92-.59-1.43-.59-.52 0-1.04.2-1.43.59L10.3 9.45l-7.72 7.72c-.78.78-.78 2.05 0 2.83L4 21.41c.39.39.9.59 1.41.59.51 0 1.02-.2 1.41-.59l7.78-7.78 2.81-2.81c.8-.78.8-2.07 0-2.86zM5.41 20L4 18.59l7.72-7.72 1.47 1.35L5.41 20z\"/>\n",
              "  </svg>\n",
              "      </button>\n",
              "      \n",
              "  <style>\n",
              "    .colab-df-container {\n",
              "      display:flex;\n",
              "      flex-wrap:wrap;\n",
              "      gap: 12px;\n",
              "    }\n",
              "\n",
              "    .colab-df-convert {\n",
              "      background-color: #E8F0FE;\n",
              "      border: none;\n",
              "      border-radius: 50%;\n",
              "      cursor: pointer;\n",
              "      display: none;\n",
              "      fill: #1967D2;\n",
              "      height: 32px;\n",
              "      padding: 0 0 0 0;\n",
              "      width: 32px;\n",
              "    }\n",
              "\n",
              "    .colab-df-convert:hover {\n",
              "      background-color: #E2EBFA;\n",
              "      box-shadow: 0px 1px 2px rgba(60, 64, 67, 0.3), 0px 1px 3px 1px rgba(60, 64, 67, 0.15);\n",
              "      fill: #174EA6;\n",
              "    }\n",
              "\n",
              "    [theme=dark] .colab-df-convert {\n",
              "      background-color: #3B4455;\n",
              "      fill: #D2E3FC;\n",
              "    }\n",
              "\n",
              "    [theme=dark] .colab-df-convert:hover {\n",
              "      background-color: #434B5C;\n",
              "      box-shadow: 0px 1px 3px 1px rgba(0, 0, 0, 0.15);\n",
              "      filter: drop-shadow(0px 1px 2px rgba(0, 0, 0, 0.3));\n",
              "      fill: #FFFFFF;\n",
              "    }\n",
              "  </style>\n",
              "\n",
              "      <script>\n",
              "        const buttonEl =\n",
              "          document.querySelector('#df-462641fd-229c-47d8-a312-ea1be1c05fde button.colab-df-convert');\n",
              "        buttonEl.style.display =\n",
              "          google.colab.kernel.accessAllowed ? 'block' : 'none';\n",
              "\n",
              "        async function convertToInteractive(key) {\n",
              "          const element = document.querySelector('#df-462641fd-229c-47d8-a312-ea1be1c05fde');\n",
              "          const dataTable =\n",
              "            await google.colab.kernel.invokeFunction('convertToInteractive',\n",
              "                                                     [key], {});\n",
              "          if (!dataTable) return;\n",
              "\n",
              "          const docLinkHtml = 'Like what you see? Visit the ' +\n",
              "            '<a target=\"_blank\" href=https://colab.research.google.com/notebooks/data_table.ipynb>data table notebook</a>'\n",
              "            + ' to learn more about interactive tables.';\n",
              "          element.innerHTML = '';\n",
              "          dataTable['output_type'] = 'display_data';\n",
              "          await google.colab.output.renderOutput(dataTable, element);\n",
              "          const docLink = document.createElement('div');\n",
              "          docLink.innerHTML = docLinkHtml;\n",
              "          element.appendChild(docLink);\n",
              "        }\n",
              "      </script>\n",
              "    </div>\n",
              "  </div>\n",
              "  "
            ]
          },
          "metadata": {},
          "execution_count": 7
        }
      ]
    },
    {
      "cell_type": "code",
      "source": [
        "from transformers import AutoModelForSequenceClassification, AutoModelForPreTraining, AutoTokenizer"
      ],
      "metadata": {
        "id": "1EpMkPh82Jwd"
      },
      "execution_count": null,
      "outputs": []
    },
    {
      "cell_type": "code",
      "source": [
        "mname = BASE_DIR + 'labse_erzya_v1'\n",
        "tokenizer = AutoTokenizer.from_pretrained(mname)\n",
        "model = AutoModelForPreTraining.from_pretrained(mname)"
      ],
      "metadata": {
        "id": "3pmnwTll3Vv-"
      },
      "execution_count": null,
      "outputs": []
    },
    {
      "cell_type": "code",
      "source": [
        "def classify(text1, text2, model, tokenizer):\n",
        "    batch = tokenizer(text1, text2, truncation=True, return_tensors='pt').to(model.device)\n",
        "    with torch.inference_mode():\n",
        "        out = torch.softmax(model(**batch).seq_relationship_logits, -1).cpu().numpy()[0, 1]\n",
        "    return out\n",
        "\n",
        "print(classify(manual_scores.original[0], manual_scores.translation[0], model, tokenizer))"
      ],
      "metadata": {
        "colab": {
          "base_uri": "https://localhost:8080/"
        },
        "id": "_k3GvD-w3kmm",
        "outputId": "3081e4c1-2789-47e4-d952-697420560bb9"
      },
      "execution_count": null,
      "outputs": [
        {
          "output_type": "stream",
          "name": "stdout",
          "text": [
            "0.9978003\n"
          ]
        }
      ]
    },
    {
      "cell_type": "code",
      "source": [
        "def get_dot(text1, text2, model, tokenizer):\n",
        "    batch = tokenizer([text1, text2], truncation=True, padding=True, return_tensors='pt').to(model.device)\n",
        "    with torch.inference_mode():\n",
        "        embs = torch.nn.functional.normalize(model.bert(**batch).pooler_output)\n",
        "    return torch.dot(embs[0], embs[1]).item()\n",
        "\n",
        "print(get_dot(manual_scores.original[0], manual_scores.translation[0], model, tokenizer))\n",
        "print(get_dot(manual_scores.original[0], manual_scores.original[0], model, tokenizer))\n",
        "print(get_dot(manual_scores.original[0], manual_scores.translation[1], model, tokenizer))"
      ],
      "metadata": {
        "colab": {
          "base_uri": "https://localhost:8080/"
        },
        "id": "91eDBItg1dR9",
        "outputId": "f94a17fd-e25a-4567-f6c9-15183af8b700"
      },
      "execution_count": null,
      "outputs": [
        {
          "output_type": "stream",
          "name": "stdout",
          "text": [
            "0.8851594924926758\n",
            "0.9999999403953552\n",
            "0.1809203028678894\n"
          ]
        }
      ]
    },
    {
      "cell_type": "code",
      "source": [
        "manual_scores['s1'] = [classify(row.original, row.translation, model, tokenizer) for _, row in manual_scores.iterrows()]"
      ],
      "metadata": {
        "id": "AKKKnWjt4iJG"
      },
      "execution_count": null,
      "outputs": []
    },
    {
      "cell_type": "code",
      "source": [
        "manual_scores['s2'] = [classify(row.translation, row.original, model, tokenizer) for _, row in manual_scores.iterrows()]"
      ],
      "metadata": {
        "id": "ss6V6xbA40Kd"
      },
      "execution_count": null,
      "outputs": []
    },
    {
      "cell_type": "code",
      "source": [
        "manual_scores['s12'] = manual_scores['s2'] * manual_scores['s1']"
      ],
      "metadata": {
        "id": "DHhicvlC5Yvo"
      },
      "execution_count": null,
      "outputs": []
    },
    {
      "cell_type": "code",
      "source": [
        "manual_scores['cossim'] = [get_dot(row.translation, row.original, model, tokenizer) for _, row in manual_scores.iterrows()]"
      ],
      "metadata": {
        "id": "g4fG1Ldu2Lqv"
      },
      "execution_count": null,
      "outputs": []
    },
    {
      "cell_type": "code",
      "source": [
        "manual_scores.corr('spearman')"
      ],
      "metadata": {
        "colab": {
          "base_uri": "https://localhost:8080/",
          "height": 206
        },
        "id": "mJtcEMWL5CmD",
        "outputId": "4a314981-5863-4042-fe65-8e1eec9cfe69"
      },
      "execution_count": null,
      "outputs": [
        {
          "output_type": "execute_result",
          "data": {
            "text/plain": [
              "           score        s1        s2       s12    cossim\n",
              "score   1.000000 -0.009539  0.128521  0.074552  0.282646\n",
              "s1     -0.009539  1.000000  0.893596  0.928079  0.153202\n",
              "s2      0.128521  0.893596  1.000000  0.985714  0.300493\n",
              "s12     0.074552  0.928079  0.985714  1.000000  0.269458\n",
              "cossim  0.282646  0.153202  0.300493  0.269458  1.000000"
            ],
            "text/html": [
              "\n",
              "  <div id=\"df-08891bf7-1622-4b51-ab51-48f9dda3a467\">\n",
              "    <div class=\"colab-df-container\">\n",
              "      <div>\n",
              "<style scoped>\n",
              "    .dataframe tbody tr th:only-of-type {\n",
              "        vertical-align: middle;\n",
              "    }\n",
              "\n",
              "    .dataframe tbody tr th {\n",
              "        vertical-align: top;\n",
              "    }\n",
              "\n",
              "    .dataframe thead th {\n",
              "        text-align: right;\n",
              "    }\n",
              "</style>\n",
              "<table border=\"1\" class=\"dataframe\">\n",
              "  <thead>\n",
              "    <tr style=\"text-align: right;\">\n",
              "      <th></th>\n",
              "      <th>score</th>\n",
              "      <th>s1</th>\n",
              "      <th>s2</th>\n",
              "      <th>s12</th>\n",
              "      <th>cossim</th>\n",
              "    </tr>\n",
              "  </thead>\n",
              "  <tbody>\n",
              "    <tr>\n",
              "      <th>score</th>\n",
              "      <td>1.000000</td>\n",
              "      <td>-0.009539</td>\n",
              "      <td>0.128521</td>\n",
              "      <td>0.074552</td>\n",
              "      <td>0.282646</td>\n",
              "    </tr>\n",
              "    <tr>\n",
              "      <th>s1</th>\n",
              "      <td>-0.009539</td>\n",
              "      <td>1.000000</td>\n",
              "      <td>0.893596</td>\n",
              "      <td>0.928079</td>\n",
              "      <td>0.153202</td>\n",
              "    </tr>\n",
              "    <tr>\n",
              "      <th>s2</th>\n",
              "      <td>0.128521</td>\n",
              "      <td>0.893596</td>\n",
              "      <td>1.000000</td>\n",
              "      <td>0.985714</td>\n",
              "      <td>0.300493</td>\n",
              "    </tr>\n",
              "    <tr>\n",
              "      <th>s12</th>\n",
              "      <td>0.074552</td>\n",
              "      <td>0.928079</td>\n",
              "      <td>0.985714</td>\n",
              "      <td>1.000000</td>\n",
              "      <td>0.269458</td>\n",
              "    </tr>\n",
              "    <tr>\n",
              "      <th>cossim</th>\n",
              "      <td>0.282646</td>\n",
              "      <td>0.153202</td>\n",
              "      <td>0.300493</td>\n",
              "      <td>0.269458</td>\n",
              "      <td>1.000000</td>\n",
              "    </tr>\n",
              "  </tbody>\n",
              "</table>\n",
              "</div>\n",
              "      <button class=\"colab-df-convert\" onclick=\"convertToInteractive('df-08891bf7-1622-4b51-ab51-48f9dda3a467')\"\n",
              "              title=\"Convert this dataframe to an interactive table.\"\n",
              "              style=\"display:none;\">\n",
              "        \n",
              "  <svg xmlns=\"http://www.w3.org/2000/svg\" height=\"24px\"viewBox=\"0 0 24 24\"\n",
              "       width=\"24px\">\n",
              "    <path d=\"M0 0h24v24H0V0z\" fill=\"none\"/>\n",
              "    <path d=\"M18.56 5.44l.94 2.06.94-2.06 2.06-.94-2.06-.94-.94-2.06-.94 2.06-2.06.94zm-11 1L8.5 8.5l.94-2.06 2.06-.94-2.06-.94L8.5 2.5l-.94 2.06-2.06.94zm10 10l.94 2.06.94-2.06 2.06-.94-2.06-.94-.94-2.06-.94 2.06-2.06.94z\"/><path d=\"M17.41 7.96l-1.37-1.37c-.4-.4-.92-.59-1.43-.59-.52 0-1.04.2-1.43.59L10.3 9.45l-7.72 7.72c-.78.78-.78 2.05 0 2.83L4 21.41c.39.39.9.59 1.41.59.51 0 1.02-.2 1.41-.59l7.78-7.78 2.81-2.81c.8-.78.8-2.07 0-2.86zM5.41 20L4 18.59l7.72-7.72 1.47 1.35L5.41 20z\"/>\n",
              "  </svg>\n",
              "      </button>\n",
              "      \n",
              "  <style>\n",
              "    .colab-df-container {\n",
              "      display:flex;\n",
              "      flex-wrap:wrap;\n",
              "      gap: 12px;\n",
              "    }\n",
              "\n",
              "    .colab-df-convert {\n",
              "      background-color: #E8F0FE;\n",
              "      border: none;\n",
              "      border-radius: 50%;\n",
              "      cursor: pointer;\n",
              "      display: none;\n",
              "      fill: #1967D2;\n",
              "      height: 32px;\n",
              "      padding: 0 0 0 0;\n",
              "      width: 32px;\n",
              "    }\n",
              "\n",
              "    .colab-df-convert:hover {\n",
              "      background-color: #E2EBFA;\n",
              "      box-shadow: 0px 1px 2px rgba(60, 64, 67, 0.3), 0px 1px 3px 1px rgba(60, 64, 67, 0.15);\n",
              "      fill: #174EA6;\n",
              "    }\n",
              "\n",
              "    [theme=dark] .colab-df-convert {\n",
              "      background-color: #3B4455;\n",
              "      fill: #D2E3FC;\n",
              "    }\n",
              "\n",
              "    [theme=dark] .colab-df-convert:hover {\n",
              "      background-color: #434B5C;\n",
              "      box-shadow: 0px 1px 3px 1px rgba(0, 0, 0, 0.15);\n",
              "      filter: drop-shadow(0px 1px 2px rgba(0, 0, 0, 0.3));\n",
              "      fill: #FFFFFF;\n",
              "    }\n",
              "  </style>\n",
              "\n",
              "      <script>\n",
              "        const buttonEl =\n",
              "          document.querySelector('#df-08891bf7-1622-4b51-ab51-48f9dda3a467 button.colab-df-convert');\n",
              "        buttonEl.style.display =\n",
              "          google.colab.kernel.accessAllowed ? 'block' : 'none';\n",
              "\n",
              "        async function convertToInteractive(key) {\n",
              "          const element = document.querySelector('#df-08891bf7-1622-4b51-ab51-48f9dda3a467');\n",
              "          const dataTable =\n",
              "            await google.colab.kernel.invokeFunction('convertToInteractive',\n",
              "                                                     [key], {});\n",
              "          if (!dataTable) return;\n",
              "\n",
              "          const docLinkHtml = 'Like what you see? Visit the ' +\n",
              "            '<a target=\"_blank\" href=https://colab.research.google.com/notebooks/data_table.ipynb>data table notebook</a>'\n",
              "            + ' to learn more about interactive tables.';\n",
              "          element.innerHTML = '';\n",
              "          dataTable['output_type'] = 'display_data';\n",
              "          await google.colab.output.renderOutput(dataTable, element);\n",
              "          const docLink = document.createElement('div');\n",
              "          docLink.innerHTML = docLinkHtml;\n",
              "          element.appendChild(docLink);\n",
              "        }\n",
              "      </script>\n",
              "    </div>\n",
              "  </div>\n",
              "  "
            ]
          },
          "metadata": {},
          "execution_count": 235
        }
      ]
    },
    {
      "cell_type": "code",
      "source": [
        "manual_scores.groupby('source').corr('spearman')"
      ],
      "metadata": {
        "colab": {
          "base_uri": "https://localhost:8080/",
          "height": 394
        },
        "id": "Ge4myae35JgU",
        "outputId": "92ca837b-61ab-46f3-bbb1-50c4ae2395ea"
      },
      "execution_count": null,
      "outputs": [
        {
          "output_type": "execute_result",
          "data": {
            "text/plain": [
              "                  score        s1        s2       s12    cossim\n",
              "source                                                         \n",
              "myv    score   1.000000  0.050138  0.157935  0.106543  0.626726\n",
              "       s1      0.050138  1.000000  0.911765  0.948529  0.039216\n",
              "       s2      0.157935  0.911765  1.000000  0.985294  0.161765\n",
              "       s12     0.106543  0.948529  0.985294  1.000000  0.129902\n",
              "       cossim  0.626726  0.039216  0.161765  0.129902  1.000000\n",
              "ru     score   1.000000 -0.104360 -0.064775 -0.050381 -0.287889\n",
              "       s1     -0.104360  1.000000  0.846154  0.874126  0.153846\n",
              "       s2     -0.064775  0.846154  1.000000  0.986014  0.356643\n",
              "       s12    -0.050381  0.874126  0.986014  1.000000  0.314685\n",
              "       cossim -0.287889  0.153846  0.356643  0.314685  1.000000"
            ],
            "text/html": [
              "\n",
              "  <div id=\"df-8709c914-875d-4c9a-9f1c-48e2567f7b0e\">\n",
              "    <div class=\"colab-df-container\">\n",
              "      <div>\n",
              "<style scoped>\n",
              "    .dataframe tbody tr th:only-of-type {\n",
              "        vertical-align: middle;\n",
              "    }\n",
              "\n",
              "    .dataframe tbody tr th {\n",
              "        vertical-align: top;\n",
              "    }\n",
              "\n",
              "    .dataframe thead th {\n",
              "        text-align: right;\n",
              "    }\n",
              "</style>\n",
              "<table border=\"1\" class=\"dataframe\">\n",
              "  <thead>\n",
              "    <tr style=\"text-align: right;\">\n",
              "      <th></th>\n",
              "      <th></th>\n",
              "      <th>score</th>\n",
              "      <th>s1</th>\n",
              "      <th>s2</th>\n",
              "      <th>s12</th>\n",
              "      <th>cossim</th>\n",
              "    </tr>\n",
              "    <tr>\n",
              "      <th>source</th>\n",
              "      <th></th>\n",
              "      <th></th>\n",
              "      <th></th>\n",
              "      <th></th>\n",
              "      <th></th>\n",
              "      <th></th>\n",
              "    </tr>\n",
              "  </thead>\n",
              "  <tbody>\n",
              "    <tr>\n",
              "      <th rowspan=\"5\" valign=\"top\">myv</th>\n",
              "      <th>score</th>\n",
              "      <td>1.000000</td>\n",
              "      <td>0.050138</td>\n",
              "      <td>0.157935</td>\n",
              "      <td>0.106543</td>\n",
              "      <td>0.626726</td>\n",
              "    </tr>\n",
              "    <tr>\n",
              "      <th>s1</th>\n",
              "      <td>0.050138</td>\n",
              "      <td>1.000000</td>\n",
              "      <td>0.911765</td>\n",
              "      <td>0.948529</td>\n",
              "      <td>0.039216</td>\n",
              "    </tr>\n",
              "    <tr>\n",
              "      <th>s2</th>\n",
              "      <td>0.157935</td>\n",
              "      <td>0.911765</td>\n",
              "      <td>1.000000</td>\n",
              "      <td>0.985294</td>\n",
              "      <td>0.161765</td>\n",
              "    </tr>\n",
              "    <tr>\n",
              "      <th>s12</th>\n",
              "      <td>0.106543</td>\n",
              "      <td>0.948529</td>\n",
              "      <td>0.985294</td>\n",
              "      <td>1.000000</td>\n",
              "      <td>0.129902</td>\n",
              "    </tr>\n",
              "    <tr>\n",
              "      <th>cossim</th>\n",
              "      <td>0.626726</td>\n",
              "      <td>0.039216</td>\n",
              "      <td>0.161765</td>\n",
              "      <td>0.129902</td>\n",
              "      <td>1.000000</td>\n",
              "    </tr>\n",
              "    <tr>\n",
              "      <th rowspan=\"5\" valign=\"top\">ru</th>\n",
              "      <th>score</th>\n",
              "      <td>1.000000</td>\n",
              "      <td>-0.104360</td>\n",
              "      <td>-0.064775</td>\n",
              "      <td>-0.050381</td>\n",
              "      <td>-0.287889</td>\n",
              "    </tr>\n",
              "    <tr>\n",
              "      <th>s1</th>\n",
              "      <td>-0.104360</td>\n",
              "      <td>1.000000</td>\n",
              "      <td>0.846154</td>\n",
              "      <td>0.874126</td>\n",
              "      <td>0.153846</td>\n",
              "    </tr>\n",
              "    <tr>\n",
              "      <th>s2</th>\n",
              "      <td>-0.064775</td>\n",
              "      <td>0.846154</td>\n",
              "      <td>1.000000</td>\n",
              "      <td>0.986014</td>\n",
              "      <td>0.356643</td>\n",
              "    </tr>\n",
              "    <tr>\n",
              "      <th>s12</th>\n",
              "      <td>-0.050381</td>\n",
              "      <td>0.874126</td>\n",
              "      <td>0.986014</td>\n",
              "      <td>1.000000</td>\n",
              "      <td>0.314685</td>\n",
              "    </tr>\n",
              "    <tr>\n",
              "      <th>cossim</th>\n",
              "      <td>-0.287889</td>\n",
              "      <td>0.153846</td>\n",
              "      <td>0.356643</td>\n",
              "      <td>0.314685</td>\n",
              "      <td>1.000000</td>\n",
              "    </tr>\n",
              "  </tbody>\n",
              "</table>\n",
              "</div>\n",
              "      <button class=\"colab-df-convert\" onclick=\"convertToInteractive('df-8709c914-875d-4c9a-9f1c-48e2567f7b0e')\"\n",
              "              title=\"Convert this dataframe to an interactive table.\"\n",
              "              style=\"display:none;\">\n",
              "        \n",
              "  <svg xmlns=\"http://www.w3.org/2000/svg\" height=\"24px\"viewBox=\"0 0 24 24\"\n",
              "       width=\"24px\">\n",
              "    <path d=\"M0 0h24v24H0V0z\" fill=\"none\"/>\n",
              "    <path d=\"M18.56 5.44l.94 2.06.94-2.06 2.06-.94-2.06-.94-.94-2.06-.94 2.06-2.06.94zm-11 1L8.5 8.5l.94-2.06 2.06-.94-2.06-.94L8.5 2.5l-.94 2.06-2.06.94zm10 10l.94 2.06.94-2.06 2.06-.94-2.06-.94-.94-2.06-.94 2.06-2.06.94z\"/><path d=\"M17.41 7.96l-1.37-1.37c-.4-.4-.92-.59-1.43-.59-.52 0-1.04.2-1.43.59L10.3 9.45l-7.72 7.72c-.78.78-.78 2.05 0 2.83L4 21.41c.39.39.9.59 1.41.59.51 0 1.02-.2 1.41-.59l7.78-7.78 2.81-2.81c.8-.78.8-2.07 0-2.86zM5.41 20L4 18.59l7.72-7.72 1.47 1.35L5.41 20z\"/>\n",
              "  </svg>\n",
              "      </button>\n",
              "      \n",
              "  <style>\n",
              "    .colab-df-container {\n",
              "      display:flex;\n",
              "      flex-wrap:wrap;\n",
              "      gap: 12px;\n",
              "    }\n",
              "\n",
              "    .colab-df-convert {\n",
              "      background-color: #E8F0FE;\n",
              "      border: none;\n",
              "      border-radius: 50%;\n",
              "      cursor: pointer;\n",
              "      display: none;\n",
              "      fill: #1967D2;\n",
              "      height: 32px;\n",
              "      padding: 0 0 0 0;\n",
              "      width: 32px;\n",
              "    }\n",
              "\n",
              "    .colab-df-convert:hover {\n",
              "      background-color: #E2EBFA;\n",
              "      box-shadow: 0px 1px 2px rgba(60, 64, 67, 0.3), 0px 1px 3px 1px rgba(60, 64, 67, 0.15);\n",
              "      fill: #174EA6;\n",
              "    }\n",
              "\n",
              "    [theme=dark] .colab-df-convert {\n",
              "      background-color: #3B4455;\n",
              "      fill: #D2E3FC;\n",
              "    }\n",
              "\n",
              "    [theme=dark] .colab-df-convert:hover {\n",
              "      background-color: #434B5C;\n",
              "      box-shadow: 0px 1px 3px 1px rgba(0, 0, 0, 0.15);\n",
              "      filter: drop-shadow(0px 1px 2px rgba(0, 0, 0, 0.3));\n",
              "      fill: #FFFFFF;\n",
              "    }\n",
              "  </style>\n",
              "\n",
              "      <script>\n",
              "        const buttonEl =\n",
              "          document.querySelector('#df-8709c914-875d-4c9a-9f1c-48e2567f7b0e button.colab-df-convert');\n",
              "        buttonEl.style.display =\n",
              "          google.colab.kernel.accessAllowed ? 'block' : 'none';\n",
              "\n",
              "        async function convertToInteractive(key) {\n",
              "          const element = document.querySelector('#df-8709c914-875d-4c9a-9f1c-48e2567f7b0e');\n",
              "          const dataTable =\n",
              "            await google.colab.kernel.invokeFunction('convertToInteractive',\n",
              "                                                     [key], {});\n",
              "          if (!dataTable) return;\n",
              "\n",
              "          const docLinkHtml = 'Like what you see? Visit the ' +\n",
              "            '<a target=\"_blank\" href=https://colab.research.google.com/notebooks/data_table.ipynb>data table notebook</a>'\n",
              "            + ' to learn more about interactive tables.';\n",
              "          element.innerHTML = '';\n",
              "          dataTable['output_type'] = 'display_data';\n",
              "          await google.colab.output.renderOutput(dataTable, element);\n",
              "          const docLink = document.createElement('div');\n",
              "          docLink.innerHTML = docLinkHtml;\n",
              "          element.appendChild(docLink);\n",
              "        }\n",
              "      </script>\n",
              "    </div>\n",
              "  </div>\n",
              "  "
            ]
          },
          "metadata": {},
          "execution_count": 236
        }
      ]
    },
    {
      "cell_type": "code",
      "source": [
        "import scipy.stats"
      ],
      "metadata": {
        "id": "oChg_MhD5iCG"
      },
      "execution_count": null,
      "outputs": []
    },
    {
      "cell_type": "code",
      "source": [
        "scipy.stats.spearmanr(manual_scores[manual_scores.source=='myv'].score, manual_scores[manual_scores.source=='myv'].s12)"
      ],
      "metadata": {
        "colab": {
          "base_uri": "https://localhost:8080/"
        },
        "id": "EW4VjPav5UPS",
        "outputId": "055f8571-3751-4f7e-ff55-1804824d9f1a"
      },
      "execution_count": null,
      "outputs": [
        {
          "output_type": "execute_result",
          "data": {
            "text/plain": [
              "SpearmanrResult(correlation=0.10654339832432477, pvalue=0.6840146618612767)"
            ]
          },
          "metadata": {},
          "execution_count": 238
        }
      ]
    },
    {
      "cell_type": "code",
      "source": [
        "scipy.stats.spearmanr(manual_scores[manual_scores.source=='ru'].score, manual_scores[manual_scores.source=='ru'].s12)"
      ],
      "metadata": {
        "colab": {
          "base_uri": "https://localhost:8080/"
        },
        "id": "WMzlkAeK2cbF",
        "outputId": "4821b12a-4858-4e86-9370-bf0c7588fd97"
      },
      "execution_count": null,
      "outputs": [
        {
          "output_type": "execute_result",
          "data": {
            "text/plain": [
              "SpearmanrResult(correlation=-0.05038057699354522, pvalue=0.8764351849316754)"
            ]
          },
          "metadata": {},
          "execution_count": 240
        }
      ]
    },
    {
      "cell_type": "code",
      "source": [
        "scipy.stats.spearmanr(manual_scores[manual_scores.source=='myv'].score, manual_scores[manual_scores.source=='myv'].cossim)"
      ],
      "metadata": {
        "colab": {
          "base_uri": "https://localhost:8080/"
        },
        "id": "iftWyJ2N2Zie",
        "outputId": "e2f7eefc-9d6e-4ddd-fde6-10bccda3b51d"
      },
      "execution_count": null,
      "outputs": [
        {
          "output_type": "execute_result",
          "data": {
            "text/plain": [
              "SpearmanrResult(correlation=0.6267258724960281, pvalue=0.0070970035693212205)"
            ]
          },
          "metadata": {},
          "execution_count": 239
        }
      ]
    },
    {
      "cell_type": "code",
      "source": [
        "scipy.stats.spearmanr(manual_scores[manual_scores.source=='ru'].score, manual_scores[manual_scores.source=='ru'].cossim)"
      ],
      "metadata": {
        "colab": {
          "base_uri": "https://localhost:8080/"
        },
        "id": "eXtg-5Qi2fUq",
        "outputId": "80bce2f0-6b0e-4280-c770-6854933aafeb"
      },
      "execution_count": null,
      "outputs": [
        {
          "output_type": "execute_result",
          "data": {
            "text/plain": [
              "SpearmanrResult(correlation=-0.28788901139168704, pvalue=0.3642014741833626)"
            ]
          },
          "metadata": {},
          "execution_count": 241
        }
      ]
    },
    {
      "cell_type": "markdown",
      "source": [
        "Correlation is no statistically significant. Either the model is undertrained for the translation detection loss, or the corrupted training samples are not representative of the real translation errors."
      ],
      "metadata": {
        "id": "FGwU-I5O5gaG"
      }
    },
    {
      "cell_type": "code",
      "source": [
        "manual_scores"
      ],
      "metadata": {
        "colab": {
          "base_uri": "https://localhost:8080/",
          "height": 959
        },
        "id": "dFT7fVeH6OnB",
        "outputId": "d36e2aad-9972-4bca-9fc3-7bf18e7eb273"
      },
      "execution_count": null,
      "outputs": [
        {
          "output_type": "execute_result",
          "data": {
            "text/plain": [
              "                                             original  \\\n",
              "0   Благодарение Богу, вложившему в сердце Титово ...   \n",
              "1   Ибо если я снова созидаю, что разрушил, то сам...   \n",
              "2   И вот что рассказывают наши русские старики: «...   \n",
              "3   Старшему имя Михаил, второму — Семен, третьему...   \n",
              "4   Там будем, эрзяне, жить, Уж там построим мы те...   \n",
              "5     ф) установление основ законодательства о труде;   \n",
              "6   Высший надзор за точным исполнением законов вс...   \n",
              "7       Участники игры мальчики и девочки 6 — 12 лет.   \n",
              "8                      И сердце у тебя совсем другое…   \n",
              "9   — Ты это к чему? — осторожно осведомился Михалыч.   \n",
              "10  Цветки крупные, одиночные, с 4 ярко-красными л...   \n",
              "11  В 1999 году Манч помог найти и спасти трёхлетн...   \n",
              "12  Давид инязороськак корты: «Кадык сынь понгить ...   \n",
              "13  Сюкпря Пазонтень, кие кирвазтизе Титэнь седейс...   \n",
              "14  Ансяк бути мон карман одс стявтомо сень, мезен...   \n",
              "15  Вана мезе ёвтнить миненек рузонь атятне: зярдо...   \n",
              "16  Покшонть лемезэ ульнесь Мишка, омбоценть — Сём...   \n",
              "17  Тосо карматам, эрзят, эрямо, Уш тосо путтан ми...   \n",
              "18  ф) трудонь кувалт законодательствань основатне...   \n",
              "19  Весе Народной Комиссариатнэнь ды сыненст подве...   \n",
              "20  Бути налксицясь номерэнть теемстэ ильведи, нал...   \n",
              "21    Налксицятне 6 — 12 иесэ цёрынеть ды тейтернеть.   \n",
              "22  Тейтернетне ды цёрынетне арыть най мунонть пер...   \n",
              "23  Венчесь кшнинь рисьмесэ сюлмазь кувака балкас,...   \n",
              "24           Сонзэ оймензэ тон эсеть седейсэ марясак…   \n",
              "25  — Те тон мезень кувалма? — ёжомарязь кевкстсь ...   \n",
              "26  Ало пурназь ве таркас ды невтезь: ошонть лемез...   \n",
              "27  Цецянзо покшт, вейкестэ аштицят, 4 мазы-якстер...   \n",
              "28  1999-це иестэ Манч лездась муемс ды идемс Хати...   \n",
              "\n",
              "                                          translation  score source        s1  \\\n",
              "0   Сюкпря Пазонтень, кона путсь Титовонь седейсэ ...    3.0     ru  0.997800   \n",
              "1   Бути мон таго теинь сень, мезе разрушил, сестэ...    2.0     ru  0.995986   \n",
              "2   Вана мезе ёвтнить миненек рузонь атятне: зярдо...    4.0     ru  0.958871   \n",
              "3   Покшонть лемезэ ульнесь Мишка, омбоценть — Сём...    4.5     ru  0.988938   \n",
              "4   Тосо карматано, эрзят, эрямо, Уш тосо стявттан...    3.0     ru  0.983811   \n",
              "5   ф) трудоустройствань закононь основатнень уста...    1.0     ru  0.991507   \n",
              "6   Весе Народной Комиссариаттнэнь ды сынст подвед...    3.0     ru  0.974168   \n",
              "7     Налксицятне 6 — 12 иесэ цёрынеть ды тейтернеть.    4.0     ru  0.995447   \n",
              "8                              Ды седееть тунь лия...    4.0     ru  0.999214   \n",
              "9      — Тон те мезекс? — чевтестэ чарькодсь Михалыч.    2.0     ru  0.995426   \n",
              "10  Лопанзо покшт, ськамост, 4 ярко-красные лепест...    1.0     ru  0.990787   \n",
              "11  1999-це иестэ Манч лездась муемс ды идемс колм...    3.0     ru  0.985421   \n",
              "12  И сказал царь Давид: да уловятся они во время ...    4.5    myv  0.984913   \n",
              "13  Спасибо Богу, Который разжигает любовь Тита дл...    3.0    myv  0.990287   \n",
              "14  Но если бы я был предан тому, что разрушал пре...    2.0    myv  0.983655   \n",
              "15  Вот что нам говорят русские старцы: когда село...    4.0    myv  0.795008   \n",
              "16  Пок Name был Мишка, другой — Сёмка, третий — З...    4.0    myv  0.929210   \n",
              "17  Там я ищу, эру, жизнь, Уш там мы теперь путимс...    2.0    myv  0.980197   \n",
              "18  ф) неравенство основ законодательства в отноше...    2.0    myv  0.969700   \n",
              "19  Высший надзор за всеми Народными Комиссиями и ...    4.5    myv  0.860687   \n",
              "20  Если номер игрока ошибается, игра переходит на...    1.0    myv  0.990423   \n",
              "21              Играют мальчики и девочки 6 — 12 лет.    4.5    myv  0.995669   \n",
              "22  Девушки и юноши собираются вокруг барана, чтоб...    1.0    myv  0.988648   \n",
              "23  Венча привязана к железной цепи в виде длинног...    3.0    myv  0.975419   \n",
              "24              Его душу ты слышишь в твоем сердце...    3.5    myv  0.998449   \n",
              "25   — Это что ты для чего? — осторожно спросил Миыч.    4.5    myv  0.990559   \n",
              "26  Место нахождения и обозначение: городское назв...    2.0    myv  0.851060   \n",
              "27  Высокие размеры, друг к другу, с 4 красивыми-п...    1.0    myv  0.977585   \n",
              "28  В 1999 году Ман помог найти и спасти трёхлетню...    2.0    myv  0.938384   \n",
              "\n",
              "          s2       s12  \n",
              "0   0.994707  0.992519  \n",
              "1   0.996814  0.992813  \n",
              "2   0.936734  0.898207  \n",
              "3   0.984304  0.973415  \n",
              "4   0.986435  0.970466  \n",
              "5   0.992002  0.983577  \n",
              "6   0.979692  0.954385  \n",
              "7   0.996098  0.991563  \n",
              "8   0.999179  0.998394  \n",
              "9   0.997937  0.993373  \n",
              "10  0.936899  0.928267  \n",
              "11  0.991644  0.977187  \n",
              "12  0.986282  0.971402  \n",
              "13  0.992352  0.982714  \n",
              "14  0.981048  0.965012  \n",
              "15  0.933612  0.742229  \n",
              "16  0.949969  0.882721  \n",
              "17  0.973529  0.954250  \n",
              "18  0.975708  0.946145  \n",
              "19  0.801448  0.689796  \n",
              "20  0.992049  0.982549  \n",
              "21  0.996816  0.992498  \n",
              "22  0.983066  0.971907  \n",
              "23  0.664960  0.648614  \n",
              "24  0.997615  0.996068  \n",
              "25  0.992624  0.983253  \n",
              "26  0.697184  0.593346  \n",
              "27  0.969124  0.947401  \n",
              "28  0.927834  0.870664  "
            ],
            "text/html": [
              "\n",
              "  <div id=\"df-a39d8175-4f71-4de3-a027-41f7654b403d\">\n",
              "    <div class=\"colab-df-container\">\n",
              "      <div>\n",
              "<style scoped>\n",
              "    .dataframe tbody tr th:only-of-type {\n",
              "        vertical-align: middle;\n",
              "    }\n",
              "\n",
              "    .dataframe tbody tr th {\n",
              "        vertical-align: top;\n",
              "    }\n",
              "\n",
              "    .dataframe thead th {\n",
              "        text-align: right;\n",
              "    }\n",
              "</style>\n",
              "<table border=\"1\" class=\"dataframe\">\n",
              "  <thead>\n",
              "    <tr style=\"text-align: right;\">\n",
              "      <th></th>\n",
              "      <th>original</th>\n",
              "      <th>translation</th>\n",
              "      <th>score</th>\n",
              "      <th>source</th>\n",
              "      <th>s1</th>\n",
              "      <th>s2</th>\n",
              "      <th>s12</th>\n",
              "    </tr>\n",
              "  </thead>\n",
              "  <tbody>\n",
              "    <tr>\n",
              "      <th>0</th>\n",
              "      <td>Благодарение Богу, вложившему в сердце Титово ...</td>\n",
              "      <td>Сюкпря Пазонтень, кона путсь Титовонь седейсэ ...</td>\n",
              "      <td>3.0</td>\n",
              "      <td>ru</td>\n",
              "      <td>0.997800</td>\n",
              "      <td>0.994707</td>\n",
              "      <td>0.992519</td>\n",
              "    </tr>\n",
              "    <tr>\n",
              "      <th>1</th>\n",
              "      <td>Ибо если я снова созидаю, что разрушил, то сам...</td>\n",
              "      <td>Бути мон таго теинь сень, мезе разрушил, сестэ...</td>\n",
              "      <td>2.0</td>\n",
              "      <td>ru</td>\n",
              "      <td>0.995986</td>\n",
              "      <td>0.996814</td>\n",
              "      <td>0.992813</td>\n",
              "    </tr>\n",
              "    <tr>\n",
              "      <th>2</th>\n",
              "      <td>И вот что рассказывают наши русские старики: «...</td>\n",
              "      <td>Вана мезе ёвтнить миненек рузонь атятне: зярдо...</td>\n",
              "      <td>4.0</td>\n",
              "      <td>ru</td>\n",
              "      <td>0.958871</td>\n",
              "      <td>0.936734</td>\n",
              "      <td>0.898207</td>\n",
              "    </tr>\n",
              "    <tr>\n",
              "      <th>3</th>\n",
              "      <td>Старшему имя Михаил, второму — Семен, третьему...</td>\n",
              "      <td>Покшонть лемезэ ульнесь Мишка, омбоценть — Сём...</td>\n",
              "      <td>4.5</td>\n",
              "      <td>ru</td>\n",
              "      <td>0.988938</td>\n",
              "      <td>0.984304</td>\n",
              "      <td>0.973415</td>\n",
              "    </tr>\n",
              "    <tr>\n",
              "      <th>4</th>\n",
              "      <td>Там будем, эрзяне, жить, Уж там построим мы те...</td>\n",
              "      <td>Тосо карматано, эрзят, эрямо, Уш тосо стявттан...</td>\n",
              "      <td>3.0</td>\n",
              "      <td>ru</td>\n",
              "      <td>0.983811</td>\n",
              "      <td>0.986435</td>\n",
              "      <td>0.970466</td>\n",
              "    </tr>\n",
              "    <tr>\n",
              "      <th>5</th>\n",
              "      <td>ф) установление основ законодательства о труде;</td>\n",
              "      <td>ф) трудоустройствань закононь основатнень уста...</td>\n",
              "      <td>1.0</td>\n",
              "      <td>ru</td>\n",
              "      <td>0.991507</td>\n",
              "      <td>0.992002</td>\n",
              "      <td>0.983577</td>\n",
              "    </tr>\n",
              "    <tr>\n",
              "      <th>6</th>\n",
              "      <td>Высший надзор за точным исполнением законов вс...</td>\n",
              "      <td>Весе Народной Комиссариаттнэнь ды сынст подвед...</td>\n",
              "      <td>3.0</td>\n",
              "      <td>ru</td>\n",
              "      <td>0.974168</td>\n",
              "      <td>0.979692</td>\n",
              "      <td>0.954385</td>\n",
              "    </tr>\n",
              "    <tr>\n",
              "      <th>7</th>\n",
              "      <td>Участники игры мальчики и девочки 6 — 12 лет.</td>\n",
              "      <td>Налксицятне 6 — 12 иесэ цёрынеть ды тейтернеть.</td>\n",
              "      <td>4.0</td>\n",
              "      <td>ru</td>\n",
              "      <td>0.995447</td>\n",
              "      <td>0.996098</td>\n",
              "      <td>0.991563</td>\n",
              "    </tr>\n",
              "    <tr>\n",
              "      <th>8</th>\n",
              "      <td>И сердце у тебя совсем другое…</td>\n",
              "      <td>Ды седееть тунь лия...</td>\n",
              "      <td>4.0</td>\n",
              "      <td>ru</td>\n",
              "      <td>0.999214</td>\n",
              "      <td>0.999179</td>\n",
              "      <td>0.998394</td>\n",
              "    </tr>\n",
              "    <tr>\n",
              "      <th>9</th>\n",
              "      <td>— Ты это к чему? — осторожно осведомился Михалыч.</td>\n",
              "      <td>— Тон те мезекс? — чевтестэ чарькодсь Михалыч.</td>\n",
              "      <td>2.0</td>\n",
              "      <td>ru</td>\n",
              "      <td>0.995426</td>\n",
              "      <td>0.997937</td>\n",
              "      <td>0.993373</td>\n",
              "    </tr>\n",
              "    <tr>\n",
              "      <th>10</th>\n",
              "      <td>Цветки крупные, одиночные, с 4 ярко-красными л...</td>\n",
              "      <td>Лопанзо покшт, ськамост, 4 ярко-красные лепест...</td>\n",
              "      <td>1.0</td>\n",
              "      <td>ru</td>\n",
              "      <td>0.990787</td>\n",
              "      <td>0.936899</td>\n",
              "      <td>0.928267</td>\n",
              "    </tr>\n",
              "    <tr>\n",
              "      <th>11</th>\n",
              "      <td>В 1999 году Манч помог найти и спасти трёхлетн...</td>\n",
              "      <td>1999-це иестэ Манч лездась муемс ды идемс колм...</td>\n",
              "      <td>3.0</td>\n",
              "      <td>ru</td>\n",
              "      <td>0.985421</td>\n",
              "      <td>0.991644</td>\n",
              "      <td>0.977187</td>\n",
              "    </tr>\n",
              "    <tr>\n",
              "      <th>12</th>\n",
              "      <td>Давид инязороськак корты: «Кадык сынь понгить ...</td>\n",
              "      <td>И сказал царь Давид: да уловятся они во время ...</td>\n",
              "      <td>4.5</td>\n",
              "      <td>myv</td>\n",
              "      <td>0.984913</td>\n",
              "      <td>0.986282</td>\n",
              "      <td>0.971402</td>\n",
              "    </tr>\n",
              "    <tr>\n",
              "      <th>13</th>\n",
              "      <td>Сюкпря Пазонтень, кие кирвазтизе Титэнь седейс...</td>\n",
              "      <td>Спасибо Богу, Который разжигает любовь Тита дл...</td>\n",
              "      <td>3.0</td>\n",
              "      <td>myv</td>\n",
              "      <td>0.990287</td>\n",
              "      <td>0.992352</td>\n",
              "      <td>0.982714</td>\n",
              "    </tr>\n",
              "    <tr>\n",
              "      <th>14</th>\n",
              "      <td>Ансяк бути мон карман одс стявтомо сень, мезен...</td>\n",
              "      <td>Но если бы я был предан тому, что разрушал пре...</td>\n",
              "      <td>2.0</td>\n",
              "      <td>myv</td>\n",
              "      <td>0.983655</td>\n",
              "      <td>0.981048</td>\n",
              "      <td>0.965012</td>\n",
              "    </tr>\n",
              "    <tr>\n",
              "      <th>15</th>\n",
              "      <td>Вана мезе ёвтнить миненек рузонь атятне: зярдо...</td>\n",
              "      <td>Вот что нам говорят русские старцы: когда село...</td>\n",
              "      <td>4.0</td>\n",
              "      <td>myv</td>\n",
              "      <td>0.795008</td>\n",
              "      <td>0.933612</td>\n",
              "      <td>0.742229</td>\n",
              "    </tr>\n",
              "    <tr>\n",
              "      <th>16</th>\n",
              "      <td>Покшонть лемезэ ульнесь Мишка, омбоценть — Сём...</td>\n",
              "      <td>Пок Name был Мишка, другой — Сёмка, третий — З...</td>\n",
              "      <td>4.0</td>\n",
              "      <td>myv</td>\n",
              "      <td>0.929210</td>\n",
              "      <td>0.949969</td>\n",
              "      <td>0.882721</td>\n",
              "    </tr>\n",
              "    <tr>\n",
              "      <th>17</th>\n",
              "      <td>Тосо карматам, эрзят, эрямо, Уш тосо путтан ми...</td>\n",
              "      <td>Там я ищу, эру, жизнь, Уш там мы теперь путимс...</td>\n",
              "      <td>2.0</td>\n",
              "      <td>myv</td>\n",
              "      <td>0.980197</td>\n",
              "      <td>0.973529</td>\n",
              "      <td>0.954250</td>\n",
              "    </tr>\n",
              "    <tr>\n",
              "      <th>18</th>\n",
              "      <td>ф) трудонь кувалт законодательствань основатне...</td>\n",
              "      <td>ф) неравенство основ законодательства в отноше...</td>\n",
              "      <td>2.0</td>\n",
              "      <td>myv</td>\n",
              "      <td>0.969700</td>\n",
              "      <td>0.975708</td>\n",
              "      <td>0.946145</td>\n",
              "    </tr>\n",
              "    <tr>\n",
              "      <th>19</th>\n",
              "      <td>Весе Народной Комиссариатнэнь ды сыненст подве...</td>\n",
              "      <td>Высший надзор за всеми Народными Комиссиями и ...</td>\n",
              "      <td>4.5</td>\n",
              "      <td>myv</td>\n",
              "      <td>0.860687</td>\n",
              "      <td>0.801448</td>\n",
              "      <td>0.689796</td>\n",
              "    </tr>\n",
              "    <tr>\n",
              "      <th>20</th>\n",
              "      <td>Бути налксицясь номерэнть теемстэ ильведи, нал...</td>\n",
              "      <td>Если номер игрока ошибается, игра переходит на...</td>\n",
              "      <td>1.0</td>\n",
              "      <td>myv</td>\n",
              "      <td>0.990423</td>\n",
              "      <td>0.992049</td>\n",
              "      <td>0.982549</td>\n",
              "    </tr>\n",
              "    <tr>\n",
              "      <th>21</th>\n",
              "      <td>Налксицятне 6 — 12 иесэ цёрынеть ды тейтернеть.</td>\n",
              "      <td>Играют мальчики и девочки 6 — 12 лет.</td>\n",
              "      <td>4.5</td>\n",
              "      <td>myv</td>\n",
              "      <td>0.995669</td>\n",
              "      <td>0.996816</td>\n",
              "      <td>0.992498</td>\n",
              "    </tr>\n",
              "    <tr>\n",
              "      <th>22</th>\n",
              "      <td>Тейтернетне ды цёрынетне арыть най мунонть пер...</td>\n",
              "      <td>Девушки и юноши собираются вокруг барана, чтоб...</td>\n",
              "      <td>1.0</td>\n",
              "      <td>myv</td>\n",
              "      <td>0.988648</td>\n",
              "      <td>0.983066</td>\n",
              "      <td>0.971907</td>\n",
              "    </tr>\n",
              "    <tr>\n",
              "      <th>23</th>\n",
              "      <td>Венчесь кшнинь рисьмесэ сюлмазь кувака балкас,...</td>\n",
              "      <td>Венча привязана к железной цепи в виде длинног...</td>\n",
              "      <td>3.0</td>\n",
              "      <td>myv</td>\n",
              "      <td>0.975419</td>\n",
              "      <td>0.664960</td>\n",
              "      <td>0.648614</td>\n",
              "    </tr>\n",
              "    <tr>\n",
              "      <th>24</th>\n",
              "      <td>Сонзэ оймензэ тон эсеть седейсэ марясак…</td>\n",
              "      <td>Его душу ты слышишь в твоем сердце...</td>\n",
              "      <td>3.5</td>\n",
              "      <td>myv</td>\n",
              "      <td>0.998449</td>\n",
              "      <td>0.997615</td>\n",
              "      <td>0.996068</td>\n",
              "    </tr>\n",
              "    <tr>\n",
              "      <th>25</th>\n",
              "      <td>— Те тон мезень кувалма? — ёжомарязь кевкстсь ...</td>\n",
              "      <td>— Это что ты для чего? — осторожно спросил Миыч.</td>\n",
              "      <td>4.5</td>\n",
              "      <td>myv</td>\n",
              "      <td>0.990559</td>\n",
              "      <td>0.992624</td>\n",
              "      <td>0.983253</td>\n",
              "    </tr>\n",
              "    <tr>\n",
              "      <th>26</th>\n",
              "      <td>Ало пурназь ве таркас ды невтезь: ошонть лемез...</td>\n",
              "      <td>Место нахождения и обозначение: городское назв...</td>\n",
              "      <td>2.0</td>\n",
              "      <td>myv</td>\n",
              "      <td>0.851060</td>\n",
              "      <td>0.697184</td>\n",
              "      <td>0.593346</td>\n",
              "    </tr>\n",
              "    <tr>\n",
              "      <th>27</th>\n",
              "      <td>Цецянзо покшт, вейкестэ аштицят, 4 мазы-якстер...</td>\n",
              "      <td>Высокие размеры, друг к другу, с 4 красивыми-п...</td>\n",
              "      <td>1.0</td>\n",
              "      <td>myv</td>\n",
              "      <td>0.977585</td>\n",
              "      <td>0.969124</td>\n",
              "      <td>0.947401</td>\n",
              "    </tr>\n",
              "    <tr>\n",
              "      <th>28</th>\n",
              "      <td>1999-це иестэ Манч лездась муемс ды идемс Хати...</td>\n",
              "      <td>В 1999 году Ман помог найти и спасти трёхлетню...</td>\n",
              "      <td>2.0</td>\n",
              "      <td>myv</td>\n",
              "      <td>0.938384</td>\n",
              "      <td>0.927834</td>\n",
              "      <td>0.870664</td>\n",
              "    </tr>\n",
              "  </tbody>\n",
              "</table>\n",
              "</div>\n",
              "      <button class=\"colab-df-convert\" onclick=\"convertToInteractive('df-a39d8175-4f71-4de3-a027-41f7654b403d')\"\n",
              "              title=\"Convert this dataframe to an interactive table.\"\n",
              "              style=\"display:none;\">\n",
              "        \n",
              "  <svg xmlns=\"http://www.w3.org/2000/svg\" height=\"24px\"viewBox=\"0 0 24 24\"\n",
              "       width=\"24px\">\n",
              "    <path d=\"M0 0h24v24H0V0z\" fill=\"none\"/>\n",
              "    <path d=\"M18.56 5.44l.94 2.06.94-2.06 2.06-.94-2.06-.94-.94-2.06-.94 2.06-2.06.94zm-11 1L8.5 8.5l.94-2.06 2.06-.94-2.06-.94L8.5 2.5l-.94 2.06-2.06.94zm10 10l.94 2.06.94-2.06 2.06-.94-2.06-.94-.94-2.06-.94 2.06-2.06.94z\"/><path d=\"M17.41 7.96l-1.37-1.37c-.4-.4-.92-.59-1.43-.59-.52 0-1.04.2-1.43.59L10.3 9.45l-7.72 7.72c-.78.78-.78 2.05 0 2.83L4 21.41c.39.39.9.59 1.41.59.51 0 1.02-.2 1.41-.59l7.78-7.78 2.81-2.81c.8-.78.8-2.07 0-2.86zM5.41 20L4 18.59l7.72-7.72 1.47 1.35L5.41 20z\"/>\n",
              "  </svg>\n",
              "      </button>\n",
              "      \n",
              "  <style>\n",
              "    .colab-df-container {\n",
              "      display:flex;\n",
              "      flex-wrap:wrap;\n",
              "      gap: 12px;\n",
              "    }\n",
              "\n",
              "    .colab-df-convert {\n",
              "      background-color: #E8F0FE;\n",
              "      border: none;\n",
              "      border-radius: 50%;\n",
              "      cursor: pointer;\n",
              "      display: none;\n",
              "      fill: #1967D2;\n",
              "      height: 32px;\n",
              "      padding: 0 0 0 0;\n",
              "      width: 32px;\n",
              "    }\n",
              "\n",
              "    .colab-df-convert:hover {\n",
              "      background-color: #E2EBFA;\n",
              "      box-shadow: 0px 1px 2px rgba(60, 64, 67, 0.3), 0px 1px 3px 1px rgba(60, 64, 67, 0.15);\n",
              "      fill: #174EA6;\n",
              "    }\n",
              "\n",
              "    [theme=dark] .colab-df-convert {\n",
              "      background-color: #3B4455;\n",
              "      fill: #D2E3FC;\n",
              "    }\n",
              "\n",
              "    [theme=dark] .colab-df-convert:hover {\n",
              "      background-color: #434B5C;\n",
              "      box-shadow: 0px 1px 3px 1px rgba(0, 0, 0, 0.15);\n",
              "      filter: drop-shadow(0px 1px 2px rgba(0, 0, 0, 0.3));\n",
              "      fill: #FFFFFF;\n",
              "    }\n",
              "  </style>\n",
              "\n",
              "      <script>\n",
              "        const buttonEl =\n",
              "          document.querySelector('#df-a39d8175-4f71-4de3-a027-41f7654b403d button.colab-df-convert');\n",
              "        buttonEl.style.display =\n",
              "          google.colab.kernel.accessAllowed ? 'block' : 'none';\n",
              "\n",
              "        async function convertToInteractive(key) {\n",
              "          const element = document.querySelector('#df-a39d8175-4f71-4de3-a027-41f7654b403d');\n",
              "          const dataTable =\n",
              "            await google.colab.kernel.invokeFunction('convertToInteractive',\n",
              "                                                     [key], {});\n",
              "          if (!dataTable) return;\n",
              "\n",
              "          const docLinkHtml = 'Like what you see? Visit the ' +\n",
              "            '<a target=\"_blank\" href=https://colab.research.google.com/notebooks/data_table.ipynb>data table notebook</a>'\n",
              "            + ' to learn more about interactive tables.';\n",
              "          element.innerHTML = '';\n",
              "          dataTable['output_type'] = 'display_data';\n",
              "          await google.colab.output.renderOutput(dataTable, element);\n",
              "          const docLink = document.createElement('div');\n",
              "          docLink.innerHTML = docLinkHtml;\n",
              "          element.appendChild(docLink);\n",
              "        }\n",
              "      </script>\n",
              "    </div>\n",
              "  </div>\n",
              "  "
            ]
          },
          "metadata": {},
          "execution_count": 38
        }
      ]
    },
    {
      "cell_type": "code",
      "source": [],
      "metadata": {
        "id": "UgfOh87C6bN6"
      },
      "execution_count": null,
      "outputs": []
    },
    {
      "cell_type": "markdown",
      "source": [
        "# The hassle with tokenizing"
      ],
      "metadata": {
        "id": "2RP2kq1qSs9s"
      }
    },
    {
      "cell_type": "code",
      "source": [
        "base_model_path = '/gd/MyDrive/models/myv/mbart-large-51-myv-raw'"
      ],
      "metadata": {
        "id": "g7JcHWITSvth"
      },
      "execution_count": null,
      "outputs": []
    },
    {
      "cell_type": "code",
      "source": [
        "def fix_tokenizer(tokenizer):\n",
        "    old_len = len(tokenizer) - int('myv_XX' in tokenizer.added_tokens_encoder)\n",
        "    tokenizer.lang_code_to_id['myv_XX'] = old_len-1\n",
        "    tokenizer.id_to_lang_code[old_len-1] = 'myv_XX'\n",
        "    tokenizer.fairseq_tokens_to_ids[\"<mask>\"] = len(tokenizer.sp_model) + len(tokenizer.lang_code_to_id) + tokenizer.fairseq_offset\n",
        "\n",
        "    tokenizer.fairseq_tokens_to_ids.update(tokenizer.lang_code_to_id)\n",
        "    tokenizer.fairseq_ids_to_tokens = {v: k for k, v in tokenizer.fairseq_tokens_to_ids.items()}\n",
        "    if 'myv_XX' not in tokenizer._additional_special_tokens:\n",
        "        tokenizer._additional_special_tokens.append('myv_XX')\n",
        "    tokenizer.added_tokens_encoder = {}"
      ],
      "metadata": {
        "id": "NvB2oA_ATqYB"
      },
      "execution_count": null,
      "outputs": []
    },
    {
      "cell_type": "code",
      "source": [
        "tok1 = MBart50Tokenizer.from_pretrained(base_model_path)\n",
        "print(len(tok1), tok1.vocab_size, len(tok1.sp_model), len(tok1.lang_code_to_id), len(tok1.added_tokens_encoder))\n",
        "fix_tokenizer(tok1)\n",
        "print(len(tok1), tok1.vocab_size, len(tok1.sp_model), len(tok1.lang_code_to_id), len(tok1.added_tokens_encoder))"
      ],
      "metadata": {
        "colab": {
          "base_uri": "https://localhost:8080/"
        },
        "id": "QC2hhsvVSwXi",
        "outputId": "a3c4fb7a-14cf-4d45-d22d-85a1e72e484f"
      },
      "execution_count": null,
      "outputs": [
        {
          "output_type": "stream",
          "name": "stdout",
          "text": [
            "269545 269545 269491 52 0\n",
            "269546 269546 269491 53 0\n"
          ]
        }
      ]
    },
    {
      "cell_type": "code",
      "source": [
        "tok1.added_tokens_encoder"
      ],
      "metadata": {
        "colab": {
          "base_uri": "https://localhost:8080/"
        },
        "id": "AynB9xyKVC1L",
        "outputId": "fe7f64ca-b3eb-4518-d794-ad3fe7a947b9"
      },
      "execution_count": null,
      "outputs": [
        {
          "output_type": "execute_result",
          "data": {
            "text/plain": [
              "{}"
            ]
          },
          "metadata": {},
          "execution_count": 168
        }
      ]
    },
    {
      "cell_type": "code",
      "source": [
        "tok1.src_lang = 'myv_XX'\n",
        "print(tok1.convert_tokens_to_ids('myv_XX'))"
      ],
      "metadata": {
        "colab": {
          "base_uri": "https://localhost:8080/"
        },
        "id": "CC9Nvj3xTz1z",
        "outputId": "4f4fed69-2dbb-4a1a-ace8-db6ab72cb49b"
      },
      "execution_count": null,
      "outputs": [
        {
          "output_type": "stream",
          "name": "stdout",
          "text": [
            "269544\n"
          ]
        }
      ]
    },
    {
      "cell_type": "code",
      "source": [
        "tok1('Ды вана мезе ёвтнить минек эрзянь атятне: «Зярдояк те велесэнть арасель, тосо оврагасо ульнесть розбойникть; сынст ульнесть землянкаст.')"
      ],
      "metadata": {
        "colab": {
          "base_uri": "https://localhost:8080/"
        },
        "id": "allxr37rSyvS",
        "outputId": "0568db90-d41f-4f22-e224-29eb318ffd08"
      },
      "execution_count": null,
      "outputs": [
        {
          "output_type": "execute_result",
          "data": {
            "text/plain": [
              "{'input_ids': [269544, 95080, 6, 63689, 250041, 6, 254809, 250070, 250063, 257453, 12, 94, 256005, 17931, 1960, 252028, 250586, 4, 690, 6346, 407, 59667, 680, 6346, 250136, 268130, 2549, 1117, 74, 250074, 250136, 68605, 13405, 2225, 5, 2], 'attention_mask': [1, 1, 1, 1, 1, 1, 1, 1, 1, 1, 1, 1, 1, 1, 1, 1, 1, 1, 1, 1, 1, 1, 1, 1, 1, 1, 1, 1, 1, 1, 1, 1, 1, 1, 1, 1]}"
            ]
          },
          "metadata": {},
          "execution_count": 170
        }
      ]
    },
    {
      "cell_type": "code",
      "source": [
        "t = MBart50Tokenizer.from_pretrained(BASE_DIR + 'mbart-large-51-myv-mul-v1')"
      ],
      "metadata": {
        "colab": {
          "base_uri": "https://localhost:8080/"
        },
        "id": "12jWVVx-VXcl",
        "outputId": "22cb0dad-0744-4ca1-deca-b0b23e63f047"
      },
      "execution_count": null,
      "outputs": [
        {
          "output_type": "stream",
          "name": "stderr",
          "text": [
            "Special tokens have been added in the vocabulary, make sure the associated word embeddings are fine-tuned or trained.\n"
          ]
        }
      ]
    },
    {
      "cell_type": "code",
      "source": [
        "tok2 = MBart50Tokenizer.from_pretrained(BASE_DIR + 'mbart-large-51-myv-mul-v1')\n",
        "print(len(tok2), tok2.vocab_size, len(tok2.sp_model), len(tok2.lang_code_to_id), len(tok2.added_tokens_encoder))\n",
        "fix_tokenizer(tok2)\n",
        "print(len(tok2), tok2.vocab_size, len(tok2.sp_model), len(tok2.lang_code_to_id), len(tok2.added_tokens_encoder))"
      ],
      "metadata": {
        "colab": {
          "base_uri": "https://localhost:8080/"
        },
        "id": "lmZcsusaUkDH",
        "outputId": "8c403cc2-e07e-467b-97b0-a6ee0d1a70da"
      },
      "execution_count": null,
      "outputs": [
        {
          "output_type": "stream",
          "name": "stderr",
          "text": [
            "Special tokens have been added in the vocabulary, make sure the associated word embeddings are fine-tuned or trained.\n"
          ]
        },
        {
          "output_type": "stream",
          "name": "stdout",
          "text": [
            "269546 269545 269491 52 1\n",
            "269546 269546 269491 53 0\n"
          ]
        }
      ]
    },
    {
      "cell_type": "code",
      "source": [
        "tok2.src_lang = 'myv_XX'\n",
        "print(tok2.convert_tokens_to_ids('myv_XX'))"
      ],
      "metadata": {
        "colab": {
          "base_uri": "https://localhost:8080/"
        },
        "id": "aIPsFvEVUsQ9",
        "outputId": "eac18c14-39a5-49cf-c903-ec3b785eb811"
      },
      "execution_count": null,
      "outputs": [
        {
          "output_type": "stream",
          "name": "stdout",
          "text": [
            "269544\n"
          ]
        }
      ]
    },
    {
      "cell_type": "code",
      "source": [
        "tok2('Ды вана мезе ёвтнить минек эрзянь атятне: «Зярдояк те велесэнть арасель, тосо оврагасо ульнесть розбойникть; сынст ульнесть землянкаст.')"
      ],
      "metadata": {
        "colab": {
          "base_uri": "https://localhost:8080/"
        },
        "id": "W6Qqf_hIUvmu",
        "outputId": "fd45a7c3-953e-4f30-c085-369eeaf3d9d7"
      },
      "execution_count": null,
      "outputs": [
        {
          "output_type": "execute_result",
          "data": {
            "text/plain": [
              "{'input_ids': [269544, 95080, 6, 63689, 250041, 6, 254809, 250070, 250063, 257453, 12, 94, 256005, 17931, 1960, 252028, 250586, 4, 690, 6346, 407, 59667, 680, 6346, 250136, 268130, 2549, 1117, 74, 250074, 250136, 68605, 13405, 2225, 5, 2], 'attention_mask': [1, 1, 1, 1, 1, 1, 1, 1, 1, 1, 1, 1, 1, 1, 1, 1, 1, 1, 1, 1, 1, 1, 1, 1, 1, 1, 1, 1, 1, 1, 1, 1, 1, 1, 1, 1]}"
            ]
          },
          "metadata": {},
          "execution_count": 182
        }
      ]
    },
    {
      "cell_type": "markdown",
      "source": [
        "It turned out that for some reason `added_tokens_encoder` of a tokenizer were were influenced before. We fixed this now, and make a round-trip translation for the third time now. "
      ],
      "metadata": {
        "id": "ECCUU-a1V4H2"
      }
    },
    {
      "cell_type": "markdown",
      "source": [
        "# What if we translate via Russian?"
      ],
      "metadata": {
        "id": "HBif8VnY617a"
      }
    },
    {
      "cell_type": "markdown",
      "source": [
        "1. myv -> ru\n",
        "2. ru-> en/fi, fi/en -> ru\n",
        "3. ru-> myv"
      ],
      "metadata": {
        "id": "-JJtX88b64MQ"
      }
    },
    {
      "cell_type": "code",
      "source": [
        "with open('/gd/MyDrive/datasets/nlp/myv_corpus/myv-en-ud-test.json', 'r') as f:\n",
        "    test_myv_en = json.load(f)\n",
        "with open('/gd/MyDrive/datasets/nlp/myv_corpus/myv-fi-ud-test.json', 'r') as f:\n",
        "    test_myv_fi = json.load(f)\n",
        "\n",
        "len(test_myv_en), len(test_myv_fi)"
      ],
      "metadata": {
        "colab": {
          "base_uri": "https://localhost:8080/"
        },
        "id": "-KZxF8MI-iSC",
        "outputId": "35d601ac-8111-4118-867f-b0fd35780e10"
      },
      "execution_count": null,
      "outputs": [
        {
          "output_type": "execute_result",
          "data": {
            "text/plain": [
              "(221, 155)"
            ]
          },
          "metadata": {},
          "execution_count": 187
        }
      ]
    },
    {
      "cell_type": "code",
      "source": [
        "test_myv_en[0]"
      ],
      "metadata": {
        "colab": {
          "base_uri": "https://localhost:8080/"
        },
        "id": "Oq60OGKj-rwz",
        "outputId": "a400d46c-404a-4e67-ef6d-f1a5c02c984e"
      },
      "execution_count": null,
      "outputs": [
        {
          "output_type": "execute_result",
          "data": {
            "text/plain": [
              "['Нармуньковсто сёлмовтнень уш а токшить — истя жо пежеть.',\n",
              " 'In the Bird Moon no one touches the winged ones any more, that too would be breaking a taboo.']"
            ]
          },
          "metadata": {},
          "execution_count": 188
        }
      ]
    },
    {
      "cell_type": "code",
      "source": [
        "import fasttext\n",
        "langid_model = fasttext.load_model(BASE_DIR + 'lid.323.ftz')"
      ],
      "metadata": {
        "colab": {
          "base_uri": "https://localhost:8080/"
        },
        "id": "EA7aXhPE8xrc",
        "outputId": "a4b9d8c0-e2ee-4ff2-b0e8-0db5944b1ebb"
      },
      "execution_count": null,
      "outputs": [
        {
          "output_type": "stream",
          "name": "stderr",
          "text": [
            "Warning : `load_model` does not return WordVectorModel or SupervisedModel any more, but a `FastText` object which is very similar.\n"
          ]
        }
      ]
    },
    {
      "cell_type": "code",
      "source": [
        "def get_mean_lang_score(text, lang='myv', k=300, max_score=0.3):\n",
        "    words = text.split() + [text]\n",
        "    res = []\n",
        "    for langs, scores in zip(*langid_model.predict(words, k=k)):\n",
        "        d = dict(zip([l[9:] for l in langs], scores))\n",
        "        score = min(d.get(lang, 0), max_score) / max_score\n",
        "        res.append(score)\n",
        "    # print(res)\n",
        "    return np.mean(res)\n",
        "\n",
        "print(get_mean_lang_score('как дела'))\n",
        "print(get_mean_lang_score('Овто патяй'))\n",
        "print(get_mean_lang_score('Ардсть, ардсть, каршозост моли верьгиз ды кевкстни: — Овто патяй, ков молят?'))"
      ],
      "metadata": {
        "colab": {
          "base_uri": "https://localhost:8080/"
        },
        "id": "WHNEKk6C8zwg",
        "outputId": "39ba7c47-40ec-4988-c8b0-49831b9fe485"
      },
      "execution_count": null,
      "outputs": [
        {
          "output_type": "stream",
          "name": "stdout",
          "text": [
            "3.3362521207891405e-05\n",
            "0.007156715593939427\n",
            "0.2334256109004342\n"
          ]
        }
      ]
    },
    {
      "cell_type": "code",
      "source": [
        "def translate(text, model, tokenizer, src='ru_RU', trg='myv_XX', max_length='auto', num_beams=3, repetition_penalty=5.0, train_mode=False, n_out=None, **kwargs):\n",
        "    tokenizer.src_lang = src\n",
        "    encoded = tokenizer(text, return_tensors=\"pt\", truncation=True, max_length=1024)\n",
        "    if max_length == 'auto':\n",
        "        max_length = int(32 + 1.5 * encoded.input_ids.shape[1])\n",
        "    if train_mode:\n",
        "        model.train()\n",
        "    else:\n",
        "        model.eval()\n",
        "    generated_tokens = model.generate(\n",
        "        **encoded.to(model.device),\n",
        "        forced_bos_token_id=tokenizer.lang_code_to_id[trg], \n",
        "        max_length=max_length, \n",
        "        num_beams=num_beams,\n",
        "        repetition_penalty=repetition_penalty,\n",
        "        # early_stopping=True,\n",
        "        num_return_sequences=n_out or 1,\n",
        "        **kwargs\n",
        "    )\n",
        "    out = tokenizer.batch_decode(generated_tokens, skip_special_tokens=True)\n",
        "    if isinstance(text, str) and n_out is None:\n",
        "        return out[0]\n",
        "    return out"
      ],
      "metadata": {
        "id": "eva2e_078qWg"
      },
      "execution_count": null,
      "outputs": []
    },
    {
      "cell_type": "code",
      "source": [
        "def translate_rerank(\n",
        "    text, model, tokenizer, src='ru_RU', trg='myv_XX', max_length='auto', num_beams=3, repetition_penalty=5.0, train_mode=False, \n",
        "    n=5, diversity_penalty=3.0, lang='myv', max_score=0.3, order_penalty=0.01,\n",
        "    verbose=False,\n",
        "    **kwargs\n",
        "):\n",
        "    texts = translate(\n",
        "        text, model, tokenizer, src, trg, \n",
        "        max_length=max_length, train_mode=train_mode, repetition_penalty=repetition_penalty, \n",
        "        num_beams=n,\n",
        "        num_beam_groups=n, \n",
        "        diversity_penalty=diversity_penalty, \n",
        "        n_out=n, \n",
        "        **kwargs\n",
        "    )\n",
        "    scores = [get_mean_lang_score(t, lang=lang, max_score=max_score) for t in texts]\n",
        "    pen_scores = scores - order_penalty * np.arange(n)\n",
        "    if verbose:\n",
        "        print(texts)\n",
        "        print(scores)\n",
        "        print(pen_scores)\n",
        "    return texts[np.argmax(pen_scores)]\n",
        "    "
      ],
      "metadata": {
        "id": "3qemPiEp8udF"
      },
      "execution_count": null,
      "outputs": []
    },
    {
      "cell_type": "markdown",
      "source": [
        "## Forcing the language"
      ],
      "metadata": {
        "id": "vu8mKU0dcqmN"
      }
    },
    {
      "cell_type": "markdown",
      "source": [
        "1. myv -> ru"
      ],
      "metadata": {
        "id": "KmZznaz3AA2d"
      }
    },
    {
      "cell_type": "code",
      "source": [
        "mname = BASE_DIR + 'mbart-large-51-myv-mul-v1'\n",
        "model = MBartForConditionalGeneration.from_pretrained(mname).cuda()\n",
        "\n",
        "tokenizer = MBart50Tokenizer.from_pretrained(mname)\n",
        "fix_tokenizer(tokenizer)\n",
        "cleanup()"
      ],
      "metadata": {
        "colab": {
          "base_uri": "https://localhost:8080/"
        },
        "id": "YSpF9Uo8820U",
        "outputId": "66c971f4-cd02-4120-9921-de8ca936778b"
      },
      "execution_count": null,
      "outputs": [
        {
          "output_type": "stream",
          "name": "stderr",
          "text": [
            "Special tokens have been added in the vocabulary, make sure the associated word embeddings are fine-tuned or trained.\n"
          ]
        }
      ]
    },
    {
      "cell_type": "code",
      "source": [
        "test_myv_en_myv2ru = [translate_rerank(myv, model, tokenizer, 'myv_XX', 'ru_RU', num_beams=5, repetition_penalty=5.0, lang='ru') for myv, en in tqdm(test_myv_en)]"
      ],
      "metadata": {
        "colab": {
          "base_uri": "https://localhost:8080/",
          "height": 104,
          "referenced_widgets": [
            "cc1b106444cc4b1eab03db4c7b8070bf",
            "cb6faf9b555d4eacbffbad703430453d",
            "ebae154c889a4570898012cbf07c32e6",
            "48ee06d5a8c04bb68f068a98265f8264",
            "075dcfd7f1d245389abf99ce798814d9",
            "72be02547a4c4508853ccbe655a83556",
            "57d13bfefd2a43269e32934d7a982b8c",
            "354704e27a6943dd9d06b130b7c75162",
            "6c91599d456b42fa9d59ca8be807c774",
            "634b8eca5f3942f8af5f47a5138580fb",
            "5e47d1a82509467cb9a6ef1fc0d1451f"
          ]
        },
        "id": "elsi3iUT9cFi",
        "outputId": "487e7ec9-945d-49a1-92bb-e10345798e95"
      },
      "execution_count": null,
      "outputs": [
        {
          "output_type": "display_data",
          "data": {
            "text/plain": [
              "  0%|          | 0/221 [00:00<?, ?it/s]"
            ],
            "application/vnd.jupyter.widget-view+json": {
              "version_major": 2,
              "version_minor": 0,
              "model_id": "cc1b106444cc4b1eab03db4c7b8070bf"
            }
          },
          "metadata": {}
        },
        {
          "output_type": "stream",
          "name": "stderr",
          "text": [
            "/usr/local/lib/python3.7/dist-packages/transformers/generation_beam_search.py:198: UserWarning: Passing `max_length` to BeamSearchScorer is deprecated and has no effect. `max_length` should be passed directly to `beam_search(...)`, `beam_sample(...)`, or `group_beam_search(...)`.\n",
            "  \"Passing `max_length` to BeamSearchScorer is deprecated and has no effect. \"\n"
          ]
        }
      ]
    },
    {
      "cell_type": "code",
      "source": [
        "test_myv_fi_myv2ru = [translate_rerank(myv, model, tokenizer, 'myv_XX', 'ru_RU', num_beams=5, repetition_penalty=5.0, lang='ru') for myv, fi in tqdm(test_myv_fi)]"
      ],
      "metadata": {
        "colab": {
          "base_uri": "https://localhost:8080/",
          "height": 104,
          "referenced_widgets": [
            "f22429b618864432b01bdc183a8b1c2e",
            "7280932302ee4f2c93b8af4f472fcb89",
            "4ff373535d134ca882ca3cd859733613",
            "33474e5f9f4842ac9fe8dbe4a3446fd3",
            "f7ff3df9a8e54e32b73ebc79cb44ee10",
            "4b9dd9e2b8c542cfa1d458f21739ba55",
            "4c582fef2bf4487fb12428f9362849a4",
            "01462c0aff8148d2a54f0cc4811e7fbb",
            "08dc03deae3a4890a94b0bfa27f6080b",
            "cbb98f8e4b3f42a3a03237bfacd07b80",
            "fe99c152de24425797d7744bd555799d"
          ]
        },
        "id": "j3Fvbsg8-9W9",
        "outputId": "3fa2ecde-f174-4cfa-f1bd-df02ab3168b3"
      },
      "execution_count": null,
      "outputs": [
        {
          "output_type": "display_data",
          "data": {
            "text/plain": [
              "  0%|          | 0/155 [00:00<?, ?it/s]"
            ],
            "application/vnd.jupyter.widget-view+json": {
              "version_major": 2,
              "version_minor": 0,
              "model_id": "f22429b618864432b01bdc183a8b1c2e"
            }
          },
          "metadata": {}
        },
        {
          "output_type": "stream",
          "name": "stderr",
          "text": [
            "/usr/local/lib/python3.7/dist-packages/transformers/generation_beam_search.py:198: UserWarning: Passing `max_length` to BeamSearchScorer is deprecated and has no effect. `max_length` should be passed directly to `beam_search(...)`, `beam_sample(...)`, or `group_beam_search(...)`.\n",
            "  \"Passing `max_length` to BeamSearchScorer is deprecated and has no effect. \"\n"
          ]
        }
      ]
    },
    {
      "cell_type": "markdown",
      "source": [
        "2. en, fi <-> ru"
      ],
      "metadata": {
        "id": "tv0E4RRk_97w"
      }
    },
    {
      "cell_type": "code",
      "source": [
        "mname =  'facebook/mbart-large-50-many-to-many-mmt'\n",
        "model = MBartForConditionalGeneration.from_pretrained(mname).cuda()\n",
        "tokenizer = MBart50Tokenizer.from_pretrained(mname)\n",
        "cleanup()"
      ],
      "metadata": {
        "id": "Cs2VuRcz_MzV"
      },
      "execution_count": null,
      "outputs": []
    },
    {
      "cell_type": "code",
      "source": [
        "test_myv_en_myv2ru_en = [translate_rerank(t, model, tokenizer, 'ru_RU', 'en_XX', num_beams=5, repetition_penalty=5.0, lang='en') for t in tqdm(test_myv_en_myv2ru)]"
      ],
      "metadata": {
        "colab": {
          "base_uri": "https://localhost:8080/",
          "height": 104,
          "referenced_widgets": [
            "2c854a3b5e114df3b0fb0a751032c72d",
            "536ace3fc62e418f85740ed473f32487",
            "3ab5795282104a27a279ae09b5868dff",
            "ae837fda80ec4e84ab7cb1333882ca7a",
            "f33b9d5fc6ea46ec91b90a2900e1dd4a",
            "7bb4b29337404266bc290b9d4424ff83",
            "e836c4d910034e169d4f29a1e00984ca",
            "9b457a7880f04deba21d59b2984f1235",
            "1666e0772beb4791abb73908a705f5b2",
            "83740952ae104030896419fd2caeda7a",
            "c8f426bb973343e29aa089a821bdc01b"
          ]
        },
        "id": "rBNCtMTb_ZKs",
        "outputId": "e3e0028d-aca2-42b7-a8cf-efe795d4661f"
      },
      "execution_count": null,
      "outputs": [
        {
          "output_type": "display_data",
          "data": {
            "text/plain": [
              "  0%|          | 0/221 [00:00<?, ?it/s]"
            ],
            "application/vnd.jupyter.widget-view+json": {
              "version_major": 2,
              "version_minor": 0,
              "model_id": "2c854a3b5e114df3b0fb0a751032c72d"
            }
          },
          "metadata": {}
        },
        {
          "output_type": "stream",
          "name": "stderr",
          "text": [
            "/usr/local/lib/python3.7/dist-packages/transformers/generation_beam_search.py:198: UserWarning: Passing `max_length` to BeamSearchScorer is deprecated and has no effect. `max_length` should be passed directly to `beam_search(...)`, `beam_sample(...)`, or `group_beam_search(...)`.\n",
            "  \"Passing `max_length` to BeamSearchScorer is deprecated and has no effect. \"\n"
          ]
        }
      ]
    },
    {
      "cell_type": "code",
      "source": [
        "test_myv_fi_myv2ru_fi = [translate_rerank(t, model, tokenizer, 'ru_RU', 'fi_FI', num_beams=5, repetition_penalty=5.0, lang='fi') for t in tqdm(test_myv_fi_myv2ru)]"
      ],
      "metadata": {
        "colab": {
          "base_uri": "https://localhost:8080/",
          "height": 104,
          "referenced_widgets": [
            "2fd01aad906f4270a6316da96739cfea",
            "3c42ca4e83e2494c852ff9c48b95fca3",
            "4ec0d1f1af674320b2b491a25ac8c916",
            "e1e01f5eabd846af81e0d0015169a5f0",
            "b34668c25b774681ac78eb8773bb5e60",
            "527261d34c884f73a1f28fe7f919a398",
            "7de6bf9fcf084596b3d2d2af250408a4",
            "70e4db39dfcb4220a98420a9cc92404e",
            "4cbc86dbae2240f19f85b8d4d4184883",
            "a051149d676c46699235695443a44723",
            "73f26b8c39924333ae687d5140f49029"
          ]
        },
        "id": "KoHC2Pla_hml",
        "outputId": "9aac90f1-a10c-401b-af80-d98f8caaf80e"
      },
      "execution_count": null,
      "outputs": [
        {
          "output_type": "display_data",
          "data": {
            "text/plain": [
              "  0%|          | 0/155 [00:00<?, ?it/s]"
            ],
            "application/vnd.jupyter.widget-view+json": {
              "version_major": 2,
              "version_minor": 0,
              "model_id": "2fd01aad906f4270a6316da96739cfea"
            }
          },
          "metadata": {}
        },
        {
          "output_type": "stream",
          "name": "stderr",
          "text": [
            "/usr/local/lib/python3.7/dist-packages/transformers/generation_beam_search.py:198: UserWarning: Passing `max_length` to BeamSearchScorer is deprecated and has no effect. `max_length` should be passed directly to `beam_search(...)`, `beam_sample(...)`, or `group_beam_search(...)`.\n",
            "  \"Passing `max_length` to BeamSearchScorer is deprecated and has no effect. \"\n"
          ]
        }
      ]
    },
    {
      "cell_type": "code",
      "source": [
        "test_myv_en_en2ru = [translate_rerank(en, model, tokenizer, 'en_XX', 'ru_RU', num_beams=5, repetition_penalty=5.0, lang='ru') for myv, en in tqdm(test_myv_en)]\n",
        "test_myv_fi_fi2ru = [translate_rerank(fi, model, tokenizer, 'fi_FI', 'ru_RU', num_beams=5, repetition_penalty=5.0, lang='ru') for myv, fi in tqdm(test_myv_fi)]"
      ],
      "metadata": {
        "colab": {
          "base_uri": "https://localhost:8080/",
          "height": 136,
          "referenced_widgets": [
            "f194c170553e46d8b1910bdb08d35084",
            "0557ea633260435399edae9a5601fa0b",
            "a2734eea4803414fb76a91bd4c14170a",
            "1925f4de2e254c9295102f3dd4891d8b",
            "360101a573844b92a83bd99f6c3f7b90",
            "9ed0f2ad7f9a41f2ae08fea8aaffb024",
            "5ab05e537a664603b35511b405e03b7f",
            "99c185e1e42546aca5e662c9f6f2f69f",
            "5ba40e27c6844220a99382e2ee6fc760",
            "3a68656519fe4785a5fa241ac1162f54",
            "d12224c0c3e84d5a80d02fc3452b1110",
            "8b125726384c40edbfb2528a01444901",
            "cc31d685ba5641b58bbbb8d21af227ce",
            "6214029244f94b7a8a2909c9c4e3ca75",
            "5fdc44b62e0644839477f4d6dde63fc5",
            "06a3bc7ba79c437087b241c9e8a5603d",
            "2431cf3104e74691adbad6cfed5e5b35",
            "a1cdf1ef3a9442d1a2a4b220825a7d88",
            "c2db49b6dd374798bb6e1531ba190fce",
            "b38cc67c0f55431da518658975a583a4",
            "fc28ef2172a648c7a913a39d1c50f74b",
            "54bfc3c490534c6d8b1f2b3e8ddd45e6"
          ]
        },
        "id": "b4REHvpb_niC",
        "outputId": "cc6345f1-16e0-48c2-9138-aa9d627cae47"
      },
      "execution_count": null,
      "outputs": [
        {
          "output_type": "display_data",
          "data": {
            "text/plain": [
              "  0%|          | 0/221 [00:00<?, ?it/s]"
            ],
            "application/vnd.jupyter.widget-view+json": {
              "version_major": 2,
              "version_minor": 0,
              "model_id": "f194c170553e46d8b1910bdb08d35084"
            }
          },
          "metadata": {}
        },
        {
          "output_type": "stream",
          "name": "stderr",
          "text": [
            "/usr/local/lib/python3.7/dist-packages/transformers/generation_beam_search.py:198: UserWarning: Passing `max_length` to BeamSearchScorer is deprecated and has no effect. `max_length` should be passed directly to `beam_search(...)`, `beam_sample(...)`, or `group_beam_search(...)`.\n",
            "  \"Passing `max_length` to BeamSearchScorer is deprecated and has no effect. \"\n"
          ]
        },
        {
          "output_type": "display_data",
          "data": {
            "text/plain": [
              "  0%|          | 0/155 [00:00<?, ?it/s]"
            ],
            "application/vnd.jupyter.widget-view+json": {
              "version_major": 2,
              "version_minor": 0,
              "model_id": "8b125726384c40edbfb2528a01444901"
            }
          },
          "metadata": {}
        }
      ]
    },
    {
      "cell_type": "markdown",
      "source": [
        "3. ru -> myv"
      ],
      "metadata": {
        "id": "LFj3dSJv_9Xe"
      }
    },
    {
      "cell_type": "code",
      "source": [
        "mname = BASE_DIR + 'mbart-large-51-mul-myv-v1'\n",
        "model = MBartForConditionalGeneration.from_pretrained(mname).cuda()"
      ],
      "metadata": {
        "id": "lk2IPIVcTFnG"
      },
      "execution_count": null,
      "outputs": []
    },
    {
      "cell_type": "code",
      "source": [
        "tokenizer = MBart50Tokenizer.from_pretrained(mname)\n",
        "fix_tokenizer(tokenizer)\n",
        "cleanup()"
      ],
      "metadata": {
        "colab": {
          "base_uri": "https://localhost:8080/"
        },
        "id": "kZbPRTQZAEKl",
        "outputId": "200bf8bc-f52e-424b-d4ce-c55007d9b19a"
      },
      "execution_count": null,
      "outputs": [
        {
          "output_type": "stream",
          "name": "stderr",
          "text": [
            "Special tokens have been added in the vocabulary, make sure the associated word embeddings are fine-tuned or trained.\n"
          ]
        }
      ]
    },
    {
      "cell_type": "code",
      "source": [
        "test_myv_en_en2ru_myv = [translate_rerank(t, model, tokenizer, 'ru_RU', 'myv_XX', num_beams=5, repetition_penalty=5.0, lang='myv') for t in tqdm(test_myv_en_en2ru)]\n",
        "test_myv_fi_fi2ru_myv = [translate_rerank(t, model, tokenizer, 'ru_RU', 'myv_XX', num_beams=5, repetition_penalty=5.0, lang='myv') for t in tqdm(test_myv_fi_fi2ru)]"
      ],
      "metadata": {
        "colab": {
          "base_uri": "https://localhost:8080/",
          "height": 136,
          "referenced_widgets": [
            "2672bf789d5d41409eb88b6a6840cd98",
            "f6f4ac0c44794840a93bb52b74bd09b5",
            "5af8b3f4f5284c4fb2216c89749aa947",
            "429ce834c5764850b75be7f79b4d526d",
            "38e98f1fb2eb4bae96221d72348fe228",
            "48462818b29347d9bdb0e236977e4947",
            "cd3a23b814fb4ee795b2a25680348a42",
            "c7b551b7fbfd4a51ab1230f037795b6f",
            "ed9924adb7ed4b4b99aaa06f2380d96b",
            "24bad49626604a9a816a7c6c21dac5b1",
            "8443397e6c934240b6a134958e3e3b09",
            "c6eea8775f254209a6f340328bb527f0",
            "4a5da9b2b2964319a20bfb34b7ccf172",
            "b77be63eeb684d89a992a70334ad05ae",
            "7216f5c015d74bd7ba9b533f8ba5d1aa",
            "6f6a315060dc4aa8907b888d6a482ea5",
            "4a4ad8a39b8a4ca1ba65912dd3dafe1a",
            "580c8092b7dc4133a79af990cb13d69d",
            "ee06f012ffa749af980bd1d84e7dfe4e",
            "9eb574ddc4054300a8f670b95dea84f8",
            "f1103812c6644a64a5dfbd20158b9116",
            "1da940c49d9146ddad3d1872c381f650"
          ]
        },
        "id": "IzLT36AqALB7",
        "outputId": "e46f04d3-adf5-400d-d830-92b8472d0f78"
      },
      "execution_count": null,
      "outputs": [
        {
          "output_type": "display_data",
          "data": {
            "text/plain": [
              "  0%|          | 0/221 [00:00<?, ?it/s]"
            ],
            "application/vnd.jupyter.widget-view+json": {
              "version_major": 2,
              "version_minor": 0,
              "model_id": "2672bf789d5d41409eb88b6a6840cd98"
            }
          },
          "metadata": {}
        },
        {
          "output_type": "stream",
          "name": "stderr",
          "text": [
            "/usr/local/lib/python3.7/dist-packages/transformers/generation_beam_search.py:198: UserWarning: Passing `max_length` to BeamSearchScorer is deprecated and has no effect. `max_length` should be passed directly to `beam_search(...)`, `beam_sample(...)`, or `group_beam_search(...)`.\n",
            "  \"Passing `max_length` to BeamSearchScorer is deprecated and has no effect. \"\n"
          ]
        },
        {
          "output_type": "display_data",
          "data": {
            "text/plain": [
              "  0%|          | 0/155 [00:00<?, ?it/s]"
            ],
            "application/vnd.jupyter.widget-view+json": {
              "version_major": 2,
              "version_minor": 0,
              "model_id": "c6eea8775f254209a6f340328bb527f0"
            }
          },
          "metadata": {}
        }
      ]
    },
    {
      "cell_type": "code",
      "source": [
        "from sacrebleu import CHRF, BLEU\n",
        "chrf_calc = CHRF(word_order=2)\n",
        "bleu_calc = BLEU()"
      ],
      "metadata": {
        "id": "f0R4Q1LkcXQn"
      },
      "execution_count": null,
      "outputs": []
    },
    {
      "cell_type": "code",
      "source": [
        "print('en-myv', chrf_calc.corpus_score(test_myv_en_en2ru_myv, [[myv for myv, en in test_myv_en]]).score, bleu_calc.corpus_score(test_myv_en_en2ru_myv, [[myv for myv, en in test_myv_en]]).score)\n",
        "print('fi-myv', chrf_calc.corpus_score(test_myv_fi_fi2ru_myv, [[myv for myv, fi in test_myv_fi]]).score, bleu_calc.corpus_score(test_myv_fi_fi2ru_myv, [[myv for myv, fi in test_myv_fi]]).score)\n",
        "print('myv-en', chrf_calc.corpus_score(test_myv_en_myv2ru_en, [[en for myv, en in test_myv_en]]).score, bleu_calc.corpus_score(test_myv_en_myv2ru_en, [[en for myv, en in test_myv_en]]).score)\n",
        "print('myv-fi', chrf_calc.corpus_score(test_myv_fi_myv2ru_fi, [[fi for myv, fi in test_myv_fi]]).score, bleu_calc.corpus_score(test_myv_fi_myv2ru_fi, [[fi for myv, fi in test_myv_fi]]).score)"
      ],
      "metadata": {
        "colab": {
          "base_uri": "https://localhost:8080/"
        },
        "id": "xR_XgjrhJJxQ",
        "outputId": "00ecff83-d4fc-4b90-e409-b3758e62ae7b"
      },
      "execution_count": null,
      "outputs": [
        {
          "output_type": "stream",
          "name": "stdout",
          "text": [
            "en-myv 21.834659426782945 1.917292419861903\n",
            "fi-myv 19.803759764448543 2.504217528397886\n",
            "myv-en 19.830213490149514 2.784295023759409\n",
            "myv-fi 14.092061314826484 0.9842743948486357\n"
          ]
        }
      ]
    },
    {
      "cell_type": "code",
      "source": [],
      "metadata": {
        "id": "ZuRDGyWbckvw"
      },
      "execution_count": null,
      "outputs": []
    },
    {
      "cell_type": "markdown",
      "source": [
        "## Not forcing the language"
      ],
      "metadata": {
        "id": "boHzc-t9cvz3"
      }
    },
    {
      "cell_type": "markdown",
      "source": [
        "1. myv -> ru"
      ],
      "metadata": {
        "id": "c-6XJxlEcvz4"
      }
    },
    {
      "cell_type": "code",
      "source": [
        "mname = BASE_DIR + 'mbart-large-51-myv-mul-v1'\n",
        "model = MBartForConditionalGeneration.from_pretrained(mname).cuda()\n",
        "\n",
        "tokenizer = MBart50Tokenizer.from_pretrained(mname)\n",
        "fix_tokenizer(tokenizer)\n",
        "cleanup()"
      ],
      "metadata": {
        "colab": {
          "base_uri": "https://localhost:8080/"
        },
        "outputId": "857eb7dd-2346-43d1-b30e-fba49ce764be",
        "id": "awaZAcz9cvz4"
      },
      "execution_count": null,
      "outputs": [
        {
          "output_type": "stream",
          "name": "stderr",
          "text": [
            "Special tokens have been added in the vocabulary, make sure the associated word embeddings are fine-tuned or trained.\n"
          ]
        }
      ]
    },
    {
      "cell_type": "code",
      "source": [
        "test_myv_en_myv2ru2 = [translate(myv, model, tokenizer, 'myv_XX', 'ru_RU', num_beams=5, repetition_penalty=5.0) for myv, en in tqdm(test_myv_en)]"
      ],
      "metadata": {
        "colab": {
          "base_uri": "https://localhost:8080/",
          "height": 49,
          "referenced_widgets": [
            "4e21fc8b410248c9aa15d0176f8bbc93",
            "32072b9292ba43f2ab59e1ff77faa231",
            "f7358c5ced33439682613d7929371c6d",
            "c8723f8b043c41668efd5ffc61f9a84b",
            "f0a46e30e6e04fbab77cd1e7737a4abd",
            "6305f75e8e1045af81afb0112aa3780e",
            "97bce7ecd4c04682b60a4622ce7e04e0",
            "ec43f19d35bd4798aa6cc69bcb13b125",
            "518c5aabd6c84fc292f26a79c5ad2a53",
            "c10fb7f6a3004dcba400fac3c90ed7f8",
            "888f3e432da3451d93058b108e6ac65e"
          ]
        },
        "outputId": "26338924-d1a4-42d3-f26c-f445a5d60ef9",
        "id": "CJqXQBThcvz4"
      },
      "execution_count": null,
      "outputs": [
        {
          "output_type": "display_data",
          "data": {
            "text/plain": [
              "  0%|          | 0/221 [00:00<?, ?it/s]"
            ],
            "application/vnd.jupyter.widget-view+json": {
              "version_major": 2,
              "version_minor": 0,
              "model_id": "4e21fc8b410248c9aa15d0176f8bbc93"
            }
          },
          "metadata": {}
        }
      ]
    },
    {
      "cell_type": "code",
      "source": [
        "test_myv_fi_myv2ru2 = [translate(myv, model, tokenizer, 'myv_XX', 'ru_RU', num_beams=5, repetition_penalty=5.0) for myv, fi in tqdm(test_myv_fi)]"
      ],
      "metadata": {
        "colab": {
          "base_uri": "https://localhost:8080/",
          "height": 49,
          "referenced_widgets": [
            "d0cb8193cfd44865a0520fbab147759b",
            "a77c63c9b6b94cfc88cf84dba929c465",
            "602fed9c3fc34d309ac7a1c934bacea6",
            "cef40248f6084c5d9341623c9b7a4bc3",
            "9872f5e2b71645ca99c135f063a0559c",
            "9bee132864444fe8a74e888cc8e415de",
            "bcce9c7ac8ba4a198f4859745811dd52",
            "3e3b12b6625d4c78a351a36292390154",
            "76153a80c5b64795a8e17e58c186d8dd",
            "ee13545504a7478da5125f6beee9c86f",
            "40f8ccb57b8a4271bc245a0cbbf0d0aa"
          ]
        },
        "outputId": "c906230c-ac4d-4a82-a727-42ed5a95e4f7",
        "id": "gJ5fubjPcvz4"
      },
      "execution_count": null,
      "outputs": [
        {
          "output_type": "display_data",
          "data": {
            "text/plain": [
              "  0%|          | 0/155 [00:00<?, ?it/s]"
            ],
            "application/vnd.jupyter.widget-view+json": {
              "version_major": 2,
              "version_minor": 0,
              "model_id": "d0cb8193cfd44865a0520fbab147759b"
            }
          },
          "metadata": {}
        }
      ]
    },
    {
      "cell_type": "markdown",
      "source": [
        "2. en, fi <-> ru"
      ],
      "metadata": {
        "id": "dVGblIGrcvz4"
      }
    },
    {
      "cell_type": "code",
      "source": [
        "mname =  'facebook/mbart-large-50-many-to-many-mmt'\n",
        "model = MBartForConditionalGeneration.from_pretrained(mname).cuda()\n",
        "tokenizer = MBart50Tokenizer.from_pretrained(mname)\n",
        "cleanup()"
      ],
      "metadata": {
        "id": "u3PIki82cvz4"
      },
      "execution_count": null,
      "outputs": []
    },
    {
      "cell_type": "code",
      "source": [
        "test_myv_en_myv2ru_en2 = [translate(t, model, tokenizer, 'ru_RU', 'en_XX', num_beams=5, repetition_penalty=5.0) for t in tqdm(test_myv_en_myv2ru2)]"
      ],
      "metadata": {
        "colab": {
          "base_uri": "https://localhost:8080/",
          "height": 49,
          "referenced_widgets": [
            "c6508aaf1e8d43d58d4d15c439000979",
            "1260c4f044494c5b8183fa25232c93eb",
            "7ff805f7ecce4d09834c7a3197c0dfcf",
            "9dbf89f935dd46a792ffaf0ed8dddf3c",
            "de35b3e8feef4e31a8c0f5e08ae6f5f0",
            "91c5de1c70734e5bb1c23cd53e4a6f4e",
            "6e88df2d60db453fbe049162470b38f6",
            "77281f5e2eac4aa7adf2dfe65eeb12d2",
            "079ad5babc4b48eb90f64422b509b8b0",
            "5c027be5f33446faa4e7b35e318cd340",
            "d515d006a095474a8638535a5cafeb4b"
          ]
        },
        "outputId": "da24b3b3-93ba-49f4-c1af-ca3230770daf",
        "id": "F-E1SciYcvz4"
      },
      "execution_count": null,
      "outputs": [
        {
          "output_type": "display_data",
          "data": {
            "text/plain": [
              "  0%|          | 0/221 [00:00<?, ?it/s]"
            ],
            "application/vnd.jupyter.widget-view+json": {
              "version_major": 2,
              "version_minor": 0,
              "model_id": "c6508aaf1e8d43d58d4d15c439000979"
            }
          },
          "metadata": {}
        }
      ]
    },
    {
      "cell_type": "code",
      "source": [
        "test_myv_fi_myv2ru_fi2 = [translate(t, model, tokenizer, 'ru_RU', 'fi_FI', num_beams=5, repetition_penalty=5.0) for t in tqdm(test_myv_fi_myv2ru2)]"
      ],
      "metadata": {
        "colab": {
          "base_uri": "https://localhost:8080/",
          "height": 49,
          "referenced_widgets": [
            "34a0ff94e99f47a38e4a7b77e1875dc8",
            "faaff2534760418d89002066a95ee034",
            "2c3c65e69a5e47c5b629a6237e6abd18",
            "2e4426f6abfe4a409b365eaa47d6eac5",
            "ce03882cdb034a45ad8b4f3f79308f3b",
            "d852b3e54b50487f9d0fce15351feba1",
            "ec8c32e746bf4c788f762a9b374d7e90",
            "17ff24512a6c4ce1937835cf22d50b27",
            "101c186d08a144ca83ca3506723df0fe",
            "c25979625d974636a9a95a11014cdf43",
            "93c78407ea52437391fe5643b6131368"
          ]
        },
        "outputId": "43cf0293-19c3-4533-8ec8-ca4d3c2f0f18",
        "id": "e1JQjif0cvz5"
      },
      "execution_count": null,
      "outputs": [
        {
          "output_type": "display_data",
          "data": {
            "text/plain": [
              "  0%|          | 0/155 [00:00<?, ?it/s]"
            ],
            "application/vnd.jupyter.widget-view+json": {
              "version_major": 2,
              "version_minor": 0,
              "model_id": "34a0ff94e99f47a38e4a7b77e1875dc8"
            }
          },
          "metadata": {}
        }
      ]
    },
    {
      "cell_type": "code",
      "source": [
        "test_myv_en_en2ru = [translate(en, model, tokenizer, 'en_XX', 'ru_RU', num_beams=5, repetition_penalty=5.0) for myv, en in tqdm(test_myv_en)]\n",
        "test_myv_fi_fi2ru = [translate(fi, model, tokenizer, 'fi_FI', 'ru_RU', num_beams=5, repetition_penalty=5.0) for myv, fi in tqdm(test_myv_fi)]"
      ],
      "metadata": {
        "colab": {
          "base_uri": "https://localhost:8080/",
          "height": 81,
          "referenced_widgets": [
            "d8d6e72b40504ef6ad2de1d20a4fdffa",
            "6ce71aae624741118abd3e3fcd57ebef",
            "2143129231484329afbfeb3a36e3bdfb",
            "bb70edaadd844007b280248457ed478d",
            "1f5624a14af142d9b151b344747e874a",
            "7056c154a8784e56bd20daa6a6135c87",
            "810dd165a6af4151bfe62502ac5e7830",
            "22d39f2e4ede401ab351915177405c12",
            "3dc5ca5e999c47da813d8a9376b43973",
            "e8cdec4bfbe54864aaf748853f5bb4f4",
            "ce1747ce03c24034bd522fe69cfe1e5c",
            "bb28403e5f7848a6bb5819bcedabde69",
            "6a70ddb5193c4040b7d38231c445d454",
            "139d666936334c5cb6425d164988f85b",
            "f8f32c9afa80401780582c7032efb0ef",
            "c44987002a9b4f2e8396e1851086781c",
            "00595386c0484719aa9395c127eac1a5",
            "70cd8a08c1074839b0970abc46576de8",
            "add11f28c9ac4de881072e4c0a175f2e",
            "ef06285a3b2241c2a884d173835807e9",
            "e285d146aea448fca3a7a2c9fdaf4b0f",
            "6d842b4539564738ac52c6a77f7243d8"
          ]
        },
        "outputId": "2fc533e2-f51b-4761-98e7-8b0ec114e010",
        "id": "sCJUfGDacvz5"
      },
      "execution_count": null,
      "outputs": [
        {
          "output_type": "display_data",
          "data": {
            "text/plain": [
              "  0%|          | 0/221 [00:00<?, ?it/s]"
            ],
            "application/vnd.jupyter.widget-view+json": {
              "version_major": 2,
              "version_minor": 0,
              "model_id": "d8d6e72b40504ef6ad2de1d20a4fdffa"
            }
          },
          "metadata": {}
        },
        {
          "output_type": "display_data",
          "data": {
            "text/plain": [
              "  0%|          | 0/155 [00:00<?, ?it/s]"
            ],
            "application/vnd.jupyter.widget-view+json": {
              "version_major": 2,
              "version_minor": 0,
              "model_id": "bb28403e5f7848a6bb5819bcedabde69"
            }
          },
          "metadata": {}
        }
      ]
    },
    {
      "cell_type": "markdown",
      "source": [
        "3. ru -> myv"
      ],
      "metadata": {
        "id": "SaoMv_BRcvz5"
      }
    },
    {
      "cell_type": "code",
      "source": [
        "mname = BASE_DIR + 'mbart-large-51-mul-myv-v1'\n",
        "model = MBartForConditionalGeneration.from_pretrained(mname).cuda()"
      ],
      "metadata": {
        "id": "qfhWM98Ccvz5"
      },
      "execution_count": null,
      "outputs": []
    },
    {
      "cell_type": "code",
      "source": [
        "tokenizer = MBart50Tokenizer.from_pretrained(mname)\n",
        "fix_tokenizer(tokenizer)\n",
        "cleanup()"
      ],
      "metadata": {
        "colab": {
          "base_uri": "https://localhost:8080/"
        },
        "outputId": "a0ea4dd2-2939-4672-9e05-16dce6dfeaac",
        "id": "ROuNQsx-cvz5"
      },
      "execution_count": null,
      "outputs": [
        {
          "output_type": "stream",
          "name": "stderr",
          "text": [
            "Special tokens have been added in the vocabulary, make sure the associated word embeddings are fine-tuned or trained.\n"
          ]
        }
      ]
    },
    {
      "cell_type": "code",
      "source": [
        "test_myv_en_en2ru_myv2 = [translate(t, model, tokenizer, 'ru_RU', 'myv_XX', num_beams=5, repetition_penalty=5.0) for t in tqdm(test_myv_en_en2ru)]\n",
        "test_myv_fi_fi2ru_myv2 = [translate(t, model, tokenizer, 'ru_RU', 'myv_XX', num_beams=5, repetition_penalty=5.0) for t in tqdm(test_myv_fi_fi2ru)]"
      ],
      "metadata": {
        "colab": {
          "base_uri": "https://localhost:8080/",
          "height": 81,
          "referenced_widgets": [
            "3c27c6415097438093d51732d1ae0dcf",
            "1ecda613814e4a24b35ee8b280090acb",
            "a36b10b8f4de4675aa633b019e46669c",
            "c3002dad0f094017bf90b24f57c93f4f",
            "1e33bccd6ad74a4dafc9ed2ea456cd80",
            "582f8674582345b7b0ca967458648809",
            "56b2040a79d743c38915f0fd4fbf1047",
            "d9261eeec21c46beb994f639c30ce327",
            "a152dfe89963433e967a4ac283a9b64f",
            "77728d1815414d7ea6f3b86b2edf9e8f",
            "ab7f6a19590544e5b46d654cffe9626d",
            "ceb16b03fd0047fab9aa9096899b24f9",
            "dc6efe5dc15c45c7b24ae2bfcb4b0433",
            "86f845b68c7e4abba5b1d1e5cd2594a4",
            "c4fc5cfaab8346199ecbd159f6fc9c86",
            "29cb65e68fa04bffada0f98b503ece48",
            "be7d74527c034f2c86bc72ec8b45cc80",
            "04dab7511e1b41fc963fae880796b233",
            "c06a5c322a4842c685700e151ba085f5",
            "f56338b58df4460d91ec1abbe015c2cf",
            "0644a3247c3644e0b93833ac2daf4a86",
            "195c3221906e44c3841a27f140ece52e"
          ]
        },
        "outputId": "e7d95d96-4f2f-4a22-caa6-58c3f1a8bb18",
        "id": "fHiwlAgBcvz5"
      },
      "execution_count": null,
      "outputs": [
        {
          "output_type": "display_data",
          "data": {
            "text/plain": [
              "  0%|          | 0/221 [00:00<?, ?it/s]"
            ],
            "application/vnd.jupyter.widget-view+json": {
              "version_major": 2,
              "version_minor": 0,
              "model_id": "3c27c6415097438093d51732d1ae0dcf"
            }
          },
          "metadata": {}
        },
        {
          "output_type": "display_data",
          "data": {
            "text/plain": [
              "  0%|          | 0/155 [00:00<?, ?it/s]"
            ],
            "application/vnd.jupyter.widget-view+json": {
              "version_major": 2,
              "version_minor": 0,
              "model_id": "ceb16b03fd0047fab9aa9096899b24f9"
            }
          },
          "metadata": {}
        }
      ]
    },
    {
      "cell_type": "code",
      "source": [
        "test_myv_en_en2ru[:15]"
      ],
      "metadata": {
        "colab": {
          "base_uri": "https://localhost:8080/"
        },
        "id": "RbluDzi1nzz-",
        "outputId": "e3cca053-f40a-40d6-bd1d-b33e39942de8"
      },
      "execution_count": null,
      "outputs": [
        {
          "output_type": "execute_result",
          "data": {
            "text/plain": [
              "['В Птичьей Луне никто больше не трогает крыльев, то тоже было бы нарушение табу.',\n",
              " 'Он взглянул с тревоги, надеясь, что крыша не впадет в него.',\n",
              " 'Один за другим он встречается с маленькими рощами, где он может отдохнуть во время своего путешествия.',\n",
              " 'Солдат, вылечившийся от ран, вернулся из войны, его жена испугалась, она начала кричать «О мой Бог!».',\n",
              " 'Что вы думаете?',\n",
              " 'Он взял небольшую мелкую кожу из ковчега, распыл белый песок с берега реки на зуб и протянул его между пальцами, пока он не сделал отверстие через зуб.',\n",
              " 'Его мать, должно быть, решила позволить ему смириться и только теперь, после того как она сама зажегла огонь и взяла воду, она послала Лопу разбудить его.',\n",
              " 'Деревня простиралась вдоль холмов, образуя бассейн.',\n",
              " 'Он тоже был сильным человеком.',\n",
              " 'Мы самые счастливые в мире, товарищи.',\n",
              " 'Все хорошо.',\n",
              " 'Не ожидайте, что леди леса сделает какие-либо исключения.',\n",
              " '— Посмотрите, что у меня есть.',\n",
              " 'Девушка выглядела как её отец.',\n",
              " 'Они он сам пошел в одну из пещер.']"
            ]
          },
          "metadata": {},
          "execution_count": 225
        }
      ]
    },
    {
      "cell_type": "code",
      "source": [
        "test_myv_en_en2ru_myv2[:20]"
      ],
      "metadata": {
        "colab": {
          "base_uri": "https://localhost:8080/"
        },
        "id": "vteVbJ-YdLpS",
        "outputId": "e8bd02f1-821d-49f2-a9d8-b4e461f66d0b"
      },
      "execution_count": null,
      "outputs": [
        {
          "output_type": "execute_result",
          "data": {
            "text/plain": [
              "['Птичье Луна кияк больше а трогает крыльев, то тоже было бы нарушение табу.',\n",
              " 'Сон тандадозь варштась, ансяк арсесь: кудозо а понги тензэ.',\n",
              " 'Вейке омбоце мельга сон вастови вишка роща марто, косо сон может отдохнуть во время своего путешествия.',\n",
              " 'солдатось, кона пичкась ранонзо эйстэ, велявтсь уш войнасто, низэ тандадсь, кармась пижнеме: «О мой Бог!».',\n",
              " 'Мезе арсетядо?',\n",
              " 'Сон саизе а покш, вишкине коцтонть лисьмасто, вачкодинзе ашо пес леенть чиреванзо пеенть лангс ды венстявтызе сонзэ суротнень юткова, зярс эзь тее пеень трокс отверстия.',\n",
              " 'Сонзэ авазо, нама, арсесь кальдяв тензэ мириться ды ансяк ней, сонсь кирвазтизе толонть ды саизе ведентень, сон кучизе Лопу сонзэ сыргозтеме.',\n",
              " 'Велесь простирась пандо ланга, теевсь бассейнакс.',\n",
              " 'Сон жо ульнесь виев ломань.',\n",
              " 'Минь сехте уцяскавт, ялгат.',\n",
              " 'Весе вадрясто.',\n",
              " 'Иля учо, вирень леди кодамояк исключения.',\n",
              " '— Вант, мезе ули.',\n",
              " 'Тейтересь марявсь тетянзо кондямо.',\n",
              " 'Сынь сонсь тусь вейке модаваряс.',\n",
              " 'Кечаень туртов маряви, тетязо уш умок тусь.Авамось корты: Моргось оштё эзь пачкоде се таркантень, косо сон собирается.',\n",
              " 'Сехте паро шкась.',\n",
              " 'Вейке ломань, кона яки ды чии псакантень – те мон.',\n",
              " 'Эзь лисе тевесь, што сынь важодить эли а работают, сынст чамаст сэвильть.',\n",
              " 'Шкавтомо.']"
            ]
          },
          "metadata": {},
          "execution_count": 221
        }
      ]
    },
    {
      "cell_type": "code",
      "source": [
        "from sacrebleu import CHRF, BLEU\n",
        "chrf_calc = CHRF(word_order=2)\n",
        "bleu_calc = BLEU()"
      ],
      "metadata": {
        "id": "e8I5G1_xcvz5"
      },
      "execution_count": null,
      "outputs": []
    },
    {
      "cell_type": "code",
      "source": [
        "print('en-myv', chrf_calc.corpus_score(test_myv_en_en2ru_myv2, [[myv for myv, en in test_myv_en]]).score, bleu_calc.corpus_score(test_myv_en_en2ru_myv2, [[myv for myv, en in test_myv_en]]).score)\n",
        "print('fi-myv', chrf_calc.corpus_score(test_myv_fi_fi2ru_myv2, [[myv for myv, fi in test_myv_fi]]).score, bleu_calc.corpus_score(test_myv_fi_fi2ru_myv2, [[myv for myv, fi in test_myv_fi]]).score)\n",
        "print('myv-en', chrf_calc.corpus_score(test_myv_en_myv2ru_en2, [[en for myv, en in test_myv_en]]).score, bleu_calc.corpus_score(test_myv_en_myv2ru_en2, [[en for myv, en in test_myv_en]]).score)\n",
        "print('myv-fi', chrf_calc.corpus_score(test_myv_fi_myv2ru_fi2, [[fi for myv, fi in test_myv_fi]]).score, bleu_calc.corpus_score(test_myv_fi_myv2ru_fi2, [[fi for myv, fi in test_myv_fi]]).score)"
      ],
      "metadata": {
        "colab": {
          "base_uri": "https://localhost:8080/"
        },
        "outputId": "a14caa38-6eae-4954-f933-6f1aac74ddf4",
        "id": "u0ZGL8F7cvz6"
      },
      "execution_count": null,
      "outputs": [
        {
          "output_type": "stream",
          "name": "stdout",
          "text": [
            "en-myv 25.890317780325432 3.0363182731183724\n",
            "fi-myv 23.50778586720546 2.7070909472763316\n",
            "myv-en 23.83186958948613 5.593264667970031\n",
            "myv-fi 16.05029821283373 1.0261582353576988\n"
          ]
        }
      ]
    },
    {
      "cell_type": "markdown",
      "source": [
        "# Look at examples"
      ],
      "metadata": {
        "id": "3a1CR2uYdNn9"
      }
    },
    {
      "cell_type": "code",
      "source": [
        "import json"
      ],
      "metadata": {
        "id": "iaph9XXVaiDF"
      },
      "execution_count": null,
      "outputs": []
    },
    {
      "cell_type": "code",
      "source": [
        "BASE_DIR = '/gd/MyDrive/models/myv/'"
      ],
      "metadata": {
        "id": "fZlqNb-6ajGj"
      },
      "execution_count": null,
      "outputs": []
    },
    {
      "cell_type": "code",
      "source": [
        "with open('/gd/MyDrive/datasets/nlp/myv_corpus/dev1000.v1.json', 'r') as f:\n",
        "    dev = json.load(f)"
      ],
      "metadata": {
        "id": "xWQOztuCajiG"
      },
      "execution_count": null,
      "outputs": []
    },
    {
      "cell_type": "code",
      "source": [
        "with open(BASE_DIR + 'dev_myv_mul_predictions.json', 'r') as f:\n",
        "    devt = json.load(f)"
      ],
      "metadata": {
        "id": "zQF8o50Fa1Ex"
      },
      "execution_count": null,
      "outputs": []
    },
    {
      "cell_type": "markdown",
      "source": [
        "```\n",
        "with open(BASE_DIR + 'dev_myv_mul_predictions.json', 'w') as f:\n",
        "    json.dump({\n",
        "        'en_myv': pred_en_myv,\n",
        "        'fi_myv': pred_fi_myv,\n",
        "        'myv_en': pred_myv_en,\n",
        "        'myv_fi': pred_myv_fi,\n",
        "        'en_myv_en': pred_en_myv_en,\n",
        "        'fi_myv_fi': pred_fi_myv_fi,\n",
        "        'myv_en_myv': pred_myv_en_myv,\n",
        "        'myv_fi_myv': pred_myv_fi_myv,\n",
        "        'myv_ru': dev_translated_ru,\n",
        "        'ru_myv': dev_translated,\n",
        "        'myv_ru_myv': dev_myv_round,\n",
        "        'ru_myv_ru': dev_ru_round,\n",
        "    }, f, ensure_ascii=False, indent=2)\n",
        "```"
      ],
      "metadata": {
        "id": "XMwlwBJqaI-L"
      }
    },
    {
      "cell_type": "code",
      "source": [
        "dev.keys()"
      ],
      "metadata": {
        "colab": {
          "base_uri": "https://localhost:8080/"
        },
        "id": "xV11x0GSa6Qc",
        "outputId": "168ffd82-a125-4a38-c46c-af29b22380a3"
      },
      "execution_count": null,
      "outputs": [
        {
          "output_type": "execute_result",
          "data": {
            "text/plain": [
              "dict_keys(['bible', 'tales', 'constitution', 'games', 'fiction', 'wiki'])"
            ]
          },
          "metadata": {},
          "execution_count": 8
        }
      ]
    },
    {
      "cell_type": "code",
      "source": [],
      "metadata": {
        "id": "5pzajldfaus4"
      },
      "execution_count": null,
      "outputs": []
    },
    {
      "cell_type": "code",
      "source": [
        "ru_true = 'И вот что рассказывают наши русские старики: «Когда здесь не было этого села, в этом овраге были разбойники; у них были землянки.'\n",
        "\n",
        "for i, pair in enumerate(dev['tales']):\n",
        "    if pair[1] == ru_true:\n",
        "        myv_true = pair[0]\n",
        "        print(myv_true)\n",
        "        print(devt['ru_myv']['tales'][i])\n",
        "        print(devt['myv_ru']['tales'][i])"
      ],
      "metadata": {
        "colab": {
          "base_uri": "https://localhost:8080/"
        },
        "id": "OfL12wtaaq0-",
        "outputId": "390f1228-e80c-4e3c-b4db-b7246be5b0a6"
      },
      "execution_count": null,
      "outputs": [
        {
          "output_type": "stream",
          "name": "stdout",
          "text": [
            "Вана мезе ёвтнить миненек рузонь атятне: зярдо велесь тесэ арасель, се латксонть эрясть розбойникть, эрясть землянкасо.\n",
            "Ды вана мезе ёвтнить минек эрзянь атятне: «Зярдояк те велесэнть арасель, тосо оврагасо ульнесть розбойникть; сынст ульнесть землянкаст.\n",
            "Вот что нам говорят русские старцы: когда деревня здесь не была, то там жилибойники, жили на земле.\n"
          ]
        }
      ]
    },
    {
      "cell_type": "code",
      "source": [],
      "metadata": {
        "id": "sIiXBbjqbXym"
      },
      "execution_count": null,
      "outputs": []
    },
    {
      "cell_type": "code",
      "source": [
        "with open('/gd/MyDrive/datasets/nlp/myv_corpus/myv-en-ud-dev.json', 'r') as f:\n",
        "    dev_myv_en = json.load(f)\n",
        "with open('/gd/MyDrive/datasets/nlp/myv_corpus/myv-fi-ud-dev.json', 'r') as f:\n",
        "    dev_myv_fi = json.load(f)"
      ],
      "metadata": {
        "id": "jrrwlNacbevn"
      },
      "execution_count": null,
      "outputs": []
    },
    {
      "cell_type": "code",
      "source": [
        "import random\n",
        "\n",
        "\n",
        "ss = sorted({p[0] for p in dev_myv_en}.intersection({p[0] for p in dev_myv_fi}))\n",
        "print(len(ss))\n",
        "random.seed(3)\n",
        "myv = random.choice(ss)\n",
        "print(myv)"
      ],
      "metadata": {
        "colab": {
          "base_uri": "https://localhost:8080/"
        },
        "id": "TuToW81vcclI",
        "outputId": "b93f2e0f-b11e-467f-8676-3888c376fbae"
      },
      "execution_count": null,
      "outputs": [
        {
          "output_type": "stream",
          "name": "stdout",
          "text": [
            "69\n",
            "Кода авазо, анокстась лапужа кирькст, истя жо педявтнинзе, валаськавтнинзе педявтома таркатнень начко кедьсэ.\n"
          ]
        }
      ]
    },
    {
      "cell_type": "code",
      "source": [
        "for i, pair in enumerate(dev_myv_en):\n",
        "    if pair[0] == myv:\n",
        "        en = pair[1]\n",
        "        print(en)\n",
        "        print(myv)\n",
        "        print(devt['en_myv'][i])\n",
        "        print(devt['myv_en'][i])"
      ],
      "metadata": {
        "colab": {
          "base_uri": "https://localhost:8080/"
        },
        "id": "rKaAk3cPb9Ws",
        "outputId": "87a1675b-c449-4b3b-d194-6101671bd665"
      },
      "execution_count": null,
      "outputs": [
        {
          "output_type": "stream",
          "name": "stdout",
          "text": [
            "Like his mother, he prepared flat rings, and stuck them onto the patty in the same way, and smoothed out the seams with his wet hands.\n",
            "Кода авазо, анокстась лапужа кирькст, истя жо педявтнинзе, валаськавтнинзе педявтома таркатнень начко кедьсэ.\n",
            "Кода аванзо, сон анокстыль валаня суркст, теке ладсо педявтызе сынст пацьказонзо ды вадяшась кедень летькенть марто.\n",
            "Like his mother, he prepared flat circles, and also filled the canvas with a needle.\n"
          ]
        }
      ]
    },
    {
      "cell_type": "code",
      "source": [
        "for i, pair in enumerate(dev_myv_fi):\n",
        "    if pair[0] == myv:\n",
        "        en = pair[1]\n",
        "        print(en)\n",
        "        print(myv)\n",
        "        print(devt['fi_myv'][i])\n",
        "        print(devt['myv_fi'][i])"
      ],
      "metadata": {
        "colab": {
          "base_uri": "https://localhost:8080/"
        },
        "id": "oRp-PO_gcBey",
        "outputId": "fd3d3478-fcdc-4a98-a22e-1dbfc6eea6e7"
      },
      "execution_count": null,
      "outputs": [
        {
          "output_type": "stream",
          "name": "stdout",
          "text": [
            "Samalla tavalla kuin äitinsä Ketšai valmisti litteitä rinkuloita liitti ne samalla tavalla, ja siloitti liitoksen märällä kädellä.\n",
            "Кода авазо, анокстась лапужа кирькст, истя жо педявтнинзе, валаськавтнинзе педявтома таркатнень начко кедьсэ.\n",
            "Истя жо, кода авазо Кетшай анокстыль лаҥгсо кевпанть, сон солодиль сынст теке ладсо ды солодиль эйсэст кедьлапушкасо.\n",
            "Kuten äiti, valmistelee tasa-alaiset kentät, myös venytetään, lyödään venyttäjän käsillä.\n"
          ]
        }
      ]
    },
    {
      "cell_type": "code",
      "source": [],
      "metadata": {
        "id": "GTzkGQxidAmX"
      },
      "execution_count": null,
      "outputs": []
    }
  ]
}