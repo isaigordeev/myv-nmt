{
 "cells": [
  {
   "cell_type": "code",
   "execution_count": 1,
   "id": "152a2889",
   "metadata": {},
   "outputs": [],
   "source": [
    "import requests\n",
    "import re\n",
    "import random\n",
    "from bs4 import BeautifulSoup\n",
    "from tqdm.auto import tqdm, trange"
   ]
  },
  {
   "cell_type": "markdown",
   "id": "73460892",
   "metadata": {},
   "source": [
    "# Mordovians (erzya)"
   ]
  },
  {
   "cell_type": "code",
   "execution_count": 2,
   "id": "b6645906",
   "metadata": {},
   "outputs": [
    {
     "name": "stdout",
     "output_type": "stream",
     "text": [
      "https://www.mordovians.ru/erzyanskiy_yazyk\n"
     ]
    }
   ],
   "source": [
    "url = 'https://www.mordovians.ru/erzyanskiy_yazyk'\n",
    "print(url)"
   ]
  },
  {
   "cell_type": "code",
   "execution_count": 3,
   "id": "d604c09e",
   "metadata": {},
   "outputs": [],
   "source": [
    "soup = BeautifulSoup(requests.get(url).text)"
   ]
  },
  {
   "cell_type": "code",
   "execution_count": 4,
   "id": "f14378c8",
   "metadata": {},
   "outputs": [],
   "source": [
    "with open('other_sources/Эрзянский язык _ Мордовская Диаспора.html', 'r') as f:\n",
    "    soup = BeautifulSoup(f.read())"
   ]
  },
  {
   "cell_type": "code",
   "execution_count": 5,
   "id": "88bfa9c6",
   "metadata": {},
   "outputs": [],
   "source": [
    "rus = []\n",
    "translations = []\n",
    "\n",
    "for t in soup.find_all('div', {'class': 't649__text'}):\n",
    "    for item in t.find('div'):\n",
    "        if item.name == 'strong':\n",
    "            rus.append(item.text)\n",
    "            translations.append([])\n",
    "        elif isinstance(item, str):\n",
    "            text = item.strip().lstrip('–').lstrip('-').strip()\n",
    "            if text:\n",
    "                translations[-1].append(text)"
   ]
  },
  {
   "cell_type": "code",
   "execution_count": 6,
   "id": "c9bf4c65",
   "metadata": {},
   "outputs": [
    {
     "data": {
      "text/plain": [
       "1544"
      ]
     },
     "execution_count": 6,
     "metadata": {},
     "output_type": "execute_result"
    }
   ],
   "source": [
    "len(rus)"
   ]
  },
  {
   "cell_type": "code",
   "execution_count": 7,
   "id": "1ac8923c",
   "metadata": {},
   "outputs": [
    {
     "data": {
      "text/plain": [
       "1544"
      ]
     },
     "execution_count": 7,
     "metadata": {},
     "output_type": "execute_result"
    }
   ],
   "source": [
    "len(translations)"
   ]
  },
  {
   "cell_type": "code",
   "execution_count": 8,
   "id": "d719e487",
   "metadata": {},
   "outputs": [],
   "source": [
    "rus_dedup = []\n",
    "tran_dedup = []\n",
    "\n",
    "for r, t in zip(rus, translations):\n",
    "    if not r or not t:\n",
    "        continue\n",
    "    rus_array = [text.strip() for text in r.split(',')]\n",
    "    if r == '0,9':\n",
    "        rus_array = [r]\n",
    "    #if len(rus_array) > 1:\n",
    "    #    print(r)\n",
    "    myv_array = [text.strip() for text in t[0].split(',')]\n",
    "    for r2 in rus_array:\n",
    "        for m2 in myv_array:\n",
    "            rus_dedup.append(r2)\n",
    "            tran_dedup.append(m2)"
   ]
  },
  {
   "cell_type": "code",
   "execution_count": 9,
   "id": "56667f9c",
   "metadata": {},
   "outputs": [],
   "source": [
    "import pandas as pd"
   ]
  },
  {
   "cell_type": "code",
   "execution_count": 10,
   "id": "81b0b559",
   "metadata": {},
   "outputs": [
    {
     "data": {
      "text/plain": [
       "(1847, 2)"
      ]
     },
     "execution_count": 10,
     "metadata": {},
     "output_type": "execute_result"
    }
   ],
   "source": [
    "df = pd.DataFrame({'rus': rus_dedup, 'myv': tran_dedup})\n",
    "df.shape"
   ]
  },
  {
   "cell_type": "code",
   "execution_count": 11,
   "id": "a40c26cd",
   "metadata": {},
   "outputs": [],
   "source": [
    "df.to_csv('russian-erzya-dictionary_mordovians.tsv', sep='\\t')"
   ]
  },
  {
   "cell_type": "code",
   "execution_count": 78,
   "id": "d5422e66",
   "metadata": {},
   "outputs": [
    {
     "data": {
      "text/html": [
       "<div>\n",
       "<style scoped>\n",
       "    .dataframe tbody tr th:only-of-type {\n",
       "        vertical-align: middle;\n",
       "    }\n",
       "\n",
       "    .dataframe tbody tr th {\n",
       "        vertical-align: top;\n",
       "    }\n",
       "\n",
       "    .dataframe thead th {\n",
       "        text-align: right;\n",
       "    }\n",
       "</style>\n",
       "<table border=\"1\" class=\"dataframe\">\n",
       "  <thead>\n",
       "    <tr style=\"text-align: right;\">\n",
       "      <th></th>\n",
       "      <th>rus</th>\n",
       "      <th>myv</th>\n",
       "    </tr>\n",
       "  </thead>\n",
       "  <tbody>\n",
       "    <tr>\n",
       "      <th>1015</th>\n",
       "      <td>напоить</td>\n",
       "      <td>симдемс</td>\n",
       "    </tr>\n",
       "    <tr>\n",
       "      <th>682</th>\n",
       "      <td>лыко</td>\n",
       "      <td>ленге</td>\n",
       "    </tr>\n",
       "    <tr>\n",
       "      <th>180</th>\n",
       "      <td>выводить</td>\n",
       "      <td>ливтемс</td>\n",
       "    </tr>\n",
       "    <tr>\n",
       "      <th>1406</th>\n",
       "      <td>старый</td>\n",
       "      <td>ташто</td>\n",
       "    </tr>\n",
       "    <tr>\n",
       "      <th>1645</th>\n",
       "      <td>церковь</td>\n",
       "      <td>знома кудо</td>\n",
       "    </tr>\n",
       "    <tr>\n",
       "      <th>1103</th>\n",
       "      <td>приехать</td>\n",
       "      <td>ардомс</td>\n",
       "    </tr>\n",
       "    <tr>\n",
       "      <th>1286</th>\n",
       "      <td>привязать</td>\n",
       "      <td>сюлмамс</td>\n",
       "    </tr>\n",
       "    <tr>\n",
       "      <th>285</th>\n",
       "      <td>удержать</td>\n",
       "      <td>кирдемс</td>\n",
       "    </tr>\n",
       "    <tr>\n",
       "      <th>937</th>\n",
       "      <td>пахнуть</td>\n",
       "      <td>качадомс</td>\n",
       "    </tr>\n",
       "    <tr>\n",
       "      <th>1270</th>\n",
       "      <td>сватать</td>\n",
       "      <td>чиямо</td>\n",
       "    </tr>\n",
       "  </tbody>\n",
       "</table>\n",
       "</div>"
      ],
      "text/plain": [
       "            rus         myv\n",
       "1015    напоить     симдемс\n",
       "682        лыко       ленге\n",
       "180    выводить     ливтемс\n",
       "1406     старый       ташто\n",
       "1645    церковь  знома кудо\n",
       "1103   приехать      ардомс\n",
       "1286  привязать     сюлмамс\n",
       "285    удержать     кирдемс\n",
       "937     пахнуть    качадомс\n",
       "1270    сватать       чиямо"
      ]
     },
     "execution_count": 78,
     "metadata": {},
     "output_type": "execute_result"
    }
   ],
   "source": [
    "df.sample(10)"
   ]
  },
  {
   "cell_type": "code",
   "execution_count": 79,
   "id": "5d3106e7",
   "metadata": {},
   "outputs": [],
   "source": [
    "mordovians_pairs = df[['myv', 'rus']].values.tolist()"
   ]
  },
  {
   "cell_type": "markdown",
   "id": "9e88ec14",
   "metadata": {},
   "source": [
    "# layazyk"
   ]
  },
  {
   "cell_type": "code",
   "execution_count": 81,
   "id": "9d638c5d",
   "metadata": {},
   "outputs": [
    {
     "name": "stdout",
     "output_type": "stream",
     "text": [
      "http://lazalyk.narod.ru/business.html\n"
     ]
    }
   ],
   "source": [
    "url = 'http://lazalyk.narod.ru/business.html'\n",
    "print(url)"
   ]
  },
  {
   "cell_type": "code",
   "execution_count": 82,
   "id": "88c80304",
   "metadata": {},
   "outputs": [],
   "source": [
    "soup = BeautifulSoup(requests.get(url).text)"
   ]
  },
  {
   "cell_type": "code",
   "execution_count": 83,
   "id": "307d57f9",
   "metadata": {},
   "outputs": [],
   "source": [
    "rows = [text.strip() for text in soup.find('table').text.split('\\r')[3:-1]]"
   ]
  },
  {
   "cell_type": "code",
   "execution_count": 84,
   "id": "6b4696d8",
   "metadata": {},
   "outputs": [],
   "source": [
    "pairs = []\n",
    "\n",
    "for row in rows:\n",
    "    row = re.sub('\\s*\\(.*\\)\\s*', ' ', row).strip().split('\\n')[0]\n",
    "    if row.startswith('-') or row.startswith('-') or not row:\n",
    "        continue\n",
    "    if any(s in row for s in '.)('):\n",
    "        continue\n",
    "    parts = row.split(' - ')\n",
    "    if len(parts) == 2:\n",
    "        lhs = parts[0]\n",
    "        rhs = parts[1]\n",
    "    else:\n",
    "        parts = row.split('-')\n",
    "        if len(parts) == 2:\n",
    "            lhs = parts[0]\n",
    "            rhs = parts[1]\n",
    "        else:\n",
    "            continue\n",
    "    for ru in lhs.split(','):\n",
    "        for myv in rhs.split(','):\n",
    "            pairs.append([myv, ru])"
   ]
  },
  {
   "cell_type": "code",
   "execution_count": 85,
   "id": "29fc9043",
   "metadata": {},
   "outputs": [
    {
     "data": {
      "text/plain": [
       "1311"
      ]
     },
     "execution_count": 85,
     "metadata": {},
     "output_type": "execute_result"
    }
   ],
   "source": [
    "len(pairs)"
   ]
  },
  {
   "cell_type": "code",
   "execution_count": 86,
   "id": "cc2b0915",
   "metadata": {},
   "outputs": [
    {
     "name": "stdout",
     "output_type": "stream",
     "text": [
      "['илештямс', 'залупить']\n",
      "['эряза', 'активный']\n",
      "['уштом', 'печь']\n",
      "['вардо', 'батрак']\n",
      "['тарка', 'место']\n",
      "[' пинксэмс', 'сковать']\n",
      "['кизэ', 'лето']\n",
      "['кивкал', 'голец']\n",
      "['лачо', 'клин']\n",
      "[' валкскудо', 'банк']\n"
     ]
    }
   ],
   "source": [
    "for i in range(10):\n",
    "    print(random.choice(pairs))"
   ]
  },
  {
   "cell_type": "code",
   "execution_count": 87,
   "id": "c05ef545",
   "metadata": {},
   "outputs": [],
   "source": [
    "pairs_layazyk = pairs"
   ]
  },
  {
   "cell_type": "markdown",
   "id": "3f6cbc94",
   "metadata": {},
   "source": [
    "# mordvarf"
   ]
  },
  {
   "cell_type": "code",
   "execution_count": 88,
   "id": "ae49894c",
   "metadata": {},
   "outputs": [
    {
     "name": "stdout",
     "output_type": "stream",
     "text": [
      "https://mordvarf.com/русско-эрзянский-словарь/\n"
     ]
    }
   ],
   "source": [
    "url = 'https://mordvarf.com/русско-эрзянский-словарь/'\n",
    "print(url)"
   ]
  },
  {
   "cell_type": "code",
   "execution_count": 89,
   "id": "f81b525c",
   "metadata": {},
   "outputs": [],
   "source": [
    "soup = BeautifulSoup(requests.get(url).text)"
   ]
  },
  {
   "cell_type": "code",
   "execution_count": 90,
   "id": "39ebb2f9",
   "metadata": {},
   "outputs": [],
   "source": [
    "pairs = []"
   ]
  },
  {
   "cell_type": "code",
   "execution_count": 91,
   "id": "f7be25a6",
   "metadata": {},
   "outputs": [],
   "source": [
    "def split2(text, seps=';,/\\\\'):\n",
    "    parts = [text]\n",
    "    for sep in seps:\n",
    "        parts = [text.strip() for p in parts for text in p.split(sep)]\n",
    "    return [p for p in parts if p]"
   ]
  },
  {
   "cell_type": "code",
   "execution_count": 92,
   "id": "fb8f6930",
   "metadata": {},
   "outputs": [],
   "source": [
    "div = soup.find('div', {'class': 'entry-content'})\n",
    "for p in list(div.children)[:10]:\n",
    "    if isinstance(p, str):\n",
    "        continue\n",
    "    if not p.text.strip():\n",
    "        continue\n",
    "    prev = None\n",
    "    for c in p.children:\n",
    "        if isinstance(c, str):\n",
    "            if c == '\\n':\n",
    "                prev = None\n",
    "                continue\n",
    "            if prev is not None:\n",
    "                for tran in split2(c):\n",
    "                    for orig in split2(prev):\n",
    "                        pairs.append([tran.strip(), orig.strip()])\n",
    "                prev = None\n",
    "                continue\n",
    "        elif c.name == 'b':\n",
    "            prev = c.text\n",
    "        else:\n",
    "            prev = None"
   ]
  },
  {
   "cell_type": "code",
   "execution_count": 93,
   "id": "f9988268",
   "metadata": {},
   "outputs": [
    {
     "name": "stdout",
     "output_type": "stream",
     "text": [
      "328\n"
     ]
    }
   ],
   "source": [
    "print(len(pairs))"
   ]
  },
  {
   "cell_type": "code",
   "execution_count": 94,
   "id": "fe2080d7",
   "metadata": {},
   "outputs": [
    {
     "data": {
      "text/plain": [
       "['чиемс', 'бежать']"
      ]
     },
     "execution_count": 94,
     "metadata": {},
     "output_type": "execute_result"
    }
   ],
   "source": [
    "random.choice(pairs)"
   ]
  },
  {
   "cell_type": "code",
   "execution_count": 95,
   "id": "58f5901f",
   "metadata": {},
   "outputs": [],
   "source": [
    "pairs_mordvarf = pairs"
   ]
  },
  {
   "cell_type": "markdown",
   "id": "99cfd773",
   "metadata": {},
   "source": [
    "# marlamuter"
   ]
  },
  {
   "cell_type": "code",
   "execution_count": 96,
   "id": "80da8568",
   "metadata": {},
   "outputs": [
    {
     "name": "stdout",
     "output_type": "stream",
     "text": [
      "http://marlamuter.com/muter/Эрзя/746\n"
     ]
    }
   ],
   "source": [
    "page = 746\n",
    "url = 'http://marlamuter.com/muter/Эрзя/{}'.format(page)\n",
    "print(url)"
   ]
  },
  {
   "cell_type": "code",
   "execution_count": 97,
   "id": "16d242bf",
   "metadata": {},
   "outputs": [],
   "source": [
    "marlamuter_pairs = []"
   ]
  },
  {
   "cell_type": "code",
   "execution_count": 98,
   "id": "21cd639f",
   "metadata": {},
   "outputs": [
    {
     "data": {
      "application/vnd.jupyter.widget-view+json": {
       "model_id": "e8b95c2ad789410eaac2e8fc26d3fafd",
       "version_major": 2,
       "version_minor": 0
      },
      "text/plain": [
       "  0%|          | 0/748 [00:00<?, ?it/s]"
      ]
     },
     "metadata": {},
     "output_type": "display_data"
    }
   ],
   "source": [
    "for page in trange(1, 749):\n",
    "    url = 'http://marlamuter.com/muter/Эрзя/{}'.format(page)\n",
    "    soup = BeautifulSoup(requests.get(url).text)\n",
    "    for d in soup.findAll('div', {'class': 'ik_mut'}):\n",
    "        for bad_class in ['arab_bracket', 'oypeleshtysh', 'abbr']:\n",
    "            for noise in d.findAll('span', {'class': bad_class}):\n",
    "                noise.extract()\n",
    "\n",
    "        for p in d.findAll('p'):\n",
    "            if p.find('span', {'class': 'tanastare'}):\n",
    "                p.extract()\n",
    "            elif p.find('span', {'class': 'mutlan1'}) and p.find('span', {'class': 'mutlan3'}):\n",
    "                marlamuter_pairs.append([\n",
    "                    p.find('span', {'class': 'mutlan1'}).text.strip('.').strip().strip(';'), \n",
    "                    p.find('span', {'class': 'mutlan3'}).text.strip('.').strip().strip(';')\n",
    "                ])\n",
    "                p.extract()\n",
    "\n",
    "        myv = d.find('div', {'id': 'head'}).text.strip().strip('.').strip().strip(';')\n",
    "        rus = d.find('div', {'id': 'content'}).text.strip().strip('.').strip().strip(';')\n",
    "        for tran in split2(myv):\n",
    "            for orig in split2(rus):\n",
    "                marlamuter_pairs.append([tran.strip(), orig.strip()])"
   ]
  },
  {
   "cell_type": "code",
   "execution_count": 99,
   "id": "ac544bdd",
   "metadata": {},
   "outputs": [
    {
     "name": "stdout",
     "output_type": "stream",
     "text": [
      "25997\n"
     ]
    }
   ],
   "source": [
    "print(len(marlamuter_pairs))"
   ]
  },
  {
   "cell_type": "code",
   "execution_count": 100,
   "id": "60caa8ed",
   "metadata": {},
   "outputs": [
    {
     "name": "stdout",
     "output_type": "stream",
     "text": [
      "25245\n"
     ]
    }
   ],
   "source": [
    "print(len([p for p in marlamuter_pairs if '\\n' not in p[1]]))"
   ]
  },
  {
   "cell_type": "code",
   "execution_count": 101,
   "id": "97696936",
   "metadata": {},
   "outputs": [
    {
     "name": "stdout",
     "output_type": "stream",
     "text": [
      "['эстрада', 'эстрада']\n",
      "['томсезь', 'утомлённый']\n",
      "['поревтемс', 'заставить загрызть']\n",
      "['скалонь сывель', 'говядина']\n",
      "['кудо ютконь мелявкст', 'заботы о доме']\n",
      "['нуема', 'жатва']\n",
      "['нолаштнемс', 'скользить']\n",
      "['пси', 'жарко']\n",
      "['лондадозь', 'провалившийся']\n",
      "['икелевгак', 'роботамо кияк']\n"
     ]
    }
   ],
   "source": [
    "for _ in range(10):\n",
    "    print(random.choice(marlamuter_pairs))"
   ]
  },
  {
   "cell_type": "markdown",
   "id": "2fe0c01b",
   "metadata": {},
   "source": [
    "# Словарь Рябова"
   ]
  },
  {
   "cell_type": "markdown",
   "id": "0df3b7a2",
   "metadata": {},
   "source": [
    "http://openedo.mrsu.ru/pluginfile.php/137136/mod_resource/content/1/Эрзянский%20язык.pdf"
   ]
  },
  {
   "cell_type": "code",
   "execution_count": 102,
   "id": "eed5ded7",
   "metadata": {},
   "outputs": [],
   "source": [
    "import pandas as pd"
   ]
  },
  {
   "cell_type": "code",
   "execution_count": 103,
   "id": "10162443",
   "metadata": {},
   "outputs": [],
   "source": [
    "rya_raw = pd.read_csv('books_parallel/ryabov-tables-raw.tsv', sep='\\t', header=None)"
   ]
  },
  {
   "cell_type": "code",
   "execution_count": 104,
   "id": "d02a8a8b",
   "metadata": {},
   "outputs": [
    {
     "data": {
      "text/html": [
       "<div>\n",
       "<style scoped>\n",
       "    .dataframe tbody tr th:only-of-type {\n",
       "        vertical-align: middle;\n",
       "    }\n",
       "\n",
       "    .dataframe tbody tr th {\n",
       "        vertical-align: top;\n",
       "    }\n",
       "\n",
       "    .dataframe thead th {\n",
       "        text-align: right;\n",
       "    }\n",
       "</style>\n",
       "<table border=\"1\" class=\"dataframe\">\n",
       "  <thead>\n",
       "    <tr style=\"text-align: right;\">\n",
       "      <th></th>\n",
       "      <th>0</th>\n",
       "      <th>1</th>\n",
       "      <th>2</th>\n",
       "      <th>3</th>\n",
       "      <th>4</th>\n",
       "      <th>5</th>\n",
       "    </tr>\n",
       "  </thead>\n",
       "  <tbody>\n",
       "    <tr>\n",
       "      <th>0</th>\n",
       "      <td>NaN</td>\n",
       "      <td>анды</td>\n",
       "      <td>NaN</td>\n",
       "      <td>NaN</td>\n",
       "      <td>завтра</td>\n",
       "      <td>NaN</td>\n",
       "    </tr>\n",
       "    <tr>\n",
       "      <th>1</th>\n",
       "      <td>NaN</td>\n",
       "      <td>астовомс</td>\n",
       "      <td>NaN</td>\n",
       "      <td>NaN</td>\n",
       "      <td>встретиться</td>\n",
       "      <td>NaN</td>\n",
       "    </tr>\n",
       "    <tr>\n",
       "      <th>2</th>\n",
       "      <td>NaN</td>\n",
       "      <td>астома</td>\n",
       "      <td>NaN</td>\n",
       "      <td>NaN</td>\n",
       "      <td>встреча</td>\n",
       "      <td>NaN</td>\n",
       "    </tr>\n",
       "    <tr>\n",
       "      <th>3</th>\n",
       "      <td>NaN</td>\n",
       "      <td>еемс</td>\n",
       "      <td>NaN</td>\n",
       "      <td>NaN</td>\n",
       "      <td>увидеть</td>\n",
       "      <td>NaN</td>\n",
       "    </tr>\n",
       "    <tr>\n",
       "      <th>4</th>\n",
       "      <td>NaN</td>\n",
       "      <td>тпустить</td>\n",
       "      <td>NaN</td>\n",
       "      <td>NaN</td>\n",
       "      <td>нолдамс</td>\n",
       "      <td>NaN</td>\n",
       "    </tr>\n",
       "    <tr>\n",
       "      <th>...</th>\n",
       "      <td>...</td>\n",
       "      <td>...</td>\n",
       "      <td>...</td>\n",
       "      <td>...</td>\n",
       "      <td>...</td>\n",
       "      <td>...</td>\n",
       "    </tr>\n",
       "    <tr>\n",
       "      <th>503</th>\n",
       "      <td>Мокшэрзятнень пек кеметь обуцяст\\rды коест.</td>\n",
       "      <td>У мордвы очень крепкие обычаи и\\rтрадиции.</td>\n",
       "      <td>NaN</td>\n",
       "      <td>NaN</td>\n",
       "      <td>NaN</td>\n",
       "      <td>NaN</td>\n",
       "    </tr>\n",
       "    <tr>\n",
       "      <th>504</th>\n",
       "      <td>Эрзятне кастыть сюро, ракшат,\\rкундсить калт, ...</td>\n",
       "      <td>Эрзя выращивают хлеб, животных, ловят\\rрыбу, с...</td>\n",
       "      <td>NaN</td>\n",
       "      <td>NaN</td>\n",
       "      <td>NaN</td>\n",
       "      <td>NaN</td>\n",
       "    </tr>\n",
       "    <tr>\n",
       "      <th>505</th>\n",
       "      <td>Эрзятнень мазыйть оршамост ды\\rтантейть ярсамо...</td>\n",
       "      <td>У эрзи красивые наряды и вкусная еда.</td>\n",
       "      <td>NaN</td>\n",
       "      <td>NaN</td>\n",
       "      <td>NaN</td>\n",
       "      <td>NaN</td>\n",
       "    </tr>\n",
       "    <tr>\n",
       "      <th>506</th>\n",
       "      <td>Покш чистэ аватне панить прякат,\\rтеить човов ...</td>\n",
       "      <td>На большие праздники женщины пекут\\rпироги, го...</td>\n",
       "      <td>NaN</td>\n",
       "      <td>NaN</td>\n",
       "      <td>NaN</td>\n",
       "      <td>NaN</td>\n",
       "    </tr>\n",
       "    <tr>\n",
       "      <th>507</th>\n",
       "      <td>Покш чикс лововить Инечись,\\rТроицясь, Роштова...</td>\n",
       "      <td>Большими праздниками считаются\\rПасха, Троица,...</td>\n",
       "      <td>NaN</td>\n",
       "      <td>NaN</td>\n",
       "      <td>NaN</td>\n",
       "      <td>NaN</td>\n",
       "    </tr>\n",
       "  </tbody>\n",
       "</table>\n",
       "<p>508 rows × 6 columns</p>\n",
       "</div>"
      ],
      "text/plain": [
       "                                                     0  \\\n",
       "0                                                  NaN   \n",
       "1                                                  NaN   \n",
       "2                                                  NaN   \n",
       "3                                                  NaN   \n",
       "4                                                  NaN   \n",
       "..                                                 ...   \n",
       "503        Мокшэрзятнень пек кеметь обуцяст\\rды коест.   \n",
       "504  Эрзятне кастыть сюро, ракшат,\\rкундсить калт, ...   \n",
       "505  Эрзятнень мазыйть оршамост ды\\rтантейть ярсамо...   \n",
       "506  Покш чистэ аватне панить прякат,\\rтеить човов ...   \n",
       "507  Покш чикс лововить Инечись,\\rТроицясь, Роштова...   \n",
       "\n",
       "                                                     1   2    3            4  \\\n",
       "0                                                 анды NaN  NaN       завтра   \n",
       "1                                             астовомс NaN  NaN  встретиться   \n",
       "2                                               астома NaN  NaN      встреча   \n",
       "3                                                 еемс NaN  NaN      увидеть   \n",
       "4                                             тпустить NaN  NaN      нолдамс   \n",
       "..                                                 ...  ..  ...          ...   \n",
       "503         У мордвы очень крепкие обычаи и\\rтрадиции. NaN  NaN          NaN   \n",
       "504  Эрзя выращивают хлеб, животных, ловят\\rрыбу, с... NaN  NaN          NaN   \n",
       "505              У эрзи красивые наряды и вкусная еда. NaN  NaN          NaN   \n",
       "506  На большие праздники женщины пекут\\rпироги, го... NaN  NaN          NaN   \n",
       "507  Большими праздниками считаются\\rПасха, Троица,... NaN  NaN          NaN   \n",
       "\n",
       "      5  \n",
       "0   NaN  \n",
       "1   NaN  \n",
       "2   NaN  \n",
       "3   NaN  \n",
       "4   NaN  \n",
       "..   ..  \n",
       "503 NaN  \n",
       "504 NaN  \n",
       "505 NaN  \n",
       "506 NaN  \n",
       "507 NaN  \n",
       "\n",
       "[508 rows x 6 columns]"
      ]
     },
     "execution_count": 104,
     "metadata": {},
     "output_type": "execute_result"
    }
   ],
   "source": [
    "rya_raw"
   ]
  },
  {
   "cell_type": "code",
   "execution_count": 105,
   "id": "b2894142",
   "metadata": {},
   "outputs": [
    {
     "name": "stdout",
     "output_type": "stream",
     "text": [
      "588\n"
     ]
    }
   ],
   "source": [
    "rya_pairs = []\n",
    "for i, row in rya_raw.iterrows():\n",
    "    lst = row.dropna().tolist()\n",
    "    if len(lst) != 2:\n",
    "        continue\n",
    "    er, ru = lst\n",
    "    er = er.replace('\\r', ' ')\n",
    "    ru = ru.replace('\\r', ' ')\n",
    "    if len(er.split()) == 1 and er == er.lower() and any(c in ru for c in ',;/'):\n",
    "        for ru2 in split2(ru):\n",
    "            rya_pairs.append([er, ru2])\n",
    "    else:\n",
    "        rya_pairs.append([er, ru])\n",
    "        \n",
    "print(len(rya_pairs))"
   ]
  },
  {
   "cell_type": "markdown",
   "id": "585e85ec",
   "metadata": {},
   "source": [
    "# Merge with a dictionary from pdf"
   ]
  },
  {
   "cell_type": "code",
   "execution_count": 110,
   "id": "2ef55726",
   "metadata": {},
   "outputs": [],
   "source": [
    "from ast import literal_eval"
   ]
  },
  {
   "cell_type": "code",
   "execution_count": 111,
   "id": "00ba4375",
   "metadata": {},
   "outputs": [],
   "source": [
    "dict1 = pd.read_csv('russian-moksha-erzya-dictionary_fixed.tsv', sep='\\t')\n",
    "dict1['mo'] = dict1['mo'].apply(literal_eval)\n",
    "dict1['er'] = dict1['er'].apply(literal_eval)"
   ]
  },
  {
   "cell_type": "code",
   "execution_count": 113,
   "id": "a94b0fbc",
   "metadata": {},
   "outputs": [
    {
     "data": {
      "text/plain": [
       "22499"
      ]
     },
     "execution_count": 113,
     "metadata": {},
     "output_type": "execute_result"
    }
   ],
   "source": [
    "dict1_pairs = []\n",
    "for row in dict1.itertuples():\n",
    "    for er in row.er:\n",
    "        dict1_pairs.append((er, row.ru_fix))\n",
    "len(dict1_pairs)"
   ]
  },
  {
   "cell_type": "markdown",
   "id": "33a84b56",
   "metadata": {},
   "source": [
    "# merge"
   ]
  },
  {
   "cell_type": "code",
   "execution_count": 114,
   "id": "20e943f5",
   "metadata": {},
   "outputs": [],
   "source": [
    "joint_dict = []\n",
    "\n",
    "for k, v in {\n",
    "    'mordovians': mordovians_pairs,\n",
    "    'layazyk': pairs_layazyk,\n",
    "    'mordvarf': pairs_mordvarf,\n",
    "    'marlamuter': [p for p in marlamuter_pairs if '\\n' not in p[1] and 'Тӱҥ' not in p[1] and 'Калыкмут' not in p[1]],\n",
    "    'ryabov': rya_pairs,\n",
    "    'schankina': dict1_pairs,\n",
    "}.items():\n",
    "    df = pd.DataFrame(v)\n",
    "    df.columns = ['myv', 'ru']\n",
    "    df['source'] = k\n",
    "    joint_dict.append(df)\n",
    "joint_dict = pd.concat(joint_dict, ignore_index=True)"
   ]
  },
  {
   "cell_type": "code",
   "execution_count": 115,
   "id": "417072d0",
   "metadata": {},
   "outputs": [
    {
     "name": "stdout",
     "output_type": "stream",
     "text": [
      "(51383, 3)\n"
     ]
    }
   ],
   "source": [
    "print(joint_dict.shape)"
   ]
  },
  {
   "cell_type": "code",
   "execution_count": 116,
   "id": "600b0056",
   "metadata": {},
   "outputs": [
    {
     "data": {
      "text/html": [
       "<div>\n",
       "<style scoped>\n",
       "    .dataframe tbody tr th:only-of-type {\n",
       "        vertical-align: middle;\n",
       "    }\n",
       "\n",
       "    .dataframe tbody tr th {\n",
       "        vertical-align: top;\n",
       "    }\n",
       "\n",
       "    .dataframe thead th {\n",
       "        text-align: right;\n",
       "    }\n",
       "</style>\n",
       "<table border=\"1\" class=\"dataframe\">\n",
       "  <thead>\n",
       "    <tr style=\"text-align: right;\">\n",
       "      <th></th>\n",
       "      <th>myv</th>\n",
       "      <th>ru</th>\n",
       "      <th>source</th>\n",
       "    </tr>\n",
       "  </thead>\n",
       "  <tbody>\n",
       "    <tr>\n",
       "      <th>46352</th>\n",
       "      <td>керявкс молемс/аштемс каршо</td>\n",
       "      <td>разрез</td>\n",
       "      <td>schankina</td>\n",
       "    </tr>\n",
       "    <tr>\n",
       "      <th>44688</th>\n",
       "      <td>парсте прянь ветямо</td>\n",
       "      <td>порядочность</td>\n",
       "      <td>schankina</td>\n",
       "    </tr>\n",
       "    <tr>\n",
       "      <th>31207</th>\n",
       "      <td>совамс</td>\n",
       "      <td>вступить</td>\n",
       "      <td>schankina</td>\n",
       "    </tr>\n",
       "    <tr>\n",
       "      <th>37990</th>\n",
       "      <td>кундо</td>\n",
       "      <td>крышка</td>\n",
       "      <td>schankina</td>\n",
       "    </tr>\n",
       "    <tr>\n",
       "      <th>50212</th>\n",
       "      <td>каямс</td>\n",
       "      <td>устранить</td>\n",
       "      <td>schankina</td>\n",
       "    </tr>\n",
       "    <tr>\n",
       "      <th>29992</th>\n",
       "      <td>каштан</td>\n",
       "      <td>важный</td>\n",
       "      <td>schankina</td>\n",
       "    </tr>\n",
       "    <tr>\n",
       "      <th>35258</th>\n",
       "      <td>пичкамс</td>\n",
       "      <td>зарасти</td>\n",
       "      <td>schankina</td>\n",
       "    </tr>\n",
       "    <tr>\n",
       "      <th>18274</th>\n",
       "      <td>пекше</td>\n",
       "      <td>липа</td>\n",
       "      <td>marlamuter</td>\n",
       "    </tr>\n",
       "    <tr>\n",
       "      <th>17606</th>\n",
       "      <td>орголемс</td>\n",
       "      <td>убегать</td>\n",
       "      <td>marlamuter</td>\n",
       "    </tr>\n",
       "    <tr>\n",
       "      <th>18048</th>\n",
       "      <td>парямс</td>\n",
       "      <td>париться</td>\n",
       "      <td>marlamuter</td>\n",
       "    </tr>\n",
       "  </tbody>\n",
       "</table>\n",
       "</div>"
      ],
      "text/plain": [
       "                               myv            ru      source\n",
       "46352  керявкс молемс/аштемс каршо        разрез   schankina\n",
       "44688          парсте прянь ветямо  порядочность   schankina\n",
       "31207                       совамс      вступить   schankina\n",
       "37990                        кундо        крышка   schankina\n",
       "50212                        каямс     устранить   schankina\n",
       "29992                       каштан        важный   schankina\n",
       "35258                      пичкамс       зарасти   schankina\n",
       "18274                        пекше          липа  marlamuter\n",
       "17606                     орголемс       убегать  marlamuter\n",
       "18048                       парямс      париться  marlamuter"
      ]
     },
     "execution_count": 116,
     "metadata": {},
     "output_type": "execute_result"
    }
   ],
   "source": [
    "joint_dict.sample(10)"
   ]
  },
  {
   "cell_type": "code",
   "execution_count": 117,
   "id": "2d4d700b",
   "metadata": {},
   "outputs": [
    {
     "data": {
      "text/html": [
       "<div>\n",
       "<style scoped>\n",
       "    .dataframe tbody tr th:only-of-type {\n",
       "        vertical-align: middle;\n",
       "    }\n",
       "\n",
       "    .dataframe tbody tr th {\n",
       "        vertical-align: top;\n",
       "    }\n",
       "\n",
       "    .dataframe thead th {\n",
       "        text-align: right;\n",
       "    }\n",
       "</style>\n",
       "<table border=\"1\" class=\"dataframe\">\n",
       "  <thead>\n",
       "    <tr style=\"text-align: right;\">\n",
       "      <th></th>\n",
       "      <th>myv</th>\n",
       "      <th>ru</th>\n",
       "      <th>source</th>\n",
       "    </tr>\n",
       "  </thead>\n",
       "  <tbody>\n",
       "    <tr>\n",
       "      <th>2797</th>\n",
       "      <td>туемс</td>\n",
       "      <td>пойти</td>\n",
       "      <td>layazyk</td>\n",
       "    </tr>\n",
       "    <tr>\n",
       "      <th>2883</th>\n",
       "      <td>лей</td>\n",
       "      <td>река</td>\n",
       "      <td>layazyk</td>\n",
       "    </tr>\n",
       "    <tr>\n",
       "      <th>2993</th>\n",
       "      <td>сырькай</td>\n",
       "      <td>старуха</td>\n",
       "      <td>layazyk</td>\n",
       "    </tr>\n",
       "    <tr>\n",
       "      <th>5511</th>\n",
       "      <td>бензинэнь бак</td>\n",
       "      <td>бензиновый бак</td>\n",
       "      <td>marlamuter</td>\n",
       "    </tr>\n",
       "    <tr>\n",
       "      <th>20728</th>\n",
       "      <td>самодур</td>\n",
       "      <td>самодур</td>\n",
       "      <td>marlamuter</td>\n",
       "    </tr>\n",
       "    <tr>\n",
       "      <th>25511</th>\n",
       "      <td>хлоп!</td>\n",
       "      <td>хлоп!</td>\n",
       "      <td>marlamuter</td>\n",
       "    </tr>\n",
       "    <tr>\n",
       "      <th>1290</th>\n",
       "      <td>течи</td>\n",
       "      <td>сегодня</td>\n",
       "      <td>mordovians</td>\n",
       "    </tr>\n",
       "    <tr>\n",
       "      <th>992</th>\n",
       "      <td>ушо</td>\n",
       "      <td>погода</td>\n",
       "      <td>mordovians</td>\n",
       "    </tr>\n",
       "    <tr>\n",
       "      <th>330</th>\n",
       "      <td>качамо</td>\n",
       "      <td>дым</td>\n",
       "      <td>mordovians</td>\n",
       "    </tr>\n",
       "    <tr>\n",
       "      <th>3380</th>\n",
       "      <td>цярахман</td>\n",
       "      <td>град</td>\n",
       "      <td>mordvarf</td>\n",
       "    </tr>\n",
       "    <tr>\n",
       "      <th>3300</th>\n",
       "      <td>икеле</td>\n",
       "      <td>впереди</td>\n",
       "      <td>mordvarf</td>\n",
       "    </tr>\n",
       "    <tr>\n",
       "      <th>3355</th>\n",
       "      <td>панемс</td>\n",
       "      <td>гнать</td>\n",
       "      <td>mordvarf</td>\n",
       "    </tr>\n",
       "    <tr>\n",
       "      <th>28691</th>\n",
       "      <td>ейтерь</td>\n",
       "      <td>дочь</td>\n",
       "      <td>ryabov</td>\n",
       "    </tr>\n",
       "    <tr>\n",
       "      <th>28710</th>\n",
       "      <td>ынк</td>\n",
       "      <td>ваша</td>\n",
       "      <td>ryabov</td>\n",
       "    </tr>\n",
       "    <tr>\n",
       "      <th>28866</th>\n",
       "      <td>Саранскойсэ эри кудораськем, тетян-аван, весе ...</td>\n",
       "      <td>В Саранске живет моя семья, мои родители, все ...</td>\n",
       "      <td>ryabov</td>\n",
       "    </tr>\n",
       "    <tr>\n",
       "      <th>44827</th>\n",
       "      <td>ливезь</td>\n",
       "      <td>пот</td>\n",
       "      <td>schankina</td>\n",
       "    </tr>\n",
       "    <tr>\n",
       "      <th>46531</th>\n",
       "      <td>нолдавомс</td>\n",
       "      <td>распуститься</td>\n",
       "      <td>schankina</td>\n",
       "    </tr>\n",
       "    <tr>\n",
       "      <th>44465</th>\n",
       "      <td>артовкс</td>\n",
       "      <td>полотно</td>\n",
       "      <td>schankina</td>\n",
       "    </tr>\n",
       "  </tbody>\n",
       "</table>\n",
       "</div>"
      ],
      "text/plain": [
       "                                                     myv  \\\n",
       "2797                                               туемс   \n",
       "2883                                                 лей   \n",
       "2993                                             сырькай   \n",
       "5511                                       бензинэнь бак   \n",
       "20728                                            самодур   \n",
       "25511                                              хлоп!   \n",
       "1290                                                течи   \n",
       "992                                                  ушо   \n",
       "330                                               качамо   \n",
       "3380                                            цярахман   \n",
       "3300                                               икеле   \n",
       "3355                                              панемс   \n",
       "28691                                             ейтерь   \n",
       "28710                                                ынк   \n",
       "28866  Саранскойсэ эри кудораськем, тетян-аван, весе ...   \n",
       "44827                                             ливезь   \n",
       "46531                                          нолдавомс   \n",
       "44465                                            артовкс   \n",
       "\n",
       "                                                      ru      source  \n",
       "2797                                               пойти     layazyk  \n",
       "2883                                                река     layazyk  \n",
       "2993                                             старуха     layazyk  \n",
       "5511                                      бензиновый бак  marlamuter  \n",
       "20728                                            самодур  marlamuter  \n",
       "25511                                              хлоп!  marlamuter  \n",
       "1290                                             сегодня  mordovians  \n",
       "992                                               погода  mordovians  \n",
       "330                                                  дым  mordovians  \n",
       "3380                                                град    mordvarf  \n",
       "3300                                             впереди    mordvarf  \n",
       "3355                                               гнать    mordvarf  \n",
       "28691                                               дочь      ryabov  \n",
       "28710                                               ваша      ryabov  \n",
       "28866  В Саранске живет моя семья, мои родители, все ...      ryabov  \n",
       "44827                                                пот   schankina  \n",
       "46531                                       распуститься   schankina  \n",
       "44465                                            полотно   schankina  "
      ]
     },
     "execution_count": 117,
     "metadata": {},
     "output_type": "execute_result"
    }
   ],
   "source": [
    "joint_dict.groupby('source').sample(3)"
   ]
  },
  {
   "cell_type": "code",
   "execution_count": 118,
   "id": "68e883ac",
   "metadata": {},
   "outputs": [],
   "source": [
    "joint_dict.to_csv('other_sources/joint_phrasebook.tsv', index=None, sep='\\t')"
   ]
  }
 ],
 "metadata": {
  "kernelspec": {
   "display_name": "Python 3 (ipykernel)",
   "language": "python",
   "name": "python3"
  },
  "language_info": {
   "codemirror_mode": {
    "name": "ipython",
    "version": 3
   },
   "file_extension": ".py",
   "mimetype": "text/x-python",
   "name": "python",
   "nbconvert_exporter": "python",
   "pygments_lexer": "ipython3",
   "version": "3.9.6"
  }
 },
 "nbformat": 4,
 "nbformat_minor": 5
}
