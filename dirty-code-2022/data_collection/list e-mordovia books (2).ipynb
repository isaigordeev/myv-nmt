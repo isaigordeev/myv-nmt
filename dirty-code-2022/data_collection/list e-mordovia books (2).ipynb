{
 "cells": [
  {
   "cell_type": "code",
   "execution_count": 1,
   "id": "4b4a6885",
   "metadata": {},
   "outputs": [],
   "source": [
    "import requests\n",
    "from bs4 import BeautifulSoup"
   ]
  },
  {
   "cell_type": "code",
   "execution_count": 53,
   "id": "5493f39c",
   "metadata": {},
   "outputs": [
    {
     "name": "stdout",
     "output_type": "stream",
     "text": [
      "http://lib.e-mordovia.ru/Library/\n"
     ]
    }
   ],
   "source": [
    "burl = 'http://lib.e-mordovia.ru/Library/'\n",
    "print(burl)"
   ]
  },
  {
   "cell_type": "code",
   "execution_count": 6,
   "id": "f11eaa91",
   "metadata": {},
   "outputs": [],
   "source": [
    "for page_id in range(1, 5):\n",
    "    list_page = BeautifulSoup(requests.get(f'{burl}?Page={page_id}').text)\n",
    "    break"
   ]
  },
  {
   "cell_type": "code",
   "execution_count": 51,
   "id": "442808f7",
   "metadata": {},
   "outputs": [
    {
     "name": "stdout",
     "output_type": "stream",
     "text": [
      "7\n",
      "«Мейле» («После»)\n",
      "http://lib.e-mordovia.ru/Library/data/ArapovAleksandrVasil'evich/file.rar\n",
      "9\n",
      "Колма вармат\n",
      "http://lib.e-mordovia.ru/Library/data/Balankin/001.pdf\n",
      "11\n",
      "Избранные произведения\n",
      "http://lib.e-mordovia.ru/Library/data/BeBANMaksimAfanas'evich/002.zip\n",
      "12\n",
      "УЛЬСЬ ПИНГЕ... (БЫЛО ВРЕМЯ...)\n",
      "http://lib.e-mordovia.ru/Library/data/BeZBoRoDoVMihailIl'ich/002.zip\n",
      "16\n",
      "МОРДОВСКИЕ НАРОДНЫЕ ИГРЫ\n",
      "http://lib.e-mordovia.ru/Library/data/BrizhinskiyVasiliySergeevich/001.pdf\n",
      "31\n",
      "Тюштянь торамац\n",
      "http://lib.e-mordovia.ru/Library/data/GolenkovNikolaiiBorisovich/002.doc\n",
      "42\n",
      "Цёфксонь ёфкст\n",
      "http://lib.e-mordovia.ru/Library/data/EjovAnatoliiiFedorovich/002.doc\n",
      "55\n",
      "«Ашо нармунть» («Белые птицы»)\n",
      "http://lib.e-mordovia.ru/Library/data/Kemaiikina/001.rtf\n",
      "69\n",
      "Сембодонга мазыняй\n",
      "http://lib.e-mordovia.ru/Library/data/kosheleva/001.pdf\n",
      "75\n",
      "КОЧКАЗЬ ПРОИЗВЕДЕНИЯТ (ИЗБРАННЫЕ ПРОИЗВЕДЕНИЯ)\n",
      "http://lib.e-mordovia.ru/Library/data/KyldyrkaevEAkovEAkovlevich/002.zip\n",
      "75\n",
      "ПОЭМАТ ДЫ ЁВКСТ (ПОЭМЫ И СКАЗКИ)\n",
      "http://lib.e-mordovia.ru/Library/data/KyldyrkaevEAkovEAkovlevich/001.zip\n",
      "77\n",
      "КОЧКАЗЬ ПРОИЗВЕДЕНИЯТ (ИЗБРАННЫЕ ПРОИЗВЕДЕНИЯ)\n",
      "http://lib.e-mordovia.ru/Library/data/KytorkinAndreiiDmitrievich/002.zip\n",
      "81\n",
      "«Эрян надиязь» («Живу надеждою»)\n",
      "\n",
      "http://lib.e-mordovia.ru/Library/data/LobanovViktorMihaiilovich/001_File.rar\n",
      "84\n",
      "Иля пува, варма\n",
      "http://lib.e-mordovia.ru/Library/data/LiyleakinaSerafimaMarkovna/001.rtf\n",
      "119\n",
      "КОЧКАЗЬ ПРОИЗВЕДЕНИЯТ\n",
      "http://lib.e-mordovia.ru/Library/data/RadaevVasiliiiKyz'mich/002.pdf\n",
      "127\n",
      "Мордовские пословицы, поговорки, приметы и загадки\n",
      "http://lib.e-mordovia.ru/Library/data/SedovaLidiyaVasil'evna/001.pdf\n",
      "129\n",
      "Иное решение\n",
      "http://lib.e-mordovia.ru/Library/data/SemyonovAndrey/semenov_andrei_inoe_reshenie.rtf.zip\n",
      "146\n",
      "Очерки по истории формирования мордовских письменно-литературных языков\n",
      "http://lib.e-mordovia.ru/Library/data/FeoktistovAlexandrPavlovich/001.pdf\n",
      "159\n",
      "Энциклопедия Мордовии\n",
      "http://lib.e-mordovia.ru/Library/http://kulyat.info/enciclopedia_moksha.html\n",
      "160\n",
      "Энциклопедия Мордовии\n",
      "http://lib.e-mordovia.ru/Library/http://kulyat.info/enciclopedia_erzya.html\n",
      "161\n",
      "Спортивная Мордовия\n",
      "http://lib.e-mordovia.ru/Library/data/SportMordovia/sm.rar\n"
     ]
    }
   ],
   "source": [
    "for author_id in range(0, 167):\n",
    "    author_page = BeautifulSoup(requests.get(f'{burl}?id={author_id}').text)\n",
    "    refs = author_page.find('div', {'class': 'content'}).find('div', {'class': 'refs'})\n",
    "    if not refs:\n",
    "        continue\n",
    "    for li in refs.findAll('li'):\n",
    "        links = li.findAll('a')\n",
    "        if not links:\n",
    "            continue\n",
    "        print(author_id)\n",
    "        print(li.find('h3').text)\n",
    "        print(burl + li.find('a')['href'])"
   ]
  },
  {
   "cell_type": "code",
   "execution_count": 39,
   "id": "2123a764",
   "metadata": {},
   "outputs": [],
   "source": [
    "author_id = 11\n",
    "author_page = BeautifulSoup(requests.get(f'{burl}?id={author_id}').text)"
   ]
  },
  {
   "cell_type": "code",
   "execution_count": 40,
   "id": "9a7e95d9",
   "metadata": {},
   "outputs": [
    {
     "data": {
      "text/plain": [
       "<div class=\"refs\">\n",
       "<ol start=\"1\"></ol><form method=\"get\" name=\"Creativity\"> <li><h3>Избранные произведения</h3>\n",
       "<table border=\"0\" cellpadding=\"0\" cellspacing=\"0\" width=\"95%\">\n",
       "<tr>\n",
       "<td rowspan=\"2\" width=\"90%\"><font class=\"content\">\n",
       "<p>Сборник. \n",
       "  <br/>\n",
       "480 стр. \n",
       "  <br/>\n",
       "На мордовском-мокша языке. \n",
       "  <br/>\n",
       "Саранск, Мордовское книжное издательство, 2009 год. \n",
       "  <br/>\n",
       "Тираж 500 экз.</p>\n",
       "</font></td>\n",
       "<td><img class=\"aphoto\" height=\"170px\" onclick='CreateWindow(\"ShowPhoto.php?Number=0\",\"\",0,0,0,300,\"yes\",\"yes\");' src=\"\" style=\"cursor:pointer;\"/> <input name=\"image_0\" type=\"hidden\" value=\"\"/></td>\n",
       "</tr>\n",
       "<tr>\n",
       "<td><a href=\"data/BeBANMaksimAfanas'evich/002.zip\"><img alt=\"Загрузить файл произведения\" border=\"0\" height=\"22\" src=\"/bitrix/templates/template2/img/download_link.gif\" width=\"108\"/></a> </td>\n",
       "</tr>\n",
       "</table>\n",
       "</li> <li><h3>«Тундань нармотть» («Птицы небесные»)</h3>\n",
       "<table border=\"0\" cellpadding=\"0\" cellspacing=\"0\" width=\"95%\">\n",
       "<tr>\n",
       "<td rowspan=\"2\" width=\"90%\"><font class=\"content\">Роман.<br/>\n",
       "240 стр.<br/>\n",
       "На мордовском-мокша языке.<br/>\n",
       "Саранск, Мордовское книжное издательство, 1962 год.<br/>\n",
       "Тираж 1000 экз.</font></td>\n",
       "<td><img class=\"aphoto\" height=\"170px\" onclick='CreateWindow(\"ShowPhoto.php?Number=1\",\"\",0,0,0,300,\"yes\",\"yes\");' src=\"data/BeBANMaksimAfanas'evich/001_Foto.jpg\" style=\"cursor:pointer;\"/> <input name=\"image_1\" type=\"hidden\" value=\"data/BeBANMaksimAfanas'evich/001_Foto.jpg\"/></td>\n",
       "</tr>\n",
       "<tr>\n",
       "<td> </td>\n",
       "</tr>\n",
       "</table>\n",
       "</li>\n",
       "</form></div>"
      ]
     },
     "execution_count": 40,
     "metadata": {},
     "output_type": "execute_result"
    }
   ],
   "source": [
    "refs = author_page.find('div', {'class': 'content'}).find('div', {'class': 'refs'})\n",
    "refs"
   ]
  },
  {
   "cell_type": "code",
   "execution_count": 41,
   "id": "7448e904",
   "metadata": {},
   "outputs": [
    {
     "name": "stdout",
     "output_type": "stream",
     "text": [
      "<h3>Избранные произведения</h3>\n",
      "[<a href=\"data/BeBANMaksimAfanas'evich/002.zip\"><img alt=\"Загрузить файл произведения\" border=\"0\" height=\"22\" src=\"/bitrix/templates/template2/img/download_link.gif\" width=\"108\"/></a>]\n",
      "<h3>«Тундань нармотть» («Птицы небесные»)</h3>\n",
      "[]\n"
     ]
    }
   ],
   "source": [
    "for li in refs.findAll('li'):\n",
    "    print(li.find('h3'))\n",
    "    print(li.findAll('a'))"
   ]
  },
  {
   "cell_type": "code",
   "execution_count": 45,
   "id": "7e7f2332",
   "metadata": {},
   "outputs": [
    {
     "data": {
      "text/plain": [
       "<a href=\"data/BeBANMaksimAfanas'evich/002.zip\"><img alt=\"Загрузить файл произведения\" border=\"0\" height=\"22\" src=\"/bitrix/templates/template2/img/download_link.gif\" width=\"108\"/></a>"
      ]
     },
     "execution_count": 45,
     "metadata": {},
     "output_type": "execute_result"
    }
   ],
   "source": [
    "a = refs.find('li').find('a')\n",
    "a"
   ]
  },
  {
   "cell_type": "code",
   "execution_count": 48,
   "id": "97848835",
   "metadata": {},
   "outputs": [
    {
     "data": {
      "text/plain": [
       "\"data/BeBANMaksimAfanas'evich/002.zip\""
      ]
     },
     "execution_count": 48,
     "metadata": {},
     "output_type": "execute_result"
    }
   ],
   "source": []
  },
  {
   "cell_type": "code",
   "execution_count": null,
   "id": "89b37b62",
   "metadata": {},
   "outputs": [],
   "source": []
  }
 ],
 "metadata": {
  "kernelspec": {
   "display_name": "Python 3 (ipykernel)",
   "language": "python",
   "name": "python3"
  },
  "language_info": {
   "codemirror_mode": {
    "name": "ipython",
    "version": 3
   },
   "file_extension": ".py",
   "mimetype": "text/x-python",
   "name": "python",
   "nbconvert_exporter": "python",
   "pygments_lexer": "ipython3",
   "version": "3.9.6"
  }
 },
 "nbformat": 4,
 "nbformat_minor": 5
}
