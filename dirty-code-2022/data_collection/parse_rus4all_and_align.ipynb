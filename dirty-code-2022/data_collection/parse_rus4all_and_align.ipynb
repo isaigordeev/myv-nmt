{
 "cells": [
  {
   "cell_type": "code",
   "execution_count": 77,
   "id": "f10d4ace",
   "metadata": {},
   "outputs": [],
   "source": [
    "import requests\n",
    "import random\n",
    "import pandas as pd\n",
    "from bs4 import BeautifulSoup\n",
    "from tqdm.auto import tqdm, trange\n",
    "from heapdict import heapdict\n",
    "import razdel\n",
    "import json\n",
    "import re"
   ]
  },
  {
   "cell_type": "markdown",
   "id": "693d55ce",
   "metadata": {},
   "source": [
    "https://rus4all.ru/myv"
   ]
  },
  {
   "cell_type": "code",
   "execution_count": 86,
   "id": "74a1488f",
   "metadata": {},
   "outputs": [],
   "source": [
    "def text_with_newlines(elem):\n",
    "    text = ''\n",
    "    for e in elem.descendants:\n",
    "        if isinstance(e, str):\n",
    "            text += e.strip()\n",
    "        elif e.name == 'br':\n",
    "            text += '\\n'\n",
    "        elif e.name == 'p':\n",
    "            text += '\\n\\n'\n",
    "    text = re.sub('\\n\\n+', '\\n\\n', text)\n",
    "    text = '\\n'.join([line for line in text.split('\\n') if not line or re.match('.*[а-яa-z]', line.lower())]).strip()\n",
    "    text = re.sub('\\n\\n+', '\\n\\n', text)\n",
    "    return text"
   ]
  },
  {
   "cell_type": "code",
   "execution_count": 91,
   "id": "9b2f90ff",
   "metadata": {},
   "outputs": [],
   "source": [
    "soup = BeautifulSoup(requests.get('https://rus4all.ru/myv/20190523/9392/Bez-slov.html').text)"
   ]
  },
  {
   "cell_type": "code",
   "execution_count": 92,
   "id": "400d06bc",
   "metadata": {},
   "outputs": [
    {
     "name": "stdout",
     "output_type": "stream",
     "text": [
      "Валтомо\n",
      "\n",
      "Мон тонь вешитинь верде, тосто,\n",
      "Ков а весень пачколить мелест.\n",
      "Мон тонь артытинь эсень коцтос —\n",
      "Лембе валдокс чоподанть келес.\n",
      "\n",
      "Мон совавтытинь валрисьмезэнь —\n",
      "Эрьва гайтьсэнть эрязо леметь.\n",
      "А тон кортыть видьстэ сельмезэнь:\n",
      "Зярдояк монень эзить кеме.\n",
      "\n",
      "Кортыть тон: сталмовтомот валтнэ —\n",
      "Видечист онкстамс кона ёндо? —\n",
      "Седе паро — мезтькак а алтнемс,\n",
      "Сестэ а кинь ули чумондомс.\n",
      "\n",
      "Кода мерят, топавтса мелеть, —\n",
      "Кадык чемень валсынзе онкстнэнь:\n",
      "Панжсынь валтомо мон икелеть\n",
      "Модамасторонь ниле ёнкстнэнь.\n"
     ]
    }
   ],
   "source": [
    "print(text_with_newlines(soup.find('div', {'id':\"tab-source\"})))"
   ]
  },
  {
   "cell_type": "code",
   "execution_count": 93,
   "id": "97e763a3",
   "metadata": {},
   "outputs": [
    {
     "name": "stdout",
     "output_type": "stream",
     "text": [
      "Без слов\n",
      "\n",
      "Тебя я выпросила свыше,\n",
      "Куда не все мольбы доходят.\n",
      "Ты на холсте моём был вышит —\n",
      "По темноте теплом восхода.\n",
      "\n",
      "И лишь тобой дышали строки,\n",
      "Хранили звуки твоё имя.\n",
      "А ты искал во мне пороки,\n",
      "Считая все слова пустыми.\n",
      "\n",
      "А ты твердил: слова что ветер,\n",
      "Правдивы ли, измерить нечем;\n",
      "Чтобы не быть за них в ответе,\n",
      "Не обещай — так будет легче.\n",
      "\n",
      "Исполню все твои заветы,\n",
      "Ослушаться тебя не смея.\n",
      "Четыре стороны у света —\n",
      "Без слов открою их тебе я.\n"
     ]
    }
   ],
   "source": [
    "print(text_with_newlines(soup.find('div', {'id':\"tab-literary\"})))"
   ]
  },
  {
   "cell_type": "code",
   "execution_count": 90,
   "id": "60cd21e5",
   "metadata": {
    "scrolled": true
   },
   "outputs": [
    {
     "name": "stdout",
     "output_type": "stream",
     "text": [
      "https://rus4all.ru/myv/20191122/21056/Beda.html\n",
      "bi\n",
      "https://rus4all.ru/myv/20190523/9392/Bez-slov.html\n",
      "bi\n",
      "https://rus4all.ru/myv/20191122/20996/Bez-tebya-ya.html\n",
      "bi\n",
      "https://rus4all.ru/myv/20190523/9511/Vremya.html\n",
      "bi\n",
      "https://rus4all.ru/myv/20190523/9493/Vspominayu.html\n",
      "bi\n",
      "https://rus4all.ru/myv/20191122/21083/V-shkolu.html\n",
      "mono\n",
      "https://rus4all.ru/myv/20191122/21004/Golubykh-tumanov-livni.html\n",
      "bi\n",
      "https://rus4all.ru/myv/20190523/9424/Dni-begut-kak-v-chistom-pole-koni.html\n",
      "bi\n",
      "https://rus4all.ru/myv/20191122/21107/Zhil-byl-Rodnik.html\n",
      "mono\n",
      "https://rus4all.ru/myv/20200310/25702/Zatoptannyy-venok.html\n",
      "bi\n",
      "https://rus4all.ru/myv/20191122/21067/Zvzdochka.html\n",
      "mono\n",
      "https://rus4all.ru/myv/20191122/20968/Kak-s-gusinykh-krylev-perya.html\n",
      "bi\n",
      "https://rus4all.ru/myv/20191122/21091/Karta-lesa.html\n",
      "mono\n",
      "https://rus4all.ru/myv/20191122/21123/Kolyuchka.html\n",
      "mono\n",
      "https://rus4all.ru/myv/20190523/9485/Leto-put-pochti-preodolelo.html\n",
      "bi\n",
      "https://rus4all.ru/myv/20201008/29418/Lyubimka.html\n",
      "bi\n",
      "https://rus4all.ru/myv/20191122/21099/Lyagatayka-iego-druzya.html\n",
      "mono\n",
      "https://rus4all.ru/myv/20190523/9442/Mame.html\n",
      "bi\n",
      "https://rus4all.ru/myv/20200617/27752/Medvezhiy-ugol.html\n",
      "bi\n",
      "https://rus4all.ru/myv/20191122/21115/Oblachko.html\n",
      "mono\n",
      "https://rus4all.ru/myv/20191122/21020/Pervyy-sneg-kak-pervyy-stikh.html\n",
      "bi\n",
      "https://rus4all.ru/myv/20201008/29434/Podarok.html\n",
      "bi\n",
      "https://rus4all.ru/myv/20190523/9400/Pokorit-legko-vershinu.html\n",
      "bi\n",
      "https://rus4all.ru/myv/20200310/25711/Posledniy-iz-Ermolaevki.html\n",
      "bi\n",
      "https://rus4all.ru/myv/20201008/29426/Pochemu.html\n",
      "bi\n",
      "https://rus4all.ru/myv/20191122/21131/Pustaya-golova.html\n",
      "mono\n",
      "https://rus4all.ru/myv/20190523/9450/Pustota-v-dushe-Ni-kroshki-net.html\n",
      "bi\n",
      "https://rus4all.ru/myv/20190523/9520/Put-moy-narastaet.html\n",
      "mono\n",
      "https://rus4all.ru/myv/20191122/21040/Raby-Khozyaeva.html\n",
      "bi\n",
      "https://rus4all.ru/myv/20191122/20988/Rassvet.html\n",
      "bi\n",
      "https://rus4all.ru/myv/20190523/9408/Rasskazhi-mne-mama.html\n",
      "bi\n",
      "https://rus4all.ru/myv/20191122/21048/Sam-ne-vrsh--navrut-drugie.html\n",
      "bi\n",
      "https://rus4all.ru/myv/20191122/21075/Sapogi.html\n",
      "mono\n",
      "https://rus4all.ru/myv/20190523/9384/Sila.html\n",
      "bi\n",
      "https://rus4all.ru/myv/20190523/9416/Soberu-upavshikh-zvzd-v-podol-ya.html\n",
      "bi\n",
      "https://rus4all.ru/myv/20190523/9502/Solnyshko-saditsya.html\n",
      "bi\n",
      "https://rus4all.ru/myv/20220501/46900/S-frontovym-privetom.html\n",
      "mono\n",
      "https://rus4all.ru/myv/20191122/21012/Ty-menya-ne-brani-za-nevernost.html\n",
      "bi\n",
      "https://rus4all.ru/myv/20191122/20976/Ty-snova-nezhno-v-serdtse-postuchala.html\n",
      "bi\n",
      "https://rus4all.ru/myv/20191122/21032/Utro.html\n",
      "bi\n",
      "https://rus4all.ru/chm/20191122/21139/Chrnaya-babochka.html\n",
      "bi\n"
     ]
    }
   ],
   "source": [
    "pairs = []\n",
    "\n",
    "for page in range(1, 6):\n",
    "    soup = BeautifulSoup(requests.get(f'https://rus4all.ru/ajax/rubric/default_abc.html?list_sid=myv&page={page}').text)\n",
    "    for h in soup.findAll('h3'):\n",
    "        url = 'https://rus4all.ru' + h.find('a')['href']\n",
    "        print(url)\n",
    "        soup = BeautifulSoup(requests.get(url).text)\n",
    "        if soup.find('div', {'id':\"tab-source\"}) and soup.find('div', {'id':\"tab-literary\"}):\n",
    "            pairs.append({\n",
    "                'url': url, \n",
    "                'myv': text_with_newlines(soup.find('div', {'id':\"tab-source\"})),\n",
    "                'ru': text_with_newlines(soup.find('div', {'id':\"tab-literary\"}))\n",
    "            })\n",
    "            print('bi')\n",
    "        else:\n",
    "            print('mono')"
   ]
  },
  {
   "cell_type": "code",
   "execution_count": 94,
   "id": "f3642662",
   "metadata": {},
   "outputs": [
    {
     "name": "stdout",
     "output_type": "stream",
     "text": [
      "30\n"
     ]
    }
   ],
   "source": [
    "print(len(pairs))"
   ]
  },
  {
   "cell_type": "code",
   "execution_count": 95,
   "id": "28ae8c24",
   "metadata": {},
   "outputs": [],
   "source": [
    "with open('other_sources/rus4all_sections_unaligned.json', 'w') as f:\n",
    "    json.dump(pairs, f)"
   ]
  },
  {
   "cell_type": "markdown",
   "id": "1ebffd25",
   "metadata": {},
   "source": [
    "# trying to align"
   ]
  },
  {
   "cell_type": "code",
   "execution_count": 1,
   "id": "a9c34a2c",
   "metadata": {},
   "outputs": [],
   "source": [
    "import json\n",
    "with open('other_sources/rus4all_sections_unaligned.json', 'r') as f:\n",
    "    pairs = json.load(f)"
   ]
  },
  {
   "cell_type": "code",
   "execution_count": 2,
   "id": "32b4436e",
   "metadata": {},
   "outputs": [],
   "source": [
    "import pandas as pd\n",
    "from collections import defaultdict\n",
    "import matplotlib.pyplot as plt\n",
    "import numpy as np\n",
    "from razdel import sentenize, tokenize\n",
    "import json \n",
    "import re\n",
    "import random\n",
    "from tqdm.auto import tqdm, trange\n",
    "import razdel"
   ]
  },
  {
   "cell_type": "code",
   "execution_count": 3,
   "id": "7cb1aa07",
   "metadata": {},
   "outputs": [
    {
     "name": "stderr",
     "output_type": "stream",
     "text": [
      "Some weights of the model checkpoint at labse_erzya_v0 were not used when initializing BertModel: ['cls.predictions.transform.LayerNorm.weight', 'cls.predictions.decoder.weight', 'cls.predictions.decoder.bias', 'cls.predictions.transform.dense.weight', 'cls.seq_relationship.bias', 'cls.seq_relationship.weight', 'cls.predictions.transform.dense.bias', 'cls.predictions.bias', 'cls.predictions.transform.LayerNorm.bias']\n",
      "- This IS expected if you are initializing BertModel from the checkpoint of a model trained on another task or with another architecture (e.g. initializing a BertForSequenceClassification model from a BertForPreTraining model).\n",
      "- This IS NOT expected if you are initializing BertModel from the checkpoint of a model that you expect to be exactly identical (initializing a BertForSequenceClassification model from a BertForSequenceClassification model).\n"
     ]
    }
   ],
   "source": [
    "import torch\n",
    "from transformers import AutoTokenizer, AutoModel\n",
    "mname = 'labse_erzya_v0'\n",
    "tokenizer = AutoTokenizer.from_pretrained(mname)\n",
    "model = AutoModel.from_pretrained(mname)"
   ]
  },
  {
   "cell_type": "code",
   "execution_count": 4,
   "id": "923d388d",
   "metadata": {},
   "outputs": [],
   "source": [
    "model.cuda();"
   ]
  },
  {
   "cell_type": "code",
   "execution_count": 5,
   "id": "c51ad4c5",
   "metadata": {},
   "outputs": [],
   "source": [
    "def embed(text):\n",
    "    encoded_input = tokenizer(text, padding=True, truncation=True, max_length=128, return_tensors='pt')\n",
    "    with torch.inference_mode():\n",
    "        model_output = model(**encoded_input.to(model.device))\n",
    "    embeddings = model_output.pooler_output\n",
    "    embeddings = torch.nn.functional.normalize(embeddings)\n",
    "    return embeddings[0].cpu().numpy()"
   ]
  },
  {
   "cell_type": "code",
   "execution_count": 6,
   "id": "0e9be4e4",
   "metadata": {},
   "outputs": [],
   "source": [
    "def center_norm(v):\n",
    "    v = v - v.mean(0)\n",
    "    return v /  (v**2).sum(1, keepdims=True) ** 0.5\n",
    "\n",
    "\n",
    "def center_dot(x, y):\n",
    "    m = (x.sum(0) + y.sum(0)) / (x.shape[0] + y.shape[0])\n",
    "    x = x - m\n",
    "    y = y - m\n",
    "    x =  x /  (x**2).sum(1, keepdims=True) ** 0.5\n",
    "    y =  y /  (y**2).sum(1, keepdims=True) ** 0.5\n",
    "    return np.dot(x, y.T)"
   ]
  },
  {
   "cell_type": "code",
   "execution_count": 7,
   "id": "09961a22",
   "metadata": {},
   "outputs": [],
   "source": [
    "def get_top_mean_by_row(x, k=5):\n",
    "    m, n = x.shape\n",
    "    k = min(k, n)\n",
    "    topk_indices = np.argpartition(x, -k, axis=1)[:, -k:]\n",
    "    rows, _ = np.indices((m, k))\n",
    "    return x[rows, topk_indices].mean(1)"
   ]
  },
  {
   "cell_type": "code",
   "execution_count": 8,
   "id": "79f1b54b",
   "metadata": {},
   "outputs": [],
   "source": [
    "def align3(sims):\n",
    "    \n",
    "    #sims = np.dot(center_norm(orig_vecs), center_norm(sum_vecs).T) ** 3\n",
    "    #sims = center_dot(orig_embeds, sum_embeds) #** 3\n",
    "\n",
    "    rewards = np.zeros_like(sims)\n",
    "    choices = np.zeros_like(sims).astype(int)  # 1: choose this pair, 2: decrease i, 3: decrease j\n",
    "\n",
    "    # алгоритм, разрешающий пропускать сколько угодно пар, лишь бы была монотонность\n",
    "    for i in range(sims.shape[0]):\n",
    "        for j in range(0, sims.shape[1]):\n",
    "            # вариант первый: выровнять i-тое предложение с j-тым\n",
    "            score_add = sims[i, j]\n",
    "            if i > 0 and j > 0:  # вот как тогда выровняются предыдущие \n",
    "                score_add += rewards[i-1, j-1]\n",
    "                choices[i, j] = 1\n",
    "            best = score_add\n",
    "            if i > 0 and rewards[i-1, j] > best:\n",
    "                best = rewards[i-1, j]\n",
    "                choices[i, j] = 2\n",
    "            if j > 0 and rewards[i, j-1] > best:\n",
    "                best = rewards[i, j-1]\n",
    "                choices[i, j] = 3\n",
    "            rewards[i, j] = best\n",
    "    alignment = []\n",
    "    i = sims.shape[0] - 1\n",
    "    j = sims.shape[1] - 1\n",
    "    while i > 0 and j > 0:\n",
    "        if choices[i, j] == 1:\n",
    "            alignment.append([i, j])\n",
    "            i -= 1\n",
    "            j -= 1\n",
    "        elif choices[i, j] == 2:\n",
    "            i -= 1\n",
    "        else:\n",
    "            j -= 1\n",
    "    return alignment[::-1]"
   ]
  },
  {
   "cell_type": "code",
   "execution_count": 9,
   "id": "448cd8c4",
   "metadata": {},
   "outputs": [],
   "source": [
    "def make_sents(text):\n",
    "    sents = [s.text.replace('\\n', ' ').strip() for p in text.split('\\n\\n') for s in razdel.sentenize(p)]\n",
    "    sents = [s for s in sents if s]\n",
    "    return sents"
   ]
  },
  {
   "cell_type": "code",
   "execution_count": 12,
   "id": "48e7ed5c",
   "metadata": {},
   "outputs": [
    {
     "name": "stdout",
     "output_type": "stream",
     "text": [
      "https://rus4all.ru/myv/20191122/21056/Beda.html\n",
      "4 4\n",
      "5 5\n",
      "3 3\n",
      "11 11\n",
      "https://rus4all.ru/myv/20190523/9392/Bez-slov.html\n",
      "8 7\n",
      "9 8\n",
      "5 5\n",
      "21 21\n",
      "https://rus4all.ru/myv/20191122/20996/Bez-tebya-ya.html\n",
      "9 11\n",
      "9 11\n",
      "2 2\n",
      "18 19\n",
      "https://rus4all.ru/myv/20190523/9511/Vremya.html\n",
      "6 8\n",
      "7 9\n",
      "4 4\n",
      "16 16\n",
      "https://rus4all.ru/myv/20190523/9493/Vspominayu.html\n",
      "11 9\n",
      "11 9\n",
      "4 4\n",
      "16 16\n",
      "https://rus4all.ru/myv/20191122/21004/Golubykh-tumanov-livni.html\n",
      "5 6\n",
      "5 6\n",
      "3 3\n",
      "14 14\n",
      "https://rus4all.ru/myv/20190523/9424/Dni-begut-kak-v-chistom-pole-koni.html\n",
      "7 8\n",
      "7 8\n",
      "3 3\n",
      "14 14\n",
      "https://rus4all.ru/myv/20200310/25702/Zatoptannyy-venok.html\n",
      "290 230\n",
      "301 243\n",
      "107 106\n",
      "213 211\n",
      "https://rus4all.ru/myv/20191122/20968/Kak-s-gusinykh-krylev-perya.html\n",
      "2 4\n",
      "2 4\n",
      "2 2\n",
      "9 9\n",
      "https://rus4all.ru/myv/20190523/9485/Leto-put-pochti-preodolelo.html\n",
      "5 5\n",
      "5 5\n",
      "3 3\n",
      "14 14\n",
      "https://rus4all.ru/myv/20201008/29418/Lyubimka.html\n",
      "27 27\n",
      "30 30\n",
      "14 13\n",
      "27 25\n",
      "https://rus4all.ru/myv/20190523/9442/Mame.html\n",
      "8 9\n",
      "9 10\n",
      "4 4\n",
      "16 16\n",
      "https://rus4all.ru/myv/20200617/27752/Medvezhiy-ugol.html\n",
      "496 1635\n",
      "517 1682\n",
      "129 492\n",
      "264 1019\n",
      "https://rus4all.ru/myv/20191122/21020/Pervyy-sneg-kak-pervyy-stikh.html\n",
      "4 5\n",
      "4 5\n",
      "1 1\n",
      "8 8\n",
      "https://rus4all.ru/myv/20201008/29434/Podarok.html\n",
      "23 22\n",
      "26 25\n",
      "14 13\n",
      "27 25\n",
      "https://rus4all.ru/myv/20190523/9400/Pokorit-legko-vershinu.html\n",
      "2 2\n",
      "2 2\n",
      "1 1\n",
      "8 8\n",
      "https://rus4all.ru/myv/20200310/25711/Posledniy-iz-Ermolaevki.html\n",
      "623 632\n",
      "624 634\n",
      "148 149\n",
      "295 297\n",
      "https://rus4all.ru/myv/20201008/29426/Pochemu.html\n",
      "19 18\n",
      "21 21\n",
      "15 13\n",
      "29 25\n",
      "https://rus4all.ru/myv/20190523/9450/Pustota-v-dushe-Ni-kroshki-net.html\n",
      "4 4\n",
      "4 4\n",
      "1 1\n",
      "4 4\n",
      "https://rus4all.ru/myv/20191122/21040/Raby-Khozyaeva.html\n",
      "25 25\n",
      "27 28\n",
      "11 11\n",
      "50 50\n",
      "https://rus4all.ru/myv/20191122/20988/Rassvet.html\n",
      "6 4\n",
      "7 5\n",
      "3 3\n",
      "11 11\n",
      "https://rus4all.ru/myv/20190523/9408/Rasskazhi-mne-mama.html\n",
      "8 10\n",
      "9 10\n",
      "5 5\n",
      "21 21\n",
      "https://rus4all.ru/myv/20191122/21048/Sam-ne-vrsh--navrut-drugie.html\n",
      "10 8\n",
      "10 8\n",
      "4 4\n",
      "19 19\n",
      "https://rus4all.ru/myv/20190523/9384/Sila.html\n",
      "30 36\n",
      "31 37\n",
      "6 6\n",
      "42 42\n",
      "https://rus4all.ru/myv/20190523/9416/Soberu-upavshikh-zvzd-v-podol-ya.html\n",
      "7 5\n",
      "7 5\n",
      "1 1\n",
      "10 10\n",
      "https://rus4all.ru/myv/20190523/9502/Solnyshko-saditsya.html\n",
      "7 6\n",
      "7 6\n",
      "3 3\n",
      "14 14\n",
      "https://rus4all.ru/myv/20191122/21012/Ty-menya-ne-brani-za-nevernost.html\n",
      "2 4\n",
      "2 4\n",
      "2 2\n",
      "9 9\n",
      "https://rus4all.ru/myv/20191122/20976/Ty-snova-nezhno-v-serdtse-postuchala.html\n",
      "3 5\n",
      "3 5\n",
      "2 2\n",
      "9 9\n",
      "https://rus4all.ru/myv/20191122/21032/Utro.html\n",
      "6 6\n",
      "7 7\n",
      "4 4\n",
      "16 16\n",
      "https://rus4all.ru/chm/20191122/21139/Chrnaya-babochka.html\n",
      "15 8\n",
      "16 10\n",
      "9 9\n",
      "48 50\n"
     ]
    }
   ],
   "source": [
    "for p in pairs:\n",
    "    print(p['url'])\n",
    "    sents_ru = [s.text for s in razdel.sentenize(p['ru'])]\n",
    "    sents_er = [s.text for s in razdel.sentenize(p['myv'])]\n",
    "    print(len(sents_ru), len(sents_er))\n",
    "    # print(len(sent_tokenize(p['ru'])), len(sent_tokenize(p['myv'])))\n",
    "    print(len(make_sents(p['ru'])), len(make_sents(p['myv'])))\n",
    "    print(len(p['ru'].split('\\n\\n')), len(p['myv'].split('\\n\\n')))\n",
    "    print(len(p['ru'].split('\\n')), len(p['myv'].split('\\n')))"
   ]
  },
  {
   "cell_type": "markdown",
   "id": "ebf70c12",
   "metadata": {},
   "source": [
    "0 - тривиально\n",
    "1 - только по абзацам,\n",
    "2 - динамическое программирование по предложениям\n",
    "3 - лучше по четверостишиям\n",
    "4 - можно по предложениям, но надо следить, чтобы длины примерно совпадали\n",
    "7 - очень плохо выравнивает, сложно\n",
    "12 - очень сложно и несимметрично\n",
    "14 - супер легко, скор 60% / 55%\n",
    "16 - супер легко, скор 60% со штрафом за длину и 50% без "
   ]
  },
  {
   "cell_type": "code",
   "execution_count": 32,
   "id": "836d51dc",
   "metadata": {},
   "outputs": [],
   "source": [
    "p = random.choice(pairs)"
   ]
  },
  {
   "cell_type": "code",
   "execution_count": 33,
   "id": "acb7b804",
   "metadata": {},
   "outputs": [
    {
     "name": "stdout",
     "output_type": "stream",
     "text": [
      "9 10\n"
     ]
    }
   ],
   "source": [
    "sents_er = make_sents(p['myv'])\n",
    "sents_ru = make_sents(p['ru'])\n",
    "print(len(sents_ru), len(sents_er))"
   ]
  },
  {
   "cell_type": "code",
   "execution_count": 34,
   "id": "b832c128",
   "metadata": {},
   "outputs": [
    {
     "data": {
      "application/vnd.jupyter.widget-view+json": {
       "model_id": "0161814a9b4f4b5ba4cffcf7096b3d84",
       "version_major": 2,
       "version_minor": 0
      },
      "text/plain": [
       "  0%|          | 0/9 [00:00<?, ?it/s]"
      ]
     },
     "metadata": {},
     "output_type": "display_data"
    },
    {
     "data": {
      "application/vnd.jupyter.widget-view+json": {
       "model_id": "553cd66f6ad946b0bf51d145f1026303",
       "version_major": 2,
       "version_minor": 0
      },
      "text/plain": [
       "  0%|          | 0/10 [00:00<?, ?it/s]"
      ]
     },
     "metadata": {},
     "output_type": "display_data"
    }
   ],
   "source": [
    "emb_ru = np.stack([embed(s) for s in tqdm(sents_ru)])\n",
    "emb_er = np.stack([embed(s) for s in tqdm(sents_er)])"
   ]
  },
  {
   "cell_type": "code",
   "execution_count": 35,
   "id": "88d19340",
   "metadata": {},
   "outputs": [
    {
     "name": "stdout",
     "output_type": "stream",
     "text": [
      "0.3531359730503176\n"
     ]
    },
    {
     "data": {
      "image/png": "[encoded data removed]",
      "text/plain": [
       "<Figure size 864x432 with 2 Axes>"
      ]
     },
     "metadata": {
      "needs_background": "light"
     },
     "output_type": "display_data"
    }
   ],
   "source": [
    "pen = np.array([[min(len(x), len(y)) / max(len(x), len(y)) for x in sents_er] for y in sents_ru])\n",
    "sims = np.maximum(0, np.dot(emb_ru, emb_er.T)) ** 1 * pen\n",
    "\n",
    "alpha = 0.2\n",
    "penalty = 0.2\n",
    "sims_rel = (sims.T - get_top_mean_by_row(sims) * alpha).T - get_top_mean_by_row(sims.T) * alpha - penalty\n",
    "\n",
    "alignment = align3(sims_rel)\n",
    "\n",
    "print(sum(sims[i, j] for i, j in alignment) / min(sims.shape))\n",
    "plt.figure(figsize=(12, 6))\n",
    "plt.subplot(1, 2, 1)\n",
    "plt.imshow(sims_rel)\n",
    "plt.subplot(1, 2, 2)\n",
    "plt.scatter(*list(zip(*alignment)), s=5);"
   ]
  },
  {
   "cell_type": "markdown",
   "id": "5f40c8c1",
   "metadata": {},
   "source": [
    "общий: 10% - плохо, 32% - хорошо\n",
    "\n",
    "частный: 39% плохо, 59% хорошо"
   ]
  },
  {
   "cell_type": "code",
   "execution_count": 36,
   "id": "148c621f",
   "metadata": {},
   "outputs": [
    {
     "name": "stdout",
     "output_type": "stream",
     "text": [
      "А я всё в спор — ну что за прелесть в этом?\n",
      "Пелькстынь мартот — мень мазычи сёксесэнть?\n",
      "0.3390202522277832\n",
      "-\n",
      "Люби и ты, как все, весну и лето.\n",
      "Тундонть, кизэнть вечкема, кода весе.\n",
      "0.6607618041940637\n",
      "-\n",
      "Дни эти (невдомёк мне было тоже) С тобою, дорогая, так похожи: Своё добро всем дарят, не жалея.\n",
      "Сынь мартот ламосо вейкеть: Эсь ули-парост явшить апак жаля.\n",
      "0.33342809426157094\n",
      "-\n",
      "Есть сердце матери в поре осенней.\n",
      "Сёксесэнть — авань седей.\n",
      "0.4611295812270221\n",
      "-\n",
      "Не пожалеет сил, тепла, вниманья, Хоть не всегда встречает пониманье.\n",
      "Виензэ ды лембензэ сон а вансты, Куш аволь свал чарькодий вановт васты.\n",
      "0.7470487414951056\n",
      "-\n",
      "Такую участь Бог посеял, видно, В твой День рожденья в поле твоей жизни.\n",
      "Истямо чансть, авай, нать, Пазось видсь теть Эрямонь паксязот чачома чистэть.\n",
      "0.6368352840473125\n",
      "-\n"
     ]
    }
   ],
   "source": [
    "for i, j in alignment:\n",
    "    print(sents_ru[i])\n",
    "    print(sents_er[j])\n",
    "    print(sims[i, j])\n",
    "    print('-')"
   ]
  },
  {
   "cell_type": "code",
   "execution_count": 37,
   "id": "fa922bea",
   "metadata": {},
   "outputs": [],
   "source": [
    "rus4all_pairs = []"
   ]
  },
  {
   "cell_type": "code",
   "execution_count": 38,
   "id": "81701d7a",
   "metadata": {},
   "outputs": [
    {
     "data": {
      "application/vnd.jupyter.widget-view+json": {
       "model_id": "96e639d1f176495ea4fdd068a0701139",
       "version_major": 2,
       "version_minor": 0
      },
      "text/plain": [
       "  0%|          | 0/30 [00:00<?, ?it/s]"
      ]
     },
     "metadata": {},
     "output_type": "display_data"
    }
   ],
   "source": [
    "tq = tqdm(pairs)\n",
    "for pair in tq:\n",
    "    sents_er = make_sents(pair['myv'])\n",
    "    sents_ru = make_sents(pair['ru'])\n",
    "    \n",
    "    emb_ru = np.stack([embed(s) for s in sents_ru])\n",
    "    emb_er = np.stack([embed(s) for s in sents_er])\n",
    "    \n",
    "    pen = np.array([[min(len(x), len(y)) / max(len(x), len(y)) for x in sents_er] for y in sents_ru])\n",
    "    sims = np.maximum(0, np.dot(emb_ru, emb_er.T)) ** 1 * pen\n",
    "\n",
    "    alpha = 0.2\n",
    "    penalty = 0.2\n",
    "    sims_rel = (sims.T - get_top_mean_by_row(sims) * alpha).T - get_top_mean_by_row(sims.T) * alpha - penalty\n",
    "\n",
    "    alignment = align3(sims_rel)\n",
    "\n",
    "    total_score = sum(sims[i, j] for i, j in alignment) / min(sims.shape)\n",
    "    if total_score < 0.15:\n",
    "        continue\n",
    "    \n",
    "    for i, j in alignment:\n",
    "        if sims[i, j] >= 0.40: # порог высоковат; часть предложений мы потеряем, но полученные зато будут чистыми\n",
    "            rus4all_pairs.append([sents_er[j], sents_ru[i]])\n",
    "    tq.set_description(str(len(rus4all_pairs)))"
   ]
  },
  {
   "cell_type": "code",
   "execution_count": 46,
   "id": "60928c45",
   "metadata": {},
   "outputs": [],
   "source": [
    "for p in rus4all_pairs:\n",
    "    p[0] = p[0].replace('\\xa0', ' ')\n",
    "    p[1] = p[1].replace('\\xa0', ' ')"
   ]
  },
  {
   "cell_type": "code",
   "execution_count": 59,
   "id": "2813404b",
   "metadata": {},
   "outputs": [
    {
     "data": {
      "text/plain": [
       "['— А бути чалгаса? — жигардома вайгельсэ мерсь Михалыч, буто Юрка бажась нельгемс олячинь праванзо, ды сон арсесь аштемс кисэст.',\n",
       " '— А ежели ступлю? — с вызовом спросил Михалыч, точно перед Юркой собирался свои права отстаивать.']"
      ]
     },
     "execution_count": 59,
     "metadata": {},
     "output_type": "execute_result"
    }
   ],
   "source": [
    "random.choice(rus4all_pairs)"
   ]
  },
  {
   "cell_type": "code",
   "execution_count": 61,
   "id": "5b7ade66",
   "metadata": {},
   "outputs": [],
   "source": [
    "with open('other_sources/rus4all_myv_ru_aligned.json', 'w') as f:\n",
    "    json.dump(rus4all_pairs, f, ensure_ascii=False)"
   ]
  },
  {
   "cell_type": "code",
   "execution_count": null,
   "id": "3e952d1b",
   "metadata": {},
   "outputs": [],
   "source": []
  }
 ],
 "metadata": {
  "kernelspec": {
   "display_name": "Python 3 (ipykernel)",
   "language": "python",
   "name": "python3"
  },
  "language_info": {
   "codemirror_mode": {
    "name": "ipython",
    "version": 3
   },
   "file_extension": ".py",
   "mimetype": "text/x-python",
   "name": "python",
   "nbconvert_exporter": "python",
   "pygments_lexer": "ipython3",
   "version": "3.9.6"
  }
 },
 "nbformat": 4,
 "nbformat_minor": 5
}
