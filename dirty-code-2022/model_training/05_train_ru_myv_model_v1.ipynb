{
  "nbformat": 4,
  "nbformat_minor": 0,
  "metadata": {
    "colab": {
      "provenance": [],
      "collapsed_sections": []
    },
    "kernelspec": {
      "name": "python3",
      "display_name": "Python 3"
    },
    "language_info": {
      "name": "python"
    },
    "accelerator": "GPU",
    "gpuClass": "standard",
    "widgets": {
      "application/vnd.jupyter.widget-state+json": {
        "ee5c482fdd8445b780fc56f9c7137e39": {
          "model_module": "@jupyter-widgets/controls",
          "model_name": "HBoxModel",
          "model_module_version": "1.5.0",
          "state": {
            "_dom_classes": [],
            "_model_module": "@jupyter-widgets/controls",
            "_model_module_version": "1.5.0",
            "_model_name": "HBoxModel",
            "_view_count": null,
            "_view_module": "@jupyter-widgets/controls",
            "_view_module_version": "1.5.0",
            "_view_name": "HBoxView",
            "box_style": "",
            "children": [
              "IPY_MODEL_94347f2c242947879626d8e0a962ddb2",
              "IPY_MODEL_ea5025b6b11a424da06174fdb96aa2d3",
              "IPY_MODEL_91b966ede37a412a9e6c87f79a5f3140"
            ],
            "layout": "IPY_MODEL_a05e5daa2064453382053efbf3635b8c"
          }
        },
        "94347f2c242947879626d8e0a962ddb2": {
          "model_module": "@jupyter-widgets/controls",
          "model_name": "HTMLModel",
          "model_module_version": "1.5.0",
          "state": {
            "_dom_classes": [],
            "_model_module": "@jupyter-widgets/controls",
            "_model_module_version": "1.5.0",
            "_model_name": "HTMLModel",
            "_view_count": null,
            "_view_module": "@jupyter-widgets/controls",
            "_view_module_version": "1.5.0",
            "_view_name": "HTMLView",
            "description": "",
            "description_tooltip": null,
            "layout": "IPY_MODEL_c90679376b4b4a459402d91d20979e11",
            "placeholder": "​",
            "style": "IPY_MODEL_dcf7a1c2723a44099aecbad9925a29cb",
            "value": "100%"
          }
        },
        "ea5025b6b11a424da06174fdb96aa2d3": {
          "model_module": "@jupyter-widgets/controls",
          "model_name": "FloatProgressModel",
          "model_module_version": "1.5.0",
          "state": {
            "_dom_classes": [],
            "_model_module": "@jupyter-widgets/controls",
            "_model_module_version": "1.5.0",
            "_model_name": "FloatProgressModel",
            "_view_count": null,
            "_view_module": "@jupyter-widgets/controls",
            "_view_module_version": "1.5.0",
            "_view_name": "ProgressView",
            "bar_style": "success",
            "description": "",
            "description_tooltip": null,
            "layout": "IPY_MODEL_5cdafc0673b74674ab97800d8e288842",
            "max": 20854,
            "min": 0,
            "orientation": "horizontal",
            "style": "IPY_MODEL_a26e99f1e56147d8a1d7c0bb3f6186f1",
            "value": 20854
          }
        },
        "91b966ede37a412a9e6c87f79a5f3140": {
          "model_module": "@jupyter-widgets/controls",
          "model_name": "HTMLModel",
          "model_module_version": "1.5.0",
          "state": {
            "_dom_classes": [],
            "_model_module": "@jupyter-widgets/controls",
            "_model_module_version": "1.5.0",
            "_model_name": "HTMLModel",
            "_view_count": null,
            "_view_module": "@jupyter-widgets/controls",
            "_view_module_version": "1.5.0",
            "_view_name": "HTMLView",
            "description": "",
            "description_tooltip": null,
            "layout": "IPY_MODEL_88b4346e6c624ec1ae35657ac23c5579",
            "placeholder": "​",
            "style": "IPY_MODEL_01dcca261c504ad6bc50c0969fd32a7f",
            "value": " 20854/20854 [11:32:00&lt;00:00,  1.81s/it]"
          }
        },
        "a05e5daa2064453382053efbf3635b8c": {
          "model_module": "@jupyter-widgets/base",
          "model_name": "LayoutModel",
          "model_module_version": "1.2.0",
          "state": {
            "_model_module": "@jupyter-widgets/base",
            "_model_module_version": "1.2.0",
            "_model_name": "LayoutModel",
            "_view_count": null,
            "_view_module": "@jupyter-widgets/base",
            "_view_module_version": "1.2.0",
            "_view_name": "LayoutView",
            "align_content": null,
            "align_items": null,
            "align_self": null,
            "border": null,
            "bottom": null,
            "display": null,
            "flex": null,
            "flex_flow": null,
            "grid_area": null,
            "grid_auto_columns": null,
            "grid_auto_flow": null,
            "grid_auto_rows": null,
            "grid_column": null,
            "grid_gap": null,
            "grid_row": null,
            "grid_template_areas": null,
            "grid_template_columns": null,
            "grid_template_rows": null,
            "height": null,
            "justify_content": null,
            "justify_items": null,
            "left": null,
            "margin": null,
            "max_height": null,
            "max_width": null,
            "min_height": null,
            "min_width": null,
            "object_fit": null,
            "object_position": null,
            "order": null,
            "overflow": null,
            "overflow_x": null,
            "overflow_y": null,
            "padding": null,
            "right": null,
            "top": null,
            "visibility": null,
            "width": null
          }
        },
        "c90679376b4b4a459402d91d20979e11": {
          "model_module": "@jupyter-widgets/base",
          "model_name": "LayoutModel",
          "model_module_version": "1.2.0",
          "state": {
            "_model_module": "@jupyter-widgets/base",
            "_model_module_version": "1.2.0",
            "_model_name": "LayoutModel",
            "_view_count": null,
            "_view_module": "@jupyter-widgets/base",
            "_view_module_version": "1.2.0",
            "_view_name": "LayoutView",
            "align_content": null,
            "align_items": null,
            "align_self": null,
            "border": null,
            "bottom": null,
            "display": null,
            "flex": null,
            "flex_flow": null,
            "grid_area": null,
            "grid_auto_columns": null,
            "grid_auto_flow": null,
            "grid_auto_rows": null,
            "grid_column": null,
            "grid_gap": null,
            "grid_row": null,
            "grid_template_areas": null,
            "grid_template_columns": null,
            "grid_template_rows": null,
            "height": null,
            "justify_content": null,
            "justify_items": null,
            "left": null,
            "margin": null,
            "max_height": null,
            "max_width": null,
            "min_height": null,
            "min_width": null,
            "object_fit": null,
            "object_position": null,
            "order": null,
            "overflow": null,
            "overflow_x": null,
            "overflow_y": null,
            "padding": null,
            "right": null,
            "top": null,
            "visibility": null,
            "width": null
          }
        },
        "dcf7a1c2723a44099aecbad9925a29cb": {
          "model_module": "@jupyter-widgets/controls",
          "model_name": "DescriptionStyleModel",
          "model_module_version": "1.5.0",
          "state": {
            "_model_module": "@jupyter-widgets/controls",
            "_model_module_version": "1.5.0",
            "_model_name": "DescriptionStyleModel",
            "_view_count": null,
            "_view_module": "@jupyter-widgets/base",
            "_view_module_version": "1.2.0",
            "_view_name": "StyleView",
            "description_width": ""
          }
        },
        "5cdafc0673b74674ab97800d8e288842": {
          "model_module": "@jupyter-widgets/base",
          "model_name": "LayoutModel",
          "model_module_version": "1.2.0",
          "state": {
            "_model_module": "@jupyter-widgets/base",
            "_model_module_version": "1.2.0",
            "_model_name": "LayoutModel",
            "_view_count": null,
            "_view_module": "@jupyter-widgets/base",
            "_view_module_version": "1.2.0",
            "_view_name": "LayoutView",
            "align_content": null,
            "align_items": null,
            "align_self": null,
            "border": null,
            "bottom": null,
            "display": null,
            "flex": null,
            "flex_flow": null,
            "grid_area": null,
            "grid_auto_columns": null,
            "grid_auto_flow": null,
            "grid_auto_rows": null,
            "grid_column": null,
            "grid_gap": null,
            "grid_row": null,
            "grid_template_areas": null,
            "grid_template_columns": null,
            "grid_template_rows": null,
            "height": null,
            "justify_content": null,
            "justify_items": null,
            "left": null,
            "margin": null,
            "max_height": null,
            "max_width": null,
            "min_height": null,
            "min_width": null,
            "object_fit": null,
            "object_position": null,
            "order": null,
            "overflow": null,
            "overflow_x": null,
            "overflow_y": null,
            "padding": null,
            "right": null,
            "top": null,
            "visibility": null,
            "width": null
          }
        },
        "a26e99f1e56147d8a1d7c0bb3f6186f1": {
          "model_module": "@jupyter-widgets/controls",
          "model_name": "ProgressStyleModel",
          "model_module_version": "1.5.0",
          "state": {
            "_model_module": "@jupyter-widgets/controls",
            "_model_module_version": "1.5.0",
            "_model_name": "ProgressStyleModel",
            "_view_count": null,
            "_view_module": "@jupyter-widgets/base",
            "_view_module_version": "1.2.0",
            "_view_name": "StyleView",
            "bar_color": null,
            "description_width": ""
          }
        },
        "88b4346e6c624ec1ae35657ac23c5579": {
          "model_module": "@jupyter-widgets/base",
          "model_name": "LayoutModel",
          "model_module_version": "1.2.0",
          "state": {
            "_model_module": "@jupyter-widgets/base",
            "_model_module_version": "1.2.0",
            "_model_name": "LayoutModel",
            "_view_count": null,
            "_view_module": "@jupyter-widgets/base",
            "_view_module_version": "1.2.0",
            "_view_name": "LayoutView",
            "align_content": null,
            "align_items": null,
            "align_self": null,
            "border": null,
            "bottom": null,
            "display": null,
            "flex": null,
            "flex_flow": null,
            "grid_area": null,
            "grid_auto_columns": null,
            "grid_auto_flow": null,
            "grid_auto_rows": null,
            "grid_column": null,
            "grid_gap": null,
            "grid_row": null,
            "grid_template_areas": null,
            "grid_template_columns": null,
            "grid_template_rows": null,
            "height": null,
            "justify_content": null,
            "justify_items": null,
            "left": null,
            "margin": null,
            "max_height": null,
            "max_width": null,
            "min_height": null,
            "min_width": null,
            "object_fit": null,
            "object_position": null,
            "order": null,
            "overflow": null,
            "overflow_x": null,
            "overflow_y": null,
            "padding": null,
            "right": null,
            "top": null,
            "visibility": null,
            "width": null
          }
        },
        "01dcca261c504ad6bc50c0969fd32a7f": {
          "model_module": "@jupyter-widgets/controls",
          "model_name": "DescriptionStyleModel",
          "model_module_version": "1.5.0",
          "state": {
            "_model_module": "@jupyter-widgets/controls",
            "_model_module_version": "1.5.0",
            "_model_name": "DescriptionStyleModel",
            "_view_count": null,
            "_view_module": "@jupyter-widgets/base",
            "_view_module_version": "1.2.0",
            "_view_name": "StyleView",
            "description_width": ""
          }
        },
        "2dd90a3323e048aea0289aad2c6c807a": {
          "model_module": "@jupyter-widgets/controls",
          "model_name": "HBoxModel",
          "model_module_version": "1.5.0",
          "state": {
            "_dom_classes": [],
            "_model_module": "@jupyter-widgets/controls",
            "_model_module_version": "1.5.0",
            "_model_name": "HBoxModel",
            "_view_count": null,
            "_view_module": "@jupyter-widgets/controls",
            "_view_module_version": "1.5.0",
            "_view_name": "HBoxView",
            "box_style": "",
            "children": [
              "IPY_MODEL_61e24a9193c046e383b092208c7ffa17",
              "IPY_MODEL_b269f730807f4a938c6bcdcde102e9fe",
              "IPY_MODEL_2d64afa326b7417c9f13861b7e9092cb"
            ],
            "layout": "IPY_MODEL_3f68700e36894821944120c0179bbde1"
          }
        },
        "61e24a9193c046e383b092208c7ffa17": {
          "model_module": "@jupyter-widgets/controls",
          "model_name": "HTMLModel",
          "model_module_version": "1.5.0",
          "state": {
            "_dom_classes": [],
            "_model_module": "@jupyter-widgets/controls",
            "_model_module_version": "1.5.0",
            "_model_name": "HTMLModel",
            "_view_count": null,
            "_view_module": "@jupyter-widgets/controls",
            "_view_module_version": "1.5.0",
            "_view_name": "HTMLView",
            "description": "",
            "description_tooltip": null,
            "layout": "IPY_MODEL_7cad93571eb7449eabe214bd5cd1c680",
            "placeholder": "​",
            "style": "IPY_MODEL_8919c944710b49f6ba8bd8e2398c6a03",
            "value": "100%"
          }
        },
        "b269f730807f4a938c6bcdcde102e9fe": {
          "model_module": "@jupyter-widgets/controls",
          "model_name": "FloatProgressModel",
          "model_module_version": "1.5.0",
          "state": {
            "_dom_classes": [],
            "_model_module": "@jupyter-widgets/controls",
            "_model_module_version": "1.5.0",
            "_model_name": "FloatProgressModel",
            "_view_count": null,
            "_view_module": "@jupyter-widgets/controls",
            "_view_module_version": "1.5.0",
            "_view_name": "ProgressView",
            "bar_style": "success",
            "description": "",
            "description_tooltip": null,
            "layout": "IPY_MODEL_9f22df1b316f43a4aafacda95c92f6bf",
            "max": 51019,
            "min": 0,
            "orientation": "horizontal",
            "style": "IPY_MODEL_d9c0ce4791d9413d9df9a0fe70228c4e",
            "value": 51019
          }
        },
        "2d64afa326b7417c9f13861b7e9092cb": {
          "model_module": "@jupyter-widgets/controls",
          "model_name": "HTMLModel",
          "model_module_version": "1.5.0",
          "state": {
            "_dom_classes": [],
            "_model_module": "@jupyter-widgets/controls",
            "_model_module_version": "1.5.0",
            "_model_name": "HTMLModel",
            "_view_count": null,
            "_view_module": "@jupyter-widgets/controls",
            "_view_module_version": "1.5.0",
            "_view_name": "HTMLView",
            "description": "",
            "description_tooltip": null,
            "layout": "IPY_MODEL_ecdf402605ed4bcab4f84a4351bc8551",
            "placeholder": "​",
            "style": "IPY_MODEL_17b95cb0baa944b7a9bb5196d0df225c",
            "value": " 51019/51019 [3:55:52&lt;00:00,  4.15it/s]"
          }
        },
        "3f68700e36894821944120c0179bbde1": {
          "model_module": "@jupyter-widgets/base",
          "model_name": "LayoutModel",
          "model_module_version": "1.2.0",
          "state": {
            "_model_module": "@jupyter-widgets/base",
            "_model_module_version": "1.2.0",
            "_model_name": "LayoutModel",
            "_view_count": null,
            "_view_module": "@jupyter-widgets/base",
            "_view_module_version": "1.2.0",
            "_view_name": "LayoutView",
            "align_content": null,
            "align_items": null,
            "align_self": null,
            "border": null,
            "bottom": null,
            "display": null,
            "flex": null,
            "flex_flow": null,
            "grid_area": null,
            "grid_auto_columns": null,
            "grid_auto_flow": null,
            "grid_auto_rows": null,
            "grid_column": null,
            "grid_gap": null,
            "grid_row": null,
            "grid_template_areas": null,
            "grid_template_columns": null,
            "grid_template_rows": null,
            "height": null,
            "justify_content": null,
            "justify_items": null,
            "left": null,
            "margin": null,
            "max_height": null,
            "max_width": null,
            "min_height": null,
            "min_width": null,
            "object_fit": null,
            "object_position": null,
            "order": null,
            "overflow": null,
            "overflow_x": null,
            "overflow_y": null,
            "padding": null,
            "right": null,
            "top": null,
            "visibility": null,
            "width": null
          }
        },
        "7cad93571eb7449eabe214bd5cd1c680": {
          "model_module": "@jupyter-widgets/base",
          "model_name": "LayoutModel",
          "model_module_version": "1.2.0",
          "state": {
            "_model_module": "@jupyter-widgets/base",
            "_model_module_version": "1.2.0",
            "_model_name": "LayoutModel",
            "_view_count": null,
            "_view_module": "@jupyter-widgets/base",
            "_view_module_version": "1.2.0",
            "_view_name": "LayoutView",
            "align_content": null,
            "align_items": null,
            "align_self": null,
            "border": null,
            "bottom": null,
            "display": null,
            "flex": null,
            "flex_flow": null,
            "grid_area": null,
            "grid_auto_columns": null,
            "grid_auto_flow": null,
            "grid_auto_rows": null,
            "grid_column": null,
            "grid_gap": null,
            "grid_row": null,
            "grid_template_areas": null,
            "grid_template_columns": null,
            "grid_template_rows": null,
            "height": null,
            "justify_content": null,
            "justify_items": null,
            "left": null,
            "margin": null,
            "max_height": null,
            "max_width": null,
            "min_height": null,
            "min_width": null,
            "object_fit": null,
            "object_position": null,
            "order": null,
            "overflow": null,
            "overflow_x": null,
            "overflow_y": null,
            "padding": null,
            "right": null,
            "top": null,
            "visibility": null,
            "width": null
          }
        },
        "8919c944710b49f6ba8bd8e2398c6a03": {
          "model_module": "@jupyter-widgets/controls",
          "model_name": "DescriptionStyleModel",
          "model_module_version": "1.5.0",
          "state": {
            "_model_module": "@jupyter-widgets/controls",
            "_model_module_version": "1.5.0",
            "_model_name": "DescriptionStyleModel",
            "_view_count": null,
            "_view_module": "@jupyter-widgets/base",
            "_view_module_version": "1.2.0",
            "_view_name": "StyleView",
            "description_width": ""
          }
        },
        "9f22df1b316f43a4aafacda95c92f6bf": {
          "model_module": "@jupyter-widgets/base",
          "model_name": "LayoutModel",
          "model_module_version": "1.2.0",
          "state": {
            "_model_module": "@jupyter-widgets/base",
            "_model_module_version": "1.2.0",
            "_model_name": "LayoutModel",
            "_view_count": null,
            "_view_module": "@jupyter-widgets/base",
            "_view_module_version": "1.2.0",
            "_view_name": "LayoutView",
            "align_content": null,
            "align_items": null,
            "align_self": null,
            "border": null,
            "bottom": null,
            "display": null,
            "flex": null,
            "flex_flow": null,
            "grid_area": null,
            "grid_auto_columns": null,
            "grid_auto_flow": null,
            "grid_auto_rows": null,
            "grid_column": null,
            "grid_gap": null,
            "grid_row": null,
            "grid_template_areas": null,
            "grid_template_columns": null,
            "grid_template_rows": null,
            "height": null,
            "justify_content": null,
            "justify_items": null,
            "left": null,
            "margin": null,
            "max_height": null,
            "max_width": null,
            "min_height": null,
            "min_width": null,
            "object_fit": null,
            "object_position": null,
            "order": null,
            "overflow": null,
            "overflow_x": null,
            "overflow_y": null,
            "padding": null,
            "right": null,
            "top": null,
            "visibility": null,
            "width": null
          }
        },
        "d9c0ce4791d9413d9df9a0fe70228c4e": {
          "model_module": "@jupyter-widgets/controls",
          "model_name": "ProgressStyleModel",
          "model_module_version": "1.5.0",
          "state": {
            "_model_module": "@jupyter-widgets/controls",
            "_model_module_version": "1.5.0",
            "_model_name": "ProgressStyleModel",
            "_view_count": null,
            "_view_module": "@jupyter-widgets/base",
            "_view_module_version": "1.2.0",
            "_view_name": "StyleView",
            "bar_color": null,
            "description_width": ""
          }
        },
        "ecdf402605ed4bcab4f84a4351bc8551": {
          "model_module": "@jupyter-widgets/base",
          "model_name": "LayoutModel",
          "model_module_version": "1.2.0",
          "state": {
            "_model_module": "@jupyter-widgets/base",
            "_model_module_version": "1.2.0",
            "_model_name": "LayoutModel",
            "_view_count": null,
            "_view_module": "@jupyter-widgets/base",
            "_view_module_version": "1.2.0",
            "_view_name": "LayoutView",
            "align_content": null,
            "align_items": null,
            "align_self": null,
            "border": null,
            "bottom": null,
            "display": null,
            "flex": null,
            "flex_flow": null,
            "grid_area": null,
            "grid_auto_columns": null,
            "grid_auto_flow": null,
            "grid_auto_rows": null,
            "grid_column": null,
            "grid_gap": null,
            "grid_row": null,
            "grid_template_areas": null,
            "grid_template_columns": null,
            "grid_template_rows": null,
            "height": null,
            "justify_content": null,
            "justify_items": null,
            "left": null,
            "margin": null,
            "max_height": null,
            "max_width": null,
            "min_height": null,
            "min_width": null,
            "object_fit": null,
            "object_position": null,
            "order": null,
            "overflow": null,
            "overflow_x": null,
            "overflow_y": null,
            "padding": null,
            "right": null,
            "top": null,
            "visibility": null,
            "width": null
          }
        },
        "17b95cb0baa944b7a9bb5196d0df225c": {
          "model_module": "@jupyter-widgets/controls",
          "model_name": "DescriptionStyleModel",
          "model_module_version": "1.5.0",
          "state": {
            "_model_module": "@jupyter-widgets/controls",
            "_model_module_version": "1.5.0",
            "_model_name": "DescriptionStyleModel",
            "_view_count": null,
            "_view_module": "@jupyter-widgets/base",
            "_view_module_version": "1.2.0",
            "_view_name": "StyleView",
            "description_width": ""
          }
        },
        "1b6c7737a7724ef9be61f6931236bcb8": {
          "model_module": "@jupyter-widgets/controls",
          "model_name": "HBoxModel",
          "model_module_version": "1.5.0",
          "state": {
            "_dom_classes": [],
            "_model_module": "@jupyter-widgets/controls",
            "_model_module_version": "1.5.0",
            "_model_name": "HBoxModel",
            "_view_count": null,
            "_view_module": "@jupyter-widgets/controls",
            "_view_module_version": "1.5.0",
            "_view_name": "HBoxView",
            "box_style": "",
            "children": [
              "IPY_MODEL_5ee0c0386ca14eeea3d890f192d912c6",
              "IPY_MODEL_43c5fe3b81624c5c82902780d146865f",
              "IPY_MODEL_c2cd640d6712496994e82b828d733bba"
            ],
            "layout": "IPY_MODEL_5bee1ae7b7c947b189aae9c147d9f7f7"
          }
        },
        "5ee0c0386ca14eeea3d890f192d912c6": {
          "model_module": "@jupyter-widgets/controls",
          "model_name": "HTMLModel",
          "model_module_version": "1.5.0",
          "state": {
            "_dom_classes": [],
            "_model_module": "@jupyter-widgets/controls",
            "_model_module_version": "1.5.0",
            "_model_name": "HTMLModel",
            "_view_count": null,
            "_view_module": "@jupyter-widgets/controls",
            "_view_module_version": "1.5.0",
            "_view_name": "HTMLView",
            "description": "",
            "description_tooltip": null,
            "layout": "IPY_MODEL_12ff934d5aaf4522b53a0d5a1486d190",
            "placeholder": "​",
            "style": "IPY_MODEL_6e16ea20b84641559d12ded6655bd592",
            "value": "100%"
          }
        },
        "43c5fe3b81624c5c82902780d146865f": {
          "model_module": "@jupyter-widgets/controls",
          "model_name": "FloatProgressModel",
          "model_module_version": "1.5.0",
          "state": {
            "_dom_classes": [],
            "_model_module": "@jupyter-widgets/controls",
            "_model_module_version": "1.5.0",
            "_model_name": "FloatProgressModel",
            "_view_count": null,
            "_view_module": "@jupyter-widgets/controls",
            "_view_module_version": "1.5.0",
            "_view_name": "ProgressView",
            "bar_style": "success",
            "description": "",
            "description_tooltip": null,
            "layout": "IPY_MODEL_f96db6ef5aa644e8be36c012165f4e8f",
            "max": 51019,
            "min": 0,
            "orientation": "horizontal",
            "style": "IPY_MODEL_8d93c30851944aeba13e5734d65354d2",
            "value": 51019
          }
        },
        "c2cd640d6712496994e82b828d733bba": {
          "model_module": "@jupyter-widgets/controls",
          "model_name": "HTMLModel",
          "model_module_version": "1.5.0",
          "state": {
            "_dom_classes": [],
            "_model_module": "@jupyter-widgets/controls",
            "_model_module_version": "1.5.0",
            "_model_name": "HTMLModel",
            "_view_count": null,
            "_view_module": "@jupyter-widgets/controls",
            "_view_module_version": "1.5.0",
            "_view_name": "HTMLView",
            "description": "",
            "description_tooltip": null,
            "layout": "IPY_MODEL_de101cc796b04883896913f97d7e2174",
            "placeholder": "​",
            "style": "IPY_MODEL_00a8adc069fa43a199266bbf75cea127",
            "value": " 51019/51019 [6:09:01&lt;00:00,  2.44it/s]"
          }
        },
        "5bee1ae7b7c947b189aae9c147d9f7f7": {
          "model_module": "@jupyter-widgets/base",
          "model_name": "LayoutModel",
          "model_module_version": "1.2.0",
          "state": {
            "_model_module": "@jupyter-widgets/base",
            "_model_module_version": "1.2.0",
            "_model_name": "LayoutModel",
            "_view_count": null,
            "_view_module": "@jupyter-widgets/base",
            "_view_module_version": "1.2.0",
            "_view_name": "LayoutView",
            "align_content": null,
            "align_items": null,
            "align_self": null,
            "border": null,
            "bottom": null,
            "display": null,
            "flex": null,
            "flex_flow": null,
            "grid_area": null,
            "grid_auto_columns": null,
            "grid_auto_flow": null,
            "grid_auto_rows": null,
            "grid_column": null,
            "grid_gap": null,
            "grid_row": null,
            "grid_template_areas": null,
            "grid_template_columns": null,
            "grid_template_rows": null,
            "height": null,
            "justify_content": null,
            "justify_items": null,
            "left": null,
            "margin": null,
            "max_height": null,
            "max_width": null,
            "min_height": null,
            "min_width": null,
            "object_fit": null,
            "object_position": null,
            "order": null,
            "overflow": null,
            "overflow_x": null,
            "overflow_y": null,
            "padding": null,
            "right": null,
            "top": null,
            "visibility": null,
            "width": null
          }
        },
        "12ff934d5aaf4522b53a0d5a1486d190": {
          "model_module": "@jupyter-widgets/base",
          "model_name": "LayoutModel",
          "model_module_version": "1.2.0",
          "state": {
            "_model_module": "@jupyter-widgets/base",
            "_model_module_version": "1.2.0",
            "_model_name": "LayoutModel",
            "_view_count": null,
            "_view_module": "@jupyter-widgets/base",
            "_view_module_version": "1.2.0",
            "_view_name": "LayoutView",
            "align_content": null,
            "align_items": null,
            "align_self": null,
            "border": null,
            "bottom": null,
            "display": null,
            "flex": null,
            "flex_flow": null,
            "grid_area": null,
            "grid_auto_columns": null,
            "grid_auto_flow": null,
            "grid_auto_rows": null,
            "grid_column": null,
            "grid_gap": null,
            "grid_row": null,
            "grid_template_areas": null,
            "grid_template_columns": null,
            "grid_template_rows": null,
            "height": null,
            "justify_content": null,
            "justify_items": null,
            "left": null,
            "margin": null,
            "max_height": null,
            "max_width": null,
            "min_height": null,
            "min_width": null,
            "object_fit": null,
            "object_position": null,
            "order": null,
            "overflow": null,
            "overflow_x": null,
            "overflow_y": null,
            "padding": null,
            "right": null,
            "top": null,
            "visibility": null,
            "width": null
          }
        },
        "6e16ea20b84641559d12ded6655bd592": {
          "model_module": "@jupyter-widgets/controls",
          "model_name": "DescriptionStyleModel",
          "model_module_version": "1.5.0",
          "state": {
            "_model_module": "@jupyter-widgets/controls",
            "_model_module_version": "1.5.0",
            "_model_name": "DescriptionStyleModel",
            "_view_count": null,
            "_view_module": "@jupyter-widgets/base",
            "_view_module_version": "1.2.0",
            "_view_name": "StyleView",
            "description_width": ""
          }
        },
        "f96db6ef5aa644e8be36c012165f4e8f": {
          "model_module": "@jupyter-widgets/base",
          "model_name": "LayoutModel",
          "model_module_version": "1.2.0",
          "state": {
            "_model_module": "@jupyter-widgets/base",
            "_model_module_version": "1.2.0",
            "_model_name": "LayoutModel",
            "_view_count": null,
            "_view_module": "@jupyter-widgets/base",
            "_view_module_version": "1.2.0",
            "_view_name": "LayoutView",
            "align_content": null,
            "align_items": null,
            "align_self": null,
            "border": null,
            "bottom": null,
            "display": null,
            "flex": null,
            "flex_flow": null,
            "grid_area": null,
            "grid_auto_columns": null,
            "grid_auto_flow": null,
            "grid_auto_rows": null,
            "grid_column": null,
            "grid_gap": null,
            "grid_row": null,
            "grid_template_areas": null,
            "grid_template_columns": null,
            "grid_template_rows": null,
            "height": null,
            "justify_content": null,
            "justify_items": null,
            "left": null,
            "margin": null,
            "max_height": null,
            "max_width": null,
            "min_height": null,
            "min_width": null,
            "object_fit": null,
            "object_position": null,
            "order": null,
            "overflow": null,
            "overflow_x": null,
            "overflow_y": null,
            "padding": null,
            "right": null,
            "top": null,
            "visibility": null,
            "width": null
          }
        },
        "8d93c30851944aeba13e5734d65354d2": {
          "model_module": "@jupyter-widgets/controls",
          "model_name": "ProgressStyleModel",
          "model_module_version": "1.5.0",
          "state": {
            "_model_module": "@jupyter-widgets/controls",
            "_model_module_version": "1.5.0",
            "_model_name": "ProgressStyleModel",
            "_view_count": null,
            "_view_module": "@jupyter-widgets/base",
            "_view_module_version": "1.2.0",
            "_view_name": "StyleView",
            "bar_color": null,
            "description_width": ""
          }
        },
        "de101cc796b04883896913f97d7e2174": {
          "model_module": "@jupyter-widgets/base",
          "model_name": "LayoutModel",
          "model_module_version": "1.2.0",
          "state": {
            "_model_module": "@jupyter-widgets/base",
            "_model_module_version": "1.2.0",
            "_model_name": "LayoutModel",
            "_view_count": null,
            "_view_module": "@jupyter-widgets/base",
            "_view_module_version": "1.2.0",
            "_view_name": "LayoutView",
            "align_content": null,
            "align_items": null,
            "align_self": null,
            "border": null,
            "bottom": null,
            "display": null,
            "flex": null,
            "flex_flow": null,
            "grid_area": null,
            "grid_auto_columns": null,
            "grid_auto_flow": null,
            "grid_auto_rows": null,
            "grid_column": null,
            "grid_gap": null,
            "grid_row": null,
            "grid_template_areas": null,
            "grid_template_columns": null,
            "grid_template_rows": null,
            "height": null,
            "justify_content": null,
            "justify_items": null,
            "left": null,
            "margin": null,
            "max_height": null,
            "max_width": null,
            "min_height": null,
            "min_width": null,
            "object_fit": null,
            "object_position": null,
            "order": null,
            "overflow": null,
            "overflow_x": null,
            "overflow_y": null,
            "padding": null,
            "right": null,
            "top": null,
            "visibility": null,
            "width": null
          }
        },
        "00a8adc069fa43a199266bbf75cea127": {
          "model_module": "@jupyter-widgets/controls",
          "model_name": "DescriptionStyleModel",
          "model_module_version": "1.5.0",
          "state": {
            "_model_module": "@jupyter-widgets/controls",
            "_model_module_version": "1.5.0",
            "_model_name": "DescriptionStyleModel",
            "_view_count": null,
            "_view_module": "@jupyter-widgets/base",
            "_view_module_version": "1.2.0",
            "_view_name": "StyleView",
            "description_width": ""
          }
        },
        "19c2a6cc49874c6b9387da8039d073a6": {
          "model_module": "@jupyter-widgets/controls",
          "model_name": "HBoxModel",
          "model_module_version": "1.5.0",
          "state": {
            "_dom_classes": [],
            "_model_module": "@jupyter-widgets/controls",
            "_model_module_version": "1.5.0",
            "_model_name": "HBoxModel",
            "_view_count": null,
            "_view_module": "@jupyter-widgets/controls",
            "_view_module_version": "1.5.0",
            "_view_name": "HBoxView",
            "box_style": "",
            "children": [
              "IPY_MODEL_330d5481be764aeb98aa99eab56447a3",
              "IPY_MODEL_4d68d2a6302e4de28cfa78c7696cbaa6",
              "IPY_MODEL_b8f3ba40fe834abfaf3f385894dd2648"
            ],
            "layout": "IPY_MODEL_2fa0916e8a864eeda3298b546c4a09ef"
          }
        },
        "330d5481be764aeb98aa99eab56447a3": {
          "model_module": "@jupyter-widgets/controls",
          "model_name": "HTMLModel",
          "model_module_version": "1.5.0",
          "state": {
            "_dom_classes": [],
            "_model_module": "@jupyter-widgets/controls",
            "_model_module_version": "1.5.0",
            "_model_name": "HTMLModel",
            "_view_count": null,
            "_view_module": "@jupyter-widgets/controls",
            "_view_module_version": "1.5.0",
            "_view_name": "HTMLView",
            "description": "",
            "description_tooltip": null,
            "layout": "IPY_MODEL_80ceb9d526d7432a864a8e217b5c3827",
            "placeholder": "​",
            "style": "IPY_MODEL_9d8c2e66700b4882b79bce61b9feddf1",
            "value": "100%"
          }
        },
        "4d68d2a6302e4de28cfa78c7696cbaa6": {
          "model_module": "@jupyter-widgets/controls",
          "model_name": "FloatProgressModel",
          "model_module_version": "1.5.0",
          "state": {
            "_dom_classes": [],
            "_model_module": "@jupyter-widgets/controls",
            "_model_module_version": "1.5.0",
            "_model_name": "FloatProgressModel",
            "_view_count": null,
            "_view_module": "@jupyter-widgets/controls",
            "_view_module_version": "1.5.0",
            "_view_name": "ProgressView",
            "bar_style": "success",
            "description": "",
            "description_tooltip": null,
            "layout": "IPY_MODEL_eb223dd3ec3049a0890e1f55521f806c",
            "max": 51019,
            "min": 0,
            "orientation": "horizontal",
            "style": "IPY_MODEL_e83cb83d18aa4626aa3d21753b636780",
            "value": 51019
          }
        },
        "b8f3ba40fe834abfaf3f385894dd2648": {
          "model_module": "@jupyter-widgets/controls",
          "model_name": "HTMLModel",
          "model_module_version": "1.5.0",
          "state": {
            "_dom_classes": [],
            "_model_module": "@jupyter-widgets/controls",
            "_model_module_version": "1.5.0",
            "_model_name": "HTMLModel",
            "_view_count": null,
            "_view_module": "@jupyter-widgets/controls",
            "_view_module_version": "1.5.0",
            "_view_name": "HTMLView",
            "description": "",
            "description_tooltip": null,
            "layout": "IPY_MODEL_d013379630ea432c8beb1223ee8d0fbb",
            "placeholder": "​",
            "style": "IPY_MODEL_0759796387cc427caf087a2620ef9f93",
            "value": " 51019/51019 [6:08:39&lt;00:00,  2.30it/s]"
          }
        },
        "2fa0916e8a864eeda3298b546c4a09ef": {
          "model_module": "@jupyter-widgets/base",
          "model_name": "LayoutModel",
          "model_module_version": "1.2.0",
          "state": {
            "_model_module": "@jupyter-widgets/base",
            "_model_module_version": "1.2.0",
            "_model_name": "LayoutModel",
            "_view_count": null,
            "_view_module": "@jupyter-widgets/base",
            "_view_module_version": "1.2.0",
            "_view_name": "LayoutView",
            "align_content": null,
            "align_items": null,
            "align_self": null,
            "border": null,
            "bottom": null,
            "display": null,
            "flex": null,
            "flex_flow": null,
            "grid_area": null,
            "grid_auto_columns": null,
            "grid_auto_flow": null,
            "grid_auto_rows": null,
            "grid_column": null,
            "grid_gap": null,
            "grid_row": null,
            "grid_template_areas": null,
            "grid_template_columns": null,
            "grid_template_rows": null,
            "height": null,
            "justify_content": null,
            "justify_items": null,
            "left": null,
            "margin": null,
            "max_height": null,
            "max_width": null,
            "min_height": null,
            "min_width": null,
            "object_fit": null,
            "object_position": null,
            "order": null,
            "overflow": null,
            "overflow_x": null,
            "overflow_y": null,
            "padding": null,
            "right": null,
            "top": null,
            "visibility": null,
            "width": null
          }
        },
        "80ceb9d526d7432a864a8e217b5c3827": {
          "model_module": "@jupyter-widgets/base",
          "model_name": "LayoutModel",
          "model_module_version": "1.2.0",
          "state": {
            "_model_module": "@jupyter-widgets/base",
            "_model_module_version": "1.2.0",
            "_model_name": "LayoutModel",
            "_view_count": null,
            "_view_module": "@jupyter-widgets/base",
            "_view_module_version": "1.2.0",
            "_view_name": "LayoutView",
            "align_content": null,
            "align_items": null,
            "align_self": null,
            "border": null,
            "bottom": null,
            "display": null,
            "flex": null,
            "flex_flow": null,
            "grid_area": null,
            "grid_auto_columns": null,
            "grid_auto_flow": null,
            "grid_auto_rows": null,
            "grid_column": null,
            "grid_gap": null,
            "grid_row": null,
            "grid_template_areas": null,
            "grid_template_columns": null,
            "grid_template_rows": null,
            "height": null,
            "justify_content": null,
            "justify_items": null,
            "left": null,
            "margin": null,
            "max_height": null,
            "max_width": null,
            "min_height": null,
            "min_width": null,
            "object_fit": null,
            "object_position": null,
            "order": null,
            "overflow": null,
            "overflow_x": null,
            "overflow_y": null,
            "padding": null,
            "right": null,
            "top": null,
            "visibility": null,
            "width": null
          }
        },
        "9d8c2e66700b4882b79bce61b9feddf1": {
          "model_module": "@jupyter-widgets/controls",
          "model_name": "DescriptionStyleModel",
          "model_module_version": "1.5.0",
          "state": {
            "_model_module": "@jupyter-widgets/controls",
            "_model_module_version": "1.5.0",
            "_model_name": "DescriptionStyleModel",
            "_view_count": null,
            "_view_module": "@jupyter-widgets/base",
            "_view_module_version": "1.2.0",
            "_view_name": "StyleView",
            "description_width": ""
          }
        },
        "eb223dd3ec3049a0890e1f55521f806c": {
          "model_module": "@jupyter-widgets/base",
          "model_name": "LayoutModel",
          "model_module_version": "1.2.0",
          "state": {
            "_model_module": "@jupyter-widgets/base",
            "_model_module_version": "1.2.0",
            "_model_name": "LayoutModel",
            "_view_count": null,
            "_view_module": "@jupyter-widgets/base",
            "_view_module_version": "1.2.0",
            "_view_name": "LayoutView",
            "align_content": null,
            "align_items": null,
            "align_self": null,
            "border": null,
            "bottom": null,
            "display": null,
            "flex": null,
            "flex_flow": null,
            "grid_area": null,
            "grid_auto_columns": null,
            "grid_auto_flow": null,
            "grid_auto_rows": null,
            "grid_column": null,
            "grid_gap": null,
            "grid_row": null,
            "grid_template_areas": null,
            "grid_template_columns": null,
            "grid_template_rows": null,
            "height": null,
            "justify_content": null,
            "justify_items": null,
            "left": null,
            "margin": null,
            "max_height": null,
            "max_width": null,
            "min_height": null,
            "min_width": null,
            "object_fit": null,
            "object_position": null,
            "order": null,
            "overflow": null,
            "overflow_x": null,
            "overflow_y": null,
            "padding": null,
            "right": null,
            "top": null,
            "visibility": null,
            "width": null
          }
        },
        "e83cb83d18aa4626aa3d21753b636780": {
          "model_module": "@jupyter-widgets/controls",
          "model_name": "ProgressStyleModel",
          "model_module_version": "1.5.0",
          "state": {
            "_model_module": "@jupyter-widgets/controls",
            "_model_module_version": "1.5.0",
            "_model_name": "ProgressStyleModel",
            "_view_count": null,
            "_view_module": "@jupyter-widgets/base",
            "_view_module_version": "1.2.0",
            "_view_name": "StyleView",
            "bar_color": null,
            "description_width": ""
          }
        },
        "d013379630ea432c8beb1223ee8d0fbb": {
          "model_module": "@jupyter-widgets/base",
          "model_name": "LayoutModel",
          "model_module_version": "1.2.0",
          "state": {
            "_model_module": "@jupyter-widgets/base",
            "_model_module_version": "1.2.0",
            "_model_name": "LayoutModel",
            "_view_count": null,
            "_view_module": "@jupyter-widgets/base",
            "_view_module_version": "1.2.0",
            "_view_name": "LayoutView",
            "align_content": null,
            "align_items": null,
            "align_self": null,
            "border": null,
            "bottom": null,
            "display": null,
            "flex": null,
            "flex_flow": null,
            "grid_area": null,
            "grid_auto_columns": null,
            "grid_auto_flow": null,
            "grid_auto_rows": null,
            "grid_column": null,
            "grid_gap": null,
            "grid_row": null,
            "grid_template_areas": null,
            "grid_template_columns": null,
            "grid_template_rows": null,
            "height": null,
            "justify_content": null,
            "justify_items": null,
            "left": null,
            "margin": null,
            "max_height": null,
            "max_width": null,
            "min_height": null,
            "min_width": null,
            "object_fit": null,
            "object_position": null,
            "order": null,
            "overflow": null,
            "overflow_x": null,
            "overflow_y": null,
            "padding": null,
            "right": null,
            "top": null,
            "visibility": null,
            "width": null
          }
        },
        "0759796387cc427caf087a2620ef9f93": {
          "model_module": "@jupyter-widgets/controls",
          "model_name": "DescriptionStyleModel",
          "model_module_version": "1.5.0",
          "state": {
            "_model_module": "@jupyter-widgets/controls",
            "_model_module_version": "1.5.0",
            "_model_name": "DescriptionStyleModel",
            "_view_count": null,
            "_view_module": "@jupyter-widgets/base",
            "_view_module_version": "1.2.0",
            "_view_name": "StyleView",
            "description_width": ""
          }
        },
        "36028cdfc3c743fd810be42de10c51ec": {
          "model_module": "@jupyter-widgets/controls",
          "model_name": "HBoxModel",
          "model_module_version": "1.5.0",
          "state": {
            "_dom_classes": [],
            "_model_module": "@jupyter-widgets/controls",
            "_model_module_version": "1.5.0",
            "_model_name": "HBoxModel",
            "_view_count": null,
            "_view_module": "@jupyter-widgets/controls",
            "_view_module_version": "1.5.0",
            "_view_name": "HBoxView",
            "box_style": "",
            "children": [
              "IPY_MODEL_4e1878e7e37849ddabeb89e0417bdf87",
              "IPY_MODEL_4b6bfbeebd8e499488d5c2d498c21763",
              "IPY_MODEL_5d14796336e64193a8fe8e46d9d8b508"
            ],
            "layout": "IPY_MODEL_c46f8565cd8d4f03a04565724479fea9"
          }
        },
        "4e1878e7e37849ddabeb89e0417bdf87": {
          "model_module": "@jupyter-widgets/controls",
          "model_name": "HTMLModel",
          "model_module_version": "1.5.0",
          "state": {
            "_dom_classes": [],
            "_model_module": "@jupyter-widgets/controls",
            "_model_module_version": "1.5.0",
            "_model_name": "HTMLModel",
            "_view_count": null,
            "_view_module": "@jupyter-widgets/controls",
            "_view_module_version": "1.5.0",
            "_view_name": "HTMLView",
            "description": "",
            "description_tooltip": null,
            "layout": "IPY_MODEL_e2c32dcce2124722b0661e76741dae00",
            "placeholder": "​",
            "style": "IPY_MODEL_79591d81745942a3870b32d9f9e4e8ba",
            "value": "100%"
          }
        },
        "4b6bfbeebd8e499488d5c2d498c21763": {
          "model_module": "@jupyter-widgets/controls",
          "model_name": "FloatProgressModel",
          "model_module_version": "1.5.0",
          "state": {
            "_dom_classes": [],
            "_model_module": "@jupyter-widgets/controls",
            "_model_module_version": "1.5.0",
            "_model_name": "FloatProgressModel",
            "_view_count": null,
            "_view_module": "@jupyter-widgets/controls",
            "_view_module_version": "1.5.0",
            "_view_name": "ProgressView",
            "bar_style": "success",
            "description": "",
            "description_tooltip": null,
            "layout": "IPY_MODEL_764154c0d77c4cb5a849c4201c0acb64",
            "max": 51019,
            "min": 0,
            "orientation": "horizontal",
            "style": "IPY_MODEL_7804911bf1194e46b446512d5fd55d39",
            "value": 51019
          }
        },
        "5d14796336e64193a8fe8e46d9d8b508": {
          "model_module": "@jupyter-widgets/controls",
          "model_name": "HTMLModel",
          "model_module_version": "1.5.0",
          "state": {
            "_dom_classes": [],
            "_model_module": "@jupyter-widgets/controls",
            "_model_module_version": "1.5.0",
            "_model_name": "HTMLModel",
            "_view_count": null,
            "_view_module": "@jupyter-widgets/controls",
            "_view_module_version": "1.5.0",
            "_view_name": "HTMLView",
            "description": "",
            "description_tooltip": null,
            "layout": "IPY_MODEL_7d3ab7f87d6645458ed249765449a816",
            "placeholder": "​",
            "style": "IPY_MODEL_44ab5a0fd0064926a5ff236a0c359e07",
            "value": " 51019/51019 [6:08:11&lt;00:00,  2.40it/s]"
          }
        },
        "c46f8565cd8d4f03a04565724479fea9": {
          "model_module": "@jupyter-widgets/base",
          "model_name": "LayoutModel",
          "model_module_version": "1.2.0",
          "state": {
            "_model_module": "@jupyter-widgets/base",
            "_model_module_version": "1.2.0",
            "_model_name": "LayoutModel",
            "_view_count": null,
            "_view_module": "@jupyter-widgets/base",
            "_view_module_version": "1.2.0",
            "_view_name": "LayoutView",
            "align_content": null,
            "align_items": null,
            "align_self": null,
            "border": null,
            "bottom": null,
            "display": null,
            "flex": null,
            "flex_flow": null,
            "grid_area": null,
            "grid_auto_columns": null,
            "grid_auto_flow": null,
            "grid_auto_rows": null,
            "grid_column": null,
            "grid_gap": null,
            "grid_row": null,
            "grid_template_areas": null,
            "grid_template_columns": null,
            "grid_template_rows": null,
            "height": null,
            "justify_content": null,
            "justify_items": null,
            "left": null,
            "margin": null,
            "max_height": null,
            "max_width": null,
            "min_height": null,
            "min_width": null,
            "object_fit": null,
            "object_position": null,
            "order": null,
            "overflow": null,
            "overflow_x": null,
            "overflow_y": null,
            "padding": null,
            "right": null,
            "top": null,
            "visibility": null,
            "width": null
          }
        },
        "e2c32dcce2124722b0661e76741dae00": {
          "model_module": "@jupyter-widgets/base",
          "model_name": "LayoutModel",
          "model_module_version": "1.2.0",
          "state": {
            "_model_module": "@jupyter-widgets/base",
            "_model_module_version": "1.2.0",
            "_model_name": "LayoutModel",
            "_view_count": null,
            "_view_module": "@jupyter-widgets/base",
            "_view_module_version": "1.2.0",
            "_view_name": "LayoutView",
            "align_content": null,
            "align_items": null,
            "align_self": null,
            "border": null,
            "bottom": null,
            "display": null,
            "flex": null,
            "flex_flow": null,
            "grid_area": null,
            "grid_auto_columns": null,
            "grid_auto_flow": null,
            "grid_auto_rows": null,
            "grid_column": null,
            "grid_gap": null,
            "grid_row": null,
            "grid_template_areas": null,
            "grid_template_columns": null,
            "grid_template_rows": null,
            "height": null,
            "justify_content": null,
            "justify_items": null,
            "left": null,
            "margin": null,
            "max_height": null,
            "max_width": null,
            "min_height": null,
            "min_width": null,
            "object_fit": null,
            "object_position": null,
            "order": null,
            "overflow": null,
            "overflow_x": null,
            "overflow_y": null,
            "padding": null,
            "right": null,
            "top": null,
            "visibility": null,
            "width": null
          }
        },
        "79591d81745942a3870b32d9f9e4e8ba": {
          "model_module": "@jupyter-widgets/controls",
          "model_name": "DescriptionStyleModel",
          "model_module_version": "1.5.0",
          "state": {
            "_model_module": "@jupyter-widgets/controls",
            "_model_module_version": "1.5.0",
            "_model_name": "DescriptionStyleModel",
            "_view_count": null,
            "_view_module": "@jupyter-widgets/base",
            "_view_module_version": "1.2.0",
            "_view_name": "StyleView",
            "description_width": ""
          }
        },
        "764154c0d77c4cb5a849c4201c0acb64": {
          "model_module": "@jupyter-widgets/base",
          "model_name": "LayoutModel",
          "model_module_version": "1.2.0",
          "state": {
            "_model_module": "@jupyter-widgets/base",
            "_model_module_version": "1.2.0",
            "_model_name": "LayoutModel",
            "_view_count": null,
            "_view_module": "@jupyter-widgets/base",
            "_view_module_version": "1.2.0",
            "_view_name": "LayoutView",
            "align_content": null,
            "align_items": null,
            "align_self": null,
            "border": null,
            "bottom": null,
            "display": null,
            "flex": null,
            "flex_flow": null,
            "grid_area": null,
            "grid_auto_columns": null,
            "grid_auto_flow": null,
            "grid_auto_rows": null,
            "grid_column": null,
            "grid_gap": null,
            "grid_row": null,
            "grid_template_areas": null,
            "grid_template_columns": null,
            "grid_template_rows": null,
            "height": null,
            "justify_content": null,
            "justify_items": null,
            "left": null,
            "margin": null,
            "max_height": null,
            "max_width": null,
            "min_height": null,
            "min_width": null,
            "object_fit": null,
            "object_position": null,
            "order": null,
            "overflow": null,
            "overflow_x": null,
            "overflow_y": null,
            "padding": null,
            "right": null,
            "top": null,
            "visibility": null,
            "width": null
          }
        },
        "7804911bf1194e46b446512d5fd55d39": {
          "model_module": "@jupyter-widgets/controls",
          "model_name": "ProgressStyleModel",
          "model_module_version": "1.5.0",
          "state": {
            "_model_module": "@jupyter-widgets/controls",
            "_model_module_version": "1.5.0",
            "_model_name": "ProgressStyleModel",
            "_view_count": null,
            "_view_module": "@jupyter-widgets/base",
            "_view_module_version": "1.2.0",
            "_view_name": "StyleView",
            "bar_color": null,
            "description_width": ""
          }
        },
        "7d3ab7f87d6645458ed249765449a816": {
          "model_module": "@jupyter-widgets/base",
          "model_name": "LayoutModel",
          "model_module_version": "1.2.0",
          "state": {
            "_model_module": "@jupyter-widgets/base",
            "_model_module_version": "1.2.0",
            "_model_name": "LayoutModel",
            "_view_count": null,
            "_view_module": "@jupyter-widgets/base",
            "_view_module_version": "1.2.0",
            "_view_name": "LayoutView",
            "align_content": null,
            "align_items": null,
            "align_self": null,
            "border": null,
            "bottom": null,
            "display": null,
            "flex": null,
            "flex_flow": null,
            "grid_area": null,
            "grid_auto_columns": null,
            "grid_auto_flow": null,
            "grid_auto_rows": null,
            "grid_column": null,
            "grid_gap": null,
            "grid_row": null,
            "grid_template_areas": null,
            "grid_template_columns": null,
            "grid_template_rows": null,
            "height": null,
            "justify_content": null,
            "justify_items": null,
            "left": null,
            "margin": null,
            "max_height": null,
            "max_width": null,
            "min_height": null,
            "min_width": null,
            "object_fit": null,
            "object_position": null,
            "order": null,
            "overflow": null,
            "overflow_x": null,
            "overflow_y": null,
            "padding": null,
            "right": null,
            "top": null,
            "visibility": null,
            "width": null
          }
        },
        "44ab5a0fd0064926a5ff236a0c359e07": {
          "model_module": "@jupyter-widgets/controls",
          "model_name": "DescriptionStyleModel",
          "model_module_version": "1.5.0",
          "state": {
            "_model_module": "@jupyter-widgets/controls",
            "_model_module_version": "1.5.0",
            "_model_name": "DescriptionStyleModel",
            "_view_count": null,
            "_view_module": "@jupyter-widgets/base",
            "_view_module_version": "1.2.0",
            "_view_name": "StyleView",
            "description_width": ""
          }
        },
        "632420db67574669bc16730f4babef37": {
          "model_module": "@jupyter-widgets/controls",
          "model_name": "HBoxModel",
          "model_module_version": "1.5.0",
          "state": {
            "_dom_classes": [],
            "_model_module": "@jupyter-widgets/controls",
            "_model_module_version": "1.5.0",
            "_model_name": "HBoxModel",
            "_view_count": null,
            "_view_module": "@jupyter-widgets/controls",
            "_view_module_version": "1.5.0",
            "_view_name": "HBoxView",
            "box_style": "",
            "children": [
              "IPY_MODEL_f409c1b66f9c4e7b82e85deb735ce94e",
              "IPY_MODEL_22b9243c02394005b1f5debde6e46fa4",
              "IPY_MODEL_604b80d84e834474a7710952e5a7432c"
            ],
            "layout": "IPY_MODEL_53cbe909a30f4fec9974c459c97e07ab"
          }
        },
        "f409c1b66f9c4e7b82e85deb735ce94e": {
          "model_module": "@jupyter-widgets/controls",
          "model_name": "HTMLModel",
          "model_module_version": "1.5.0",
          "state": {
            "_dom_classes": [],
            "_model_module": "@jupyter-widgets/controls",
            "_model_module_version": "1.5.0",
            "_model_name": "HTMLModel",
            "_view_count": null,
            "_view_module": "@jupyter-widgets/controls",
            "_view_module_version": "1.5.0",
            "_view_name": "HTMLView",
            "description": "",
            "description_tooltip": null,
            "layout": "IPY_MODEL_25de90b5a7534ac6a6c8fbc314f80843",
            "placeholder": "​",
            "style": "IPY_MODEL_96e826f26a664b8eae8107f5b4894032",
            "value": "100%"
          }
        },
        "22b9243c02394005b1f5debde6e46fa4": {
          "model_module": "@jupyter-widgets/controls",
          "model_name": "FloatProgressModel",
          "model_module_version": "1.5.0",
          "state": {
            "_dom_classes": [],
            "_model_module": "@jupyter-widgets/controls",
            "_model_module_version": "1.5.0",
            "_model_name": "FloatProgressModel",
            "_view_count": null,
            "_view_module": "@jupyter-widgets/controls",
            "_view_module_version": "1.5.0",
            "_view_name": "ProgressView",
            "bar_style": "success",
            "description": "",
            "description_tooltip": null,
            "layout": "IPY_MODEL_d641c5568782454b8eb2ff1dcd89c832",
            "max": 400,
            "min": 0,
            "orientation": "horizontal",
            "style": "IPY_MODEL_6cccc4cc19b44407afc565592615d358",
            "value": 400
          }
        },
        "604b80d84e834474a7710952e5a7432c": {
          "model_module": "@jupyter-widgets/controls",
          "model_name": "HTMLModel",
          "model_module_version": "1.5.0",
          "state": {
            "_dom_classes": [],
            "_model_module": "@jupyter-widgets/controls",
            "_model_module_version": "1.5.0",
            "_model_name": "HTMLModel",
            "_view_count": null,
            "_view_module": "@jupyter-widgets/controls",
            "_view_module_version": "1.5.0",
            "_view_name": "HTMLView",
            "description": "",
            "description_tooltip": null,
            "layout": "IPY_MODEL_d40c6738bd904dc18c91acc68f2fa141",
            "placeholder": "​",
            "style": "IPY_MODEL_48b4af3643724c15b285f2c0d84be43d",
            "value": " 400/400 [03:08&lt;00:00,  2.72it/s]"
          }
        },
        "53cbe909a30f4fec9974c459c97e07ab": {
          "model_module": "@jupyter-widgets/base",
          "model_name": "LayoutModel",
          "model_module_version": "1.2.0",
          "state": {
            "_model_module": "@jupyter-widgets/base",
            "_model_module_version": "1.2.0",
            "_model_name": "LayoutModel",
            "_view_count": null,
            "_view_module": "@jupyter-widgets/base",
            "_view_module_version": "1.2.0",
            "_view_name": "LayoutView",
            "align_content": null,
            "align_items": null,
            "align_self": null,
            "border": null,
            "bottom": null,
            "display": null,
            "flex": null,
            "flex_flow": null,
            "grid_area": null,
            "grid_auto_columns": null,
            "grid_auto_flow": null,
            "grid_auto_rows": null,
            "grid_column": null,
            "grid_gap": null,
            "grid_row": null,
            "grid_template_areas": null,
            "grid_template_columns": null,
            "grid_template_rows": null,
            "height": null,
            "justify_content": null,
            "justify_items": null,
            "left": null,
            "margin": null,
            "max_height": null,
            "max_width": null,
            "min_height": null,
            "min_width": null,
            "object_fit": null,
            "object_position": null,
            "order": null,
            "overflow": null,
            "overflow_x": null,
            "overflow_y": null,
            "padding": null,
            "right": null,
            "top": null,
            "visibility": null,
            "width": null
          }
        },
        "25de90b5a7534ac6a6c8fbc314f80843": {
          "model_module": "@jupyter-widgets/base",
          "model_name": "LayoutModel",
          "model_module_version": "1.2.0",
          "state": {
            "_model_module": "@jupyter-widgets/base",
            "_model_module_version": "1.2.0",
            "_model_name": "LayoutModel",
            "_view_count": null,
            "_view_module": "@jupyter-widgets/base",
            "_view_module_version": "1.2.0",
            "_view_name": "LayoutView",
            "align_content": null,
            "align_items": null,
            "align_self": null,
            "border": null,
            "bottom": null,
            "display": null,
            "flex": null,
            "flex_flow": null,
            "grid_area": null,
            "grid_auto_columns": null,
            "grid_auto_flow": null,
            "grid_auto_rows": null,
            "grid_column": null,
            "grid_gap": null,
            "grid_row": null,
            "grid_template_areas": null,
            "grid_template_columns": null,
            "grid_template_rows": null,
            "height": null,
            "justify_content": null,
            "justify_items": null,
            "left": null,
            "margin": null,
            "max_height": null,
            "max_width": null,
            "min_height": null,
            "min_width": null,
            "object_fit": null,
            "object_position": null,
            "order": null,
            "overflow": null,
            "overflow_x": null,
            "overflow_y": null,
            "padding": null,
            "right": null,
            "top": null,
            "visibility": null,
            "width": null
          }
        },
        "96e826f26a664b8eae8107f5b4894032": {
          "model_module": "@jupyter-widgets/controls",
          "model_name": "DescriptionStyleModel",
          "model_module_version": "1.5.0",
          "state": {
            "_model_module": "@jupyter-widgets/controls",
            "_model_module_version": "1.5.0",
            "_model_name": "DescriptionStyleModel",
            "_view_count": null,
            "_view_module": "@jupyter-widgets/base",
            "_view_module_version": "1.2.0",
            "_view_name": "StyleView",
            "description_width": ""
          }
        },
        "d641c5568782454b8eb2ff1dcd89c832": {
          "model_module": "@jupyter-widgets/base",
          "model_name": "LayoutModel",
          "model_module_version": "1.2.0",
          "state": {
            "_model_module": "@jupyter-widgets/base",
            "_model_module_version": "1.2.0",
            "_model_name": "LayoutModel",
            "_view_count": null,
            "_view_module": "@jupyter-widgets/base",
            "_view_module_version": "1.2.0",
            "_view_name": "LayoutView",
            "align_content": null,
            "align_items": null,
            "align_self": null,
            "border": null,
            "bottom": null,
            "display": null,
            "flex": null,
            "flex_flow": null,
            "grid_area": null,
            "grid_auto_columns": null,
            "grid_auto_flow": null,
            "grid_auto_rows": null,
            "grid_column": null,
            "grid_gap": null,
            "grid_row": null,
            "grid_template_areas": null,
            "grid_template_columns": null,
            "grid_template_rows": null,
            "height": null,
            "justify_content": null,
            "justify_items": null,
            "left": null,
            "margin": null,
            "max_height": null,
            "max_width": null,
            "min_height": null,
            "min_width": null,
            "object_fit": null,
            "object_position": null,
            "order": null,
            "overflow": null,
            "overflow_x": null,
            "overflow_y": null,
            "padding": null,
            "right": null,
            "top": null,
            "visibility": null,
            "width": null
          }
        },
        "6cccc4cc19b44407afc565592615d358": {
          "model_module": "@jupyter-widgets/controls",
          "model_name": "ProgressStyleModel",
          "model_module_version": "1.5.0",
          "state": {
            "_model_module": "@jupyter-widgets/controls",
            "_model_module_version": "1.5.0",
            "_model_name": "ProgressStyleModel",
            "_view_count": null,
            "_view_module": "@jupyter-widgets/base",
            "_view_module_version": "1.2.0",
            "_view_name": "StyleView",
            "bar_color": null,
            "description_width": ""
          }
        },
        "d40c6738bd904dc18c91acc68f2fa141": {
          "model_module": "@jupyter-widgets/base",
          "model_name": "LayoutModel",
          "model_module_version": "1.2.0",
          "state": {
            "_model_module": "@jupyter-widgets/base",
            "_model_module_version": "1.2.0",
            "_model_name": "LayoutModel",
            "_view_count": null,
            "_view_module": "@jupyter-widgets/base",
            "_view_module_version": "1.2.0",
            "_view_name": "LayoutView",
            "align_content": null,
            "align_items": null,
            "align_self": null,
            "border": null,
            "bottom": null,
            "display": null,
            "flex": null,
            "flex_flow": null,
            "grid_area": null,
            "grid_auto_columns": null,
            "grid_auto_flow": null,
            "grid_auto_rows": null,
            "grid_column": null,
            "grid_gap": null,
            "grid_row": null,
            "grid_template_areas": null,
            "grid_template_columns": null,
            "grid_template_rows": null,
            "height": null,
            "justify_content": null,
            "justify_items": null,
            "left": null,
            "margin": null,
            "max_height": null,
            "max_width": null,
            "min_height": null,
            "min_width": null,
            "object_fit": null,
            "object_position": null,
            "order": null,
            "overflow": null,
            "overflow_x": null,
            "overflow_y": null,
            "padding": null,
            "right": null,
            "top": null,
            "visibility": null,
            "width": null
          }
        },
        "48b4af3643724c15b285f2c0d84be43d": {
          "model_module": "@jupyter-widgets/controls",
          "model_name": "DescriptionStyleModel",
          "model_module_version": "1.5.0",
          "state": {
            "_model_module": "@jupyter-widgets/controls",
            "_model_module_version": "1.5.0",
            "_model_name": "DescriptionStyleModel",
            "_view_count": null,
            "_view_module": "@jupyter-widgets/base",
            "_view_module_version": "1.2.0",
            "_view_name": "StyleView",
            "description_width": ""
          }
        },
        "4685574ac48c48f49680c4c336916740": {
          "model_module": "@jupyter-widgets/controls",
          "model_name": "HBoxModel",
          "model_module_version": "1.5.0",
          "state": {
            "_dom_classes": [],
            "_model_module": "@jupyter-widgets/controls",
            "_model_module_version": "1.5.0",
            "_model_name": "HBoxModel",
            "_view_count": null,
            "_view_module": "@jupyter-widgets/controls",
            "_view_module_version": "1.5.0",
            "_view_name": "HBoxView",
            "box_style": "",
            "children": [
              "IPY_MODEL_ae934b47f6ab442aa23693c2dd5a2c4f",
              "IPY_MODEL_8ccf50278d5745bc9a5a22bc04ffa634",
              "IPY_MODEL_c4823f7180274e85a160f207861e5936"
            ],
            "layout": "IPY_MODEL_57282569a98b4439b2ef261367cf57a1"
          }
        },
        "ae934b47f6ab442aa23693c2dd5a2c4f": {
          "model_module": "@jupyter-widgets/controls",
          "model_name": "HTMLModel",
          "model_module_version": "1.5.0",
          "state": {
            "_dom_classes": [],
            "_model_module": "@jupyter-widgets/controls",
            "_model_module_version": "1.5.0",
            "_model_name": "HTMLModel",
            "_view_count": null,
            "_view_module": "@jupyter-widgets/controls",
            "_view_module_version": "1.5.0",
            "_view_name": "HTMLView",
            "description": "",
            "description_tooltip": null,
            "layout": "IPY_MODEL_075027ef0bd34cc4b627f0de007f5961",
            "placeholder": "​",
            "style": "IPY_MODEL_d33ebc6a80934cf5ab5f5bcfd1887efc",
            "value": "100%"
          }
        },
        "8ccf50278d5745bc9a5a22bc04ffa634": {
          "model_module": "@jupyter-widgets/controls",
          "model_name": "FloatProgressModel",
          "model_module_version": "1.5.0",
          "state": {
            "_dom_classes": [],
            "_model_module": "@jupyter-widgets/controls",
            "_model_module_version": "1.5.0",
            "_model_name": "FloatProgressModel",
            "_view_count": null,
            "_view_module": "@jupyter-widgets/controls",
            "_view_module_version": "1.5.0",
            "_view_name": "ProgressView",
            "bar_style": "success",
            "description": "",
            "description_tooltip": null,
            "layout": "IPY_MODEL_883c916303d542a98e1ac9861287d475",
            "max": 100,
            "min": 0,
            "orientation": "horizontal",
            "style": "IPY_MODEL_853daca61fa1437db7b7751e1561bbe6",
            "value": 100
          }
        },
        "c4823f7180274e85a160f207861e5936": {
          "model_module": "@jupyter-widgets/controls",
          "model_name": "HTMLModel",
          "model_module_version": "1.5.0",
          "state": {
            "_dom_classes": [],
            "_model_module": "@jupyter-widgets/controls",
            "_model_module_version": "1.5.0",
            "_model_name": "HTMLModel",
            "_view_count": null,
            "_view_module": "@jupyter-widgets/controls",
            "_view_module_version": "1.5.0",
            "_view_name": "HTMLView",
            "description": "",
            "description_tooltip": null,
            "layout": "IPY_MODEL_4ddf2b00cd5548499c892bd60a4ca13a",
            "placeholder": "​",
            "style": "IPY_MODEL_42e5dc04341a49cc95b0ac0a73df3c5c",
            "value": " 100/100 [00:44&lt;00:00,  1.81it/s]"
          }
        },
        "57282569a98b4439b2ef261367cf57a1": {
          "model_module": "@jupyter-widgets/base",
          "model_name": "LayoutModel",
          "model_module_version": "1.2.0",
          "state": {
            "_model_module": "@jupyter-widgets/base",
            "_model_module_version": "1.2.0",
            "_model_name": "LayoutModel",
            "_view_count": null,
            "_view_module": "@jupyter-widgets/base",
            "_view_module_version": "1.2.0",
            "_view_name": "LayoutView",
            "align_content": null,
            "align_items": null,
            "align_self": null,
            "border": null,
            "bottom": null,
            "display": null,
            "flex": null,
            "flex_flow": null,
            "grid_area": null,
            "grid_auto_columns": null,
            "grid_auto_flow": null,
            "grid_auto_rows": null,
            "grid_column": null,
            "grid_gap": null,
            "grid_row": null,
            "grid_template_areas": null,
            "grid_template_columns": null,
            "grid_template_rows": null,
            "height": null,
            "justify_content": null,
            "justify_items": null,
            "left": null,
            "margin": null,
            "max_height": null,
            "max_width": null,
            "min_height": null,
            "min_width": null,
            "object_fit": null,
            "object_position": null,
            "order": null,
            "overflow": null,
            "overflow_x": null,
            "overflow_y": null,
            "padding": null,
            "right": null,
            "top": null,
            "visibility": null,
            "width": null
          }
        },
        "075027ef0bd34cc4b627f0de007f5961": {
          "model_module": "@jupyter-widgets/base",
          "model_name": "LayoutModel",
          "model_module_version": "1.2.0",
          "state": {
            "_model_module": "@jupyter-widgets/base",
            "_model_module_version": "1.2.0",
            "_model_name": "LayoutModel",
            "_view_count": null,
            "_view_module": "@jupyter-widgets/base",
            "_view_module_version": "1.2.0",
            "_view_name": "LayoutView",
            "align_content": null,
            "align_items": null,
            "align_self": null,
            "border": null,
            "bottom": null,
            "display": null,
            "flex": null,
            "flex_flow": null,
            "grid_area": null,
            "grid_auto_columns": null,
            "grid_auto_flow": null,
            "grid_auto_rows": null,
            "grid_column": null,
            "grid_gap": null,
            "grid_row": null,
            "grid_template_areas": null,
            "grid_template_columns": null,
            "grid_template_rows": null,
            "height": null,
            "justify_content": null,
            "justify_items": null,
            "left": null,
            "margin": null,
            "max_height": null,
            "max_width": null,
            "min_height": null,
            "min_width": null,
            "object_fit": null,
            "object_position": null,
            "order": null,
            "overflow": null,
            "overflow_x": null,
            "overflow_y": null,
            "padding": null,
            "right": null,
            "top": null,
            "visibility": null,
            "width": null
          }
        },
        "d33ebc6a80934cf5ab5f5bcfd1887efc": {
          "model_module": "@jupyter-widgets/controls",
          "model_name": "DescriptionStyleModel",
          "model_module_version": "1.5.0",
          "state": {
            "_model_module": "@jupyter-widgets/controls",
            "_model_module_version": "1.5.0",
            "_model_name": "DescriptionStyleModel",
            "_view_count": null,
            "_view_module": "@jupyter-widgets/base",
            "_view_module_version": "1.2.0",
            "_view_name": "StyleView",
            "description_width": ""
          }
        },
        "883c916303d542a98e1ac9861287d475": {
          "model_module": "@jupyter-widgets/base",
          "model_name": "LayoutModel",
          "model_module_version": "1.2.0",
          "state": {
            "_model_module": "@jupyter-widgets/base",
            "_model_module_version": "1.2.0",
            "_model_name": "LayoutModel",
            "_view_count": null,
            "_view_module": "@jupyter-widgets/base",
            "_view_module_version": "1.2.0",
            "_view_name": "LayoutView",
            "align_content": null,
            "align_items": null,
            "align_self": null,
            "border": null,
            "bottom": null,
            "display": null,
            "flex": null,
            "flex_flow": null,
            "grid_area": null,
            "grid_auto_columns": null,
            "grid_auto_flow": null,
            "grid_auto_rows": null,
            "grid_column": null,
            "grid_gap": null,
            "grid_row": null,
            "grid_template_areas": null,
            "grid_template_columns": null,
            "grid_template_rows": null,
            "height": null,
            "justify_content": null,
            "justify_items": null,
            "left": null,
            "margin": null,
            "max_height": null,
            "max_width": null,
            "min_height": null,
            "min_width": null,
            "object_fit": null,
            "object_position": null,
            "order": null,
            "overflow": null,
            "overflow_x": null,
            "overflow_y": null,
            "padding": null,
            "right": null,
            "top": null,
            "visibility": null,
            "width": null
          }
        },
        "853daca61fa1437db7b7751e1561bbe6": {
          "model_module": "@jupyter-widgets/controls",
          "model_name": "ProgressStyleModel",
          "model_module_version": "1.5.0",
          "state": {
            "_model_module": "@jupyter-widgets/controls",
            "_model_module_version": "1.5.0",
            "_model_name": "ProgressStyleModel",
            "_view_count": null,
            "_view_module": "@jupyter-widgets/base",
            "_view_module_version": "1.2.0",
            "_view_name": "StyleView",
            "bar_color": null,
            "description_width": ""
          }
        },
        "4ddf2b00cd5548499c892bd60a4ca13a": {
          "model_module": "@jupyter-widgets/base",
          "model_name": "LayoutModel",
          "model_module_version": "1.2.0",
          "state": {
            "_model_module": "@jupyter-widgets/base",
            "_model_module_version": "1.2.0",
            "_model_name": "LayoutModel",
            "_view_count": null,
            "_view_module": "@jupyter-widgets/base",
            "_view_module_version": "1.2.0",
            "_view_name": "LayoutView",
            "align_content": null,
            "align_items": null,
            "align_self": null,
            "border": null,
            "bottom": null,
            "display": null,
            "flex": null,
            "flex_flow": null,
            "grid_area": null,
            "grid_auto_columns": null,
            "grid_auto_flow": null,
            "grid_auto_rows": null,
            "grid_column": null,
            "grid_gap": null,
            "grid_row": null,
            "grid_template_areas": null,
            "grid_template_columns": null,
            "grid_template_rows": null,
            "height": null,
            "justify_content": null,
            "justify_items": null,
            "left": null,
            "margin": null,
            "max_height": null,
            "max_width": null,
            "min_height": null,
            "min_width": null,
            "object_fit": null,
            "object_position": null,
            "order": null,
            "overflow": null,
            "overflow_x": null,
            "overflow_y": null,
            "padding": null,
            "right": null,
            "top": null,
            "visibility": null,
            "width": null
          }
        },
        "42e5dc04341a49cc95b0ac0a73df3c5c": {
          "model_module": "@jupyter-widgets/controls",
          "model_name": "DescriptionStyleModel",
          "model_module_version": "1.5.0",
          "state": {
            "_model_module": "@jupyter-widgets/controls",
            "_model_module_version": "1.5.0",
            "_model_name": "DescriptionStyleModel",
            "_view_count": null,
            "_view_module": "@jupyter-widgets/base",
            "_view_module_version": "1.2.0",
            "_view_name": "StyleView",
            "description_width": ""
          }
        },
        "28ef72e995bc4641aafe0008753e6b81": {
          "model_module": "@jupyter-widgets/controls",
          "model_name": "HBoxModel",
          "model_module_version": "1.5.0",
          "state": {
            "_dom_classes": [],
            "_model_module": "@jupyter-widgets/controls",
            "_model_module_version": "1.5.0",
            "_model_name": "HBoxModel",
            "_view_count": null,
            "_view_module": "@jupyter-widgets/controls",
            "_view_module_version": "1.5.0",
            "_view_name": "HBoxView",
            "box_style": "",
            "children": [
              "IPY_MODEL_afa42fcd06b149b895860e4e093d5c6e",
              "IPY_MODEL_c29226e49c3942e289dd5ee13ba92958",
              "IPY_MODEL_eae6462c744c46b8941fc00b3e950819"
            ],
            "layout": "IPY_MODEL_61b1ba6ddd214795b5fa107f1fef8cc7"
          }
        },
        "afa42fcd06b149b895860e4e093d5c6e": {
          "model_module": "@jupyter-widgets/controls",
          "model_name": "HTMLModel",
          "model_module_version": "1.5.0",
          "state": {
            "_dom_classes": [],
            "_model_module": "@jupyter-widgets/controls",
            "_model_module_version": "1.5.0",
            "_model_name": "HTMLModel",
            "_view_count": null,
            "_view_module": "@jupyter-widgets/controls",
            "_view_module_version": "1.5.0",
            "_view_name": "HTMLView",
            "description": "",
            "description_tooltip": null,
            "layout": "IPY_MODEL_e2b58cca3a98463597c4becec72f4fa0",
            "placeholder": "​",
            "style": "IPY_MODEL_1af1e64836cd4f20b1e9d7bb9fc1ded9",
            "value": "100%"
          }
        },
        "c29226e49c3942e289dd5ee13ba92958": {
          "model_module": "@jupyter-widgets/controls",
          "model_name": "FloatProgressModel",
          "model_module_version": "1.5.0",
          "state": {
            "_dom_classes": [],
            "_model_module": "@jupyter-widgets/controls",
            "_model_module_version": "1.5.0",
            "_model_name": "FloatProgressModel",
            "_view_count": null,
            "_view_module": "@jupyter-widgets/controls",
            "_view_module_version": "1.5.0",
            "_view_name": "ProgressView",
            "bar_style": "success",
            "description": "",
            "description_tooltip": null,
            "layout": "IPY_MODEL_36b5327f8e5b429fb0a7da2eb238b9b4",
            "max": 50,
            "min": 0,
            "orientation": "horizontal",
            "style": "IPY_MODEL_88c2d5add35c402db78008298dbd5e46",
            "value": 50
          }
        },
        "eae6462c744c46b8941fc00b3e950819": {
          "model_module": "@jupyter-widgets/controls",
          "model_name": "HTMLModel",
          "model_module_version": "1.5.0",
          "state": {
            "_dom_classes": [],
            "_model_module": "@jupyter-widgets/controls",
            "_model_module_version": "1.5.0",
            "_model_name": "HTMLModel",
            "_view_count": null,
            "_view_module": "@jupyter-widgets/controls",
            "_view_module_version": "1.5.0",
            "_view_name": "HTMLView",
            "description": "",
            "description_tooltip": null,
            "layout": "IPY_MODEL_5763abb3b7d84b4eb39869d9d77e1cf5",
            "placeholder": "​",
            "style": "IPY_MODEL_db84526f51ac4a729d36f56a002ab251",
            "value": " 50/50 [00:27&lt;00:00,  1.70it/s]"
          }
        },
        "61b1ba6ddd214795b5fa107f1fef8cc7": {
          "model_module": "@jupyter-widgets/base",
          "model_name": "LayoutModel",
          "model_module_version": "1.2.0",
          "state": {
            "_model_module": "@jupyter-widgets/base",
            "_model_module_version": "1.2.0",
            "_model_name": "LayoutModel",
            "_view_count": null,
            "_view_module": "@jupyter-widgets/base",
            "_view_module_version": "1.2.0",
            "_view_name": "LayoutView",
            "align_content": null,
            "align_items": null,
            "align_self": null,
            "border": null,
            "bottom": null,
            "display": null,
            "flex": null,
            "flex_flow": null,
            "grid_area": null,
            "grid_auto_columns": null,
            "grid_auto_flow": null,
            "grid_auto_rows": null,
            "grid_column": null,
            "grid_gap": null,
            "grid_row": null,
            "grid_template_areas": null,
            "grid_template_columns": null,
            "grid_template_rows": null,
            "height": null,
            "justify_content": null,
            "justify_items": null,
            "left": null,
            "margin": null,
            "max_height": null,
            "max_width": null,
            "min_height": null,
            "min_width": null,
            "object_fit": null,
            "object_position": null,
            "order": null,
            "overflow": null,
            "overflow_x": null,
            "overflow_y": null,
            "padding": null,
            "right": null,
            "top": null,
            "visibility": null,
            "width": null
          }
        },
        "e2b58cca3a98463597c4becec72f4fa0": {
          "model_module": "@jupyter-widgets/base",
          "model_name": "LayoutModel",
          "model_module_version": "1.2.0",
          "state": {
            "_model_module": "@jupyter-widgets/base",
            "_model_module_version": "1.2.0",
            "_model_name": "LayoutModel",
            "_view_count": null,
            "_view_module": "@jupyter-widgets/base",
            "_view_module_version": "1.2.0",
            "_view_name": "LayoutView",
            "align_content": null,
            "align_items": null,
            "align_self": null,
            "border": null,
            "bottom": null,
            "display": null,
            "flex": null,
            "flex_flow": null,
            "grid_area": null,
            "grid_auto_columns": null,
            "grid_auto_flow": null,
            "grid_auto_rows": null,
            "grid_column": null,
            "grid_gap": null,
            "grid_row": null,
            "grid_template_areas": null,
            "grid_template_columns": null,
            "grid_template_rows": null,
            "height": null,
            "justify_content": null,
            "justify_items": null,
            "left": null,
            "margin": null,
            "max_height": null,
            "max_width": null,
            "min_height": null,
            "min_width": null,
            "object_fit": null,
            "object_position": null,
            "order": null,
            "overflow": null,
            "overflow_x": null,
            "overflow_y": null,
            "padding": null,
            "right": null,
            "top": null,
            "visibility": null,
            "width": null
          }
        },
        "1af1e64836cd4f20b1e9d7bb9fc1ded9": {
          "model_module": "@jupyter-widgets/controls",
          "model_name": "DescriptionStyleModel",
          "model_module_version": "1.5.0",
          "state": {
            "_model_module": "@jupyter-widgets/controls",
            "_model_module_version": "1.5.0",
            "_model_name": "DescriptionStyleModel",
            "_view_count": null,
            "_view_module": "@jupyter-widgets/base",
            "_view_module_version": "1.2.0",
            "_view_name": "StyleView",
            "description_width": ""
          }
        },
        "36b5327f8e5b429fb0a7da2eb238b9b4": {
          "model_module": "@jupyter-widgets/base",
          "model_name": "LayoutModel",
          "model_module_version": "1.2.0",
          "state": {
            "_model_module": "@jupyter-widgets/base",
            "_model_module_version": "1.2.0",
            "_model_name": "LayoutModel",
            "_view_count": null,
            "_view_module": "@jupyter-widgets/base",
            "_view_module_version": "1.2.0",
            "_view_name": "LayoutView",
            "align_content": null,
            "align_items": null,
            "align_self": null,
            "border": null,
            "bottom": null,
            "display": null,
            "flex": null,
            "flex_flow": null,
            "grid_area": null,
            "grid_auto_columns": null,
            "grid_auto_flow": null,
            "grid_auto_rows": null,
            "grid_column": null,
            "grid_gap": null,
            "grid_row": null,
            "grid_template_areas": null,
            "grid_template_columns": null,
            "grid_template_rows": null,
            "height": null,
            "justify_content": null,
            "justify_items": null,
            "left": null,
            "margin": null,
            "max_height": null,
            "max_width": null,
            "min_height": null,
            "min_width": null,
            "object_fit": null,
            "object_position": null,
            "order": null,
            "overflow": null,
            "overflow_x": null,
            "overflow_y": null,
            "padding": null,
            "right": null,
            "top": null,
            "visibility": null,
            "width": null
          }
        },
        "88c2d5add35c402db78008298dbd5e46": {
          "model_module": "@jupyter-widgets/controls",
          "model_name": "ProgressStyleModel",
          "model_module_version": "1.5.0",
          "state": {
            "_model_module": "@jupyter-widgets/controls",
            "_model_module_version": "1.5.0",
            "_model_name": "ProgressStyleModel",
            "_view_count": null,
            "_view_module": "@jupyter-widgets/base",
            "_view_module_version": "1.2.0",
            "_view_name": "StyleView",
            "bar_color": null,
            "description_width": ""
          }
        },
        "5763abb3b7d84b4eb39869d9d77e1cf5": {
          "model_module": "@jupyter-widgets/base",
          "model_name": "LayoutModel",
          "model_module_version": "1.2.0",
          "state": {
            "_model_module": "@jupyter-widgets/base",
            "_model_module_version": "1.2.0",
            "_model_name": "LayoutModel",
            "_view_count": null,
            "_view_module": "@jupyter-widgets/base",
            "_view_module_version": "1.2.0",
            "_view_name": "LayoutView",
            "align_content": null,
            "align_items": null,
            "align_self": null,
            "border": null,
            "bottom": null,
            "display": null,
            "flex": null,
            "flex_flow": null,
            "grid_area": null,
            "grid_auto_columns": null,
            "grid_auto_flow": null,
            "grid_auto_rows": null,
            "grid_column": null,
            "grid_gap": null,
            "grid_row": null,
            "grid_template_areas": null,
            "grid_template_columns": null,
            "grid_template_rows": null,
            "height": null,
            "justify_content": null,
            "justify_items": null,
            "left": null,
            "margin": null,
            "max_height": null,
            "max_width": null,
            "min_height": null,
            "min_width": null,
            "object_fit": null,
            "object_position": null,
            "order": null,
            "overflow": null,
            "overflow_x": null,
            "overflow_y": null,
            "padding": null,
            "right": null,
            "top": null,
            "visibility": null,
            "width": null
          }
        },
        "db84526f51ac4a729d36f56a002ab251": {
          "model_module": "@jupyter-widgets/controls",
          "model_name": "DescriptionStyleModel",
          "model_module_version": "1.5.0",
          "state": {
            "_model_module": "@jupyter-widgets/controls",
            "_model_module_version": "1.5.0",
            "_model_name": "DescriptionStyleModel",
            "_view_count": null,
            "_view_module": "@jupyter-widgets/base",
            "_view_module_version": "1.2.0",
            "_view_name": "StyleView",
            "description_width": ""
          }
        },
        "1accc33789e9454992e4f8b9d4d2101b": {
          "model_module": "@jupyter-widgets/controls",
          "model_name": "HBoxModel",
          "model_module_version": "1.5.0",
          "state": {
            "_dom_classes": [],
            "_model_module": "@jupyter-widgets/controls",
            "_model_module_version": "1.5.0",
            "_model_name": "HBoxModel",
            "_view_count": null,
            "_view_module": "@jupyter-widgets/controls",
            "_view_module_version": "1.5.0",
            "_view_name": "HBoxView",
            "box_style": "",
            "children": [
              "IPY_MODEL_b96bf42d7fba483caa3dda671857ff90",
              "IPY_MODEL_35deb001d0f54a208ab184d9d30319e0",
              "IPY_MODEL_3c3df89dc0ec48fca935fab1a704987e"
            ],
            "layout": "IPY_MODEL_33af438b5fff4ebf9c653f0538f2f981"
          }
        },
        "b96bf42d7fba483caa3dda671857ff90": {
          "model_module": "@jupyter-widgets/controls",
          "model_name": "HTMLModel",
          "model_module_version": "1.5.0",
          "state": {
            "_dom_classes": [],
            "_model_module": "@jupyter-widgets/controls",
            "_model_module_version": "1.5.0",
            "_model_name": "HTMLModel",
            "_view_count": null,
            "_view_module": "@jupyter-widgets/controls",
            "_view_module_version": "1.5.0",
            "_view_name": "HTMLView",
            "description": "",
            "description_tooltip": null,
            "layout": "IPY_MODEL_0dd5f20be4d64ed4a94feda04666ad9e",
            "placeholder": "​",
            "style": "IPY_MODEL_8ebb1da817da42629a5e3492c998c0ce",
            "value": "100%"
          }
        },
        "35deb001d0f54a208ab184d9d30319e0": {
          "model_module": "@jupyter-widgets/controls",
          "model_name": "FloatProgressModel",
          "model_module_version": "1.5.0",
          "state": {
            "_dom_classes": [],
            "_model_module": "@jupyter-widgets/controls",
            "_model_module_version": "1.5.0",
            "_model_name": "FloatProgressModel",
            "_view_count": null,
            "_view_module": "@jupyter-widgets/controls",
            "_view_module_version": "1.5.0",
            "_view_name": "ProgressView",
            "bar_style": "success",
            "description": "",
            "description_tooltip": null,
            "layout": "IPY_MODEL_45df1f82d38b4c82a5ed22f0c488aa3f",
            "max": 250,
            "min": 0,
            "orientation": "horizontal",
            "style": "IPY_MODEL_1df73e15fde848058ff01704645d5ebc",
            "value": 250
          }
        },
        "3c3df89dc0ec48fca935fab1a704987e": {
          "model_module": "@jupyter-widgets/controls",
          "model_name": "HTMLModel",
          "model_module_version": "1.5.0",
          "state": {
            "_dom_classes": [],
            "_model_module": "@jupyter-widgets/controls",
            "_model_module_version": "1.5.0",
            "_model_name": "HTMLModel",
            "_view_count": null,
            "_view_module": "@jupyter-widgets/controls",
            "_view_module_version": "1.5.0",
            "_view_name": "HTMLView",
            "description": "",
            "description_tooltip": null,
            "layout": "IPY_MODEL_a3e1c48ea88c42369041ff4f902f9865",
            "placeholder": "​",
            "style": "IPY_MODEL_623de4dc0e8541bc844e3ebe61bc95b4",
            "value": " 250/250 [01:37&lt;00:00,  2.88it/s]"
          }
        },
        "33af438b5fff4ebf9c653f0538f2f981": {
          "model_module": "@jupyter-widgets/base",
          "model_name": "LayoutModel",
          "model_module_version": "1.2.0",
          "state": {
            "_model_module": "@jupyter-widgets/base",
            "_model_module_version": "1.2.0",
            "_model_name": "LayoutModel",
            "_view_count": null,
            "_view_module": "@jupyter-widgets/base",
            "_view_module_version": "1.2.0",
            "_view_name": "LayoutView",
            "align_content": null,
            "align_items": null,
            "align_self": null,
            "border": null,
            "bottom": null,
            "display": null,
            "flex": null,
            "flex_flow": null,
            "grid_area": null,
            "grid_auto_columns": null,
            "grid_auto_flow": null,
            "grid_auto_rows": null,
            "grid_column": null,
            "grid_gap": null,
            "grid_row": null,
            "grid_template_areas": null,
            "grid_template_columns": null,
            "grid_template_rows": null,
            "height": null,
            "justify_content": null,
            "justify_items": null,
            "left": null,
            "margin": null,
            "max_height": null,
            "max_width": null,
            "min_height": null,
            "min_width": null,
            "object_fit": null,
            "object_position": null,
            "order": null,
            "overflow": null,
            "overflow_x": null,
            "overflow_y": null,
            "padding": null,
            "right": null,
            "top": null,
            "visibility": null,
            "width": null
          }
        },
        "0dd5f20be4d64ed4a94feda04666ad9e": {
          "model_module": "@jupyter-widgets/base",
          "model_name": "LayoutModel",
          "model_module_version": "1.2.0",
          "state": {
            "_model_module": "@jupyter-widgets/base",
            "_model_module_version": "1.2.0",
            "_model_name": "LayoutModel",
            "_view_count": null,
            "_view_module": "@jupyter-widgets/base",
            "_view_module_version": "1.2.0",
            "_view_name": "LayoutView",
            "align_content": null,
            "align_items": null,
            "align_self": null,
            "border": null,
            "bottom": null,
            "display": null,
            "flex": null,
            "flex_flow": null,
            "grid_area": null,
            "grid_auto_columns": null,
            "grid_auto_flow": null,
            "grid_auto_rows": null,
            "grid_column": null,
            "grid_gap": null,
            "grid_row": null,
            "grid_template_areas": null,
            "grid_template_columns": null,
            "grid_template_rows": null,
            "height": null,
            "justify_content": null,
            "justify_items": null,
            "left": null,
            "margin": null,
            "max_height": null,
            "max_width": null,
            "min_height": null,
            "min_width": null,
            "object_fit": null,
            "object_position": null,
            "order": null,
            "overflow": null,
            "overflow_x": null,
            "overflow_y": null,
            "padding": null,
            "right": null,
            "top": null,
            "visibility": null,
            "width": null
          }
        },
        "8ebb1da817da42629a5e3492c998c0ce": {
          "model_module": "@jupyter-widgets/controls",
          "model_name": "DescriptionStyleModel",
          "model_module_version": "1.5.0",
          "state": {
            "_model_module": "@jupyter-widgets/controls",
            "_model_module_version": "1.5.0",
            "_model_name": "DescriptionStyleModel",
            "_view_count": null,
            "_view_module": "@jupyter-widgets/base",
            "_view_module_version": "1.2.0",
            "_view_name": "StyleView",
            "description_width": ""
          }
        },
        "45df1f82d38b4c82a5ed22f0c488aa3f": {
          "model_module": "@jupyter-widgets/base",
          "model_name": "LayoutModel",
          "model_module_version": "1.2.0",
          "state": {
            "_model_module": "@jupyter-widgets/base",
            "_model_module_version": "1.2.0",
            "_model_name": "LayoutModel",
            "_view_count": null,
            "_view_module": "@jupyter-widgets/base",
            "_view_module_version": "1.2.0",
            "_view_name": "LayoutView",
            "align_content": null,
            "align_items": null,
            "align_self": null,
            "border": null,
            "bottom": null,
            "display": null,
            "flex": null,
            "flex_flow": null,
            "grid_area": null,
            "grid_auto_columns": null,
            "grid_auto_flow": null,
            "grid_auto_rows": null,
            "grid_column": null,
            "grid_gap": null,
            "grid_row": null,
            "grid_template_areas": null,
            "grid_template_columns": null,
            "grid_template_rows": null,
            "height": null,
            "justify_content": null,
            "justify_items": null,
            "left": null,
            "margin": null,
            "max_height": null,
            "max_width": null,
            "min_height": null,
            "min_width": null,
            "object_fit": null,
            "object_position": null,
            "order": null,
            "overflow": null,
            "overflow_x": null,
            "overflow_y": null,
            "padding": null,
            "right": null,
            "top": null,
            "visibility": null,
            "width": null
          }
        },
        "1df73e15fde848058ff01704645d5ebc": {
          "model_module": "@jupyter-widgets/controls",
          "model_name": "ProgressStyleModel",
          "model_module_version": "1.5.0",
          "state": {
            "_model_module": "@jupyter-widgets/controls",
            "_model_module_version": "1.5.0",
            "_model_name": "ProgressStyleModel",
            "_view_count": null,
            "_view_module": "@jupyter-widgets/base",
            "_view_module_version": "1.2.0",
            "_view_name": "StyleView",
            "bar_color": null,
            "description_width": ""
          }
        },
        "a3e1c48ea88c42369041ff4f902f9865": {
          "model_module": "@jupyter-widgets/base",
          "model_name": "LayoutModel",
          "model_module_version": "1.2.0",
          "state": {
            "_model_module": "@jupyter-widgets/base",
            "_model_module_version": "1.2.0",
            "_model_name": "LayoutModel",
            "_view_count": null,
            "_view_module": "@jupyter-widgets/base",
            "_view_module_version": "1.2.0",
            "_view_name": "LayoutView",
            "align_content": null,
            "align_items": null,
            "align_self": null,
            "border": null,
            "bottom": null,
            "display": null,
            "flex": null,
            "flex_flow": null,
            "grid_area": null,
            "grid_auto_columns": null,
            "grid_auto_flow": null,
            "grid_auto_rows": null,
            "grid_column": null,
            "grid_gap": null,
            "grid_row": null,
            "grid_template_areas": null,
            "grid_template_columns": null,
            "grid_template_rows": null,
            "height": null,
            "justify_content": null,
            "justify_items": null,
            "left": null,
            "margin": null,
            "max_height": null,
            "max_width": null,
            "min_height": null,
            "min_width": null,
            "object_fit": null,
            "object_position": null,
            "order": null,
            "overflow": null,
            "overflow_x": null,
            "overflow_y": null,
            "padding": null,
            "right": null,
            "top": null,
            "visibility": null,
            "width": null
          }
        },
        "623de4dc0e8541bc844e3ebe61bc95b4": {
          "model_module": "@jupyter-widgets/controls",
          "model_name": "DescriptionStyleModel",
          "model_module_version": "1.5.0",
          "state": {
            "_model_module": "@jupyter-widgets/controls",
            "_model_module_version": "1.5.0",
            "_model_name": "DescriptionStyleModel",
            "_view_count": null,
            "_view_module": "@jupyter-widgets/base",
            "_view_module_version": "1.2.0",
            "_view_name": "StyleView",
            "description_width": ""
          }
        },
        "247c2c9b54b146e2b085cd1a0026dd20": {
          "model_module": "@jupyter-widgets/controls",
          "model_name": "HBoxModel",
          "model_module_version": "1.5.0",
          "state": {
            "_dom_classes": [],
            "_model_module": "@jupyter-widgets/controls",
            "_model_module_version": "1.5.0",
            "_model_name": "HBoxModel",
            "_view_count": null,
            "_view_module": "@jupyter-widgets/controls",
            "_view_module_version": "1.5.0",
            "_view_name": "HBoxView",
            "box_style": "",
            "children": [
              "IPY_MODEL_ff22e7bc1a6a4f2384093d120cbb567a",
              "IPY_MODEL_37d705c9973248cd8c6fc96a149f4725",
              "IPY_MODEL_8bf621fe1a1f4e60838bde2bbefc23ce"
            ],
            "layout": "IPY_MODEL_636f55d8b58f47bd90db942f6aa54288"
          }
        },
        "ff22e7bc1a6a4f2384093d120cbb567a": {
          "model_module": "@jupyter-widgets/controls",
          "model_name": "HTMLModel",
          "model_module_version": "1.5.0",
          "state": {
            "_dom_classes": [],
            "_model_module": "@jupyter-widgets/controls",
            "_model_module_version": "1.5.0",
            "_model_name": "HTMLModel",
            "_view_count": null,
            "_view_module": "@jupyter-widgets/controls",
            "_view_module_version": "1.5.0",
            "_view_name": "HTMLView",
            "description": "",
            "description_tooltip": null,
            "layout": "IPY_MODEL_a07330d68c5e468987af1d308081ec11",
            "placeholder": "​",
            "style": "IPY_MODEL_67017f26d12d46ed91b2ae9923434741",
            "value": "100%"
          }
        },
        "37d705c9973248cd8c6fc96a149f4725": {
          "model_module": "@jupyter-widgets/controls",
          "model_name": "FloatProgressModel",
          "model_module_version": "1.5.0",
          "state": {
            "_dom_classes": [],
            "_model_module": "@jupyter-widgets/controls",
            "_model_module_version": "1.5.0",
            "_model_name": "FloatProgressModel",
            "_view_count": null,
            "_view_module": "@jupyter-widgets/controls",
            "_view_module_version": "1.5.0",
            "_view_name": "ProgressView",
            "bar_style": "success",
            "description": "",
            "description_tooltip": null,
            "layout": "IPY_MODEL_23032c2358844822bd0d000f31dbf5e5",
            "max": 100,
            "min": 0,
            "orientation": "horizontal",
            "style": "IPY_MODEL_d46435cf063f4e80b2f0a92736325486",
            "value": 100
          }
        },
        "8bf621fe1a1f4e60838bde2bbefc23ce": {
          "model_module": "@jupyter-widgets/controls",
          "model_name": "HTMLModel",
          "model_module_version": "1.5.0",
          "state": {
            "_dom_classes": [],
            "_model_module": "@jupyter-widgets/controls",
            "_model_module_version": "1.5.0",
            "_model_name": "HTMLModel",
            "_view_count": null,
            "_view_module": "@jupyter-widgets/controls",
            "_view_module_version": "1.5.0",
            "_view_name": "HTMLView",
            "description": "",
            "description_tooltip": null,
            "layout": "IPY_MODEL_629db5b16a574a3db83db56180a3ec39",
            "placeholder": "​",
            "style": "IPY_MODEL_c4dc0d92d55d45038fab026d1a595b10",
            "value": " 100/100 [00:29&lt;00:00,  3.37it/s]"
          }
        },
        "636f55d8b58f47bd90db942f6aa54288": {
          "model_module": "@jupyter-widgets/base",
          "model_name": "LayoutModel",
          "model_module_version": "1.2.0",
          "state": {
            "_model_module": "@jupyter-widgets/base",
            "_model_module_version": "1.2.0",
            "_model_name": "LayoutModel",
            "_view_count": null,
            "_view_module": "@jupyter-widgets/base",
            "_view_module_version": "1.2.0",
            "_view_name": "LayoutView",
            "align_content": null,
            "align_items": null,
            "align_self": null,
            "border": null,
            "bottom": null,
            "display": null,
            "flex": null,
            "flex_flow": null,
            "grid_area": null,
            "grid_auto_columns": null,
            "grid_auto_flow": null,
            "grid_auto_rows": null,
            "grid_column": null,
            "grid_gap": null,
            "grid_row": null,
            "grid_template_areas": null,
            "grid_template_columns": null,
            "grid_template_rows": null,
            "height": null,
            "justify_content": null,
            "justify_items": null,
            "left": null,
            "margin": null,
            "max_height": null,
            "max_width": null,
            "min_height": null,
            "min_width": null,
            "object_fit": null,
            "object_position": null,
            "order": null,
            "overflow": null,
            "overflow_x": null,
            "overflow_y": null,
            "padding": null,
            "right": null,
            "top": null,
            "visibility": null,
            "width": null
          }
        },
        "a07330d68c5e468987af1d308081ec11": {
          "model_module": "@jupyter-widgets/base",
          "model_name": "LayoutModel",
          "model_module_version": "1.2.0",
          "state": {
            "_model_module": "@jupyter-widgets/base",
            "_model_module_version": "1.2.0",
            "_model_name": "LayoutModel",
            "_view_count": null,
            "_view_module": "@jupyter-widgets/base",
            "_view_module_version": "1.2.0",
            "_view_name": "LayoutView",
            "align_content": null,
            "align_items": null,
            "align_self": null,
            "border": null,
            "bottom": null,
            "display": null,
            "flex": null,
            "flex_flow": null,
            "grid_area": null,
            "grid_auto_columns": null,
            "grid_auto_flow": null,
            "grid_auto_rows": null,
            "grid_column": null,
            "grid_gap": null,
            "grid_row": null,
            "grid_template_areas": null,
            "grid_template_columns": null,
            "grid_template_rows": null,
            "height": null,
            "justify_content": null,
            "justify_items": null,
            "left": null,
            "margin": null,
            "max_height": null,
            "max_width": null,
            "min_height": null,
            "min_width": null,
            "object_fit": null,
            "object_position": null,
            "order": null,
            "overflow": null,
            "overflow_x": null,
            "overflow_y": null,
            "padding": null,
            "right": null,
            "top": null,
            "visibility": null,
            "width": null
          }
        },
        "67017f26d12d46ed91b2ae9923434741": {
          "model_module": "@jupyter-widgets/controls",
          "model_name": "DescriptionStyleModel",
          "model_module_version": "1.5.0",
          "state": {
            "_model_module": "@jupyter-widgets/controls",
            "_model_module_version": "1.5.0",
            "_model_name": "DescriptionStyleModel",
            "_view_count": null,
            "_view_module": "@jupyter-widgets/base",
            "_view_module_version": "1.2.0",
            "_view_name": "StyleView",
            "description_width": ""
          }
        },
        "23032c2358844822bd0d000f31dbf5e5": {
          "model_module": "@jupyter-widgets/base",
          "model_name": "LayoutModel",
          "model_module_version": "1.2.0",
          "state": {
            "_model_module": "@jupyter-widgets/base",
            "_model_module_version": "1.2.0",
            "_model_name": "LayoutModel",
            "_view_count": null,
            "_view_module": "@jupyter-widgets/base",
            "_view_module_version": "1.2.0",
            "_view_name": "LayoutView",
            "align_content": null,
            "align_items": null,
            "align_self": null,
            "border": null,
            "bottom": null,
            "display": null,
            "flex": null,
            "flex_flow": null,
            "grid_area": null,
            "grid_auto_columns": null,
            "grid_auto_flow": null,
            "grid_auto_rows": null,
            "grid_column": null,
            "grid_gap": null,
            "grid_row": null,
            "grid_template_areas": null,
            "grid_template_columns": null,
            "grid_template_rows": null,
            "height": null,
            "justify_content": null,
            "justify_items": null,
            "left": null,
            "margin": null,
            "max_height": null,
            "max_width": null,
            "min_height": null,
            "min_width": null,
            "object_fit": null,
            "object_position": null,
            "order": null,
            "overflow": null,
            "overflow_x": null,
            "overflow_y": null,
            "padding": null,
            "right": null,
            "top": null,
            "visibility": null,
            "width": null
          }
        },
        "d46435cf063f4e80b2f0a92736325486": {
          "model_module": "@jupyter-widgets/controls",
          "model_name": "ProgressStyleModel",
          "model_module_version": "1.5.0",
          "state": {
            "_model_module": "@jupyter-widgets/controls",
            "_model_module_version": "1.5.0",
            "_model_name": "ProgressStyleModel",
            "_view_count": null,
            "_view_module": "@jupyter-widgets/base",
            "_view_module_version": "1.2.0",
            "_view_name": "StyleView",
            "bar_color": null,
            "description_width": ""
          }
        },
        "629db5b16a574a3db83db56180a3ec39": {
          "model_module": "@jupyter-widgets/base",
          "model_name": "LayoutModel",
          "model_module_version": "1.2.0",
          "state": {
            "_model_module": "@jupyter-widgets/base",
            "_model_module_version": "1.2.0",
            "_model_name": "LayoutModel",
            "_view_count": null,
            "_view_module": "@jupyter-widgets/base",
            "_view_module_version": "1.2.0",
            "_view_name": "LayoutView",
            "align_content": null,
            "align_items": null,
            "align_self": null,
            "border": null,
            "bottom": null,
            "display": null,
            "flex": null,
            "flex_flow": null,
            "grid_area": null,
            "grid_auto_columns": null,
            "grid_auto_flow": null,
            "grid_auto_rows": null,
            "grid_column": null,
            "grid_gap": null,
            "grid_row": null,
            "grid_template_areas": null,
            "grid_template_columns": null,
            "grid_template_rows": null,
            "height": null,
            "justify_content": null,
            "justify_items": null,
            "left": null,
            "margin": null,
            "max_height": null,
            "max_width": null,
            "min_height": null,
            "min_width": null,
            "object_fit": null,
            "object_position": null,
            "order": null,
            "overflow": null,
            "overflow_x": null,
            "overflow_y": null,
            "padding": null,
            "right": null,
            "top": null,
            "visibility": null,
            "width": null
          }
        },
        "c4dc0d92d55d45038fab026d1a595b10": {
          "model_module": "@jupyter-widgets/controls",
          "model_name": "DescriptionStyleModel",
          "model_module_version": "1.5.0",
          "state": {
            "_model_module": "@jupyter-widgets/controls",
            "_model_module_version": "1.5.0",
            "_model_name": "DescriptionStyleModel",
            "_view_count": null,
            "_view_module": "@jupyter-widgets/base",
            "_view_module_version": "1.2.0",
            "_view_name": "StyleView",
            "description_width": ""
          }
        },
        "7da44b579fa843ba9ce0bf652c2dcc74": {
          "model_module": "@jupyter-widgets/controls",
          "model_name": "HBoxModel",
          "model_module_version": "1.5.0",
          "state": {
            "_dom_classes": [],
            "_model_module": "@jupyter-widgets/controls",
            "_model_module_version": "1.5.0",
            "_model_name": "HBoxModel",
            "_view_count": null,
            "_view_module": "@jupyter-widgets/controls",
            "_view_module_version": "1.5.0",
            "_view_name": "HBoxView",
            "box_style": "",
            "children": [
              "IPY_MODEL_39b9a7efc89e42e3b5e5d4712a56b4bd",
              "IPY_MODEL_a16605e75ee240c4ad3214288af17208",
              "IPY_MODEL_67e449c33ca34af68592ac395702644a"
            ],
            "layout": "IPY_MODEL_e25a2b0c033943a7ada5bc9c9bc20911"
          }
        },
        "39b9a7efc89e42e3b5e5d4712a56b4bd": {
          "model_module": "@jupyter-widgets/controls",
          "model_name": "HTMLModel",
          "model_module_version": "1.5.0",
          "state": {
            "_dom_classes": [],
            "_model_module": "@jupyter-widgets/controls",
            "_model_module_version": "1.5.0",
            "_model_name": "HTMLModel",
            "_view_count": null,
            "_view_module": "@jupyter-widgets/controls",
            "_view_module_version": "1.5.0",
            "_view_name": "HTMLView",
            "description": "",
            "description_tooltip": null,
            "layout": "IPY_MODEL_b9903ebe17ab4b6baa27c3cdd90e4771",
            "placeholder": "​",
            "style": "IPY_MODEL_1e99b03f26274e6f9f535b398101bb27",
            "value": "100%"
          }
        },
        "a16605e75ee240c4ad3214288af17208": {
          "model_module": "@jupyter-widgets/controls",
          "model_name": "FloatProgressModel",
          "model_module_version": "1.5.0",
          "state": {
            "_dom_classes": [],
            "_model_module": "@jupyter-widgets/controls",
            "_model_module_version": "1.5.0",
            "_model_name": "FloatProgressModel",
            "_view_count": null,
            "_view_module": "@jupyter-widgets/controls",
            "_view_module_version": "1.5.0",
            "_view_name": "ProgressView",
            "bar_style": "success",
            "description": "",
            "description_tooltip": null,
            "layout": "IPY_MODEL_284f90c5010046faa39ad4861a130d94",
            "max": 600,
            "min": 0,
            "orientation": "horizontal",
            "style": "IPY_MODEL_7e5f84d82aa64a22bd8ac61225e8952e",
            "value": 600
          }
        },
        "67e449c33ca34af68592ac395702644a": {
          "model_module": "@jupyter-widgets/controls",
          "model_name": "HTMLModel",
          "model_module_version": "1.5.0",
          "state": {
            "_dom_classes": [],
            "_model_module": "@jupyter-widgets/controls",
            "_model_module_version": "1.5.0",
            "_model_name": "HTMLModel",
            "_view_count": null,
            "_view_module": "@jupyter-widgets/controls",
            "_view_module_version": "1.5.0",
            "_view_name": "HTMLView",
            "description": "",
            "description_tooltip": null,
            "layout": "IPY_MODEL_c0cc189db44a4c96917406059931e051",
            "placeholder": "​",
            "style": "IPY_MODEL_f039e4137c31401d9fc63fe28bff0fca",
            "value": " 600/600 [03:54&lt;00:00,  2.61it/s]"
          }
        },
        "e25a2b0c033943a7ada5bc9c9bc20911": {
          "model_module": "@jupyter-widgets/base",
          "model_name": "LayoutModel",
          "model_module_version": "1.2.0",
          "state": {
            "_model_module": "@jupyter-widgets/base",
            "_model_module_version": "1.2.0",
            "_model_name": "LayoutModel",
            "_view_count": null,
            "_view_module": "@jupyter-widgets/base",
            "_view_module_version": "1.2.0",
            "_view_name": "LayoutView",
            "align_content": null,
            "align_items": null,
            "align_self": null,
            "border": null,
            "bottom": null,
            "display": null,
            "flex": null,
            "flex_flow": null,
            "grid_area": null,
            "grid_auto_columns": null,
            "grid_auto_flow": null,
            "grid_auto_rows": null,
            "grid_column": null,
            "grid_gap": null,
            "grid_row": null,
            "grid_template_areas": null,
            "grid_template_columns": null,
            "grid_template_rows": null,
            "height": null,
            "justify_content": null,
            "justify_items": null,
            "left": null,
            "margin": null,
            "max_height": null,
            "max_width": null,
            "min_height": null,
            "min_width": null,
            "object_fit": null,
            "object_position": null,
            "order": null,
            "overflow": null,
            "overflow_x": null,
            "overflow_y": null,
            "padding": null,
            "right": null,
            "top": null,
            "visibility": null,
            "width": null
          }
        },
        "b9903ebe17ab4b6baa27c3cdd90e4771": {
          "model_module": "@jupyter-widgets/base",
          "model_name": "LayoutModel",
          "model_module_version": "1.2.0",
          "state": {
            "_model_module": "@jupyter-widgets/base",
            "_model_module_version": "1.2.0",
            "_model_name": "LayoutModel",
            "_view_count": null,
            "_view_module": "@jupyter-widgets/base",
            "_view_module_version": "1.2.0",
            "_view_name": "LayoutView",
            "align_content": null,
            "align_items": null,
            "align_self": null,
            "border": null,
            "bottom": null,
            "display": null,
            "flex": null,
            "flex_flow": null,
            "grid_area": null,
            "grid_auto_columns": null,
            "grid_auto_flow": null,
            "grid_auto_rows": null,
            "grid_column": null,
            "grid_gap": null,
            "grid_row": null,
            "grid_template_areas": null,
            "grid_template_columns": null,
            "grid_template_rows": null,
            "height": null,
            "justify_content": null,
            "justify_items": null,
            "left": null,
            "margin": null,
            "max_height": null,
            "max_width": null,
            "min_height": null,
            "min_width": null,
            "object_fit": null,
            "object_position": null,
            "order": null,
            "overflow": null,
            "overflow_x": null,
            "overflow_y": null,
            "padding": null,
            "right": null,
            "top": null,
            "visibility": null,
            "width": null
          }
        },
        "1e99b03f26274e6f9f535b398101bb27": {
          "model_module": "@jupyter-widgets/controls",
          "model_name": "DescriptionStyleModel",
          "model_module_version": "1.5.0",
          "state": {
            "_model_module": "@jupyter-widgets/controls",
            "_model_module_version": "1.5.0",
            "_model_name": "DescriptionStyleModel",
            "_view_count": null,
            "_view_module": "@jupyter-widgets/base",
            "_view_module_version": "1.2.0",
            "_view_name": "StyleView",
            "description_width": ""
          }
        },
        "284f90c5010046faa39ad4861a130d94": {
          "model_module": "@jupyter-widgets/base",
          "model_name": "LayoutModel",
          "model_module_version": "1.2.0",
          "state": {
            "_model_module": "@jupyter-widgets/base",
            "_model_module_version": "1.2.0",
            "_model_name": "LayoutModel",
            "_view_count": null,
            "_view_module": "@jupyter-widgets/base",
            "_view_module_version": "1.2.0",
            "_view_name": "LayoutView",
            "align_content": null,
            "align_items": null,
            "align_self": null,
            "border": null,
            "bottom": null,
            "display": null,
            "flex": null,
            "flex_flow": null,
            "grid_area": null,
            "grid_auto_columns": null,
            "grid_auto_flow": null,
            "grid_auto_rows": null,
            "grid_column": null,
            "grid_gap": null,
            "grid_row": null,
            "grid_template_areas": null,
            "grid_template_columns": null,
            "grid_template_rows": null,
            "height": null,
            "justify_content": null,
            "justify_items": null,
            "left": null,
            "margin": null,
            "max_height": null,
            "max_width": null,
            "min_height": null,
            "min_width": null,
            "object_fit": null,
            "object_position": null,
            "order": null,
            "overflow": null,
            "overflow_x": null,
            "overflow_y": null,
            "padding": null,
            "right": null,
            "top": null,
            "visibility": null,
            "width": null
          }
        },
        "7e5f84d82aa64a22bd8ac61225e8952e": {
          "model_module": "@jupyter-widgets/controls",
          "model_name": "ProgressStyleModel",
          "model_module_version": "1.5.0",
          "state": {
            "_model_module": "@jupyter-widgets/controls",
            "_model_module_version": "1.5.0",
            "_model_name": "ProgressStyleModel",
            "_view_count": null,
            "_view_module": "@jupyter-widgets/base",
            "_view_module_version": "1.2.0",
            "_view_name": "StyleView",
            "bar_color": null,
            "description_width": ""
          }
        },
        "c0cc189db44a4c96917406059931e051": {
          "model_module": "@jupyter-widgets/base",
          "model_name": "LayoutModel",
          "model_module_version": "1.2.0",
          "state": {
            "_model_module": "@jupyter-widgets/base",
            "_model_module_version": "1.2.0",
            "_model_name": "LayoutModel",
            "_view_count": null,
            "_view_module": "@jupyter-widgets/base",
            "_view_module_version": "1.2.0",
            "_view_name": "LayoutView",
            "align_content": null,
            "align_items": null,
            "align_self": null,
            "border": null,
            "bottom": null,
            "display": null,
            "flex": null,
            "flex_flow": null,
            "grid_area": null,
            "grid_auto_columns": null,
            "grid_auto_flow": null,
            "grid_auto_rows": null,
            "grid_column": null,
            "grid_gap": null,
            "grid_row": null,
            "grid_template_areas": null,
            "grid_template_columns": null,
            "grid_template_rows": null,
            "height": null,
            "justify_content": null,
            "justify_items": null,
            "left": null,
            "margin": null,
            "max_height": null,
            "max_width": null,
            "min_height": null,
            "min_width": null,
            "object_fit": null,
            "object_position": null,
            "order": null,
            "overflow": null,
            "overflow_x": null,
            "overflow_y": null,
            "padding": null,
            "right": null,
            "top": null,
            "visibility": null,
            "width": null
          }
        },
        "f039e4137c31401d9fc63fe28bff0fca": {
          "model_module": "@jupyter-widgets/controls",
          "model_name": "DescriptionStyleModel",
          "model_module_version": "1.5.0",
          "state": {
            "_model_module": "@jupyter-widgets/controls",
            "_model_module_version": "1.5.0",
            "_model_name": "DescriptionStyleModel",
            "_view_count": null,
            "_view_module": "@jupyter-widgets/base",
            "_view_module_version": "1.2.0",
            "_view_name": "StyleView",
            "description_width": ""
          }
        }
      }
    }
  },
  "cells": [
    {
      "cell_type": "code",
      "execution_count": null,
      "metadata": {
        "colab": {
          "base_uri": "https://localhost:8080/"
        },
        "id": "B_7AEbC2XKxm",
        "outputId": "032cb46e-32b3-424a-993d-3f255147c581"
      },
      "outputs": [
        {
          "output_type": "stream",
          "name": "stdout",
          "text": [
            "Mounted at /gd\n"
          ]
        }
      ],
      "source": [
        "from google.colab import drive\n",
        "drive.mount('/gd')"
      ]
    },
    {
      "cell_type": "code",
      "source": [
        "!pip install transformers sentencepiece sacrebleu -q"
      ],
      "metadata": {
        "colab": {
          "base_uri": "https://localhost:8080/"
        },
        "id": "a1f3tm8MXV0F",
        "outputId": "cfbeccaf-f7de-4edc-aa8b-b81b27fd98d4"
      },
      "execution_count": null,
      "outputs": [
        {
          "output_type": "stream",
          "name": "stdout",
          "text": [
            "\u001b[K     |████████████████████████████████| 4.4 MB 14.4 MB/s \n",
            "\u001b[K     |████████████████████████████████| 1.2 MB 61.5 MB/s \n",
            "\u001b[K     |████████████████████████████████| 92 kB 12.3 MB/s \n",
            "\u001b[K     |████████████████████████████████| 596 kB 68.9 MB/s \n",
            "\u001b[K     |████████████████████████████████| 101 kB 5.7 MB/s \n",
            "\u001b[K     |████████████████████████████████| 6.6 MB 45.3 MB/s \n",
            "\u001b[?25h"
          ]
        }
      ]
    },
    {
      "cell_type": "code",
      "source": [
        "import os\n",
        "import numpy as np\n",
        "import pandas as pd\n",
        "from tqdm.auto import tqdm, trange\n",
        "import json\n",
        "import random"
      ],
      "metadata": {
        "id": "pSQDqUaOY7Mz"
      },
      "execution_count": null,
      "outputs": []
    },
    {
      "cell_type": "code",
      "source": [
        "import torch\n",
        "from transformers import MBartForConditionalGeneration, MBart50Tokenizer"
      ],
      "metadata": {
        "id": "0Ma36ICrY6f8"
      },
      "execution_count": null,
      "outputs": []
    },
    {
      "cell_type": "code",
      "source": [
        "base_model_path = '/gd/MyDrive/models/myv/mbart-large-51-myv-raw'"
      ],
      "metadata": {
        "id": "bHVeapBXXdjB"
      },
      "execution_count": null,
      "outputs": []
    },
    {
      "cell_type": "code",
      "source": [
        "tokenizer = MBart50Tokenizer.from_pretrained(base_model_path)"
      ],
      "metadata": {
        "id": "i2AA68xcXX3-"
      },
      "execution_count": null,
      "outputs": []
    },
    {
      "cell_type": "code",
      "source": [
        "old_len = len(tokenizer)\n",
        "old_len"
      ],
      "metadata": {
        "colab": {
          "base_uri": "https://localhost:8080/"
        },
        "id": "xXX21kOnXjZz",
        "outputId": "496e97b8-d5d7-4a7c-fea1-d89b0c1cb6c7"
      },
      "execution_count": null,
      "outputs": [
        {
          "output_type": "execute_result",
          "data": {
            "text/plain": [
              "269545"
            ]
          },
          "metadata": {},
          "execution_count": 7
        }
      ]
    },
    {
      "cell_type": "markdown",
      "source": [
        "Because language ids are added by hard-code on initialization, we need to manually fix them."
      ],
      "metadata": {
        "id": "8T-CjCqSYhvL"
      }
    },
    {
      "cell_type": "code",
      "source": [
        "tokenizer.lang_code_to_id['myv_XX'] = old_len-1\n",
        "tokenizer.id_to_lang_code[old_len-1] = 'myv_XX'\n",
        "tokenizer.fairseq_tokens_to_ids[\"<mask>\"] = len(tokenizer.sp_model) + len(tokenizer.lang_code_to_id) + tokenizer.fairseq_offset\n",
        "\n",
        "tokenizer.fairseq_tokens_to_ids.update(tokenizer.lang_code_to_id)\n",
        "tokenizer.fairseq_ids_to_tokens = {v: k for k, v in tokenizer.fairseq_tokens_to_ids.items()}\n",
        "if 'myv_XX' not in tokenizer._additional_special_tokens:\n",
        "    tokenizer._additional_special_tokens.append('myv_XX')"
      ],
      "metadata": {
        "id": "pcGhUAKdXwaz"
      },
      "execution_count": null,
      "outputs": []
    },
    {
      "cell_type": "code",
      "source": [
        "with open('/gd/MyDrive/datasets/nlp/myv_corpus/train.v1.json', 'r') as f:\n",
        "    golden_pairs = json.load(f)\n",
        "print(len(golden_pairs))"
      ],
      "metadata": {
        "colab": {
          "base_uri": "https://localhost:8080/"
        },
        "id": "0SUssZS2Y0Jj",
        "outputId": "8f84809c-23d1-4868-9ed8-41064ad6fe87"
      },
      "execution_count": null,
      "outputs": [
        {
          "output_type": "stream",
          "name": "stdout",
          "text": [
            "74503\n"
          ]
        }
      ]
    },
    {
      "cell_type": "code",
      "source": [
        "random.choice(golden_pairs)"
      ],
      "metadata": {
        "colab": {
          "base_uri": "https://localhost:8080/"
        },
        "id": "RbJSamPNV-9g",
        "outputId": "41ddebca-a876-4d3c-b4be-614e17d67759"
      },
      "execution_count": null,
      "outputs": [
        {
          "output_type": "execute_result",
          "data": {
            "text/plain": [
              "['Сабиха тонавтнесь школасо, Эюбсултан Нумуне, ней содави кода Анатолийская средняя школа Эюпсо.',\n",
              " 'Сабиха училась в школе Эюбсултан Нумуне, ныне известной как Анатолийская средняя школа в Эюпе.']"
            ]
          },
          "metadata": {},
          "execution_count": 25
        }
      ]
    },
    {
      "cell_type": "code",
      "source": [
        "with open('/gd/MyDrive/datasets/nlp/myv_corpus/myv_mono.v1.back_translated.v1.json', 'r') as f:\n",
        "    back_translated = json.load(f)\n",
        "silver_pairs = list(zip(back_translated['original'], back_translated['translated']))\n",
        "print(len(silver_pairs))"
      ],
      "metadata": {
        "colab": {
          "base_uri": "https://localhost:8080/"
        },
        "id": "3r8RSGUsVyQd",
        "outputId": "4b88fcb8-db36-4134-bd90-c8380fee76cf"
      },
      "execution_count": null,
      "outputs": [
        {
          "output_type": "stream",
          "name": "stdout",
          "text": [
            "333651\n"
          ]
        }
      ]
    },
    {
      "cell_type": "code",
      "source": [
        "random.choice(silver_pairs)"
      ],
      "metadata": {
        "colab": {
          "base_uri": "https://localhost:8080/"
        },
        "id": "fu73ojRQWC06",
        "outputId": "8bccd34a-b7e8-4864-db5a-3de8189048bf"
      },
      "execution_count": null,
      "outputs": [
        {
          "output_type": "execute_result",
          "data": {
            "text/plain": [
              "('Сынь явозь кавто группава: вишкинень ды покшонь.',\n",
              " 'Они разделены на две группы: малую и среднюю.')"
            ]
          },
          "metadata": {},
          "execution_count": 14
        }
      ]
    },
    {
      "cell_type": "code",
      "source": [
        "all_pairs = golden_pairs + silver_pairs\n",
        "print(len(all_pairs))"
      ],
      "metadata": {
        "colab": {
          "base_uri": "https://localhost:8080/"
        },
        "id": "SViTGcVpWLJc",
        "outputId": "2c5be46d-c027-444e-b4ef-88bd62a0d23b"
      },
      "execution_count": null,
      "outputs": [
        {
          "output_type": "stream",
          "name": "stdout",
          "text": [
            "408154\n"
          ]
        }
      ]
    },
    {
      "cell_type": "markdown",
      "source": [
        "## Training"
      ],
      "metadata": {
        "id": "uSvk4eQcYfJY"
      }
    },
    {
      "cell_type": "code",
      "source": [
        "import gc\n",
        "\n",
        "def cleanup():\n",
        "    gc.collect()\n",
        "    torch.cuda.empty_cache()\n",
        "    \n",
        "cleanup()"
      ],
      "metadata": {
        "id": "qVUJ0oblbZZA"
      },
      "execution_count": null,
      "outputs": []
    },
    {
      "cell_type": "code",
      "source": [
        "model = MBartForConditionalGeneration.from_pretrained(base_model_path)"
      ],
      "metadata": {
        "id": "SpD3Jb2fZhJ3"
      },
      "execution_count": null,
      "outputs": []
    },
    {
      "cell_type": "code",
      "source": [
        "model.cuda();"
      ],
      "metadata": {
        "id": "ePgh6su6ZnQr"
      },
      "execution_count": null,
      "outputs": []
    },
    {
      "cell_type": "markdown",
      "source": [
        "### First, update just the new embeddings"
      ],
      "metadata": {
        "id": "N-sFMD8QZvx4"
      }
    },
    {
      "cell_type": "code",
      "source": [
        "for p in model.parameters():\n",
        "    p.requires_grad = False\n",
        "for p in model.model.shared.parameters():\n",
        "    p.requires_grad = True"
      ],
      "metadata": {
        "id": "v4YXNZ8bZgiV"
      },
      "execution_count": null,
      "outputs": []
    },
    {
      "cell_type": "code",
      "source": [
        "from transformers.optimization import Adafactor\n",
        "optimizer = Adafactor(\n",
        "    [p for p in model.parameters() if p.requires_grad], \n",
        "    scale_parameter=False, \n",
        "    relative_step=False, \n",
        "    lr=1e-5,\n",
        "    clip_threshold=1.0\n",
        ")"
      ],
      "metadata": {
        "id": "mu2Z0L7oZ5VK"
      },
      "execution_count": null,
      "outputs": []
    },
    {
      "cell_type": "code",
      "source": [
        "batch_size = 8  \n",
        "report_steps = 500 \n",
        "epochs = 1\n",
        "losses = []"
      ],
      "metadata": {
        "id": "TMBO2e5_aNRu"
      },
      "execution_count": null,
      "outputs": []
    },
    {
      "cell_type": "code",
      "source": [
        "tokenizer.src_lang = \"ru_RU\"\n",
        "tokenizer.tgt_lang = \"myv_XX\""
      ],
      "metadata": {
        "id": "mZowyOW7aeDJ"
      },
      "execution_count": null,
      "outputs": []
    },
    {
      "cell_type": "code",
      "source": [
        "cleanup()\n",
        "model.train()\n",
        "\n",
        "for epoch in range(epochs):\n",
        "    print('EPOCH', epoch)\n",
        "    random.shuffle(all_pairs)\n",
        "    for i in trange(0, int(len(all_pairs) / batch_size)):\n",
        "        batch = all_pairs[i * batch_size: (i + 1) * batch_size]\n",
        "        # кодируем вопрос и ответ \n",
        "        x = tokenizer([p[1] for p in batch], return_tensors='pt', padding=True, truncation=True, max_length=256).to(model.device)\n",
        "        with tokenizer.as_target_tokenizer():\n",
        "            y = tokenizer([p[0] for p in batch], return_tensors='pt', padding=True, truncation=True, max_length=256).to(model.device)\n",
        "        # -100 - специальное значение, позволяющее не учитывать токены\n",
        "        y.input_ids[y.input_ids == 0] = -100\n",
        "        # вычисляем функцию потерь\n",
        "        try:\n",
        "            loss = model(\n",
        "                input_ids=x.input_ids,\n",
        "                attention_mask=x.attention_mask,\n",
        "                labels=y.input_ids,\n",
        "                decoder_attention_mask=y.attention_mask,\n",
        "                return_dict=True\n",
        "            ).loss\n",
        "            # делаем шаг градиентного спуска\n",
        "            loss.backward()\n",
        "            optimizer.step()\n",
        "            optimizer.zero_grad(set_to_none=True)\n",
        "        except RuntimeError as e:\n",
        "            print('error')\n",
        "            loss = None\n",
        "            optimizer.zero_grad(set_to_none=True)\n",
        "            cleanup()\n",
        "            continue\n",
        "\n",
        "        # печатаем скользящее среднее значение функции потерь\n",
        "        losses.append(loss.item())\n",
        "        if i % report_steps == 0:\n",
        "            print('step', i, 'loss', np.mean(losses[-report_steps:]))"
      ],
      "metadata": {
        "colab": {
          "base_uri": "https://localhost:8080/",
          "height": 1000,
          "referenced_widgets": [
            "2dd90a3323e048aea0289aad2c6c807a",
            "61e24a9193c046e383b092208c7ffa17",
            "b269f730807f4a938c6bcdcde102e9fe",
            "2d64afa326b7417c9f13861b7e9092cb",
            "3f68700e36894821944120c0179bbde1",
            "7cad93571eb7449eabe214bd5cd1c680",
            "8919c944710b49f6ba8bd8e2398c6a03",
            "9f22df1b316f43a4aafacda95c92f6bf",
            "d9c0ce4791d9413d9df9a0fe70228c4e",
            "ecdf402605ed4bcab4f84a4351bc8551",
            "17b95cb0baa944b7a9bb5196d0df225c"
          ]
        },
        "id": "wddmR1nFaUto",
        "outputId": "047d1de2-a409-4796-bee1-749bf0b5e822"
      },
      "execution_count": null,
      "outputs": [
        {
          "output_type": "stream",
          "name": "stdout",
          "text": [
            "EPOCH 0\n"
          ]
        },
        {
          "output_type": "display_data",
          "data": {
            "text/plain": [
              "  0%|          | 0/51019 [00:00<?, ?it/s]"
            ],
            "application/vnd.jupyter.widget-view+json": {
              "version_major": 2,
              "version_minor": 0,
              "model_id": "2dd90a3323e048aea0289aad2c6c807a"
            }
          },
          "metadata": {}
        },
        {
          "output_type": "stream",
          "name": "stdout",
          "text": [
            "step 0 loss 17.834171295166016\n",
            "step 500 loss 12.842656915664673\n",
            "step 1000 loss 6.332706649303436\n",
            "step 1500 loss 3.726393412590027\n",
            "step 2000 loss 3.205201865553856\n",
            "step 2500 loss 2.9271980497837067\n",
            "step 3000 loss 2.743964047670364\n",
            "step 3500 loss 2.6631721804142\n",
            "step 4000 loss 2.5210159075260163\n",
            "step 4500 loss 2.486190089225769\n",
            "step 5000 loss 2.4360212626457214\n",
            "step 5500 loss 2.3565359135866166\n",
            "step 6000 loss 2.278065325140953\n",
            "step 6500 loss 2.261628376841545\n",
            "step 7000 loss 2.2491184004545213\n",
            "step 7500 loss 2.233083349943161\n",
            "step 8000 loss 2.190336622834206\n",
            "step 8500 loss 2.191170247554779\n",
            "step 9000 loss 2.1229817749857904\n",
            "step 9500 loss 2.067452633857727\n",
            "step 10000 loss 2.066784598350525\n",
            "step 10500 loss 2.0513439567685126\n",
            "step 11000 loss 2.0448085912466047\n",
            "step 11500 loss 2.0319933161735535\n",
            "step 12000 loss 2.015529680788517\n",
            "step 12500 loss 1.954309211075306\n",
            "step 13000 loss 1.9400371338129043\n",
            "step 13500 loss 1.9330728743076324\n",
            "step 14000 loss 1.9014458429813386\n",
            "step 14500 loss 1.9071328341960907\n",
            "step 15000 loss 1.9246481944322587\n",
            "step 15500 loss 1.8531896461844444\n",
            "step 16000 loss 1.8651023555994033\n",
            "step 16500 loss 1.8425212125778199\n",
            "step 17000 loss 1.8253653784990311\n",
            "step 17500 loss 1.8129523600935935\n",
            "step 18000 loss 1.7902699158787727\n",
            "step 18500 loss 1.7846979132890701\n",
            "step 19000 loss 1.7692556035518647\n",
            "step 19500 loss 1.761237827539444\n",
            "step 20000 loss 1.7042646687030791\n",
            "step 20500 loss 1.7306601495146752\n",
            "step 21000 loss 1.7282684457302093\n",
            "step 21500 loss 1.721701569378376\n",
            "step 22000 loss 1.696652204632759\n",
            "step 22500 loss 1.7027191655933858\n",
            "step 23000 loss 1.672432937860489\n",
            "step 23500 loss 1.6903629785776138\n",
            "step 24000 loss 1.673459589958191\n",
            "step 24500 loss 1.6581622092723847\n",
            "step 25000 loss 1.6656441726088524\n",
            "step 25500 loss 1.6000737793445587\n",
            "step 26000 loss 1.6325398898124694\n",
            "step 26500 loss 1.6124108458161355\n",
            "step 27000 loss 1.6295492459535599\n",
            "step 27500 loss 1.5801593817472457\n",
            "step 28000 loss 1.6241587668657302\n",
            "step 28500 loss 1.5791423174142838\n",
            "step 29000 loss 1.5786249816417695\n",
            "step 29500 loss 1.6026133871674537\n",
            "step 30000 loss 1.5430500689148903\n",
            "step 30500 loss 1.5963623507022857\n",
            "step 31000 loss 1.504415579378605\n",
            "step 31500 loss 1.550572943866253\n",
            "step 32000 loss 1.5609790783524513\n",
            "step 32500 loss 1.5441143990755082\n",
            "step 33000 loss 1.5474666278362275\n",
            "step 33500 loss 1.5269057109355926\n",
            "step 34000 loss 1.5504214968085288\n",
            "step 34500 loss 1.5620017017126084\n",
            "step 35000 loss 1.5037079956531525\n",
            "step 35500 loss 1.4892405545711518\n",
            "step 36000 loss 1.5033956944346427\n",
            "step 36500 loss 1.494345075905323\n",
            "step 37000 loss 1.4884679002165795\n",
            "step 37500 loss 1.4945229407548903\n",
            "step 38000 loss 1.4964889524579048\n",
            "step 38500 loss 1.5005449199676513\n",
            "step 39000 loss 1.448184735774994\n",
            "step 39500 loss 1.4544750995635987\n",
            "step 40000 loss 1.4638418170213698\n",
            "step 40500 loss 1.4811129975318909\n",
            "step 41000 loss 1.4652362527251244\n",
            "step 41500 loss 1.4609656160473823\n",
            "step 42000 loss 1.4623136392235756\n",
            "step 42500 loss 1.4395631559491158\n",
            "step 43000 loss 1.4308488737344742\n",
            "step 43500 loss 1.4488997774124146\n",
            "step 44000 loss 1.4612007162570952\n",
            "step 44500 loss 1.4187813333272934\n",
            "step 45000 loss 1.4025907319188118\n",
            "step 45500 loss 1.397181647837162\n",
            "step 46000 loss 1.393771868944168\n",
            "step 46500 loss 1.4407682499289514\n",
            "step 47000 loss 1.4336412231326103\n",
            "step 47500 loss 1.4163100276589393\n",
            "step 48000 loss 1.3732402367591858\n",
            "step 48500 loss 1.3887415264248848\n",
            "step 49000 loss 1.3594399934709072\n",
            "step 49500 loss 1.4024970811605453\n",
            "step 50000 loss 1.4177444777488708\n",
            "step 50500 loss 1.3726299431324005\n",
            "step 51000 loss 1.3676686083078384\n"
          ]
        }
      ]
    },
    {
      "cell_type": "markdown",
      "source": [
        "Normal translation/paraphrasing loss is typically about 0.5 to 1 in mBART, so here I expect something similar after some fine-tuning."
      ],
      "metadata": {
        "id": "7PmcOBlHbBpK"
      }
    },
    {
      "cell_type": "code",
      "source": [
        "save_model_path = '/gd/MyDrive/models/myv/mbart-large-51-ru-myv-v1'"
      ],
      "metadata": {
        "id": "82zdsBkBcvJK"
      },
      "execution_count": null,
      "outputs": []
    },
    {
      "cell_type": "code",
      "source": [
        "model.save_pretrained(save_model_path)\n",
        "tokenizer.save_pretrained(save_model_path)"
      ],
      "metadata": {
        "colab": {
          "base_uri": "https://localhost:8080/"
        },
        "id": "2Jp8f9Oxc10N",
        "outputId": "a2007e31-32c6-4d22-a8c2-f6c462197646"
      },
      "execution_count": null,
      "outputs": [
        {
          "output_type": "execute_result",
          "data": {
            "text/plain": [
              "('/gd/MyDrive/models/myv/mbart-large-51-ru-myv-v1/tokenizer_config.json',\n",
              " '/gd/MyDrive/models/myv/mbart-large-51-ru-myv-v1/special_tokens_map.json',\n",
              " '/gd/MyDrive/models/myv/mbart-large-51-ru-myv-v1/sentencepiece.bpe.model',\n",
              " '/gd/MyDrive/models/myv/mbart-large-51-ru-myv-v1/added_tokens.json')"
            ]
          },
          "metadata": {},
          "execution_count": 30
        }
      ]
    },
    {
      "cell_type": "code",
      "source": [
        "import matplotlib.pyplot as plt\n",
        "pd.Series(losses).ewm(100).mean().plot();\n",
        "plt.yscale('log');"
      ],
      "metadata": {
        "colab": {
          "base_uri": "https://localhost:8080/",
          "height": 265
        },
        "id": "-cjxp8jNeOAJ",
        "outputId": "ab078ea4-b502-40aa-8869-5c749d300e51"
      },
      "execution_count": null,
      "outputs": [
        {
          "output_type": "display_data",
          "data": {
            "text/plain": [
              "<Figure size 432x288 with 1 Axes>"
            ],
            "image/png": "[encoded data removed]"
          },
          "metadata": {
            "needs_background": "light"
          }
        }
      ]
    },
    {
      "cell_type": "markdown",
      "source": [
        "### Now update the whole model, with embeddings and transformer layers."
      ],
      "metadata": {
        "id": "C3ukpYX5dwQ6"
      }
    },
    {
      "cell_type": "code",
      "source": [
        "loss = None\n",
        "optimizer.zero_grad(set_to_none=True)\n",
        "optimizer = None\n",
        "cleanup()"
      ],
      "metadata": {
        "id": "l_D5qfaBc6Ls"
      },
      "execution_count": null,
      "outputs": []
    },
    {
      "cell_type": "code",
      "source": [
        "for p in model.parameters():\n",
        "    p.requires_grad = True"
      ],
      "metadata": {
        "id": "0idGdmxReUCD"
      },
      "execution_count": null,
      "outputs": []
    },
    {
      "cell_type": "code",
      "source": [
        "from transformers.optimization import Adafactor\n",
        "optimizer = Adafactor(\n",
        "    [p for p in model.parameters() if p.requires_grad], \n",
        "    scale_parameter=False, \n",
        "    relative_step=False, \n",
        "    lr=1e-6,\n",
        "    clip_threshold=1.0\n",
        ")"
      ],
      "metadata": {
        "id": "uUrdXOLGeW4_"
      },
      "execution_count": null,
      "outputs": []
    },
    {
      "cell_type": "code",
      "source": [
        "batch_size = 8\n",
        "report_steps = 500 \n",
        "epochs = 3\n",
        "losses = []"
      ],
      "metadata": {
        "id": "0KJrXPnSeZcx"
      },
      "execution_count": null,
      "outputs": []
    },
    {
      "cell_type": "markdown",
      "source": [
        "Optimizing all parameters takes x1.5 longer than just embeddings (4h): about 6h per epoch. "
      ],
      "metadata": {
        "id": "75hQO633lnet"
      }
    },
    {
      "cell_type": "code",
      "source": [
        "cleanup()\n",
        "model.train()\n",
        "\n",
        "for epoch in range(epochs):\n",
        "    print('EPOCH', epoch)\n",
        "    random.shuffle(all_pairs)\n",
        "    for i in trange(0, int(len(all_pairs) / batch_size)):\n",
        "        batch = all_pairs[i * batch_size: (i + 1) * batch_size]\n",
        "        # кодируем вопрос и ответ \n",
        "        x = tokenizer([p[1] for p in batch], return_tensors='pt', padding=True, truncation=True, max_length=256).to(model.device)\n",
        "        with tokenizer.as_target_tokenizer():\n",
        "            y = tokenizer([p[0] for p in batch], return_tensors='pt', padding=True, truncation=True, max_length=256).to(model.device)\n",
        "        # -100 - специальное значение, позволяющее не учитывать токены\n",
        "        y.input_ids[y.input_ids == 0] = -100\n",
        "        # вычисляем функцию потерь\n",
        "        try:\n",
        "            loss = model(\n",
        "                input_ids=x.input_ids,\n",
        "                attention_mask=x.attention_mask,\n",
        "                labels=y.input_ids,\n",
        "                decoder_attention_mask=y.attention_mask,\n",
        "                return_dict=True\n",
        "            ).loss\n",
        "            # делаем шаг градиентного спуска\n",
        "            loss.backward()\n",
        "            optimizer.step()\n",
        "            optimizer.zero_grad(set_to_none=True)\n",
        "        except RuntimeError as e:\n",
        "            print('error')\n",
        "            loss = None\n",
        "            optimizer.zero_grad(set_to_none=True)\n",
        "            cleanup()\n",
        "            continue\n",
        "\n",
        "        # печатаем скользящее среднее значение функции потерь\n",
        "        losses.append(loss.item())\n",
        "        if i % report_steps == 0:\n",
        "            print('step', i, 'loss', np.mean(losses[-report_steps:]))\n",
        "    model.save_pretrained(save_model_path)\n",
        "    tokenizer.save_pretrained(save_model_path)"
      ],
      "metadata": {
        "colab": {
          "base_uri": "https://localhost:8080/",
          "height": 1000,
          "referenced_widgets": [
            "1b6c7737a7724ef9be61f6931236bcb8",
            "5ee0c0386ca14eeea3d890f192d912c6",
            "43c5fe3b81624c5c82902780d146865f",
            "c2cd640d6712496994e82b828d733bba",
            "5bee1ae7b7c947b189aae9c147d9f7f7",
            "12ff934d5aaf4522b53a0d5a1486d190",
            "6e16ea20b84641559d12ded6655bd592",
            "f96db6ef5aa644e8be36c012165f4e8f",
            "8d93c30851944aeba13e5734d65354d2",
            "de101cc796b04883896913f97d7e2174",
            "00a8adc069fa43a199266bbf75cea127",
            "19c2a6cc49874c6b9387da8039d073a6",
            "330d5481be764aeb98aa99eab56447a3",
            "4d68d2a6302e4de28cfa78c7696cbaa6",
            "b8f3ba40fe834abfaf3f385894dd2648",
            "2fa0916e8a864eeda3298b546c4a09ef",
            "80ceb9d526d7432a864a8e217b5c3827",
            "9d8c2e66700b4882b79bce61b9feddf1",
            "eb223dd3ec3049a0890e1f55521f806c",
            "e83cb83d18aa4626aa3d21753b636780",
            "d013379630ea432c8beb1223ee8d0fbb",
            "0759796387cc427caf087a2620ef9f93",
            "36028cdfc3c743fd810be42de10c51ec",
            "4e1878e7e37849ddabeb89e0417bdf87",
            "4b6bfbeebd8e499488d5c2d498c21763",
            "5d14796336e64193a8fe8e46d9d8b508",
            "c46f8565cd8d4f03a04565724479fea9",
            "e2c32dcce2124722b0661e76741dae00",
            "79591d81745942a3870b32d9f9e4e8ba",
            "764154c0d77c4cb5a849c4201c0acb64",
            "7804911bf1194e46b446512d5fd55d39",
            "7d3ab7f87d6645458ed249765449a816",
            "44ab5a0fd0064926a5ff236a0c359e07"
          ]
        },
        "id": "HNeqlBm2lIwm",
        "outputId": "99c480b7-1061-4648-90eb-e2f88772b907"
      },
      "execution_count": null,
      "outputs": [
        {
          "output_type": "stream",
          "name": "stdout",
          "text": [
            "EPOCH 0\n"
          ]
        },
        {
          "output_type": "display_data",
          "data": {
            "text/plain": [
              "  0%|          | 0/51019 [00:00<?, ?it/s]"
            ],
            "application/vnd.jupyter.widget-view+json": {
              "version_major": 2,
              "version_minor": 0,
              "model_id": "1b6c7737a7724ef9be61f6931236bcb8"
            }
          },
          "metadata": {}
        },
        {
          "output_type": "stream",
          "name": "stdout",
          "text": [
            "step 0 loss 0.9673017263412476\n",
            "step 500 loss 1.3375264348983764\n",
            "step 1000 loss 1.3031280673742294\n",
            "step 1500 loss 1.3155974283814431\n",
            "step 2000 loss 1.285734974861145\n",
            "step 2500 loss 1.3011595278382302\n",
            "step 3000 loss 1.3006816270947457\n",
            "step 3500 loss 1.2505051737427713\n",
            "step 4000 loss 1.3009712474942208\n",
            "step 4500 loss 1.2925726630687713\n",
            "step 5000 loss 1.2850035366415977\n",
            "step 5500 loss 1.264436600893736\n",
            "step 6000 loss 1.2872441119253635\n",
            "step 6500 loss 1.2501278729438783\n",
            "step 7000 loss 1.2642870535254478\n",
            "step 7500 loss 1.240564215362072\n",
            "step 8000 loss 1.2564851052165031\n",
            "step 8500 loss 1.2783652309775353\n",
            "step 9000 loss 1.24153487059474\n",
            "step 9500 loss 1.2436509608626365\n",
            "step 10000 loss 1.227102575302124\n",
            "step 10500 loss 1.2599322707355023\n",
            "step 11000 loss 1.238300481557846\n",
            "step 11500 loss 1.2608491314053536\n",
            "step 12000 loss 1.2100392480790616\n",
            "step 12500 loss 1.2164028249382972\n",
            "step 13000 loss 1.2118090291619301\n",
            "step 13500 loss 1.2452621747851371\n",
            "step 14000 loss 1.2314736860394477\n",
            "step 14500 loss 1.2118525916934013\n",
            "step 15000 loss 1.2386564772725106\n",
            "step 15500 loss 1.1990300981104374\n",
            "step 16000 loss 1.2067064922451973\n",
            "step 16500 loss 1.2085103221535682\n",
            "step 17000 loss 1.2498689150214195\n",
            "step 17500 loss 1.2244806219935418\n",
            "step 18000 loss 1.1957491534948348\n",
            "step 18500 loss 1.2099123302102088\n",
            "step 19000 loss 1.2027873874902726\n",
            "step 19500 loss 1.2049764520823956\n",
            "step 20000 loss 1.2014978619813919\n",
            "step 20500 loss 1.207720711171627\n",
            "step 21000 loss 1.213924792766571\n",
            "step 21500 loss 1.205853958338499\n",
            "step 22000 loss 1.1968568567037583\n",
            "step 22500 loss 1.2152699568271637\n",
            "step 23000 loss 1.2207079109847545\n",
            "step 23500 loss 1.1946503410935403\n",
            "step 24000 loss 1.1905852794647216\n",
            "step 24500 loss 1.1728387068510056\n",
            "step 25000 loss 1.1667800703644753\n",
            "step 25500 loss 1.1926291009783745\n",
            "step 26000 loss 1.1907254307866098\n",
            "step 26500 loss 1.217879817277193\n",
            "step 27000 loss 1.1558322095870972\n",
            "step 27500 loss 1.1915697076320648\n",
            "step 28000 loss 1.1954768512248992\n",
            "step 28500 loss 1.201247963786125\n",
            "step 29000 loss 1.2133721044063568\n",
            "step 29500 loss 1.2177517535686493\n",
            "step 30000 loss 1.17250343978405\n",
            "step 30500 loss 1.20598369294405\n",
            "step 31000 loss 1.156395989269018\n",
            "step 31500 loss 1.1550055854320527\n",
            "step 32000 loss 1.1865495606064795\n",
            "step 32500 loss 1.1865112008452416\n",
            "step 33000 loss 1.1601218999624252\n",
            "step 33500 loss 1.1665316562652588\n",
            "step 34000 loss 1.1787746559679508\n",
            "step 34500 loss 1.1698472369015216\n",
            "step 35000 loss 1.1917555021047592\n",
            "step 35500 loss 1.171408298432827\n",
            "step 36000 loss 1.1643264651298524\n",
            "step 36500 loss 1.1855630542635918\n",
            "step 37000 loss 1.1561255496144294\n",
            "step 37500 loss 1.158688262104988\n",
            "step 38000 loss 1.1883505627512931\n",
            "step 38500 loss 1.1572639836072922\n",
            "step 39000 loss 1.197914300620556\n",
            "step 39500 loss 1.1925095005631448\n",
            "step 40000 loss 1.1596096305251122\n",
            "step 40500 loss 1.1777065021395683\n",
            "step 41000 loss 1.1748684358894825\n",
            "step 41500 loss 1.173690458238125\n",
            "step 42000 loss 1.170815775156021\n",
            "step 42500 loss 1.151776930809021\n",
            "step 43000 loss 1.1448513619303704\n",
            "step 43500 loss 1.1771210180521012\n",
            "step 44000 loss 1.1577356404662131\n",
            "step 44500 loss 1.1213184849321842\n",
            "step 45000 loss 1.1630530796647072\n",
            "step 45500 loss 1.118795248746872\n",
            "step 46000 loss 1.1398132625222206\n",
            "step 46500 loss 1.1367232193350791\n",
            "step 47000 loss 1.1337444452047347\n",
            "step 47500 loss 1.1334313827753066\n",
            "step 48000 loss 1.1423616960048675\n",
            "step 48500 loss 1.1645890288650989\n",
            "step 49000 loss 1.1510088518857955\n",
            "step 49500 loss 1.11088926166296\n",
            "step 50000 loss 1.1379200710058213\n",
            "step 50500 loss 1.1616826092600823\n",
            "step 51000 loss 1.1344405306577683\n",
            "EPOCH 1\n"
          ]
        },
        {
          "output_type": "display_data",
          "data": {
            "text/plain": [
              "  0%|          | 0/51019 [00:00<?, ?it/s]"
            ],
            "application/vnd.jupyter.widget-view+json": {
              "version_major": 2,
              "version_minor": 0,
              "model_id": "19c2a6cc49874c6b9387da8039d073a6"
            }
          },
          "metadata": {}
        },
        {
          "output_type": "stream",
          "name": "stdout",
          "text": [
            "step 0 loss 1.1324273806810379\n",
            "step 500 loss 1.1153266297876834\n",
            "step 1000 loss 1.1325898046791554\n",
            "step 1500 loss 1.106544940650463\n",
            "step 2000 loss 1.1147497542500495\n",
            "step 2500 loss 1.1298377694189548\n",
            "step 3000 loss 1.1145178884267808\n",
            "step 3500 loss 1.0961512585282325\n",
            "step 4000 loss 1.150789601624012\n",
            "step 4500 loss 1.1315308120250702\n",
            "step 5000 loss 1.1167441621422767\n",
            "step 5500 loss 1.1110622864961623\n",
            "step 6000 loss 1.1123104747235775\n",
            "step 6500 loss 1.1145140364170074\n",
            "step 7000 loss 1.1242117822766304\n",
            "step 7500 loss 1.1240466977953911\n",
            "step 8000 loss 1.0813867855072021\n",
            "step 8500 loss 1.1279198758006095\n",
            "step 9000 loss 1.1369470379352569\n",
            "step 9500 loss 1.11920879727602\n",
            "step 10000 loss 1.1199133202135563\n",
            "step 10500 loss 1.1095662937164306\n",
            "step 11000 loss 1.1178666979670524\n",
            "step 11500 loss 1.098283593416214\n",
            "step 12000 loss 1.0989602967500687\n",
            "step 12500 loss 1.1399254206418992\n",
            "step 13000 loss 1.120270090520382\n",
            "step 13500 loss 1.0972463392317295\n",
            "step 14000 loss 1.1136890835464002\n",
            "step 14500 loss 1.097345153093338\n",
            "step 15000 loss 1.1292706655859948\n",
            "step 15500 loss 1.1241831881403923\n",
            "step 16000 loss 1.09479670009017\n",
            "step 16500 loss 1.130893884897232\n",
            "step 17000 loss 1.1352902504205704\n",
            "step 17500 loss 1.1207455975413323\n",
            "step 18000 loss 1.099718199312687\n",
            "step 18500 loss 1.1230275838375092\n",
            "step 19000 loss 1.119578762561083\n",
            "step 19500 loss 1.1021088598072528\n",
            "step 20000 loss 1.105231387257576\n",
            "step 20500 loss 1.1003057669997216\n",
            "step 21000 loss 1.0893935194313527\n",
            "step 21500 loss 1.08758887013793\n",
            "step 22000 loss 1.106287618815899\n",
            "step 22500 loss 1.1079944627285003\n",
            "step 23000 loss 1.0881122180819511\n",
            "step 23500 loss 1.0965360143184661\n",
            "step 24000 loss 1.1141830936670303\n",
            "step 24500 loss 1.111011778116226\n",
            "step 25000 loss 1.0895942875742912\n",
            "step 25500 loss 1.0705491245090961\n",
            "step 26000 loss 1.0776958711147309\n",
            "step 26500 loss 1.0900284222662449\n",
            "step 27000 loss 1.0967978186607361\n",
            "step 27500 loss 1.0904997147917748\n",
            "step 28000 loss 1.0898821976184845\n",
            "step 28500 loss 1.1132778232693672\n",
            "step 29000 loss 1.124057620048523\n",
            "step 29500 loss 1.1039432591199876\n",
            "step 30000 loss 1.1114670453071593\n",
            "step 30500 loss 1.0783981179594995\n",
            "step 31000 loss 1.1011401140093804\n",
            "step 31500 loss 1.1008289268016815\n",
            "step 32000 loss 1.1307643019258975\n",
            "step 32500 loss 1.0762667274177073\n",
            "step 33000 loss 1.0644005433321\n",
            "step 33500 loss 1.0660670344233514\n",
            "step 34000 loss 1.1109367958307266\n",
            "step 34500 loss 1.0833182247281075\n",
            "step 35000 loss 1.1110050165355205\n",
            "step 35500 loss 1.0990767578780651\n",
            "step 36000 loss 1.0803285825848579\n",
            "step 36500 loss 1.1014590439796448\n",
            "step 37000 loss 1.1237673373222352\n",
            "step 37500 loss 1.074963735997677\n",
            "step 38000 loss 1.0633642353713513\n",
            "step 38500 loss 1.0683170498609542\n",
            "step 39000 loss 1.0622568595409394\n",
            "step 39500 loss 1.0759179843664168\n",
            "step 40000 loss 1.0743155499100685\n",
            "step 40500 loss 1.0765639889240264\n",
            "step 41000 loss 1.066363382935524\n",
            "step 41500 loss 1.0922605330646038\n",
            "step 42000 loss 1.0789642274975777\n",
            "step 42500 loss 1.0540086697041988\n",
            "step 43000 loss 1.0671072736084461\n",
            "step 43500 loss 1.0608480499386788\n",
            "step 44000 loss 1.0577227560281754\n",
            "step 44500 loss 1.089262885093689\n",
            "step 45000 loss 1.0834940464496612\n",
            "step 45500 loss 1.1003035531640053\n",
            "step 46000 loss 1.077044375538826\n",
            "step 46500 loss 1.0882195660471916\n",
            "step 47000 loss 1.0588413738012314\n",
            "step 47500 loss 1.0714861978292465\n",
            "step 48000 loss 1.0843632146418094\n",
            "step 48500 loss 1.0795740406513215\n",
            "step 49000 loss 1.0693295322954655\n",
            "step 49500 loss 1.0837968733906747\n",
            "step 50000 loss 1.070567119896412\n",
            "step 50500 loss 1.0842827588021755\n",
            "step 51000 loss 1.075782478570938\n",
            "EPOCH 2\n"
          ]
        },
        {
          "output_type": "display_data",
          "data": {
            "text/plain": [
              "  0%|          | 0/51019 [00:00<?, ?it/s]"
            ],
            "application/vnd.jupyter.widget-view+json": {
              "version_major": 2,
              "version_minor": 0,
              "model_id": "36028cdfc3c743fd810be42de10c51ec"
            }
          },
          "metadata": {}
        },
        {
          "output_type": "stream",
          "name": "stdout",
          "text": [
            "step 0 loss 1.0779508466720582\n",
            "step 500 loss 1.05649151968956\n",
            "step 1000 loss 1.0408585014641285\n",
            "step 1500 loss 1.0591072884202004\n",
            "step 2000 loss 1.0483184240460395\n",
            "step 2500 loss 1.0772425063848496\n",
            "step 3000 loss 1.0143729958236218\n",
            "step 3500 loss 1.0662302606105805\n",
            "step 4000 loss 1.0444499458670615\n",
            "step 4500 loss 1.0655460867881774\n",
            "step 5000 loss 1.0373788571059703\n",
            "step 5500 loss 1.0526831505298615\n",
            "step 6000 loss 1.0369462184607983\n",
            "step 6500 loss 1.0241054469943047\n",
            "step 7000 loss 1.001981723546982\n",
            "step 7500 loss 1.0342040237784387\n",
            "step 8000 loss 1.0660586125850677\n",
            "step 8500 loss 1.066643656015396\n",
            "step 9000 loss 1.0529421593695878\n",
            "step 9500 loss 1.0361130147278308\n",
            "step 10000 loss 1.061078898191452\n",
            "step 10500 loss 1.0543994237184524\n",
            "step 11000 loss 1.0287830965518951\n",
            "step 11500 loss 1.047242129802704\n",
            "step 12000 loss 1.0291616313755512\n",
            "step 12500 loss 1.0539074938893318\n",
            "step 13000 loss 1.0521993960142135\n",
            "step 13500 loss 1.0308318426907062\n",
            "step 14000 loss 1.032182751774788\n",
            "step 14500 loss 1.0408172067403794\n",
            "step 15000 loss 1.052926748305559\n",
            "step 15500 loss 1.0204940557777882\n",
            "step 16000 loss 1.022667915701866\n",
            "step 16500 loss 1.0325351795256137\n",
            "step 17000 loss 1.0315381989777088\n",
            "step 17500 loss 1.0547667641043663\n",
            "step 18000 loss 1.0645512652993203\n",
            "step 18500 loss 1.0462737155556678\n",
            "step 19000 loss 1.0304345530420542\n",
            "step 19500 loss 1.0262983484864234\n",
            "step 20000 loss 1.027681236386299\n",
            "step 20500 loss 1.0326510866880416\n",
            "step 21000 loss 1.0466745878458024\n",
            "step 21500 loss 1.0355752594172956\n",
            "step 22000 loss 1.0413344261050224\n",
            "step 22500 loss 1.0461910438537598\n",
            "step 23000 loss 1.0420149772763252\n",
            "step 23500 loss 1.036574024438858\n",
            "step 24000 loss 1.0477625297904014\n",
            "step 24500 loss 1.0289662448763848\n",
            "step 25000 loss 1.0641692414283752\n",
            "step 25500 loss 1.0228734932541848\n",
            "step 26000 loss 1.0592507343292237\n",
            "step 26500 loss 1.0241137261092663\n",
            "step 27000 loss 1.0412132252752782\n",
            "step 27500 loss 1.0302550530731678\n",
            "step 28000 loss 1.0360115856230259\n",
            "step 28500 loss 1.0452948801517488\n",
            "step 29000 loss 1.0253868655562401\n",
            "step 29500 loss 1.037199892371893\n",
            "step 30000 loss 1.0254213167130948\n",
            "step 30500 loss 1.0331020900011063\n",
            "step 31000 loss 1.0463132640123367\n",
            "step 31500 loss 1.0280765525102615\n",
            "step 32000 loss 1.0374085911512374\n",
            "step 32500 loss 1.035225371658802\n",
            "step 33000 loss 1.0239249159693717\n",
            "step 33500 loss 1.034471563965082\n",
            "step 34000 loss 1.0324563848376274\n",
            "step 34500 loss 1.0423592886030675\n",
            "step 35000 loss 1.0277567507624625\n",
            "step 35500 loss 1.036249067246914\n",
            "step 36000 loss 1.0294098825454712\n",
            "step 36500 loss 1.0420334406793117\n",
            "step 37000 loss 1.0621785780191422\n",
            "step 37500 loss 1.0291118541061879\n",
            "step 38000 loss 1.0087720474302768\n",
            "step 38500 loss 1.0229394246339798\n",
            "step 39000 loss 1.0378538669943809\n",
            "step 39500 loss 1.0242770597040654\n",
            "step 40000 loss 1.0467055651992558\n",
            "step 40500 loss 1.0157270172536372\n",
            "step 41000 loss 1.0317677349448204\n",
            "step 41500 loss 1.0439594435989856\n",
            "step 42000 loss 1.0014571663439273\n",
            "step 42500 loss 1.0426539607048035\n",
            "step 43000 loss 1.0520315589904785\n",
            "step 43500 loss 1.0324747909009457\n",
            "step 44000 loss 1.010064952135086\n",
            "step 44500 loss 1.0188031839728355\n",
            "step 45000 loss 1.0079049881398678\n",
            "step 45500 loss 1.0287508766949176\n",
            "step 46000 loss 1.0117347058057784\n",
            "step 46500 loss 1.002403838455677\n",
            "step 47000 loss 1.013310584306717\n",
            "step 47500 loss 1.0270028968453406\n",
            "step 48000 loss 1.0243687481582164\n",
            "step 48500 loss 1.0517362636625767\n",
            "step 49000 loss 1.0491512266397476\n",
            "step 49500 loss 1.0374555469453335\n",
            "step 50000 loss 1.0360066609233618\n",
            "step 50500 loss 1.0389376120865346\n",
            "step 51000 loss 1.002161991417408\n"
          ]
        }
      ]
    },
    {
      "cell_type": "markdown",
      "source": [
        "The final loss was about 1.01."
      ],
      "metadata": {
        "id": "oTlFWK21LKD4"
      }
    },
    {
      "cell_type": "code",
      "source": [
        "pd.Series(losses).ewm(1000).mean().plot();\n",
        "plt.yscale('log');"
      ],
      "metadata": {
        "colab": {
          "base_uri": "https://localhost:8080/",
          "height": 265
        },
        "id": "TnBlPJG8lcM4",
        "outputId": "21f3272c-8cab-4500-d01a-195946eb9975"
      },
      "execution_count": null,
      "outputs": [
        {
          "output_type": "display_data",
          "data": {
            "text/plain": [
              "<Figure size 432x288 with 1 Axes>"
            ],
            "image/png": "[encoded data removed]"
          },
          "metadata": {
            "needs_background": "light"
          }
        }
      ]
    },
    {
      "cell_type": "code",
      "source": [
        "model.save_pretrained(save_model_path)\n",
        "tokenizer.save_pretrained(save_model_path)"
      ],
      "metadata": {
        "colab": {
          "base_uri": "https://localhost:8080/"
        },
        "id": "emQ5dlZ8lkQN",
        "outputId": "81a318b6-9f03-4a5b-9d9e-047c499a77df"
      },
      "execution_count": null,
      "outputs": [
        {
          "output_type": "execute_result",
          "data": {
            "text/plain": [
              "('/gd/MyDrive/models/myv/mbart-large-51-ru-myv-v1/tokenizer_config.json',\n",
              " '/gd/MyDrive/models/myv/mbart-large-51-ru-myv-v1/special_tokens_map.json',\n",
              " '/gd/MyDrive/models/myv/mbart-large-51-ru-myv-v1/sentencepiece.bpe.model',\n",
              " '/gd/MyDrive/models/myv/mbart-large-51-ru-myv-v1/added_tokens.json')"
            ]
          },
          "metadata": {},
          "execution_count": 38
        }
      ]
    },
    {
      "cell_type": "code",
      "source": [
        "model.eval();"
      ],
      "metadata": {
        "id": "XOto-tN1UX2F"
      },
      "execution_count": null,
      "outputs": []
    },
    {
      "cell_type": "code",
      "source": [
        "myv, ru = random.choice(all_pairs)\n",
        "myv, ru"
      ],
      "metadata": {
        "colab": {
          "base_uri": "https://localhost:8080/"
        },
        "id": "x_KzHzfSUTKF",
        "outputId": "ef88cedd-ea90-44af-b9c4-3b18a60609db"
      },
      "execution_count": null,
      "outputs": [
        {
          "output_type": "execute_result",
          "data": {
            "text/plain": [
              "('галань лапа', 'гусиная лапа')"
            ]
          },
          "metadata": {},
          "execution_count": 91
        }
      ]
    },
    {
      "cell_type": "code",
      "source": [
        "def translate(text, src='ru_RU', trg='myv_XX', max_length=200, num_beams=5, repetition_penalty=5.0, **kwargs):\n",
        "    tokenizer.src_lang = src\n",
        "    encoded = tokenizer(text, return_tensors=\"pt\")\n",
        "    generated_tokens = model.generate(\n",
        "        **encoded.to(model.device),\n",
        "        forced_bos_token_id=tokenizer.lang_code_to_id[trg], \n",
        "        max_length=max_length, \n",
        "        num_beams=num_beams,\n",
        "        repetition_penalty=repetition_penalty,\n",
        "        # early_stopping=True,\n",
        "    )\n",
        "    return tokenizer.batch_decode(generated_tokens, skip_special_tokens=True)[0]\n",
        "\n",
        "translate(ru)"
      ],
      "metadata": {
        "colab": {
          "base_uri": "https://localhost:8080/",
          "height": 35
        },
        "id": "k3ZdAUlcVG68",
        "outputId": "851c9f48-c00a-459c-ee28-c428c5bdd4af"
      },
      "execution_count": null,
      "outputs": [
        {
          "output_type": "execute_result",
          "data": {
            "text/plain": [
              "'гузонь лапа'"
            ],
            "application/vnd.google.colaboratory.intrinsic+json": {
              "type": "string"
            }
          },
          "metadata": {},
          "execution_count": 92
        }
      ]
    },
    {
      "cell_type": "code",
      "source": [
        "with tokenizer.as_target_tokenizer():\n",
        "    print(tokenizer(myv))"
      ],
      "metadata": {
        "colab": {
          "base_uri": "https://localhost:8080/"
        },
        "id": "GJDLexVPKsZn",
        "outputId": "1296fa49-326f-4f28-f6df-d10a38402dc8"
      },
      "execution_count": null,
      "outputs": [
        {
          "output_type": "stream",
          "name": "stdout",
          "text": [
            "{'input_ids': [269544, 95080, 49, 49467, 380, 5, 2], 'attention_mask': [1, 1, 1, 1, 1, 1, 1]}\n"
          ]
        }
      ]
    },
    {
      "cell_type": "code",
      "source": [
        "loss = None\n",
        "optimizer.zero_grad(set_to_none=True)\n",
        "optimizer = None\n",
        "cleanup()"
      ],
      "metadata": {
        "id": "6dvO0V4FbOhn"
      },
      "execution_count": null,
      "outputs": []
    },
    {
      "cell_type": "markdown",
      "source": [
        "# Evaluate"
      ],
      "metadata": {
        "id": "dtLw0o74VFV-"
      }
    },
    {
      "cell_type": "code",
      "source": [
        "!ls /gd/MyDrive/datasets/nlp/myv_corpus/"
      ],
      "metadata": {
        "colab": {
          "base_uri": "https://localhost:8080/"
        },
        "id": "rkx2ImDjVLHg",
        "outputId": "0dac7a1e-4809-43dc-8d94-2e809a393b19"
      },
      "execution_count": null,
      "outputs": [
        {
          "output_type": "stream",
          "name": "stdout",
          "text": [
            "dev1000.v1.json\t\t\t     myv_mono.v1.json  train.v1.json\n",
            "myv_mono.v1.back_translated.v1.json  test1000.v1.json\n"
          ]
        }
      ]
    },
    {
      "cell_type": "code",
      "source": [
        "with open('/gd/MyDrive/datasets/nlp/myv_corpus/dev1000.v1.json', 'r') as f:\n",
        "    dev = json.load(f)"
      ],
      "metadata": {
        "id": "vuxJoG52VJQy"
      },
      "execution_count": null,
      "outputs": []
    },
    {
      "cell_type": "code",
      "source": [
        "dev_target = {k: [er for er, ru in v] for k, v in dev.items()}"
      ],
      "metadata": {
        "id": "PDMF7H8SWceJ"
      },
      "execution_count": null,
      "outputs": []
    },
    {
      "cell_type": "code",
      "source": [
        "dev_translated = {k: [translate(ru) for er, ru in tqdm(v)] for k, v in dev.items()}"
      ],
      "metadata": {
        "colab": {
          "base_uri": "https://localhost:8080/",
          "height": 209,
          "referenced_widgets": [
            "632420db67574669bc16730f4babef37",
            "f409c1b66f9c4e7b82e85deb735ce94e",
            "22b9243c02394005b1f5debde6e46fa4",
            "604b80d84e834474a7710952e5a7432c",
            "53cbe909a30f4fec9974c459c97e07ab",
            "25de90b5a7534ac6a6c8fbc314f80843",
            "96e826f26a664b8eae8107f5b4894032",
            "d641c5568782454b8eb2ff1dcd89c832",
            "6cccc4cc19b44407afc565592615d358",
            "d40c6738bd904dc18c91acc68f2fa141",
            "48b4af3643724c15b285f2c0d84be43d",
            "4685574ac48c48f49680c4c336916740",
            "ae934b47f6ab442aa23693c2dd5a2c4f",
            "8ccf50278d5745bc9a5a22bc04ffa634",
            "c4823f7180274e85a160f207861e5936",
            "57282569a98b4439b2ef261367cf57a1",
            "075027ef0bd34cc4b627f0de007f5961",
            "d33ebc6a80934cf5ab5f5bcfd1887efc",
            "883c916303d542a98e1ac9861287d475",
            "853daca61fa1437db7b7751e1561bbe6",
            "4ddf2b00cd5548499c892bd60a4ca13a",
            "42e5dc04341a49cc95b0ac0a73df3c5c",
            "28ef72e995bc4641aafe0008753e6b81",
            "afa42fcd06b149b895860e4e093d5c6e",
            "c29226e49c3942e289dd5ee13ba92958",
            "eae6462c744c46b8941fc00b3e950819",
            "61b1ba6ddd214795b5fa107f1fef8cc7",
            "e2b58cca3a98463597c4becec72f4fa0",
            "1af1e64836cd4f20b1e9d7bb9fc1ded9",
            "36b5327f8e5b429fb0a7da2eb238b9b4",
            "88c2d5add35c402db78008298dbd5e46",
            "5763abb3b7d84b4eb39869d9d77e1cf5",
            "db84526f51ac4a729d36f56a002ab251",
            "1accc33789e9454992e4f8b9d4d2101b",
            "b96bf42d7fba483caa3dda671857ff90",
            "35deb001d0f54a208ab184d9d30319e0",
            "3c3df89dc0ec48fca935fab1a704987e",
            "33af438b5fff4ebf9c653f0538f2f981",
            "0dd5f20be4d64ed4a94feda04666ad9e",
            "8ebb1da817da42629a5e3492c998c0ce",
            "45df1f82d38b4c82a5ed22f0c488aa3f",
            "1df73e15fde848058ff01704645d5ebc",
            "a3e1c48ea88c42369041ff4f902f9865",
            "623de4dc0e8541bc844e3ebe61bc95b4",
            "247c2c9b54b146e2b085cd1a0026dd20",
            "ff22e7bc1a6a4f2384093d120cbb567a",
            "37d705c9973248cd8c6fc96a149f4725",
            "8bf621fe1a1f4e60838bde2bbefc23ce",
            "636f55d8b58f47bd90db942f6aa54288",
            "a07330d68c5e468987af1d308081ec11",
            "67017f26d12d46ed91b2ae9923434741",
            "23032c2358844822bd0d000f31dbf5e5",
            "d46435cf063f4e80b2f0a92736325486",
            "629db5b16a574a3db83db56180a3ec39",
            "c4dc0d92d55d45038fab026d1a595b10",
            "7da44b579fa843ba9ce0bf652c2dcc74",
            "39b9a7efc89e42e3b5e5d4712a56b4bd",
            "a16605e75ee240c4ad3214288af17208",
            "67e449c33ca34af68592ac395702644a",
            "e25a2b0c033943a7ada5bc9c9bc20911",
            "b9903ebe17ab4b6baa27c3cdd90e4771",
            "1e99b03f26274e6f9f535b398101bb27",
            "284f90c5010046faa39ad4861a130d94",
            "7e5f84d82aa64a22bd8ac61225e8952e",
            "c0cc189db44a4c96917406059931e051",
            "f039e4137c31401d9fc63fe28bff0fca"
          ]
        },
        "id": "8cTZALDIVOeJ",
        "outputId": "ed1987c8-80ac-41e9-d242-c79a86f0a350"
      },
      "execution_count": null,
      "outputs": [
        {
          "output_type": "display_data",
          "data": {
            "text/plain": [
              "  0%|          | 0/400 [00:00<?, ?it/s]"
            ],
            "application/vnd.jupyter.widget-view+json": {
              "version_major": 2,
              "version_minor": 0,
              "model_id": "632420db67574669bc16730f4babef37"
            }
          },
          "metadata": {}
        },
        {
          "output_type": "display_data",
          "data": {
            "text/plain": [
              "  0%|          | 0/100 [00:00<?, ?it/s]"
            ],
            "application/vnd.jupyter.widget-view+json": {
              "version_major": 2,
              "version_minor": 0,
              "model_id": "4685574ac48c48f49680c4c336916740"
            }
          },
          "metadata": {}
        },
        {
          "output_type": "display_data",
          "data": {
            "text/plain": [
              "  0%|          | 0/50 [00:00<?, ?it/s]"
            ],
            "application/vnd.jupyter.widget-view+json": {
              "version_major": 2,
              "version_minor": 0,
              "model_id": "28ef72e995bc4641aafe0008753e6b81"
            }
          },
          "metadata": {}
        },
        {
          "output_type": "display_data",
          "data": {
            "text/plain": [
              "  0%|          | 0/250 [00:00<?, ?it/s]"
            ],
            "application/vnd.jupyter.widget-view+json": {
              "version_major": 2,
              "version_minor": 0,
              "model_id": "1accc33789e9454992e4f8b9d4d2101b"
            }
          },
          "metadata": {}
        },
        {
          "output_type": "display_data",
          "data": {
            "text/plain": [
              "  0%|          | 0/100 [00:00<?, ?it/s]"
            ],
            "application/vnd.jupyter.widget-view+json": {
              "version_major": 2,
              "version_minor": 0,
              "model_id": "247c2c9b54b146e2b085cd1a0026dd20"
            }
          },
          "metadata": {}
        },
        {
          "output_type": "display_data",
          "data": {
            "text/plain": [
              "  0%|          | 0/600 [00:00<?, ?it/s]"
            ],
            "application/vnd.jupyter.widget-view+json": {
              "version_major": 2,
              "version_minor": 0,
              "model_id": "7da44b579fa843ba9ce0bf652c2dcc74"
            }
          },
          "metadata": {}
        }
      ]
    },
    {
      "cell_type": "code",
      "source": [
        "from sacrebleu import CHRF, BLEU\n",
        "chrf_calc = CHRF(word_order=2)\n",
        "bleu_calc = BLEU()"
      ],
      "metadata": {
        "id": "SQMvR1EAYCFT"
      },
      "execution_count": null,
      "outputs": []
    },
    {
      "cell_type": "markdown",
      "source": [
        "ChrF++ is 50, but BLEU is only 18. "
      ],
      "metadata": {
        "id": "-NO7igseO8Gp"
      }
    },
    {
      "cell_type": "code",
      "source": [
        "for k in dev:\n",
        "    s = chrf_calc.corpus_score(dev_translated[k], [dev_target[k]]).score\n",
        "    print(f'{k:20s} {s:2.2f}')\n",
        "print(chrf_calc.corpus_score(\n",
        "    [t for k in dev_translated for t in dev_translated[k]], \n",
        "    [[t for k in dev_target for t in dev_target[k]]]\n",
        ").score)"
      ],
      "metadata": {
        "colab": {
          "base_uri": "https://localhost:8080/"
        },
        "id": "adizqeXwWuGE",
        "outputId": "e327c7d1-f058-47e2-a606-f0532ab8b023"
      },
      "execution_count": null,
      "outputs": [
        {
          "output_type": "stream",
          "name": "stdout",
          "text": [
            "bible                36.45\n",
            "tales                37.33\n",
            "constitution         61.46\n",
            "games                29.37\n",
            "fiction              25.51\n",
            "wiki                 50.63\n",
            "41.821449810361266\n"
          ]
        }
      ]
    },
    {
      "cell_type": "code",
      "source": [
        "for k in dev:\n",
        "    s = bleu_calc.corpus_score(dev_translated[k], [dev_target[k]]).score\n",
        "    print(f'{k:20s} {s:2.2f}')\n",
        "\n",
        "print(bleu_calc.corpus_score(\n",
        "    [t for k in dev_translated for t in dev_translated[k]], \n",
        "    [[t for k in dev_target for t in dev_target[k]]]\n",
        ").score)"
      ],
      "metadata": {
        "colab": {
          "base_uri": "https://localhost:8080/"
        },
        "id": "GlXsAddveZrc",
        "outputId": "56ee4039-eaca-4247-df14-2fe3f32b4d15"
      },
      "execution_count": null,
      "outputs": [
        {
          "output_type": "stream",
          "name": "stdout",
          "text": [
            "bible                9.37\n",
            "tales                13.42\n",
            "constitution         25.54\n",
            "games                8.72\n",
            "fiction              7.39\n",
            "wiki                 30.55\n",
            "18.728524159764728\n"
          ]
        }
      ]
    },
    {
      "cell_type": "code",
      "source": [
        "for k in dev:\n",
        "    print(k)\n",
        "    for i in range(3):\n",
        "        print(dev[k][i][0])\n",
        "        print(dev[k][i][1])\n",
        "        print(dev_translated[k][i])\n",
        "        print()"
      ],
      "metadata": {
        "colab": {
          "base_uri": "https://localhost:8080/"
        },
        "id": "Dy66ZEvkZ-_S",
        "outputId": "2e5b3340-61a0-4981-f465-72fa610c394b"
      },
      "execution_count": null,
      "outputs": [
        {
          "output_type": "stream",
          "name": "stdout",
          "text": [
            "bible\n",
            "Давид инязороськак корты: «Кадык сынь понгить кундамкас каванямо шкастост! Кадык сынь прыть туворс, ды кадык сы тенст чумонь пандома!\n",
            "И Давид говорит: да будет трапеза их сетью, тенетами и петлею в возмездие им;\n",
            "Ды Давид мерсь: «Кадык сынст каванямост кармить улеме сеть, конат тенетне ды петлюсть тенст пандомакс.\n",
            "\n",
            "Сюкпря Пазонтень, кие кирвазтизе Титэнь седейс тынк кисэ секе жо бажамонть, кона палы минек седейсэяк!\n",
            "Благодарение Богу, вложившему в сердце Титово такое усердие к вам.\n",
            "Сюкпря Пазонтень, кона путсь Титовонь седейсэ истямо покш мель тыненк.\n",
            "\n",
            "Ансяк бути мон карман одс стявтомо сень, мезенть калавтыя икеле, сестэ теньсэ невтьса: мон – Коень каладыця.\n",
            "Ибо если я снова созидаю, что разрушил, то сам себя делаю преступником.\n",
            "Бути мон таго теинь сень, мезенть калавтан, сестэ эсь прят теян зыянонь теицякс.\n",
            "\n",
            "tales\n",
            "Вана мезе ёвтнить миненек рузонь атятне: зярдо велесь тесэ арасель, се латксонть эрясть розбойникть, эрясть землянкасо.\n",
            "И вот что рассказывают наши русские старики: «Когда здесь не было этого села, в этом овраге были разбойники; у них были землянки.\n",
            "Ды вана мезе ёвтни минек эрзянь атятне: «Зярдояк тесэ арасель те велесь, те оврагатсо ульнесть розбойникть; сынст ульнесть землянкаст.\n",
            "\n",
            "Покшонть лемезэ ульнесь Мишка, омбоценть — Сёмка, колмоценть — Захарка, нилеценть — Давидка, ветеценть — Гришка.\n",
            "Старшему имя Михаил, второму — Семен, третьему — Захар, четвертому — Давыд, пятому — Григорий.\n",
            "Седе сыре лемезэ Михаил, омбоце — Семен, колмоценть — Захар, нилеценть — Давыд, ветеценть — Григорий.\n",
            "\n",
            "Тосо карматам, эрзят, эрямо, Уш тосо путтан минь ней кудот-чить.\n",
            "Там будем, эрзяне, жить, Уж там построим мы теперь хозяйство.\n",
            "Тосо карматано, эрзят, эрямо, Уш тосо стявттано ней хозяйстванок.\n",
            "\n",
            "constitution\n",
            "Казахской Советской Социалистической Республиканть,\n",
            "Казахской Советской Социалистической Республики,\n",
            "Казахской Советской Социалистической Республиканть,\n",
            "\n",
            "ф) трудонь кувалт законодательствань основатнень аравтомась;\n",
            "ф) установление основ законодательства о труде;\n",
            "ф) трудонь законодательстванть основатнень установления;\n",
            "\n",
            "Весе Народной Комиссариатнэнь ды сыненст подведомственной учреждениятнень, истя жо должностной башка ломантнень, истя жо СССР-нь граждантнэнь ендо законтнэнь точнойстэ топавтомаст мельга высшей надзорось путови СССР-нь Прокуроронть лангс.\n",
            "Высший надзор за точным исполнением законов всеми Народными Комиссариатами и подведомственными им учреждениями, равно как отдельными должностными лицами, а также гражданами СССР возлагается на Прокурора СССР.\n",
            "Весе Народной Комиссариаттнэнь ды сынст подведомственной учреждениятнень, истя жо СССР-нь особой должностной лицень ды гражданонь законтнэнь видестэ топавтомадо высшей надзорось ашти СССР-нь Прокуроронтень.\n",
            "\n",
            "games\n",
            "Бути налксицясь номерэнть теемстэ ильведи, налксемась юты омбоцентень.\n",
            "Ошибка при исполнении номера одним из игроков ведет к передаче очередности к другому игроку.\n",
            "Ошибкась номерэнть вейке налксицянть марто теи сень, кода юты очередной налксицясь.\n",
            "\n",
            "Налксицятне 6 — 12 иесэ цёрынеть ды тейтернеть.\n",
            "Участники игры мальчики и девочки 6 — 12 лет.\n",
            "Налксицятне 6 — 12 иесэ цёрынеть ды тейтернеть.\n",
            "\n",
            "Тейтернетне ды цёрынетне арыть най мунонть перька, пелькстыть мартонзо питненть коряс.\n",
            "Группа крестьян окружает купца, тор гуются.\n",
            "Велень группа окружает купца, тор гуются.\n",
            "\n",
            "fiction\n",
            "Венчесь кшнинь рисьмесэ сюлмазь кувака балкас, конань маныть строительтне стувтызь.\n",
            "Она привязана на берегу к железобетонному столбу, врытому строителями моста десять лет назад.\n",
            "Сон сюлмавсь берёк чиресэ кшнинь-кислой столбантень, конань стявтицятне вачкасть кемень иеть икеле.\n",
            "\n",
            "Сонзэ оймензэ тон эсеть седейсэ марясак…\n",
            "И сердце у тебя совсем другое…\n",
            "Ды седееть тунь лия...\n",
            "\n",
            "— Те тон мезень кувалма? — ёжомарязь кевкстсь Михалыч.\n",
            "— Ты это к чему? — осторожно осведомился Михалыч.\n",
            "— Тон те мезень кис? — мизолдозь пшкадсь Михалыч.\n",
            "\n",
            "wiki\n",
            "Ало пурназь ве таркас ды невтезь: ошонть лемезэ, коли сонензэ сон ульнесь путозь, ломантнень покшолмазо 1979-це, 1989-це,2000-це ды 2006-це иетнестэ ды сеть кие эрить оштнесэ 2012-це ды 2013-це иетнестэ, истяжо невтезь ёнксось (уездэсь) конасонть ашти ошось.\n",
            "В нижеприведённой таблице указаны: название города, год присвоения ему данного статуса, численность населения в 1979, 1989, 2000 и 2006 годах и постоянного населения в 2012 и 2019 годах, а также уезд, в котором расположен город.\n",
            "Ниже приводится таблица указаны: название города, год присвоения ему данного статуса, численность населения в 1979, 1989, 2000 и 2006 годах и постоянного населения в 2012 и 2019 годах, а также уезд, в котором расположен город.\n",
            "\n",
            "Цецянзо покшт, вейкестэ аштицят, 4 мазы-якстере лопинень марто.\n",
            "Цветки крупные, одиночные, с 4 ярко-красными лепестками.\n",
            "Цветкатне покшт, ськамост, 4 ярко-красные лепестка марто.\n",
            "\n",
            "1999-це иестэ Манч лездась муемс ды идемс Хатира Каплан колмо иесэ тейтерненть, кона 82 част ютавтсь лондадовкс-каладовкс ало янгазь Измитсэ.\n",
            "В 1999 году Манч помог найти и спасти трёхлетнюю девочку Хатиру Каплан, которая пробыла 82 часа под развалинами в разрушенном Измите.\n",
            "1999-це иестэ Манч лездась муемс ды идемс колмо иесэ тейтерне Хатиру Каплан, кона 82 част нолсизе калавтозь Измитесэ.\n",
            "\n"
          ]
        }
      ]
    },
    {
      "cell_type": "markdown",
      "source": [
        "# Translate the monolingual corpus for back-translation"
      ],
      "metadata": {
        "id": "iqMMB3FLlLFa"
      }
    },
    {
      "cell_type": "markdown",
      "source": [
        "**todo: collect a russian monolingual corpus**"
      ],
      "metadata": {
        "id": "MPyyEjk9XsTe"
      }
    },
    {
      "cell_type": "code",
      "source": [
        "def translate_batch(texts, src='ru_RU', trg='myv_XX', max_length='auto', num_beams=5, repetition_penalty=5.0, **kwargs):\n",
        "    tokenizer.src_lang = src\n",
        "    encoded = tokenizer(texts, padding=True, truncation=True, max_length=256, return_tensors=\"pt\")\n",
        "    if max_length == 'auto':\n",
        "        max_length = int(10 + encoded.input_ids.shape[1] * 1.5)\n",
        "    generated_tokens = model.generate(\n",
        "        **encoded.to(model.device),\n",
        "        forced_bos_token_id=tokenizer.lang_code_to_id[trg], \n",
        "        max_length=max_length, \n",
        "        num_beams=num_beams,\n",
        "        repetition_penalty=repetition_penalty,\n",
        "        # early_stopping=True,\n",
        "    )\n",
        "    return tokenizer.batch_decode(generated_tokens, skip_special_tokens=True)\n"
      ],
      "metadata": {
        "id": "b00gre58bWb9"
      },
      "execution_count": null,
      "outputs": []
    },
    {
      "cell_type": "code",
      "source": [
        "translate_batch(all_sentences[:4])"
      ],
      "metadata": {
        "colab": {
          "base_uri": "https://localhost:8080/"
        },
        "id": "N5Fg7B5Hb4Kv",
        "outputId": "6380d4a0-8fc5-4bb3-8ea0-806339644731"
      },
      "execution_count": null,
      "outputs": [
        {
          "output_type": "execute_result",
          "data": {
            "text/plain": [
              "['Приветствую тебя, Хоразин! Приветствую тебя, Бетсаида! Если бы народ Тирский и Сидонский видел чудеса, которые явились вам, то они уже давно одевались в одежду скорби и не сидели бы над кулупами.',\n",
              " 'Здесь работающих — эти естественные условия, сбор съедобных грибов.',\n",
              " 'Включает в себя Адамсон Генрих, где открылся Музей чисел Койдула.',\n",
              " 'Сплыть, девочки!']"
            ]
          },
          "metadata": {},
          "execution_count": 316
        }
      ]
    },
    {
      "cell_type": "code",
      "source": [
        "batch_size = 16"
      ],
      "metadata": {
        "id": "SgE_ly5vbuRA"
      },
      "execution_count": null,
      "outputs": []
    },
    {
      "cell_type": "code",
      "source": [
        "all_translated = []"
      ],
      "metadata": {
        "id": "PZi4s_Ux1Q1r"
      },
      "execution_count": null,
      "outputs": []
    },
    {
      "cell_type": "code",
      "source": [],
      "metadata": {
        "colab": {
          "base_uri": "https://localhost:8080/"
        },
        "id": "FwtQhJMe1TFT",
        "outputId": "f94ae86e-15f0-41e8-c925-9d7a36fefacd"
      },
      "execution_count": null,
      "outputs": [
        {
          "output_type": "execute_result",
          "data": {
            "text/plain": [
              "[]"
            ]
          },
          "metadata": {},
          "execution_count": 325
        }
      ]
    },
    {
      "cell_type": "code",
      "source": [
        "cleanup()\n",
        "\n",
        "\n",
        "for i in trange(0, len(all_sentences), batch_size):\n",
        "    batch = all_sentences[i: i + batch_size]\n",
        "    if all_translated[i: i + batch_size]:\n",
        "        continue\n",
        "    try:\n",
        "        all_translated.extend(translate_batch(batch))\n",
        "    except RuntimeError:\n",
        "        print('error at', i)\n",
        "        cleanup()\n",
        "        bb = []\n",
        "        for b in batch:\n",
        "            try:\n",
        "                bb.append(translate_batch([b])[0])\n",
        "            except RuntimeError:\n",
        "                print('mega error!')\n",
        "                bb.append(b)\n",
        "                cleanup()\n",
        "        all_translated.extend(bb)\n",
        "\n",
        "    if i and (i // batch_size) % 100 == 0:\n",
        "        with open('/gd/MyDrive/datasets/nlp/myv_corpus/rus_mono.v1.back_translated.v1.json', 'w') as f:\n",
        "            json.dump({'original': all_sentences, 'translated': all_translated}, f, ensure_ascii=False, indent=2)\n",
        "        print(i, 'saving...')"
      ],
      "metadata": {
        "colab": {
          "base_uri": "https://localhost:8080/",
          "height": 1000,
          "referenced_widgets": [
            "ee5c482fdd8445b780fc56f9c7137e39",
            "94347f2c242947879626d8e0a962ddb2",
            "ea5025b6b11a424da06174fdb96aa2d3",
            "91b966ede37a412a9e6c87f79a5f3140",
            "a05e5daa2064453382053efbf3635b8c",
            "c90679376b4b4a459402d91d20979e11",
            "dcf7a1c2723a44099aecbad9925a29cb",
            "5cdafc0673b74674ab97800d8e288842",
            "a26e99f1e56147d8a1d7c0bb3f6186f1",
            "88b4346e6c624ec1ae35657ac23c5579",
            "01dcca261c504ad6bc50c0969fd32a7f"
          ]
        },
        "id": "vG7Vaho5nJlc",
        "outputId": "47d51cc5-20f3-4ad1-c589-1e7e06ade829"
      },
      "execution_count": null,
      "outputs": [
        {
          "output_type": "display_data",
          "data": {
            "text/plain": [
              "  0%|          | 0/20854 [00:00<?, ?it/s]"
            ],
            "application/vnd.jupyter.widget-view+json": {
              "version_major": 2,
              "version_minor": 0,
              "model_id": "ee5c482fdd8445b780fc56f9c7137e39"
            }
          },
          "metadata": {}
        },
        {
          "output_type": "stream",
          "name": "stdout",
          "text": [
            "40000 saving...\n",
            "41600 saving...\n",
            "43200 saving...\n",
            "44800 saving...\n",
            "46400 saving...\n",
            "48000 saving...\n",
            "49600 saving...\n",
            "51200 saving...\n",
            "52800 saving...\n",
            "54400 saving...\n",
            "56000 saving...\n",
            "57600 saving...\n",
            "59200 saving...\n",
            "60800 saving...\n",
            "62400 saving...\n",
            "64000 saving...\n",
            "65600 saving...\n",
            "67200 saving...\n",
            "68800 saving...\n",
            "70400 saving...\n",
            "72000 saving...\n",
            "73600 saving...\n",
            "75200 saving...\n",
            "76800 saving...\n",
            "78400 saving...\n",
            "80000 saving...\n",
            "81600 saving...\n",
            "83200 saving...\n",
            "84800 saving...\n",
            "86400 saving...\n",
            "88000 saving...\n",
            "89600 saving...\n",
            "91200 saving...\n",
            "92800 saving...\n",
            "94400 saving...\n",
            "96000 saving...\n",
            "97600 saving...\n",
            "99200 saving...\n",
            "100800 saving...\n",
            "102400 saving...\n",
            "104000 saving...\n",
            "105600 saving...\n",
            "107200 saving...\n",
            "108800 saving...\n",
            "110400 saving...\n",
            "112000 saving...\n",
            "113600 saving...\n",
            "115200 saving...\n",
            "116800 saving...\n",
            "118400 saving...\n",
            "120000 saving...\n",
            "121600 saving...\n",
            "123200 saving...\n",
            "124800 saving...\n",
            "126400 saving...\n",
            "128000 saving...\n",
            "129600 saving...\n",
            "131200 saving...\n",
            "132800 saving...\n",
            "134400 saving...\n",
            "136000 saving...\n",
            "137600 saving...\n",
            "139200 saving...\n",
            "140800 saving...\n",
            "142400 saving...\n",
            "144000 saving...\n",
            "145600 saving...\n",
            "147200 saving...\n",
            "148800 saving...\n",
            "150400 saving...\n",
            "152000 saving...\n",
            "153600 saving...\n",
            "155200 saving...\n",
            "156800 saving...\n",
            "158400 saving...\n",
            "160000 saving...\n",
            "161600 saving...\n",
            "163200 saving...\n",
            "164800 saving...\n",
            "166400 saving...\n",
            "168000 saving...\n",
            "169600 saving...\n",
            "171200 saving...\n",
            "172800 saving...\n",
            "174400 saving...\n",
            "176000 saving...\n",
            "177600 saving...\n",
            "179200 saving...\n",
            "180800 saving...\n",
            "182400 saving...\n",
            "184000 saving...\n",
            "185600 saving...\n",
            "187200 saving...\n",
            "188800 saving...\n",
            "190400 saving...\n",
            "192000 saving...\n",
            "193600 saving...\n",
            "195200 saving...\n",
            "196800 saving...\n",
            "198400 saving...\n",
            "200000 saving...\n",
            "201600 saving...\n",
            "203200 saving...\n",
            "204800 saving...\n",
            "206400 saving...\n",
            "208000 saving...\n",
            "209600 saving...\n",
            "211200 saving...\n",
            "212800 saving...\n",
            "214400 saving...\n",
            "216000 saving...\n",
            "217600 saving...\n",
            "219200 saving...\n",
            "220800 saving...\n",
            "222400 saving...\n",
            "224000 saving...\n",
            "225600 saving...\n",
            "227200 saving...\n",
            "228800 saving...\n",
            "230400 saving...\n",
            "232000 saving...\n",
            "233600 saving...\n",
            "235200 saving...\n",
            "236800 saving...\n",
            "238400 saving...\n",
            "240000 saving...\n",
            "241600 saving...\n",
            "243200 saving...\n",
            "244800 saving...\n",
            "246400 saving...\n",
            "248000 saving...\n",
            "249600 saving...\n",
            "251200 saving...\n",
            "252800 saving...\n",
            "254400 saving...\n",
            "256000 saving...\n",
            "257600 saving...\n",
            "259200 saving...\n",
            "260800 saving...\n",
            "262400 saving...\n",
            "264000 saving...\n",
            "265600 saving...\n",
            "267200 saving...\n",
            "268800 saving...\n",
            "270400 saving...\n",
            "272000 saving...\n",
            "273600 saving...\n",
            "275200 saving...\n",
            "276800 saving...\n",
            "278400 saving...\n",
            "280000 saving...\n",
            "281600 saving...\n",
            "283200 saving...\n",
            "284800 saving...\n",
            "286400 saving...\n",
            "288000 saving...\n",
            "289600 saving...\n",
            "291200 saving...\n",
            "292800 saving...\n",
            "294400 saving...\n",
            "296000 saving...\n",
            "297600 saving...\n",
            "299200 saving...\n",
            "300800 saving...\n",
            "302400 saving...\n",
            "304000 saving...\n",
            "305600 saving...\n",
            "307200 saving...\n",
            "308800 saving...\n",
            "310400 saving...\n",
            "312000 saving...\n",
            "313600 saving...\n",
            "315200 saving...\n",
            "316800 saving...\n",
            "318400 saving...\n",
            "320000 saving...\n",
            "321600 saving...\n",
            "323200 saving...\n",
            "324800 saving...\n",
            "326400 saving...\n",
            "328000 saving...\n",
            "329600 saving...\n",
            "331200 saving...\n",
            "332800 saving...\n"
          ]
        }
      ]
    },
    {
      "cell_type": "code",
      "source": [
        "with open('/gd/MyDrive/datasets/nlp/myv_corpus/rus_mono.v1.back_translated.v1.json', 'w') as f:\n",
        "    json.dump({'original': all_sentences, 'translated': all_translated}, f, ensure_ascii=False, indent=2)"
      ],
      "metadata": {
        "id": "li-lR1XMdS-w"
      },
      "execution_count": null,
      "outputs": []
    },
    {
      "cell_type": "code",
      "source": [],
      "metadata": {
        "id": "S-QSc2hDfpRV"
      },
      "execution_count": null,
      "outputs": []
    }
  ]
}