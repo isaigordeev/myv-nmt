{
  "nbformat": 4,
  "nbformat_minor": 0,
  "metadata": {
    "colab": {
      "provenance": [],
      "collapsed_sections": []
    },
    "kernelspec": {
      "name": "python3",
      "display_name": "Python 3"
    },
    "language_info": {
      "name": "python"
    },
    "accelerator": "GPU",
    "gpuClass": "standard",
    "widgets": {
      "application/vnd.jupyter.widget-state+json": {
        "a1b8a2f992034105b78d4ed812ad403b": {
          "model_module": "@jupyter-widgets/controls",
          "model_name": "HBoxModel",
          "model_module_version": "1.5.0",
          "state": {
            "_dom_classes": [],
            "_model_module": "@jupyter-widgets/controls",
            "_model_module_version": "1.5.0",
            "_model_name": "HBoxModel",
            "_view_count": null,
            "_view_module": "@jupyter-widgets/controls",
            "_view_module_version": "1.5.0",
            "_view_name": "HBoxView",
            "box_style": "",
            "children": [
              "IPY_MODEL_0452296e671042bc93041b4097e4582d",
              "IPY_MODEL_76871f714d0240d38ae05867a2d1f7ae",
              "IPY_MODEL_4b5322485642418ea3a5c5f9cc63dc66"
            ],
            "layout": "IPY_MODEL_5065b9fe8d7f4e0da7194bb999748bde"
          }
        },
        "0452296e671042bc93041b4097e4582d": {
          "model_module": "@jupyter-widgets/controls",
          "model_name": "HTMLModel",
          "model_module_version": "1.5.0",
          "state": {
            "_dom_classes": [],
            "_model_module": "@jupyter-widgets/controls",
            "_model_module_version": "1.5.0",
            "_model_name": "HTMLModel",
            "_view_count": null,
            "_view_module": "@jupyter-widgets/controls",
            "_view_module_version": "1.5.0",
            "_view_name": "HTMLView",
            "description": "",
            "description_tooltip": null,
            "layout": "IPY_MODEL_d14d9b6b0be94b67909918d4e527096e",
            "placeholder": "​",
            "style": "IPY_MODEL_5111a46d421f49b4af9b877189244721",
            "value": "100%"
          }
        },
        "76871f714d0240d38ae05867a2d1f7ae": {
          "model_module": "@jupyter-widgets/controls",
          "model_name": "FloatProgressModel",
          "model_module_version": "1.5.0",
          "state": {
            "_dom_classes": [],
            "_model_module": "@jupyter-widgets/controls",
            "_model_module_version": "1.5.0",
            "_model_name": "FloatProgressModel",
            "_view_count": null,
            "_view_module": "@jupyter-widgets/controls",
            "_view_module_version": "1.5.0",
            "_view_name": "ProgressView",
            "bar_style": "success",
            "description": "",
            "description_tooltip": null,
            "layout": "IPY_MODEL_e94c2f594df54292a3cc66eb0e22b4b0",
            "max": 9312,
            "min": 0,
            "orientation": "horizontal",
            "style": "IPY_MODEL_567ade3b27f547bc81fe7da118da2d57",
            "value": 9312
          }
        },
        "4b5322485642418ea3a5c5f9cc63dc66": {
          "model_module": "@jupyter-widgets/controls",
          "model_name": "HTMLModel",
          "model_module_version": "1.5.0",
          "state": {
            "_dom_classes": [],
            "_model_module": "@jupyter-widgets/controls",
            "_model_module_version": "1.5.0",
            "_model_name": "HTMLModel",
            "_view_count": null,
            "_view_module": "@jupyter-widgets/controls",
            "_view_module_version": "1.5.0",
            "_view_name": "HTMLView",
            "description": "",
            "description_tooltip": null,
            "layout": "IPY_MODEL_eb49078bf7ba45819cdbf94b81cb69b6",
            "placeholder": "​",
            "style": "IPY_MODEL_1a7d739f9a3248c68198a9af9a1428f7",
            "value": " 9312/9312 [37:54&lt;00:00,  2.92it/s]"
          }
        },
        "5065b9fe8d7f4e0da7194bb999748bde": {
          "model_module": "@jupyter-widgets/base",
          "model_name": "LayoutModel",
          "model_module_version": "1.2.0",
          "state": {
            "_model_module": "@jupyter-widgets/base",
            "_model_module_version": "1.2.0",
            "_model_name": "LayoutModel",
            "_view_count": null,
            "_view_module": "@jupyter-widgets/base",
            "_view_module_version": "1.2.0",
            "_view_name": "LayoutView",
            "align_content": null,
            "align_items": null,
            "align_self": null,
            "border": null,
            "bottom": null,
            "display": null,
            "flex": null,
            "flex_flow": null,
            "grid_area": null,
            "grid_auto_columns": null,
            "grid_auto_flow": null,
            "grid_auto_rows": null,
            "grid_column": null,
            "grid_gap": null,
            "grid_row": null,
            "grid_template_areas": null,
            "grid_template_columns": null,
            "grid_template_rows": null,
            "height": null,
            "justify_content": null,
            "justify_items": null,
            "left": null,
            "margin": null,
            "max_height": null,
            "max_width": null,
            "min_height": null,
            "min_width": null,
            "object_fit": null,
            "object_position": null,
            "order": null,
            "overflow": null,
            "overflow_x": null,
            "overflow_y": null,
            "padding": null,
            "right": null,
            "top": null,
            "visibility": null,
            "width": null
          }
        },
        "d14d9b6b0be94b67909918d4e527096e": {
          "model_module": "@jupyter-widgets/base",
          "model_name": "LayoutModel",
          "model_module_version": "1.2.0",
          "state": {
            "_model_module": "@jupyter-widgets/base",
            "_model_module_version": "1.2.0",
            "_model_name": "LayoutModel",
            "_view_count": null,
            "_view_module": "@jupyter-widgets/base",
            "_view_module_version": "1.2.0",
            "_view_name": "LayoutView",
            "align_content": null,
            "align_items": null,
            "align_self": null,
            "border": null,
            "bottom": null,
            "display": null,
            "flex": null,
            "flex_flow": null,
            "grid_area": null,
            "grid_auto_columns": null,
            "grid_auto_flow": null,
            "grid_auto_rows": null,
            "grid_column": null,
            "grid_gap": null,
            "grid_row": null,
            "grid_template_areas": null,
            "grid_template_columns": null,
            "grid_template_rows": null,
            "height": null,
            "justify_content": null,
            "justify_items": null,
            "left": null,
            "margin": null,
            "max_height": null,
            "max_width": null,
            "min_height": null,
            "min_width": null,
            "object_fit": null,
            "object_position": null,
            "order": null,
            "overflow": null,
            "overflow_x": null,
            "overflow_y": null,
            "padding": null,
            "right": null,
            "top": null,
            "visibility": null,
            "width": null
          }
        },
        "5111a46d421f49b4af9b877189244721": {
          "model_module": "@jupyter-widgets/controls",
          "model_name": "DescriptionStyleModel",
          "model_module_version": "1.5.0",
          "state": {
            "_model_module": "@jupyter-widgets/controls",
            "_model_module_version": "1.5.0",
            "_model_name": "DescriptionStyleModel",
            "_view_count": null,
            "_view_module": "@jupyter-widgets/base",
            "_view_module_version": "1.2.0",
            "_view_name": "StyleView",
            "description_width": ""
          }
        },
        "e94c2f594df54292a3cc66eb0e22b4b0": {
          "model_module": "@jupyter-widgets/base",
          "model_name": "LayoutModel",
          "model_module_version": "1.2.0",
          "state": {
            "_model_module": "@jupyter-widgets/base",
            "_model_module_version": "1.2.0",
            "_model_name": "LayoutModel",
            "_view_count": null,
            "_view_module": "@jupyter-widgets/base",
            "_view_module_version": "1.2.0",
            "_view_name": "LayoutView",
            "align_content": null,
            "align_items": null,
            "align_self": null,
            "border": null,
            "bottom": null,
            "display": null,
            "flex": null,
            "flex_flow": null,
            "grid_area": null,
            "grid_auto_columns": null,
            "grid_auto_flow": null,
            "grid_auto_rows": null,
            "grid_column": null,
            "grid_gap": null,
            "grid_row": null,
            "grid_template_areas": null,
            "grid_template_columns": null,
            "grid_template_rows": null,
            "height": null,
            "justify_content": null,
            "justify_items": null,
            "left": null,
            "margin": null,
            "max_height": null,
            "max_width": null,
            "min_height": null,
            "min_width": null,
            "object_fit": null,
            "object_position": null,
            "order": null,
            "overflow": null,
            "overflow_x": null,
            "overflow_y": null,
            "padding": null,
            "right": null,
            "top": null,
            "visibility": null,
            "width": null
          }
        },
        "567ade3b27f547bc81fe7da118da2d57": {
          "model_module": "@jupyter-widgets/controls",
          "model_name": "ProgressStyleModel",
          "model_module_version": "1.5.0",
          "state": {
            "_model_module": "@jupyter-widgets/controls",
            "_model_module_version": "1.5.0",
            "_model_name": "ProgressStyleModel",
            "_view_count": null,
            "_view_module": "@jupyter-widgets/base",
            "_view_module_version": "1.2.0",
            "_view_name": "StyleView",
            "bar_color": null,
            "description_width": ""
          }
        },
        "eb49078bf7ba45819cdbf94b81cb69b6": {
          "model_module": "@jupyter-widgets/base",
          "model_name": "LayoutModel",
          "model_module_version": "1.2.0",
          "state": {
            "_model_module": "@jupyter-widgets/base",
            "_model_module_version": "1.2.0",
            "_model_name": "LayoutModel",
            "_view_count": null,
            "_view_module": "@jupyter-widgets/base",
            "_view_module_version": "1.2.0",
            "_view_name": "LayoutView",
            "align_content": null,
            "align_items": null,
            "align_self": null,
            "border": null,
            "bottom": null,
            "display": null,
            "flex": null,
            "flex_flow": null,
            "grid_area": null,
            "grid_auto_columns": null,
            "grid_auto_flow": null,
            "grid_auto_rows": null,
            "grid_column": null,
            "grid_gap": null,
            "grid_row": null,
            "grid_template_areas": null,
            "grid_template_columns": null,
            "grid_template_rows": null,
            "height": null,
            "justify_content": null,
            "justify_items": null,
            "left": null,
            "margin": null,
            "max_height": null,
            "max_width": null,
            "min_height": null,
            "min_width": null,
            "object_fit": null,
            "object_position": null,
            "order": null,
            "overflow": null,
            "overflow_x": null,
            "overflow_y": null,
            "padding": null,
            "right": null,
            "top": null,
            "visibility": null,
            "width": null
          }
        },
        "1a7d739f9a3248c68198a9af9a1428f7": {
          "model_module": "@jupyter-widgets/controls",
          "model_name": "DescriptionStyleModel",
          "model_module_version": "1.5.0",
          "state": {
            "_model_module": "@jupyter-widgets/controls",
            "_model_module_version": "1.5.0",
            "_model_name": "DescriptionStyleModel",
            "_view_count": null,
            "_view_module": "@jupyter-widgets/base",
            "_view_module_version": "1.2.0",
            "_view_name": "StyleView",
            "description_width": ""
          }
        },
        "e15d79b84efb4623a21cd2a1079415c9": {
          "model_module": "@jupyter-widgets/controls",
          "model_name": "HBoxModel",
          "model_module_version": "1.5.0",
          "state": {
            "_dom_classes": [],
            "_model_module": "@jupyter-widgets/controls",
            "_model_module_version": "1.5.0",
            "_model_name": "HBoxModel",
            "_view_count": null,
            "_view_module": "@jupyter-widgets/controls",
            "_view_module_version": "1.5.0",
            "_view_name": "HBoxView",
            "box_style": "",
            "children": [
              "IPY_MODEL_9e0111468d1847eabac8b4006f374465",
              "IPY_MODEL_03939ccc1081494e9bf0b4e263fc4b8f",
              "IPY_MODEL_05ababec8d794e85a41f299533b61476"
            ],
            "layout": "IPY_MODEL_90b34134e1cf4af681f99aca86bee9ac"
          }
        },
        "9e0111468d1847eabac8b4006f374465": {
          "model_module": "@jupyter-widgets/controls",
          "model_name": "HTMLModel",
          "model_module_version": "1.5.0",
          "state": {
            "_dom_classes": [],
            "_model_module": "@jupyter-widgets/controls",
            "_model_module_version": "1.5.0",
            "_model_name": "HTMLModel",
            "_view_count": null,
            "_view_module": "@jupyter-widgets/controls",
            "_view_module_version": "1.5.0",
            "_view_name": "HTMLView",
            "description": "",
            "description_tooltip": null,
            "layout": "IPY_MODEL_2b13d56a06614d8495284eea055af72e",
            "placeholder": "​",
            "style": "IPY_MODEL_135d042349a24ec7af2862654c230eba",
            "value": "100%"
          }
        },
        "03939ccc1081494e9bf0b4e263fc4b8f": {
          "model_module": "@jupyter-widgets/controls",
          "model_name": "FloatProgressModel",
          "model_module_version": "1.5.0",
          "state": {
            "_dom_classes": [],
            "_model_module": "@jupyter-widgets/controls",
            "_model_module_version": "1.5.0",
            "_model_name": "FloatProgressModel",
            "_view_count": null,
            "_view_module": "@jupyter-widgets/controls",
            "_view_module_version": "1.5.0",
            "_view_name": "ProgressView",
            "bar_style": "success",
            "description": "",
            "description_tooltip": null,
            "layout": "IPY_MODEL_9757ae16bfeb4a7a8aea7969f5b0d1c4",
            "max": 9312,
            "min": 0,
            "orientation": "horizontal",
            "style": "IPY_MODEL_8c9123fb3afc40e18ba869394e50d054",
            "value": 9312
          }
        },
        "05ababec8d794e85a41f299533b61476": {
          "model_module": "@jupyter-widgets/controls",
          "model_name": "HTMLModel",
          "model_module_version": "1.5.0",
          "state": {
            "_dom_classes": [],
            "_model_module": "@jupyter-widgets/controls",
            "_model_module_version": "1.5.0",
            "_model_name": "HTMLModel",
            "_view_count": null,
            "_view_module": "@jupyter-widgets/controls",
            "_view_module_version": "1.5.0",
            "_view_name": "HTMLView",
            "description": "",
            "description_tooltip": null,
            "layout": "IPY_MODEL_cd8c8391cb534c69a54cb46d4d7de173",
            "placeholder": "​",
            "style": "IPY_MODEL_c1c899cc196345859cad7198a8c8b161",
            "value": " 9312/9312 [59:58&lt;00:00,  2.82it/s]"
          }
        },
        "90b34134e1cf4af681f99aca86bee9ac": {
          "model_module": "@jupyter-widgets/base",
          "model_name": "LayoutModel",
          "model_module_version": "1.2.0",
          "state": {
            "_model_module": "@jupyter-widgets/base",
            "_model_module_version": "1.2.0",
            "_model_name": "LayoutModel",
            "_view_count": null,
            "_view_module": "@jupyter-widgets/base",
            "_view_module_version": "1.2.0",
            "_view_name": "LayoutView",
            "align_content": null,
            "align_items": null,
            "align_self": null,
            "border": null,
            "bottom": null,
            "display": null,
            "flex": null,
            "flex_flow": null,
            "grid_area": null,
            "grid_auto_columns": null,
            "grid_auto_flow": null,
            "grid_auto_rows": null,
            "grid_column": null,
            "grid_gap": null,
            "grid_row": null,
            "grid_template_areas": null,
            "grid_template_columns": null,
            "grid_template_rows": null,
            "height": null,
            "justify_content": null,
            "justify_items": null,
            "left": null,
            "margin": null,
            "max_height": null,
            "max_width": null,
            "min_height": null,
            "min_width": null,
            "object_fit": null,
            "object_position": null,
            "order": null,
            "overflow": null,
            "overflow_x": null,
            "overflow_y": null,
            "padding": null,
            "right": null,
            "top": null,
            "visibility": null,
            "width": null
          }
        },
        "2b13d56a06614d8495284eea055af72e": {
          "model_module": "@jupyter-widgets/base",
          "model_name": "LayoutModel",
          "model_module_version": "1.2.0",
          "state": {
            "_model_module": "@jupyter-widgets/base",
            "_model_module_version": "1.2.0",
            "_model_name": "LayoutModel",
            "_view_count": null,
            "_view_module": "@jupyter-widgets/base",
            "_view_module_version": "1.2.0",
            "_view_name": "LayoutView",
            "align_content": null,
            "align_items": null,
            "align_self": null,
            "border": null,
            "bottom": null,
            "display": null,
            "flex": null,
            "flex_flow": null,
            "grid_area": null,
            "grid_auto_columns": null,
            "grid_auto_flow": null,
            "grid_auto_rows": null,
            "grid_column": null,
            "grid_gap": null,
            "grid_row": null,
            "grid_template_areas": null,
            "grid_template_columns": null,
            "grid_template_rows": null,
            "height": null,
            "justify_content": null,
            "justify_items": null,
            "left": null,
            "margin": null,
            "max_height": null,
            "max_width": null,
            "min_height": null,
            "min_width": null,
            "object_fit": null,
            "object_position": null,
            "order": null,
            "overflow": null,
            "overflow_x": null,
            "overflow_y": null,
            "padding": null,
            "right": null,
            "top": null,
            "visibility": null,
            "width": null
          }
        },
        "135d042349a24ec7af2862654c230eba": {
          "model_module": "@jupyter-widgets/controls",
          "model_name": "DescriptionStyleModel",
          "model_module_version": "1.5.0",
          "state": {
            "_model_module": "@jupyter-widgets/controls",
            "_model_module_version": "1.5.0",
            "_model_name": "DescriptionStyleModel",
            "_view_count": null,
            "_view_module": "@jupyter-widgets/base",
            "_view_module_version": "1.2.0",
            "_view_name": "StyleView",
            "description_width": ""
          }
        },
        "9757ae16bfeb4a7a8aea7969f5b0d1c4": {
          "model_module": "@jupyter-widgets/base",
          "model_name": "LayoutModel",
          "model_module_version": "1.2.0",
          "state": {
            "_model_module": "@jupyter-widgets/base",
            "_model_module_version": "1.2.0",
            "_model_name": "LayoutModel",
            "_view_count": null,
            "_view_module": "@jupyter-widgets/base",
            "_view_module_version": "1.2.0",
            "_view_name": "LayoutView",
            "align_content": null,
            "align_items": null,
            "align_self": null,
            "border": null,
            "bottom": null,
            "display": null,
            "flex": null,
            "flex_flow": null,
            "grid_area": null,
            "grid_auto_columns": null,
            "grid_auto_flow": null,
            "grid_auto_rows": null,
            "grid_column": null,
            "grid_gap": null,
            "grid_row": null,
            "grid_template_areas": null,
            "grid_template_columns": null,
            "grid_template_rows": null,
            "height": null,
            "justify_content": null,
            "justify_items": null,
            "left": null,
            "margin": null,
            "max_height": null,
            "max_width": null,
            "min_height": null,
            "min_width": null,
            "object_fit": null,
            "object_position": null,
            "order": null,
            "overflow": null,
            "overflow_x": null,
            "overflow_y": null,
            "padding": null,
            "right": null,
            "top": null,
            "visibility": null,
            "width": null
          }
        },
        "8c9123fb3afc40e18ba869394e50d054": {
          "model_module": "@jupyter-widgets/controls",
          "model_name": "ProgressStyleModel",
          "model_module_version": "1.5.0",
          "state": {
            "_model_module": "@jupyter-widgets/controls",
            "_model_module_version": "1.5.0",
            "_model_name": "ProgressStyleModel",
            "_view_count": null,
            "_view_module": "@jupyter-widgets/base",
            "_view_module_version": "1.2.0",
            "_view_name": "StyleView",
            "bar_color": null,
            "description_width": ""
          }
        },
        "cd8c8391cb534c69a54cb46d4d7de173": {
          "model_module": "@jupyter-widgets/base",
          "model_name": "LayoutModel",
          "model_module_version": "1.2.0",
          "state": {
            "_model_module": "@jupyter-widgets/base",
            "_model_module_version": "1.2.0",
            "_model_name": "LayoutModel",
            "_view_count": null,
            "_view_module": "@jupyter-widgets/base",
            "_view_module_version": "1.2.0",
            "_view_name": "LayoutView",
            "align_content": null,
            "align_items": null,
            "align_self": null,
            "border": null,
            "bottom": null,
            "display": null,
            "flex": null,
            "flex_flow": null,
            "grid_area": null,
            "grid_auto_columns": null,
            "grid_auto_flow": null,
            "grid_auto_rows": null,
            "grid_column": null,
            "grid_gap": null,
            "grid_row": null,
            "grid_template_areas": null,
            "grid_template_columns": null,
            "grid_template_rows": null,
            "height": null,
            "justify_content": null,
            "justify_items": null,
            "left": null,
            "margin": null,
            "max_height": null,
            "max_width": null,
            "min_height": null,
            "min_width": null,
            "object_fit": null,
            "object_position": null,
            "order": null,
            "overflow": null,
            "overflow_x": null,
            "overflow_y": null,
            "padding": null,
            "right": null,
            "top": null,
            "visibility": null,
            "width": null
          }
        },
        "c1c899cc196345859cad7198a8c8b161": {
          "model_module": "@jupyter-widgets/controls",
          "model_name": "DescriptionStyleModel",
          "model_module_version": "1.5.0",
          "state": {
            "_model_module": "@jupyter-widgets/controls",
            "_model_module_version": "1.5.0",
            "_model_name": "DescriptionStyleModel",
            "_view_count": null,
            "_view_module": "@jupyter-widgets/base",
            "_view_module_version": "1.2.0",
            "_view_name": "StyleView",
            "description_width": ""
          }
        },
        "2849de9a61724f6b8a64ddc4ac1d0e52": {
          "model_module": "@jupyter-widgets/controls",
          "model_name": "HBoxModel",
          "model_module_version": "1.5.0",
          "state": {
            "_dom_classes": [],
            "_model_module": "@jupyter-widgets/controls",
            "_model_module_version": "1.5.0",
            "_model_name": "HBoxModel",
            "_view_count": null,
            "_view_module": "@jupyter-widgets/controls",
            "_view_module_version": "1.5.0",
            "_view_name": "HBoxView",
            "box_style": "",
            "children": [
              "IPY_MODEL_6623ec7c5a044e6d90244457f991089d",
              "IPY_MODEL_c272d45659234c1199bf8a9aa6eb1ba5",
              "IPY_MODEL_d85bfb920180478694a290816385fa27"
            ],
            "layout": "IPY_MODEL_db2a6ff4b90f44d28a45fa676c097e12"
          }
        },
        "6623ec7c5a044e6d90244457f991089d": {
          "model_module": "@jupyter-widgets/controls",
          "model_name": "HTMLModel",
          "model_module_version": "1.5.0",
          "state": {
            "_dom_classes": [],
            "_model_module": "@jupyter-widgets/controls",
            "_model_module_version": "1.5.0",
            "_model_name": "HTMLModel",
            "_view_count": null,
            "_view_module": "@jupyter-widgets/controls",
            "_view_module_version": "1.5.0",
            "_view_name": "HTMLView",
            "description": "",
            "description_tooltip": null,
            "layout": "IPY_MODEL_bba5813d78d54104ae8206fa76dd8bf2",
            "placeholder": "​",
            "style": "IPY_MODEL_d933e7ef6ca749ad9a7420d19bd366f5",
            "value": "100%"
          }
        },
        "c272d45659234c1199bf8a9aa6eb1ba5": {
          "model_module": "@jupyter-widgets/controls",
          "model_name": "FloatProgressModel",
          "model_module_version": "1.5.0",
          "state": {
            "_dom_classes": [],
            "_model_module": "@jupyter-widgets/controls",
            "_model_module_version": "1.5.0",
            "_model_name": "FloatProgressModel",
            "_view_count": null,
            "_view_module": "@jupyter-widgets/controls",
            "_view_module_version": "1.5.0",
            "_view_name": "ProgressView",
            "bar_style": "success",
            "description": "",
            "description_tooltip": null,
            "layout": "IPY_MODEL_056d607ba48b4a2799e82998f8cbdacc",
            "max": 9312,
            "min": 0,
            "orientation": "horizontal",
            "style": "IPY_MODEL_1299e8f1e1fe4868b21fd2f232ce5807",
            "value": 9312
          }
        },
        "d85bfb920180478694a290816385fa27": {
          "model_module": "@jupyter-widgets/controls",
          "model_name": "HTMLModel",
          "model_module_version": "1.5.0",
          "state": {
            "_dom_classes": [],
            "_model_module": "@jupyter-widgets/controls",
            "_model_module_version": "1.5.0",
            "_model_name": "HTMLModel",
            "_view_count": null,
            "_view_module": "@jupyter-widgets/controls",
            "_view_module_version": "1.5.0",
            "_view_name": "HTMLView",
            "description": "",
            "description_tooltip": null,
            "layout": "IPY_MODEL_22b16b3ed75441428ae64516504e5850",
            "placeholder": "​",
            "style": "IPY_MODEL_29d6121d01d64eeaa3b0b8cb3b99ce10",
            "value": " 9312/9312 [59:53&lt;00:00,  2.55it/s]"
          }
        },
        "db2a6ff4b90f44d28a45fa676c097e12": {
          "model_module": "@jupyter-widgets/base",
          "model_name": "LayoutModel",
          "model_module_version": "1.2.0",
          "state": {
            "_model_module": "@jupyter-widgets/base",
            "_model_module_version": "1.2.0",
            "_model_name": "LayoutModel",
            "_view_count": null,
            "_view_module": "@jupyter-widgets/base",
            "_view_module_version": "1.2.0",
            "_view_name": "LayoutView",
            "align_content": null,
            "align_items": null,
            "align_self": null,
            "border": null,
            "bottom": null,
            "display": null,
            "flex": null,
            "flex_flow": null,
            "grid_area": null,
            "grid_auto_columns": null,
            "grid_auto_flow": null,
            "grid_auto_rows": null,
            "grid_column": null,
            "grid_gap": null,
            "grid_row": null,
            "grid_template_areas": null,
            "grid_template_columns": null,
            "grid_template_rows": null,
            "height": null,
            "justify_content": null,
            "justify_items": null,
            "left": null,
            "margin": null,
            "max_height": null,
            "max_width": null,
            "min_height": null,
            "min_width": null,
            "object_fit": null,
            "object_position": null,
            "order": null,
            "overflow": null,
            "overflow_x": null,
            "overflow_y": null,
            "padding": null,
            "right": null,
            "top": null,
            "visibility": null,
            "width": null
          }
        },
        "bba5813d78d54104ae8206fa76dd8bf2": {
          "model_module": "@jupyter-widgets/base",
          "model_name": "LayoutModel",
          "model_module_version": "1.2.0",
          "state": {
            "_model_module": "@jupyter-widgets/base",
            "_model_module_version": "1.2.0",
            "_model_name": "LayoutModel",
            "_view_count": null,
            "_view_module": "@jupyter-widgets/base",
            "_view_module_version": "1.2.0",
            "_view_name": "LayoutView",
            "align_content": null,
            "align_items": null,
            "align_self": null,
            "border": null,
            "bottom": null,
            "display": null,
            "flex": null,
            "flex_flow": null,
            "grid_area": null,
            "grid_auto_columns": null,
            "grid_auto_flow": null,
            "grid_auto_rows": null,
            "grid_column": null,
            "grid_gap": null,
            "grid_row": null,
            "grid_template_areas": null,
            "grid_template_columns": null,
            "grid_template_rows": null,
            "height": null,
            "justify_content": null,
            "justify_items": null,
            "left": null,
            "margin": null,
            "max_height": null,
            "max_width": null,
            "min_height": null,
            "min_width": null,
            "object_fit": null,
            "object_position": null,
            "order": null,
            "overflow": null,
            "overflow_x": null,
            "overflow_y": null,
            "padding": null,
            "right": null,
            "top": null,
            "visibility": null,
            "width": null
          }
        },
        "d933e7ef6ca749ad9a7420d19bd366f5": {
          "model_module": "@jupyter-widgets/controls",
          "model_name": "DescriptionStyleModel",
          "model_module_version": "1.5.0",
          "state": {
            "_model_module": "@jupyter-widgets/controls",
            "_model_module_version": "1.5.0",
            "_model_name": "DescriptionStyleModel",
            "_view_count": null,
            "_view_module": "@jupyter-widgets/base",
            "_view_module_version": "1.2.0",
            "_view_name": "StyleView",
            "description_width": ""
          }
        },
        "056d607ba48b4a2799e82998f8cbdacc": {
          "model_module": "@jupyter-widgets/base",
          "model_name": "LayoutModel",
          "model_module_version": "1.2.0",
          "state": {
            "_model_module": "@jupyter-widgets/base",
            "_model_module_version": "1.2.0",
            "_model_name": "LayoutModel",
            "_view_count": null,
            "_view_module": "@jupyter-widgets/base",
            "_view_module_version": "1.2.0",
            "_view_name": "LayoutView",
            "align_content": null,
            "align_items": null,
            "align_self": null,
            "border": null,
            "bottom": null,
            "display": null,
            "flex": null,
            "flex_flow": null,
            "grid_area": null,
            "grid_auto_columns": null,
            "grid_auto_flow": null,
            "grid_auto_rows": null,
            "grid_column": null,
            "grid_gap": null,
            "grid_row": null,
            "grid_template_areas": null,
            "grid_template_columns": null,
            "grid_template_rows": null,
            "height": null,
            "justify_content": null,
            "justify_items": null,
            "left": null,
            "margin": null,
            "max_height": null,
            "max_width": null,
            "min_height": null,
            "min_width": null,
            "object_fit": null,
            "object_position": null,
            "order": null,
            "overflow": null,
            "overflow_x": null,
            "overflow_y": null,
            "padding": null,
            "right": null,
            "top": null,
            "visibility": null,
            "width": null
          }
        },
        "1299e8f1e1fe4868b21fd2f232ce5807": {
          "model_module": "@jupyter-widgets/controls",
          "model_name": "ProgressStyleModel",
          "model_module_version": "1.5.0",
          "state": {
            "_model_module": "@jupyter-widgets/controls",
            "_model_module_version": "1.5.0",
            "_model_name": "ProgressStyleModel",
            "_view_count": null,
            "_view_module": "@jupyter-widgets/base",
            "_view_module_version": "1.2.0",
            "_view_name": "StyleView",
            "bar_color": null,
            "description_width": ""
          }
        },
        "22b16b3ed75441428ae64516504e5850": {
          "model_module": "@jupyter-widgets/base",
          "model_name": "LayoutModel",
          "model_module_version": "1.2.0",
          "state": {
            "_model_module": "@jupyter-widgets/base",
            "_model_module_version": "1.2.0",
            "_model_name": "LayoutModel",
            "_view_count": null,
            "_view_module": "@jupyter-widgets/base",
            "_view_module_version": "1.2.0",
            "_view_name": "LayoutView",
            "align_content": null,
            "align_items": null,
            "align_self": null,
            "border": null,
            "bottom": null,
            "display": null,
            "flex": null,
            "flex_flow": null,
            "grid_area": null,
            "grid_auto_columns": null,
            "grid_auto_flow": null,
            "grid_auto_rows": null,
            "grid_column": null,
            "grid_gap": null,
            "grid_row": null,
            "grid_template_areas": null,
            "grid_template_columns": null,
            "grid_template_rows": null,
            "height": null,
            "justify_content": null,
            "justify_items": null,
            "left": null,
            "margin": null,
            "max_height": null,
            "max_width": null,
            "min_height": null,
            "min_width": null,
            "object_fit": null,
            "object_position": null,
            "order": null,
            "overflow": null,
            "overflow_x": null,
            "overflow_y": null,
            "padding": null,
            "right": null,
            "top": null,
            "visibility": null,
            "width": null
          }
        },
        "29d6121d01d64eeaa3b0b8cb3b99ce10": {
          "model_module": "@jupyter-widgets/controls",
          "model_name": "DescriptionStyleModel",
          "model_module_version": "1.5.0",
          "state": {
            "_model_module": "@jupyter-widgets/controls",
            "_model_module_version": "1.5.0",
            "_model_name": "DescriptionStyleModel",
            "_view_count": null,
            "_view_module": "@jupyter-widgets/base",
            "_view_module_version": "1.2.0",
            "_view_name": "StyleView",
            "description_width": ""
          }
        },
        "00c0a3fe99434c4a90bf083f1aada851": {
          "model_module": "@jupyter-widgets/controls",
          "model_name": "HBoxModel",
          "model_module_version": "1.5.0",
          "state": {
            "_dom_classes": [],
            "_model_module": "@jupyter-widgets/controls",
            "_model_module_version": "1.5.0",
            "_model_name": "HBoxModel",
            "_view_count": null,
            "_view_module": "@jupyter-widgets/controls",
            "_view_module_version": "1.5.0",
            "_view_name": "HBoxView",
            "box_style": "",
            "children": [
              "IPY_MODEL_c9feda53e7734815987e4698947b24b9",
              "IPY_MODEL_6d1857d9a812456c95408f7f4c8785c6",
              "IPY_MODEL_e0aac9c415414fe5be27d3c758de5246"
            ],
            "layout": "IPY_MODEL_4c5875b0cebb4cb9a9c7d09e0cbfe0d9"
          }
        },
        "c9feda53e7734815987e4698947b24b9": {
          "model_module": "@jupyter-widgets/controls",
          "model_name": "HTMLModel",
          "model_module_version": "1.5.0",
          "state": {
            "_dom_classes": [],
            "_model_module": "@jupyter-widgets/controls",
            "_model_module_version": "1.5.0",
            "_model_name": "HTMLModel",
            "_view_count": null,
            "_view_module": "@jupyter-widgets/controls",
            "_view_module_version": "1.5.0",
            "_view_name": "HTMLView",
            "description": "",
            "description_tooltip": null,
            "layout": "IPY_MODEL_44f494d6885d48ca8625f9279bb7ec96",
            "placeholder": "​",
            "style": "IPY_MODEL_115f6dbdac8745a3b3eab039f472f97c",
            "value": "100%"
          }
        },
        "6d1857d9a812456c95408f7f4c8785c6": {
          "model_module": "@jupyter-widgets/controls",
          "model_name": "FloatProgressModel",
          "model_module_version": "1.5.0",
          "state": {
            "_dom_classes": [],
            "_model_module": "@jupyter-widgets/controls",
            "_model_module_version": "1.5.0",
            "_model_name": "FloatProgressModel",
            "_view_count": null,
            "_view_module": "@jupyter-widgets/controls",
            "_view_module_version": "1.5.0",
            "_view_name": "ProgressView",
            "bar_style": "success",
            "description": "",
            "description_tooltip": null,
            "layout": "IPY_MODEL_69ebc234f41c4d9ca44f1d01726092d1",
            "max": 9312,
            "min": 0,
            "orientation": "horizontal",
            "style": "IPY_MODEL_1c3e57478ac04706bb5619040649c791",
            "value": 9312
          }
        },
        "e0aac9c415414fe5be27d3c758de5246": {
          "model_module": "@jupyter-widgets/controls",
          "model_name": "HTMLModel",
          "model_module_version": "1.5.0",
          "state": {
            "_dom_classes": [],
            "_model_module": "@jupyter-widgets/controls",
            "_model_module_version": "1.5.0",
            "_model_name": "HTMLModel",
            "_view_count": null,
            "_view_module": "@jupyter-widgets/controls",
            "_view_module_version": "1.5.0",
            "_view_name": "HTMLView",
            "description": "",
            "description_tooltip": null,
            "layout": "IPY_MODEL_5e6664bb90c944ae951868871be6f5e1",
            "placeholder": "​",
            "style": "IPY_MODEL_5b279bcc52944ec69cfb6ae25c1984b1",
            "value": " 9312/9312 [59:52&lt;00:00,  2.55it/s]"
          }
        },
        "4c5875b0cebb4cb9a9c7d09e0cbfe0d9": {
          "model_module": "@jupyter-widgets/base",
          "model_name": "LayoutModel",
          "model_module_version": "1.2.0",
          "state": {
            "_model_module": "@jupyter-widgets/base",
            "_model_module_version": "1.2.0",
            "_model_name": "LayoutModel",
            "_view_count": null,
            "_view_module": "@jupyter-widgets/base",
            "_view_module_version": "1.2.0",
            "_view_name": "LayoutView",
            "align_content": null,
            "align_items": null,
            "align_self": null,
            "border": null,
            "bottom": null,
            "display": null,
            "flex": null,
            "flex_flow": null,
            "grid_area": null,
            "grid_auto_columns": null,
            "grid_auto_flow": null,
            "grid_auto_rows": null,
            "grid_column": null,
            "grid_gap": null,
            "grid_row": null,
            "grid_template_areas": null,
            "grid_template_columns": null,
            "grid_template_rows": null,
            "height": null,
            "justify_content": null,
            "justify_items": null,
            "left": null,
            "margin": null,
            "max_height": null,
            "max_width": null,
            "min_height": null,
            "min_width": null,
            "object_fit": null,
            "object_position": null,
            "order": null,
            "overflow": null,
            "overflow_x": null,
            "overflow_y": null,
            "padding": null,
            "right": null,
            "top": null,
            "visibility": null,
            "width": null
          }
        },
        "44f494d6885d48ca8625f9279bb7ec96": {
          "model_module": "@jupyter-widgets/base",
          "model_name": "LayoutModel",
          "model_module_version": "1.2.0",
          "state": {
            "_model_module": "@jupyter-widgets/base",
            "_model_module_version": "1.2.0",
            "_model_name": "LayoutModel",
            "_view_count": null,
            "_view_module": "@jupyter-widgets/base",
            "_view_module_version": "1.2.0",
            "_view_name": "LayoutView",
            "align_content": null,
            "align_items": null,
            "align_self": null,
            "border": null,
            "bottom": null,
            "display": null,
            "flex": null,
            "flex_flow": null,
            "grid_area": null,
            "grid_auto_columns": null,
            "grid_auto_flow": null,
            "grid_auto_rows": null,
            "grid_column": null,
            "grid_gap": null,
            "grid_row": null,
            "grid_template_areas": null,
            "grid_template_columns": null,
            "grid_template_rows": null,
            "height": null,
            "justify_content": null,
            "justify_items": null,
            "left": null,
            "margin": null,
            "max_height": null,
            "max_width": null,
            "min_height": null,
            "min_width": null,
            "object_fit": null,
            "object_position": null,
            "order": null,
            "overflow": null,
            "overflow_x": null,
            "overflow_y": null,
            "padding": null,
            "right": null,
            "top": null,
            "visibility": null,
            "width": null
          }
        },
        "115f6dbdac8745a3b3eab039f472f97c": {
          "model_module": "@jupyter-widgets/controls",
          "model_name": "DescriptionStyleModel",
          "model_module_version": "1.5.0",
          "state": {
            "_model_module": "@jupyter-widgets/controls",
            "_model_module_version": "1.5.0",
            "_model_name": "DescriptionStyleModel",
            "_view_count": null,
            "_view_module": "@jupyter-widgets/base",
            "_view_module_version": "1.2.0",
            "_view_name": "StyleView",
            "description_width": ""
          }
        },
        "69ebc234f41c4d9ca44f1d01726092d1": {
          "model_module": "@jupyter-widgets/base",
          "model_name": "LayoutModel",
          "model_module_version": "1.2.0",
          "state": {
            "_model_module": "@jupyter-widgets/base",
            "_model_module_version": "1.2.0",
            "_model_name": "LayoutModel",
            "_view_count": null,
            "_view_module": "@jupyter-widgets/base",
            "_view_module_version": "1.2.0",
            "_view_name": "LayoutView",
            "align_content": null,
            "align_items": null,
            "align_self": null,
            "border": null,
            "bottom": null,
            "display": null,
            "flex": null,
            "flex_flow": null,
            "grid_area": null,
            "grid_auto_columns": null,
            "grid_auto_flow": null,
            "grid_auto_rows": null,
            "grid_column": null,
            "grid_gap": null,
            "grid_row": null,
            "grid_template_areas": null,
            "grid_template_columns": null,
            "grid_template_rows": null,
            "height": null,
            "justify_content": null,
            "justify_items": null,
            "left": null,
            "margin": null,
            "max_height": null,
            "max_width": null,
            "min_height": null,
            "min_width": null,
            "object_fit": null,
            "object_position": null,
            "order": null,
            "overflow": null,
            "overflow_x": null,
            "overflow_y": null,
            "padding": null,
            "right": null,
            "top": null,
            "visibility": null,
            "width": null
          }
        },
        "1c3e57478ac04706bb5619040649c791": {
          "model_module": "@jupyter-widgets/controls",
          "model_name": "ProgressStyleModel",
          "model_module_version": "1.5.0",
          "state": {
            "_model_module": "@jupyter-widgets/controls",
            "_model_module_version": "1.5.0",
            "_model_name": "ProgressStyleModel",
            "_view_count": null,
            "_view_module": "@jupyter-widgets/base",
            "_view_module_version": "1.2.0",
            "_view_name": "StyleView",
            "bar_color": null,
            "description_width": ""
          }
        },
        "5e6664bb90c944ae951868871be6f5e1": {
          "model_module": "@jupyter-widgets/base",
          "model_name": "LayoutModel",
          "model_module_version": "1.2.0",
          "state": {
            "_model_module": "@jupyter-widgets/base",
            "_model_module_version": "1.2.0",
            "_model_name": "LayoutModel",
            "_view_count": null,
            "_view_module": "@jupyter-widgets/base",
            "_view_module_version": "1.2.0",
            "_view_name": "LayoutView",
            "align_content": null,
            "align_items": null,
            "align_self": null,
            "border": null,
            "bottom": null,
            "display": null,
            "flex": null,
            "flex_flow": null,
            "grid_area": null,
            "grid_auto_columns": null,
            "grid_auto_flow": null,
            "grid_auto_rows": null,
            "grid_column": null,
            "grid_gap": null,
            "grid_row": null,
            "grid_template_areas": null,
            "grid_template_columns": null,
            "grid_template_rows": null,
            "height": null,
            "justify_content": null,
            "justify_items": null,
            "left": null,
            "margin": null,
            "max_height": null,
            "max_width": null,
            "min_height": null,
            "min_width": null,
            "object_fit": null,
            "object_position": null,
            "order": null,
            "overflow": null,
            "overflow_x": null,
            "overflow_y": null,
            "padding": null,
            "right": null,
            "top": null,
            "visibility": null,
            "width": null
          }
        },
        "5b279bcc52944ec69cfb6ae25c1984b1": {
          "model_module": "@jupyter-widgets/controls",
          "model_name": "DescriptionStyleModel",
          "model_module_version": "1.5.0",
          "state": {
            "_model_module": "@jupyter-widgets/controls",
            "_model_module_version": "1.5.0",
            "_model_name": "DescriptionStyleModel",
            "_view_count": null,
            "_view_module": "@jupyter-widgets/base",
            "_view_module_version": "1.2.0",
            "_view_name": "StyleView",
            "description_width": ""
          }
        },
        "5e0243f9d93b4f54803dc5ac6762fe8f": {
          "model_module": "@jupyter-widgets/controls",
          "model_name": "HBoxModel",
          "model_module_version": "1.5.0",
          "state": {
            "_dom_classes": [],
            "_model_module": "@jupyter-widgets/controls",
            "_model_module_version": "1.5.0",
            "_model_name": "HBoxModel",
            "_view_count": null,
            "_view_module": "@jupyter-widgets/controls",
            "_view_module_version": "1.5.0",
            "_view_name": "HBoxView",
            "box_style": "",
            "children": [
              "IPY_MODEL_a6467bbb3c5d4365afa6efd32e147a4a",
              "IPY_MODEL_a0d944a1f6fa4d4d8c9b1e5a6c1253d0",
              "IPY_MODEL_70508859526a4cecb8c16c72f84d51aa"
            ],
            "layout": "IPY_MODEL_698c888124534ea8b87846473821f59d"
          }
        },
        "a6467bbb3c5d4365afa6efd32e147a4a": {
          "model_module": "@jupyter-widgets/controls",
          "model_name": "HTMLModel",
          "model_module_version": "1.5.0",
          "state": {
            "_dom_classes": [],
            "_model_module": "@jupyter-widgets/controls",
            "_model_module_version": "1.5.0",
            "_model_name": "HTMLModel",
            "_view_count": null,
            "_view_module": "@jupyter-widgets/controls",
            "_view_module_version": "1.5.0",
            "_view_name": "HTMLView",
            "description": "",
            "description_tooltip": null,
            "layout": "IPY_MODEL_ba3323947e194b3787573596d64faa38",
            "placeholder": "​",
            "style": "IPY_MODEL_0222a1adf2794cf6b57ca4e504005f9f",
            "value": "100%"
          }
        },
        "a0d944a1f6fa4d4d8c9b1e5a6c1253d0": {
          "model_module": "@jupyter-widgets/controls",
          "model_name": "FloatProgressModel",
          "model_module_version": "1.5.0",
          "state": {
            "_dom_classes": [],
            "_model_module": "@jupyter-widgets/controls",
            "_model_module_version": "1.5.0",
            "_model_name": "FloatProgressModel",
            "_view_count": null,
            "_view_module": "@jupyter-widgets/controls",
            "_view_module_version": "1.5.0",
            "_view_name": "ProgressView",
            "bar_style": "success",
            "description": "",
            "description_tooltip": null,
            "layout": "IPY_MODEL_817ef58bfa36476eb504a71fda5953f3",
            "max": 400,
            "min": 0,
            "orientation": "horizontal",
            "style": "IPY_MODEL_c4e63105f18340cdbf7c87eb96697d0a",
            "value": 400
          }
        },
        "70508859526a4cecb8c16c72f84d51aa": {
          "model_module": "@jupyter-widgets/controls",
          "model_name": "HTMLModel",
          "model_module_version": "1.5.0",
          "state": {
            "_dom_classes": [],
            "_model_module": "@jupyter-widgets/controls",
            "_model_module_version": "1.5.0",
            "_model_name": "HTMLModel",
            "_view_count": null,
            "_view_module": "@jupyter-widgets/controls",
            "_view_module_version": "1.5.0",
            "_view_name": "HTMLView",
            "description": "",
            "description_tooltip": null,
            "layout": "IPY_MODEL_50dbf407100e42e6914ea61048129291",
            "placeholder": "​",
            "style": "IPY_MODEL_61550d5b7e1949d2b69b3153dd20c21d",
            "value": " 400/400 [03:25&lt;00:00,  2.11it/s]"
          }
        },
        "698c888124534ea8b87846473821f59d": {
          "model_module": "@jupyter-widgets/base",
          "model_name": "LayoutModel",
          "model_module_version": "1.2.0",
          "state": {
            "_model_module": "@jupyter-widgets/base",
            "_model_module_version": "1.2.0",
            "_model_name": "LayoutModel",
            "_view_count": null,
            "_view_module": "@jupyter-widgets/base",
            "_view_module_version": "1.2.0",
            "_view_name": "LayoutView",
            "align_content": null,
            "align_items": null,
            "align_self": null,
            "border": null,
            "bottom": null,
            "display": null,
            "flex": null,
            "flex_flow": null,
            "grid_area": null,
            "grid_auto_columns": null,
            "grid_auto_flow": null,
            "grid_auto_rows": null,
            "grid_column": null,
            "grid_gap": null,
            "grid_row": null,
            "grid_template_areas": null,
            "grid_template_columns": null,
            "grid_template_rows": null,
            "height": null,
            "justify_content": null,
            "justify_items": null,
            "left": null,
            "margin": null,
            "max_height": null,
            "max_width": null,
            "min_height": null,
            "min_width": null,
            "object_fit": null,
            "object_position": null,
            "order": null,
            "overflow": null,
            "overflow_x": null,
            "overflow_y": null,
            "padding": null,
            "right": null,
            "top": null,
            "visibility": null,
            "width": null
          }
        },
        "ba3323947e194b3787573596d64faa38": {
          "model_module": "@jupyter-widgets/base",
          "model_name": "LayoutModel",
          "model_module_version": "1.2.0",
          "state": {
            "_model_module": "@jupyter-widgets/base",
            "_model_module_version": "1.2.0",
            "_model_name": "LayoutModel",
            "_view_count": null,
            "_view_module": "@jupyter-widgets/base",
            "_view_module_version": "1.2.0",
            "_view_name": "LayoutView",
            "align_content": null,
            "align_items": null,
            "align_self": null,
            "border": null,
            "bottom": null,
            "display": null,
            "flex": null,
            "flex_flow": null,
            "grid_area": null,
            "grid_auto_columns": null,
            "grid_auto_flow": null,
            "grid_auto_rows": null,
            "grid_column": null,
            "grid_gap": null,
            "grid_row": null,
            "grid_template_areas": null,
            "grid_template_columns": null,
            "grid_template_rows": null,
            "height": null,
            "justify_content": null,
            "justify_items": null,
            "left": null,
            "margin": null,
            "max_height": null,
            "max_width": null,
            "min_height": null,
            "min_width": null,
            "object_fit": null,
            "object_position": null,
            "order": null,
            "overflow": null,
            "overflow_x": null,
            "overflow_y": null,
            "padding": null,
            "right": null,
            "top": null,
            "visibility": null,
            "width": null
          }
        },
        "0222a1adf2794cf6b57ca4e504005f9f": {
          "model_module": "@jupyter-widgets/controls",
          "model_name": "DescriptionStyleModel",
          "model_module_version": "1.5.0",
          "state": {
            "_model_module": "@jupyter-widgets/controls",
            "_model_module_version": "1.5.0",
            "_model_name": "DescriptionStyleModel",
            "_view_count": null,
            "_view_module": "@jupyter-widgets/base",
            "_view_module_version": "1.2.0",
            "_view_name": "StyleView",
            "description_width": ""
          }
        },
        "817ef58bfa36476eb504a71fda5953f3": {
          "model_module": "@jupyter-widgets/base",
          "model_name": "LayoutModel",
          "model_module_version": "1.2.0",
          "state": {
            "_model_module": "@jupyter-widgets/base",
            "_model_module_version": "1.2.0",
            "_model_name": "LayoutModel",
            "_view_count": null,
            "_view_module": "@jupyter-widgets/base",
            "_view_module_version": "1.2.0",
            "_view_name": "LayoutView",
            "align_content": null,
            "align_items": null,
            "align_self": null,
            "border": null,
            "bottom": null,
            "display": null,
            "flex": null,
            "flex_flow": null,
            "grid_area": null,
            "grid_auto_columns": null,
            "grid_auto_flow": null,
            "grid_auto_rows": null,
            "grid_column": null,
            "grid_gap": null,
            "grid_row": null,
            "grid_template_areas": null,
            "grid_template_columns": null,
            "grid_template_rows": null,
            "height": null,
            "justify_content": null,
            "justify_items": null,
            "left": null,
            "margin": null,
            "max_height": null,
            "max_width": null,
            "min_height": null,
            "min_width": null,
            "object_fit": null,
            "object_position": null,
            "order": null,
            "overflow": null,
            "overflow_x": null,
            "overflow_y": null,
            "padding": null,
            "right": null,
            "top": null,
            "visibility": null,
            "width": null
          }
        },
        "c4e63105f18340cdbf7c87eb96697d0a": {
          "model_module": "@jupyter-widgets/controls",
          "model_name": "ProgressStyleModel",
          "model_module_version": "1.5.0",
          "state": {
            "_model_module": "@jupyter-widgets/controls",
            "_model_module_version": "1.5.0",
            "_model_name": "ProgressStyleModel",
            "_view_count": null,
            "_view_module": "@jupyter-widgets/base",
            "_view_module_version": "1.2.0",
            "_view_name": "StyleView",
            "bar_color": null,
            "description_width": ""
          }
        },
        "50dbf407100e42e6914ea61048129291": {
          "model_module": "@jupyter-widgets/base",
          "model_name": "LayoutModel",
          "model_module_version": "1.2.0",
          "state": {
            "_model_module": "@jupyter-widgets/base",
            "_model_module_version": "1.2.0",
            "_model_name": "LayoutModel",
            "_view_count": null,
            "_view_module": "@jupyter-widgets/base",
            "_view_module_version": "1.2.0",
            "_view_name": "LayoutView",
            "align_content": null,
            "align_items": null,
            "align_self": null,
            "border": null,
            "bottom": null,
            "display": null,
            "flex": null,
            "flex_flow": null,
            "grid_area": null,
            "grid_auto_columns": null,
            "grid_auto_flow": null,
            "grid_auto_rows": null,
            "grid_column": null,
            "grid_gap": null,
            "grid_row": null,
            "grid_template_areas": null,
            "grid_template_columns": null,
            "grid_template_rows": null,
            "height": null,
            "justify_content": null,
            "justify_items": null,
            "left": null,
            "margin": null,
            "max_height": null,
            "max_width": null,
            "min_height": null,
            "min_width": null,
            "object_fit": null,
            "object_position": null,
            "order": null,
            "overflow": null,
            "overflow_x": null,
            "overflow_y": null,
            "padding": null,
            "right": null,
            "top": null,
            "visibility": null,
            "width": null
          }
        },
        "61550d5b7e1949d2b69b3153dd20c21d": {
          "model_module": "@jupyter-widgets/controls",
          "model_name": "DescriptionStyleModel",
          "model_module_version": "1.5.0",
          "state": {
            "_model_module": "@jupyter-widgets/controls",
            "_model_module_version": "1.5.0",
            "_model_name": "DescriptionStyleModel",
            "_view_count": null,
            "_view_module": "@jupyter-widgets/base",
            "_view_module_version": "1.2.0",
            "_view_name": "StyleView",
            "description_width": ""
          }
        },
        "9e06bed330ab430eb999fd9b4dcdde4f": {
          "model_module": "@jupyter-widgets/controls",
          "model_name": "HBoxModel",
          "model_module_version": "1.5.0",
          "state": {
            "_dom_classes": [],
            "_model_module": "@jupyter-widgets/controls",
            "_model_module_version": "1.5.0",
            "_model_name": "HBoxModel",
            "_view_count": null,
            "_view_module": "@jupyter-widgets/controls",
            "_view_module_version": "1.5.0",
            "_view_name": "HBoxView",
            "box_style": "",
            "children": [
              "IPY_MODEL_7c8068fed3254b6cb0b872c5216837bf",
              "IPY_MODEL_1359ec7431f34e8b863474a60112a2ac",
              "IPY_MODEL_df6c0c0e606746cf8ab7ab8b68609b78"
            ],
            "layout": "IPY_MODEL_a0898a1387484c1aac0901cf1520a144"
          }
        },
        "7c8068fed3254b6cb0b872c5216837bf": {
          "model_module": "@jupyter-widgets/controls",
          "model_name": "HTMLModel",
          "model_module_version": "1.5.0",
          "state": {
            "_dom_classes": [],
            "_model_module": "@jupyter-widgets/controls",
            "_model_module_version": "1.5.0",
            "_model_name": "HTMLModel",
            "_view_count": null,
            "_view_module": "@jupyter-widgets/controls",
            "_view_module_version": "1.5.0",
            "_view_name": "HTMLView",
            "description": "",
            "description_tooltip": null,
            "layout": "IPY_MODEL_3ba50ea08bb64e84a6ea79d78c47c668",
            "placeholder": "​",
            "style": "IPY_MODEL_d654b557da03495d9de5dab42416e4de",
            "value": "100%"
          }
        },
        "1359ec7431f34e8b863474a60112a2ac": {
          "model_module": "@jupyter-widgets/controls",
          "model_name": "FloatProgressModel",
          "model_module_version": "1.5.0",
          "state": {
            "_dom_classes": [],
            "_model_module": "@jupyter-widgets/controls",
            "_model_module_version": "1.5.0",
            "_model_name": "FloatProgressModel",
            "_view_count": null,
            "_view_module": "@jupyter-widgets/controls",
            "_view_module_version": "1.5.0",
            "_view_name": "ProgressView",
            "bar_style": "success",
            "description": "",
            "description_tooltip": null,
            "layout": "IPY_MODEL_c93e8d474d804163978098efffc132d1",
            "max": 100,
            "min": 0,
            "orientation": "horizontal",
            "style": "IPY_MODEL_a97b8201d41e437790b90e117576391a",
            "value": 100
          }
        },
        "df6c0c0e606746cf8ab7ab8b68609b78": {
          "model_module": "@jupyter-widgets/controls",
          "model_name": "HTMLModel",
          "model_module_version": "1.5.0",
          "state": {
            "_dom_classes": [],
            "_model_module": "@jupyter-widgets/controls",
            "_model_module_version": "1.5.0",
            "_model_name": "HTMLModel",
            "_view_count": null,
            "_view_module": "@jupyter-widgets/controls",
            "_view_module_version": "1.5.0",
            "_view_name": "HTMLView",
            "description": "",
            "description_tooltip": null,
            "layout": "IPY_MODEL_0d1cbbbd34164a2d811eb49de2aa363e",
            "placeholder": "​",
            "style": "IPY_MODEL_fbe375f545b54307bdd8a6e590ec9728",
            "value": " 100/100 [00:48&lt;00:00,  1.75it/s]"
          }
        },
        "a0898a1387484c1aac0901cf1520a144": {
          "model_module": "@jupyter-widgets/base",
          "model_name": "LayoutModel",
          "model_module_version": "1.2.0",
          "state": {
            "_model_module": "@jupyter-widgets/base",
            "_model_module_version": "1.2.0",
            "_model_name": "LayoutModel",
            "_view_count": null,
            "_view_module": "@jupyter-widgets/base",
            "_view_module_version": "1.2.0",
            "_view_name": "LayoutView",
            "align_content": null,
            "align_items": null,
            "align_self": null,
            "border": null,
            "bottom": null,
            "display": null,
            "flex": null,
            "flex_flow": null,
            "grid_area": null,
            "grid_auto_columns": null,
            "grid_auto_flow": null,
            "grid_auto_rows": null,
            "grid_column": null,
            "grid_gap": null,
            "grid_row": null,
            "grid_template_areas": null,
            "grid_template_columns": null,
            "grid_template_rows": null,
            "height": null,
            "justify_content": null,
            "justify_items": null,
            "left": null,
            "margin": null,
            "max_height": null,
            "max_width": null,
            "min_height": null,
            "min_width": null,
            "object_fit": null,
            "object_position": null,
            "order": null,
            "overflow": null,
            "overflow_x": null,
            "overflow_y": null,
            "padding": null,
            "right": null,
            "top": null,
            "visibility": null,
            "width": null
          }
        },
        "3ba50ea08bb64e84a6ea79d78c47c668": {
          "model_module": "@jupyter-widgets/base",
          "model_name": "LayoutModel",
          "model_module_version": "1.2.0",
          "state": {
            "_model_module": "@jupyter-widgets/base",
            "_model_module_version": "1.2.0",
            "_model_name": "LayoutModel",
            "_view_count": null,
            "_view_module": "@jupyter-widgets/base",
            "_view_module_version": "1.2.0",
            "_view_name": "LayoutView",
            "align_content": null,
            "align_items": null,
            "align_self": null,
            "border": null,
            "bottom": null,
            "display": null,
            "flex": null,
            "flex_flow": null,
            "grid_area": null,
            "grid_auto_columns": null,
            "grid_auto_flow": null,
            "grid_auto_rows": null,
            "grid_column": null,
            "grid_gap": null,
            "grid_row": null,
            "grid_template_areas": null,
            "grid_template_columns": null,
            "grid_template_rows": null,
            "height": null,
            "justify_content": null,
            "justify_items": null,
            "left": null,
            "margin": null,
            "max_height": null,
            "max_width": null,
            "min_height": null,
            "min_width": null,
            "object_fit": null,
            "object_position": null,
            "order": null,
            "overflow": null,
            "overflow_x": null,
            "overflow_y": null,
            "padding": null,
            "right": null,
            "top": null,
            "visibility": null,
            "width": null
          }
        },
        "d654b557da03495d9de5dab42416e4de": {
          "model_module": "@jupyter-widgets/controls",
          "model_name": "DescriptionStyleModel",
          "model_module_version": "1.5.0",
          "state": {
            "_model_module": "@jupyter-widgets/controls",
            "_model_module_version": "1.5.0",
            "_model_name": "DescriptionStyleModel",
            "_view_count": null,
            "_view_module": "@jupyter-widgets/base",
            "_view_module_version": "1.2.0",
            "_view_name": "StyleView",
            "description_width": ""
          }
        },
        "c93e8d474d804163978098efffc132d1": {
          "model_module": "@jupyter-widgets/base",
          "model_name": "LayoutModel",
          "model_module_version": "1.2.0",
          "state": {
            "_model_module": "@jupyter-widgets/base",
            "_model_module_version": "1.2.0",
            "_model_name": "LayoutModel",
            "_view_count": null,
            "_view_module": "@jupyter-widgets/base",
            "_view_module_version": "1.2.0",
            "_view_name": "LayoutView",
            "align_content": null,
            "align_items": null,
            "align_self": null,
            "border": null,
            "bottom": null,
            "display": null,
            "flex": null,
            "flex_flow": null,
            "grid_area": null,
            "grid_auto_columns": null,
            "grid_auto_flow": null,
            "grid_auto_rows": null,
            "grid_column": null,
            "grid_gap": null,
            "grid_row": null,
            "grid_template_areas": null,
            "grid_template_columns": null,
            "grid_template_rows": null,
            "height": null,
            "justify_content": null,
            "justify_items": null,
            "left": null,
            "margin": null,
            "max_height": null,
            "max_width": null,
            "min_height": null,
            "min_width": null,
            "object_fit": null,
            "object_position": null,
            "order": null,
            "overflow": null,
            "overflow_x": null,
            "overflow_y": null,
            "padding": null,
            "right": null,
            "top": null,
            "visibility": null,
            "width": null
          }
        },
        "a97b8201d41e437790b90e117576391a": {
          "model_module": "@jupyter-widgets/controls",
          "model_name": "ProgressStyleModel",
          "model_module_version": "1.5.0",
          "state": {
            "_model_module": "@jupyter-widgets/controls",
            "_model_module_version": "1.5.0",
            "_model_name": "ProgressStyleModel",
            "_view_count": null,
            "_view_module": "@jupyter-widgets/base",
            "_view_module_version": "1.2.0",
            "_view_name": "StyleView",
            "bar_color": null,
            "description_width": ""
          }
        },
        "0d1cbbbd34164a2d811eb49de2aa363e": {
          "model_module": "@jupyter-widgets/base",
          "model_name": "LayoutModel",
          "model_module_version": "1.2.0",
          "state": {
            "_model_module": "@jupyter-widgets/base",
            "_model_module_version": "1.2.0",
            "_model_name": "LayoutModel",
            "_view_count": null,
            "_view_module": "@jupyter-widgets/base",
            "_view_module_version": "1.2.0",
            "_view_name": "LayoutView",
            "align_content": null,
            "align_items": null,
            "align_self": null,
            "border": null,
            "bottom": null,
            "display": null,
            "flex": null,
            "flex_flow": null,
            "grid_area": null,
            "grid_auto_columns": null,
            "grid_auto_flow": null,
            "grid_auto_rows": null,
            "grid_column": null,
            "grid_gap": null,
            "grid_row": null,
            "grid_template_areas": null,
            "grid_template_columns": null,
            "grid_template_rows": null,
            "height": null,
            "justify_content": null,
            "justify_items": null,
            "left": null,
            "margin": null,
            "max_height": null,
            "max_width": null,
            "min_height": null,
            "min_width": null,
            "object_fit": null,
            "object_position": null,
            "order": null,
            "overflow": null,
            "overflow_x": null,
            "overflow_y": null,
            "padding": null,
            "right": null,
            "top": null,
            "visibility": null,
            "width": null
          }
        },
        "fbe375f545b54307bdd8a6e590ec9728": {
          "model_module": "@jupyter-widgets/controls",
          "model_name": "DescriptionStyleModel",
          "model_module_version": "1.5.0",
          "state": {
            "_model_module": "@jupyter-widgets/controls",
            "_model_module_version": "1.5.0",
            "_model_name": "DescriptionStyleModel",
            "_view_count": null,
            "_view_module": "@jupyter-widgets/base",
            "_view_module_version": "1.2.0",
            "_view_name": "StyleView",
            "description_width": ""
          }
        },
        "437d5b00b873432c8e83f5810ade70ef": {
          "model_module": "@jupyter-widgets/controls",
          "model_name": "HBoxModel",
          "model_module_version": "1.5.0",
          "state": {
            "_dom_classes": [],
            "_model_module": "@jupyter-widgets/controls",
            "_model_module_version": "1.5.0",
            "_model_name": "HBoxModel",
            "_view_count": null,
            "_view_module": "@jupyter-widgets/controls",
            "_view_module_version": "1.5.0",
            "_view_name": "HBoxView",
            "box_style": "",
            "children": [
              "IPY_MODEL_b986fac22fff4676ae3aff49821f5295",
              "IPY_MODEL_999d28c6f63f4d03bca275f19d6268b4",
              "IPY_MODEL_67bdc4b8113a475eb09681ebbc41c2e8"
            ],
            "layout": "IPY_MODEL_d05f28a5a6bb41b79dcc73417298d11a"
          }
        },
        "b986fac22fff4676ae3aff49821f5295": {
          "model_module": "@jupyter-widgets/controls",
          "model_name": "HTMLModel",
          "model_module_version": "1.5.0",
          "state": {
            "_dom_classes": [],
            "_model_module": "@jupyter-widgets/controls",
            "_model_module_version": "1.5.0",
            "_model_name": "HTMLModel",
            "_view_count": null,
            "_view_module": "@jupyter-widgets/controls",
            "_view_module_version": "1.5.0",
            "_view_name": "HTMLView",
            "description": "",
            "description_tooltip": null,
            "layout": "IPY_MODEL_660133f9241f4393825a82c987dbe20d",
            "placeholder": "​",
            "style": "IPY_MODEL_3eef393cc197433e8ec3d6c53ad7575a",
            "value": "100%"
          }
        },
        "999d28c6f63f4d03bca275f19d6268b4": {
          "model_module": "@jupyter-widgets/controls",
          "model_name": "FloatProgressModel",
          "model_module_version": "1.5.0",
          "state": {
            "_dom_classes": [],
            "_model_module": "@jupyter-widgets/controls",
            "_model_module_version": "1.5.0",
            "_model_name": "FloatProgressModel",
            "_view_count": null,
            "_view_module": "@jupyter-widgets/controls",
            "_view_module_version": "1.5.0",
            "_view_name": "ProgressView",
            "bar_style": "success",
            "description": "",
            "description_tooltip": null,
            "layout": "IPY_MODEL_aa0e2d2d7f844b3c84f888dbdccdb178",
            "max": 50,
            "min": 0,
            "orientation": "horizontal",
            "style": "IPY_MODEL_47f6a58968c1437092447d01ab0c650a",
            "value": 50
          }
        },
        "67bdc4b8113a475eb09681ebbc41c2e8": {
          "model_module": "@jupyter-widgets/controls",
          "model_name": "HTMLModel",
          "model_module_version": "1.5.0",
          "state": {
            "_dom_classes": [],
            "_model_module": "@jupyter-widgets/controls",
            "_model_module_version": "1.5.0",
            "_model_name": "HTMLModel",
            "_view_count": null,
            "_view_module": "@jupyter-widgets/controls",
            "_view_module_version": "1.5.0",
            "_view_name": "HTMLView",
            "description": "",
            "description_tooltip": null,
            "layout": "IPY_MODEL_63ac64d0bba548ac9577301da1ec2a6d",
            "placeholder": "​",
            "style": "IPY_MODEL_c3468c762091402da2a06bdc54439df7",
            "value": " 50/50 [00:29&lt;00:00,  1.69it/s]"
          }
        },
        "d05f28a5a6bb41b79dcc73417298d11a": {
          "model_module": "@jupyter-widgets/base",
          "model_name": "LayoutModel",
          "model_module_version": "1.2.0",
          "state": {
            "_model_module": "@jupyter-widgets/base",
            "_model_module_version": "1.2.0",
            "_model_name": "LayoutModel",
            "_view_count": null,
            "_view_module": "@jupyter-widgets/base",
            "_view_module_version": "1.2.0",
            "_view_name": "LayoutView",
            "align_content": null,
            "align_items": null,
            "align_self": null,
            "border": null,
            "bottom": null,
            "display": null,
            "flex": null,
            "flex_flow": null,
            "grid_area": null,
            "grid_auto_columns": null,
            "grid_auto_flow": null,
            "grid_auto_rows": null,
            "grid_column": null,
            "grid_gap": null,
            "grid_row": null,
            "grid_template_areas": null,
            "grid_template_columns": null,
            "grid_template_rows": null,
            "height": null,
            "justify_content": null,
            "justify_items": null,
            "left": null,
            "margin": null,
            "max_height": null,
            "max_width": null,
            "min_height": null,
            "min_width": null,
            "object_fit": null,
            "object_position": null,
            "order": null,
            "overflow": null,
            "overflow_x": null,
            "overflow_y": null,
            "padding": null,
            "right": null,
            "top": null,
            "visibility": null,
            "width": null
          }
        },
        "660133f9241f4393825a82c987dbe20d": {
          "model_module": "@jupyter-widgets/base",
          "model_name": "LayoutModel",
          "model_module_version": "1.2.0",
          "state": {
            "_model_module": "@jupyter-widgets/base",
            "_model_module_version": "1.2.0",
            "_model_name": "LayoutModel",
            "_view_count": null,
            "_view_module": "@jupyter-widgets/base",
            "_view_module_version": "1.2.0",
            "_view_name": "LayoutView",
            "align_content": null,
            "align_items": null,
            "align_self": null,
            "border": null,
            "bottom": null,
            "display": null,
            "flex": null,
            "flex_flow": null,
            "grid_area": null,
            "grid_auto_columns": null,
            "grid_auto_flow": null,
            "grid_auto_rows": null,
            "grid_column": null,
            "grid_gap": null,
            "grid_row": null,
            "grid_template_areas": null,
            "grid_template_columns": null,
            "grid_template_rows": null,
            "height": null,
            "justify_content": null,
            "justify_items": null,
            "left": null,
            "margin": null,
            "max_height": null,
            "max_width": null,
            "min_height": null,
            "min_width": null,
            "object_fit": null,
            "object_position": null,
            "order": null,
            "overflow": null,
            "overflow_x": null,
            "overflow_y": null,
            "padding": null,
            "right": null,
            "top": null,
            "visibility": null,
            "width": null
          }
        },
        "3eef393cc197433e8ec3d6c53ad7575a": {
          "model_module": "@jupyter-widgets/controls",
          "model_name": "DescriptionStyleModel",
          "model_module_version": "1.5.0",
          "state": {
            "_model_module": "@jupyter-widgets/controls",
            "_model_module_version": "1.5.0",
            "_model_name": "DescriptionStyleModel",
            "_view_count": null,
            "_view_module": "@jupyter-widgets/base",
            "_view_module_version": "1.2.0",
            "_view_name": "StyleView",
            "description_width": ""
          }
        },
        "aa0e2d2d7f844b3c84f888dbdccdb178": {
          "model_module": "@jupyter-widgets/base",
          "model_name": "LayoutModel",
          "model_module_version": "1.2.0",
          "state": {
            "_model_module": "@jupyter-widgets/base",
            "_model_module_version": "1.2.0",
            "_model_name": "LayoutModel",
            "_view_count": null,
            "_view_module": "@jupyter-widgets/base",
            "_view_module_version": "1.2.0",
            "_view_name": "LayoutView",
            "align_content": null,
            "align_items": null,
            "align_self": null,
            "border": null,
            "bottom": null,
            "display": null,
            "flex": null,
            "flex_flow": null,
            "grid_area": null,
            "grid_auto_columns": null,
            "grid_auto_flow": null,
            "grid_auto_rows": null,
            "grid_column": null,
            "grid_gap": null,
            "grid_row": null,
            "grid_template_areas": null,
            "grid_template_columns": null,
            "grid_template_rows": null,
            "height": null,
            "justify_content": null,
            "justify_items": null,
            "left": null,
            "margin": null,
            "max_height": null,
            "max_width": null,
            "min_height": null,
            "min_width": null,
            "object_fit": null,
            "object_position": null,
            "order": null,
            "overflow": null,
            "overflow_x": null,
            "overflow_y": null,
            "padding": null,
            "right": null,
            "top": null,
            "visibility": null,
            "width": null
          }
        },
        "47f6a58968c1437092447d01ab0c650a": {
          "model_module": "@jupyter-widgets/controls",
          "model_name": "ProgressStyleModel",
          "model_module_version": "1.5.0",
          "state": {
            "_model_module": "@jupyter-widgets/controls",
            "_model_module_version": "1.5.0",
            "_model_name": "ProgressStyleModel",
            "_view_count": null,
            "_view_module": "@jupyter-widgets/base",
            "_view_module_version": "1.2.0",
            "_view_name": "StyleView",
            "bar_color": null,
            "description_width": ""
          }
        },
        "63ac64d0bba548ac9577301da1ec2a6d": {
          "model_module": "@jupyter-widgets/base",
          "model_name": "LayoutModel",
          "model_module_version": "1.2.0",
          "state": {
            "_model_module": "@jupyter-widgets/base",
            "_model_module_version": "1.2.0",
            "_model_name": "LayoutModel",
            "_view_count": null,
            "_view_module": "@jupyter-widgets/base",
            "_view_module_version": "1.2.0",
            "_view_name": "LayoutView",
            "align_content": null,
            "align_items": null,
            "align_self": null,
            "border": null,
            "bottom": null,
            "display": null,
            "flex": null,
            "flex_flow": null,
            "grid_area": null,
            "grid_auto_columns": null,
            "grid_auto_flow": null,
            "grid_auto_rows": null,
            "grid_column": null,
            "grid_gap": null,
            "grid_row": null,
            "grid_template_areas": null,
            "grid_template_columns": null,
            "grid_template_rows": null,
            "height": null,
            "justify_content": null,
            "justify_items": null,
            "left": null,
            "margin": null,
            "max_height": null,
            "max_width": null,
            "min_height": null,
            "min_width": null,
            "object_fit": null,
            "object_position": null,
            "order": null,
            "overflow": null,
            "overflow_x": null,
            "overflow_y": null,
            "padding": null,
            "right": null,
            "top": null,
            "visibility": null,
            "width": null
          }
        },
        "c3468c762091402da2a06bdc54439df7": {
          "model_module": "@jupyter-widgets/controls",
          "model_name": "DescriptionStyleModel",
          "model_module_version": "1.5.0",
          "state": {
            "_model_module": "@jupyter-widgets/controls",
            "_model_module_version": "1.5.0",
            "_model_name": "DescriptionStyleModel",
            "_view_count": null,
            "_view_module": "@jupyter-widgets/base",
            "_view_module_version": "1.2.0",
            "_view_name": "StyleView",
            "description_width": ""
          }
        },
        "22128db60d8c4e0bb6d7393ea3cad712": {
          "model_module": "@jupyter-widgets/controls",
          "model_name": "HBoxModel",
          "model_module_version": "1.5.0",
          "state": {
            "_dom_classes": [],
            "_model_module": "@jupyter-widgets/controls",
            "_model_module_version": "1.5.0",
            "_model_name": "HBoxModel",
            "_view_count": null,
            "_view_module": "@jupyter-widgets/controls",
            "_view_module_version": "1.5.0",
            "_view_name": "HBoxView",
            "box_style": "",
            "children": [
              "IPY_MODEL_64827fc0490847fe8205f41adb72f600",
              "IPY_MODEL_8e0fe827177a4e4a9c92dd9f95bac969",
              "IPY_MODEL_6c9911b0fa9e43b29ea67c1772fe0a8f"
            ],
            "layout": "IPY_MODEL_a5f4683be89d4ef58c9b14b2decf92e2"
          }
        },
        "64827fc0490847fe8205f41adb72f600": {
          "model_module": "@jupyter-widgets/controls",
          "model_name": "HTMLModel",
          "model_module_version": "1.5.0",
          "state": {
            "_dom_classes": [],
            "_model_module": "@jupyter-widgets/controls",
            "_model_module_version": "1.5.0",
            "_model_name": "HTMLModel",
            "_view_count": null,
            "_view_module": "@jupyter-widgets/controls",
            "_view_module_version": "1.5.0",
            "_view_name": "HTMLView",
            "description": "",
            "description_tooltip": null,
            "layout": "IPY_MODEL_0c49113e3ec046bba75f06b40c0068d9",
            "placeholder": "​",
            "style": "IPY_MODEL_5fe535de045340dfbe511501c1dff0ac",
            "value": "100%"
          }
        },
        "8e0fe827177a4e4a9c92dd9f95bac969": {
          "model_module": "@jupyter-widgets/controls",
          "model_name": "FloatProgressModel",
          "model_module_version": "1.5.0",
          "state": {
            "_dom_classes": [],
            "_model_module": "@jupyter-widgets/controls",
            "_model_module_version": "1.5.0",
            "_model_name": "FloatProgressModel",
            "_view_count": null,
            "_view_module": "@jupyter-widgets/controls",
            "_view_module_version": "1.5.0",
            "_view_name": "ProgressView",
            "bar_style": "success",
            "description": "",
            "description_tooltip": null,
            "layout": "IPY_MODEL_e6c9f5bb1f604bb29d9bf9322acf3d51",
            "max": 250,
            "min": 0,
            "orientation": "horizontal",
            "style": "IPY_MODEL_da9b80eb25224be4ab68ae9a189f3d8b",
            "value": 250
          }
        },
        "6c9911b0fa9e43b29ea67c1772fe0a8f": {
          "model_module": "@jupyter-widgets/controls",
          "model_name": "HTMLModel",
          "model_module_version": "1.5.0",
          "state": {
            "_dom_classes": [],
            "_model_module": "@jupyter-widgets/controls",
            "_model_module_version": "1.5.0",
            "_model_name": "HTMLModel",
            "_view_count": null,
            "_view_module": "@jupyter-widgets/controls",
            "_view_module_version": "1.5.0",
            "_view_name": "HTMLView",
            "description": "",
            "description_tooltip": null,
            "layout": "IPY_MODEL_7f7701fe294a4e3894210d7788a02b0b",
            "placeholder": "​",
            "style": "IPY_MODEL_f26f9603a7154b45bb3f70939bb5f340",
            "value": " 250/250 [01:59&lt;00:00,  2.40it/s]"
          }
        },
        "a5f4683be89d4ef58c9b14b2decf92e2": {
          "model_module": "@jupyter-widgets/base",
          "model_name": "LayoutModel",
          "model_module_version": "1.2.0",
          "state": {
            "_model_module": "@jupyter-widgets/base",
            "_model_module_version": "1.2.0",
            "_model_name": "LayoutModel",
            "_view_count": null,
            "_view_module": "@jupyter-widgets/base",
            "_view_module_version": "1.2.0",
            "_view_name": "LayoutView",
            "align_content": null,
            "align_items": null,
            "align_self": null,
            "border": null,
            "bottom": null,
            "display": null,
            "flex": null,
            "flex_flow": null,
            "grid_area": null,
            "grid_auto_columns": null,
            "grid_auto_flow": null,
            "grid_auto_rows": null,
            "grid_column": null,
            "grid_gap": null,
            "grid_row": null,
            "grid_template_areas": null,
            "grid_template_columns": null,
            "grid_template_rows": null,
            "height": null,
            "justify_content": null,
            "justify_items": null,
            "left": null,
            "margin": null,
            "max_height": null,
            "max_width": null,
            "min_height": null,
            "min_width": null,
            "object_fit": null,
            "object_position": null,
            "order": null,
            "overflow": null,
            "overflow_x": null,
            "overflow_y": null,
            "padding": null,
            "right": null,
            "top": null,
            "visibility": null,
            "width": null
          }
        },
        "0c49113e3ec046bba75f06b40c0068d9": {
          "model_module": "@jupyter-widgets/base",
          "model_name": "LayoutModel",
          "model_module_version": "1.2.0",
          "state": {
            "_model_module": "@jupyter-widgets/base",
            "_model_module_version": "1.2.0",
            "_model_name": "LayoutModel",
            "_view_count": null,
            "_view_module": "@jupyter-widgets/base",
            "_view_module_version": "1.2.0",
            "_view_name": "LayoutView",
            "align_content": null,
            "align_items": null,
            "align_self": null,
            "border": null,
            "bottom": null,
            "display": null,
            "flex": null,
            "flex_flow": null,
            "grid_area": null,
            "grid_auto_columns": null,
            "grid_auto_flow": null,
            "grid_auto_rows": null,
            "grid_column": null,
            "grid_gap": null,
            "grid_row": null,
            "grid_template_areas": null,
            "grid_template_columns": null,
            "grid_template_rows": null,
            "height": null,
            "justify_content": null,
            "justify_items": null,
            "left": null,
            "margin": null,
            "max_height": null,
            "max_width": null,
            "min_height": null,
            "min_width": null,
            "object_fit": null,
            "object_position": null,
            "order": null,
            "overflow": null,
            "overflow_x": null,
            "overflow_y": null,
            "padding": null,
            "right": null,
            "top": null,
            "visibility": null,
            "width": null
          }
        },
        "5fe535de045340dfbe511501c1dff0ac": {
          "model_module": "@jupyter-widgets/controls",
          "model_name": "DescriptionStyleModel",
          "model_module_version": "1.5.0",
          "state": {
            "_model_module": "@jupyter-widgets/controls",
            "_model_module_version": "1.5.0",
            "_model_name": "DescriptionStyleModel",
            "_view_count": null,
            "_view_module": "@jupyter-widgets/base",
            "_view_module_version": "1.2.0",
            "_view_name": "StyleView",
            "description_width": ""
          }
        },
        "e6c9f5bb1f604bb29d9bf9322acf3d51": {
          "model_module": "@jupyter-widgets/base",
          "model_name": "LayoutModel",
          "model_module_version": "1.2.0",
          "state": {
            "_model_module": "@jupyter-widgets/base",
            "_model_module_version": "1.2.0",
            "_model_name": "LayoutModel",
            "_view_count": null,
            "_view_module": "@jupyter-widgets/base",
            "_view_module_version": "1.2.0",
            "_view_name": "LayoutView",
            "align_content": null,
            "align_items": null,
            "align_self": null,
            "border": null,
            "bottom": null,
            "display": null,
            "flex": null,
            "flex_flow": null,
            "grid_area": null,
            "grid_auto_columns": null,
            "grid_auto_flow": null,
            "grid_auto_rows": null,
            "grid_column": null,
            "grid_gap": null,
            "grid_row": null,
            "grid_template_areas": null,
            "grid_template_columns": null,
            "grid_template_rows": null,
            "height": null,
            "justify_content": null,
            "justify_items": null,
            "left": null,
            "margin": null,
            "max_height": null,
            "max_width": null,
            "min_height": null,
            "min_width": null,
            "object_fit": null,
            "object_position": null,
            "order": null,
            "overflow": null,
            "overflow_x": null,
            "overflow_y": null,
            "padding": null,
            "right": null,
            "top": null,
            "visibility": null,
            "width": null
          }
        },
        "da9b80eb25224be4ab68ae9a189f3d8b": {
          "model_module": "@jupyter-widgets/controls",
          "model_name": "ProgressStyleModel",
          "model_module_version": "1.5.0",
          "state": {
            "_model_module": "@jupyter-widgets/controls",
            "_model_module_version": "1.5.0",
            "_model_name": "ProgressStyleModel",
            "_view_count": null,
            "_view_module": "@jupyter-widgets/base",
            "_view_module_version": "1.2.0",
            "_view_name": "StyleView",
            "bar_color": null,
            "description_width": ""
          }
        },
        "7f7701fe294a4e3894210d7788a02b0b": {
          "model_module": "@jupyter-widgets/base",
          "model_name": "LayoutModel",
          "model_module_version": "1.2.0",
          "state": {
            "_model_module": "@jupyter-widgets/base",
            "_model_module_version": "1.2.0",
            "_model_name": "LayoutModel",
            "_view_count": null,
            "_view_module": "@jupyter-widgets/base",
            "_view_module_version": "1.2.0",
            "_view_name": "LayoutView",
            "align_content": null,
            "align_items": null,
            "align_self": null,
            "border": null,
            "bottom": null,
            "display": null,
            "flex": null,
            "flex_flow": null,
            "grid_area": null,
            "grid_auto_columns": null,
            "grid_auto_flow": null,
            "grid_auto_rows": null,
            "grid_column": null,
            "grid_gap": null,
            "grid_row": null,
            "grid_template_areas": null,
            "grid_template_columns": null,
            "grid_template_rows": null,
            "height": null,
            "justify_content": null,
            "justify_items": null,
            "left": null,
            "margin": null,
            "max_height": null,
            "max_width": null,
            "min_height": null,
            "min_width": null,
            "object_fit": null,
            "object_position": null,
            "order": null,
            "overflow": null,
            "overflow_x": null,
            "overflow_y": null,
            "padding": null,
            "right": null,
            "top": null,
            "visibility": null,
            "width": null
          }
        },
        "f26f9603a7154b45bb3f70939bb5f340": {
          "model_module": "@jupyter-widgets/controls",
          "model_name": "DescriptionStyleModel",
          "model_module_version": "1.5.0",
          "state": {
            "_model_module": "@jupyter-widgets/controls",
            "_model_module_version": "1.5.0",
            "_model_name": "DescriptionStyleModel",
            "_view_count": null,
            "_view_module": "@jupyter-widgets/base",
            "_view_module_version": "1.2.0",
            "_view_name": "StyleView",
            "description_width": ""
          }
        },
        "e9bc0d46f6624f5eb101e15b1d437241": {
          "model_module": "@jupyter-widgets/controls",
          "model_name": "HBoxModel",
          "model_module_version": "1.5.0",
          "state": {
            "_dom_classes": [],
            "_model_module": "@jupyter-widgets/controls",
            "_model_module_version": "1.5.0",
            "_model_name": "HBoxModel",
            "_view_count": null,
            "_view_module": "@jupyter-widgets/controls",
            "_view_module_version": "1.5.0",
            "_view_name": "HBoxView",
            "box_style": "",
            "children": [
              "IPY_MODEL_d4a97c460d6a4d6b980fb7ca0bc2d38c",
              "IPY_MODEL_79c18089da9f43b2aa2e51271be55bd3",
              "IPY_MODEL_dfab25e97a484f91ad2f7f80c80c1518"
            ],
            "layout": "IPY_MODEL_7e8d37683e5b4fd3a8203ff6bb3aec6f"
          }
        },
        "d4a97c460d6a4d6b980fb7ca0bc2d38c": {
          "model_module": "@jupyter-widgets/controls",
          "model_name": "HTMLModel",
          "model_module_version": "1.5.0",
          "state": {
            "_dom_classes": [],
            "_model_module": "@jupyter-widgets/controls",
            "_model_module_version": "1.5.0",
            "_model_name": "HTMLModel",
            "_view_count": null,
            "_view_module": "@jupyter-widgets/controls",
            "_view_module_version": "1.5.0",
            "_view_name": "HTMLView",
            "description": "",
            "description_tooltip": null,
            "layout": "IPY_MODEL_830fa32948d240a78ee246f43a5aa52c",
            "placeholder": "​",
            "style": "IPY_MODEL_78ae46e8ec2d4db7be8fee31cf433c62",
            "value": "100%"
          }
        },
        "79c18089da9f43b2aa2e51271be55bd3": {
          "model_module": "@jupyter-widgets/controls",
          "model_name": "FloatProgressModel",
          "model_module_version": "1.5.0",
          "state": {
            "_dom_classes": [],
            "_model_module": "@jupyter-widgets/controls",
            "_model_module_version": "1.5.0",
            "_model_name": "FloatProgressModel",
            "_view_count": null,
            "_view_module": "@jupyter-widgets/controls",
            "_view_module_version": "1.5.0",
            "_view_name": "ProgressView",
            "bar_style": "success",
            "description": "",
            "description_tooltip": null,
            "layout": "IPY_MODEL_53c42f9c5d4a4f5ab3916c3ebaeb00fb",
            "max": 100,
            "min": 0,
            "orientation": "horizontal",
            "style": "IPY_MODEL_961c75a44b6c455cba4686378d424e7b",
            "value": 100
          }
        },
        "dfab25e97a484f91ad2f7f80c80c1518": {
          "model_module": "@jupyter-widgets/controls",
          "model_name": "HTMLModel",
          "model_module_version": "1.5.0",
          "state": {
            "_dom_classes": [],
            "_model_module": "@jupyter-widgets/controls",
            "_model_module_version": "1.5.0",
            "_model_name": "HTMLModel",
            "_view_count": null,
            "_view_module": "@jupyter-widgets/controls",
            "_view_module_version": "1.5.0",
            "_view_name": "HTMLView",
            "description": "",
            "description_tooltip": null,
            "layout": "IPY_MODEL_ad69fe53ea854c7dbcdb94062fc3bd5d",
            "placeholder": "​",
            "style": "IPY_MODEL_a0180657943a46ffb625eae3d619fa22",
            "value": " 100/100 [00:33&lt;00:00,  2.92it/s]"
          }
        },
        "7e8d37683e5b4fd3a8203ff6bb3aec6f": {
          "model_module": "@jupyter-widgets/base",
          "model_name": "LayoutModel",
          "model_module_version": "1.2.0",
          "state": {
            "_model_module": "@jupyter-widgets/base",
            "_model_module_version": "1.2.0",
            "_model_name": "LayoutModel",
            "_view_count": null,
            "_view_module": "@jupyter-widgets/base",
            "_view_module_version": "1.2.0",
            "_view_name": "LayoutView",
            "align_content": null,
            "align_items": null,
            "align_self": null,
            "border": null,
            "bottom": null,
            "display": null,
            "flex": null,
            "flex_flow": null,
            "grid_area": null,
            "grid_auto_columns": null,
            "grid_auto_flow": null,
            "grid_auto_rows": null,
            "grid_column": null,
            "grid_gap": null,
            "grid_row": null,
            "grid_template_areas": null,
            "grid_template_columns": null,
            "grid_template_rows": null,
            "height": null,
            "justify_content": null,
            "justify_items": null,
            "left": null,
            "margin": null,
            "max_height": null,
            "max_width": null,
            "min_height": null,
            "min_width": null,
            "object_fit": null,
            "object_position": null,
            "order": null,
            "overflow": null,
            "overflow_x": null,
            "overflow_y": null,
            "padding": null,
            "right": null,
            "top": null,
            "visibility": null,
            "width": null
          }
        },
        "830fa32948d240a78ee246f43a5aa52c": {
          "model_module": "@jupyter-widgets/base",
          "model_name": "LayoutModel",
          "model_module_version": "1.2.0",
          "state": {
            "_model_module": "@jupyter-widgets/base",
            "_model_module_version": "1.2.0",
            "_model_name": "LayoutModel",
            "_view_count": null,
            "_view_module": "@jupyter-widgets/base",
            "_view_module_version": "1.2.0",
            "_view_name": "LayoutView",
            "align_content": null,
            "align_items": null,
            "align_self": null,
            "border": null,
            "bottom": null,
            "display": null,
            "flex": null,
            "flex_flow": null,
            "grid_area": null,
            "grid_auto_columns": null,
            "grid_auto_flow": null,
            "grid_auto_rows": null,
            "grid_column": null,
            "grid_gap": null,
            "grid_row": null,
            "grid_template_areas": null,
            "grid_template_columns": null,
            "grid_template_rows": null,
            "height": null,
            "justify_content": null,
            "justify_items": null,
            "left": null,
            "margin": null,
            "max_height": null,
            "max_width": null,
            "min_height": null,
            "min_width": null,
            "object_fit": null,
            "object_position": null,
            "order": null,
            "overflow": null,
            "overflow_x": null,
            "overflow_y": null,
            "padding": null,
            "right": null,
            "top": null,
            "visibility": null,
            "width": null
          }
        },
        "78ae46e8ec2d4db7be8fee31cf433c62": {
          "model_module": "@jupyter-widgets/controls",
          "model_name": "DescriptionStyleModel",
          "model_module_version": "1.5.0",
          "state": {
            "_model_module": "@jupyter-widgets/controls",
            "_model_module_version": "1.5.0",
            "_model_name": "DescriptionStyleModel",
            "_view_count": null,
            "_view_module": "@jupyter-widgets/base",
            "_view_module_version": "1.2.0",
            "_view_name": "StyleView",
            "description_width": ""
          }
        },
        "53c42f9c5d4a4f5ab3916c3ebaeb00fb": {
          "model_module": "@jupyter-widgets/base",
          "model_name": "LayoutModel",
          "model_module_version": "1.2.0",
          "state": {
            "_model_module": "@jupyter-widgets/base",
            "_model_module_version": "1.2.0",
            "_model_name": "LayoutModel",
            "_view_count": null,
            "_view_module": "@jupyter-widgets/base",
            "_view_module_version": "1.2.0",
            "_view_name": "LayoutView",
            "align_content": null,
            "align_items": null,
            "align_self": null,
            "border": null,
            "bottom": null,
            "display": null,
            "flex": null,
            "flex_flow": null,
            "grid_area": null,
            "grid_auto_columns": null,
            "grid_auto_flow": null,
            "grid_auto_rows": null,
            "grid_column": null,
            "grid_gap": null,
            "grid_row": null,
            "grid_template_areas": null,
            "grid_template_columns": null,
            "grid_template_rows": null,
            "height": null,
            "justify_content": null,
            "justify_items": null,
            "left": null,
            "margin": null,
            "max_height": null,
            "max_width": null,
            "min_height": null,
            "min_width": null,
            "object_fit": null,
            "object_position": null,
            "order": null,
            "overflow": null,
            "overflow_x": null,
            "overflow_y": null,
            "padding": null,
            "right": null,
            "top": null,
            "visibility": null,
            "width": null
          }
        },
        "961c75a44b6c455cba4686378d424e7b": {
          "model_module": "@jupyter-widgets/controls",
          "model_name": "ProgressStyleModel",
          "model_module_version": "1.5.0",
          "state": {
            "_model_module": "@jupyter-widgets/controls",
            "_model_module_version": "1.5.0",
            "_model_name": "ProgressStyleModel",
            "_view_count": null,
            "_view_module": "@jupyter-widgets/base",
            "_view_module_version": "1.2.0",
            "_view_name": "StyleView",
            "bar_color": null,
            "description_width": ""
          }
        },
        "ad69fe53ea854c7dbcdb94062fc3bd5d": {
          "model_module": "@jupyter-widgets/base",
          "model_name": "LayoutModel",
          "model_module_version": "1.2.0",
          "state": {
            "_model_module": "@jupyter-widgets/base",
            "_model_module_version": "1.2.0",
            "_model_name": "LayoutModel",
            "_view_count": null,
            "_view_module": "@jupyter-widgets/base",
            "_view_module_version": "1.2.0",
            "_view_name": "LayoutView",
            "align_content": null,
            "align_items": null,
            "align_self": null,
            "border": null,
            "bottom": null,
            "display": null,
            "flex": null,
            "flex_flow": null,
            "grid_area": null,
            "grid_auto_columns": null,
            "grid_auto_flow": null,
            "grid_auto_rows": null,
            "grid_column": null,
            "grid_gap": null,
            "grid_row": null,
            "grid_template_areas": null,
            "grid_template_columns": null,
            "grid_template_rows": null,
            "height": null,
            "justify_content": null,
            "justify_items": null,
            "left": null,
            "margin": null,
            "max_height": null,
            "max_width": null,
            "min_height": null,
            "min_width": null,
            "object_fit": null,
            "object_position": null,
            "order": null,
            "overflow": null,
            "overflow_x": null,
            "overflow_y": null,
            "padding": null,
            "right": null,
            "top": null,
            "visibility": null,
            "width": null
          }
        },
        "a0180657943a46ffb625eae3d619fa22": {
          "model_module": "@jupyter-widgets/controls",
          "model_name": "DescriptionStyleModel",
          "model_module_version": "1.5.0",
          "state": {
            "_model_module": "@jupyter-widgets/controls",
            "_model_module_version": "1.5.0",
            "_model_name": "DescriptionStyleModel",
            "_view_count": null,
            "_view_module": "@jupyter-widgets/base",
            "_view_module_version": "1.2.0",
            "_view_name": "StyleView",
            "description_width": ""
          }
        },
        "5135f7f083cd4c35be2774688d04e02b": {
          "model_module": "@jupyter-widgets/controls",
          "model_name": "HBoxModel",
          "model_module_version": "1.5.0",
          "state": {
            "_dom_classes": [],
            "_model_module": "@jupyter-widgets/controls",
            "_model_module_version": "1.5.0",
            "_model_name": "HBoxModel",
            "_view_count": null,
            "_view_module": "@jupyter-widgets/controls",
            "_view_module_version": "1.5.0",
            "_view_name": "HBoxView",
            "box_style": "",
            "children": [
              "IPY_MODEL_8b6212d41ffc4b3d93e7bbdb9fcd4d0f",
              "IPY_MODEL_3f18dbf110a34fa2a9dd75f15b1ba468",
              "IPY_MODEL_b9b37d79df7e4ebea8f582f7198f2864"
            ],
            "layout": "IPY_MODEL_0e8ba9dd4cd54f3195c0c05c5d4a96ff"
          }
        },
        "8b6212d41ffc4b3d93e7bbdb9fcd4d0f": {
          "model_module": "@jupyter-widgets/controls",
          "model_name": "HTMLModel",
          "model_module_version": "1.5.0",
          "state": {
            "_dom_classes": [],
            "_model_module": "@jupyter-widgets/controls",
            "_model_module_version": "1.5.0",
            "_model_name": "HTMLModel",
            "_view_count": null,
            "_view_module": "@jupyter-widgets/controls",
            "_view_module_version": "1.5.0",
            "_view_name": "HTMLView",
            "description": "",
            "description_tooltip": null,
            "layout": "IPY_MODEL_451c6532b1fd416e9cb0741111589922",
            "placeholder": "​",
            "style": "IPY_MODEL_b5b0c0dcaac14d6684945d124040a109",
            "value": "100%"
          }
        },
        "3f18dbf110a34fa2a9dd75f15b1ba468": {
          "model_module": "@jupyter-widgets/controls",
          "model_name": "FloatProgressModel",
          "model_module_version": "1.5.0",
          "state": {
            "_dom_classes": [],
            "_model_module": "@jupyter-widgets/controls",
            "_model_module_version": "1.5.0",
            "_model_name": "FloatProgressModel",
            "_view_count": null,
            "_view_module": "@jupyter-widgets/controls",
            "_view_module_version": "1.5.0",
            "_view_name": "ProgressView",
            "bar_style": "success",
            "description": "",
            "description_tooltip": null,
            "layout": "IPY_MODEL_81fe5d0e049e444a8b78b461783d7532",
            "max": 600,
            "min": 0,
            "orientation": "horizontal",
            "style": "IPY_MODEL_39dd5f1f8ae34985a2ffee202fee8dd0",
            "value": 600
          }
        },
        "b9b37d79df7e4ebea8f582f7198f2864": {
          "model_module": "@jupyter-widgets/controls",
          "model_name": "HTMLModel",
          "model_module_version": "1.5.0",
          "state": {
            "_dom_classes": [],
            "_model_module": "@jupyter-widgets/controls",
            "_model_module_version": "1.5.0",
            "_model_name": "HTMLModel",
            "_view_count": null,
            "_view_module": "@jupyter-widgets/controls",
            "_view_module_version": "1.5.0",
            "_view_name": "HTMLView",
            "description": "",
            "description_tooltip": null,
            "layout": "IPY_MODEL_be4c68cc41394c28b30e45f5342dec1c",
            "placeholder": "​",
            "style": "IPY_MODEL_58de5d3678b94b7b9392d30007faf37e",
            "value": " 600/600 [04:26&lt;00:00,  2.38it/s]"
          }
        },
        "0e8ba9dd4cd54f3195c0c05c5d4a96ff": {
          "model_module": "@jupyter-widgets/base",
          "model_name": "LayoutModel",
          "model_module_version": "1.2.0",
          "state": {
            "_model_module": "@jupyter-widgets/base",
            "_model_module_version": "1.2.0",
            "_model_name": "LayoutModel",
            "_view_count": null,
            "_view_module": "@jupyter-widgets/base",
            "_view_module_version": "1.2.0",
            "_view_name": "LayoutView",
            "align_content": null,
            "align_items": null,
            "align_self": null,
            "border": null,
            "bottom": null,
            "display": null,
            "flex": null,
            "flex_flow": null,
            "grid_area": null,
            "grid_auto_columns": null,
            "grid_auto_flow": null,
            "grid_auto_rows": null,
            "grid_column": null,
            "grid_gap": null,
            "grid_row": null,
            "grid_template_areas": null,
            "grid_template_columns": null,
            "grid_template_rows": null,
            "height": null,
            "justify_content": null,
            "justify_items": null,
            "left": null,
            "margin": null,
            "max_height": null,
            "max_width": null,
            "min_height": null,
            "min_width": null,
            "object_fit": null,
            "object_position": null,
            "order": null,
            "overflow": null,
            "overflow_x": null,
            "overflow_y": null,
            "padding": null,
            "right": null,
            "top": null,
            "visibility": null,
            "width": null
          }
        },
        "451c6532b1fd416e9cb0741111589922": {
          "model_module": "@jupyter-widgets/base",
          "model_name": "LayoutModel",
          "model_module_version": "1.2.0",
          "state": {
            "_model_module": "@jupyter-widgets/base",
            "_model_module_version": "1.2.0",
            "_model_name": "LayoutModel",
            "_view_count": null,
            "_view_module": "@jupyter-widgets/base",
            "_view_module_version": "1.2.0",
            "_view_name": "LayoutView",
            "align_content": null,
            "align_items": null,
            "align_self": null,
            "border": null,
            "bottom": null,
            "display": null,
            "flex": null,
            "flex_flow": null,
            "grid_area": null,
            "grid_auto_columns": null,
            "grid_auto_flow": null,
            "grid_auto_rows": null,
            "grid_column": null,
            "grid_gap": null,
            "grid_row": null,
            "grid_template_areas": null,
            "grid_template_columns": null,
            "grid_template_rows": null,
            "height": null,
            "justify_content": null,
            "justify_items": null,
            "left": null,
            "margin": null,
            "max_height": null,
            "max_width": null,
            "min_height": null,
            "min_width": null,
            "object_fit": null,
            "object_position": null,
            "order": null,
            "overflow": null,
            "overflow_x": null,
            "overflow_y": null,
            "padding": null,
            "right": null,
            "top": null,
            "visibility": null,
            "width": null
          }
        },
        "b5b0c0dcaac14d6684945d124040a109": {
          "model_module": "@jupyter-widgets/controls",
          "model_name": "DescriptionStyleModel",
          "model_module_version": "1.5.0",
          "state": {
            "_model_module": "@jupyter-widgets/controls",
            "_model_module_version": "1.5.0",
            "_model_name": "DescriptionStyleModel",
            "_view_count": null,
            "_view_module": "@jupyter-widgets/base",
            "_view_module_version": "1.2.0",
            "_view_name": "StyleView",
            "description_width": ""
          }
        },
        "81fe5d0e049e444a8b78b461783d7532": {
          "model_module": "@jupyter-widgets/base",
          "model_name": "LayoutModel",
          "model_module_version": "1.2.0",
          "state": {
            "_model_module": "@jupyter-widgets/base",
            "_model_module_version": "1.2.0",
            "_model_name": "LayoutModel",
            "_view_count": null,
            "_view_module": "@jupyter-widgets/base",
            "_view_module_version": "1.2.0",
            "_view_name": "LayoutView",
            "align_content": null,
            "align_items": null,
            "align_self": null,
            "border": null,
            "bottom": null,
            "display": null,
            "flex": null,
            "flex_flow": null,
            "grid_area": null,
            "grid_auto_columns": null,
            "grid_auto_flow": null,
            "grid_auto_rows": null,
            "grid_column": null,
            "grid_gap": null,
            "grid_row": null,
            "grid_template_areas": null,
            "grid_template_columns": null,
            "grid_template_rows": null,
            "height": null,
            "justify_content": null,
            "justify_items": null,
            "left": null,
            "margin": null,
            "max_height": null,
            "max_width": null,
            "min_height": null,
            "min_width": null,
            "object_fit": null,
            "object_position": null,
            "order": null,
            "overflow": null,
            "overflow_x": null,
            "overflow_y": null,
            "padding": null,
            "right": null,
            "top": null,
            "visibility": null,
            "width": null
          }
        },
        "39dd5f1f8ae34985a2ffee202fee8dd0": {
          "model_module": "@jupyter-widgets/controls",
          "model_name": "ProgressStyleModel",
          "model_module_version": "1.5.0",
          "state": {
            "_model_module": "@jupyter-widgets/controls",
            "_model_module_version": "1.5.0",
            "_model_name": "ProgressStyleModel",
            "_view_count": null,
            "_view_module": "@jupyter-widgets/base",
            "_view_module_version": "1.2.0",
            "_view_name": "StyleView",
            "bar_color": null,
            "description_width": ""
          }
        },
        "be4c68cc41394c28b30e45f5342dec1c": {
          "model_module": "@jupyter-widgets/base",
          "model_name": "LayoutModel",
          "model_module_version": "1.2.0",
          "state": {
            "_model_module": "@jupyter-widgets/base",
            "_model_module_version": "1.2.0",
            "_model_name": "LayoutModel",
            "_view_count": null,
            "_view_module": "@jupyter-widgets/base",
            "_view_module_version": "1.2.0",
            "_view_name": "LayoutView",
            "align_content": null,
            "align_items": null,
            "align_self": null,
            "border": null,
            "bottom": null,
            "display": null,
            "flex": null,
            "flex_flow": null,
            "grid_area": null,
            "grid_auto_columns": null,
            "grid_auto_flow": null,
            "grid_auto_rows": null,
            "grid_column": null,
            "grid_gap": null,
            "grid_row": null,
            "grid_template_areas": null,
            "grid_template_columns": null,
            "grid_template_rows": null,
            "height": null,
            "justify_content": null,
            "justify_items": null,
            "left": null,
            "margin": null,
            "max_height": null,
            "max_width": null,
            "min_height": null,
            "min_width": null,
            "object_fit": null,
            "object_position": null,
            "order": null,
            "overflow": null,
            "overflow_x": null,
            "overflow_y": null,
            "padding": null,
            "right": null,
            "top": null,
            "visibility": null,
            "width": null
          }
        },
        "58de5d3678b94b7b9392d30007faf37e": {
          "model_module": "@jupyter-widgets/controls",
          "model_name": "DescriptionStyleModel",
          "model_module_version": "1.5.0",
          "state": {
            "_model_module": "@jupyter-widgets/controls",
            "_model_module_version": "1.5.0",
            "_model_name": "DescriptionStyleModel",
            "_view_count": null,
            "_view_module": "@jupyter-widgets/base",
            "_view_module_version": "1.2.0",
            "_view_name": "StyleView",
            "description_width": ""
          }
        },
        "ee5c482fdd8445b780fc56f9c7137e39": {
          "model_module": "@jupyter-widgets/controls",
          "model_name": "HBoxModel",
          "model_module_version": "1.5.0",
          "state": {
            "_dom_classes": [],
            "_model_module": "@jupyter-widgets/controls",
            "_model_module_version": "1.5.0",
            "_model_name": "HBoxModel",
            "_view_count": null,
            "_view_module": "@jupyter-widgets/controls",
            "_view_module_version": "1.5.0",
            "_view_name": "HBoxView",
            "box_style": "",
            "children": [
              "IPY_MODEL_94347f2c242947879626d8e0a962ddb2",
              "IPY_MODEL_ea5025b6b11a424da06174fdb96aa2d3",
              "IPY_MODEL_91b966ede37a412a9e6c87f79a5f3140"
            ],
            "layout": "IPY_MODEL_a05e5daa2064453382053efbf3635b8c"
          }
        },
        "94347f2c242947879626d8e0a962ddb2": {
          "model_module": "@jupyter-widgets/controls",
          "model_name": "HTMLModel",
          "model_module_version": "1.5.0",
          "state": {
            "_dom_classes": [],
            "_model_module": "@jupyter-widgets/controls",
            "_model_module_version": "1.5.0",
            "_model_name": "HTMLModel",
            "_view_count": null,
            "_view_module": "@jupyter-widgets/controls",
            "_view_module_version": "1.5.0",
            "_view_name": "HTMLView",
            "description": "",
            "description_tooltip": null,
            "layout": "IPY_MODEL_c90679376b4b4a459402d91d20979e11",
            "placeholder": "​",
            "style": "IPY_MODEL_dcf7a1c2723a44099aecbad9925a29cb",
            "value": "100%"
          }
        },
        "ea5025b6b11a424da06174fdb96aa2d3": {
          "model_module": "@jupyter-widgets/controls",
          "model_name": "FloatProgressModel",
          "model_module_version": "1.5.0",
          "state": {
            "_dom_classes": [],
            "_model_module": "@jupyter-widgets/controls",
            "_model_module_version": "1.5.0",
            "_model_name": "FloatProgressModel",
            "_view_count": null,
            "_view_module": "@jupyter-widgets/controls",
            "_view_module_version": "1.5.0",
            "_view_name": "ProgressView",
            "bar_style": "success",
            "description": "",
            "description_tooltip": null,
            "layout": "IPY_MODEL_5cdafc0673b74674ab97800d8e288842",
            "max": 20854,
            "min": 0,
            "orientation": "horizontal",
            "style": "IPY_MODEL_a26e99f1e56147d8a1d7c0bb3f6186f1",
            "value": 20854
          }
        },
        "91b966ede37a412a9e6c87f79a5f3140": {
          "model_module": "@jupyter-widgets/controls",
          "model_name": "HTMLModel",
          "model_module_version": "1.5.0",
          "state": {
            "_dom_classes": [],
            "_model_module": "@jupyter-widgets/controls",
            "_model_module_version": "1.5.0",
            "_model_name": "HTMLModel",
            "_view_count": null,
            "_view_module": "@jupyter-widgets/controls",
            "_view_module_version": "1.5.0",
            "_view_name": "HTMLView",
            "description": "",
            "description_tooltip": null,
            "layout": "IPY_MODEL_88b4346e6c624ec1ae35657ac23c5579",
            "placeholder": "​",
            "style": "IPY_MODEL_01dcca261c504ad6bc50c0969fd32a7f",
            "value": " 20854/20854 [11:32:00&lt;00:00,  1.81s/it]"
          }
        },
        "a05e5daa2064453382053efbf3635b8c": {
          "model_module": "@jupyter-widgets/base",
          "model_name": "LayoutModel",
          "model_module_version": "1.2.0",
          "state": {
            "_model_module": "@jupyter-widgets/base",
            "_model_module_version": "1.2.0",
            "_model_name": "LayoutModel",
            "_view_count": null,
            "_view_module": "@jupyter-widgets/base",
            "_view_module_version": "1.2.0",
            "_view_name": "LayoutView",
            "align_content": null,
            "align_items": null,
            "align_self": null,
            "border": null,
            "bottom": null,
            "display": null,
            "flex": null,
            "flex_flow": null,
            "grid_area": null,
            "grid_auto_columns": null,
            "grid_auto_flow": null,
            "grid_auto_rows": null,
            "grid_column": null,
            "grid_gap": null,
            "grid_row": null,
            "grid_template_areas": null,
            "grid_template_columns": null,
            "grid_template_rows": null,
            "height": null,
            "justify_content": null,
            "justify_items": null,
            "left": null,
            "margin": null,
            "max_height": null,
            "max_width": null,
            "min_height": null,
            "min_width": null,
            "object_fit": null,
            "object_position": null,
            "order": null,
            "overflow": null,
            "overflow_x": null,
            "overflow_y": null,
            "padding": null,
            "right": null,
            "top": null,
            "visibility": null,
            "width": null
          }
        },
        "c90679376b4b4a459402d91d20979e11": {
          "model_module": "@jupyter-widgets/base",
          "model_name": "LayoutModel",
          "model_module_version": "1.2.0",
          "state": {
            "_model_module": "@jupyter-widgets/base",
            "_model_module_version": "1.2.0",
            "_model_name": "LayoutModel",
            "_view_count": null,
            "_view_module": "@jupyter-widgets/base",
            "_view_module_version": "1.2.0",
            "_view_name": "LayoutView",
            "align_content": null,
            "align_items": null,
            "align_self": null,
            "border": null,
            "bottom": null,
            "display": null,
            "flex": null,
            "flex_flow": null,
            "grid_area": null,
            "grid_auto_columns": null,
            "grid_auto_flow": null,
            "grid_auto_rows": null,
            "grid_column": null,
            "grid_gap": null,
            "grid_row": null,
            "grid_template_areas": null,
            "grid_template_columns": null,
            "grid_template_rows": null,
            "height": null,
            "justify_content": null,
            "justify_items": null,
            "left": null,
            "margin": null,
            "max_height": null,
            "max_width": null,
            "min_height": null,
            "min_width": null,
            "object_fit": null,
            "object_position": null,
            "order": null,
            "overflow": null,
            "overflow_x": null,
            "overflow_y": null,
            "padding": null,
            "right": null,
            "top": null,
            "visibility": null,
            "width": null
          }
        },
        "dcf7a1c2723a44099aecbad9925a29cb": {
          "model_module": "@jupyter-widgets/controls",
          "model_name": "DescriptionStyleModel",
          "model_module_version": "1.5.0",
          "state": {
            "_model_module": "@jupyter-widgets/controls",
            "_model_module_version": "1.5.0",
            "_model_name": "DescriptionStyleModel",
            "_view_count": null,
            "_view_module": "@jupyter-widgets/base",
            "_view_module_version": "1.2.0",
            "_view_name": "StyleView",
            "description_width": ""
          }
        },
        "5cdafc0673b74674ab97800d8e288842": {
          "model_module": "@jupyter-widgets/base",
          "model_name": "LayoutModel",
          "model_module_version": "1.2.0",
          "state": {
            "_model_module": "@jupyter-widgets/base",
            "_model_module_version": "1.2.0",
            "_model_name": "LayoutModel",
            "_view_count": null,
            "_view_module": "@jupyter-widgets/base",
            "_view_module_version": "1.2.0",
            "_view_name": "LayoutView",
            "align_content": null,
            "align_items": null,
            "align_self": null,
            "border": null,
            "bottom": null,
            "display": null,
            "flex": null,
            "flex_flow": null,
            "grid_area": null,
            "grid_auto_columns": null,
            "grid_auto_flow": null,
            "grid_auto_rows": null,
            "grid_column": null,
            "grid_gap": null,
            "grid_row": null,
            "grid_template_areas": null,
            "grid_template_columns": null,
            "grid_template_rows": null,
            "height": null,
            "justify_content": null,
            "justify_items": null,
            "left": null,
            "margin": null,
            "max_height": null,
            "max_width": null,
            "min_height": null,
            "min_width": null,
            "object_fit": null,
            "object_position": null,
            "order": null,
            "overflow": null,
            "overflow_x": null,
            "overflow_y": null,
            "padding": null,
            "right": null,
            "top": null,
            "visibility": null,
            "width": null
          }
        },
        "a26e99f1e56147d8a1d7c0bb3f6186f1": {
          "model_module": "@jupyter-widgets/controls",
          "model_name": "ProgressStyleModel",
          "model_module_version": "1.5.0",
          "state": {
            "_model_module": "@jupyter-widgets/controls",
            "_model_module_version": "1.5.0",
            "_model_name": "ProgressStyleModel",
            "_view_count": null,
            "_view_module": "@jupyter-widgets/base",
            "_view_module_version": "1.2.0",
            "_view_name": "StyleView",
            "bar_color": null,
            "description_width": ""
          }
        },
        "88b4346e6c624ec1ae35657ac23c5579": {
          "model_module": "@jupyter-widgets/base",
          "model_name": "LayoutModel",
          "model_module_version": "1.2.0",
          "state": {
            "_model_module": "@jupyter-widgets/base",
            "_model_module_version": "1.2.0",
            "_model_name": "LayoutModel",
            "_view_count": null,
            "_view_module": "@jupyter-widgets/base",
            "_view_module_version": "1.2.0",
            "_view_name": "LayoutView",
            "align_content": null,
            "align_items": null,
            "align_self": null,
            "border": null,
            "bottom": null,
            "display": null,
            "flex": null,
            "flex_flow": null,
            "grid_area": null,
            "grid_auto_columns": null,
            "grid_auto_flow": null,
            "grid_auto_rows": null,
            "grid_column": null,
            "grid_gap": null,
            "grid_row": null,
            "grid_template_areas": null,
            "grid_template_columns": null,
            "grid_template_rows": null,
            "height": null,
            "justify_content": null,
            "justify_items": null,
            "left": null,
            "margin": null,
            "max_height": null,
            "max_width": null,
            "min_height": null,
            "min_width": null,
            "object_fit": null,
            "object_position": null,
            "order": null,
            "overflow": null,
            "overflow_x": null,
            "overflow_y": null,
            "padding": null,
            "right": null,
            "top": null,
            "visibility": null,
            "width": null
          }
        },
        "01dcca261c504ad6bc50c0969fd32a7f": {
          "model_module": "@jupyter-widgets/controls",
          "model_name": "DescriptionStyleModel",
          "model_module_version": "1.5.0",
          "state": {
            "_model_module": "@jupyter-widgets/controls",
            "_model_module_version": "1.5.0",
            "_model_name": "DescriptionStyleModel",
            "_view_count": null,
            "_view_module": "@jupyter-widgets/base",
            "_view_module_version": "1.2.0",
            "_view_name": "StyleView",
            "description_width": ""
          }
        }
      }
    }
  },
  "cells": [
    {
      "cell_type": "code",
      "execution_count": null,
      "metadata": {
        "colab": {
          "base_uri": "https://localhost:8080/"
        },
        "id": "B_7AEbC2XKxm",
        "outputId": "3aab2c29-3e4f-48d2-eeac-c6f6191f731d"
      },
      "outputs": [
        {
          "output_type": "stream",
          "name": "stdout",
          "text": [
            "Mounted at /gd\n"
          ]
        }
      ],
      "source": [
        "from google.colab import drive\n",
        "drive.mount('/gd')"
      ]
    },
    {
      "cell_type": "code",
      "source": [
        "!pip install transformers sentencepiece sacrebleu -q"
      ],
      "metadata": {
        "colab": {
          "base_uri": "https://localhost:8080/"
        },
        "id": "a1f3tm8MXV0F",
        "outputId": "6519700f-df8b-422f-e9aa-db2603b5fc2a"
      },
      "execution_count": null,
      "outputs": [
        {
          "output_type": "stream",
          "name": "stdout",
          "text": [
            "\u001b[?25l\r\u001b[K     |███▋                            | 10 kB 33.3 MB/s eta 0:00:01\r\u001b[K     |███████▏                        | 20 kB 8.7 MB/s eta 0:00:01\r\u001b[K     |██████████▊                     | 30 kB 7.7 MB/s eta 0:00:01\r\u001b[K     |██████████████▎                 | 40 kB 3.5 MB/s eta 0:00:01\r\u001b[K     |█████████████████▉              | 51 kB 3.6 MB/s eta 0:00:01\r\u001b[K     |█████████████████████▍          | 61 kB 4.3 MB/s eta 0:00:01\r\u001b[K     |█████████████████████████       | 71 kB 4.4 MB/s eta 0:00:01\r\u001b[K     |████████████████████████████▌   | 81 kB 4.7 MB/s eta 0:00:01\r\u001b[K     |████████████████████████████████| 92 kB 3.8 MB/s \n",
            "\u001b[?25h"
          ]
        }
      ]
    },
    {
      "cell_type": "code",
      "source": [
        "import os\n",
        "import numpy as np\n",
        "import pandas as pd\n",
        "from tqdm.auto import tqdm, trange\n",
        "import json\n",
        "import random"
      ],
      "metadata": {
        "id": "pSQDqUaOY7Mz"
      },
      "execution_count": null,
      "outputs": []
    },
    {
      "cell_type": "code",
      "source": [
        "import torch\n",
        "from transformers import MBartForConditionalGeneration, MBart50Tokenizer"
      ],
      "metadata": {
        "id": "0Ma36ICrY6f8"
      },
      "execution_count": null,
      "outputs": []
    },
    {
      "cell_type": "code",
      "source": [
        "base_model_path = '/gd/MyDrive/models/myv/mbart-large-51-myv-raw'"
      ],
      "metadata": {
        "id": "bHVeapBXXdjB"
      },
      "execution_count": null,
      "outputs": []
    },
    {
      "cell_type": "code",
      "source": [
        "tokenizer = MBart50Tokenizer.from_pretrained(base_model_path)"
      ],
      "metadata": {
        "id": "i2AA68xcXX3-"
      },
      "execution_count": null,
      "outputs": []
    },
    {
      "cell_type": "code",
      "source": [
        "old_len = len(tokenizer)\n",
        "old_len"
      ],
      "metadata": {
        "colab": {
          "base_uri": "https://localhost:8080/"
        },
        "id": "xXX21kOnXjZz",
        "outputId": "009e715d-9e3d-49e1-d3c8-e40c43bbeda3"
      },
      "execution_count": null,
      "outputs": [
        {
          "output_type": "execute_result",
          "data": {
            "text/plain": [
              "269545"
            ]
          },
          "metadata": {},
          "execution_count": 7
        }
      ]
    },
    {
      "cell_type": "markdown",
      "source": [
        "Because language ids are added by hard-code on initialization, we need to manually fix them."
      ],
      "metadata": {
        "id": "8T-CjCqSYhvL"
      }
    },
    {
      "cell_type": "code",
      "source": [
        "tokenizer.lang_code_to_id['myv_XX'] = old_len-1\n",
        "tokenizer.id_to_lang_code[old_len-1] = 'myv_XX'\n",
        "tokenizer.fairseq_tokens_to_ids[\"<mask>\"] = len(tokenizer.sp_model) + len(tokenizer.lang_code_to_id) + tokenizer.fairseq_offset\n",
        "\n",
        "tokenizer.fairseq_tokens_to_ids.update(tokenizer.lang_code_to_id)\n",
        "tokenizer.fairseq_ids_to_tokens = {v: k for k, v in tokenizer.fairseq_tokens_to_ids.items()}\n",
        "if 'myv_XX' not in tokenizer.additional_special_tokens:\n",
        "    tokenizer.additional_special_tokens.append('myv_XX')"
      ],
      "metadata": {
        "id": "pcGhUAKdXwaz"
      },
      "execution_count": null,
      "outputs": []
    },
    {
      "cell_type": "code",
      "source": [
        "with open('/gd/MyDrive/datasets/nlp/myv_corpus/train.v1.json', 'r') as f:\n",
        "    all_pairs = json.load(f)\n",
        "print(len(all_pairs))"
      ],
      "metadata": {
        "colab": {
          "base_uri": "https://localhost:8080/"
        },
        "id": "0SUssZS2Y0Jj",
        "outputId": "8ad5a9c1-7b8a-4209-b2ec-a734ebcf8877"
      },
      "execution_count": null,
      "outputs": [
        {
          "output_type": "stream",
          "name": "stdout",
          "text": [
            "74503\n"
          ]
        }
      ]
    },
    {
      "cell_type": "markdown",
      "source": [
        "## Training"
      ],
      "metadata": {
        "id": "uSvk4eQcYfJY"
      }
    },
    {
      "cell_type": "code",
      "source": [
        "import gc\n",
        "\n",
        "def cleanup():\n",
        "    gc.collect()\n",
        "    torch.cuda.empty_cache()\n",
        "    \n",
        "cleanup()"
      ],
      "metadata": {
        "id": "qVUJ0oblbZZA"
      },
      "execution_count": null,
      "outputs": []
    },
    {
      "cell_type": "code",
      "source": [
        "model = MBartForConditionalGeneration.from_pretrained(base_model_path)"
      ],
      "metadata": {
        "id": "SpD3Jb2fZhJ3"
      },
      "execution_count": null,
      "outputs": []
    },
    {
      "cell_type": "code",
      "source": [
        "model.cuda();"
      ],
      "metadata": {
        "id": "ePgh6su6ZnQr"
      },
      "execution_count": null,
      "outputs": []
    },
    {
      "cell_type": "markdown",
      "source": [
        "### First, update just the new embeddings"
      ],
      "metadata": {
        "id": "N-sFMD8QZvx4"
      }
    },
    {
      "cell_type": "code",
      "source": [
        "for p in model.parameters():\n",
        "    p.requires_grad = False\n",
        "for p in model.model.shared.parameters():\n",
        "    p.requires_grad = True"
      ],
      "metadata": {
        "id": "v4YXNZ8bZgiV"
      },
      "execution_count": null,
      "outputs": []
    },
    {
      "cell_type": "code",
      "source": [
        "from transformers.optimization import Adafactor\n",
        "optimizer = Adafactor(\n",
        "    [p for p in model.parameters() if p.requires_grad], \n",
        "    scale_parameter=False, \n",
        "    relative_step=False, \n",
        "    lr=1e-5,\n",
        "    clip_threshold=1.0\n",
        ")"
      ],
      "metadata": {
        "id": "mu2Z0L7oZ5VK"
      },
      "execution_count": null,
      "outputs": []
    },
    {
      "cell_type": "code",
      "source": [
        "batch_size = 8  \n",
        "report_steps = 500 \n",
        "epochs = 1\n",
        "losses = []"
      ],
      "metadata": {
        "id": "TMBO2e5_aNRu"
      },
      "execution_count": null,
      "outputs": []
    },
    {
      "cell_type": "code",
      "source": [
        "tokenizer.src_lang = \"myv_XX\"\n",
        "tokenizer.tgt_lang = \"ru_RU\""
      ],
      "metadata": {
        "id": "mZowyOW7aeDJ"
      },
      "execution_count": null,
      "outputs": []
    },
    {
      "cell_type": "code",
      "source": [
        "cleanup()\n",
        "model.train()\n",
        "\n",
        "for epoch in range(epochs):\n",
        "    print('EPOCH', epoch)\n",
        "    random.shuffle(all_pairs)\n",
        "    for i in trange(0, int(len(all_pairs) / batch_size)):\n",
        "        batch = all_pairs[i * batch_size: (i + 1) * batch_size]\n",
        "        # кодируем вопрос и ответ \n",
        "        x = tokenizer([p[0] for p in batch], return_tensors='pt', padding=True, truncation=True, max_length=256).to(model.device)\n",
        "        with tokenizer.as_target_tokenizer():\n",
        "            y = tokenizer([p[1] for p in batch], return_tensors='pt', padding=True, truncation=True, max_length=256).to(model.device)\n",
        "        # -100 - специальное значение, позволяющее не учитывать токены\n",
        "        y.input_ids[y.input_ids == 0] = -100\n",
        "        # вычисляем функцию потерь\n",
        "        try:\n",
        "            loss = model(\n",
        "                input_ids=x.input_ids,\n",
        "                attention_mask=x.attention_mask,\n",
        "                labels=y.input_ids,\n",
        "                decoder_attention_mask=y.attention_mask,\n",
        "                return_dict=True\n",
        "            ).loss\n",
        "            # делаем шаг градиентного спуска\n",
        "            loss.backward()\n",
        "            optimizer.step()\n",
        "            optimizer.zero_grad(set_to_none=True)\n",
        "        except RuntimeError as e:\n",
        "            print('error')\n",
        "            loss = None\n",
        "            optimizer.zero_grad(set_to_none=True)\n",
        "            cleanup()\n",
        "            continue\n",
        "\n",
        "        # печатаем скользящее среднее значение функции потерь\n",
        "        losses.append(loss.item())\n",
        "        if i % report_steps == 0:\n",
        "            print('step', i, 'loss', np.mean(losses[-report_steps:]))"
      ],
      "metadata": {
        "colab": {
          "base_uri": "https://localhost:8080/",
          "height": 639,
          "referenced_widgets": [
            "a1b8a2f992034105b78d4ed812ad403b",
            "0452296e671042bc93041b4097e4582d",
            "76871f714d0240d38ae05867a2d1f7ae",
            "4b5322485642418ea3a5c5f9cc63dc66",
            "5065b9fe8d7f4e0da7194bb999748bde",
            "d14d9b6b0be94b67909918d4e527096e",
            "5111a46d421f49b4af9b877189244721",
            "e94c2f594df54292a3cc66eb0e22b4b0",
            "567ade3b27f547bc81fe7da118da2d57",
            "eb49078bf7ba45819cdbf94b81cb69b6",
            "1a7d739f9a3248c68198a9af9a1428f7"
          ]
        },
        "id": "wddmR1nFaUto",
        "outputId": "2a664301-8804-4e9b-b860-aef4723b524a"
      },
      "execution_count": null,
      "outputs": [
        {
          "output_type": "stream",
          "name": "stdout",
          "text": [
            "EPOCH 0\n"
          ]
        },
        {
          "output_type": "display_data",
          "data": {
            "text/plain": [
              "  0%|          | 0/9312 [00:00<?, ?it/s]"
            ],
            "application/vnd.jupyter.widget-view+json": {
              "version_major": 2,
              "version_minor": 0,
              "model_id": "a1b8a2f992034105b78d4ed812ad403b"
            }
          },
          "metadata": {}
        },
        {
          "output_type": "stream",
          "name": "stdout",
          "text": [
            "step 0 loss 9.785296133421\n",
            "step 500 loss 4.405822748541832\n",
            "step 1000 loss 1.9253890920877457\n",
            "error\n",
            "error\n",
            "step 1500 loss 1.6297574729919433\n",
            "step 2000 loss 1.5292696248292923\n",
            "error\n",
            "step 2500 loss 1.4626867623925208\n",
            "error\n",
            "step 3000 loss 1.370803921341896\n",
            "step 3500 loss 1.3712821029424667\n",
            "step 4000 loss 1.321870720744133\n",
            "error\n",
            "error\n",
            "error\n",
            "step 4500 loss 1.2633198986649514\n",
            "error\n",
            "step 5000 loss 1.3033017413020134\n",
            "error\n",
            "step 5500 loss 1.2396207549571991\n",
            "error\n",
            "step 6000 loss 1.2041881234645844\n",
            "error\n",
            "error\n",
            "step 6500 loss 1.201305781006813\n",
            "step 7000 loss 1.1852625415623188\n",
            "step 7500 loss 1.2013110787272454\n",
            "error\n",
            "step 8000 loss 1.1347432471513748\n",
            "step 8500 loss 1.145038591682911\n",
            "step 9000 loss 1.1417657769322396\n",
            "error\n"
          ]
        }
      ]
    },
    {
      "cell_type": "markdown",
      "source": [
        "Normal translation/paraphrasing loss is typically about 0.5 to 1 in mBART, so here I expect something similar after some fine-tuning."
      ],
      "metadata": {
        "id": "7PmcOBlHbBpK"
      }
    },
    {
      "cell_type": "code",
      "source": [
        "save_model_path = '/gd/MyDrive/models/myv/mbart-large-51-myv-ru-v1'"
      ],
      "metadata": {
        "id": "82zdsBkBcvJK"
      },
      "execution_count": null,
      "outputs": []
    },
    {
      "cell_type": "code",
      "source": [
        "model.save_pretrained(save_model_path)\n",
        "tokenizer.save_pretrained(save_model_path)"
      ],
      "metadata": {
        "colab": {
          "base_uri": "https://localhost:8080/"
        },
        "id": "2Jp8f9Oxc10N",
        "outputId": "a5b22074-9ec4-442f-8cbd-8a653a22fc19"
      },
      "execution_count": null,
      "outputs": [
        {
          "output_type": "execute_result",
          "data": {
            "text/plain": [
              "('/gd/MyDrive/models/myv/mbart-large-51-myv-ru-v1/tokenizer_config.json',\n",
              " '/gd/MyDrive/models/myv/mbart-large-51-myv-ru-v1/special_tokens_map.json',\n",
              " '/gd/MyDrive/models/myv/mbart-large-51-myv-ru-v1/sentencepiece.bpe.model',\n",
              " '/gd/MyDrive/models/myv/mbart-large-51-myv-ru-v1/added_tokens.json')"
            ]
          },
          "metadata": {},
          "execution_count": 51
        }
      ]
    },
    {
      "cell_type": "code",
      "source": [
        "import matplotlib.pyplot as plt\n",
        "pd.Series(losses).ewm(100).mean().plot();\n",
        "plt.yscale('log');"
      ],
      "metadata": {
        "colab": {
          "base_uri": "https://localhost:8080/",
          "height": 265
        },
        "id": "-cjxp8jNeOAJ",
        "outputId": "58315035-fb6f-4e79-ae4e-3555c77d9c93"
      },
      "execution_count": null,
      "outputs": [
        {
          "output_type": "display_data",
          "data": {
            "text/plain": [
              "<Figure size 432x288 with 1 Axes>"
            ],
            "image/png": "[encoded data removed]"
          },
          "metadata": {
            "needs_background": "light"
          }
        }
      ]
    },
    {
      "cell_type": "markdown",
      "source": [
        "### Now update the whole model, with embeddings and transformer layers."
      ],
      "metadata": {
        "id": "C3ukpYX5dwQ6"
      }
    },
    {
      "cell_type": "code",
      "source": [
        "loss = None\n",
        "optimizer.zero_grad(set_to_none=True)\n",
        "optimizer = None\n",
        "cleanup()"
      ],
      "metadata": {
        "id": "l_D5qfaBc6Ls"
      },
      "execution_count": null,
      "outputs": []
    },
    {
      "cell_type": "code",
      "source": [
        "for p in model.parameters():\n",
        "    p.requires_grad = True"
      ],
      "metadata": {
        "id": "0idGdmxReUCD"
      },
      "execution_count": null,
      "outputs": []
    },
    {
      "cell_type": "code",
      "source": [
        "from transformers.optimization import Adafactor\n",
        "optimizer = Adafactor(\n",
        "    [p for p in model.parameters() if p.requires_grad], \n",
        "    scale_parameter=False, \n",
        "    relative_step=False, \n",
        "    lr=1e-6,\n",
        "    clip_threshold=1.0\n",
        ")"
      ],
      "metadata": {
        "id": "uUrdXOLGeW4_"
      },
      "execution_count": null,
      "outputs": []
    },
    {
      "cell_type": "code",
      "source": [
        "batch_size = 8\n",
        "report_steps = 500 \n",
        "epochs = 3\n",
        "losses = []"
      ],
      "metadata": {
        "id": "0KJrXPnSeZcx"
      },
      "execution_count": null,
      "outputs": []
    },
    {
      "cell_type": "markdown",
      "source": [
        "Optimizing all parameters takes x2 longer than just embeddings: about 1h per epoch. "
      ],
      "metadata": {
        "id": "75hQO633lnet"
      }
    },
    {
      "cell_type": "code",
      "source": [
        "cleanup()\n",
        "model.train()\n",
        "\n",
        "for epoch in range(epochs):\n",
        "    print('EPOCH', epoch)\n",
        "    random.shuffle(all_pairs)\n",
        "    for i in trange(0, int(len(all_pairs) / batch_size)):\n",
        "        batch = all_pairs[i * batch_size: (i + 1) * batch_size]\n",
        "        # кодируем вопрос и ответ \n",
        "        x = tokenizer([p[0] for p in batch], return_tensors='pt', padding=True, truncation=True, max_length=256).to(model.device)\n",
        "        with tokenizer.as_target_tokenizer():\n",
        "            y = tokenizer([p[1] for p in batch], return_tensors='pt', padding=True, truncation=True, max_length=256).to(model.device)\n",
        "        # -100 - специальное значение, позволяющее не учитывать токены\n",
        "        y.input_ids[y.input_ids == 0] = -100\n",
        "        # вычисляем функцию потерь\n",
        "        try:\n",
        "            loss = model(\n",
        "                input_ids=x.input_ids,\n",
        "                attention_mask=x.attention_mask,\n",
        "                labels=y.input_ids,\n",
        "                decoder_attention_mask=y.attention_mask,\n",
        "                return_dict=True\n",
        "            ).loss\n",
        "            # делаем шаг градиентного спуска\n",
        "            loss.backward()\n",
        "            optimizer.step()\n",
        "            optimizer.zero_grad(set_to_none=True)\n",
        "        except RuntimeError as e:\n",
        "            print('error')\n",
        "            loss = None\n",
        "            optimizer.zero_grad(set_to_none=True)\n",
        "            cleanup()\n",
        "            continue\n",
        "\n",
        "        # печатаем скользящее среднее значение функции потерь\n",
        "        losses.append(loss.item())\n",
        "        if i % report_steps == 0:\n",
        "            print('step', i, 'loss', np.mean(losses[-report_steps:]))"
      ],
      "metadata": {
        "colab": {
          "base_uri": "https://localhost:8080/",
          "height": 1000,
          "referenced_widgets": [
            "e15d79b84efb4623a21cd2a1079415c9",
            "9e0111468d1847eabac8b4006f374465",
            "03939ccc1081494e9bf0b4e263fc4b8f",
            "05ababec8d794e85a41f299533b61476",
            "90b34134e1cf4af681f99aca86bee9ac",
            "2b13d56a06614d8495284eea055af72e",
            "135d042349a24ec7af2862654c230eba",
            "9757ae16bfeb4a7a8aea7969f5b0d1c4",
            "8c9123fb3afc40e18ba869394e50d054",
            "cd8c8391cb534c69a54cb46d4d7de173",
            "c1c899cc196345859cad7198a8c8b161",
            "2849de9a61724f6b8a64ddc4ac1d0e52",
            "6623ec7c5a044e6d90244457f991089d",
            "c272d45659234c1199bf8a9aa6eb1ba5",
            "d85bfb920180478694a290816385fa27",
            "db2a6ff4b90f44d28a45fa676c097e12",
            "bba5813d78d54104ae8206fa76dd8bf2",
            "d933e7ef6ca749ad9a7420d19bd366f5",
            "056d607ba48b4a2799e82998f8cbdacc",
            "1299e8f1e1fe4868b21fd2f232ce5807",
            "22b16b3ed75441428ae64516504e5850",
            "29d6121d01d64eeaa3b0b8cb3b99ce10",
            "00c0a3fe99434c4a90bf083f1aada851",
            "c9feda53e7734815987e4698947b24b9",
            "6d1857d9a812456c95408f7f4c8785c6",
            "e0aac9c415414fe5be27d3c758de5246",
            "4c5875b0cebb4cb9a9c7d09e0cbfe0d9",
            "44f494d6885d48ca8625f9279bb7ec96",
            "115f6dbdac8745a3b3eab039f472f97c",
            "69ebc234f41c4d9ca44f1d01726092d1",
            "1c3e57478ac04706bb5619040649c791",
            "5e6664bb90c944ae951868871be6f5e1",
            "5b279bcc52944ec69cfb6ae25c1984b1"
          ]
        },
        "id": "HNeqlBm2lIwm",
        "outputId": "5a41fd65-2cdb-49f6-f886-58087a0512cd"
      },
      "execution_count": null,
      "outputs": [
        {
          "metadata": {
            "tags": null
          },
          "name": "stdout",
          "output_type": "stream",
          "text": [
            "EPOCH 0\n"
          ]
        },
        {
          "data": {
            "application/vnd.jupyter.widget-view+json": {
              "model_id": "e15d79b84efb4623a21cd2a1079415c9",
              "version_major": 2,
              "version_minor": 0
            },
            "text/plain": [
              "  0%|          | 0/9312 [00:00<?, ?it/s]"
            ]
          },
          "metadata": {},
          "output_type": "display_data"
        },
        {
          "output_type": "stream",
          "name": "stdout",
          "text": [
            "step 0 loss 0.9503825902938843\n",
            "step 500 loss 1.055686499029398\n",
            "step 1000 loss 1.0169912794232367\n",
            "step 1500 loss 0.9887424440681934\n",
            "step 2000 loss 0.9832921919822692\n",
            "step 2500 loss 0.9614964108169078\n",
            "step 3000 loss 0.9587579975724221\n",
            "step 3500 loss 0.9667584648728371\n",
            "step 4000 loss 0.9176072727143765\n",
            "step 4500 loss 0.9691766191422939\n",
            "step 5000 loss 0.9263299844264984\n",
            "step 5500 loss 0.9157921041846275\n",
            "step 6000 loss 0.9544448709487915\n",
            "step 6500 loss 0.9398996981680393\n",
            "step 7000 loss 0.9314757969975471\n",
            "step 7500 loss 0.9299839054048061\n",
            "step 8000 loss 0.8923808116912841\n",
            "step 8500 loss 0.9060891752615571\n",
            "step 9000 loss 0.8967325659394264\n",
            "EPOCH 1\n"
          ]
        },
        {
          "output_type": "display_data",
          "data": {
            "text/plain": [
              "  0%|          | 0/9312 [00:00<?, ?it/s]"
            ],
            "application/vnd.jupyter.widget-view+json": {
              "version_major": 2,
              "version_minor": 0,
              "model_id": "2849de9a61724f6b8a64ddc4ac1d0e52"
            }
          },
          "metadata": {}
        },
        {
          "output_type": "stream",
          "name": "stdout",
          "text": [
            "step 0 loss 0.9228737407028675\n",
            "step 500 loss 0.88812294074893\n",
            "step 1000 loss 0.8759343658983707\n",
            "step 1500 loss 0.8873065537810325\n",
            "step 2000 loss 0.8785095971673728\n",
            "step 2500 loss 0.8644646124243737\n",
            "step 3000 loss 0.8337153362035752\n",
            "step 3500 loss 0.8667343288064003\n",
            "step 4000 loss 0.8820627403855323\n",
            "step 4500 loss 0.8571549745500088\n",
            "step 5000 loss 0.8652687788903713\n",
            "step 5500 loss 0.8597620077729226\n",
            "step 6000 loss 0.8679697896540165\n",
            "step 6500 loss 0.8751893592178821\n",
            "step 7000 loss 0.8687928949296474\n",
            "step 7500 loss 0.854967110067606\n",
            "step 8000 loss 0.8607984690070152\n",
            "step 8500 loss 0.8343796470165252\n",
            "step 9000 loss 0.8476396285295487\n",
            "EPOCH 2\n"
          ]
        },
        {
          "output_type": "display_data",
          "data": {
            "text/plain": [
              "  0%|          | 0/9312 [00:00<?, ?it/s]"
            ],
            "application/vnd.jupyter.widget-view+json": {
              "version_major": 2,
              "version_minor": 0,
              "model_id": "00c0a3fe99434c4a90bf083f1aada851"
            }
          },
          "metadata": {}
        },
        {
          "output_type": "stream",
          "name": "stdout",
          "text": [
            "step 0 loss 0.8607412446737289\n",
            "step 500 loss 0.8164499323666096\n",
            "step 1000 loss 0.8267537216544152\n",
            "step 1500 loss 0.8303699273169041\n",
            "step 2000 loss 0.8242678221166134\n",
            "step 2500 loss 0.8216545865386724\n",
            "step 3000 loss 0.8229495637714863\n",
            "step 3500 loss 0.806650289952755\n",
            "step 4000 loss 0.8111292649209499\n",
            "step 4500 loss 0.8128299108743667\n",
            "step 5000 loss 0.8278516631126404\n",
            "step 5500 loss 0.7982070347070694\n",
            "step 6000 loss 0.8029586943686009\n",
            "step 6500 loss 0.8138384493589401\n",
            "step 7000 loss 0.7913681076169014\n",
            "step 7500 loss 0.8188885310292244\n",
            "step 8000 loss 0.806558365881443\n",
            "step 8500 loss 0.7881947735100985\n",
            "step 9000 loss 0.8368214872479439\n"
          ]
        }
      ]
    },
    {
      "cell_type": "code",
      "source": [
        "pd.Series(losses).ewm(100).mean().plot();\n",
        "plt.yscale('log');"
      ],
      "metadata": {
        "colab": {
          "base_uri": "https://localhost:8080/",
          "height": 265
        },
        "id": "TnBlPJG8lcM4",
        "outputId": "40902513-dc3b-408c-ce22-3e376a8006ee"
      },
      "execution_count": null,
      "outputs": [
        {
          "output_type": "display_data",
          "data": {
            "text/plain": [
              "<Figure size 432x288 with 1 Axes>"
            ],
            "image/png": "[encoded data removed]"
          },
          "metadata": {
            "needs_background": "light"
          }
        }
      ]
    },
    {
      "cell_type": "code",
      "source": [
        "model.save_pretrained(save_model_path)\n",
        "tokenizer.save_pretrained(save_model_path)"
      ],
      "metadata": {
        "colab": {
          "base_uri": "https://localhost:8080/"
        },
        "id": "emQ5dlZ8lkQN",
        "outputId": "817c5ed8-4b0b-4be2-c683-3782022198b2"
      },
      "execution_count": null,
      "outputs": [
        {
          "output_type": "execute_result",
          "data": {
            "text/plain": [
              "('/gd/MyDrive/models/myv/mbart-large-51-myv-ru-v1/tokenizer_config.json',\n",
              " '/gd/MyDrive/models/myv/mbart-large-51-myv-ru-v1/special_tokens_map.json',\n",
              " '/gd/MyDrive/models/myv/mbart-large-51-myv-ru-v1/sentencepiece.bpe.model',\n",
              " '/gd/MyDrive/models/myv/mbart-large-51-myv-ru-v1/added_tokens.json')"
            ]
          },
          "metadata": {},
          "execution_count": 66
        }
      ]
    },
    {
      "cell_type": "code",
      "source": [
        "model.eval();"
      ],
      "metadata": {
        "id": "XOto-tN1UX2F"
      },
      "execution_count": null,
      "outputs": []
    },
    {
      "cell_type": "code",
      "source": [
        "myv, ru = random.choice(all_pairs)\n",
        "myv, ru"
      ],
      "metadata": {
        "colab": {
          "base_uri": "https://localhost:8080/"
        },
        "id": "x_KzHzfSUTKF",
        "outputId": "e3fec351-4bff-4d2a-934f-f05b462d8fb5"
      },
      "execution_count": null,
      "outputs": [
        {
          "output_type": "execute_result",
          "data": {
            "text/plain": [
              "('5. Нумолотне эсь командаст аравтнесызь истя, штобу виев ды парсте эшксицятне кадовольть удалов.',\n",
              " '5. Команды должны расставлять своих игроков так, чтобы меткие и сильно бьющие игроки стояли в конце цепочки.')"
            ]
          },
          "metadata": {},
          "execution_count": 269
        }
      ]
    },
    {
      "cell_type": "code",
      "source": [
        "def translate(text, src='myv_XX', trg='ru_RU', max_length=200, num_beams=5, repetition_penalty=5.0, **kwargs):\n",
        "    tokenizer.src_lang = src\n",
        "    encoded = tokenizer(text, return_tensors=\"pt\")\n",
        "    generated_tokens = model.generate(\n",
        "        **encoded.to(model.device),\n",
        "        forced_bos_token_id=tokenizer.lang_code_to_id[trg], \n",
        "        max_length=max_length, \n",
        "        num_beams=num_beams,\n",
        "        repetition_penalty=repetition_penalty,\n",
        "        # early_stopping=True,\n",
        "    )\n",
        "    return tokenizer.batch_decode(generated_tokens, skip_special_tokens=True)[0]\n",
        "\n",
        "translate(myv)"
      ],
      "metadata": {
        "colab": {
          "base_uri": "https://localhost:8080/",
          "height": 35
        },
        "id": "k3ZdAUlcVG68",
        "outputId": "91a38447-cee5-4fba-e36a-3ade2027b350"
      },
      "execution_count": null,
      "outputs": [
        {
          "output_type": "execute_result",
          "data": {
            "text/plain": [
              "'5. Нумолоты делятся на свои команды так, чтобы сильнейшие и лучшие игроки остались позади.'"
            ],
            "application/vnd.google.colaboratory.intrinsic+json": {
              "type": "string"
            }
          },
          "metadata": {},
          "execution_count": 275
        }
      ]
    },
    {
      "cell_type": "code",
      "source": [
        "loss = None\n",
        "optimizer.zero_grad(set_to_none=True)\n",
        "optimizer = None\n",
        "cleanup()"
      ],
      "metadata": {
        "id": "6dvO0V4FbOhn"
      },
      "execution_count": null,
      "outputs": []
    },
    {
      "cell_type": "markdown",
      "source": [
        "# Evaluate"
      ],
      "metadata": {
        "id": "dtLw0o74VFV-"
      }
    },
    {
      "cell_type": "code",
      "source": [
        "!ls /gd/MyDrive/datasets/nlp/myv_corpus/"
      ],
      "metadata": {
        "colab": {
          "base_uri": "https://localhost:8080/"
        },
        "id": "rkx2ImDjVLHg",
        "outputId": "9c1b3713-080b-4852-acf4-673dcfdab725"
      },
      "execution_count": null,
      "outputs": [
        {
          "output_type": "stream",
          "name": "stdout",
          "text": [
            "dev1000.v1.json  myv_mono.v1.json  test1000.v1.json  train.v1.json\n"
          ]
        }
      ]
    },
    {
      "cell_type": "code",
      "source": [
        "with open('/gd/MyDrive/datasets/nlp/myv_corpus/dev1000.v1.json', 'r') as f:\n",
        "    dev = json.load(f)"
      ],
      "metadata": {
        "id": "vuxJoG52VJQy"
      },
      "execution_count": null,
      "outputs": []
    },
    {
      "cell_type": "code",
      "source": [
        "dev_target = {k: [ru for er, ru in v] for k, v in dev.items()}"
      ],
      "metadata": {
        "id": "PDMF7H8SWceJ"
      },
      "execution_count": null,
      "outputs": []
    },
    {
      "cell_type": "code",
      "source": [
        "dev_translated = {k: [translate(er) for er, ru in tqdm(v)] for k, v in dev.items()}"
      ],
      "metadata": {
        "colab": {
          "base_uri": "https://localhost:8080/",
          "height": 209,
          "referenced_widgets": [
            "5e0243f9d93b4f54803dc5ac6762fe8f",
            "a6467bbb3c5d4365afa6efd32e147a4a",
            "a0d944a1f6fa4d4d8c9b1e5a6c1253d0",
            "70508859526a4cecb8c16c72f84d51aa",
            "698c888124534ea8b87846473821f59d",
            "ba3323947e194b3787573596d64faa38",
            "0222a1adf2794cf6b57ca4e504005f9f",
            "817ef58bfa36476eb504a71fda5953f3",
            "c4e63105f18340cdbf7c87eb96697d0a",
            "50dbf407100e42e6914ea61048129291",
            "61550d5b7e1949d2b69b3153dd20c21d",
            "9e06bed330ab430eb999fd9b4dcdde4f",
            "7c8068fed3254b6cb0b872c5216837bf",
            "1359ec7431f34e8b863474a60112a2ac",
            "df6c0c0e606746cf8ab7ab8b68609b78",
            "a0898a1387484c1aac0901cf1520a144",
            "3ba50ea08bb64e84a6ea79d78c47c668",
            "d654b557da03495d9de5dab42416e4de",
            "c93e8d474d804163978098efffc132d1",
            "a97b8201d41e437790b90e117576391a",
            "0d1cbbbd34164a2d811eb49de2aa363e",
            "fbe375f545b54307bdd8a6e590ec9728",
            "437d5b00b873432c8e83f5810ade70ef",
            "b986fac22fff4676ae3aff49821f5295",
            "999d28c6f63f4d03bca275f19d6268b4",
            "67bdc4b8113a475eb09681ebbc41c2e8",
            "d05f28a5a6bb41b79dcc73417298d11a",
            "660133f9241f4393825a82c987dbe20d",
            "3eef393cc197433e8ec3d6c53ad7575a",
            "aa0e2d2d7f844b3c84f888dbdccdb178",
            "47f6a58968c1437092447d01ab0c650a",
            "63ac64d0bba548ac9577301da1ec2a6d",
            "c3468c762091402da2a06bdc54439df7",
            "22128db60d8c4e0bb6d7393ea3cad712",
            "64827fc0490847fe8205f41adb72f600",
            "8e0fe827177a4e4a9c92dd9f95bac969",
            "6c9911b0fa9e43b29ea67c1772fe0a8f",
            "a5f4683be89d4ef58c9b14b2decf92e2",
            "0c49113e3ec046bba75f06b40c0068d9",
            "5fe535de045340dfbe511501c1dff0ac",
            "e6c9f5bb1f604bb29d9bf9322acf3d51",
            "da9b80eb25224be4ab68ae9a189f3d8b",
            "7f7701fe294a4e3894210d7788a02b0b",
            "f26f9603a7154b45bb3f70939bb5f340",
            "e9bc0d46f6624f5eb101e15b1d437241",
            "d4a97c460d6a4d6b980fb7ca0bc2d38c",
            "79c18089da9f43b2aa2e51271be55bd3",
            "dfab25e97a484f91ad2f7f80c80c1518",
            "7e8d37683e5b4fd3a8203ff6bb3aec6f",
            "830fa32948d240a78ee246f43a5aa52c",
            "78ae46e8ec2d4db7be8fee31cf433c62",
            "53c42f9c5d4a4f5ab3916c3ebaeb00fb",
            "961c75a44b6c455cba4686378d424e7b",
            "ad69fe53ea854c7dbcdb94062fc3bd5d",
            "a0180657943a46ffb625eae3d619fa22",
            "5135f7f083cd4c35be2774688d04e02b",
            "8b6212d41ffc4b3d93e7bbdb9fcd4d0f",
            "3f18dbf110a34fa2a9dd75f15b1ba468",
            "b9b37d79df7e4ebea8f582f7198f2864",
            "0e8ba9dd4cd54f3195c0c05c5d4a96ff",
            "451c6532b1fd416e9cb0741111589922",
            "b5b0c0dcaac14d6684945d124040a109",
            "81fe5d0e049e444a8b78b461783d7532",
            "39dd5f1f8ae34985a2ffee202fee8dd0",
            "be4c68cc41394c28b30e45f5342dec1c",
            "58de5d3678b94b7b9392d30007faf37e"
          ]
        },
        "id": "8cTZALDIVOeJ",
        "outputId": "ef918673-a0fc-4ea0-a371-c01340f10352"
      },
      "execution_count": null,
      "outputs": [
        {
          "output_type": "display_data",
          "data": {
            "text/plain": [
              "  0%|          | 0/400 [00:00<?, ?it/s]"
            ],
            "application/vnd.jupyter.widget-view+json": {
              "version_major": 2,
              "version_minor": 0,
              "model_id": "5e0243f9d93b4f54803dc5ac6762fe8f"
            }
          },
          "metadata": {}
        },
        {
          "output_type": "display_data",
          "data": {
            "text/plain": [
              "  0%|          | 0/100 [00:00<?, ?it/s]"
            ],
            "application/vnd.jupyter.widget-view+json": {
              "version_major": 2,
              "version_minor": 0,
              "model_id": "9e06bed330ab430eb999fd9b4dcdde4f"
            }
          },
          "metadata": {}
        },
        {
          "output_type": "display_data",
          "data": {
            "text/plain": [
              "  0%|          | 0/50 [00:00<?, ?it/s]"
            ],
            "application/vnd.jupyter.widget-view+json": {
              "version_major": 2,
              "version_minor": 0,
              "model_id": "437d5b00b873432c8e83f5810ade70ef"
            }
          },
          "metadata": {}
        },
        {
          "output_type": "display_data",
          "data": {
            "text/plain": [
              "  0%|          | 0/250 [00:00<?, ?it/s]"
            ],
            "application/vnd.jupyter.widget-view+json": {
              "version_major": 2,
              "version_minor": 0,
              "model_id": "22128db60d8c4e0bb6d7393ea3cad712"
            }
          },
          "metadata": {}
        },
        {
          "output_type": "display_data",
          "data": {
            "text/plain": [
              "  0%|          | 0/100 [00:00<?, ?it/s]"
            ],
            "application/vnd.jupyter.widget-view+json": {
              "version_major": 2,
              "version_minor": 0,
              "model_id": "e9bc0d46f6624f5eb101e15b1d437241"
            }
          },
          "metadata": {}
        },
        {
          "output_type": "display_data",
          "data": {
            "text/plain": [
              "  0%|          | 0/600 [00:00<?, ?it/s]"
            ],
            "application/vnd.jupyter.widget-view+json": {
              "version_major": 2,
              "version_minor": 0,
              "model_id": "5135f7f083cd4c35be2774688d04e02b"
            }
          },
          "metadata": {}
        }
      ]
    },
    {
      "cell_type": "code",
      "source": [
        "from sacrebleu import CHRF\n",
        "chrf_calc = CHRF(word_order=2)"
      ],
      "metadata": {
        "id": "SQMvR1EAYCFT"
      },
      "execution_count": null,
      "outputs": []
    },
    {
      "cell_type": "code",
      "source": [
        "for k in dev:\n",
        "    s = chrf_calc.corpus_score(dev_translated[k], [dev_target[k]]).score\n",
        "    print(f'{k:20s} {s:2.2f}')"
      ],
      "metadata": {
        "colab": {
          "base_uri": "https://localhost:8080/"
        },
        "id": "adizqeXwWuGE",
        "outputId": "632ceabe-772e-42b8-88c5-06bcc72f3a1c"
      },
      "execution_count": null,
      "outputs": [
        {
          "output_type": "stream",
          "name": "stdout",
          "text": [
            "bible                32.95\n",
            "tales                30.80\n",
            "constitution         54.25\n",
            "games                25.08\n",
            "fiction              22.80\n",
            "wiki                 48.86\n"
          ]
        }
      ]
    },
    {
      "cell_type": "code",
      "source": [
        "print(chrf_calc.corpus_score(\n",
        "    [t for k in dev_translated for t in dev_translated[k]], \n",
        "    [[t for k in dev_target for t in dev_target[k]]]\n",
        ").score)"
      ],
      "metadata": {
        "colab": {
          "base_uri": "https://localhost:8080/"
        },
        "id": "vWYvY6KzZslu",
        "outputId": "b110e9dc-e0c5-4f7e-e5f5-2da7319d905c"
      },
      "execution_count": null,
      "outputs": [
        {
          "output_type": "stream",
          "name": "stdout",
          "text": [
            "38.823449842762685\n"
          ]
        }
      ]
    },
    {
      "cell_type": "code",
      "source": [
        "for k in dev:\n",
        "    print(k)\n",
        "    for i in range(3):\n",
        "        print(dev[k][i][0])\n",
        "        print(dev[k][i][1])\n",
        "        print(dev_translated[k][i])\n",
        "        print()"
      ],
      "metadata": {
        "colab": {
          "base_uri": "https://localhost:8080/"
        },
        "id": "Dy66ZEvkZ-_S",
        "outputId": "e9a2c806-f57f-460d-f5d6-5e24f887bd99"
      },
      "execution_count": null,
      "outputs": [
        {
          "output_type": "stream",
          "name": "stdout",
          "text": [
            "bible\n",
            "Давид инязороськак корты: «Кадык сынь понгить кундамкас каванямо шкастост! Кадык сынь прыть туворс, ды кадык сы тенст чумонь пандома!\n",
            "И Давид говорит: да будет трапеза их сетью, тенетами и петлею в возмездие им;\n",
            "И говорит царь Давид: да отвлекут их во время пиршества, и да прыгают в туву, и да будет им наказание;\n",
            "\n",
            "Сюкпря Пазонтень, кие кирвазтизе Титэнь седейс тынк кисэ секе жо бажамонть, кона палы минек седейсэяк!\n",
            "Благодарение Богу, вложившему в сердце Титово такое усердие к вам.\n",
            "Приветствуйте Бога, возбуждающего за вас желание Тита и наше сердце.\n",
            "\n",
            "Ансяк бути мон карман одс стявтомо сень, мезенть калавтыя икеле, сестэ теньсэ невтьса: мон – Коень каладыця.\n",
            "Ибо если я снова созидаю, что разрушил, то сам себя делаю преступником.\n",
            "Но если бы я был предан тому, что разрушал прежде, то мог бы показать себе, что я продающий закон.\n",
            "\n",
            "tales\n",
            "Вана мезе ёвтнить миненек рузонь атятне: зярдо велесь тесэ арасель, се латксонть эрясть розбойникть, эрясть землянкасо.\n",
            "И вот что рассказывают наши русские старики: «Когда здесь не было этого села, в этом овраге были разбойники; у них были землянки.\n",
            "Вот что нам говорят русские старики: когда село здесь не было, то в селе жилибойники, на земле.\n",
            "\n",
            "Покшонть лемезэ ульнесь Мишка, омбоценть — Сёмка, колмоценть — Захарка, нилеценть — Давидка, ветеценть — Гришка.\n",
            "Старшему имя Михаил, второму — Семен, третьему — Захар, четвертому — Давыд, пятому — Григорий.\n",
            "Первое имя — Мишка, второе — Сёмка, третье — Захарка, четвертое — Давидка, пятое — Гришка.\n",
            "\n",
            "Тосо карматам, эрзят, эрямо, Уш тосо путтан минь ней кудот-чить.\n",
            "Там будем, эрзяне, жить, Уж там построим мы теперь хозяйство.\n",
            "Там я, эр, живу, Уш там мы будем жить по домам.\n",
            "\n",
            "constitution\n",
            "Казахской Советской Социалистической Республиканть,\n",
            "Казахской Советской Социалистической Республики,\n",
            "Казахской Советской Социалистической Республики,\n",
            "\n",
            "ф) трудонь кувалт законодательствань основатнень аравтомась;\n",
            "ф) установление основ законодательства о труде;\n",
            "ф) утверждение основ законодательства в отношении труда;\n",
            "\n",
            "Весе Народной Комиссариатнэнь ды сыненст подведомственной учреждениятнень, истя жо должностной башка ломантнень, истя жо СССР-нь граждантнэнь ендо законтнэнь точнойстэ топавтомаст мельга высшей надзорось путови СССР-нь Прокуроронть лангс.\n",
            "Высший надзор за точным исполнением законов всеми Народными Комиссариатами и подведомственными им учреждениями, равно как отдельными должностными лицами, а также гражданами СССР возлагается на Прокурора СССР.\n",
            "Все учреждения Народных Комиссаров и их подведомственников, как и должностные лица, так и граждане СССР по строгому соблюдению последующих законов подчинены надзору прокурора СССР.\n",
            "\n",
            "games\n",
            "Бути налксицясь номерэнть теемстэ ильведи, налксемась юты омбоцентень.\n",
            "Ошибка при исполнении номера одним из игроков ведет к передаче очередности к другому игроку.\n",
            "Если номер игрока ошибается, игра переходит в другую игру.\n",
            "\n",
            "Налксицятне 6 — 12 иесэ цёрынеть ды тейтернеть.\n",
            "Участники игры мальчики и девочки 6 — 12 лет.\n",
            "Играют мальчики и девочки 6 — 12 лет.\n",
            "\n",
            "Тейтернетне ды цёрынетне арыть най мунонть перька, пелькстыть мартонзо питненть коряс.\n",
            "Группа крестьян окружает купца, тор гуются.\n",
            "Девушки и юноши собираются вокруг него, чтобы заплатить с ним.\n",
            "\n",
            "fiction\n",
            "Венчесь кшнинь рисьмесэ сюлмазь кувака балкас, конань маныть строительтне стувтызь.\n",
            "Она привязана на берегу к железобетонному столбу, врытому строителями моста десять лет назад.\n",
            "Венча в железной цепи связана с длинным балком, который строители забыли.\n",
            "\n",
            "Сонзэ оймензэ тон эсеть седейсэ марясак…\n",
            "И сердце у тебя совсем другое…\n",
            "Слышишь в сердце твоем душу Его...\n",
            "\n",
            "— Те тон мезень кувалма? — ёжомарязь кевкстсь Михалыч.\n",
            "— Ты это к чему? — осторожно осведомился Михалыч.\n",
            "— За что ты это сделал?— осторожно спросил Миыч.\n",
            "\n",
            "wiki\n",
            "Ало пурназь ве таркас ды невтезь: ошонть лемезэ, коли сонензэ сон ульнесь путозь, ломантнень покшолмазо 1979-це, 1989-це,2000-це ды 2006-це иетнестэ ды сеть кие эрить оштнесэ 2012-це ды 2013-це иетнестэ, истяжо невтезь ёнксось (уездэсь) конасонть ашти ошось.\n",
            "В нижеприведённой таблице указаны: название города, год присвоения ему данного статуса, численность населения в 1979, 1989, 2000 и 2006 годах и постоянного населения в 2012 и 2019 годах, а также уезд, в котором расположен город.\n",
            "Название города, по которому он был назван, площадь населения в 1979, 1989, 2000 и 2006 годах и те, кто проживал в нём в течение студенческих лет и 2013 года, также представляет собой часть территории (участков) огорода.\n",
            "\n",
            "Цецянзо покшт, вейкестэ аштицят, 4 мазы-якстере лопинень марто.\n",
            "Цветки крупные, одиночные, с 4 ярко-красными лепестками.\n",
            "Взрослые, одни друг к другу, с четырьмя красно-пурными собаками.\n",
            "\n",
            "1999-це иестэ Манч лездась муемс ды идемс Хатира Каплан колмо иесэ тейтерненть, кона 82 част ютавтсь лондадовкс-каладовкс ало янгазь Измитсэ.\n",
            "В 1999 году Манч помог найти и спасти трёхлетнюю девочку Хатиру Каплан, которая пробыла 82 часа под развалинами в разрушенном Измите.\n",
            "В 1999 году Ман помог найти и спасти трёхлетнюю девушку Хатира Каплан, которая в возрасте 82 лет была разрушена из-за столкновения с лондадом.\n",
            "\n"
          ]
        }
      ]
    },
    {
      "cell_type": "markdown",
      "source": [
        "# Translate the monolingual corpus for back-translation"
      ],
      "metadata": {
        "id": "iqMMB3FLlLFa"
      }
    },
    {
      "cell_type": "code",
      "source": [
        "cleanup()"
      ],
      "metadata": {
        "id": "vVJrB5qP2Cc4"
      },
      "execution_count": null,
      "outputs": []
    },
    {
      "cell_type": "code",
      "source": [
        "with open('/gd/MyDrive/datasets/nlp/myv_corpus/myv_mono.v1.json', 'r') as f:\n",
        "    all_sentences = json.load(f)\n",
        "print(len(all_sentences))\n",
        "random.seed(1)\n",
        "random.shuffle(all_sentences)"
      ],
      "metadata": {
        "colab": {
          "base_uri": "https://localhost:8080/"
        },
        "id": "vCD0LriIlhPT",
        "outputId": "b8b439a7-9703-45f7-d450-39b8e3473f09"
      },
      "execution_count": null,
      "outputs": [
        {
          "output_type": "stream",
          "name": "stdout",
          "text": [
            "333651\n"
          ]
        }
      ]
    },
    {
      "cell_type": "code",
      "source": [
        "def translate_batch(texts, src='myv_XX', trg='ru_RU', max_length='auto', num_beams=5, repetition_penalty=5.0, **kwargs):\n",
        "    tokenizer.src_lang = src\n",
        "    encoded = tokenizer(texts, padding=True, truncation=True, max_length=256, return_tensors=\"pt\")\n",
        "    if max_length == 'auto':\n",
        "        max_length = int(10 + encoded.input_ids.shape[1] * 1.5)\n",
        "    generated_tokens = model.generate(\n",
        "        **encoded.to(model.device),\n",
        "        forced_bos_token_id=tokenizer.lang_code_to_id[trg], \n",
        "        max_length=max_length, \n",
        "        num_beams=num_beams,\n",
        "        repetition_penalty=repetition_penalty,\n",
        "        # early_stopping=True,\n",
        "    )\n",
        "    return tokenizer.batch_decode(generated_tokens, skip_special_tokens=True)\n"
      ],
      "metadata": {
        "id": "b00gre58bWb9"
      },
      "execution_count": null,
      "outputs": []
    },
    {
      "cell_type": "code",
      "source": [
        "translate_batch(all_sentences[:4])"
      ],
      "metadata": {
        "colab": {
          "base_uri": "https://localhost:8080/"
        },
        "id": "N5Fg7B5Hb4Kv",
        "outputId": "6380d4a0-8fc5-4bb3-8ea0-806339644731"
      },
      "execution_count": null,
      "outputs": [
        {
          "output_type": "execute_result",
          "data": {
            "text/plain": [
              "['Приветствую тебя, Хоразин! Приветствую тебя, Бетсаида! Если бы народ Тирский и Сидонский видел чудеса, которые явились вам, то они уже давно одевались в одежду скорби и не сидели бы над кулупами.',\n",
              " 'Здесь работающих — эти естественные условия, сбор съедобных грибов.',\n",
              " 'Включает в себя Адамсон Генрих, где открылся Музей чисел Койдула.',\n",
              " 'Сплыть, девочки!']"
            ]
          },
          "metadata": {},
          "execution_count": 316
        }
      ]
    },
    {
      "cell_type": "code",
      "source": [
        "batch_size = 16"
      ],
      "metadata": {
        "id": "SgE_ly5vbuRA"
      },
      "execution_count": null,
      "outputs": []
    },
    {
      "cell_type": "code",
      "source": [
        "all_translated = []"
      ],
      "metadata": {
        "id": "PZi4s_Ux1Q1r"
      },
      "execution_count": null,
      "outputs": []
    },
    {
      "cell_type": "code",
      "source": [],
      "metadata": {
        "colab": {
          "base_uri": "https://localhost:8080/"
        },
        "id": "FwtQhJMe1TFT",
        "outputId": "f94ae86e-15f0-41e8-c925-9d7a36fefacd"
      },
      "execution_count": null,
      "outputs": [
        {
          "output_type": "execute_result",
          "data": {
            "text/plain": [
              "[]"
            ]
          },
          "metadata": {},
          "execution_count": 325
        }
      ]
    },
    {
      "cell_type": "code",
      "source": [
        "cleanup()\n",
        "\n",
        "\n",
        "for i in trange(0, len(all_sentences), batch_size):\n",
        "    batch = all_sentences[i: i + batch_size]\n",
        "    if all_translated[i: i + batch_size]:\n",
        "        continue\n",
        "    try:\n",
        "        all_translated.extend(translate_batch(batch))\n",
        "    except RuntimeError:\n",
        "        print('error at', i)\n",
        "        cleanup()\n",
        "        bb = []\n",
        "        for b in batch:\n",
        "            try:\n",
        "                bb.append(translate_batch([b])[0])\n",
        "            except RuntimeError:\n",
        "                print('mega error!')\n",
        "                bb.append(b)\n",
        "                cleanup()\n",
        "        all_translated.extend(bb)\n",
        "\n",
        "    if i and (i // batch_size) % 100 == 0:\n",
        "        with open('/gd/MyDrive/datasets/nlp/myv_corpus/myv_mono.v1.back_translated.v1.json', 'w') as f:\n",
        "            json.dump({'original': all_sentences, 'translated': all_translated}, f, ensure_ascii=False, indent=2)\n",
        "        print(i, 'saving...')"
      ],
      "metadata": {
        "colab": {
          "base_uri": "https://localhost:8080/",
          "height": 1000,
          "referenced_widgets": [
            "ee5c482fdd8445b780fc56f9c7137e39",
            "94347f2c242947879626d8e0a962ddb2",
            "ea5025b6b11a424da06174fdb96aa2d3",
            "91b966ede37a412a9e6c87f79a5f3140",
            "a05e5daa2064453382053efbf3635b8c",
            "c90679376b4b4a459402d91d20979e11",
            "dcf7a1c2723a44099aecbad9925a29cb",
            "5cdafc0673b74674ab97800d8e288842",
            "a26e99f1e56147d8a1d7c0bb3f6186f1",
            "88b4346e6c624ec1ae35657ac23c5579",
            "01dcca261c504ad6bc50c0969fd32a7f"
          ]
        },
        "id": "vG7Vaho5nJlc",
        "outputId": "47d51cc5-20f3-4ad1-c589-1e7e06ade829"
      },
      "execution_count": null,
      "outputs": [
        {
          "output_type": "display_data",
          "data": {
            "text/plain": [
              "  0%|          | 0/20854 [00:00<?, ?it/s]"
            ],
            "application/vnd.jupyter.widget-view+json": {
              "version_major": 2,
              "version_minor": 0,
              "model_id": "ee5c482fdd8445b780fc56f9c7137e39"
            }
          },
          "metadata": {}
        },
        {
          "output_type": "stream",
          "name": "stdout",
          "text": [
            "40000 saving...\n",
            "41600 saving...\n",
            "43200 saving...\n",
            "44800 saving...\n",
            "46400 saving...\n",
            "48000 saving...\n",
            "49600 saving...\n",
            "51200 saving...\n",
            "52800 saving...\n",
            "54400 saving...\n",
            "56000 saving...\n",
            "57600 saving...\n",
            "59200 saving...\n",
            "60800 saving...\n",
            "62400 saving...\n",
            "64000 saving...\n",
            "65600 saving...\n",
            "67200 saving...\n",
            "68800 saving...\n",
            "70400 saving...\n",
            "72000 saving...\n",
            "73600 saving...\n",
            "75200 saving...\n",
            "76800 saving...\n",
            "78400 saving...\n",
            "80000 saving...\n",
            "81600 saving...\n",
            "83200 saving...\n",
            "84800 saving...\n",
            "86400 saving...\n",
            "88000 saving...\n",
            "89600 saving...\n",
            "91200 saving...\n",
            "92800 saving...\n",
            "94400 saving...\n",
            "96000 saving...\n",
            "97600 saving...\n",
            "99200 saving...\n",
            "100800 saving...\n",
            "102400 saving...\n",
            "104000 saving...\n",
            "105600 saving...\n",
            "107200 saving...\n",
            "108800 saving...\n",
            "110400 saving...\n",
            "112000 saving...\n",
            "113600 saving...\n",
            "115200 saving...\n",
            "116800 saving...\n",
            "118400 saving...\n",
            "120000 saving...\n",
            "121600 saving...\n",
            "123200 saving...\n",
            "124800 saving...\n",
            "126400 saving...\n",
            "128000 saving...\n",
            "129600 saving...\n",
            "131200 saving...\n",
            "132800 saving...\n",
            "134400 saving...\n",
            "136000 saving...\n",
            "137600 saving...\n",
            "139200 saving...\n",
            "140800 saving...\n",
            "142400 saving...\n",
            "144000 saving...\n",
            "145600 saving...\n",
            "147200 saving...\n",
            "148800 saving...\n",
            "150400 saving...\n",
            "152000 saving...\n",
            "153600 saving...\n",
            "155200 saving...\n",
            "156800 saving...\n",
            "158400 saving...\n",
            "160000 saving...\n",
            "161600 saving...\n",
            "163200 saving...\n",
            "164800 saving...\n",
            "166400 saving...\n",
            "168000 saving...\n",
            "169600 saving...\n",
            "171200 saving...\n",
            "172800 saving...\n",
            "174400 saving...\n",
            "176000 saving...\n",
            "177600 saving...\n",
            "179200 saving...\n",
            "180800 saving...\n",
            "182400 saving...\n",
            "184000 saving...\n",
            "185600 saving...\n",
            "187200 saving...\n",
            "188800 saving...\n",
            "190400 saving...\n",
            "192000 saving...\n",
            "193600 saving...\n",
            "195200 saving...\n",
            "196800 saving...\n",
            "198400 saving...\n",
            "200000 saving...\n",
            "201600 saving...\n",
            "203200 saving...\n",
            "204800 saving...\n",
            "206400 saving...\n",
            "208000 saving...\n",
            "209600 saving...\n",
            "211200 saving...\n",
            "212800 saving...\n",
            "214400 saving...\n",
            "216000 saving...\n",
            "217600 saving...\n",
            "219200 saving...\n",
            "220800 saving...\n",
            "222400 saving...\n",
            "224000 saving...\n",
            "225600 saving...\n",
            "227200 saving...\n",
            "228800 saving...\n",
            "230400 saving...\n",
            "232000 saving...\n",
            "233600 saving...\n",
            "235200 saving...\n",
            "236800 saving...\n",
            "238400 saving...\n",
            "240000 saving...\n",
            "241600 saving...\n",
            "243200 saving...\n",
            "244800 saving...\n",
            "246400 saving...\n",
            "248000 saving...\n",
            "249600 saving...\n",
            "251200 saving...\n",
            "252800 saving...\n",
            "254400 saving...\n",
            "256000 saving...\n",
            "257600 saving...\n",
            "259200 saving...\n",
            "260800 saving...\n",
            "262400 saving...\n",
            "264000 saving...\n",
            "265600 saving...\n",
            "267200 saving...\n",
            "268800 saving...\n",
            "270400 saving...\n",
            "272000 saving...\n",
            "273600 saving...\n",
            "275200 saving...\n",
            "276800 saving...\n",
            "278400 saving...\n",
            "280000 saving...\n",
            "281600 saving...\n",
            "283200 saving...\n",
            "284800 saving...\n",
            "286400 saving...\n",
            "288000 saving...\n",
            "289600 saving...\n",
            "291200 saving...\n",
            "292800 saving...\n",
            "294400 saving...\n",
            "296000 saving...\n",
            "297600 saving...\n",
            "299200 saving...\n",
            "300800 saving...\n",
            "302400 saving...\n",
            "304000 saving...\n",
            "305600 saving...\n",
            "307200 saving...\n",
            "308800 saving...\n",
            "310400 saving...\n",
            "312000 saving...\n",
            "313600 saving...\n",
            "315200 saving...\n",
            "316800 saving...\n",
            "318400 saving...\n",
            "320000 saving...\n",
            "321600 saving...\n",
            "323200 saving...\n",
            "324800 saving...\n",
            "326400 saving...\n",
            "328000 saving...\n",
            "329600 saving...\n",
            "331200 saving...\n",
            "332800 saving...\n"
          ]
        }
      ]
    },
    {
      "cell_type": "code",
      "source": [
        "with open('/gd/MyDrive/datasets/nlp/myv_corpus/myv_mono.v1.back_translated.v1.json', 'w') as f:\n",
        "    json.dump({'original': all_sentences, 'translated': all_translated}, f, ensure_ascii=False, indent=2)"
      ],
      "metadata": {
        "id": "li-lR1XMdS-w"
      },
      "execution_count": null,
      "outputs": []
    },
    {
      "cell_type": "code",
      "source": [],
      "metadata": {
        "id": "S-QSc2hDfpRV"
      },
      "execution_count": null,
      "outputs": []
    }
  ]
}