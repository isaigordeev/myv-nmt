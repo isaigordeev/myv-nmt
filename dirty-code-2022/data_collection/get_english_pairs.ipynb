{
 "cells": [
  {
   "cell_type": "code",
   "execution_count": 2,
   "id": "f9f36c9e",
   "metadata": {},
   "outputs": [],
   "source": [
    "# !git clone https://github.com/UniversalDependencies/UD_Erzya-JR"
   ]
  },
  {
   "cell_type": "code",
   "execution_count": 4,
   "id": "a4ee1370",
   "metadata": {},
   "outputs": [],
   "source": [
    "with open('UD_Erzya-JR/myv_jr-ud-test.conllu', 'r') as f:\n",
    "    raw = f.read()"
   ]
  },
  {
   "cell_type": "code",
   "execution_count": 18,
   "id": "1d110c08",
   "metadata": {},
   "outputs": [
    {
     "name": "stdout",
     "output_type": "stream",
     "text": [
      "441 309\n"
     ]
    }
   ],
   "source": [
    "myv_en = []\n",
    "myv_fi = []\n",
    "\n",
    "for chunk in raw.split('\\n\\n'):\n",
    "    if '# text =' not in chunk:\n",
    "        continue\n",
    "    lines = chunk.split('\\n')\n",
    "    text, text_en, text_fi = None, None, None\n",
    "    for line in lines:\n",
    "        if line.startswith('# text = '):\n",
    "            text = line[9:]\n",
    "        if line.startswith('# text_en = '):\n",
    "            text_en = line[12:]\n",
    "        if line.startswith('# text_fi = '):\n",
    "            text_fi = line[12:]  \n",
    "    if text and text_en:\n",
    "        myv_en.append([text, text_en])\n",
    "    if text and text_fi:\n",
    "        myv_fi.append([text, text_fi])\n",
    "        \n",
    "print(len(myv_en), len(myv_fi))"
   ]
  },
  {
   "cell_type": "code",
   "execution_count": 19,
   "id": "61de5295",
   "metadata": {},
   "outputs": [],
   "source": [
    "import random"
   ]
  },
  {
   "cell_type": "code",
   "execution_count": 41,
   "id": "291f8b14",
   "metadata": {},
   "outputs": [
    {
     "data": {
      "text/plain": [
       "['Чопоньбелев жо, ракшатнень самодо ков седе икеле пакшатне, окойники, кармить менеме, ды вейке омбоце мельга пуромить тей, налксема кужос.',\n",
       " 'On toward evening, however, well before the cattle are brought home, the children begin, one after the other, to gather in the play field.']"
      ]
     },
     "execution_count": 41,
     "metadata": {},
     "output_type": "execute_result"
    }
   ],
   "source": [
    "random.choice(myv_en)"
   ]
  },
  {
   "cell_type": "code",
   "execution_count": 42,
   "id": "5eba93fc",
   "metadata": {},
   "outputs": [],
   "source": [
    "import json"
   ]
  },
  {
   "cell_type": "code",
   "execution_count": 46,
   "id": "69ec9198",
   "metadata": {},
   "outputs": [],
   "source": [
    "from sklearn.model_selection import train_test_split"
   ]
  },
  {
   "cell_type": "code",
   "execution_count": 49,
   "id": "1acbdf54",
   "metadata": {},
   "outputs": [],
   "source": [
    "myv_en_dev, myv_en_test = train_test_split(myv_en, test_size=0.5, random_state=1)\n",
    "myv_fi_dev, myv_fi_test = train_test_split(myv_fi, test_size=0.5, random_state=1)"
   ]
  },
  {
   "cell_type": "code",
   "execution_count": 50,
   "id": "058839a9",
   "metadata": {},
   "outputs": [],
   "source": [
    "with open('corpus/myv-en-ud-dev.json', 'w') as f:\n",
    "    json.dump(myv_en_dev, f, indent=2, ensure_ascii=False)\n",
    "with open('corpus/myv-en-ud-test.json', 'w') as f:\n",
    "    json.dump(myv_en_test, f, indent=2, ensure_ascii=False)\n",
    "\n",
    "with open('corpus/myv-fi-ud-dev.json', 'w') as f:\n",
    "    json.dump(myv_fi_dev, f, indent=2, ensure_ascii=False)\n",
    "with open('corpus/myv-fi-ud-test.json', 'w') as f:\n",
    "    json.dump(myv_fi_test, f, indent=2, ensure_ascii=False)"
   ]
  },
  {
   "cell_type": "code",
   "execution_count": null,
   "id": "7db5f179",
   "metadata": {},
   "outputs": [],
   "source": []
  }
 ],
 "metadata": {
  "kernelspec": {
   "display_name": "Python 3 (ipykernel)",
   "language": "python",
   "name": "python3"
  },
  "language_info": {
   "codemirror_mode": {
    "name": "ipython",
    "version": 3
   },
   "file_extension": ".py",
   "mimetype": "text/x-python",
   "name": "python",
   "nbconvert_exporter": "python",
   "pygments_lexer": "ipython3",
   "version": "3.9.6"
  }
 },
 "nbformat": 4,
 "nbformat_minor": 5
}
