{
  "nbformat": 4,
  "nbformat_minor": 0,
  "metadata": {
    "colab": {
      "provenance": [],
      "collapsed_sections": []
    },
    "kernelspec": {
      "name": "python3",
      "display_name": "Python 3"
    },
    "language_info": {
      "name": "python"
    },
    "widgets": {
      "application/vnd.jupyter.widget-state+json": {
        "78ea661046fd4236b3cc022cfa5d57df": {
          "model_module": "@jupyter-widgets/controls",
          "model_name": "HBoxModel",
          "model_module_version": "1.5.0",
          "state": {
            "_dom_classes": [],
            "_model_module": "@jupyter-widgets/controls",
            "_model_module_version": "1.5.0",
            "_model_name": "HBoxModel",
            "_view_count": null,
            "_view_module": "@jupyter-widgets/controls",
            "_view_module_version": "1.5.0",
            "_view_name": "HBoxView",
            "box_style": "",
            "children": [
              "IPY_MODEL_f71d1696a7b74b51bc220ae007391376",
              "IPY_MODEL_d12cf8814e214f09a35312aa4aa408fb",
              "IPY_MODEL_7bccd5f4623a45299833736d064d7dde"
            ],
            "layout": "IPY_MODEL_4126ba48dc1442bf8d8aa3b8a7377a8b"
          }
        },
        "f71d1696a7b74b51bc220ae007391376": {
          "model_module": "@jupyter-widgets/controls",
          "model_name": "HTMLModel",
          "model_module_version": "1.5.0",
          "state": {
            "_dom_classes": [],
            "_model_module": "@jupyter-widgets/controls",
            "_model_module_version": "1.5.0",
            "_model_name": "HTMLModel",
            "_view_count": null,
            "_view_module": "@jupyter-widgets/controls",
            "_view_module_version": "1.5.0",
            "_view_name": "HTMLView",
            "description": "",
            "description_tooltip": null,
            "layout": "IPY_MODEL_aba61d8a554a46ee816ce8e58c1325a1",
            "placeholder": "​",
            "style": "IPY_MODEL_5345f3c87e974c328f457d768434cc24",
            "value": "100%"
          }
        },
        "d12cf8814e214f09a35312aa4aa408fb": {
          "model_module": "@jupyter-widgets/controls",
          "model_name": "FloatProgressModel",
          "model_module_version": "1.5.0",
          "state": {
            "_dom_classes": [],
            "_model_module": "@jupyter-widgets/controls",
            "_model_module_version": "1.5.0",
            "_model_name": "FloatProgressModel",
            "_view_count": null,
            "_view_module": "@jupyter-widgets/controls",
            "_view_module_version": "1.5.0",
            "_view_name": "ProgressView",
            "bar_style": "success",
            "description": "",
            "description_tooltip": null,
            "layout": "IPY_MODEL_b22a2a175fc34202b1dd463ba47041ab",
            "max": 333651,
            "min": 0,
            "orientation": "horizontal",
            "style": "IPY_MODEL_5c6662cec58f497b89125d880f5f45cf",
            "value": 333651
          }
        },
        "7bccd5f4623a45299833736d064d7dde": {
          "model_module": "@jupyter-widgets/controls",
          "model_name": "HTMLModel",
          "model_module_version": "1.5.0",
          "state": {
            "_dom_classes": [],
            "_model_module": "@jupyter-widgets/controls",
            "_model_module_version": "1.5.0",
            "_model_name": "HTMLModel",
            "_view_count": null,
            "_view_module": "@jupyter-widgets/controls",
            "_view_module_version": "1.5.0",
            "_view_name": "HTMLView",
            "description": "",
            "description_tooltip": null,
            "layout": "IPY_MODEL_a94c2747e25441f8bdf072c077848bfe",
            "placeholder": "​",
            "style": "IPY_MODEL_8d47606abfcd414ebc51d4b54561b881",
            "value": " 333651/333651 [00:04&lt;00:00, 122731.95it/s]"
          }
        },
        "4126ba48dc1442bf8d8aa3b8a7377a8b": {
          "model_module": "@jupyter-widgets/base",
          "model_name": "LayoutModel",
          "model_module_version": "1.2.0",
          "state": {
            "_model_module": "@jupyter-widgets/base",
            "_model_module_version": "1.2.0",
            "_model_name": "LayoutModel",
            "_view_count": null,
            "_view_module": "@jupyter-widgets/base",
            "_view_module_version": "1.2.0",
            "_view_name": "LayoutView",
            "align_content": null,
            "align_items": null,
            "align_self": null,
            "border": null,
            "bottom": null,
            "display": null,
            "flex": null,
            "flex_flow": null,
            "grid_area": null,
            "grid_auto_columns": null,
            "grid_auto_flow": null,
            "grid_auto_rows": null,
            "grid_column": null,
            "grid_gap": null,
            "grid_row": null,
            "grid_template_areas": null,
            "grid_template_columns": null,
            "grid_template_rows": null,
            "height": null,
            "justify_content": null,
            "justify_items": null,
            "left": null,
            "margin": null,
            "max_height": null,
            "max_width": null,
            "min_height": null,
            "min_width": null,
            "object_fit": null,
            "object_position": null,
            "order": null,
            "overflow": null,
            "overflow_x": null,
            "overflow_y": null,
            "padding": null,
            "right": null,
            "top": null,
            "visibility": null,
            "width": null
          }
        },
        "aba61d8a554a46ee816ce8e58c1325a1": {
          "model_module": "@jupyter-widgets/base",
          "model_name": "LayoutModel",
          "model_module_version": "1.2.0",
          "state": {
            "_model_module": "@jupyter-widgets/base",
            "_model_module_version": "1.2.0",
            "_model_name": "LayoutModel",
            "_view_count": null,
            "_view_module": "@jupyter-widgets/base",
            "_view_module_version": "1.2.0",
            "_view_name": "LayoutView",
            "align_content": null,
            "align_items": null,
            "align_self": null,
            "border": null,
            "bottom": null,
            "display": null,
            "flex": null,
            "flex_flow": null,
            "grid_area": null,
            "grid_auto_columns": null,
            "grid_auto_flow": null,
            "grid_auto_rows": null,
            "grid_column": null,
            "grid_gap": null,
            "grid_row": null,
            "grid_template_areas": null,
            "grid_template_columns": null,
            "grid_template_rows": null,
            "height": null,
            "justify_content": null,
            "justify_items": null,
            "left": null,
            "margin": null,
            "max_height": null,
            "max_width": null,
            "min_height": null,
            "min_width": null,
            "object_fit": null,
            "object_position": null,
            "order": null,
            "overflow": null,
            "overflow_x": null,
            "overflow_y": null,
            "padding": null,
            "right": null,
            "top": null,
            "visibility": null,
            "width": null
          }
        },
        "5345f3c87e974c328f457d768434cc24": {
          "model_module": "@jupyter-widgets/controls",
          "model_name": "DescriptionStyleModel",
          "model_module_version": "1.5.0",
          "state": {
            "_model_module": "@jupyter-widgets/controls",
            "_model_module_version": "1.5.0",
            "_model_name": "DescriptionStyleModel",
            "_view_count": null,
            "_view_module": "@jupyter-widgets/base",
            "_view_module_version": "1.2.0",
            "_view_name": "StyleView",
            "description_width": ""
          }
        },
        "b22a2a175fc34202b1dd463ba47041ab": {
          "model_module": "@jupyter-widgets/base",
          "model_name": "LayoutModel",
          "model_module_version": "1.2.0",
          "state": {
            "_model_module": "@jupyter-widgets/base",
            "_model_module_version": "1.2.0",
            "_model_name": "LayoutModel",
            "_view_count": null,
            "_view_module": "@jupyter-widgets/base",
            "_view_module_version": "1.2.0",
            "_view_name": "LayoutView",
            "align_content": null,
            "align_items": null,
            "align_self": null,
            "border": null,
            "bottom": null,
            "display": null,
            "flex": null,
            "flex_flow": null,
            "grid_area": null,
            "grid_auto_columns": null,
            "grid_auto_flow": null,
            "grid_auto_rows": null,
            "grid_column": null,
            "grid_gap": null,
            "grid_row": null,
            "grid_template_areas": null,
            "grid_template_columns": null,
            "grid_template_rows": null,
            "height": null,
            "justify_content": null,
            "justify_items": null,
            "left": null,
            "margin": null,
            "max_height": null,
            "max_width": null,
            "min_height": null,
            "min_width": null,
            "object_fit": null,
            "object_position": null,
            "order": null,
            "overflow": null,
            "overflow_x": null,
            "overflow_y": null,
            "padding": null,
            "right": null,
            "top": null,
            "visibility": null,
            "width": null
          }
        },
        "5c6662cec58f497b89125d880f5f45cf": {
          "model_module": "@jupyter-widgets/controls",
          "model_name": "ProgressStyleModel",
          "model_module_version": "1.5.0",
          "state": {
            "_model_module": "@jupyter-widgets/controls",
            "_model_module_version": "1.5.0",
            "_model_name": "ProgressStyleModel",
            "_view_count": null,
            "_view_module": "@jupyter-widgets/base",
            "_view_module_version": "1.2.0",
            "_view_name": "StyleView",
            "bar_color": null,
            "description_width": ""
          }
        },
        "a94c2747e25441f8bdf072c077848bfe": {
          "model_module": "@jupyter-widgets/base",
          "model_name": "LayoutModel",
          "model_module_version": "1.2.0",
          "state": {
            "_model_module": "@jupyter-widgets/base",
            "_model_module_version": "1.2.0",
            "_model_name": "LayoutModel",
            "_view_count": null,
            "_view_module": "@jupyter-widgets/base",
            "_view_module_version": "1.2.0",
            "_view_name": "LayoutView",
            "align_content": null,
            "align_items": null,
            "align_self": null,
            "border": null,
            "bottom": null,
            "display": null,
            "flex": null,
            "flex_flow": null,
            "grid_area": null,
            "grid_auto_columns": null,
            "grid_auto_flow": null,
            "grid_auto_rows": null,
            "grid_column": null,
            "grid_gap": null,
            "grid_row": null,
            "grid_template_areas": null,
            "grid_template_columns": null,
            "grid_template_rows": null,
            "height": null,
            "justify_content": null,
            "justify_items": null,
            "left": null,
            "margin": null,
            "max_height": null,
            "max_width": null,
            "min_height": null,
            "min_width": null,
            "object_fit": null,
            "object_position": null,
            "order": null,
            "overflow": null,
            "overflow_x": null,
            "overflow_y": null,
            "padding": null,
            "right": null,
            "top": null,
            "visibility": null,
            "width": null
          }
        },
        "8d47606abfcd414ebc51d4b54561b881": {
          "model_module": "@jupyter-widgets/controls",
          "model_name": "DescriptionStyleModel",
          "model_module_version": "1.5.0",
          "state": {
            "_model_module": "@jupyter-widgets/controls",
            "_model_module_version": "1.5.0",
            "_model_name": "DescriptionStyleModel",
            "_view_count": null,
            "_view_module": "@jupyter-widgets/base",
            "_view_module_version": "1.2.0",
            "_view_name": "StyleView",
            "description_width": ""
          }
        },
        "f77f547c232f4e6a823bdc9a2ab626eb": {
          "model_module": "@jupyter-widgets/controls",
          "model_name": "HBoxModel",
          "model_module_version": "1.5.0",
          "state": {
            "_dom_classes": [],
            "_model_module": "@jupyter-widgets/controls",
            "_model_module_version": "1.5.0",
            "_model_name": "HBoxModel",
            "_view_count": null,
            "_view_module": "@jupyter-widgets/controls",
            "_view_module_version": "1.5.0",
            "_view_name": "HBoxView",
            "box_style": "",
            "children": [
              "IPY_MODEL_1f228a4d5e164bb6b519a905bea3f6fa",
              "IPY_MODEL_86435469213a4679a60d95b1267e5e90",
              "IPY_MODEL_cdb3454434d44ce08dd1a264c439ef16"
            ],
            "layout": "IPY_MODEL_682ef0cdef90427caf03939eac808dd1"
          }
        },
        "1f228a4d5e164bb6b519a905bea3f6fa": {
          "model_module": "@jupyter-widgets/controls",
          "model_name": "HTMLModel",
          "model_module_version": "1.5.0",
          "state": {
            "_dom_classes": [],
            "_model_module": "@jupyter-widgets/controls",
            "_model_module_version": "1.5.0",
            "_model_name": "HTMLModel",
            "_view_count": null,
            "_view_module": "@jupyter-widgets/controls",
            "_view_module_version": "1.5.0",
            "_view_name": "HTMLView",
            "description": "",
            "description_tooltip": null,
            "layout": "IPY_MODEL_b3ec90a4d9034c83b6847dedbcaca3a8",
            "placeholder": "​",
            "style": "IPY_MODEL_560f4d203bf341b6a1c72b573026a182",
            "value": "100%"
          }
        },
        "86435469213a4679a60d95b1267e5e90": {
          "model_module": "@jupyter-widgets/controls",
          "model_name": "FloatProgressModel",
          "model_module_version": "1.5.0",
          "state": {
            "_dom_classes": [],
            "_model_module": "@jupyter-widgets/controls",
            "_model_module_version": "1.5.0",
            "_model_name": "FloatProgressModel",
            "_view_count": null,
            "_view_module": "@jupyter-widgets/controls",
            "_view_module_version": "1.5.0",
            "_view_name": "ProgressView",
            "bar_style": "success",
            "description": "",
            "description_tooltip": null,
            "layout": "IPY_MODEL_40b4e9f32ce34103903af7df75769306",
            "max": 333651,
            "min": 0,
            "orientation": "horizontal",
            "style": "IPY_MODEL_4779a6ed02a34d50b6578a48b55ef835",
            "value": 333651
          }
        },
        "cdb3454434d44ce08dd1a264c439ef16": {
          "model_module": "@jupyter-widgets/controls",
          "model_name": "HTMLModel",
          "model_module_version": "1.5.0",
          "state": {
            "_dom_classes": [],
            "_model_module": "@jupyter-widgets/controls",
            "_model_module_version": "1.5.0",
            "_model_name": "HTMLModel",
            "_view_count": null,
            "_view_module": "@jupyter-widgets/controls",
            "_view_module_version": "1.5.0",
            "_view_name": "HTMLView",
            "description": "",
            "description_tooltip": null,
            "layout": "IPY_MODEL_a5729a9bc66041df955b7a6286f472d2",
            "placeholder": "​",
            "style": "IPY_MODEL_669f3ed2121d4caca2b5437c8cc29913",
            "value": " 333651/333651 [01:18&lt;00:00, 4418.74it/s]"
          }
        },
        "682ef0cdef90427caf03939eac808dd1": {
          "model_module": "@jupyter-widgets/base",
          "model_name": "LayoutModel",
          "model_module_version": "1.2.0",
          "state": {
            "_model_module": "@jupyter-widgets/base",
            "_model_module_version": "1.2.0",
            "_model_name": "LayoutModel",
            "_view_count": null,
            "_view_module": "@jupyter-widgets/base",
            "_view_module_version": "1.2.0",
            "_view_name": "LayoutView",
            "align_content": null,
            "align_items": null,
            "align_self": null,
            "border": null,
            "bottom": null,
            "display": null,
            "flex": null,
            "flex_flow": null,
            "grid_area": null,
            "grid_auto_columns": null,
            "grid_auto_flow": null,
            "grid_auto_rows": null,
            "grid_column": null,
            "grid_gap": null,
            "grid_row": null,
            "grid_template_areas": null,
            "grid_template_columns": null,
            "grid_template_rows": null,
            "height": null,
            "justify_content": null,
            "justify_items": null,
            "left": null,
            "margin": null,
            "max_height": null,
            "max_width": null,
            "min_height": null,
            "min_width": null,
            "object_fit": null,
            "object_position": null,
            "order": null,
            "overflow": null,
            "overflow_x": null,
            "overflow_y": null,
            "padding": null,
            "right": null,
            "top": null,
            "visibility": null,
            "width": null
          }
        },
        "b3ec90a4d9034c83b6847dedbcaca3a8": {
          "model_module": "@jupyter-widgets/base",
          "model_name": "LayoutModel",
          "model_module_version": "1.2.0",
          "state": {
            "_model_module": "@jupyter-widgets/base",
            "_model_module_version": "1.2.0",
            "_model_name": "LayoutModel",
            "_view_count": null,
            "_view_module": "@jupyter-widgets/base",
            "_view_module_version": "1.2.0",
            "_view_name": "LayoutView",
            "align_content": null,
            "align_items": null,
            "align_self": null,
            "border": null,
            "bottom": null,
            "display": null,
            "flex": null,
            "flex_flow": null,
            "grid_area": null,
            "grid_auto_columns": null,
            "grid_auto_flow": null,
            "grid_auto_rows": null,
            "grid_column": null,
            "grid_gap": null,
            "grid_row": null,
            "grid_template_areas": null,
            "grid_template_columns": null,
            "grid_template_rows": null,
            "height": null,
            "justify_content": null,
            "justify_items": null,
            "left": null,
            "margin": null,
            "max_height": null,
            "max_width": null,
            "min_height": null,
            "min_width": null,
            "object_fit": null,
            "object_position": null,
            "order": null,
            "overflow": null,
            "overflow_x": null,
            "overflow_y": null,
            "padding": null,
            "right": null,
            "top": null,
            "visibility": null,
            "width": null
          }
        },
        "560f4d203bf341b6a1c72b573026a182": {
          "model_module": "@jupyter-widgets/controls",
          "model_name": "DescriptionStyleModel",
          "model_module_version": "1.5.0",
          "state": {
            "_model_module": "@jupyter-widgets/controls",
            "_model_module_version": "1.5.0",
            "_model_name": "DescriptionStyleModel",
            "_view_count": null,
            "_view_module": "@jupyter-widgets/base",
            "_view_module_version": "1.2.0",
            "_view_name": "StyleView",
            "description_width": ""
          }
        },
        "40b4e9f32ce34103903af7df75769306": {
          "model_module": "@jupyter-widgets/base",
          "model_name": "LayoutModel",
          "model_module_version": "1.2.0",
          "state": {
            "_model_module": "@jupyter-widgets/base",
            "_model_module_version": "1.2.0",
            "_model_name": "LayoutModel",
            "_view_count": null,
            "_view_module": "@jupyter-widgets/base",
            "_view_module_version": "1.2.0",
            "_view_name": "LayoutView",
            "align_content": null,
            "align_items": null,
            "align_self": null,
            "border": null,
            "bottom": null,
            "display": null,
            "flex": null,
            "flex_flow": null,
            "grid_area": null,
            "grid_auto_columns": null,
            "grid_auto_flow": null,
            "grid_auto_rows": null,
            "grid_column": null,
            "grid_gap": null,
            "grid_row": null,
            "grid_template_areas": null,
            "grid_template_columns": null,
            "grid_template_rows": null,
            "height": null,
            "justify_content": null,
            "justify_items": null,
            "left": null,
            "margin": null,
            "max_height": null,
            "max_width": null,
            "min_height": null,
            "min_width": null,
            "object_fit": null,
            "object_position": null,
            "order": null,
            "overflow": null,
            "overflow_x": null,
            "overflow_y": null,
            "padding": null,
            "right": null,
            "top": null,
            "visibility": null,
            "width": null
          }
        },
        "4779a6ed02a34d50b6578a48b55ef835": {
          "model_module": "@jupyter-widgets/controls",
          "model_name": "ProgressStyleModel",
          "model_module_version": "1.5.0",
          "state": {
            "_model_module": "@jupyter-widgets/controls",
            "_model_module_version": "1.5.0",
            "_model_name": "ProgressStyleModel",
            "_view_count": null,
            "_view_module": "@jupyter-widgets/base",
            "_view_module_version": "1.2.0",
            "_view_name": "StyleView",
            "bar_color": null,
            "description_width": ""
          }
        },
        "a5729a9bc66041df955b7a6286f472d2": {
          "model_module": "@jupyter-widgets/base",
          "model_name": "LayoutModel",
          "model_module_version": "1.2.0",
          "state": {
            "_model_module": "@jupyter-widgets/base",
            "_model_module_version": "1.2.0",
            "_model_name": "LayoutModel",
            "_view_count": null,
            "_view_module": "@jupyter-widgets/base",
            "_view_module_version": "1.2.0",
            "_view_name": "LayoutView",
            "align_content": null,
            "align_items": null,
            "align_self": null,
            "border": null,
            "bottom": null,
            "display": null,
            "flex": null,
            "flex_flow": null,
            "grid_area": null,
            "grid_auto_columns": null,
            "grid_auto_flow": null,
            "grid_auto_rows": null,
            "grid_column": null,
            "grid_gap": null,
            "grid_row": null,
            "grid_template_areas": null,
            "grid_template_columns": null,
            "grid_template_rows": null,
            "height": null,
            "justify_content": null,
            "justify_items": null,
            "left": null,
            "margin": null,
            "max_height": null,
            "max_width": null,
            "min_height": null,
            "min_width": null,
            "object_fit": null,
            "object_position": null,
            "order": null,
            "overflow": null,
            "overflow_x": null,
            "overflow_y": null,
            "padding": null,
            "right": null,
            "top": null,
            "visibility": null,
            "width": null
          }
        },
        "669f3ed2121d4caca2b5437c8cc29913": {
          "model_module": "@jupyter-widgets/controls",
          "model_name": "DescriptionStyleModel",
          "model_module_version": "1.5.0",
          "state": {
            "_model_module": "@jupyter-widgets/controls",
            "_model_module_version": "1.5.0",
            "_model_name": "DescriptionStyleModel",
            "_view_count": null,
            "_view_module": "@jupyter-widgets/base",
            "_view_module_version": "1.2.0",
            "_view_name": "StyleView",
            "description_width": ""
          }
        },
        "fc8e2b5017f449848a166942ef88068e": {
          "model_module": "@jupyter-widgets/controls",
          "model_name": "HBoxModel",
          "model_module_version": "1.5.0",
          "state": {
            "_dom_classes": [],
            "_model_module": "@jupyter-widgets/controls",
            "_model_module_version": "1.5.0",
            "_model_name": "HBoxModel",
            "_view_count": null,
            "_view_module": "@jupyter-widgets/controls",
            "_view_module_version": "1.5.0",
            "_view_name": "HBoxView",
            "box_style": "",
            "children": [
              "IPY_MODEL_bf5c1faed2064c66818fd2b14f38d897",
              "IPY_MODEL_8c9900ad13b445fea4f284a5368727c8",
              "IPY_MODEL_2f4df9ad204d47a1bf5c4282540cd2cb"
            ],
            "layout": "IPY_MODEL_060e81691ebb462c96bc0cf802a3c10c"
          }
        },
        "bf5c1faed2064c66818fd2b14f38d897": {
          "model_module": "@jupyter-widgets/controls",
          "model_name": "HTMLModel",
          "model_module_version": "1.5.0",
          "state": {
            "_dom_classes": [],
            "_model_module": "@jupyter-widgets/controls",
            "_model_module_version": "1.5.0",
            "_model_name": "HTMLModel",
            "_view_count": null,
            "_view_module": "@jupyter-widgets/controls",
            "_view_module_version": "1.5.0",
            "_view_name": "HTMLView",
            "description": "",
            "description_tooltip": null,
            "layout": "IPY_MODEL_6a32626ebfc5467784566b63fdbb387e",
            "placeholder": "​",
            "style": "IPY_MODEL_13e6f37febc14d17b13fd1da47c4ef98",
            "value": "100%"
          }
        },
        "8c9900ad13b445fea4f284a5368727c8": {
          "model_module": "@jupyter-widgets/controls",
          "model_name": "FloatProgressModel",
          "model_module_version": "1.5.0",
          "state": {
            "_dom_classes": [],
            "_model_module": "@jupyter-widgets/controls",
            "_model_module_version": "1.5.0",
            "_model_name": "FloatProgressModel",
            "_view_count": null,
            "_view_module": "@jupyter-widgets/controls",
            "_view_module_version": "1.5.0",
            "_view_name": "ProgressView",
            "bar_style": "success",
            "description": "",
            "description_tooltip": null,
            "layout": "IPY_MODEL_d382ba34d52a4b96955f493d0f918199",
            "max": 423699,
            "min": 0,
            "orientation": "horizontal",
            "style": "IPY_MODEL_e5acaf6ec4c54627b31ff44779b1a89b",
            "value": 423699
          }
        },
        "2f4df9ad204d47a1bf5c4282540cd2cb": {
          "model_module": "@jupyter-widgets/controls",
          "model_name": "HTMLModel",
          "model_module_version": "1.5.0",
          "state": {
            "_dom_classes": [],
            "_model_module": "@jupyter-widgets/controls",
            "_model_module_version": "1.5.0",
            "_model_name": "HTMLModel",
            "_view_count": null,
            "_view_module": "@jupyter-widgets/controls",
            "_view_module_version": "1.5.0",
            "_view_name": "HTMLView",
            "description": "",
            "description_tooltip": null,
            "layout": "IPY_MODEL_fa45a4d9b6e344a1926f1736bb8431fb",
            "placeholder": "​",
            "style": "IPY_MODEL_4fda0fedc411403199d949717c63b6d8",
            "value": " 423699/423699 [00:04&lt;00:00, 100211.86it/s]"
          }
        },
        "060e81691ebb462c96bc0cf802a3c10c": {
          "model_module": "@jupyter-widgets/base",
          "model_name": "LayoutModel",
          "model_module_version": "1.2.0",
          "state": {
            "_model_module": "@jupyter-widgets/base",
            "_model_module_version": "1.2.0",
            "_model_name": "LayoutModel",
            "_view_count": null,
            "_view_module": "@jupyter-widgets/base",
            "_view_module_version": "1.2.0",
            "_view_name": "LayoutView",
            "align_content": null,
            "align_items": null,
            "align_self": null,
            "border": null,
            "bottom": null,
            "display": null,
            "flex": null,
            "flex_flow": null,
            "grid_area": null,
            "grid_auto_columns": null,
            "grid_auto_flow": null,
            "grid_auto_rows": null,
            "grid_column": null,
            "grid_gap": null,
            "grid_row": null,
            "grid_template_areas": null,
            "grid_template_columns": null,
            "grid_template_rows": null,
            "height": null,
            "justify_content": null,
            "justify_items": null,
            "left": null,
            "margin": null,
            "max_height": null,
            "max_width": null,
            "min_height": null,
            "min_width": null,
            "object_fit": null,
            "object_position": null,
            "order": null,
            "overflow": null,
            "overflow_x": null,
            "overflow_y": null,
            "padding": null,
            "right": null,
            "top": null,
            "visibility": null,
            "width": null
          }
        },
        "6a32626ebfc5467784566b63fdbb387e": {
          "model_module": "@jupyter-widgets/base",
          "model_name": "LayoutModel",
          "model_module_version": "1.2.0",
          "state": {
            "_model_module": "@jupyter-widgets/base",
            "_model_module_version": "1.2.0",
            "_model_name": "LayoutModel",
            "_view_count": null,
            "_view_module": "@jupyter-widgets/base",
            "_view_module_version": "1.2.0",
            "_view_name": "LayoutView",
            "align_content": null,
            "align_items": null,
            "align_self": null,
            "border": null,
            "bottom": null,
            "display": null,
            "flex": null,
            "flex_flow": null,
            "grid_area": null,
            "grid_auto_columns": null,
            "grid_auto_flow": null,
            "grid_auto_rows": null,
            "grid_column": null,
            "grid_gap": null,
            "grid_row": null,
            "grid_template_areas": null,
            "grid_template_columns": null,
            "grid_template_rows": null,
            "height": null,
            "justify_content": null,
            "justify_items": null,
            "left": null,
            "margin": null,
            "max_height": null,
            "max_width": null,
            "min_height": null,
            "min_width": null,
            "object_fit": null,
            "object_position": null,
            "order": null,
            "overflow": null,
            "overflow_x": null,
            "overflow_y": null,
            "padding": null,
            "right": null,
            "top": null,
            "visibility": null,
            "width": null
          }
        },
        "13e6f37febc14d17b13fd1da47c4ef98": {
          "model_module": "@jupyter-widgets/controls",
          "model_name": "DescriptionStyleModel",
          "model_module_version": "1.5.0",
          "state": {
            "_model_module": "@jupyter-widgets/controls",
            "_model_module_version": "1.5.0",
            "_model_name": "DescriptionStyleModel",
            "_view_count": null,
            "_view_module": "@jupyter-widgets/base",
            "_view_module_version": "1.2.0",
            "_view_name": "StyleView",
            "description_width": ""
          }
        },
        "d382ba34d52a4b96955f493d0f918199": {
          "model_module": "@jupyter-widgets/base",
          "model_name": "LayoutModel",
          "model_module_version": "1.2.0",
          "state": {
            "_model_module": "@jupyter-widgets/base",
            "_model_module_version": "1.2.0",
            "_model_name": "LayoutModel",
            "_view_count": null,
            "_view_module": "@jupyter-widgets/base",
            "_view_module_version": "1.2.0",
            "_view_name": "LayoutView",
            "align_content": null,
            "align_items": null,
            "align_self": null,
            "border": null,
            "bottom": null,
            "display": null,
            "flex": null,
            "flex_flow": null,
            "grid_area": null,
            "grid_auto_columns": null,
            "grid_auto_flow": null,
            "grid_auto_rows": null,
            "grid_column": null,
            "grid_gap": null,
            "grid_row": null,
            "grid_template_areas": null,
            "grid_template_columns": null,
            "grid_template_rows": null,
            "height": null,
            "justify_content": null,
            "justify_items": null,
            "left": null,
            "margin": null,
            "max_height": null,
            "max_width": null,
            "min_height": null,
            "min_width": null,
            "object_fit": null,
            "object_position": null,
            "order": null,
            "overflow": null,
            "overflow_x": null,
            "overflow_y": null,
            "padding": null,
            "right": null,
            "top": null,
            "visibility": null,
            "width": null
          }
        },
        "e5acaf6ec4c54627b31ff44779b1a89b": {
          "model_module": "@jupyter-widgets/controls",
          "model_name": "ProgressStyleModel",
          "model_module_version": "1.5.0",
          "state": {
            "_model_module": "@jupyter-widgets/controls",
            "_model_module_version": "1.5.0",
            "_model_name": "ProgressStyleModel",
            "_view_count": null,
            "_view_module": "@jupyter-widgets/base",
            "_view_module_version": "1.2.0",
            "_view_name": "StyleView",
            "bar_color": null,
            "description_width": ""
          }
        },
        "fa45a4d9b6e344a1926f1736bb8431fb": {
          "model_module": "@jupyter-widgets/base",
          "model_name": "LayoutModel",
          "model_module_version": "1.2.0",
          "state": {
            "_model_module": "@jupyter-widgets/base",
            "_model_module_version": "1.2.0",
            "_model_name": "LayoutModel",
            "_view_count": null,
            "_view_module": "@jupyter-widgets/base",
            "_view_module_version": "1.2.0",
            "_view_name": "LayoutView",
            "align_content": null,
            "align_items": null,
            "align_self": null,
            "border": null,
            "bottom": null,
            "display": null,
            "flex": null,
            "flex_flow": null,
            "grid_area": null,
            "grid_auto_columns": null,
            "grid_auto_flow": null,
            "grid_auto_rows": null,
            "grid_column": null,
            "grid_gap": null,
            "grid_row": null,
            "grid_template_areas": null,
            "grid_template_columns": null,
            "grid_template_rows": null,
            "height": null,
            "justify_content": null,
            "justify_items": null,
            "left": null,
            "margin": null,
            "max_height": null,
            "max_width": null,
            "min_height": null,
            "min_width": null,
            "object_fit": null,
            "object_position": null,
            "order": null,
            "overflow": null,
            "overflow_x": null,
            "overflow_y": null,
            "padding": null,
            "right": null,
            "top": null,
            "visibility": null,
            "width": null
          }
        },
        "4fda0fedc411403199d949717c63b6d8": {
          "model_module": "@jupyter-widgets/controls",
          "model_name": "DescriptionStyleModel",
          "model_module_version": "1.5.0",
          "state": {
            "_model_module": "@jupyter-widgets/controls",
            "_model_module_version": "1.5.0",
            "_model_name": "DescriptionStyleModel",
            "_view_count": null,
            "_view_module": "@jupyter-widgets/base",
            "_view_module_version": "1.2.0",
            "_view_name": "StyleView",
            "description_width": ""
          }
        },
        "09e88dbe65e7493c92727ebb7796465a": {
          "model_module": "@jupyter-widgets/controls",
          "model_name": "HBoxModel",
          "model_module_version": "1.5.0",
          "state": {
            "_dom_classes": [],
            "_model_module": "@jupyter-widgets/controls",
            "_model_module_version": "1.5.0",
            "_model_name": "HBoxModel",
            "_view_count": null,
            "_view_module": "@jupyter-widgets/controls",
            "_view_module_version": "1.5.0",
            "_view_name": "HBoxView",
            "box_style": "",
            "children": [
              "IPY_MODEL_7e5fffe3bb3c4f168a5ce723b201db12",
              "IPY_MODEL_1f07c13fb0f642289ef30a33abcfe1b4",
              "IPY_MODEL_e965805cd25e4fad95d6341c5557c0a0"
            ],
            "layout": "IPY_MODEL_215d9d9d29b643d994223672b5aeea1f"
          }
        },
        "7e5fffe3bb3c4f168a5ce723b201db12": {
          "model_module": "@jupyter-widgets/controls",
          "model_name": "HTMLModel",
          "model_module_version": "1.5.0",
          "state": {
            "_dom_classes": [],
            "_model_module": "@jupyter-widgets/controls",
            "_model_module_version": "1.5.0",
            "_model_name": "HTMLModel",
            "_view_count": null,
            "_view_module": "@jupyter-widgets/controls",
            "_view_module_version": "1.5.0",
            "_view_name": "HTMLView",
            "description": "",
            "description_tooltip": null,
            "layout": "IPY_MODEL_e054557eaaa441c992f04b1149adf63f",
            "placeholder": "​",
            "style": "IPY_MODEL_5c5fa566e8d546e4b3e9675f93e633ed",
            "value": " 19%"
          }
        },
        "1f07c13fb0f642289ef30a33abcfe1b4": {
          "model_module": "@jupyter-widgets/controls",
          "model_name": "FloatProgressModel",
          "model_module_version": "1.5.0",
          "state": {
            "_dom_classes": [],
            "_model_module": "@jupyter-widgets/controls",
            "_model_module_version": "1.5.0",
            "_model_name": "FloatProgressModel",
            "_view_count": null,
            "_view_module": "@jupyter-widgets/controls",
            "_view_module_version": "1.5.0",
            "_view_name": "ProgressView",
            "bar_style": "danger",
            "description": "",
            "description_tooltip": null,
            "layout": "IPY_MODEL_f58f9835f83446bb89014984ec6be6a9",
            "max": 100000,
            "min": 0,
            "orientation": "horizontal",
            "style": "IPY_MODEL_18ff0fbbb0194564b9c3f437605800bf",
            "value": 19491
          }
        },
        "e965805cd25e4fad95d6341c5557c0a0": {
          "model_module": "@jupyter-widgets/controls",
          "model_name": "HTMLModel",
          "model_module_version": "1.5.0",
          "state": {
            "_dom_classes": [],
            "_model_module": "@jupyter-widgets/controls",
            "_model_module_version": "1.5.0",
            "_model_name": "HTMLModel",
            "_view_count": null,
            "_view_module": "@jupyter-widgets/controls",
            "_view_module_version": "1.5.0",
            "_view_name": "HTMLView",
            "description": "",
            "description_tooltip": null,
            "layout": "IPY_MODEL_13e0fb8f8e85439aa433fb87cd78413a",
            "placeholder": "​",
            "style": "IPY_MODEL_76a75b53826345bbb83565ba431bce33",
            "value": " 19491/100000 [00:39&lt;01:11, 1123.46it/s]"
          }
        },
        "215d9d9d29b643d994223672b5aeea1f": {
          "model_module": "@jupyter-widgets/base",
          "model_name": "LayoutModel",
          "model_module_version": "1.2.0",
          "state": {
            "_model_module": "@jupyter-widgets/base",
            "_model_module_version": "1.2.0",
            "_model_name": "LayoutModel",
            "_view_count": null,
            "_view_module": "@jupyter-widgets/base",
            "_view_module_version": "1.2.0",
            "_view_name": "LayoutView",
            "align_content": null,
            "align_items": null,
            "align_self": null,
            "border": null,
            "bottom": null,
            "display": null,
            "flex": null,
            "flex_flow": null,
            "grid_area": null,
            "grid_auto_columns": null,
            "grid_auto_flow": null,
            "grid_auto_rows": null,
            "grid_column": null,
            "grid_gap": null,
            "grid_row": null,
            "grid_template_areas": null,
            "grid_template_columns": null,
            "grid_template_rows": null,
            "height": null,
            "justify_content": null,
            "justify_items": null,
            "left": null,
            "margin": null,
            "max_height": null,
            "max_width": null,
            "min_height": null,
            "min_width": null,
            "object_fit": null,
            "object_position": null,
            "order": null,
            "overflow": null,
            "overflow_x": null,
            "overflow_y": null,
            "padding": null,
            "right": null,
            "top": null,
            "visibility": null,
            "width": null
          }
        },
        "e054557eaaa441c992f04b1149adf63f": {
          "model_module": "@jupyter-widgets/base",
          "model_name": "LayoutModel",
          "model_module_version": "1.2.0",
          "state": {
            "_model_module": "@jupyter-widgets/base",
            "_model_module_version": "1.2.0",
            "_model_name": "LayoutModel",
            "_view_count": null,
            "_view_module": "@jupyter-widgets/base",
            "_view_module_version": "1.2.0",
            "_view_name": "LayoutView",
            "align_content": null,
            "align_items": null,
            "align_self": null,
            "border": null,
            "bottom": null,
            "display": null,
            "flex": null,
            "flex_flow": null,
            "grid_area": null,
            "grid_auto_columns": null,
            "grid_auto_flow": null,
            "grid_auto_rows": null,
            "grid_column": null,
            "grid_gap": null,
            "grid_row": null,
            "grid_template_areas": null,
            "grid_template_columns": null,
            "grid_template_rows": null,
            "height": null,
            "justify_content": null,
            "justify_items": null,
            "left": null,
            "margin": null,
            "max_height": null,
            "max_width": null,
            "min_height": null,
            "min_width": null,
            "object_fit": null,
            "object_position": null,
            "order": null,
            "overflow": null,
            "overflow_x": null,
            "overflow_y": null,
            "padding": null,
            "right": null,
            "top": null,
            "visibility": null,
            "width": null
          }
        },
        "5c5fa566e8d546e4b3e9675f93e633ed": {
          "model_module": "@jupyter-widgets/controls",
          "model_name": "DescriptionStyleModel",
          "model_module_version": "1.5.0",
          "state": {
            "_model_module": "@jupyter-widgets/controls",
            "_model_module_version": "1.5.0",
            "_model_name": "DescriptionStyleModel",
            "_view_count": null,
            "_view_module": "@jupyter-widgets/base",
            "_view_module_version": "1.2.0",
            "_view_name": "StyleView",
            "description_width": ""
          }
        },
        "f58f9835f83446bb89014984ec6be6a9": {
          "model_module": "@jupyter-widgets/base",
          "model_name": "LayoutModel",
          "model_module_version": "1.2.0",
          "state": {
            "_model_module": "@jupyter-widgets/base",
            "_model_module_version": "1.2.0",
            "_model_name": "LayoutModel",
            "_view_count": null,
            "_view_module": "@jupyter-widgets/base",
            "_view_module_version": "1.2.0",
            "_view_name": "LayoutView",
            "align_content": null,
            "align_items": null,
            "align_self": null,
            "border": null,
            "bottom": null,
            "display": null,
            "flex": null,
            "flex_flow": null,
            "grid_area": null,
            "grid_auto_columns": null,
            "grid_auto_flow": null,
            "grid_auto_rows": null,
            "grid_column": null,
            "grid_gap": null,
            "grid_row": null,
            "grid_template_areas": null,
            "grid_template_columns": null,
            "grid_template_rows": null,
            "height": null,
            "justify_content": null,
            "justify_items": null,
            "left": null,
            "margin": null,
            "max_height": null,
            "max_width": null,
            "min_height": null,
            "min_width": null,
            "object_fit": null,
            "object_position": null,
            "order": null,
            "overflow": null,
            "overflow_x": null,
            "overflow_y": null,
            "padding": null,
            "right": null,
            "top": null,
            "visibility": null,
            "width": null
          }
        },
        "18ff0fbbb0194564b9c3f437605800bf": {
          "model_module": "@jupyter-widgets/controls",
          "model_name": "ProgressStyleModel",
          "model_module_version": "1.5.0",
          "state": {
            "_model_module": "@jupyter-widgets/controls",
            "_model_module_version": "1.5.0",
            "_model_name": "ProgressStyleModel",
            "_view_count": null,
            "_view_module": "@jupyter-widgets/base",
            "_view_module_version": "1.2.0",
            "_view_name": "StyleView",
            "bar_color": null,
            "description_width": ""
          }
        },
        "13e0fb8f8e85439aa433fb87cd78413a": {
          "model_module": "@jupyter-widgets/base",
          "model_name": "LayoutModel",
          "model_module_version": "1.2.0",
          "state": {
            "_model_module": "@jupyter-widgets/base",
            "_model_module_version": "1.2.0",
            "_model_name": "LayoutModel",
            "_view_count": null,
            "_view_module": "@jupyter-widgets/base",
            "_view_module_version": "1.2.0",
            "_view_name": "LayoutView",
            "align_content": null,
            "align_items": null,
            "align_self": null,
            "border": null,
            "bottom": null,
            "display": null,
            "flex": null,
            "flex_flow": null,
            "grid_area": null,
            "grid_auto_columns": null,
            "grid_auto_flow": null,
            "grid_auto_rows": null,
            "grid_column": null,
            "grid_gap": null,
            "grid_row": null,
            "grid_template_areas": null,
            "grid_template_columns": null,
            "grid_template_rows": null,
            "height": null,
            "justify_content": null,
            "justify_items": null,
            "left": null,
            "margin": null,
            "max_height": null,
            "max_width": null,
            "min_height": null,
            "min_width": null,
            "object_fit": null,
            "object_position": null,
            "order": null,
            "overflow": null,
            "overflow_x": null,
            "overflow_y": null,
            "padding": null,
            "right": null,
            "top": null,
            "visibility": null,
            "width": null
          }
        },
        "76a75b53826345bbb83565ba431bce33": {
          "model_module": "@jupyter-widgets/controls",
          "model_name": "DescriptionStyleModel",
          "model_module_version": "1.5.0",
          "state": {
            "_model_module": "@jupyter-widgets/controls",
            "_model_module_version": "1.5.0",
            "_model_name": "DescriptionStyleModel",
            "_view_count": null,
            "_view_module": "@jupyter-widgets/base",
            "_view_module_version": "1.2.0",
            "_view_name": "StyleView",
            "description_width": ""
          }
        },
        "f92b46913f4c4cdb85ee3d5cbc54f6b2": {
          "model_module": "@jupyter-widgets/controls",
          "model_name": "HBoxModel",
          "model_module_version": "1.5.0",
          "state": {
            "_dom_classes": [],
            "_model_module": "@jupyter-widgets/controls",
            "_model_module_version": "1.5.0",
            "_model_name": "HBoxModel",
            "_view_count": null,
            "_view_module": "@jupyter-widgets/controls",
            "_view_module_version": "1.5.0",
            "_view_name": "HBoxView",
            "box_style": "",
            "children": [
              "IPY_MODEL_dcb710a5dce045cb86ff8e9640979b05",
              "IPY_MODEL_22f625a326754d5a8b2bf435aae22dc0",
              "IPY_MODEL_47b5ec9cba6d46c8b6575eb0e0950d81"
            ],
            "layout": "IPY_MODEL_b49bafa60d024922a175c60f81eb53bb"
          }
        },
        "dcb710a5dce045cb86ff8e9640979b05": {
          "model_module": "@jupyter-widgets/controls",
          "model_name": "HTMLModel",
          "model_module_version": "1.5.0",
          "state": {
            "_dom_classes": [],
            "_model_module": "@jupyter-widgets/controls",
            "_model_module_version": "1.5.0",
            "_model_name": "HTMLModel",
            "_view_count": null,
            "_view_module": "@jupyter-widgets/controls",
            "_view_module_version": "1.5.0",
            "_view_name": "HTMLView",
            "description": "",
            "description_tooltip": null,
            "layout": "IPY_MODEL_691866386ca74d9189c85699585851a2",
            "placeholder": "​",
            "style": "IPY_MODEL_2dd15a2e734048ea9340eaffa3f2f9f7",
            "value": "100%"
          }
        },
        "22f625a326754d5a8b2bf435aae22dc0": {
          "model_module": "@jupyter-widgets/controls",
          "model_name": "FloatProgressModel",
          "model_module_version": "1.5.0",
          "state": {
            "_dom_classes": [],
            "_model_module": "@jupyter-widgets/controls",
            "_model_module_version": "1.5.0",
            "_model_name": "FloatProgressModel",
            "_view_count": null,
            "_view_module": "@jupyter-widgets/controls",
            "_view_module_version": "1.5.0",
            "_view_name": "ProgressView",
            "bar_style": "success",
            "description": "",
            "description_tooltip": null,
            "layout": "IPY_MODEL_ae683294a9744e5f85997534da417210",
            "max": 74503,
            "min": 0,
            "orientation": "horizontal",
            "style": "IPY_MODEL_dffb66362ea44160b9806ef9f7c4d57a",
            "value": 74503
          }
        },
        "47b5ec9cba6d46c8b6575eb0e0950d81": {
          "model_module": "@jupyter-widgets/controls",
          "model_name": "HTMLModel",
          "model_module_version": "1.5.0",
          "state": {
            "_dom_classes": [],
            "_model_module": "@jupyter-widgets/controls",
            "_model_module_version": "1.5.0",
            "_model_name": "HTMLModel",
            "_view_count": null,
            "_view_module": "@jupyter-widgets/controls",
            "_view_module_version": "1.5.0",
            "_view_name": "HTMLView",
            "description": "",
            "description_tooltip": null,
            "layout": "IPY_MODEL_a228eac269a54599a2c6ff3283762c6f",
            "placeholder": "​",
            "style": "IPY_MODEL_503b0b38731b41d4a3ed7eaec3e33a9a",
            "value": " 74503/74503 [00:31&lt;00:00, 6030.57it/s]"
          }
        },
        "b49bafa60d024922a175c60f81eb53bb": {
          "model_module": "@jupyter-widgets/base",
          "model_name": "LayoutModel",
          "model_module_version": "1.2.0",
          "state": {
            "_model_module": "@jupyter-widgets/base",
            "_model_module_version": "1.2.0",
            "_model_name": "LayoutModel",
            "_view_count": null,
            "_view_module": "@jupyter-widgets/base",
            "_view_module_version": "1.2.0",
            "_view_name": "LayoutView",
            "align_content": null,
            "align_items": null,
            "align_self": null,
            "border": null,
            "bottom": null,
            "display": null,
            "flex": null,
            "flex_flow": null,
            "grid_area": null,
            "grid_auto_columns": null,
            "grid_auto_flow": null,
            "grid_auto_rows": null,
            "grid_column": null,
            "grid_gap": null,
            "grid_row": null,
            "grid_template_areas": null,
            "grid_template_columns": null,
            "grid_template_rows": null,
            "height": null,
            "justify_content": null,
            "justify_items": null,
            "left": null,
            "margin": null,
            "max_height": null,
            "max_width": null,
            "min_height": null,
            "min_width": null,
            "object_fit": null,
            "object_position": null,
            "order": null,
            "overflow": null,
            "overflow_x": null,
            "overflow_y": null,
            "padding": null,
            "right": null,
            "top": null,
            "visibility": null,
            "width": null
          }
        },
        "691866386ca74d9189c85699585851a2": {
          "model_module": "@jupyter-widgets/base",
          "model_name": "LayoutModel",
          "model_module_version": "1.2.0",
          "state": {
            "_model_module": "@jupyter-widgets/base",
            "_model_module_version": "1.2.0",
            "_model_name": "LayoutModel",
            "_view_count": null,
            "_view_module": "@jupyter-widgets/base",
            "_view_module_version": "1.2.0",
            "_view_name": "LayoutView",
            "align_content": null,
            "align_items": null,
            "align_self": null,
            "border": null,
            "bottom": null,
            "display": null,
            "flex": null,
            "flex_flow": null,
            "grid_area": null,
            "grid_auto_columns": null,
            "grid_auto_flow": null,
            "grid_auto_rows": null,
            "grid_column": null,
            "grid_gap": null,
            "grid_row": null,
            "grid_template_areas": null,
            "grid_template_columns": null,
            "grid_template_rows": null,
            "height": null,
            "justify_content": null,
            "justify_items": null,
            "left": null,
            "margin": null,
            "max_height": null,
            "max_width": null,
            "min_height": null,
            "min_width": null,
            "object_fit": null,
            "object_position": null,
            "order": null,
            "overflow": null,
            "overflow_x": null,
            "overflow_y": null,
            "padding": null,
            "right": null,
            "top": null,
            "visibility": null,
            "width": null
          }
        },
        "2dd15a2e734048ea9340eaffa3f2f9f7": {
          "model_module": "@jupyter-widgets/controls",
          "model_name": "DescriptionStyleModel",
          "model_module_version": "1.5.0",
          "state": {
            "_model_module": "@jupyter-widgets/controls",
            "_model_module_version": "1.5.0",
            "_model_name": "DescriptionStyleModel",
            "_view_count": null,
            "_view_module": "@jupyter-widgets/base",
            "_view_module_version": "1.2.0",
            "_view_name": "StyleView",
            "description_width": ""
          }
        },
        "ae683294a9744e5f85997534da417210": {
          "model_module": "@jupyter-widgets/base",
          "model_name": "LayoutModel",
          "model_module_version": "1.2.0",
          "state": {
            "_model_module": "@jupyter-widgets/base",
            "_model_module_version": "1.2.0",
            "_model_name": "LayoutModel",
            "_view_count": null,
            "_view_module": "@jupyter-widgets/base",
            "_view_module_version": "1.2.0",
            "_view_name": "LayoutView",
            "align_content": null,
            "align_items": null,
            "align_self": null,
            "border": null,
            "bottom": null,
            "display": null,
            "flex": null,
            "flex_flow": null,
            "grid_area": null,
            "grid_auto_columns": null,
            "grid_auto_flow": null,
            "grid_auto_rows": null,
            "grid_column": null,
            "grid_gap": null,
            "grid_row": null,
            "grid_template_areas": null,
            "grid_template_columns": null,
            "grid_template_rows": null,
            "height": null,
            "justify_content": null,
            "justify_items": null,
            "left": null,
            "margin": null,
            "max_height": null,
            "max_width": null,
            "min_height": null,
            "min_width": null,
            "object_fit": null,
            "object_position": null,
            "order": null,
            "overflow": null,
            "overflow_x": null,
            "overflow_y": null,
            "padding": null,
            "right": null,
            "top": null,
            "visibility": null,
            "width": null
          }
        },
        "dffb66362ea44160b9806ef9f7c4d57a": {
          "model_module": "@jupyter-widgets/controls",
          "model_name": "ProgressStyleModel",
          "model_module_version": "1.5.0",
          "state": {
            "_model_module": "@jupyter-widgets/controls",
            "_model_module_version": "1.5.0",
            "_model_name": "ProgressStyleModel",
            "_view_count": null,
            "_view_module": "@jupyter-widgets/base",
            "_view_module_version": "1.2.0",
            "_view_name": "StyleView",
            "bar_color": null,
            "description_width": ""
          }
        },
        "a228eac269a54599a2c6ff3283762c6f": {
          "model_module": "@jupyter-widgets/base",
          "model_name": "LayoutModel",
          "model_module_version": "1.2.0",
          "state": {
            "_model_module": "@jupyter-widgets/base",
            "_model_module_version": "1.2.0",
            "_model_name": "LayoutModel",
            "_view_count": null,
            "_view_module": "@jupyter-widgets/base",
            "_view_module_version": "1.2.0",
            "_view_name": "LayoutView",
            "align_content": null,
            "align_items": null,
            "align_self": null,
            "border": null,
            "bottom": null,
            "display": null,
            "flex": null,
            "flex_flow": null,
            "grid_area": null,
            "grid_auto_columns": null,
            "grid_auto_flow": null,
            "grid_auto_rows": null,
            "grid_column": null,
            "grid_gap": null,
            "grid_row": null,
            "grid_template_areas": null,
            "grid_template_columns": null,
            "grid_template_rows": null,
            "height": null,
            "justify_content": null,
            "justify_items": null,
            "left": null,
            "margin": null,
            "max_height": null,
            "max_width": null,
            "min_height": null,
            "min_width": null,
            "object_fit": null,
            "object_position": null,
            "order": null,
            "overflow": null,
            "overflow_x": null,
            "overflow_y": null,
            "padding": null,
            "right": null,
            "top": null,
            "visibility": null,
            "width": null
          }
        },
        "503b0b38731b41d4a3ed7eaec3e33a9a": {
          "model_module": "@jupyter-widgets/controls",
          "model_name": "DescriptionStyleModel",
          "model_module_version": "1.5.0",
          "state": {
            "_model_module": "@jupyter-widgets/controls",
            "_model_module_version": "1.5.0",
            "_model_name": "DescriptionStyleModel",
            "_view_count": null,
            "_view_module": "@jupyter-widgets/base",
            "_view_module_version": "1.2.0",
            "_view_name": "StyleView",
            "description_width": ""
          }
        },
        "177da0f4fffa42aab50b46e84e540de0": {
          "model_module": "@jupyter-widgets/controls",
          "model_name": "HBoxModel",
          "model_module_version": "1.5.0",
          "state": {
            "_dom_classes": [],
            "_model_module": "@jupyter-widgets/controls",
            "_model_module_version": "1.5.0",
            "_model_name": "HBoxModel",
            "_view_count": null,
            "_view_module": "@jupyter-widgets/controls",
            "_view_module_version": "1.5.0",
            "_view_name": "HBoxView",
            "box_style": "",
            "children": [
              "IPY_MODEL_53cd9c1efe3146b9bbda4783713208ee",
              "IPY_MODEL_4639d933cd384dda8489dd821ad86a3b",
              "IPY_MODEL_2df86f6d045a4f6a86bfa4108fbf98e0"
            ],
            "layout": "IPY_MODEL_897d35c222a0415fa8a659dd4a5709e5"
          }
        },
        "53cd9c1efe3146b9bbda4783713208ee": {
          "model_module": "@jupyter-widgets/controls",
          "model_name": "HTMLModel",
          "model_module_version": "1.5.0",
          "state": {
            "_dom_classes": [],
            "_model_module": "@jupyter-widgets/controls",
            "_model_module_version": "1.5.0",
            "_model_name": "HTMLModel",
            "_view_count": null,
            "_view_module": "@jupyter-widgets/controls",
            "_view_module_version": "1.5.0",
            "_view_name": "HTMLView",
            "description": "",
            "description_tooltip": null,
            "layout": "IPY_MODEL_003bb816cd6d4f929d2ff0b02a46e6c1",
            "placeholder": "​",
            "style": "IPY_MODEL_f2a2d9e8400843d5a9580b7f78502e55",
            "value": "100%"
          }
        },
        "4639d933cd384dda8489dd821ad86a3b": {
          "model_module": "@jupyter-widgets/controls",
          "model_name": "FloatProgressModel",
          "model_module_version": "1.5.0",
          "state": {
            "_dom_classes": [],
            "_model_module": "@jupyter-widgets/controls",
            "_model_module_version": "1.5.0",
            "_model_name": "FloatProgressModel",
            "_view_count": null,
            "_view_module": "@jupyter-widgets/controls",
            "_view_module_version": "1.5.0",
            "_view_name": "ProgressView",
            "bar_style": "success",
            "description": "",
            "description_tooltip": null,
            "layout": "IPY_MODEL_a9da7381c1124d74bfd2705d71a46159",
            "max": 19491,
            "min": 0,
            "orientation": "horizontal",
            "style": "IPY_MODEL_9020b43aac224beca92f7429ce9b0ca8",
            "value": 19491
          }
        },
        "2df86f6d045a4f6a86bfa4108fbf98e0": {
          "model_module": "@jupyter-widgets/controls",
          "model_name": "HTMLModel",
          "model_module_version": "1.5.0",
          "state": {
            "_dom_classes": [],
            "_model_module": "@jupyter-widgets/controls",
            "_model_module_version": "1.5.0",
            "_model_name": "HTMLModel",
            "_view_count": null,
            "_view_module": "@jupyter-widgets/controls",
            "_view_module_version": "1.5.0",
            "_view_name": "HTMLView",
            "description": "",
            "description_tooltip": null,
            "layout": "IPY_MODEL_02251c29d24140d1b6af43a8b2680858",
            "placeholder": "​",
            "style": "IPY_MODEL_4447bf1697a345c3b7c223f93fcbec5b",
            "value": " 19491/19491 [00:26&lt;00:00, 1938.80it/s]"
          }
        },
        "897d35c222a0415fa8a659dd4a5709e5": {
          "model_module": "@jupyter-widgets/base",
          "model_name": "LayoutModel",
          "model_module_version": "1.2.0",
          "state": {
            "_model_module": "@jupyter-widgets/base",
            "_model_module_version": "1.2.0",
            "_model_name": "LayoutModel",
            "_view_count": null,
            "_view_module": "@jupyter-widgets/base",
            "_view_module_version": "1.2.0",
            "_view_name": "LayoutView",
            "align_content": null,
            "align_items": null,
            "align_self": null,
            "border": null,
            "bottom": null,
            "display": null,
            "flex": null,
            "flex_flow": null,
            "grid_area": null,
            "grid_auto_columns": null,
            "grid_auto_flow": null,
            "grid_auto_rows": null,
            "grid_column": null,
            "grid_gap": null,
            "grid_row": null,
            "grid_template_areas": null,
            "grid_template_columns": null,
            "grid_template_rows": null,
            "height": null,
            "justify_content": null,
            "justify_items": null,
            "left": null,
            "margin": null,
            "max_height": null,
            "max_width": null,
            "min_height": null,
            "min_width": null,
            "object_fit": null,
            "object_position": null,
            "order": null,
            "overflow": null,
            "overflow_x": null,
            "overflow_y": null,
            "padding": null,
            "right": null,
            "top": null,
            "visibility": null,
            "width": null
          }
        },
        "003bb816cd6d4f929d2ff0b02a46e6c1": {
          "model_module": "@jupyter-widgets/base",
          "model_name": "LayoutModel",
          "model_module_version": "1.2.0",
          "state": {
            "_model_module": "@jupyter-widgets/base",
            "_model_module_version": "1.2.0",
            "_model_name": "LayoutModel",
            "_view_count": null,
            "_view_module": "@jupyter-widgets/base",
            "_view_module_version": "1.2.0",
            "_view_name": "LayoutView",
            "align_content": null,
            "align_items": null,
            "align_self": null,
            "border": null,
            "bottom": null,
            "display": null,
            "flex": null,
            "flex_flow": null,
            "grid_area": null,
            "grid_auto_columns": null,
            "grid_auto_flow": null,
            "grid_auto_rows": null,
            "grid_column": null,
            "grid_gap": null,
            "grid_row": null,
            "grid_template_areas": null,
            "grid_template_columns": null,
            "grid_template_rows": null,
            "height": null,
            "justify_content": null,
            "justify_items": null,
            "left": null,
            "margin": null,
            "max_height": null,
            "max_width": null,
            "min_height": null,
            "min_width": null,
            "object_fit": null,
            "object_position": null,
            "order": null,
            "overflow": null,
            "overflow_x": null,
            "overflow_y": null,
            "padding": null,
            "right": null,
            "top": null,
            "visibility": null,
            "width": null
          }
        },
        "f2a2d9e8400843d5a9580b7f78502e55": {
          "model_module": "@jupyter-widgets/controls",
          "model_name": "DescriptionStyleModel",
          "model_module_version": "1.5.0",
          "state": {
            "_model_module": "@jupyter-widgets/controls",
            "_model_module_version": "1.5.0",
            "_model_name": "DescriptionStyleModel",
            "_view_count": null,
            "_view_module": "@jupyter-widgets/base",
            "_view_module_version": "1.2.0",
            "_view_name": "StyleView",
            "description_width": ""
          }
        },
        "a9da7381c1124d74bfd2705d71a46159": {
          "model_module": "@jupyter-widgets/base",
          "model_name": "LayoutModel",
          "model_module_version": "1.2.0",
          "state": {
            "_model_module": "@jupyter-widgets/base",
            "_model_module_version": "1.2.0",
            "_model_name": "LayoutModel",
            "_view_count": null,
            "_view_module": "@jupyter-widgets/base",
            "_view_module_version": "1.2.0",
            "_view_name": "LayoutView",
            "align_content": null,
            "align_items": null,
            "align_self": null,
            "border": null,
            "bottom": null,
            "display": null,
            "flex": null,
            "flex_flow": null,
            "grid_area": null,
            "grid_auto_columns": null,
            "grid_auto_flow": null,
            "grid_auto_rows": null,
            "grid_column": null,
            "grid_gap": null,
            "grid_row": null,
            "grid_template_areas": null,
            "grid_template_columns": null,
            "grid_template_rows": null,
            "height": null,
            "justify_content": null,
            "justify_items": null,
            "left": null,
            "margin": null,
            "max_height": null,
            "max_width": null,
            "min_height": null,
            "min_width": null,
            "object_fit": null,
            "object_position": null,
            "order": null,
            "overflow": null,
            "overflow_x": null,
            "overflow_y": null,
            "padding": null,
            "right": null,
            "top": null,
            "visibility": null,
            "width": null
          }
        },
        "9020b43aac224beca92f7429ce9b0ca8": {
          "model_module": "@jupyter-widgets/controls",
          "model_name": "ProgressStyleModel",
          "model_module_version": "1.5.0",
          "state": {
            "_model_module": "@jupyter-widgets/controls",
            "_model_module_version": "1.5.0",
            "_model_name": "ProgressStyleModel",
            "_view_count": null,
            "_view_module": "@jupyter-widgets/base",
            "_view_module_version": "1.2.0",
            "_view_name": "StyleView",
            "bar_color": null,
            "description_width": ""
          }
        },
        "02251c29d24140d1b6af43a8b2680858": {
          "model_module": "@jupyter-widgets/base",
          "model_name": "LayoutModel",
          "model_module_version": "1.2.0",
          "state": {
            "_model_module": "@jupyter-widgets/base",
            "_model_module_version": "1.2.0",
            "_model_name": "LayoutModel",
            "_view_count": null,
            "_view_module": "@jupyter-widgets/base",
            "_view_module_version": "1.2.0",
            "_view_name": "LayoutView",
            "align_content": null,
            "align_items": null,
            "align_self": null,
            "border": null,
            "bottom": null,
            "display": null,
            "flex": null,
            "flex_flow": null,
            "grid_area": null,
            "grid_auto_columns": null,
            "grid_auto_flow": null,
            "grid_auto_rows": null,
            "grid_column": null,
            "grid_gap": null,
            "grid_row": null,
            "grid_template_areas": null,
            "grid_template_columns": null,
            "grid_template_rows": null,
            "height": null,
            "justify_content": null,
            "justify_items": null,
            "left": null,
            "margin": null,
            "max_height": null,
            "max_width": null,
            "min_height": null,
            "min_width": null,
            "object_fit": null,
            "object_position": null,
            "order": null,
            "overflow": null,
            "overflow_x": null,
            "overflow_y": null,
            "padding": null,
            "right": null,
            "top": null,
            "visibility": null,
            "width": null
          }
        },
        "4447bf1697a345c3b7c223f93fcbec5b": {
          "model_module": "@jupyter-widgets/controls",
          "model_name": "DescriptionStyleModel",
          "model_module_version": "1.5.0",
          "state": {
            "_model_module": "@jupyter-widgets/controls",
            "_model_module_version": "1.5.0",
            "_model_name": "DescriptionStyleModel",
            "_view_count": null,
            "_view_module": "@jupyter-widgets/base",
            "_view_module_version": "1.2.0",
            "_view_name": "StyleView",
            "description_width": ""
          }
        }
      }
    }
  },
  "cells": [
    {
      "cell_type": "markdown",
      "source": [
        "https://huggingface.co/facebook/mbart-large-50-many-to-many-mmt"
      ],
      "metadata": {
        "id": "zKtp6d0xN3zk"
      }
    },
    {
      "cell_type": "markdown",
      "source": [
        "# Preparation"
      ],
      "metadata": {
        "id": "KDJhuYyQGtgd"
      }
    },
    {
      "cell_type": "code",
      "source": [
        "from google.colab import drive\n",
        "drive.mount('/gd')"
      ],
      "metadata": {
        "colab": {
          "base_uri": "https://localhost:8080/"
        },
        "id": "Bt6wstOx1SsV",
        "outputId": "0fa170c8-ffd6-4f2d-81b7-3c504a3463e0"
      },
      "execution_count": null,
      "outputs": [
        {
          "output_type": "stream",
          "name": "stdout",
          "text": [
            "Drive already mounted at /gd; to attempt to forcibly remount, call drive.mount(\"/gd\", force_remount=True).\n"
          ]
        }
      ]
    },
    {
      "cell_type": "code",
      "execution_count": null,
      "metadata": {
        "colab": {
          "base_uri": "https://localhost:8080/"
        },
        "id": "Jhjl0adu1A6v",
        "outputId": "d70e40d6-50c5-40f7-a55c-eddbce72420f"
      },
      "outputs": [
        {
          "output_type": "stream",
          "name": "stdout",
          "text": [
            "\u001b[K     |████████████████████████████████| 4.4 MB 29.8 MB/s \n",
            "\u001b[K     |████████████████████████████████| 1.2 MB 18.9 MB/s \n",
            "\u001b[K     |████████████████████████████████| 596 kB 52.4 MB/s \n",
            "\u001b[K     |████████████████████████████████| 6.6 MB 53.2 MB/s \n",
            "\u001b[K     |████████████████████████████████| 101 kB 11.5 MB/s \n",
            "\u001b[?25h"
          ]
        }
      ],
      "source": [
        "!pip install transformers sentencepiece -q"
      ]
    },
    {
      "cell_type": "code",
      "source": [
        "!wget https://raw.githubusercontent.com/google/sentencepiece/master/src/sentencepiece_model.proto"
      ],
      "metadata": {
        "colab": {
          "base_uri": "https://localhost:8080/"
        },
        "id": "Sxx1_kyB1yuD",
        "outputId": "3de83667-d176-4cbf-96e8-d1cb1e3043c8"
      },
      "execution_count": null,
      "outputs": [
        {
          "output_type": "stream",
          "name": "stdout",
          "text": [
            "--2022-06-27 07:40:52--  https://raw.githubusercontent.com/google/sentencepiece/master/src/sentencepiece_model.proto\n",
            "Resolving raw.githubusercontent.com (raw.githubusercontent.com)... 185.199.108.133, 185.199.109.133, 185.199.110.133, ...\n",
            "Connecting to raw.githubusercontent.com (raw.githubusercontent.com)|185.199.108.133|:443... connected.\n",
            "HTTP request sent, awaiting response... 200 OK\n",
            "Length: 13451 (13K) [text/plain]\n",
            "Saving to: ‘sentencepiece_model.proto’\n",
            "\n",
            "\r          sentencep   0%[                    ]       0  --.-KB/s               \rsentencepiece_model 100%[===================>]  13.14K  --.-KB/s    in 0s      \n",
            "\n",
            "2022-06-27 07:40:52 (97.9 MB/s) - ‘sentencepiece_model.proto’ saved [13451/13451]\n",
            "\n"
          ]
        }
      ]
    },
    {
      "cell_type": "code",
      "source": [
        "! protoc --python_out=. sentencepiece_model.proto"
      ],
      "metadata": {
        "id": "4ZX5lFbY1zD_"
      },
      "execution_count": null,
      "outputs": []
    },
    {
      "cell_type": "markdown",
      "source": [
        "# Counting words"
      ],
      "metadata": {
        "id": "KN8J3pT_GwD4"
      }
    },
    {
      "cell_type": "code",
      "source": [
        "import torch\n",
        "from transformers import MBartForConditionalGeneration, MBart50Tokenizer\n",
        "tokenizer = MBart50Tokenizer.from_pretrained(\"facebook/mbart-large-50-many-to-many-mmt\")"
      ],
      "metadata": {
        "id": "2MJzgZW61KeY"
      },
      "execution_count": null,
      "outputs": []
    },
    {
      "cell_type": "code",
      "source": [
        "print(tokenizer.vocab_size)"
      ],
      "metadata": {
        "colab": {
          "base_uri": "https://localhost:8080/"
        },
        "id": "vfzEFnvA1gIJ",
        "outputId": "9b917b21-48e8-4eee-8038-d5c6ad188055"
      },
      "execution_count": null,
      "outputs": [
        {
          "output_type": "stream",
          "name": "stdout",
          "text": [
            "250054\n"
          ]
        }
      ]
    },
    {
      "cell_type": "code",
      "source": [
        "import json"
      ],
      "metadata": {
        "id": "p_YCIiXQ3S8M"
      },
      "execution_count": null,
      "outputs": []
    },
    {
      "cell_type": "code",
      "source": [
        "with open('/gd/MyDrive/datasets/nlp/myv_corpus/myv_mono.v1.json', 'r') as f:\n",
        "    all_sentences = json.load(f)\n",
        "print(len(all_sentences))"
      ],
      "metadata": {
        "colab": {
          "base_uri": "https://localhost:8080/"
        },
        "id": "4EYsdgrb1lG2",
        "outputId": "0fca6e02-d070-42b0-c09a-cfa0c1751a46"
      },
      "execution_count": null,
      "outputs": [
        {
          "output_type": "stream",
          "name": "stdout",
          "text": [
            "333651\n"
          ]
        }
      ]
    },
    {
      "cell_type": "code",
      "source": [
        "all_sentences[:10]"
      ],
      "metadata": {
        "colab": {
          "base_uri": "https://localhost:8080/"
        },
        "id": "H1_vY0cF3oSI",
        "outputId": "e3b222ae-ddda-4597-9de0-c371507640e6"
      },
      "execution_count": null,
      "outputs": [
        {
          "output_type": "execute_result",
          "data": {
            "text/plain": [
              "['! Вадо!/Азёдо тестэ!',\n",
              " '! Вастомазонок! Неемазонок!',\n",
              " '! Инескеть/энялдан',\n",
              " '! Мезес пачкодемс!',\n",
              " '!вайх!',\n",
              " '\" \" \" \" Ашо пацяс сюлмимем.',\n",
              " '\" \" \" \" Мон гулькинекс теевинь.”',\n",
              " '\" \" \" \" Монь патинем пурнымем.',\n",
              " '\" \" \" \" Од авинем пидимем.',\n",
              " '\" \" \" \" Патинень ланкс ёртлимизь.']"
            ]
          },
          "metadata": {},
          "execution_count": 7
        }
      ]
    },
    {
      "cell_type": "code",
      "source": [
        "from collections import Counter, defaultdict\n",
        "from tqdm.auto import tqdm, trange\n",
        "import random\n",
        "import re"
      ],
      "metadata": {
        "id": "ImlqOO-e3bTA"
      },
      "execution_count": null,
      "outputs": []
    },
    {
      "cell_type": "code",
      "source": [
        "text = 'Моё уважение!!! :) :-\\ :-D'"
      ],
      "metadata": {
        "id": "3be9YLBk4w02"
      },
      "execution_count": null,
      "outputs": []
    },
    {
      "cell_type": "code",
      "source": [
        "tokenizer.tokenize(text)"
      ],
      "metadata": {
        "colab": {
          "base_uri": "https://localhost:8080/"
        },
        "id": "KWnMFVSj4kFn",
        "outputId": "7b779347-8c3b-4478-e1f9-eb583059c3a7"
      },
      "execution_count": null,
      "outputs": [
        {
          "output_type": "execute_result",
          "data": {
            "text/plain": [
              "['▁Мо', 'ё', '▁уважение', '!!!', '▁:)', '▁:-', '\\\\', '▁:-', 'D']"
            ]
          },
          "metadata": {},
          "execution_count": 10
        }
      ]
    },
    {
      "cell_type": "code",
      "source": [
        "tokenizer.prepare_for_tokenization(text)"
      ],
      "metadata": {
        "colab": {
          "base_uri": "https://localhost:8080/"
        },
        "id": "uGhAy_xi4oFS",
        "outputId": "639aeeae-3a02-4339-ddd0-672a798fb9f2"
      },
      "execution_count": null,
      "outputs": [
        {
          "output_type": "execute_result",
          "data": {
            "text/plain": [
              "('Моё уважение!!! :) :-\\\\ :-D', {})"
            ]
          },
          "metadata": {},
          "execution_count": 11
        }
      ]
    },
    {
      "cell_type": "code",
      "source": [
        "tokenizer.tokens_trie.split(text)"
      ],
      "metadata": {
        "colab": {
          "base_uri": "https://localhost:8080/"
        },
        "id": "3uWCUVM04vcU",
        "outputId": "8616c615-0d2b-459a-af41-e5e591e66236"
      },
      "execution_count": null,
      "outputs": [
        {
          "output_type": "execute_result",
          "data": {
            "text/plain": [
              "['Моё уважение!!! :) :-\\\\ :-D']"
            ]
          },
          "metadata": {},
          "execution_count": 12
        }
      ]
    },
    {
      "cell_type": "code",
      "source": [
        "tokenizer.sp_model.encode(text)"
      ],
      "metadata": {
        "colab": {
          "base_uri": "https://localhost:8080/"
        },
        "id": "-pKjp-JO5F01",
        "outputId": "c511c48d-1694-4bab-fc36-edbac4c6e49c"
      },
      "execution_count": null,
      "outputs": [
        {
          "output_type": "execute_result",
          "data": {
            "text/plain": [
              "[7330, 7784, 164999, 1563, 1093, 15771, 41871, 15771, 396]"
            ]
          },
          "metadata": {},
          "execution_count": 13
        }
      ]
    },
    {
      "cell_type": "code",
      "source": [
        "tokens = tokenizer.tokenize(text)\n",
        "tokens"
      ],
      "metadata": {
        "colab": {
          "base_uri": "https://localhost:8080/"
        },
        "id": "fB_q5tsl5kfT",
        "outputId": "54fd9877-5d32-4c9a-98b9-543fda5a7833"
      },
      "execution_count": null,
      "outputs": [
        {
          "output_type": "execute_result",
          "data": {
            "text/plain": [
              "['▁Мо', 'ё', '▁уважение', '!!!', '▁:)', '▁:-', '\\\\', '▁:-', 'D']"
            ]
          },
          "metadata": {},
          "execution_count": 14
        }
      ]
    },
    {
      "cell_type": "code",
      "source": [
        "char_count = Counter()\n",
        "for text in tqdm(all_sentences):\n",
        "    char_count.update(text)"
      ],
      "metadata": {
        "colab": {
          "base_uri": "https://localhost:8080/",
          "height": 49,
          "referenced_widgets": [
            "78ea661046fd4236b3cc022cfa5d57df",
            "f71d1696a7b74b51bc220ae007391376",
            "d12cf8814e214f09a35312aa4aa408fb",
            "7bccd5f4623a45299833736d064d7dde",
            "4126ba48dc1442bf8d8aa3b8a7377a8b",
            "aba61d8a554a46ee816ce8e58c1325a1",
            "5345f3c87e974c328f457d768434cc24",
            "b22a2a175fc34202b1dd463ba47041ab",
            "5c6662cec58f497b89125d880f5f45cf",
            "a94c2747e25441f8bdf072c077848bfe",
            "8d47606abfcd414ebc51d4b54561b881"
          ]
        },
        "id": "N73kIex95sT6",
        "outputId": "3f919583-f32a-42dc-a1a1-4f2edd45ac95"
      },
      "execution_count": null,
      "outputs": [
        {
          "output_type": "display_data",
          "data": {
            "text/plain": [
              "  0%|          | 0/333651 [00:00<?, ?it/s]"
            ],
            "application/vnd.jupyter.widget-view+json": {
              "version_major": 2,
              "version_minor": 0,
              "model_id": "78ea661046fd4236b3cc022cfa5d57df"
            }
          },
          "metadata": {}
        }
      ]
    },
    {
      "cell_type": "code",
      "source": [
        "PUNCT = '.,-—:)(»«!?–/;„\"“…*́№Ёҥ[]”^%+І=і•_􏰀²|}{#‘■>⁠’á<°\\§\\''\n",
        "SPACE = '▁'"
      ],
      "metadata": {
        "id": "7CUX3Wi16OHD"
      },
      "execution_count": null,
      "outputs": []
    },
    {
      "cell_type": "code",
      "source": [
        "for k, v in char_count.most_common(200):\n",
        "    if not re.match('[а-яА-Яa-zA-Z0-9ё\\']', k):\n",
        "        print(k, end='')"
      ],
      "metadata": {
        "colab": {
          "base_uri": "https://localhost:8080/"
        },
        "id": "KAoQjqTX53TX",
        "outputId": "cf7e9460-9a28-4867-fc47-4e47d1743f00"
      },
      "execution_count": null,
      "outputs": [
        {
          "output_type": "stream",
          "name": "stdout",
          "text": [
            " .,-—:)(»«!?–/;„\"“…*́№Ёҥ[]”^%+І=і•_􏰀²|}{#‘■>­⁠’á<°\\әéäˈ&~óاəაա©↑იüοö§ςαõ"
          ]
        }
      ]
    },
    {
      "cell_type": "code",
      "source": [
        "toks = tokenizer.tokenize(text)\n",
        "toks"
      ],
      "metadata": {
        "colab": {
          "base_uri": "https://localhost:8080/"
        },
        "id": "NxC459N77Hxq",
        "outputId": "b8d06069-e1cf-4466-c4bf-64edae55e0ee"
      },
      "execution_count": null,
      "outputs": [
        {
          "output_type": "execute_result",
          "data": {
            "text/plain": [
              "['▁',\n",
              " '\\U0010005a',\n",
              " '▁Я',\n",
              " '.',\n",
              " 'Я',\n",
              " '.',\n",
              " '▁Кул',\n",
              " 'дур',\n",
              " 'ка',\n",
              " 'ев',\n",
              " '▁ПО',\n",
              " 'Э',\n",
              " 'МАТ',\n",
              " '▁',\n",
              " 'ДЫ',\n",
              " '▁',\n",
              " 'Ё',\n",
              " 'ВК',\n",
              " 'СТ',\n",
              " '▁86',\n",
              " '▁87',\n",
              " '▁Кап',\n",
              " 'ши',\n",
              " 'ль',\n",
              " '▁',\n",
              " 'анс',\n",
              " 'як',\n",
              " '▁сон',\n",
              " '▁мор',\n",
              " 'о',\n",
              " 'нь',\n",
              " '▁мора',\n",
              " 'мо',\n",
              " '.']"
            ]
          },
          "metadata": {},
          "execution_count": 18
        }
      ]
    },
    {
      "cell_type": "code",
      "source": [
        "def get_words(text, tokenizer, verbose=False):\n",
        "    toks = tokenizer.tokenize(text)\n",
        "    words = []\n",
        "    word = []\n",
        "    prev_punct = False\n",
        "    for tok in toks:\n",
        "        is_punct = tok.lstrip(SPACE) and all(c in PUNCT for c in tok.lstrip(SPACE))\n",
        "        if tok.startswith(SPACE) or prev_punct != is_punct:\n",
        "            if word:\n",
        "                words.append(word)\n",
        "            word = []\n",
        "        word.append(tok)\n",
        "        prev_punct = is_punct\n",
        "    if word:\n",
        "        words.append(word)\n",
        "    if verbose:\n",
        "        print(words)\n",
        "    res = words\n",
        "    # assert tokenizer.decode([tok for t in res for tok in t]) == text\n",
        "    return res"
      ],
      "metadata": {
        "id": "o2FA6WVm5Zdh"
      },
      "execution_count": null,
      "outputs": []
    },
    {
      "cell_type": "code",
      "source": [
        "word_count = Counter()\n",
        "word2toks = {}\n",
        "for text in tqdm(all_sentences):\n",
        "    for word_toks in get_words(text, tokenizer):\n",
        "        word = ''.join(word_toks)\n",
        "        word_count[word] += 1\n",
        "        word2toks[word] = word_toks\n",
        "print(len(word_count))"
      ],
      "metadata": {
        "colab": {
          "base_uri": "https://localhost:8080/",
          "height": 66,
          "referenced_widgets": [
            "f77f547c232f4e6a823bdc9a2ab626eb",
            "1f228a4d5e164bb6b519a905bea3f6fa",
            "86435469213a4679a60d95b1267e5e90",
            "cdb3454434d44ce08dd1a264c439ef16",
            "682ef0cdef90427caf03939eac808dd1",
            "b3ec90a4d9034c83b6847dedbcaca3a8",
            "560f4d203bf341b6a1c72b573026a182",
            "40b4e9f32ce34103903af7df75769306",
            "4779a6ed02a34d50b6578a48b55ef835",
            "a5729a9bc66041df955b7a6286f472d2",
            "669f3ed2121d4caca2b5437c8cc29913"
          ]
        },
        "id": "X8JJLJNz3lIC",
        "outputId": "41f9f59c-e56e-46b3-af3d-5b2e9016ed7c"
      },
      "execution_count": null,
      "outputs": [
        {
          "output_type": "display_data",
          "data": {
            "text/plain": [
              "  0%|          | 0/333651 [00:00<?, ?it/s]"
            ],
            "application/vnd.jupyter.widget-view+json": {
              "version_major": 2,
              "version_minor": 0,
              "model_id": "f77f547c232f4e6a823bdc9a2ab626eb"
            }
          },
          "metadata": {}
        },
        {
          "output_type": "stream",
          "name": "stdout",
          "text": [
            "423699\n"
          ]
        }
      ]
    },
    {
      "cell_type": "code",
      "source": [
        "from copy import deepcopy\n",
        "word_count2 = deepcopy(word_count)\n",
        "word2toks2 = deepcopy(word2toks)"
      ],
      "metadata": {
        "id": "-1LTmrrrDeZz"
      },
      "execution_count": null,
      "outputs": []
    },
    {
      "cell_type": "markdown",
      "source": [
        "# Computing splits"
      ],
      "metadata": {
        "id": "67Y8d9qFHBSs"
      }
    },
    {
      "cell_type": "code",
      "source": [
        "word_count = deepcopy(word_count2)\n",
        "word2toks = deepcopy(word2toks2)"
      ],
      "metadata": {
        "id": "Ihb7vnIfDkoL"
      },
      "execution_count": null,
      "outputs": []
    },
    {
      "cell_type": "code",
      "source": [
        "for k, v in word_count.most_common(30):\n",
        "    if len(word2toks[k]) > 1:\n",
        "        print(word2toks[k])"
      ],
      "metadata": {
        "colab": {
          "base_uri": "https://localhost:8080/"
        },
        "id": "58IvBiTL9DgZ",
        "outputId": "39bfe817-5480-4615-b517-4712251836a0"
      },
      "execution_count": null,
      "outputs": [
        {
          "output_type": "stream",
          "name": "stdout",
          "text": [
            "['▁март', 'о']\n",
            "['▁код', 'а']\n",
            "['▁вес', 'е']\n",
            "['лан', 'г', 'с']\n",
            "['▁а', 'воль']\n",
            "['▁кор', 'яс']\n",
            "['▁ла', 'мо']\n",
            "['▁у', 'льне', 'сь']\n"
          ]
        }
      ]
    },
    {
      "cell_type": "code",
      "source": [
        "steps = 100_000\n",
        "min_count = 30  \n",
        "# default:   0 new tokens, 30 lenght, 0% new tokens\n",
        "# 100 mindf: 6.6k new tokens, 22 length, 47% new tokens (of sentence length)\n",
        "# 30 mindf:  20k new tokens, 20 length, 58% new tokens\n",
        "# 10 mindf: 50K new tokens, 18.5 length, 64% new tokens\n",
        "extra_vocab = []\n",
        "extra_counts = []\n",
        "extra_pairs = []"
      ],
      "metadata": {
        "id": "a_JjLe2o-U26"
      },
      "execution_count": null,
      "outputs": []
    },
    {
      "cell_type": "code",
      "source": [
        "# word2toks = {''.join(tokenizer.convert_ids_to_tokens(list(w))): w for w in tqdm(word_count)}"
      ],
      "metadata": {
        "id": "_QHfiIXe-kBw"
      },
      "execution_count": null,
      "outputs": []
    },
    {
      "cell_type": "code",
      "source": [
        "pairs_count = Counter()\n",
        "pair2word = defaultdict(set)\n",
        "for w, c in tqdm(word_count.items(), total=len(word_count)):\n",
        "    enc = word2toks[w]\n",
        "    for pair in zip(enc[:-1], enc[1:]):\n",
        "        pairs_count[pair] += c\n",
        "        pair2word[pair].add(w)"
      ],
      "metadata": {
        "colab": {
          "base_uri": "https://localhost:8080/",
          "height": 49,
          "referenced_widgets": [
            "fc8e2b5017f449848a166942ef88068e",
            "bf5c1faed2064c66818fd2b14f38d897",
            "8c9900ad13b445fea4f284a5368727c8",
            "2f4df9ad204d47a1bf5c4282540cd2cb",
            "060e81691ebb462c96bc0cf802a3c10c",
            "6a32626ebfc5467784566b63fdbb387e",
            "13e6f37febc14d17b13fd1da47c4ef98",
            "d382ba34d52a4b96955f493d0f918199",
            "e5acaf6ec4c54627b31ff44779b1a89b",
            "fa45a4d9b6e344a1926f1736bb8431fb",
            "4fda0fedc411403199d949717c63b6d8"
          ]
        },
        "id": "DMKQFDUq-tep",
        "outputId": "a0c9c3ad-ce5c-4886-d27a-1439926a3621"
      },
      "execution_count": null,
      "outputs": [
        {
          "output_type": "display_data",
          "data": {
            "text/plain": [
              "  0%|          | 0/423699 [00:00<?, ?it/s]"
            ],
            "application/vnd.jupyter.widget-view+json": {
              "version_major": 2,
              "version_minor": 0,
              "model_id": "fc8e2b5017f449848a166942ef88068e"
            }
          },
          "metadata": {}
        }
      ]
    },
    {
      "cell_type": "code",
      "source": [
        "from heapdict import heapdict\n",
        "hd = heapdict()\n",
        "for w, c in pairs_count.items():\n",
        "    hd[w] = -c"
      ],
      "metadata": {
        "id": "4vJ6vhbh-xH9"
      },
      "execution_count": null,
      "outputs": []
    },
    {
      "cell_type": "code",
      "source": [
        "def replace_pair(old_tokens, pair, new_token):\n",
        "    result = []\n",
        "    prev = old_tokens[0]\n",
        "    for tok in old_tokens[1:]:\n",
        "        if (prev, tok) == pair:\n",
        "            result.append(new_token)\n",
        "            prev = None\n",
        "        else:\n",
        "            if prev is not None:\n",
        "                result.append(prev)\n",
        "            prev = tok\n",
        "    if prev is not None:\n",
        "        result.append(prev)\n",
        "    return result"
      ],
      "metadata": {
        "id": "T6D47aRi_A4X"
      },
      "execution_count": null,
      "outputs": []
    },
    {
      "cell_type": "code",
      "source": [
        "# rewrite with heapdict\n",
        "for _ in trange(steps):\n",
        "    #pair, c = pairs_count.most_common(1)[0]  # это самая времязатратная операция\n",
        "    pair, c = hd.peekitem()\n",
        "    c = -c\n",
        "    \n",
        "    if c < min_count:\n",
        "        break\n",
        "    new_token = ''.join(pair) # instead of BERT-like pair[0] + pair[1][2:]\n",
        "    extra_vocab.append(pair)\n",
        "    extra_counts.append(c)\n",
        "    extra_pairs.append(pair)\n",
        "    \n",
        "    # update the vocabulary\n",
        "    #new_id = len(id2ids)\n",
        "    #tok2id[new_token] = new_id\n",
        "    #id2ids.append(id2ids[tok2id[pair[0]]] + id2ids[tok2id[pair[1]]]) \n",
        "    \n",
        "    # calculate the delta for the heap\n",
        "    delta = Counter()\n",
        "    for word in list(pair2word[pair]):\n",
        "        # calculate old and new ways to tokenize the word\n",
        "        old_toks = word2toks[word]\n",
        "        # new_toks = \" \".join(old_toks).replace(' '.join(pair), new_token).split(\" \")\n",
        "        new_toks = replace_pair(old_toks, pair, new_token)\n",
        "        word2toks[word] = new_toks\n",
        "        wc = word_count[word]\n",
        "        # update the index concerning the tokens of the word\n",
        "        for old_pair in zip(old_toks[:-1], old_toks[1:]):\n",
        "            #pairs_count[old_pair] -= wc\n",
        "            delta[old_pair] -= wc\n",
        "            if word in pair2word[old_pair]:\n",
        "                pair2word[old_pair].remove(word)\n",
        "        for new_pair in zip(new_toks[:-1], new_toks[1:]):\n",
        "            # pairs_count[new_pair] += wc\n",
        "            delta[new_pair] += wc\n",
        "            pair2word[new_pair].add(word)\n",
        "    # update the heap\n",
        "    for a_pair, a_delta in delta.items():\n",
        "        if a_delta == 0:\n",
        "            continue\n",
        "        if a_pair not in hd:\n",
        "            hd[a_pair] = 0\n",
        "        hd[a_pair] -= a_delta"
      ],
      "metadata": {
        "colab": {
          "base_uri": "https://localhost:8080/",
          "height": 49,
          "referenced_widgets": [
            "09e88dbe65e7493c92727ebb7796465a",
            "7e5fffe3bb3c4f168a5ce723b201db12",
            "1f07c13fb0f642289ef30a33abcfe1b4",
            "e965805cd25e4fad95d6341c5557c0a0",
            "215d9d9d29b643d994223672b5aeea1f",
            "e054557eaaa441c992f04b1149adf63f",
            "5c5fa566e8d546e4b3e9675f93e633ed",
            "f58f9835f83446bb89014984ec6be6a9",
            "18ff0fbbb0194564b9c3f437605800bf",
            "13e0fb8f8e85439aa433fb87cd78413a",
            "76a75b53826345bbb83565ba431bce33"
          ]
        },
        "id": "YrlDtmT3_Dd5",
        "outputId": "7336bf5f-234f-4ba8-fbd8-9b2beb24a5c5"
      },
      "execution_count": null,
      "outputs": [
        {
          "output_type": "display_data",
          "data": {
            "text/plain": [
              "  0%|          | 0/100000 [00:00<?, ?it/s]"
            ],
            "application/vnd.jupyter.widget-view+json": {
              "version_major": 2,
              "version_minor": 0,
              "model_id": "09e88dbe65e7493c92727ebb7796465a"
            }
          },
          "metadata": {}
        }
      ]
    },
    {
      "cell_type": "code",
      "source": [
        "len(extra_pairs)"
      ],
      "metadata": {
        "colab": {
          "base_uri": "https://localhost:8080/"
        },
        "id": "EFrBNW8O_JB_",
        "outputId": "e546b73f-375f-483a-c369-f3df80dabfda"
      },
      "execution_count": null,
      "outputs": [
        {
          "output_type": "execute_result",
          "data": {
            "text/plain": [
              "19491"
            ]
          },
          "metadata": {},
          "execution_count": 30
        }
      ]
    },
    {
      "cell_type": "code",
      "source": [
        "extra_pairs[:10]"
      ],
      "metadata": {
        "colab": {
          "base_uri": "https://localhost:8080/"
        },
        "id": "fof-OZjyEImz",
        "outputId": "23e3eabb-b1af-41c0-a9e1-0c51c0a753c0"
      },
      "execution_count": null,
      "outputs": [
        {
          "output_type": "execute_result",
          "data": {
            "text/plain": [
              "[('з', 'э'),\n",
              " ('тне', 'нь'),\n",
              " ('не', 'нь'),\n",
              " ('с', 'э'),\n",
              " ('н', 'ть'),\n",
              " ('о', 'нь'),\n",
              " ('▁код', 'а'),\n",
              " ('с', 'тэ'),\n",
              " ('лан', 'г'),\n",
              " ('н', 'энь')]"
            ]
          },
          "metadata": {},
          "execution_count": 31
        }
      ]
    },
    {
      "cell_type": "code",
      "source": [
        "extra_pairs[-20:]"
      ],
      "metadata": {
        "colab": {
          "base_uri": "https://localhost:8080/"
        },
        "id": "GoLXgUBwEMZK",
        "outputId": "9b5432bf-1595-4df5-e4a6-92398abf33e8"
      },
      "execution_count": null,
      "outputs": [
        {
          "output_type": "execute_result",
          "data": {
            "text/plain": [
              "[('оз', 'тне'),\n",
              " ('▁нолд', 'тнемс'),\n",
              " ('▁се', 'во'),\n",
              " ('▁вожд', 'есь'),\n",
              " ('▁Ишу', 'ткинэнь'),\n",
              " ('▁Мя', 'ляфт'),\n",
              " ('▁ванькс', 'чи'),\n",
              " ('▁Теньгушев', 'ань'),\n",
              " ('Ис', 'кра'),\n",
              " ('▁кон', 'центр'),\n",
              " ('▁чув', 'тонтень'),\n",
              " ('кова', 'нь'),\n",
              " ('не', 'сэнть'),\n",
              " ('▁Перви', 'чнай'),\n",
              " ('▁азор', 'ост'),\n",
              " ('▁панжи', 'зь'),\n",
              " ('▁руководитель', 'хне'),\n",
              " ('▁с', 'вер'),\n",
              " ('нтень', 'гак'),\n",
              " ('▁Инекуж', 'ось')]"
            ]
          },
          "metadata": {},
          "execution_count": 32
        }
      ]
    },
    {
      "cell_type": "code",
      "source": [
        "tokenizer.vocab_size"
      ],
      "metadata": {
        "colab": {
          "base_uri": "https://localhost:8080/"
        },
        "id": "81mmUqMUEld1",
        "outputId": "400ab172-b573-4909-8578-75ca52b1d9d5"
      },
      "execution_count": null,
      "outputs": [
        {
          "output_type": "execute_result",
          "data": {
            "text/plain": [
              "250054"
            ]
          },
          "metadata": {},
          "execution_count": 33
        }
      ]
    },
    {
      "cell_type": "code",
      "source": [
        "tokenizer.save_pretrained('old_tokenizer')"
      ],
      "metadata": {
        "colab": {
          "base_uri": "https://localhost:8080/"
        },
        "id": "U6xuUvfDFFPm",
        "outputId": "bd60ff52-6ce8-4fb0-8573-57c882d17bea"
      },
      "execution_count": null,
      "outputs": [
        {
          "output_type": "execute_result",
          "data": {
            "text/plain": [
              "('old_tokenizer/tokenizer_config.json',\n",
              " 'old_tokenizer/special_tokens_map.json',\n",
              " 'old_tokenizer/sentencepiece.bpe.model',\n",
              " 'old_tokenizer/added_tokens.json')"
            ]
          },
          "metadata": {},
          "execution_count": 34
        }
      ]
    },
    {
      "cell_type": "code",
      "source": [
        "import sentencepiece_model_pb2 as model\n",
        "m = model.ModelProto()\n",
        "m.ParseFromString(open(\"old_tokenizer/sentencepiece.bpe.model\", \"rb\").read())"
      ],
      "metadata": {
        "colab": {
          "base_uri": "https://localhost:8080/"
        },
        "id": "R4EzzhBDFZBO",
        "outputId": "cb2a7b14-c40f-448f-c57a-fb85797be6a9"
      },
      "execution_count": null,
      "outputs": [
        {
          "output_type": "execute_result",
          "data": {
            "text/plain": [
              "5069051"
            ]
          },
          "metadata": {},
          "execution_count": 35
        }
      ]
    },
    {
      "cell_type": "code",
      "source": [
        "scores = [p.score for p in m.pieces]\n",
        "min_score = min(scores)\n",
        "epsilon = 1e-4"
      ],
      "metadata": {
        "id": "DRypyDAAFh6o"
      },
      "execution_count": null,
      "outputs": []
    },
    {
      "cell_type": "code",
      "source": [
        "tokenizer('приввет')"
      ],
      "metadata": {
        "colab": {
          "base_uri": "https://localhost:8080/"
        },
        "id": "ske1at-4F_k6",
        "outputId": "9795d6be-1216-4597-b7d5-5547b8ab2b02"
      },
      "execution_count": null,
      "outputs": [
        {
          "output_type": "execute_result",
          "data": {
            "text/plain": [
              "{'input_ids': [250004, 37764, 18454, 2], 'attention_mask': [1, 1, 1, 1]}"
            ]
          },
          "metadata": {},
          "execution_count": 37
        }
      ]
    },
    {
      "cell_type": "code",
      "source": [
        "type(m.pieces[37764-1].piece)"
      ],
      "metadata": {
        "colab": {
          "base_uri": "https://localhost:8080/"
        },
        "id": "8m6VhKrQF98h",
        "outputId": "d4987538-0d1e-45f1-a88a-13a4b8622d65"
      },
      "execution_count": null,
      "outputs": [
        {
          "output_type": "execute_result",
          "data": {
            "text/plain": [
              "str"
            ]
          },
          "metadata": {},
          "execution_count": 38
        }
      ]
    },
    {
      "cell_type": "code",
      "source": [
        "for i, pair in enumerate(extra_vocab):\n",
        "    new_token = model.ModelProto().SentencePiece()\n",
        "    new_token.piece = ''.join(pair)\n",
        "    new_token.score = min_score - epsilon * (i+1)\n",
        "    m.pieces.append(new_token)"
      ],
      "metadata": {
        "id": "n630XTqRFck1"
      },
      "execution_count": null,
      "outputs": []
    },
    {
      "cell_type": "code",
      "source": [
        "with open(\"old_tokenizer/sentencepiece.bpe.model\", 'wb') as f:\n",
        "    f.write(m.SerializeToString())"
      ],
      "metadata": {
        "id": "DQXuWtusGX3J"
      },
      "execution_count": null,
      "outputs": []
    },
    {
      "cell_type": "code",
      "source": [
        "new_tokenizer = MBart50Tokenizer.from_pretrained(\n",
        "    \"old_tokenizer/sentencepiece.bpe.model\", \n",
        "    additional_special_tokens = tokenizer.additional_special_tokens\n",
        ")"
      ],
      "metadata": {
        "colab": {
          "base_uri": "https://localhost:8080/"
        },
        "id": "X2OlU5jnGZZB",
        "outputId": "ee102524-203f-4fee-d154-f0aced7dc893"
      },
      "execution_count": null,
      "outputs": [
        {
          "output_type": "stream",
          "name": "stderr",
          "text": [
            "/usr/local/lib/python3.7/dist-packages/transformers/tokenization_utils_base.py:1659: FutureWarning: Calling MBart50Tokenizer.from_pretrained() with the path to a single file or url is deprecated and won't be possible anymore in v5. Use a model identifier or the path to a directory instead.\n",
            "  FutureWarning,\n"
          ]
        }
      ]
    },
    {
      "cell_type": "code",
      "source": [
        "new_tokenizer.vocab_size"
      ],
      "metadata": {
        "colab": {
          "base_uri": "https://localhost:8080/"
        },
        "id": "6e5bOIc9Go0O",
        "outputId": "720764fb-d4e4-45a4-ac45-43dfa4d330c5"
      },
      "execution_count": null,
      "outputs": [
        {
          "output_type": "execute_result",
          "data": {
            "text/plain": [
              "269545"
            ]
          },
          "metadata": {},
          "execution_count": 42
        }
      ]
    },
    {
      "cell_type": "code",
      "source": [
        "from transformers.models.mbart50.tokenization_mbart50 import FAIRSEQ_LANGUAGE_CODES"
      ],
      "metadata": {
        "id": "O2iDBpWnR21e"
      },
      "execution_count": null,
      "outputs": []
    },
    {
      "cell_type": "code",
      "source": [
        "self = new_tokenizer"
      ],
      "metadata": {
        "id": "MBP78uo4RuVC"
      },
      "execution_count": null,
      "outputs": []
    },
    {
      "cell_type": "code",
      "source": [
        "self.lang_code_to_id = {\n",
        "    code: self.sp_model_size + i + self.fairseq_offset for i, code in enumerate(FAIRSEQ_LANGUAGE_CODES + ['myv_XX'])\n",
        "}\n",
        "self.id_to_lang_code = {v: k for k, v in self.lang_code_to_id.items()}\n",
        "self.fairseq_tokens_to_ids[\"<mask>\"] = len(self.sp_model) + len(self.lang_code_to_id) + self.fairseq_offset\n",
        "\n",
        "self.fairseq_tokens_to_ids.update(self.lang_code_to_id)\n",
        "self.fairseq_ids_to_tokens = {v: k for k, v in self.fairseq_tokens_to_ids.items()}\n",
        "\n"
      ],
      "metadata": {
        "id": "PoyHCbHGReNt"
      },
      "execution_count": null,
      "outputs": []
    },
    {
      "cell_type": "code",
      "source": [
        "new_tokenizer.additional_special_tokens.append('myv_XX')"
      ],
      "metadata": {
        "id": "zysID3sFSNQY"
      },
      "execution_count": null,
      "outputs": []
    },
    {
      "cell_type": "code",
      "source": [
        "new_tokenizer.vocab_size"
      ],
      "metadata": {
        "colab": {
          "base_uri": "https://localhost:8080/"
        },
        "id": "e5qjEAhqRyQz",
        "outputId": "0ed8638e-3b41-4622-cdce-4fd42f9ed0eb"
      },
      "execution_count": null,
      "outputs": [
        {
          "output_type": "execute_result",
          "data": {
            "text/plain": [
              "269546"
            ]
          },
          "metadata": {},
          "execution_count": 47
        }
      ]
    },
    {
      "cell_type": "code",
      "source": [
        "len(new_tokenizer)"
      ],
      "metadata": {
        "colab": {
          "base_uri": "https://localhost:8080/"
        },
        "id": "9g9cyQlKSKTI",
        "outputId": "a07f6480-0ab2-4003-9f17-4881ad74588f"
      },
      "execution_count": null,
      "outputs": [
        {
          "output_type": "execute_result",
          "data": {
            "text/plain": [
              "269546"
            ]
          },
          "metadata": {},
          "execution_count": 48
        }
      ]
    },
    {
      "cell_type": "code",
      "source": [
        "text = random.choice(all_sentences)\n",
        "print(text)"
      ],
      "metadata": {
        "colab": {
          "base_uri": "https://localhost:8080/"
        },
        "id": "50Kib-zxGqhR",
        "outputId": "10b8364d-bd96-49e9-8569-1a3334ef900a"
      },
      "execution_count": null,
      "outputs": [
        {
          "output_type": "stream",
          "name": "stdout",
          "text": [
            "Валске марто паксяв туемадо икеле авам мери: — Кода крандазкеть?\n"
          ]
        }
      ]
    },
    {
      "cell_type": "code",
      "source": [
        "print(tokenizer.tokenize(text))\n",
        "print(new_tokenizer.tokenize(text))"
      ],
      "metadata": {
        "colab": {
          "base_uri": "https://localhost:8080/"
        },
        "id": "AEetP6fhGtna",
        "outputId": "698eb9fc-d613-4d90-a64c-3c097838b46f"
      },
      "execution_count": null,
      "outputs": [
        {
          "output_type": "stream",
          "name": "stdout",
          "text": [
            "['▁Вал', 'ске', '▁март', 'о', '▁пак', 'ся', 'в', '▁ту', 'ема', 'до', '▁и', 'ке', 'ле', '▁а', 'вам', '▁мери', ':', '▁—', '▁Ко', 'да', '▁кра', 'нда', 'з', 'ке', 'ть', '?']\n",
            "['▁Валске', '▁март', 'о', '▁паксяв', '▁туемадо', '▁икеле', '▁а', 'вам', '▁мери', ':', '▁—', '▁Ко', 'да', '▁крандаз', 'ке', 'ть', '?']\n"
          ]
        }
      ]
    },
    {
      "cell_type": "code",
      "source": [
        "random.seed(1)\n",
        "sample = random.sample(all_sentences, 10000)"
      ],
      "metadata": {
        "id": "5-RwJ-5LG1S4"
      },
      "execution_count": null,
      "outputs": []
    },
    {
      "cell_type": "code",
      "source": [
        "import pandas as pd"
      ],
      "metadata": {
        "id": "4LJpzGNmHdbF"
      },
      "execution_count": null,
      "outputs": []
    },
    {
      "cell_type": "code",
      "source": [
        "pd.DataFrame({\n",
        "    'old': [len(tokenizer.tokenize(text)) for text in sample], \n",
        "    'new': [len(new_tokenizer.tokenize(text)) for text in sample]\n",
        "}).describe()"
      ],
      "metadata": {
        "colab": {
          "base_uri": "https://localhost:8080/",
          "height": 300
        },
        "id": "EQGncntTG4bA",
        "outputId": "d11816b1-f6fc-4e66-ee08-6688c3e1ed30"
      },
      "execution_count": null,
      "outputs": [
        {
          "output_type": "execute_result",
          "data": {
            "text/plain": [
              "                old           new\n",
              "count  10000.000000  10000.000000\n",
              "mean      30.525400     19.916900\n",
              "std       25.247418     16.810653\n",
              "min        1.000000      1.000000\n",
              "25%       13.000000      9.000000\n",
              "50%       24.000000     15.000000\n",
              "75%       40.000000     26.000000\n",
              "max      397.000000    294.000000"
            ],
            "text/html": [
              "\n",
              "  <div id=\"df-cf1257d0-f288-46c6-98b0-9b0b3d4dc492\">\n",
              "    <div class=\"colab-df-container\">\n",
              "      <div>\n",
              "<style scoped>\n",
              "    .dataframe tbody tr th:only-of-type {\n",
              "        vertical-align: middle;\n",
              "    }\n",
              "\n",
              "    .dataframe tbody tr th {\n",
              "        vertical-align: top;\n",
              "    }\n",
              "\n",
              "    .dataframe thead th {\n",
              "        text-align: right;\n",
              "    }\n",
              "</style>\n",
              "<table border=\"1\" class=\"dataframe\">\n",
              "  <thead>\n",
              "    <tr style=\"text-align: right;\">\n",
              "      <th></th>\n",
              "      <th>old</th>\n",
              "      <th>new</th>\n",
              "    </tr>\n",
              "  </thead>\n",
              "  <tbody>\n",
              "    <tr>\n",
              "      <th>count</th>\n",
              "      <td>10000.000000</td>\n",
              "      <td>10000.000000</td>\n",
              "    </tr>\n",
              "    <tr>\n",
              "      <th>mean</th>\n",
              "      <td>30.525400</td>\n",
              "      <td>19.916900</td>\n",
              "    </tr>\n",
              "    <tr>\n",
              "      <th>std</th>\n",
              "      <td>25.247418</td>\n",
              "      <td>16.810653</td>\n",
              "    </tr>\n",
              "    <tr>\n",
              "      <th>min</th>\n",
              "      <td>1.000000</td>\n",
              "      <td>1.000000</td>\n",
              "    </tr>\n",
              "    <tr>\n",
              "      <th>25%</th>\n",
              "      <td>13.000000</td>\n",
              "      <td>9.000000</td>\n",
              "    </tr>\n",
              "    <tr>\n",
              "      <th>50%</th>\n",
              "      <td>24.000000</td>\n",
              "      <td>15.000000</td>\n",
              "    </tr>\n",
              "    <tr>\n",
              "      <th>75%</th>\n",
              "      <td>40.000000</td>\n",
              "      <td>26.000000</td>\n",
              "    </tr>\n",
              "    <tr>\n",
              "      <th>max</th>\n",
              "      <td>397.000000</td>\n",
              "      <td>294.000000</td>\n",
              "    </tr>\n",
              "  </tbody>\n",
              "</table>\n",
              "</div>\n",
              "      <button class=\"colab-df-convert\" onclick=\"convertToInteractive('df-cf1257d0-f288-46c6-98b0-9b0b3d4dc492')\"\n",
              "              title=\"Convert this dataframe to an interactive table.\"\n",
              "              style=\"display:none;\">\n",
              "        \n",
              "  <svg xmlns=\"http://www.w3.org/2000/svg\" height=\"24px\"viewBox=\"0 0 24 24\"\n",
              "       width=\"24px\">\n",
              "    <path d=\"M0 0h24v24H0V0z\" fill=\"none\"/>\n",
              "    <path d=\"M18.56 5.44l.94 2.06.94-2.06 2.06-.94-2.06-.94-.94-2.06-.94 2.06-2.06.94zm-11 1L8.5 8.5l.94-2.06 2.06-.94-2.06-.94L8.5 2.5l-.94 2.06-2.06.94zm10 10l.94 2.06.94-2.06 2.06-.94-2.06-.94-.94-2.06-.94 2.06-2.06.94z\"/><path d=\"M17.41 7.96l-1.37-1.37c-.4-.4-.92-.59-1.43-.59-.52 0-1.04.2-1.43.59L10.3 9.45l-7.72 7.72c-.78.78-.78 2.05 0 2.83L4 21.41c.39.39.9.59 1.41.59.51 0 1.02-.2 1.41-.59l7.78-7.78 2.81-2.81c.8-.78.8-2.07 0-2.86zM5.41 20L4 18.59l7.72-7.72 1.47 1.35L5.41 20z\"/>\n",
              "  </svg>\n",
              "      </button>\n",
              "      \n",
              "  <style>\n",
              "    .colab-df-container {\n",
              "      display:flex;\n",
              "      flex-wrap:wrap;\n",
              "      gap: 12px;\n",
              "    }\n",
              "\n",
              "    .colab-df-convert {\n",
              "      background-color: #E8F0FE;\n",
              "      border: none;\n",
              "      border-radius: 50%;\n",
              "      cursor: pointer;\n",
              "      display: none;\n",
              "      fill: #1967D2;\n",
              "      height: 32px;\n",
              "      padding: 0 0 0 0;\n",
              "      width: 32px;\n",
              "    }\n",
              "\n",
              "    .colab-df-convert:hover {\n",
              "      background-color: #E2EBFA;\n",
              "      box-shadow: 0px 1px 2px rgba(60, 64, 67, 0.3), 0px 1px 3px 1px rgba(60, 64, 67, 0.15);\n",
              "      fill: #174EA6;\n",
              "    }\n",
              "\n",
              "    [theme=dark] .colab-df-convert {\n",
              "      background-color: #3B4455;\n",
              "      fill: #D2E3FC;\n",
              "    }\n",
              "\n",
              "    [theme=dark] .colab-df-convert:hover {\n",
              "      background-color: #434B5C;\n",
              "      box-shadow: 0px 1px 3px 1px rgba(0, 0, 0, 0.15);\n",
              "      filter: drop-shadow(0px 1px 2px rgba(0, 0, 0, 0.3));\n",
              "      fill: #FFFFFF;\n",
              "    }\n",
              "  </style>\n",
              "\n",
              "      <script>\n",
              "        const buttonEl =\n",
              "          document.querySelector('#df-cf1257d0-f288-46c6-98b0-9b0b3d4dc492 button.colab-df-convert');\n",
              "        buttonEl.style.display =\n",
              "          google.colab.kernel.accessAllowed ? 'block' : 'none';\n",
              "\n",
              "        async function convertToInteractive(key) {\n",
              "          const element = document.querySelector('#df-cf1257d0-f288-46c6-98b0-9b0b3d4dc492');\n",
              "          const dataTable =\n",
              "            await google.colab.kernel.invokeFunction('convertToInteractive',\n",
              "                                                     [key], {});\n",
              "          if (!dataTable) return;\n",
              "\n",
              "          const docLinkHtml = 'Like what you see? Visit the ' +\n",
              "            '<a target=\"_blank\" href=https://colab.research.google.com/notebooks/data_table.ipynb>data table notebook</a>'\n",
              "            + ' to learn more about interactive tables.';\n",
              "          element.innerHTML = '';\n",
              "          dataTable['output_type'] = 'display_data';\n",
              "          await google.colab.output.renderOutput(dataTable, element);\n",
              "          const docLink = document.createElement('div');\n",
              "          docLink.innerHTML = docLinkHtml;\n",
              "          element.appendChild(docLink);\n",
              "        }\n",
              "      </script>\n",
              "    </div>\n",
              "  </div>\n",
              "  "
            ]
          },
          "metadata": {},
          "execution_count": 53
        }
      ]
    },
    {
      "cell_type": "code",
      "source": [
        "new_tokenizer.convert_tokens_to_ids('▁Сталинти')"
      ],
      "metadata": {
        "colab": {
          "base_uri": "https://localhost:8080/"
        },
        "id": "9Z4lO8LnKKbn",
        "outputId": "57abbf96-f736-4b24-bb92-ecd679dd018b"
      },
      "execution_count": null,
      "outputs": [
        {
          "output_type": "execute_result",
          "data": {
            "text/plain": [
              "3"
            ]
          },
          "metadata": {},
          "execution_count": 54
        }
      ]
    },
    {
      "cell_type": "code",
      "source": [
        "new_tot_len, tot_len = 0, 0\n",
        "for text in sample:\n",
        "    for tok in new_tokenizer.tokenize(text):\n",
        "        s = len(tok)\n",
        "        tot_len += s\n",
        "        if new_tokenizer.convert_tokens_to_ids(tok) > len(tokenizer.sp_model):\n",
        "            new_tot_len += s\n",
        "print(new_tot_len / tot_len)"
      ],
      "metadata": {
        "colab": {
          "base_uri": "https://localhost:8080/"
        },
        "id": "X2Ci0kF5HGrx",
        "outputId": "afa76a5e-a612-4eba-ace1-41b2edf0990c"
      },
      "execution_count": null,
      "outputs": [
        {
          "output_type": "stream",
          "name": "stdout",
          "text": [
            "0.5788132198428553\n"
          ]
        }
      ]
    },
    {
      "cell_type": "code",
      "source": [
        "new_tokenizer('Это эрьсеф')"
      ],
      "metadata": {
        "colab": {
          "base_uri": "https://localhost:8080/"
        },
        "id": "l7GzvxWbJDnB",
        "outputId": "7ee3ac54-74c9-4bde-dcff-54643a1898ac"
      },
      "execution_count": null,
      "outputs": [
        {
          "output_type": "execute_result",
          "data": {
            "text/plain": [
              "{'input_ids': [269495, 4619, 250021, 2687, 3988, 2], 'attention_mask': [1, 1, 1, 1, 1, 1]}"
            ]
          },
          "metadata": {},
          "execution_count": 56
        }
      ]
    },
    {
      "cell_type": "code",
      "source": [
        "len(new_tokenizer)"
      ],
      "metadata": {
        "colab": {
          "base_uri": "https://localhost:8080/"
        },
        "id": "wlWHZhn7Jjzz",
        "outputId": "9ccab3cb-e470-402a-8776-fe4ad06f540b"
      },
      "execution_count": null,
      "outputs": [
        {
          "output_type": "execute_result",
          "data": {
            "text/plain": [
              "269546"
            ]
          },
          "metadata": {},
          "execution_count": 57
        }
      ]
    },
    {
      "cell_type": "code",
      "source": [
        "len(m.pieces)"
      ],
      "metadata": {
        "colab": {
          "base_uri": "https://localhost:8080/"
        },
        "id": "1BZvQ6CwJl-e",
        "outputId": "50a6f904-cf71-4329-e231-7a2f6b9a5d00"
      },
      "execution_count": null,
      "outputs": [
        {
          "output_type": "execute_result",
          "data": {
            "text/plain": [
              "269491"
            ]
          },
          "metadata": {},
          "execution_count": 58
        }
      ]
    },
    {
      "cell_type": "code",
      "source": [
        "# model.resize_token_embeddings(len(tokenizer))\n",
        "# todo: move language id embeddings by the distance. "
      ],
      "metadata": {
        "id": "tt8L6M18JYYT"
      },
      "execution_count": null,
      "outputs": []
    },
    {
      "cell_type": "code",
      "source": [
        "new_tokenizer.additional_special_tokens.append('myv_XX')"
      ],
      "metadata": {
        "id": "67r2fE4FQKBJ"
      },
      "execution_count": null,
      "outputs": []
    },
    {
      "cell_type": "markdown",
      "source": [
        "# Calculating tokens alignment"
      ],
      "metadata": {
        "id": "OmX8RvAjHZTF"
      }
    },
    {
      "cell_type": "code",
      "source": [
        "with open('/gd/MyDrive/datasets/nlp/myv_corpus/train.v1.json', 'r') as f:\n",
        "    all_pairs = json.load(f)\n",
        "print(len(all_pairs))"
      ],
      "metadata": {
        "colab": {
          "base_uri": "https://localhost:8080/"
        },
        "id": "nnZ0qEMfH0SG",
        "outputId": "bf737275-5f69-4ae0-ef10-75a71f5faae2"
      },
      "execution_count": null,
      "outputs": [
        {
          "output_type": "stream",
          "name": "stdout",
          "text": [
            "74503\n"
          ]
        }
      ]
    },
    {
      "cell_type": "code",
      "source": [
        "random.choice(all_pairs)"
      ],
      "metadata": {
        "colab": {
          "base_uri": "https://localhost:8080/"
        },
        "id": "Tul-mveNIDrW",
        "outputId": "2ad5ce69-2ea5-4fe5-f490-4601c2358353"
      },
      "execution_count": null,
      "outputs": [
        {
          "output_type": "execute_result",
          "data": {
            "text/plain": [
              "['«Мезе эно миненек теемс?» – кевкстнесть перьканзо аштицятне.',\n",
              " 'И спрашивал его народ: что же нам делать?']"
            ]
          },
          "metadata": {},
          "execution_count": 62
        }
      ]
    },
    {
      "cell_type": "code",
      "source": [
        "from collections import defaultdict, Counter\n",
        "token_priors = Counter()\n",
        "token_to_others = defaultdict(Counter)"
      ],
      "metadata": {
        "id": "wzcOmKlCHkaO"
      },
      "execution_count": null,
      "outputs": []
    },
    {
      "cell_type": "code",
      "source": [],
      "metadata": {
        "id": "V9PqOyEIIZoJ"
      },
      "execution_count": null,
      "outputs": []
    },
    {
      "cell_type": "code",
      "source": [
        "for myv, ru in tqdm(all_pairs):\n",
        "    myv_toks = new_tokenizer.convert_tokens_to_ids(new_tokenizer.tokenize(myv))\n",
        "    ru_toks = tokenizer.convert_tokens_to_ids(tokenizer.tokenize(ru))\n",
        "    token_priors.update(ru_toks)\n",
        "    for myv_tok in myv_toks:\n",
        "        token_to_others[myv_tok].update(ru_toks)"
      ],
      "metadata": {
        "colab": {
          "base_uri": "https://localhost:8080/",
          "height": 49,
          "referenced_widgets": [
            "f92b46913f4c4cdb85ee3d5cbc54f6b2",
            "dcb710a5dce045cb86ff8e9640979b05",
            "22f625a326754d5a8b2bf435aae22dc0",
            "47b5ec9cba6d46c8b6575eb0e0950d81",
            "b49bafa60d024922a175c60f81eb53bb",
            "691866386ca74d9189c85699585851a2",
            "2dd15a2e734048ea9340eaffa3f2f9f7",
            "ae683294a9744e5f85997534da417210",
            "dffb66362ea44160b9806ef9f7c4d57a",
            "a228eac269a54599a2c6ff3283762c6f",
            "503b0b38731b41d4a3ed7eaec3e33a9a"
          ]
        },
        "id": "20ay_7jXIGS6",
        "outputId": "8e22e517-92e5-43de-c21f-0698bbd79756"
      },
      "execution_count": null,
      "outputs": [
        {
          "output_type": "display_data",
          "data": {
            "text/plain": [
              "  0%|          | 0/74503 [00:00<?, ?it/s]"
            ],
            "application/vnd.jupyter.widget-view+json": {
              "version_major": 2,
              "version_minor": 0,
              "model_id": "f92b46913f4c4cdb85ee3d5cbc54f6b2"
            }
          },
          "metadata": {}
        }
      ]
    },
    {
      "cell_type": "code",
      "source": [
        "myv, ru = random.choice(all_pairs)\n",
        "myv, ru"
      ],
      "metadata": {
        "colab": {
          "base_uri": "https://localhost:8080/"
        },
        "id": "7Wdtil42KmpM",
        "outputId": "08bb8224-f0b6-4d89-8b00-c80a1d50b8ad"
      },
      "execution_count": null,
      "outputs": [
        {
          "output_type": "execute_result",
          "data": {
            "text/plain": [
              "('2017 иень якшамковонь 11 чистэ Душанбе ошонть Прявтокс ашти Рустам Эмомали.',\n",
              " 'С 12 января 2017 года мэром города Душанбе является Рустам Эмомали.')"
            ]
          },
          "metadata": {},
          "execution_count": 65
        }
      ]
    },
    {
      "cell_type": "code",
      "source": [
        "print(new_tokenizer.convert_tokens_to_ids(new_tokenizer.tokenize(myv)))"
      ],
      "metadata": {
        "colab": {
          "base_uri": "https://localhost:8080/"
        },
        "id": "RJROKjgzKqaZ",
        "outputId": "c423868a-0f24-4ff0-c79b-87d90fb43406"
      },
      "execution_count": null,
      "outputs": [
        {
          "output_type": "stream",
          "name": "stdout",
          "text": [
            "[505, 35, 10573, 251509, 534, 250108, 139423, 5514, 251672, 268373, 250068, 37695, 21644, 109827, 419, 7310, 5]\n"
          ]
        }
      ]
    },
    {
      "cell_type": "code",
      "source": [
        "myv_tok = 252698"
      ],
      "metadata": {
        "id": "wdWYHxzoKzT0"
      },
      "execution_count": null,
      "outputs": []
    },
    {
      "cell_type": "code",
      "source": [
        "import numpy as np\n",
        "\n",
        "def get_ru_toks(myv_tok):\n",
        "    ru_toks = []\n",
        "    ru_weights = []\n",
        "    for t, w in token_to_others[myv_tok].items():\n",
        "        ru_toks.append(t)\n",
        "        ru_weights.append(w**2 / token_priors[t])\n",
        "    ru_weights = np.array(ru_weights)\n",
        "    ru_weights = ru_weights / (sum(ru_weights) + 1e-4)\n",
        "    return ru_weights, ru_toks"
      ],
      "metadata": {
        "id": "NPK9nGpnLp55"
      },
      "execution_count": null,
      "outputs": []
    },
    {
      "cell_type": "code",
      "source": [
        "sorted(zip(*get_ru_toks(myv_tok)), reverse=True)[:5]"
      ],
      "metadata": {
        "colab": {
          "base_uri": "https://localhost:8080/"
        },
        "id": "J5-9xtSPLJ_U",
        "outputId": "eb9b3b9a-8f1b-4766-c1de-c955d245a05d"
      },
      "execution_count": null,
      "outputs": [
        {
          "output_type": "execute_result",
          "data": {
            "text/plain": [
              "[(0.1676537302589413, 164668),\n",
              " (0.08382686512947066, 108305),\n",
              " (0.08382686512947066, 94416),\n",
              " (0.05588457675298044, 223807),\n",
              " (0.039707462429749256, 46905)]"
            ]
          },
          "metadata": {},
          "execution_count": 69
        }
      ]
    },
    {
      "cell_type": "code",
      "source": [
        "tokenizer.convert_ids_to_tokens([62994, 17921, 117229, 188048, 25982])"
      ],
      "metadata": {
        "colab": {
          "base_uri": "https://localhost:8080/"
        },
        "id": "rzqQSP7AMEmi",
        "outputId": "fb97cb32-359a-4142-b858-7e659e3e1d8e"
      },
      "execution_count": null,
      "outputs": [
        {
          "output_type": "execute_result",
          "data": {
            "text/plain": [
              "['▁первую', '▁справ', '▁карты', 'ведению', '▁ат']"
            ]
          },
          "metadata": {},
          "execution_count": 70
        }
      ]
    },
    {
      "cell_type": "markdown",
      "source": [
        "# Updating the model embeddings"
      ],
      "metadata": {
        "id": "gkLjYSXSLXS2"
      }
    },
    {
      "cell_type": "code",
      "source": [
        "len(new_tokenizer)"
      ],
      "metadata": {
        "colab": {
          "base_uri": "https://localhost:8080/"
        },
        "id": "Yu1imCMsJGEw",
        "outputId": "beb1fb66-e170-4f10-e278-6f71ee52df2c"
      },
      "execution_count": null,
      "outputs": [
        {
          "output_type": "execute_result",
          "data": {
            "text/plain": [
              "269546"
            ]
          },
          "metadata": {},
          "execution_count": 71
        }
      ]
    },
    {
      "cell_type": "code",
      "source": [
        "from transformers import MBartForConditionalGeneration, MBart50Tokenizer\n",
        "model = MBartForConditionalGeneration.from_pretrained(\"facebook/mbart-large-50-many-to-many-mmt\")"
      ],
      "metadata": {
        "id": "3OOd2ulXHLrk"
      },
      "execution_count": null,
      "outputs": []
    },
    {
      "cell_type": "code",
      "source": [
        "model.model.shared"
      ],
      "metadata": {
        "colab": {
          "base_uri": "https://localhost:8080/"
        },
        "id": "YiORIn1PNf_8",
        "outputId": "a089a5d6-dafa-4bff-c94c-a87bf3d7e26a"
      },
      "execution_count": null,
      "outputs": [
        {
          "output_type": "execute_result",
          "data": {
            "text/plain": [
              "Embedding(250054, 1024, padding_idx=1)"
            ]
          },
          "metadata": {},
          "execution_count": 73
        }
      ]
    },
    {
      "cell_type": "code",
      "source": [
        "model.resize_token_embeddings(len(new_tokenizer))"
      ],
      "metadata": {
        "colab": {
          "base_uri": "https://localhost:8080/"
        },
        "id": "YJrUeQelHU2g",
        "outputId": "b9d5c6ab-9e61-4d65-d315-f5c25bf045af"
      },
      "execution_count": null,
      "outputs": [
        {
          "output_type": "execute_result",
          "data": {
            "text/plain": [
              "Embedding(269546, 1024)"
            ]
          },
          "metadata": {},
          "execution_count": 74
        }
      ]
    },
    {
      "cell_type": "markdown",
      "source": [
        "Move added tokens to the end"
      ],
      "metadata": {
        "id": "WIxky8TCJoed"
      }
    },
    {
      "cell_type": "code",
      "source": [
        "n_extra = len(extra_vocab)\n",
        "print(n_extra)\n",
        "old_vocab_size = len(tokenizer.sp_model) + 1"
      ],
      "metadata": {
        "colab": {
          "base_uri": "https://localhost:8080/"
        },
        "id": "7BZF7fBFKLHQ",
        "outputId": "e1c9fa07-fb3c-4cbe-f30e-7cb633edb29e"
      },
      "execution_count": null,
      "outputs": [
        {
          "output_type": "stream",
          "name": "stdout",
          "text": [
            "19491\n"
          ]
        }
      ]
    },
    {
      "cell_type": "code",
      "source": [
        "for old_token_id in range(old_vocab_size, len(tokenizer)):\n",
        "    old_token = tokenizer.convert_ids_to_tokens(old_token_id)\n",
        "    new_token_id = new_tokenizer.convert_tokens_to_ids(old_token)\n",
        "    \n",
        "    print(old_token_id, old_token, new_token_id)\n",
        "    # model.model.shared.weight.data[i + n_extra] = model.model.shared.weight.data[i]\n",
        "    model.model.shared.weight.data[new_token_id] = model.model.shared.weight.data[old_token_id]"
      ],
      "metadata": {
        "colab": {
          "base_uri": "https://localhost:8080/"
        },
        "id": "RHXRzLOuJqha",
        "outputId": "731217a9-cfa3-4286-8848-a61d23ea48e4"
      },
      "execution_count": null,
      "outputs": [
        {
          "output_type": "stream",
          "name": "stdout",
          "text": [
            "250001 ar_AR 269492\n",
            "250002 cs_CZ 269493\n",
            "250003 de_DE 269494\n",
            "250004 en_XX 269495\n",
            "250005 es_XX 269496\n",
            "250006 et_EE 269497\n",
            "250007 fi_FI 269498\n",
            "250008 fr_XX 269499\n",
            "250009 gu_IN 269500\n",
            "250010 hi_IN 269501\n",
            "250011 it_IT 269502\n",
            "250012 ja_XX 269503\n",
            "250013 kk_KZ 269504\n",
            "250014 ko_KR 269505\n",
            "250015 lt_LT 269506\n",
            "250016 lv_LV 269507\n",
            "250017 my_MM 269508\n",
            "250018 ne_NP 269509\n",
            "250019 nl_XX 269510\n",
            "250020 ro_RO 269511\n",
            "250021 ru_RU 269512\n",
            "250022 si_LK 269513\n",
            "250023 tr_TR 269514\n",
            "250024 vi_VN 269515\n",
            "250025 zh_CN 269516\n",
            "250026 af_ZA 269517\n",
            "250027 az_AZ 269518\n",
            "250028 bn_IN 269519\n",
            "250029 fa_IR 269520\n",
            "250030 he_IL 269521\n",
            "250031 hr_HR 269522\n",
            "250032 id_ID 269523\n",
            "250033 ka_GE 269524\n",
            "250034 km_KH 269525\n",
            "250035 mk_MK 269526\n",
            "250036 ml_IN 269527\n",
            "250037 mn_MN 269528\n",
            "250038 mr_IN 269529\n",
            "250039 pl_PL 269530\n",
            "250040 ps_AF 269531\n",
            "250041 pt_XX 269532\n",
            "250042 sv_SE 269533\n",
            "250043 sw_KE 269534\n",
            "250044 ta_IN 269535\n",
            "250045 te_IN 269536\n",
            "250046 th_TH 269537\n",
            "250047 tl_XX 269538\n",
            "250048 uk_UA 269539\n",
            "250049 ur_PK 269540\n",
            "250050 xh_ZA 269541\n",
            "250051 gl_ES 269542\n",
            "250052 sl_SI 269543\n",
            "250053 <mask> 269545\n"
          ]
        }
      ]
    },
    {
      "cell_type": "markdown",
      "source": [
        "Because we have added one more language, its id must be computed separately, e.g. as an average of related languages."
      ],
      "metadata": {
        "id": "1a6jfopgSuX4"
      }
    },
    {
      "cell_type": "code",
      "source": [
        "model.model.shared.weight.data[new_tokenizer.convert_tokens_to_ids('myv_XX')] = (\n",
        "    model.model.shared.weight.data[tokenizer.convert_tokens_to_ids('fi_FI')] * 0.3\n",
        "    + model.model.shared.weight.data[tokenizer.convert_tokens_to_ids('et_EE')] * 0.3\n",
        "    + model.model.shared.weight.data[tokenizer.convert_tokens_to_ids('ru_RU')] * 0.3\n",
        ")"
      ],
      "metadata": {
        "id": "ff9yFbZ0UB2k"
      },
      "execution_count": null,
      "outputs": []
    },
    {
      "cell_type": "markdown",
      "source": [
        "Compute embeddings for newly added tokens"
      ],
      "metadata": {
        "id": "mN4j2nL8NQe4"
      }
    },
    {
      "cell_type": "code",
      "source": [
        "for i in trange(n_extra):\n",
        "    myv_tok = i + old_vocab_size\n",
        "    ru_weights, ru_toks = get_ru_toks(myv_tok)\n",
        "    if len(ru_toks) > 0:\n",
        "        new_embedding = (model.model.shared.weight.data[ru_toks].T * ru_weights).sum(1)\n",
        "        model.model.shared.weight.data[myv_tok] = new_embedding"
      ],
      "metadata": {
        "colab": {
          "base_uri": "https://localhost:8080/",
          "height": 49,
          "referenced_widgets": [
            "177da0f4fffa42aab50b46e84e540de0",
            "53cd9c1efe3146b9bbda4783713208ee",
            "4639d933cd384dda8489dd821ad86a3b",
            "2df86f6d045a4f6a86bfa4108fbf98e0",
            "897d35c222a0415fa8a659dd4a5709e5",
            "003bb816cd6d4f929d2ff0b02a46e6c1",
            "f2a2d9e8400843d5a9580b7f78502e55",
            "a9da7381c1124d74bfd2705d71a46159",
            "9020b43aac224beca92f7429ce9b0ca8",
            "02251c29d24140d1b6af43a8b2680858",
            "4447bf1697a345c3b7c223f93fcbec5b"
          ]
        },
        "id": "hOj19oPgMO2C",
        "outputId": "a3b1e0c3-bf53-4639-d528-f6e73d876526"
      },
      "execution_count": null,
      "outputs": [
        {
          "output_type": "display_data",
          "data": {
            "text/plain": [
              "  0%|          | 0/19491 [00:00<?, ?it/s]"
            ],
            "application/vnd.jupyter.widget-view+json": {
              "version_major": 2,
              "version_minor": 0,
              "model_id": "177da0f4fffa42aab50b46e84e540de0"
            }
          },
          "metadata": {}
        }
      ]
    },
    {
      "cell_type": "code",
      "source": [
        "# !mkdir /gd/MyDrive/models/myv"
      ],
      "metadata": {
        "id": "aT4symIGVS6s"
      },
      "execution_count": null,
      "outputs": []
    },
    {
      "cell_type": "code",
      "source": [
        "new_model_path = '/gd/MyDrive/models/myv/mbart-large-51-myv-raw'"
      ],
      "metadata": {
        "id": "WH-Iqfd2VN8o"
      },
      "execution_count": null,
      "outputs": []
    },
    {
      "cell_type": "code",
      "source": [
        "model.save_pretrained(new_model_path)\n",
        "new_tokenizer.save_pretrained(new_model_path)"
      ],
      "metadata": {
        "colab": {
          "base_uri": "https://localhost:8080/"
        },
        "id": "F5oCjyCbVfl4",
        "outputId": "0a5d6069-aa74-4332-e752-0c739a988e18"
      },
      "execution_count": null,
      "outputs": [
        {
          "output_type": "execute_result",
          "data": {
            "text/plain": [
              "('/gd/MyDrive/models/myv/mbart-large-51-myv-raw/tokenizer_config.json',\n",
              " '/gd/MyDrive/models/myv/mbart-large-51-myv-raw/special_tokens_map.json',\n",
              " '/gd/MyDrive/models/myv/mbart-large-51-myv-raw/sentencepiece.bpe.model',\n",
              " '/gd/MyDrive/models/myv/mbart-large-51-myv-raw/added_tokens.json')"
            ]
          },
          "metadata": {},
          "execution_count": 93
        }
      ]
    },
    {
      "cell_type": "code",
      "source": [
        "!ls -alsh $new_model_path"
      ],
      "metadata": {
        "colab": {
          "base_uri": "https://localhost:8080/"
        },
        "id": "UsuPFoZaVnh7",
        "outputId": "6fa01875-4461-40d8-9dbc-260cf616a076"
      },
      "execution_count": null,
      "outputs": [
        {
          "output_type": "stream",
          "name": "stdout",
          "text": [
            "total 2.4G\n",
            "1.5K -rw------- 1 root root 1.4K Jun 27 08:45 config.json\n",
            "2.4G -rw------- 1 root root 2.4G Jun 27 08:45 pytorch_model.bin\n",
            "5.3M -rw------- 1 root root 5.3M Jun 27 08:45 sentencepiece.bpe.model\n",
            "1.0K -rw------- 1 root root  970 Jun 27 08:45 special_tokens_map.json\n",
            "1.5K -rw------- 1 root root 1.2K Jun 27 08:45 tokenizer_config.json\n"
          ]
        }
      ]
    },
    {
      "cell_type": "markdown",
      "source": [
        "Check that the model is still able to translate texts.  "
      ],
      "metadata": {
        "id": "mPGGocvIMuBw"
      }
    },
    {
      "cell_type": "code",
      "source": [
        "article_hi = \"संयुक्त राष्ट्र के प्रमुख का कहना है कि सीरिया में कोई सैन्य समाधान नहीं है\"\n",
        "\n",
        "# translate Hindi to French\n",
        "new_tokenizer.src_lang = \"hi_IN\"\n",
        "encoded_hi = new_tokenizer(article_hi, return_tensors=\"pt\")\n",
        "generated_tokens = model.generate(\n",
        "    **encoded_hi,\n",
        "    forced_bos_token_id=new_tokenizer.lang_code_to_id[\"fr_XX\"], \n",
        "    max_length=30, \n",
        "    num_beams=1\n",
        ")\n",
        "new_tokenizer.batch_decode(generated_tokens, skip_special_tokens=True)\n",
        "# => \"Le chef de l 'ONU affirme qu 'il n 'y a pas de solution militaire dans la Syrie.\""
      ],
      "metadata": {
        "colab": {
          "base_uri": "https://localhost:8080/"
        },
        "id": "w0QLB146M7EA",
        "outputId": "cc5180d2-9c02-4b16-b6c6-46587e3fc326"
      },
      "execution_count": null,
      "outputs": [
        {
          "output_type": "execute_result",
          "data": {
            "text/plain": [
              "[\"Le chef de la mission de l 'ONU a déclaré qu 'il n' y a pas de solution militaire en Syria.\"]"
            ]
          },
          "metadata": {},
          "execution_count": 147
        }
      ]
    },
    {
      "cell_type": "markdown",
      "source": [
        "Translation to Russian has broken, because some new myv tokens are very Russian-like, and they interere. "
      ],
      "metadata": {
        "id": "zXocgblnhpBV"
      }
    },
    {
      "cell_type": "code",
      "source": [
        "generated_tokens = model.generate(\n",
        "    **encoded_hi,\n",
        "    forced_bos_token_id=new_tokenizer.lang_code_to_id[\"ru_RU\"], \n",
        "    max_length=30, \n",
        "    num_beams=5,\n",
        "    repetition_penalty=30.0,\n",
        ")\n",
        "new_tokenizer.batch_decode(generated_tokens, skip_special_tokens=True)\n",
        "# => \"Le chef de l 'ONU affirme qu 'il n 'y a pas de solution militaire dans la Syrie.\""
      ],
      "metadata": {
        "colab": {
          "base_uri": "https://localhost:8080/"
        },
        "id": "faT6JI1khgeM",
        "outputId": "db06361e-2895-4163-816b-29a186d8fd5c"
      },
      "execution_count": null,
      "outputs": [
        {
          "output_type": "execute_result",
          "data": {
            "text/plain": [
              "[\"пендик Джак театра United Nations says there's no military solution in Syria. < s > васендакигейкс пропагандист районы  Таняэрзянские US Secretary\"]"
            ]
          },
          "metadata": {},
          "execution_count": 149
        }
      ]
    },
    {
      "cell_type": "markdown",
      "source": [
        "For some reason, even with new tokens prohibited, translation to Russian is poor. "
      ],
      "metadata": {
        "id": "kWxUxNVwiYT-"
      }
    },
    {
      "cell_type": "code",
      "source": [
        "generated_tokens = model.generate(\n",
        "    **encoded_hi,\n",
        "    forced_bos_token_id=new_tokenizer.lang_code_to_id[\"ru_RU\"], \n",
        "    max_length=30, \n",
        "    num_beams=5,\n",
        "    repetition_penalty=30.0,\n",
        "    bad_words_ids=[[t] for t in range(n_extra, n_extra+old_vocab_size)]\n",
        ")\n",
        "new_tokenizer.batch_decode(generated_tokens, skip_special_tokens=True)\n",
        "# => \"Le chef de l 'ONU affirme qu 'il n 'y a pas de solution militaire dans la Syrie.\""
      ],
      "metadata": {
        "colab": {
          "base_uri": "https://localhost:8080/"
        },
        "id": "J36pPznKhyBe",
        "outputId": "2bb49d36-2786-4000-ac6a-4eeb6f5649c0"
      },
      "execution_count": null,
      "outputs": [
        {
          "output_type": "execute_result",
          "data": {
            "text/plain": [
              "[\"«They don 't want to know what' s going on here, but they think that there is a lot of room for\"]"
            ]
          },
          "metadata": {},
          "execution_count": 151
        }
      ]
    },
    {
      "cell_type": "markdown",
      "source": [
        "translate from Erzya! The model cannot do this, but it tries hard. "
      ],
      "metadata": {
        "id": "04WjQii9PhWq"
      }
    },
    {
      "cell_type": "code",
      "source": [
        "myv, ru = random.choice(all_pairs)\n",
        "myv, ru"
      ],
      "metadata": {
        "colab": {
          "base_uri": "https://localhost:8080/"
        },
        "id": "-krb9RmvVzDa",
        "outputId": "ffd032c6-8f22-4542-b7ce-6cc1100b0179"
      },
      "execution_count": null,
      "outputs": [
        {
          "output_type": "execute_result",
          "data": {
            "text/plain": [
              "('Шнынк Азоронть, весе кеметь ды виевть Сонзэ ангелэнзэ, конат топавтыть Сонзэ валонзо ды кунсолыть Сонзэ кармавтоманзо!',\n",
              " 'Благословите Господа, все Ангелы Его, крепкие силою, исполняющие слово Его, повинуясь гласу слова Его;')"
            ]
          },
          "metadata": {},
          "execution_count": 144
        }
      ]
    },
    {
      "cell_type": "code",
      "source": [
        "new_tokenizer.src_lang = \"myv_XX\"\n",
        "encoded_hi = new_tokenizer(myv, return_tensors=\"pt\")\n",
        "generated_tokens = model.generate(\n",
        "    **encoded_hi,\n",
        "    forced_bos_token_id=new_tokenizer.lang_code_to_id[\"ru_RU\"], \n",
        "    max_length=30, \n",
        "    num_beams=5,\n",
        "    repetition_penalty=30.0\n",
        ")\n",
        "new_tokenizer.batch_decode(generated_tokens, skip_special_tokens=True)"
      ],
      "metadata": {
        "colab": {
          "base_uri": "https://localhost:8080/"
        },
        "id": "AdfswQE0QDA5",
        "outputId": "c8a95971-1add-404a-ac99-58a04d8289b5"
      },
      "execution_count": null,
      "outputs": [
        {
          "output_type": "execute_result",
          "data": {
            "text/plain": [
              "['Ванс оямменнай God,  Кати His angels and conatnam Him from the bottom of your feet! ( руководительхнеа) елав']"
            ]
          },
          "metadata": {},
          "execution_count": 145
        }
      ]
    },
    {
      "cell_type": "code",
      "source": [],
      "metadata": {
        "id": "OuB4SKdFWPq-"
      },
      "execution_count": null,
      "outputs": []
    }
  ]
}