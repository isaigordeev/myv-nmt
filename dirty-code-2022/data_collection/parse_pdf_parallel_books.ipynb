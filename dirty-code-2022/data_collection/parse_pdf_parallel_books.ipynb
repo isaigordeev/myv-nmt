{
 "cells": [
  {
   "cell_type": "markdown",
   "id": "d9330f70",
   "metadata": {},
   "source": [
    "https://towardsdatascience.com/pdf-preprocessing-with-python-19829752af9f\n",
    "```\n",
    "pip install pdfminer.six\n",
    "pip install PyPDF2\n",
    "```"
   ]
  },
  {
   "cell_type": "markdown",
   "id": "35d16f52",
   "metadata": {},
   "source": [
    "# BrizhinskiyVasiliySergeevich_001"
   ]
  },
  {
   "cell_type": "markdown",
   "id": "cb1403fb",
   "metadata": {},
   "source": [
    "https://pdfminersix.readthedocs.io/en/latest/tutorial/extract_pages.html"
   ]
  },
  {
   "cell_type": "code",
   "execution_count": 5,
   "id": "8739b669",
   "metadata": {},
   "outputs": [],
   "source": [
    "from io import StringIO\n",
    "from pdfminer.high_level import extract_text_to_fp\n",
    "from pdfminer.layout import LAParams"
   ]
  },
  {
   "cell_type": "code",
   "execution_count": 7,
   "id": "19ad2c02",
   "metadata": {},
   "outputs": [],
   "source": [
    "import pdfminer.high_level"
   ]
  },
  {
   "cell_type": "code",
   "execution_count": 10,
   "id": "d842056c",
   "metadata": {},
   "outputs": [],
   "source": [
    "from pdfminer.high_level import extract_pages\n",
    "from pdfminer.layout import LTTextContainer, LTChar\n",
    "\n",
    "page_id = 0\n",
    "\n",
    "items = []\n",
    "\n",
    "for page_layout in extract_pages(\"books_parallel/BrizhinskiyVasiliySergeevich_001.pdf\"):\n",
    "    page_id += 1\n",
    "    if page_id < 2:\n",
    "        continue\n",
    "    if page_id  > 2:\n",
    "        break\n",
    "    for element in page_layout:\n",
    "        if isinstance(element, LTTextContainer):\n",
    "            for text_line in element:\n",
    "                if not hasattr(text_line, 'bbox'):\n",
    "                    print(text_line, 'no bbox')\n",
    "                    continue\n",
    "                text = text_line.get_text()\n",
    "                items.append([text, text_line.bbox])"
   ]
  },
  {
   "cell_type": "code",
   "execution_count": 11,
   "id": "7bf9b90c",
   "metadata": {},
   "outputs": [
    {
     "data": {
      "text/plain": [
       "[['БРЫЖИНСКИЙ\\n',\n",
       "  (314.765, 612.0110000000001, 432.48019999999997, 628.0110000000001)],\n",
       " ['Василий\\n', (314.765, 595.691, 371.7666, 611.691)],\n",
       " ['Сергеевич\\n', (314.765, 579.1902, 381.48179999999996, 595.1902)],\n",
       " ['Чачсь  1934  иень  январень  19%це  чистэ\\n',\n",
       "  (124.565, 530.2850000000001, 304.62300000000005, 540.2850000000001)],\n",
       " ['МР%нь Кочкуровань райононь Од Тягловка\\n',\n",
       "  (111.845, 519.3050000000001, 304.56899999999996, 529.3050000000001)],\n",
       " ['велесэ,  театровед,  режиссёр,  педагог.  Ис%\\n',\n",
       "  (111.845, 508.325, 304.63200000000023, 518.325)],\n",
       " ['кусствоведениянь кандидат (1983), доцент\\n',\n",
       "  (111.845, 497.28499999999997, 304.56500000000005, 507.28499999999997)],\n",
       " ['(1988).  РФ%нь  ды  МАССР%нь  культурань\\n',\n",
       "  (111.84500000000003, 486.30499999999995, 304.557, 496.30499999999995)],\n",
       " ['заслуженной роботник (1999, 1977). МР%нь\\n',\n",
       "  (111.84500000000003, 475.32499999999993, 304.547, 485.32499999999993)],\n",
       " ['Государственной  премиянь  лауреат  (2005).\\n',\n",
       "  (111.84500000000003,\n",
       "   464.2849999999999,\n",
       "   304.59300000000013,\n",
       "   474.2849999999999)],\n",
       " ['Эрзя.  Чачсь  сокицянь%видицянь  семиясо.\\n',\n",
       "  (111.84500000000003,\n",
       "   453.3049999999999,\n",
       "   304.57400000000007,\n",
       "   463.3049999999999)],\n",
       " ['Прядынзе Мордовской учителень институ%\\n',\n",
       "  (111.84500000000003,\n",
       "   442.3249999999999,\n",
       "   304.5590000000002,\n",
       "   452.3249999999999)],\n",
       " ['тонть (1952), театрань, музыкань ды кине%\\n',\n",
       "  (111.84500000000003,\n",
       "   431.28499999999985,\n",
       "   304.62000000000023,\n",
       "   441.28499999999985)],\n",
       " ['матографиянь Ленинградонь институтонть\\n',\n",
       "  (111.84500000000003,\n",
       "   420.30499999999984,\n",
       "   304.5630000000002,\n",
       "   430.30499999999984)],\n",
       " ['(1964). 1952 — 1958  иетнестэ важодсь Куй%\\n',\n",
       "  (111.84500000000003,\n",
       "   409.3249999999998,\n",
       "   304.5660000000001,\n",
       "   419.3249999999998)],\n",
       " ['бышевань \\n',\n",
       "  (111.84500000000003,\n",
       "   398.3449999999998,\n",
       "   159.06100000000004,\n",
       "   408.3449999999998)],\n",
       " ['областень  Покш  Толкан,\\n',\n",
       "  (170.65800000000002,\n",
       "   398.3449999999998,\n",
       "   304.56800000000004,\n",
       "   408.3449999999998)],\n",
       " ['МАССР%нь Од Мурзань (Н. Турдаки) сред%\\n',\n",
       "  (111.84500000000003,\n",
       "   387.3049999999998,\n",
       "   304.5740000000002,\n",
       "   397.3049999999998)],\n",
       " ['ней  школатнесэ.  1958 — 1959  иетнестэ —\\n',\n",
       "  (111.84500000000003,\n",
       "   376.32499999999976,\n",
       "   304.5470000000001,\n",
       "   386.32499999999976)],\n",
       " ['ВЛКСМ%нь  Мордовской  ОК%нь  школань\\n',\n",
       "  (114.30500000000006,\n",
       "   365.34499999999974,\n",
       "   304.57600000000025,\n",
       "   375.34499999999974)],\n",
       " ['отделэнь  инструктор.  1964  иестэ  саезь —\\n',\n",
       "  (111.84500000000007,\n",
       "   354.3049999999997,\n",
       "   304.5120000000003,\n",
       "   364.3049999999997)],\n",
       " ['Мордовской \\n',\n",
       "  (111.84500000000007,\n",
       "   343.3249999999997,\n",
       "   170.3450000000001,\n",
       "   353.3249999999997)],\n",
       " ['гостелерадионь  режиссёр,\\n',\n",
       "  (179.6740000000001, 343.3249999999997, 304.571, 353.3249999999997)],\n",
       " ['1973 — 1984  иетнестэ — главной  режиссёр.\\n',\n",
       "  (111.84500000000007,\n",
       "   332.3449999999997,\n",
       "   304.56100000000004,\n",
       "   342.3449999999997)],\n",
       " ['Путынзе  спектаклятнень:  А.  Жариковонь\\n',\n",
       "  (111.84500000000007,\n",
       "   321.30499999999967,\n",
       "   304.56400000000025,\n",
       "   331.30499999999967)],\n",
       " ['«Мой суровый друг», П. Кирилловонь «Учи%\\n',\n",
       "  (111.84500000000007,\n",
       "   310.32499999999965,\n",
       "   304.5499999999999,\n",
       "   320.32499999999965)],\n",
       " ['тельница» (1968), К. Абрамовонь «Лес шу%\\n',\n",
       "  (111.84500000000007,\n",
       "   299.34499999999963,\n",
       "   304.57700000000006,\n",
       "   309.34499999999963)],\n",
       " ['меть  не  перестал»  (1970),  «Люди  стали\\n',\n",
       "  (111.84500000000007,\n",
       "   288.3049999999996,\n",
       "   304.5590000000001,\n",
       "   298.3049999999996)],\n",
       " ['близкими (1971), «Дым над землёй» (1972),\\n',\n",
       "  (111.84500000000007, 277.3249999999996, 304.595, 287.3249999999996)],\n",
       " ['А. Дорогойченконь «Большая Каменка» ды\\n',\n",
       "  (111.84500000000007,\n",
       "   266.3449999999996,\n",
       "   304.5810000000001,\n",
       "   276.3449999999996)],\n",
       " ['лият; документальной фильматнень: «Род%\\n',\n",
       "  (111.84500000000007,\n",
       "   255.30499999999955,\n",
       "   304.58200000000016,\n",
       "   265.30499999999955)],\n",
       " ['ные  напевы,  «Академик  живописи»,  «Ху%\\n',\n",
       "  (111.84500000000007,\n",
       "   244.32499999999956,\n",
       "   304.51900000000006,\n",
       "   254.32499999999956)],\n",
       " ['дожник Илюхин», «Писатель Кузьма Абра%\\n',\n",
       "  (111.84500000000007,\n",
       "   233.34499999999957,\n",
       "   304.55300000000017,\n",
       "   243.34499999999957)],\n",
       " ['мов».  Теде  башка  невтизе  прянзо  театрань\\n',\n",
       "  (111.84500000000007,\n",
       "   222.30499999999958,\n",
       "   304.5300000000001,\n",
       "   232.30499999999958)],\n",
       " ['паро  критикекс,  эрзя%мокшонь  раськень\\n',\n",
       "  (111.84500000000007,\n",
       "   211.3249999999996,\n",
       "   304.51700000000017,\n",
       "   221.3249999999996)],\n",
       " ['театрань  кезэрень  коень  тонавтницякс.\\n',\n",
       "  (111.84500000000007,\n",
       "   200.3449999999996,\n",
       "   304.5670000000001,\n",
       "   210.3449999999996)],\n",
       " ['1984 — 2002 \\n',\n",
       "  (111.84500000000008,\n",
       "   189.3049999999996,\n",
       "   170.96500000000012,\n",
       "   199.3049999999996)],\n",
       " ['иетнестэ — Мордовской\\n',\n",
       "  (188.5170000000001,\n",
       "   189.3049999999996,\n",
       "   304.57200000000006,\n",
       "   199.3049999999996)],\n",
       " ['государственной  университетэнь  старшей\\n',\n",
       "  (111.84500000000008, 178.32499999999962, 304.557, 188.32499999999962)],\n",
       " ['преподаватель, доцент, профессор, националь%\\n',\n",
       "  (111.84500000000008,\n",
       "   167.34499999999963,\n",
       "   304.5569999999999,\n",
       "   177.34499999999963)],\n",
       " ['ной  культурань  факультетэнь  декан,\\n',\n",
       "  (111.84500000000008,\n",
       "   156.30499999999964,\n",
       "   304.64200000000005,\n",
       "   166.30499999999964)],\n",
       " ['«Масторава» обществань член.\\n',\n",
       "  (111.84500000000008,\n",
       "   145.32499999999965,\n",
       "   249.79600000000016,\n",
       "   155.32499999999965)],\n",
       " ['Родился 19 января 1934 года в деревне\\n',\n",
       "  (328.68500000000006,\n",
       "   530.2849999999997,\n",
       "   508.6750000000002,\n",
       "   540.2849999999997)],\n",
       " ['Н. Тягловка ныне Кочкуровского района\\n',\n",
       "  (315.9050000000001, 519.3049999999997, 508.685, 529.3049999999997)],\n",
       " ['РМ,  театровед,  режиссёр,  педагог.  Кан%\\n',\n",
       "  (315.9050000000001,\n",
       "   508.32499999999965,\n",
       "   508.6830000000002,\n",
       "   518.3249999999997)],\n",
       " ['дидат  искусствоведения  (1983),  доцент\\n',\n",
       "  (315.9050000000001,\n",
       "   497.2849999999996,\n",
       "   508.6200000000002,\n",
       "   507.2849999999996)],\n",
       " ['(1988). Заслуженный работник культуры\\n',\n",
       "  (315.9050000000001,\n",
       "   486.3049999999996,\n",
       "   508.7040000000001,\n",
       "   496.3049999999996)],\n",
       " ['РФ  (1999),  МАССР  (1977).  Мордвин\\n',\n",
       "  (315.9050000000001,\n",
       "   475.3249999999996,\n",
       "   508.6870000000001,\n",
       "   485.3249999999996)],\n",
       " ['(эрзя).  Родился  в  крестьянской  семье.\\n',\n",
       "  (315.9050000000001,\n",
       "   464.28499999999957,\n",
       "   508.6170000000001,\n",
       "   474.28499999999957)],\n",
       " ['Окончил  Мордовский  учительский  ин%\\n',\n",
       "  (315.9050000000001,\n",
       "   453.30499999999955,\n",
       "   508.62700000000007,\n",
       "   463.30499999999955)],\n",
       " ['ститут (1952),  Ленинградский институт\\n',\n",
       "  (315.9050000000001,\n",
       "   442.32499999999953,\n",
       "   508.61600000000004,\n",
       "   452.32499999999953)],\n",
       " ['театра,  музыки  и  кинематографии\\n',\n",
       "  (315.9050000000001,\n",
       "   431.2849999999995,\n",
       "   508.6350000000001,\n",
       "   441.2849999999995)],\n",
       " ['(1964).\\n',\n",
       "  (315.9050000000001,\n",
       "   420.3049999999995,\n",
       "   348.1250000000001,\n",
       "   430.3049999999995)],\n",
       " ['В 1952 — 1958 годы работал в школах\\n',\n",
       "  (328.68500000000006, 409.3249999999995, 508.685, 419.3249999999995)],\n",
       " ['сел  Б.  Толкай  Куйбышевской  области,\\n',\n",
       "  (315.9050000000001,\n",
       "   398.34499999999946,\n",
       "   508.69100000000003,\n",
       "   408.34499999999946)],\n",
       " ['Н. Турдаки МАССР. В 1958 — 1959 годы —\\n',\n",
       "  (315.9050000000001,\n",
       "   387.30499999999944,\n",
       "   508.66200000000015,\n",
       "   397.30499999999944)],\n",
       " ['инструктор школьного отдела Мордовской\\n',\n",
       "  (315.9050000000001,\n",
       "   376.3249999999994,\n",
       "   508.6750000000002,\n",
       "   386.3249999999994)],\n",
       " ['ОК  ВЛКСМ.\\n',\n",
       "  (315.9050000000001,\n",
       "   365.3449999999994,\n",
       "   375.9050000000001,\n",
       "   375.3449999999994)],\n",
       " ['С  1964  года — режиссер,  в  1973 — 1984\\n',\n",
       "  (328.68500000000006,\n",
       "   354.3049999999994,\n",
       "   508.6130000000001,\n",
       "   364.3049999999994)],\n",
       " ['годы — главный режиссер Мордовского гос%\\n',\n",
       "  (315.9050000000001,\n",
       "   343.32499999999936,\n",
       "   508.6340000000001,\n",
       "   353.32499999999936)],\n",
       " ['телерадио. Поставил спектакли «Мой суро%\\n',\n",
       "  (315.9050000000001,\n",
       "   332.34499999999935,\n",
       "   508.62700000000007,\n",
       "   342.34499999999935)],\n",
       " ['вый  друг»  А.  Жарикова,  «Учительница\\n',\n",
       "  (315.9050000000001,\n",
       "   321.3049999999993,\n",
       "   508.6730000000002,\n",
       "   331.3049999999993)],\n",
       " ['(1968) П. Кириллова, «Лес шуметь не пере%\\n',\n",
       "  (315.9050000000001,\n",
       "   310.3249999999993,\n",
       "   508.63500000000016,\n",
       "   320.3249999999993)],\n",
       " ['стал»  (1970),  «Люди  стали  близкими»\\n',\n",
       "  (315.9050000000001,\n",
       "   299.3449999999993,\n",
       "   508.62700000000024,\n",
       "   309.3449999999993)],\n",
       " ['(1971), «Дым над землей» (1972) К. Абрамо%\\n',\n",
       "  (315.9050000000001,\n",
       "   288.30499999999927,\n",
       "   508.6770000000002,\n",
       "   298.30499999999927)],\n",
       " ['ва, «Большая Каменка» (1974) А. Дорогой%\\n',\n",
       "  (315.9050000000001,\n",
       "   277.32499999999925,\n",
       "   508.64300000000014,\n",
       "   287.32499999999925)],\n",
       " ['ченко  и  другие;  документальные  фильмы\\n',\n",
       "  (315.9050000000001,\n",
       "   266.34499999999923,\n",
       "   508.6290000000002,\n",
       "   276.34499999999923)],\n",
       " ['«Родные  напевы»,  «Академик  живописи»,\\n',\n",
       "  (315.9050000000001,\n",
       "   255.3049999999992,\n",
       "   508.60100000000017,\n",
       "   265.3049999999992)],\n",
       " ['«Художник Илюхин», «Писатель Кузьма Аб%\\n',\n",
       "  (315.9050000000001,\n",
       "   244.32499999999922,\n",
       "   508.7030000000002,\n",
       "   254.32499999999922)],\n",
       " ['рамов» и другие.\\n',\n",
       "  (315.9050000000001,\n",
       "   233.34499999999923,\n",
       "   390.9050000000001,\n",
       "   243.34499999999923)],\n",
       " ['С  1964  года  известен  как  театральный\\n',\n",
       "  (328.68500000000006,\n",
       "   222.30499999999924,\n",
       "   508.67499999999995,\n",
       "   232.30499999999924)],\n",
       " ['традиционных\\n',\n",
       "  (442.20500000000015,\n",
       "   211.32499999999925,\n",
       "   508.6300000000001,\n",
       "   221.32499999999925)],\n",
       " ['критик,  исследователь \\n',\n",
       "  (315.9050000000001,\n",
       "   211.32499999999925,\n",
       "   431.2250000000001,\n",
       "   221.32499999999925)],\n",
       " ['форм народного театра мордвы.\\n',\n",
       "  (315.9050000000001,\n",
       "   200.34499999999926,\n",
       "   462.11300000000006,\n",
       "   210.34499999999926)],\n",
       " ['В  1984 — 2002 годы — старший препо%\\n',\n",
       "  (328.68500000000006, 189.30499999999927, 508.675, 199.30499999999927)],\n",
       " ['даватель,  доцент,  профессор,  декан  фа%\\n',\n",
       "  (315.9050000000001,\n",
       "   178.32499999999928,\n",
       "   508.67700000000013,\n",
       "   188.32499999999928)],\n",
       " ['культета национальной культуры Мордов%\\n',\n",
       "  (315.9050000000001,\n",
       "   167.3449999999993,\n",
       "   508.70400000000006,\n",
       "   177.3449999999993)],\n",
       " ['ского государственного университета. Член\\n',\n",
       "  (315.9050000000001,\n",
       "   156.3049999999993,\n",
       "   508.63500000000005,\n",
       "   166.3049999999993)],\n",
       " ['общества «Масторава».\\n',\n",
       "  (315.9050000000001,\n",
       "   145.3249999999993,\n",
       "   420.1350000000001,\n",
       "   155.3249999999993)],\n",
       " ['2\\n', (309.065, 122.935, 314.205, 132.935)]]"
      ]
     },
     "execution_count": 11,
     "metadata": {},
     "output_type": "execute_result"
    }
   ],
   "source": [
    "items"
   ]
  },
  {
   "cell_type": "code",
   "execution_count": null,
   "id": "ac0c560a",
   "metadata": {},
   "outputs": [],
   "source": []
  },
  {
   "cell_type": "code",
   "execution_count": 12,
   "id": "27db0a39",
   "metadata": {},
   "outputs": [
    {
     "data": {
      "text/plain": [
       "<LTTextLineHorizontal 309.065,122.935,314.205,132.935 '2\\n'>"
      ]
     },
     "execution_count": 12,
     "metadata": {},
     "output_type": "execute_result"
    }
   ],
   "source": [
    "text_line"
   ]
  },
  {
   "cell_type": "code",
   "execution_count": 13,
   "id": "6afc6d7b",
   "metadata": {},
   "outputs": [],
   "source": [
    "import matplotlib.pyplot as plt\n",
    "import matplotlib.patches as patches"
   ]
  },
  {
   "cell_type": "code",
   "execution_count": 14,
   "id": "b8c25854",
   "metadata": {},
   "outputs": [
    {
     "data": {
      "text/plain": [
       "(0, 0, 595, 842)"
      ]
     },
     "execution_count": 14,
     "metadata": {},
     "output_type": "execute_result"
    }
   ],
   "source": [
    "pl = page_layout.bbox\n",
    "pl"
   ]
  },
  {
   "cell_type": "code",
   "execution_count": 15,
   "id": "ff9a6c23",
   "metadata": {},
   "outputs": [
    {
     "data": {
      "image/png": "[encoded data removed]",
      "text/plain": [
       "<Figure size 1285.2x1818.72 with 1 Axes>"
      ]
     },
     "metadata": {
      "needs_background": "light"
     },
     "output_type": "display_data"
    }
   ],
   "source": [
    "mult = 0.03\n",
    "fig, ax = plt.subplots(figsize=(pl[2]*mult, pl[3]*mult))\n",
    "\n",
    "#create simple line plot\n",
    "ax.plot([0, pl[2]*mult], [0, pl[3]*mult], c='red')\n",
    "\n",
    "#add rectangle to plot\n",
    "for item in items[:100]:\n",
    "    word, rect = item\n",
    "    r2 = [x * mult for x in rect]\n",
    "    ax.add_patch(patches.Rectangle((r2[0], r2[1]), r2[2]-r2[0], r2[3]-r2[1], fill=False, lw=0.5, color='black'))\n",
    "    ax.text(r2[0], r2[1], word, fontsize=8)\n",
    "\n",
    "#display plot\n",
    "plt.show()\n"
   ]
  },
  {
   "cell_type": "code",
   "execution_count": 16,
   "id": "3e9d288b",
   "metadata": {},
   "outputs": [
    {
     "name": "stdout",
     "output_type": "stream",
     "text": [
      "<LTTextLineHorizontal 129.274,498.945,246.237,508.544 'женщина); 2. щава (бабушка\\n'>\n",
      "<LTTextLineHorizontal 256.334,498.946,364.171,508.545 'ба, вечкабаба (бабушка по\\n'>\n"
     ]
    }
   ],
   "source": [
    "from pdfminer.high_level import extract_pages\n",
    "from pdfminer.layout import LTTextContainer, LTChar\n",
    "\n",
    "page_id = 0\n",
    "\n",
    "\n",
    "for page_layout in extract_pages(\"russian-moksha-erzya-dictionary.pdf\"):\n",
    "    page_id += 1\n",
    "    if page_id < 9:\n",
    "        continue\n",
    "    if page_id  > 9:\n",
    "        break\n",
    "    for element in page_layout:\n",
    "        if isinstance(element, LTTextContainer):\n",
    "            for text_line in element:\n",
    "                if \"бабушка\" in text_line.get_text():\n",
    "                    print(text_line)\n",
    "                    res = text_line\n",
    "                    break\n"
   ]
  },
  {
   "cell_type": "markdown",
   "id": "847633bb",
   "metadata": {},
   "source": [
    "### Extraction"
   ]
  },
  {
   "cell_type": "code",
   "execution_count": 38,
   "id": "633977bb",
   "metadata": {},
   "outputs": [
    {
     "data": {
      "application/vnd.jupyter.widget-view+json": {
       "model_id": "e818a85260a24ae1a618f8dd78473875",
       "version_major": 2,
       "version_minor": 0
      },
      "text/plain": [
       "0it [00:00, ?it/s]"
      ]
     },
     "metadata": {},
     "output_type": "display_data"
    },
    {
     "name": "stdout",
     "output_type": "stream",
     "text": [
      "<LTAnno '\\n'> no bbox\n"
     ]
    }
   ],
   "source": [
    "from pdfminer.high_level import extract_pages\n",
    "from pdfminer.layout import LTTextContainer, LTChar\n",
    "from tqdm.auto import tqdm, trange\n",
    "\n",
    "page_id = 0\n",
    "\n",
    "pages = []\n",
    "\n",
    "for page_layout in tqdm(extract_pages(\"books_parallel/BrizhinskiyVasiliySergeevich_001.pdf\")):\n",
    "    page_id += 1\n",
    "    items = []\n",
    "    for element in page_layout:\n",
    "        if isinstance(element, LTTextContainer):\n",
    "            for text_line in element:\n",
    "                if not hasattr(text_line, 'bbox'):\n",
    "                    print(text_line, 'no bbox')\n",
    "                    continue\n",
    "                text = text_line.get_text()\n",
    "                items.append([text, text_line.bbox])\n",
    "    pages.append(items)"
   ]
  },
  {
   "cell_type": "code",
   "execution_count": 99,
   "id": "908c697e",
   "metadata": {},
   "outputs": [],
   "source": [
    "items = pages[2]"
   ]
  },
  {
   "cell_type": "code",
   "execution_count": 100,
   "id": "6db3e0d0",
   "metadata": {},
   "outputs": [],
   "source": [
    "lhs = []\n",
    "rhs = []\n",
    "\n",
    "for text, box in items:\n",
    "    if box[1] < 130:  # too low on the page\n",
    "        continue\n",
    "    if 80 < box[0] < 170 and box[0] < 330:\n",
    "        lhs.append(text)\n",
    "    elif 280 < box[0] < 350:\n",
    "        rhs.append(text)"
   ]
  },
  {
   "cell_type": "code",
   "execution_count": 459,
   "id": "97231352",
   "metadata": {},
   "outputs": [
    {
     "data": {
      "application/vnd.jupyter.widget-view+json": {
       "model_id": "0f4f2e1bfbf448ecb16e21b5dd7a7dce",
       "version_major": 2,
       "version_minor": 0
      },
      "text/plain": [
       "  0%|          | 0/254 [00:00<?, ?it/s]"
      ]
     },
     "metadata": {},
     "output_type": "display_data"
    }
   ],
   "source": [
    "lhs_raw = []\n",
    "rhs_raw = []\n",
    "\n",
    "for page_id, page in enumerate(tqdm(pages[1:2] + pages[11:264])):\n",
    "    items = page\n",
    "    lhs = []\n",
    "    rhs = []\n",
    "\n",
    "    for text, box in items:\n",
    "        if box[1] < 130:  # too low on the page\n",
    "            continue\n",
    "        if 80 < box[0] < 140 and box[0] < 340:\n",
    "            lhs.append(text)\n",
    "        elif 280 < box[0] < 340:\n",
    "            rhs.append(text)\n",
    "    \n",
    "    if not lhs or not rhs:\n",
    "        continue\n",
    "    \n",
    "    lhs_raw.extend([(text, page_id) for text in lhs])\n",
    "    rhs_raw.extend([(text, page_id) for text in rhs])\n",
    "    \n",
    "    "
   ]
  },
  {
   "cell_type": "code",
   "execution_count": 139,
   "id": "91edca1e",
   "metadata": {},
   "outputs": [],
   "source": [
    "from razdel import sentenize"
   ]
  },
  {
   "cell_type": "code",
   "execution_count": 474,
   "id": "046b4e7b",
   "metadata": {},
   "outputs": [],
   "source": [
    "import re\n",
    "\n",
    "def create_chunks(lines):\n",
    "    chunks = []\n",
    "    last_par = []\n",
    "    for line, page_id in lines:\n",
    "        line = line.replace('%', '-').replace(';', '-').replace('&', '-').rstrip('\\n')\n",
    "        line = re.sub('\\(cid:\\d+\\)', ' ', line)\n",
    "        if last_par and last_par[-1].endswith('-'):\n",
    "            last_par[-1] = last_par[-1][:-1]\n",
    "            last_par.append(line)\n",
    "        else:\n",
    "            last_par.append(' ')\n",
    "            last_par.append(line)\n",
    "        if line.endswith('.') or line.isupper():\n",
    "            chunks.append([last_par, page_id])\n",
    "            last_par = []\n",
    "    chunks.append([last_par, page_id])\n",
    "    res = []\n",
    "    for t, page_id in chunks:\n",
    "        t = ''.join(t).strip().replace('  ', ' ').replace('  ', ' ')\n",
    "        if t:\n",
    "            res.append((t, page_id))\n",
    "    return res "
   ]
  },
  {
   "cell_type": "code",
   "execution_count": 475,
   "id": "68046649",
   "metadata": {},
   "outputs": [],
   "source": [
    "lhs_chunks = create_chunks(lhs_raw)\n",
    "rhs_chunks = create_chunks(rhs_raw)"
   ]
  },
  {
   "cell_type": "code",
   "execution_count": 477,
   "id": "de37190f",
   "metadata": {},
   "outputs": [],
   "source": [
    "lhs_sents = [(s.text, p) for c, p in lhs_chunks for s in sentenize(c)]\n",
    "rhs_sents = [(s.text, p) for c, p in rhs_chunks for s in sentenize(c)]"
   ]
  },
  {
   "cell_type": "code",
   "execution_count": 480,
   "id": "a76f78e2",
   "metadata": {},
   "outputs": [
    {
     "data": {
      "text/plain": [
       "(5194, 4851)"
      ]
     },
     "execution_count": 480,
     "metadata": {},
     "output_type": "execute_result"
    }
   ],
   "source": [
    "len(lhs_sents), len(rhs_sents)"
   ]
  },
  {
   "cell_type": "code",
   "execution_count": 481,
   "id": "428646cb",
   "metadata": {},
   "outputs": [
    {
     "data": {
      "text/plain": [
       "('Эйстэст улема кеменде а седе ламо.', 73)"
      ]
     },
     "execution_count": 481,
     "metadata": {},
     "output_type": "execute_result"
    }
   ],
   "source": [
    "import random\n",
    "text = random.choice(lhs_sents)\n",
    "text"
   ]
  },
  {
   "cell_type": "code",
   "execution_count": 487,
   "id": "e65f9d62",
   "metadata": {},
   "outputs": [],
   "source": [
    "for i in range(len(pages)):\n",
    "    n_lhs = len([t for t, p in lhs_sents if p == i])\n",
    "    n_rhs = len([t for t, p in rhs_sents if p == i])\n",
    "    if abs(n_lhs - n_rhs) > 20:\n",
    "        print(i, n_lhs, n_rhs)"
   ]
  },
  {
   "cell_type": "code",
   "execution_count": 516,
   "id": "1746f72e",
   "metadata": {},
   "outputs": [],
   "source": [
    "import json"
   ]
  },
  {
   "cell_type": "code",
   "execution_count": 521,
   "id": "2c813681",
   "metadata": {},
   "outputs": [],
   "source": [
    "with open('other_sources/BrizhinskiyVasiliySergeevich_001___sentences_unaligned.json', 'w') as f:\n",
    "    json.dump({'myv': lhs_sents, 'rus': rhs_sents}, f, ensure_ascii=False, indent=' ')"
   ]
  },
  {
   "cell_type": "markdown",
   "id": "c24513c0",
   "metadata": {},
   "source": [
    "# sheyanova-skazovyie-formyi-mordovskorj-literaturyi"
   ]
  },
  {
   "cell_type": "code",
   "execution_count": 615,
   "id": "d994a561",
   "metadata": {},
   "outputs": [
    {
     "data": {
      "application/vnd.jupyter.widget-view+json": {
       "model_id": "21367b72356b4cd1b1ba321e9dfbcd24",
       "version_major": 2,
       "version_minor": 0
      },
      "text/plain": [
       "0it [00:00, ?it/s]"
      ]
     },
     "metadata": {},
     "output_type": "display_data"
    }
   ],
   "source": [
    "from pdfminer.high_level import extract_pages\n",
    "from pdfminer.layout import LTTextContainer, LTChar\n",
    "from tqdm.auto import tqdm, trange\n",
    "\n",
    "page_id = 0\n",
    "\n",
    "pages = []\n",
    "\n",
    "for page_layout in tqdm(extract_pages(\"books_parallel/sheyanova-skazovyie-formyi-mordovskorj-literaturyi.pdf\")):\n",
    "    page_id += 1\n",
    "    #if page_id != 108:\n",
    "    #    continue\n",
    "    \n",
    "    items = []\n",
    "    for element in page_layout:\n",
    "        if isinstance(element, LTTextContainer):\n",
    "            for text_line in element:\n",
    "                if not hasattr(text_line, 'bbox'):\n",
    "                    print(text_line, 'no bbox')\n",
    "                    continue\n",
    "                text = text_line.get_text()\n",
    "                fonts = {c.fontname for c in text_line if isinstance(c, LTChar)}\n",
    "                items.append([text, text_line.bbox, fonts])\n",
    "    pages.append(items)"
   ]
  },
  {
   "cell_type": "markdown",
   "id": "549f98c4",
   "metadata": {},
   "source": [
    "Parallel part: pages 107 to 237 (inclusive)"
   ]
  },
  {
   "cell_type": "code",
   "execution_count": 616,
   "id": "4da88d7d",
   "metadata": {},
   "outputs": [
    {
     "data": {
      "text/plain": [
       "[['ПРИЛОЖЕНИЕ\\n',\n",
       "  (281.52, 540.1190399999999, 351.37098700799993, 550.67904),\n",
       "  {'FNTSBS+TimesNewRomanPSMT'}],\n",
       " ['Литературное наследие поэта-импровизатора И. Зо-\\n',\n",
       "  (87.6, 517.55904, 336.99843033600007, 528.11904),\n",
       "  {'FNTSBS+TimesNewRomanPS-ItalicMT'}],\n",
       " ['рина, уроженца села Степная Шентала Самарского уез-\\n',\n",
       "  (73.44, 506.27904, 337.106178048, 516.83904),\n",
       "  {'FNTSBS+TimesNewRomanPS-ItalicMT'}],\n",
       " ['да Самарской губернии, сохранилось благодаря научной\\n',\n",
       "  (73.44, 494.99904, 337.157332992, 505.55904),\n",
       "  {'FNTSBS+TimesNewRomanPS-ItalicMT'}],\n",
       " ['деятельности  финского  ученого  Х.  Паасонена.  Будучи\\n',\n",
       "  (73.44, 483.71904, 337.15939660800007, 494.27904),\n",
       "  {'FNTSBS+TimesNewRomanPS-ItalicMT'}],\n",
       " ['его корреспондентом, Зорин представил для публикации\\n',\n",
       "  (73.44, 472.43904000000003, 337.07704339200006, 482.99904000000004),\n",
       "  {'FNTSBS+TimesNewRomanPS-ItalicMT'}],\n",
       " ['около семидесяти стихотворных произведений, которые\\n',\n",
       "  (73.44, 461.15904, 336.99886790400006, 471.71904),\n",
       "  {'FNTSBS+TimesNewRomanPS-ItalicMT'}],\n",
       " ['вошли в сборник «Mordwinische Volksdichtung» (Хельсинки,\\n',\n",
       "  (73.44, 449.87904000000003, 337.268807072, 460.43904000000003),\n",
       "  {'FNTSBS+TimesNewRomanPS-ItalicMT'}],\n",
       " ['1977.  Bd.  5,  6)  как  образцы  мордовского  устно-поэтиче-\\n',\n",
       "  (73.44, 438.59904, 337.1104419840001, 449.15904),\n",
       "  {'FNTSBS+TimesNewRomanPS-ItalicMT'}],\n",
       " ['ского  творчества.  В  2003  г.  часть  произведений  была\\n',\n",
       "  (73.44, 427.07904, 336.9543265919999, 437.63904),\n",
       "  {'FNTSBS+TimesNewRomanPS-ItalicMT'}],\n",
       " ['включена в книгу «Мокшэрзянь литературань  антология:\\n',\n",
       "  (73.44, 415.79904, 337.1448503040001, 426.35904),\n",
       "  {'FNTSBS+TimesNewRomanPS-ItalicMT'}],\n",
       " ['XVIII — ХХ векне».\\n',\n",
       "  (73.44, 404.51904, 161.94922368000002, 415.07904),\n",
       "  {'FNTSBS+TimesNewRomanPS-ItalicMT'}],\n",
       " ['КЕЗЭРЕНЬ КОЕСЬ (э.)\\n',\n",
       "  (150.72, 381.95904, 260.10404256000004, 392.51904),\n",
       "  {'FNTSBS+TimesNewRomanPS-BoldMT', 'FNTSBS+TimesNewRomanPSMT'}],\n",
       " ['Уш, коесь, коесь, кезэрень коесь!\\n',\n",
       "  (116.16, 359.39904, 266.28260947200005, 369.95904),\n",
       "  {'FNTSBS+TimesNewRomanPSMT'}],\n",
       " ['Уш,  верась, верась,  кезэрень  верась!\\n',\n",
       "  (116.16, 348.11904, 282.11944147199995, 358.67904),\n",
       "  {'FNTSBS+TimesNewRomanPSMT'}],\n",
       " ['Вай, седе икеле, кезэрень пингева,\\n',\n",
       "  (116.16, 336.83904, 270.020101824, 347.39904),\n",
       "  {'FNTSBS+TimesNewRomanPSMT'}],\n",
       " ['Уш, седе икеле, кезэрень шкава,\\n',\n",
       "  (116.16, 325.55894, 262.28116992, 336.11894),\n",
       "  {'FNTSBS+TimesNewRomanPSMT'}],\n",
       " ['Эрямось ульнесь истямо паро,\\n',\n",
       "  (116.16, 314.27904, 251.30096640000002, 324.83904),\n",
       "  {'FNTSBS+TimesNewRomanPSMT'}],\n",
       " ['Уш, кельнесэяк сон а ёвтави,\\n',\n",
       "  (116.16, 302.99894, 246.66605356800002, 313.55894),\n",
       "  {'FNTSBS+TimesNewRomanPSMT'}],\n",
       " ['Вай, превнесэяк сон а явови.\\n',\n",
       "  (116.16, 291.47904, 245.25129657600002, 302.03904),\n",
       "  {'FNTSBS+TimesNewRomanPSMT'}],\n",
       " ['Куш мон ломанесь аволь кезэрень,\\n',\n",
       "  (116.16, 280.19904, 272.110563648, 290.75904),\n",
       "  {'FNTSBS+TimesNewRomanPSMT'}],\n",
       " ['Куш мон ломанесь а Тюштянь порань,\\n',\n",
       "  (116.16, 268.91904, 286.35315456000006, 279.47904),\n",
       "  {'FNTSBS+TimesNewRomanPSMT'}],\n",
       " ['Вай, ине покштям монень ёвтнизе,\\n',\n",
       "  (116.16, 257.63904, 268.383629184, 268.19904),\n",
       "  {'FNTSBS+TimesNewRomanPSMT'}],\n",
       " ['Ине бабамгак монень кортызе,\\n',\n",
       "  (116.16, 246.35904, 251.343197952, 256.91904),\n",
       "  {'FNTSBS+TimesNewRomanPSMT'}],\n",
       " ['Кодамо ульнесь кезэрень коесь,\\n',\n",
       "  (116.16, 235.07904000000002, 257.26617312, 245.63904000000002),\n",
       "  {'FNTSBS+TimesNewRomanPSMT'}],\n",
       " ['Кодамо ульнесь кезэрень верась,\\n',\n",
       "  (116.16, 223.79904000000002, 262.30228569600007, 234.35904000000002),\n",
       "  {'FNTSBS+TimesNewRomanPSMT'}],\n",
       " ['Кезэрень коесь Тюштянь пингева.\\n',\n",
       "  (116.16, 212.51904000000002, 265.46965209600006, 223.07904000000002),\n",
       "  {'FNTSBS+TimesNewRomanPSMT'}],\n",
       " ['Сон кода ульнесь Тюштя инязор —\\n',\n",
       "  (116.16, 201.23904000000002, 272.21614252800003, 211.79904000000002),\n",
       "  {'FNTSBS+TimesNewRomanPSMT'}],\n",
       " ['Сестэ эрямось ульнесь пек паро,\\n',\n",
       "  (116.16, 189.95904000000002, 260.8664129280001, 200.51904000000002),\n",
       "  {'FNTSBS+TimesNewRomanPSMT'}],\n",
       " ['Вай, Тюштянь шкава, Тюштянь пингева.\\n',\n",
       "  (116.16, 178.67904000000001, 294.74667552, 189.23904000000002),\n",
       "  {'FNTSBS+TimesNewRomanPSMT'}],\n",
       " ['Секс сестэ ульнесь эрямось паро,\\n',\n",
       "  (116.16, 167.15904, 266.09256748800004, 177.71904),\n",
       "  {'FNTSBS+TimesNewRomanPSMT'}],\n",
       " ['Уш, секс сон ульнесь эрямось вадря:\\n',\n",
       "  (116.16, 155.87904, 282.045536256, 166.43904),\n",
       "  {'FNTSBS+TimesNewRomanPSMT'}],\n",
       " ['Тюштянь масторсо килей арасель,\\n',\n",
       "  (116.16, 144.59904, 268.341397632, 155.15904),\n",
       "  {'FNTSBS+TimesNewRomanPSMT'}],\n",
       " ['Народонь ютксо сон руз арасель.\\n',\n",
       "  (116.16, 133.31904, 264.741157824, 143.87904),\n",
       "  {'FNTSBS+TimesNewRomanPSMT'}],\n",
       " ['Истямо ульнесь Тюштя инязор,\\n',\n",
       "  (116.16, 122.03904, 254.21494348800002, 132.59904),\n",
       "  {'FNTSBS+TimesNewRomanPSMT'}],\n",
       " ['Вай, сон истямо ульнесь каназор:\\n',\n",
       "  (116.16, 110.75904000000001, 264.086568768, 121.31904),\n",
       "  {'FNTSBS+TimesNewRomanPSMT'}],\n",
       " ['Кшнинь суманть кантниль лангсонзо,\\n',\n",
       "  (116.16, 99.47904000000001, 282.774030528, 110.03904),\n",
       "  {'FNTSBS+TimesNewRomanPSMT'}],\n",
       " ['Кшнинь карнеть ульнесть сонзэ пильгсэнзэ,\\n',\n",
       "  (116.16, 88.19904000000001, 310.31956031999994, 98.75904),\n",
       "  {'FNTSBS+TimesNewRomanPSMT'}],\n",
       " ['Кшнинь шляпа ульнесь Тюштянь прясонзо,\\n',\n",
       "  (116.16, 76.91904000000001, 308.17630905600004, 87.47904),\n",
       "  {'FNTSBS+TimesNewRomanPSMT'}],\n",
       " ['Кшнинь каркске ульнесь сонзэ перьканзо,\\n',\n",
       "  (116.16, 65.63904000000001, 304.29100627199995, 76.19904),\n",
       "  {'FNTSBS+TimesNewRomanPSMT'}],\n",
       " ['108\\n',\n",
       "  (59.52, 47.8464, 73.91712000000001, 57.446400000000004),\n",
       "  {'FNTSBS+TimesNewRomanPSMT'}],\n",
       " ['1\\n',\n",
       "  (76.3199, 44.928000000000004, 82.3187, 56.928000000000004),\n",
       "  {'FNTSBS+TimesNewRomanPSMT'}],\n",
       " ['0\\n',\n",
       "  (133.42847600000002, 44.928000000000004, 139.427276, 56.928000000000004),\n",
       "  {'FNTSBS+TimesNewRomanPSMT'}],\n",
       " ['8\\n',\n",
       "  (190.53705200000002, 44.928000000000004, 196.535852, 56.928000000000004),\n",
       "  {'FNTSBS+TimesNewRomanPSMT'}],\n",
       " ['1\\n',\n",
       "  (247.88558, 44.928000000000004, 253.88438, 56.928000000000004),\n",
       "  {'FNTSBS+TimesNewRomanPSMT'}],\n",
       " ['0\\n',\n",
       "  (304.99415600000003,\n",
       "   44.928000000000004,\n",
       "   310.99295600000005,\n",
       "   56.928000000000004),\n",
       "  {'FNTSBS+TimesNewRomanPSMT'}],\n",
       " ['8\\n',\n",
       "  (362.10273200000006,\n",
       "   44.928000000000004,\n",
       "   368.1015320000001,\n",
       "   56.928000000000004),\n",
       "  {'FNTSBS+TimesNewRomanPSMT'}]]"
      ]
     },
     "execution_count": 616,
     "metadata": {},
     "output_type": "execute_result"
    }
   ],
   "source": [
    "pages[107]"
   ]
  },
  {
   "cell_type": "code",
   "execution_count": 674,
   "id": "3255ea26",
   "metadata": {},
   "outputs": [],
   "source": [
    "NEW_SENT = '<new_sentence>'"
   ]
  },
  {
   "cell_type": "code",
   "execution_count": 675,
   "id": "059d56f6",
   "metadata": {},
   "outputs": [],
   "source": [
    "sections = []\n",
    "section = []\n",
    "prev_box, prev_page = None, None\n",
    "is_head, prev_head = False, False\n",
    "\n",
    "for i in range(107, 238):\n",
    "    for line, bbox, fonts in pages[i]:\n",
    "        # remove page numbers\n",
    "        if bbox[1] < 50: \n",
    "            continue\n",
    "        # remove cursive after sections\n",
    "        if any({'italic' in f.lower() for f in fonts}):\n",
    "            continue\n",
    "        # detect headings and insert new_sections\n",
    "        tt = line.split('(')[0].strip()\n",
    "        if len(tt) >= 1 and tt.isupper() and not re.match('С\\. \\d+ — \\d+\\.', tt) \\\n",
    "            and not tt.startswith('['):\n",
    "            is_head = True\n",
    "            if not (prev_page==i and  bbox[1] > prev_box[1] - 20):\n",
    "                prev_box, prev_page = bbox, i\n",
    "                if section and section[0] != 'ПРИЛОЖЕНИЕ': # skip the first one\n",
    "                    sections.append(section)\n",
    "                section = []\n",
    "        else:\n",
    "            is_head = False\n",
    "        # add periods after headings\n",
    "        if prev_head and not is_head:\n",
    "            section.append(NEW_SENT)  # todo: make sure that Razdel understands that it is the end of sentence\n",
    "        prev_head = is_head\n",
    "        section.append(line.strip())\n",
    "sections.append(section)"
   ]
  },
  {
   "cell_type": "code",
   "execution_count": 677,
   "id": "5123f164",
   "metadata": {},
   "outputs": [
    {
     "data": {
      "text/plain": [
       "['КАК ЭРЗЯНСКАЯ ЗЕМЛЯ ПЕРЕШЛА',\n",
       " 'РУССКОМУ ЦАРЮ',\n",
       " '<new_sentence>',\n",
       " '«Давно-давно  у  нас,  у  эрзяков,  была  своя  собственная  зем-',\n",
       " 'ля», — говорит мне однажды мой дедушка. Я говорю: «Как? Где',\n",
       " 'же  наша  земля?»  —  «Есть  большая  река  Волга,  в  реку  впадает',\n",
       " 'другая рекa Кама. При устье Камы жили болгары и татары. А на',\n",
       " 'той стороне Волги, напротив земель болгар и татар, была земля',\n",
       " 'эрзяков. У  нас был  свой собственный  князь, но  он со  своей го-',\n",
       " 'ловой, похожей на пустой чугун, не мог удержать этой земли. У',\n",
       " 'нас были хорошие земли; лесов, лугов у нас было сколько угод-',\n",
       " 'но; оттого pyccкиe позавидовали на нашу землю. Рядом с нашей',\n",
       " 'землей была русская земля. Русский князь был умнее нашего кня-',\n",
       " 'зя.  Русский  князь  пришел  к  нашему  князю  и  говорит:  „Продай',\n",
       " 'свою землю!“. „Отчего же, или не продам“, — отвечает наш князь.',\n",
       " 'И они поладили на следующем: pyccкий князь выберет в своем',\n",
       " 'народе человека, вокруг шеи этого человека (должно) навертеть',\n",
       " 'веревку, сколько может удержать и сколько захватит земли эта ве-',\n",
       " 'ревка — земля эта (будет принадлежать) русскому князю.',\n",
       " 'Русский князь выбрал сильного человека, навертел вокруг его',\n",
       " 'шеи столько тонкой бечевочки, сколько он мог выдержать, и по-',\n",
       " 'вел его к нашему князю. Потом они начали развертывать эту бе-',\n",
       " 'чевку и протягивать ее вокруг нашей земли; протягивали-протя-',\n",
       " 'гивали вокруг, и та бечевка хватила вокруг всей Эрзянской зем-',\n",
       " 'ли. С тех пор нашими князьями стали русcкие. Если бы князь был',\n",
       " 'человеком твоей земли, он бы все-таки тебя пожалел», — гово-',\n",
       " 'рит мой дед.',\n",
       " 'Об этом дед мой узнал в Самарской губернии. Однажды князь',\n",
       " 'послал деда моего с другими (крестьянами) за брусьями. Дед мой',\n",
       " 'был  тогда  молодым  человеком.  В  городе  Самаре  они  встретили',\n",
       " 'старичка эрзяка, тамошнего жителя; он им об этом рассказал.']"
      ]
     },
     "execution_count": 677,
     "metadata": {},
     "output_type": "execute_result"
    }
   ],
   "source": [
    "sections[25]"
   ]
  },
  {
   "cell_type": "code",
   "execution_count": 678,
   "id": "ef901884",
   "metadata": {},
   "outputs": [],
   "source": [
    "new_sections = []\n",
    "for section in sections:\n",
    "    texts = []\n",
    "    for line in section:\n",
    "        if line.endswith('-'):\n",
    "            line = line[:-1]\n",
    "        else:\n",
    "            line = line + ' '\n",
    "        texts.append(line)\n",
    "    new_section = []\n",
    "    for s in sentenize(''.join(texts).replace('  ', ' ')):\n",
    "        new_section.extend(s.text.split(NEW_SENT))\n",
    "    new_sections.append(new_section)"
   ]
  },
  {
   "cell_type": "code",
   "execution_count": 679,
   "id": "cf8c82a9",
   "metadata": {},
   "outputs": [
    {
     "name": "stdout",
     "output_type": "stream",
     "text": [
      "0 52 КЕЗЭРЕНЬ КОЕСЬ (э.)\n",
      "1 51 ДРЕВНИЙ ОБЫЧАЙ \n",
      "2 44 МАСТОРПАЗ (э.)\n",
      "3 43 МАСТОРПАЗ (БОГ ЗЕМЛИ) \n",
      "4 32 СЮПАВОНЬ МОРО (э.)\n",
      "5 31 ПЕСНЯ БОГАТОГО \n",
      "6 32 ЛАМО НУЖА НЕИНЕК (э.)\n",
      "7 31 МНОГО НУЖДЫ ВИДЕЛИ \n",
      "8 57 МОРО ЧИМБУЛАТ АТЯДО (э.)\n",
      "9 56 ПЕСНЯ О СТАРИКЕ ЧИМБУЛАТЕ \n",
      "10 96 КОДА РОДЯ ПОЛАНЗО МИКШНИЗЕ ДЫ ОДОВ РАМИЗЕ (э.)\n",
      "11 95 КАК РОДИОН ЖЕНУ ПРОДАВАЛ И ОБРАТНО ПОКУПАЛ \n",
      "12 37 МОРО ОДПОРАДО ДЫ СЫРЕЧИДЕ (э.)\n",
      "13 35 ПЕСНЯ О МОЛОДОСТИ И СТАРОСТИ \n",
      "14 622 ЭРЗЯ-МОКШОНЬ ИСТОРИЯ (э.)\n",
      "15 107 МОРДОВСКАЯ ИСТОРИЯ \n",
      "16 24 МОКШЭРЗЯНЬ МАСТОР (м.)\n",
      "17 20 МОРДОВСКАЯ ЗЕМЛЯ \n",
      "18 14 ЭРЗЯ ИНЯЗОР ТЮШТЯНЬ КВАЛМА (м.)\n",
      "19 13 ОБ ЭРЗЯНСКОМ ЦАРЕ ТЮШТЕ \n",
      "20 99 ОРКИНА: ВАСЕНЦЕ ЭРИЦЯТНЕ (э.)\n",
      "21 95 НАЧАЛО ОРКИНА: ПЕРВЫЕ ПОСЕЛЕНЦЫ \n",
      "22 96 АРЧИЛОВ ВЕЛЕСЬ (э.)\n",
      "23 84 НАЧАЛО СУХОГО КАРБУЛАКА \n",
      "24 24 КОДА ЭРЗЯНЬ МАСТОРОСЬ ЮТАСЬ РУЗ ИНЯЗОРОНТЕНЬ (э.)\n",
      "25 22 КАК ЭРЗЯНСКАЯ ЗЕМЛЯ ПЕРЕШЛА РУССКОМУ ЦАРЮ \n",
      "26 122 СУХОЙ КАРБУЛАК \n",
      "27 118 СУХОЙ КАРБУЛАК \n",
      "28 160 ОРКИНО \n",
      "29 140 ОРКИНО \n",
      "30 2 ЭРЬМЕЗЬ \n",
      "31 8 I \n",
      "32 7 II \n",
      "33 14 III \n",
      "34 6 IV \n",
      "35 40 V \n",
      "36 28 VI \n",
      "37 7 VII \n",
      "38 18 VIII \n",
      "39 2 ЭРЬМЕЗЬ \n",
      "40 8 I \n",
      "41 7 II \n",
      "42 14 III \n",
      "43 6 IV \n",
      "44 40 V \n",
      "45 27 VI \n",
      "46 7 VII \n",
      "47 18 VIII \n"
     ]
    }
   ],
   "source": [
    "for i, sec in enumerate(new_sections):\n",
    "    print(i, len(sec), sec[0])"
   ]
  },
  {
   "cell_type": "code",
   "execution_count": 681,
   "id": "475355dc",
   "metadata": {},
   "outputs": [
    {
     "data": {
      "text/plain": [
       "['КАК ЭРЗЯНСКАЯ ЗЕМЛЯ ПЕРЕШЛА РУССКОМУ ЦАРЮ ',\n",
       " ' «Давно-давно у нас, у эрзяков, была своя собственная земля», — говорит мне однажды мой дедушка.',\n",
       " 'Я говорю: «Как?',\n",
       " 'Где же наша земля?»',\n",
       " '— «Есть большая река Волга, в реку впадает другая рекa Кама.',\n",
       " 'При устье Камы жили болгары и татары.',\n",
       " 'А на той стороне Волги, напротив земель болгар и татар, была земля эрзяков.',\n",
       " 'У нас был свой собственный князь, но он со своей головой, похожей на пустой чугун, не мог удержать этой земли.',\n",
       " 'У нас были хорошие земли; лесов, лугов у нас было сколько угодно; оттого pyccкиe позавидовали на нашу землю.',\n",
       " 'Рядом с нашей землей была русская земля.',\n",
       " 'Русский князь был умнее нашего князя.',\n",
       " 'Русский князь пришел к нашему князю и говорит: „Продай свою землю!“.',\n",
       " '„Отчего же, или не продам“, — отвечает наш князь.',\n",
       " 'И они поладили на следующем: pyccкий князь выберет в своем народе человека, вокруг шеи этого человека (должно) навертеть веревку, сколько может удержать и сколько захватит земли эта веревка — земля эта (будет принадлежать) русскому князю.',\n",
       " 'Русский князь выбрал сильного человека, навертел вокруг его шеи столько тонкой бечевочки, сколько он мог выдержать, и повел его к нашему князю.',\n",
       " 'Потом они начали развертывать эту бечевку и протягивать ее вокруг нашей земли; протягивали-протягивали вокруг, и та бечевка хватила вокруг всей Эрзянской земли.',\n",
       " 'С тех пор нашими князьями стали русcкие.',\n",
       " 'Если бы князь был человеком твоей земли, он бы все-таки тебя пожалел», — говорит мой дед.',\n",
       " 'Об этом дед мой узнал в Самарской губернии.',\n",
       " 'Однажды князь послал деда моего с другими (крестьянами) за брусьями.',\n",
       " 'Дед мой был тогда молодым человеком.',\n",
       " 'В городе Самаре они встретили старичка эрзяка, тамошнего жителя; он им об этом рассказал.']"
      ]
     },
     "execution_count": 681,
     "metadata": {},
     "output_type": "execute_result"
    }
   ],
   "source": [
    "new_sections[25]"
   ]
  },
  {
   "cell_type": "code",
   "execution_count": 682,
   "id": "a87ac0fd",
   "metadata": {},
   "outputs": [
    {
     "data": {
      "text/plain": [
       "['ОРКИНО ',\n",
       " ' [Моя жизнь] Отцу моему было имя Степан, матери моей было имя Aгафья.',\n",
       " 'Нас было у отца семеро детей: два сына, пять дочерей.',\n",
       " 'Три дочери померли в малом возрасте, а две дочери вышли замуж в нашем селе.',\n",
       " 'Одной имя Аграфена (старшая сестра), она вышла за Мартемьяна Федорова; другой имя Любовь, тоже вышла замуж за Федота Саюшкина.',\n",
       " 'А мы остались вместе с малым братом.',\n",
       " 'Мать моя умерла до выдачи замуж дочерей.',\n",
       " 'Но я женился еще при жизни матушки.',\n",
       " 'В жены я взял дочь Филиппа Спиридонова, по имени Матрёна.',\n",
       " 'Когда мы остались вместе с отцом, то брат мой помер, после того как прошел мой призывной возраст.',\n",
       " 'Брату моему было имя Павел.',\n",
       " 'Он умер двенадцати лет.',\n",
       " 'Он помер как раз в тот год, когда разделили землю на новые души.',\n",
       " 'Отец мой помер еще раньше.',\n",
       " 'У нас была одна лошадь, она стоила сорок рублей.',\n",
       " 'Мы купили ее в Захаровке, от нас в двадцати верстах.',\n",
       " 'И отец ту лошадь променял, взял лошадь похуже и взял в придачу девять рублей.',\n",
       " 'Смененная лошадь была с норовом, так что мы остались пешими.',\n",
       " 'Ту лошадь еще раз батюшка сменил и взял еще в придачу три рубля, и лошадь он взял еще худшую.',\n",
       " 'Люди стали смеяться и говорить: «Тархан, Тархан, Тархан».',\n",
       " 'С тех пор стали называть его Тарханом, а меня Василием Тархановым.',\n",
       " 'Так как лошадь не могла работать, мы продали ее за три рубля цыгану и остались без лошади.',\n",
       " 'У нас был посев испольный с Сокурским дьячком, и без лошади мы не могли убрать хлеб.',\n",
       " 'Мы отправились молотить на чужой лошади.',\n",
       " 'Рожь была на гумне дьячка, и там мы молотили.',\n",
       " 'Солому отец продал хохлу и взял деньги и загулял, пропил их.',\n",
       " 'Нашу долю ржи мы ссыпали в амбар дьячка.',\n",
       " 'Я пошел за ним в Сокурский кабак.',\n",
       " 'Он там пьет вино.',\n",
       " '— «Ступай, говорю, батюшка, домой».',\n",
       " 'А он говорит: «Или ты начал учить меня?',\n",
       " 'Ведь я твой отец», и начал меня позорить и побил меня.',\n",
       " 'И мы отправились домой с человеком, а он остался в Сокуре в кабаке.',\n",
       " 'Потом на другой день пришел, и он понес все имущество в заклад за вино: отнес палатку и сошники, палицу, косу, мешок муки, отнес это одному прасолу, которому было имя Стёпка Чалый.',\n",
       " 'Ну, я плачу и жена моя плачет, а брат мой был бестолковый.',\n",
       " 'Он не понимал, что мы совсем разорились.',\n",
       " 'Меня научили люди: «Ступай, жалуйся уряднику, потому что не полагается брать заклад за вино».',\n",
       " 'Я пошел к уряднику, который случайно прибыл в наше село, и рассказал уряднику.',\n",
       " 'Он сказал: «Я расследую это дело».',\n",
       " 'Тотчас же урядник пошел и ни одной заложенной вещи не нашел.',\n",
       " 'Потом я ходил в контору, объяснил старикам.',\n",
       " 'Старики сказали мне, что твой отец нажил имущество, его и воля в отношении к имуществу, куда хочет, туда и денет.',\n",
       " 'Я сказал: «Как же, дайте мне хозяйствовать, а то батюшка и дом продаст и пропьет.',\n",
       " 'Я останусь без дома», а они мне ответили, что если мы станем ставить сыновей хозяевами, то старикам нельзя будет жить.',\n",
       " 'Я говорю: «Ведь шестьдесят рублей кассы на батюшке.',\n",
       " 'Кто же заплатит?».',\n",
       " 'А они сказали: «Ты сам и заплатишь, ты еще молод».',\n",
       " 'Я пошел домой с плачем.',\n",
       " 'Пришел домой.',\n",
       " 'Батюшка в доме, продает Ипполиту и продал за тринадцать рублей.',\n",
       " 'Деньги я стал выпрашивать у отца.',\n",
       " 'Он пьяный, не отдает их.',\n",
       " 'Я начал отнимать.',\n",
       " 'Он десять рублей отдал, а три рубля взял ceбе и пошел с ними в кабак и пропил их.',\n",
       " 'Я взял те десять рублей и еще добыл десять рублей и купил дом за сорок рублей: двадцать рублей я дал задатку, а двадцать в долг остался должен.',\n",
       " 'Батюшка нанялся в работники к Спиридоновым за двадцать пять рублей и в середине лета оставил место.',\n",
       " 'Он захворал.',\n",
       " 'Потом он пришел ко мне, и я обрадовался тому, что он пришел.',\n",
       " 'Может быть, говорю, даст какую-нибудь подмогу.',\n",
       " 'Ну, и жил два года хорошо.',\n",
       " 'Потом я про тот дом говорю отцу: давай продадим его.',\n",
       " 'Он говорит: «Как хочешь».',\n",
       " 'Я тот дом продал за сорок рублей, тридцать восемь рублей получил деньгами, а остальные два рубля остались за Иваном Юрьевым Лапшиным, и он помер, не заплатил их.',\n",
       " 'А я купил дом за двадцать пять рублей у сына Якова Никанорова на Прогонной улице, где и теперь также живу.',\n",
       " 'Батюшка жил со мной вместе у Степана Чики (Чикa: прозвание русских) в караульщиках, а я был объездчиком.',\n",
       " 'Он послал отца на другой участок караулить снопы, и к скирде подошла лошадь.',\n",
       " 'Батюшка пошел, чтобы взять ее; лошадь лягнула его в ногу, и он охромел, и стала болеть его нога.',\n",
       " 'Хотя не очень сильно она его лягнула, но с тех пор хуже и хуже.',\n",
       " 'Мы повезли его на нанятой лошади в Сокурскую больницу.',\n",
       " 'Он там стал просить, чтобы мы его взяли назад домой.',\n",
       " 'Мы опять наняли лошадь и взяли его, привезли домой.',\n",
       " 'Целый год он проболел дома.',\n",
       " 'Жена моя ходила за ним.',\n",
       " 'Он сильно мучился, даже не мог ходить на двор.',\n",
       " 'Жена выводила его за руку на двор.',\n",
       " 'А меня не было дома, я жил у Степана Чики, и он в то время помер, и мне не сказали, что батюшка помер.',\n",
       " 'Жена похоронила батюшку, заплатила попу за погребение четыре рубля.',\n",
       " 'И справила поминки без меня и задолжала три рубля еще, которые я потом уплатил.',\n",
       " 'Я остался на том месте, и помер мой брат.',\n",
       " 'Он пас стадо и там стал хворать, пришел домой.',\n",
       " 'Меня не было дома.',\n",
       " 'Он в то время помер, и жена моя похоронила его.',\n",
       " 'До этого времени, еще при жизни отца, родился у меня первый сын Иван.',\n",
       " 'Он прожил две недели и помер.',\n",
       " 'Потом родился второй сын по имени Гаврила.',\n",
       " 'Тот тоже столько же жил и помер, помер от плача.',\n",
       " 'Потом прошло шесть лет со времени женитьбы, потом родился еще сын по имени Петр.',\n",
       " 'Потом прошло еще шесть лет, родился опять сын по имени Иван.',\n",
       " 'Потом прошло три года, родилась дочка по имени Александра.',\n",
       " 'Потом прошло еще три года, родился опять сын по имени Никита.',\n",
       " 'И больше жена моя не родит.',\n",
       " 'В то время я уволился от Степана Чики.',\n",
       " 'Я отправился в Царицын искать место.',\n",
       " 'Меня туда позвал письмом мой товарищ, сказал, что в Царицыне много мест и дорогие, так что можно поступить на двадцать пять рублей в месяц певчим в церковный хор.',\n",
       " 'А я у Степана Чики получал только десять рублей в месяц.',\n",
       " 'Поэтому я позавидовал на большое жалованье и отправился на пароходе в Царицын к товарищу.',\n",
       " 'Он был там вольнонаемным псаломщиком.',\n",
       " 'Он сам бегучевский мордвин, и он повел меня к регенту.',\n",
       " 'Регент начал меня спрашивать: «Ты знаешь ли ноты?».',\n",
       " 'Я сказал: «Знаю».',\n",
       " 'Он дал мне ноты на молитву «На реках Вавилонских».',\n",
       " 'И я стал петь, и регенту мое пение не понравилось, и он сказал: «Ты еще слабо знаешь ноты.',\n",
       " 'Такого певчего нам не нужно.',\n",
       " 'У нас здесь много ученых».',\n",
       " 'И мы вместе с товарищем пошли к нему.',\n",
       " 'Товарищ говорит: «Ну, погоди немного, мы высмотрим место получше».',\n",
       " 'Потом мы пошли на спичечный завод.',\n",
       " 'Мы узнали, что там нужен помощник конторщика.',\n",
       " 'И там сказали: «Подождите», — мы спрашивали хозяина, — и мы пошли на квартиру.',\n",
       " 'На другой день мы опять пошли.',\n",
       " 'Там нам ответили, что родственник хозяина находится без места и что хозяин хочет нанять его, своего родственника, помощником конторщика.',\n",
       " 'И мы пошли назад.',\n",
       " 'Потом еще узнали, что выходит место.',\n",
       " 'Мы пошли и туда.',\n",
       " 'Там сказали: «Нужен человек сюда в рыбный лабаз».',\n",
       " 'И наняли меня за пятнадцать рублей в месяц.',\n",
       " 'Я поступил.',\n",
       " 'Начал жить, полмесяца прожил, работал в рыбном лабазе, убирал рыбу, и там я стал тосковать и заболел, и хозяин меня рассчитал, и я отправился домой на пароходе, захворав лихорадкой, и приехал в Саратов.',\n",
       " 'Я купил в аптеке хины и выпил ее и тотчас же выздоровел.',\n",
       " 'Потом я пришел домой пешком.',\n",
       " 'Дома я прожил неделю, народ стал работать, и я вместе с женой начал также работать за деньги, и я заработал денег пятьдесят рублей.',\n",
       " 'Осенью я решил поступить куда-нибудь на должность хоть на зиму.',\n",
       " 'Я отправился в одно село в Петровский уезд к попу.',\n",
       " 'Я узнал, что в его приход нужен человек, знающий грамоте, чтобы учить грамоте ребятишек в селе.',\n",
       " 'Поп сказал, что «подавай прошенье в Отделение», и я подал прошенье в Отделение, и вышло из Отделения, что мне поступить учителем школы грамоты в Карповку, и я там учил два с половиной года.',\n",
       " 'Жалованье было девяносто рублей в год.',\n",
       " 'На зиму я брал семью свою жить туда в Карповку, а летом мы всей семьей отправляемся домой.',\n",
       " 'И в то время я посадил яблоновые деревья на своем огороде.',\n",
       " 'Я посадил всего пятьсот деревьев.',\n",
       " 'За каждое, вместе с посадкой и вырывкой, я платил человеку четыре копейки за один корень.',\n",
       " 'И теперь сделался вполне сад, так что он дал яблок на двадцать пять рублей.',\n",
       " 'Когда прошло два с половиной года, я все учил ребят.',\n",
       " 'И сдавали три мальчика экзамен.',\n",
       " 'В течение последней зимы пришел в училище наблюдатель.',\n",
       " 'Училище было нанято от учащихся детей в пустом доме за двенадцать рублей в зиму.',\n",
       " 'Наблюдатель сделал заметку в журнале: «Усилить занятия», и кроме того нашел на полу много сору.',\n",
       " 'И уехал.',\n",
       " 'Поп тотчас же прискакал, спросил меня: «Какую заметку поставил в журнал?».',\n",
       " 'Я показал ему.',\n",
       " 'Он говорит: «Пожалуй он тебя уволит, а ты скорей, чтобы не остаться без места, подавай прошение на сельского писаря», а я говорю: «Я не привычен к тому делу».']"
      ]
     },
     "execution_count": 682,
     "metadata": {},
     "output_type": "execute_result"
    }
   ],
   "source": [
    "new_sections[29]"
   ]
  },
  {
   "cell_type": "code",
   "execution_count": 683,
   "id": "9ba4945e",
   "metadata": {},
   "outputs": [],
   "source": [
    "sections = new_sections"
   ]
  },
  {
   "cell_type": "code",
   "execution_count": 684,
   "id": "bcf60cdb",
   "metadata": {},
   "outputs": [
    {
     "data": {
      "text/plain": [
       "['КЕЗЭРЕНЬ КОЕСЬ (э.)',\n",
       " 'МАСТОРПАЗ (э.)',\n",
       " 'СЮПАВОНЬ МОРО (э.)',\n",
       " 'ЛАМО НУЖА НЕИНЕК (э.)',\n",
       " 'МОРО ЧИМБУЛАТ АТЯДО (э.)',\n",
       " 'КОДА РОДЯ ПОЛАНЗО МИКШНИЗЕ ДЫ ОДОВ РАМИЗЕ (э.)',\n",
       " 'МОРО ОДПОРАДО ДЫ СЫРЕЧИДЕ (э.)',\n",
       " 'ЭРЗЯ-МОКШОНЬ ИСТОРИЯ (э.)',\n",
       " 'МОКШЭРЗЯНЬ МАСТОР (м.)',\n",
       " 'ЭРЗЯ ИНЯЗОР ТЮШТЯНЬ КВАЛМА (м.)',\n",
       " 'ОРКИНА: ВАСЕНЦЕ ЭРИЦЯТНЕ (э.)',\n",
       " 'АРЧИЛОВ ВЕЛЕСЬ (э.)',\n",
       " 'КОДА ЭРЗЯНЬ МАСТОРОСЬ ЮТАСЬ РУЗ ИНЯЗОРОНТЕНЬ (э.)',\n",
       " 'СУХОЙ КАРБУЛАК ',\n",
       " 'ОРКИНО ']"
      ]
     },
     "execution_count": 684,
     "metadata": {},
     "output_type": "execute_result"
    }
   ],
   "source": [
    "[s[0] for s in sections[0:30:2]]"
   ]
  },
  {
   "cell_type": "code",
   "execution_count": 685,
   "id": "b6274707",
   "metadata": {},
   "outputs": [
    {
     "data": {
      "text/plain": [
       "['ДРЕВНИЙ ОБЫЧАЙ ',\n",
       " 'МАСТОРПАЗ (БОГ ЗЕМЛИ) ',\n",
       " 'ПЕСНЯ БОГАТОГО ',\n",
       " 'МНОГО НУЖДЫ ВИДЕЛИ ',\n",
       " 'ПЕСНЯ О СТАРИКЕ ЧИМБУЛАТЕ ',\n",
       " 'КАК РОДИОН ЖЕНУ ПРОДАВАЛ И ОБРАТНО ПОКУПАЛ ',\n",
       " 'ПЕСНЯ О МОЛОДОСТИ И СТАРОСТИ ',\n",
       " 'МОРДОВСКАЯ ИСТОРИЯ ',\n",
       " 'МОРДОВСКАЯ ЗЕМЛЯ ',\n",
       " 'ОБ ЭРЗЯНСКОМ ЦАРЕ ТЮШТЕ ',\n",
       " 'НАЧАЛО ОРКИНА: ПЕРВЫЕ ПОСЕЛЕНЦЫ ',\n",
       " 'НАЧАЛО СУХОГО КАРБУЛАКА ',\n",
       " 'КАК ЭРЗЯНСКАЯ ЗЕМЛЯ ПЕРЕШЛА РУССКОМУ ЦАРЮ ',\n",
       " 'СУХОЙ КАРБУЛАК ',\n",
       " 'ОРКИНО ']"
      ]
     },
     "execution_count": 685,
     "metadata": {},
     "output_type": "execute_result"
    }
   ],
   "source": [
    "[s[0] for s in sections[1:31:2]]"
   ]
  },
  {
   "cell_type": "code",
   "execution_count": 686,
   "id": "84c0f27e",
   "metadata": {},
   "outputs": [
    {
     "data": {
      "text/plain": [
       "['ЭРЬМЕЗЬ ', 'I ', 'II ', 'III ', 'IV ', 'V ', 'VI ', 'VII ', 'VIII ']"
      ]
     },
     "execution_count": 686,
     "metadata": {},
     "output_type": "execute_result"
    }
   ],
   "source": [
    "[s[0] for s in sections[30:39]]"
   ]
  },
  {
   "cell_type": "code",
   "execution_count": 687,
   "id": "086fb0da",
   "metadata": {},
   "outputs": [
    {
     "data": {
      "text/plain": [
       "['ЭРЬМЕЗЬ ', 'I ', 'II ', 'III ', 'IV ', 'V ', 'VI ', 'VII ', 'VIII ']"
      ]
     },
     "execution_count": 687,
     "metadata": {},
     "output_type": "execute_result"
    }
   ],
   "source": [
    "[s[0] for s in sections[39:]]"
   ]
  },
  {
   "cell_type": "code",
   "execution_count": 688,
   "id": "eea281b2",
   "metadata": {},
   "outputs": [],
   "source": [
    "sheyanova_sections = {\n",
    "    'myv': sections[0:30:2] + sections[30:39],\n",
    "    'rus': sections[1:31:2] + sections[39:]\n",
    "}"
   ]
  },
  {
   "cell_type": "code",
   "execution_count": 691,
   "id": "5f44967c",
   "metadata": {},
   "outputs": [],
   "source": [
    "import json"
   ]
  },
  {
   "cell_type": "code",
   "execution_count": 692,
   "id": "30f697f7",
   "metadata": {},
   "outputs": [],
   "source": [
    "with open('other_sources/sheyanova___sections_unaligned.json', 'w') as f:\n",
    "    json.dump(sheyanova_sections, f, ensure_ascii=False, indent=' ')"
   ]
  },
  {
   "cell_type": "markdown",
   "id": "bd790411",
   "metadata": {},
   "source": [
    "# Alignment"
   ]
  },
  {
   "cell_type": "markdown",
   "id": "1dbf764a",
   "metadata": {},
   "source": [
    "### Approximate alignment"
   ]
  },
  {
   "cell_type": "code",
   "execution_count": 1,
   "id": "7c03caf5",
   "metadata": {},
   "outputs": [],
   "source": [
    "import pandas as pd\n",
    "from collections import defaultdict"
   ]
  },
  {
   "cell_type": "code",
   "execution_count": 70,
   "id": "c66be800",
   "metadata": {},
   "outputs": [],
   "source": [
    "dict_raw = pd.read_csv('other_sources/joint_phrasebook.tsv', sep='\\t').dropna()"
   ]
  },
  {
   "cell_type": "code",
   "execution_count": 73,
   "id": "fb1c29d1",
   "metadata": {},
   "outputs": [],
   "source": [
    "src_words, trg_words = dict_raw.ru.to_list(), dict_raw.myv.tolist()"
   ]
  },
  {
   "cell_type": "code",
   "execution_count": 74,
   "id": "6e90ce2d",
   "metadata": {},
   "outputs": [],
   "source": [
    "MIN_PREFIX = 2"
   ]
  },
  {
   "cell_type": "code",
   "execution_count": 78,
   "id": "8b72b9ec",
   "metadata": {},
   "outputs": [
    {
     "name": "stdout",
     "output_type": "stream",
     "text": [
      "177553 42588\n"
     ]
    }
   ],
   "source": [
    "prefix2words = defaultdict(set)\n",
    "word2syns = defaultdict(set)\n",
    "word2trans = defaultdict(set)\n",
    "for x, y in zip(src_words, trg_words):\n",
    "    if len(x.split()) > 2 or len(y.split()) > 2:\n",
    "        continue # these are sentences\n",
    "    x = x.lower().strip()\n",
    "    y = y.lower().strip()\n",
    "    word2syns[x].add(y)\n",
    "    word2syns[x].add(x)\n",
    "    word2syns[y].add(y)\n",
    "    word2syns[y].add(x)\n",
    "    for i in range(MIN_PREFIX, len(x)+1):\n",
    "        prefix2words[x[:i]].add(x)\n",
    "    for i in range(MIN_PREFIX, len(y)+1):\n",
    "        prefix2words[y[:i]].add(y)\n",
    "        \n",
    "print(len(prefix2words), len(word2syns))"
   ]
  },
  {
   "cell_type": "code",
   "execution_count": 76,
   "id": "0c787805",
   "metadata": {},
   "outputs": [],
   "source": [
    "xw = 'кошка'\n",
    "yw = 'псина'"
   ]
  },
  {
   "cell_type": "code",
   "execution_count": 77,
   "id": "b8aa77e1",
   "metadata": {},
   "outputs": [
    {
     "name": "stdout",
     "output_type": "stream",
     "text": [
      "0.4\n",
      "1.0\n",
      "1.0\n",
      "0.20000000000000004\n",
      "0.2\n"
     ]
    }
   ],
   "source": [
    "def get_similarity(xw, yw):\n",
    "    if xw == yw:\n",
    "        return 1\n",
    "    x_seq = [prefix2words.get(xw[:i], set()) for i in range(MIN_PREFIX, len(xw)+1)]\n",
    "    y_seq = [prefix2words.get(yw[:i], set()) for i in range(MIN_PREFIX, len(yw)+1)]\n",
    "    y_seq_syns = [{w for ww in ws for w in word2syns[ww]} for ws in y_seq]\n",
    "\n",
    "    best_score = 0\n",
    "    best_ids = None\n",
    "    for i, sx in enumerate(x_seq):\n",
    "        for j, sy in enumerate(y_seq_syns):\n",
    "            common = sx.intersection(sy)\n",
    "            if common:\n",
    "                score = (i + MIN_PREFIX) / len(xw) * (j + MIN_PREFIX) / len(yw)\n",
    "                if score > best_score:\n",
    "                    best_score = score\n",
    "                    best_ids = i, j\n",
    "    return best_score\n",
    "\n",
    "print(get_similarity('кошка', 'киска'))\n",
    "print(get_similarity('собака', 'киска'))\n",
    "print(get_similarity('кошка', 'катка'))\n",
    "print(get_similarity('кошка', 'собака'))\n",
    "print(get_similarity('собака', 'кошка'))"
   ]
  },
  {
   "cell_type": "code",
   "execution_count": null,
   "id": "1931aec9",
   "metadata": {},
   "outputs": [],
   "source": [
    "def find_translations(word):\n",
    "    "
   ]
  },
  {
   "cell_type": "code",
   "execution_count": 8,
   "id": "ddab032d",
   "metadata": {},
   "outputs": [],
   "source": [
    "import numpy as np\n",
    "from razdel import sentenize, tokenize"
   ]
  },
  {
   "cell_type": "code",
   "execution_count": 9,
   "id": "35ed91a7",
   "metadata": {},
   "outputs": [],
   "source": [
    "def get_sent_sim(sent1, sent2):\n",
    "    toks1 = [t.text.lower() for t in tokenize(sent1)]\n",
    "    toks2 = [t.text.lower() for t in tokenize(sent2)]\n",
    "    all_sims = np.array([[get_similarity(t1, t2) for t2 in toks2] for t1 in toks1])\n",
    "    len_penalty = min(len(toks1), len(toks2)) / max(len(toks1), len(toks2))\n",
    "    return (all_sims.max(1).mean() * all_sims.max(0).mean() * len_penalty) ** (1/3)"
   ]
  },
  {
   "cell_type": "code",
   "execution_count": null,
   "id": "4e61c6a3",
   "metadata": {},
   "outputs": [],
   "source": []
  },
  {
   "cell_type": "code",
   "execution_count": 482,
   "id": "a45ced7c",
   "metadata": {},
   "outputs": [
    {
     "name": "stdout",
     "output_type": "stream",
     "text": [
      "Чачсь 1934 иень январень 19-це чистэ МР-нь Кочкуровань райононь Од Тягловка велесэ, театровед, режиссёр, педагог.\n",
      "Василий Сергеевич Родился 19 января 1934 года в деревне Н. Тягловка ныне Кочкуровского района РМ, театровед, режиссёр, педагог.\n",
      "0.6564176986740591\n"
     ]
    }
   ],
   "source": [
    "sent1 = lhs_sents[0][0]\n",
    "sent2 = rhs_sents[1][0]\n",
    "print(sent1)\n",
    "print(sent2)\n",
    "print(get_sent_sim(sent1, sent2))"
   ]
  },
  {
   "cell_type": "code",
   "execution_count": 402,
   "id": "f1177045",
   "metadata": {},
   "outputs": [],
   "source": [
    "bible = pd.read_csv('erzya_bible.tsv', sep='\\t')"
   ]
  },
  {
   "cell_type": "code",
   "execution_count": 404,
   "id": "057d9481",
   "metadata": {},
   "outputs": [
    {
     "name": "stdout",
     "output_type": "stream",
     "text": [
      "(12926, 4)\n",
      "(12899, 4)\n",
      "(12483, 4)\n"
     ]
    }
   ],
   "source": [
    "print(bible.shape)\n",
    "d_clean = bible.dropna()\n",
    "print(d_clean.shape)\n",
    "d_clean = d_clean[~d_clean.myv.str.startswith('Глава ')]\n",
    "print(d_clean.shape)"
   ]
  },
  {
   "cell_type": "code",
   "execution_count": 422,
   "id": "efbb9fff",
   "metadata": {},
   "outputs": [
    {
     "data": {
      "application/vnd.jupyter.widget-view+json": {
       "model_id": "e2cee8406b724db295c7a2cc82a6e569",
       "version_major": 2,
       "version_minor": 0
      },
      "text/plain": [
       "0it [00:00, ?it/s]"
      ]
     },
     "metadata": {},
     "output_type": "display_data"
    }
   ],
   "source": [
    "s = d_clean.sample(1000, random_state=1).reset_index()\n",
    "true_sims = [get_sent_sim(row.ru, row.myv) for _, row in tqdm(s.iterrows())]"
   ]
  },
  {
   "cell_type": "code",
   "execution_count": 423,
   "id": "f32e6ea3",
   "metadata": {},
   "outputs": [
    {
     "data": {
      "application/vnd.jupyter.widget-view+json": {
       "model_id": "72647f608d7840e891eeb647d98450ca",
       "version_major": 2,
       "version_minor": 0
      },
      "text/plain": [
       "0it [00:00, ?it/s]"
      ]
     },
     "metadata": {},
     "output_type": "display_data"
    }
   ],
   "source": [
    "s2 = d_clean.sample(1000, random_state=2).reset_index()\n",
    "bad_sims = [get_sent_sim(row.ru, s2.iloc[_].myv) for _, row in tqdm(s.iterrows())]"
   ]
  },
  {
   "cell_type": "code",
   "execution_count": 426,
   "id": "cc7d0def",
   "metadata": {},
   "outputs": [
    {
     "data": {
      "text/plain": [
       "0.50    0.363427\n",
       "0.90    0.488092\n",
       "0.99    0.558498\n",
       "1.00    0.672819\n",
       "dtype: float64"
      ]
     },
     "execution_count": 426,
     "metadata": {},
     "output_type": "execute_result"
    }
   ],
   "source": [
    "pd.Series(bad_sims).quantile([0.5, 0.9, 0.99, 1])"
   ]
  },
  {
   "cell_type": "code",
   "execution_count": 427,
   "id": "6980ea26",
   "metadata": {},
   "outputs": [
    {
     "data": {
      "text/plain": [
       "0.561"
      ]
     },
     "execution_count": 427,
     "metadata": {},
     "output_type": "execute_result"
    }
   ],
   "source": [
    "(pd.Series(true_sims) > 0.5).mean()"
   ]
  },
  {
   "cell_type": "code",
   "execution_count": 506,
   "id": "395ce682",
   "metadata": {},
   "outputs": [
    {
     "data": {
      "text/plain": [
       "0.01    0.145581\n",
       "0.10    0.355912\n",
       "0.50    0.515390\n",
       "0.90    0.631361\n",
       "0.99    0.703930\n",
       "dtype: float64"
      ]
     },
     "execution_count": 506,
     "metadata": {},
     "output_type": "execute_result"
    }
   ],
   "source": [
    "pd.Series(true_sims).quantile([0.01, 0.1, 0.5, 0.9, 0.99])"
   ]
  },
  {
   "cell_type": "code",
   "execution_count": 424,
   "id": "451c71f5",
   "metadata": {},
   "outputs": [
    {
     "data": {
      "text/plain": [
       "<AxesSubplot:>"
      ]
     },
     "execution_count": 424,
     "metadata": {},
     "output_type": "execute_result"
    },
    {
     "data": {
      "image/png": "[encoded data removed]",
      "text/plain": [
       "<Figure size 432x288 with 1 Axes>"
      ]
     },
     "metadata": {
      "needs_background": "light"
     },
     "output_type": "display_data"
    }
   ],
   "source": [
    "pd.Series(true_sims).hist(density=True)\n",
    "pd.Series(bad_sims).hist(alpha=0.5, density=True)"
   ]
  },
  {
   "cell_type": "markdown",
   "id": "00a1d012",
   "metadata": {},
   "source": [
    "### Actually aligning the sentences!"
   ]
  },
  {
   "cell_type": "code",
   "execution_count": 507,
   "id": "c3966830",
   "metadata": {},
   "outputs": [],
   "source": [
    "threshold = 0.15\n",
    "page_radius = 1\n",
    "\n",
    "step_penalty = 0.9"
   ]
  },
  {
   "cell_type": "code",
   "execution_count": 508,
   "id": "a9ce76cb",
   "metadata": {},
   "outputs": [],
   "source": [
    "matched_pairs = []"
   ]
  },
  {
   "cell_type": "code",
   "execution_count": 514,
   "id": "ee3abf96",
   "metadata": {
    "scrolled": true
   },
   "outputs": [
    {
     "data": {
      "application/vnd.jupyter.widget-view+json": {
       "model_id": "10537a30f250488985632832f79f8d0d",
       "version_major": 2,
       "version_minor": 0
      },
      "text/plain": [
       "  0%|          | 0/5194 [00:00<?, ?it/s]"
      ]
     },
     "metadata": {},
     "output_type": "display_data"
    },
    {
     "name": "stdout",
     "output_type": "stream",
     "text": [
      "[0, 1] 0.6564176986740591\n",
      "[1, 2] 0.9403905277158924\n",
      "[2, 3] 0.5569294212108491\n",
      "[3, 4] 0.5343674833364678\n",
      "[4, 4] 0.5428835233189814\n",
      "[5, 5] 0.4889247426589003\n",
      "[6, 6] 0.6804882949025666\n",
      "[7, 7] 0.589272059325291\n",
      "[8, 8] 0.7338103240661519\n",
      "[9, 9] 0.6089476131975857\n",
      "[10, 10] 0.9048018950191881\n",
      "[11, 20] 0.5486359522553447\n",
      "[12, 12] 0.7242790824013353\n",
      "[13, 4] 0.5428835233189814\n",
      "[14, 16] 0.7080755714519212\n",
      "[15, 17] 0.7799018553309633\n",
      "[16, 18] 0.5844746161434022\n",
      "[17, 33] 0.5597370389691629\n",
      "[18, 17] 0.574376702777388\n",
      "[19, 25] 0.522406462162521\n",
      "[20, 29] 0.5652578110111245\n",
      "[21, 29] 0.6149597579083687\n",
      "[22, 49] 0.5604295260803176\n",
      "[23, 20] 0.6307701625662954\n",
      "[24, 26] 0.626829830980906\n",
      "[25, 27] 0.6816976286209976\n",
      "[26, 28] 0.6658216817543537\n",
      "[27, 49] 0.6336557750556537\n",
      "[28, 30] 0.635539079947149\n",
      "[29, 29] 0.5022596891843436\n",
      "[30, 20] 0.5899761809923931\n",
      "[31, 34] 0.5626980550260761\n",
      "[32, 17] 0.5455149176535679\n",
      "[33, 50] 0.5639179471736506\n",
      "[34, 25] 0.5597662380171505\n",
      "[35, 27] 0.5879736488086921\n",
      "[36, 17] 0.5389545361241647\n",
      "[37, 41] 0.631117896215041\n",
      "[38, 26] 0.39975229199036083\n",
      "[39, 30] 0.5129215547902075\n",
      "[40, 51] 0.6044099212969777\n",
      "[41, 46] 0.6689440210013834\n",
      "[42, 28] 0.41429766746051455\n",
      "[43, 49] 0.49643257337154056\n",
      "[44, 48] 0.5905003219100305\n",
      "[45, 49] 0.7132731095483109\n",
      "[46, 40] 0.6204773685354771\n",
      "[47, 28] 0.47561632062054515\n",
      "[48, 51] 0.5613186265841968\n",
      "[49, 40] 0.550310309659915\n",
      "[50, 49] 0.6547364894590711\n",
      "[51, 25] 0.5779329604368146\n",
      "[52, 53] 0.2154434690031884\n",
      "[53, 54] 0.6787590405872282\n",
      "[54, 55] 0.6761219930612601\n",
      "[55, 49] 0.5141020863631042\n",
      "[56, 49] 0.49660899345769216\n",
      "[57, 60] 0.6530815279027322\n",
      "[58, 40] 0.44020430874514055\n",
      "[59, 29] 0.6022959439433054\n",
      "[60, 59] 0.6299225713578083\n",
      "[61, 75] 0.2997310094105293\n",
      "[62, 29] 0.5061391449061693\n",
      "[63, 27] 0.5286010254177738\n",
      "[64, 80] 0.2704217944326391\n",
      "[65, 65] 0.8053927873386201\n",
      "[66, 60] 0.26493075832961166\n",
      "[67, 68] 0.7417848716930149\n",
      "[68, 67] 0.5428835233189814\n",
      "[69, 69] 0.7768081264884648\n",
      "[70, 88] 0.5153161806437307\n",
      "[71, 71] 0.6341440832664945\n",
      "[72, 68] 0.6273573525873524\n",
      "[73, 73] 0.6260618964677112\n",
      "[74, 68] 0.4807498567691362\n",
      "[75, 73] 0.5772458395842814\n",
      "[76, 75] 0.6143083126309857\n",
      "[77, 68] 0.6273573525873524\n",
      "[78, 77] 0.5667528527974433\n",
      "[79, 78] 0.47230006152229337\n",
      "[80, 79] 0.5770883578571595\n",
      "[81, 80] 1.0\n",
      "[82, 80] 1.0\n",
      "[83, 79] 0.665891121136377\n",
      "[84, 83] 1.0\n",
      "[85, 83] 1.0\n",
      "[86, 85] 0.716325711098175\n",
      "[87, 75] 0.1455967441227165\n",
      "[88, 87] 0.5314283892636579\n",
      "[89, 88] 0.642640451402121\n",
      "[90, 89] 0.7290407249445733\n",
      "[91, 90] 0.5300376695139836\n",
      "[92, 99] 0.4990939533669224\n",
      "[93, 91] 0.6410575582869252\n",
      "[94, 93] 0.6896245876891913\n",
      "[95, 112] 0.5609434095608292\n",
      "[96, 93] 0.49833202695321016\n",
      "[97, 96] 0.5922686536827101\n",
      "[98, 106] 0.30285343213869\n",
      "[99, 102] 0.5361828551305654\n",
      "[100, 102] 0.5122600219216423\n",
      "[101, 100] 0.6751031462257647\n",
      "[102, 88] 0.5994816627810945\n",
      "[103, 87] 0.5113197743163589\n",
      "[104, 102] 0.7199317535686306\n",
      "[105, 103] 0.4907864010009163\n",
      "[106, 88] 0.46233955497366575\n",
      "[107, 114] 0.5679559919201589\n",
      "[108, 94] 0.4404649645577853\n",
      "[109, 107] 0.3914867641168864\n",
      "[110, 106] 0.7509808653344185\n",
      "[111, 116] 0.44628863338811303\n",
      "[112, 108] 0.7946180996635934\n",
      "[113, 125] 0.5786074721998717\n",
      "[114, 99] 0.517758649706288\n",
      "[115, 112] 0.6490953996154186\n",
      "[116, 88] 0.5164349449062218\n",
      "[117, 126] 0.5575801197262178\n",
      "[118, 121] 0.5830690193707436\n",
      "[119, 114] 0.6407432227958296\n",
      "[120, 88] 0.4973573683641293\n",
      "[121, 153] 0.5491555492346852\n",
      "[122, 182] 0.5299147788700557\n",
      "[123, 120] 0.5974793186505483\n",
      "[124, 151] 0.4757321064996976\n",
      "[125, 122] 0.5461629598077272\n",
      "[126, 107] 0.3914867641168864\n",
      "[127, 148] 0.5528572864056248\n",
      "[128, 148] 0.5655196912766689\n",
      "[129, 148] 0.5912500955634363\n",
      "[130, 124] 0.5883203457377457\n",
      "[131, 175] 0.43989534756812143\n",
      "[132, 136] 0.5192950460822591\n",
      "[133, 151] 0.5270707819632072\n",
      "[134, 108] 0.4575754420458304\n",
      "[135, 148] 0.5324103580050051\n",
      "[136, 151] 0.5153120951810684\n",
      "[137, 136] 0.5390516074711662\n",
      "[138, 180] 0.5283056174031927\n",
      "[139, 131] 0.5513188195243266\n",
      "[140, 126] 0.5148110790564352\n",
      "[141, 107] 0.3914867641168864\n",
      "[142, 106] 0.6460226650596379\n",
      "[143, 116] 0.44628863338811303\n",
      "[144, 136] 0.625677289183221\n",
      "[145, 107] 0.3914867641168864\n",
      "[146, 138] 0.6097996023749973\n",
      "[147, 116] 0.44628863338811303\n",
      "[148, 141] 0.521007589764677\n",
      "[149, 148] 0.6332822756574823\n",
      "[150, 142] 0.500105797717927\n",
      "[151, 107] 0.3914867641168864\n",
      "[152, 173] 0.6814202223120523\n",
      "[153, 116] 0.44628863338811303\n",
      "[154, 146] 0.5468231153309993\n",
      "[155, 135] 0.3914867641168864\n",
      "[156, 141] 0.6242628345849779\n",
      "[157, 185] 0.5578607917351412\n",
      "[158, 188] 0.5823793932283683\n",
      "[159, 186] 0.5686046786174707\n",
      "[160, 150] 0.7591472429689157\n",
      "[161, 167] 0.4478736940924952\n",
      "[162, 152] 0.6402334364709581\n",
      "[163, 153] 0.6107691017037292\n",
      "[164, 130] 0.473772393536184\n",
      "[165, 167] 0.49196684754423975\n",
      "[166, 135] 0.3914867641168864\n",
      "[167, 125] 0.5989315376909433\n",
      "[168, 188] 0.7113786608980126\n",
      "[169, 156] 0.7509808653344185\n",
      "[170, 116] 0.44628863338811303\n",
      "[171, 158] 1.0\n",
      "[172, 135] 0.3914867641168864\n",
      "[173, 160] 1.0\n",
      "[174, 116] 0.44628863338811303\n",
      "[175, 162] 0.6436595897370865\n",
      "[176, 163] 0.556341768663179\n",
      "[177, 150] 0.5816276705757406\n",
      "[178, 165] 0.5110932809180587\n",
      "[179, 166] 0.3514302772090622\n",
      "[180, 167] 0.5530532274408815\n",
      "[181, 116] 0.44628863338811303\n",
      "[182, 169] 0.4807498567691361\n",
      "[183, 135] 0.3914867641168864\n",
      "[184, 171] 0.7077063595902454\n",
      "[185, 175] 0.4542801482080349\n",
      "[186, 173] 0.7789599605462191\n",
      "[187, 148] 0.5627013445813458\n",
      "[188, 167] 0.6823076392928173\n",
      "[189, 151] 0.5055436470920459\n",
      "[190, 126] 0.504400169142896\n",
      "[191, 152] 0.5438371693264377\n",
      "[192, 204] 0.5516387575026197\n",
      "[193, 126] 0.541818296995789\n",
      "[194, 140] 0.642913749451765\n",
      "[195, 191] 0.5528284000589052\n",
      "[196, 192] 0.5915144873899659\n",
      "[197, 210] 0.4934966911554922\n",
      "[198, 212] 0.7513347451524459\n",
      "[199, 196] 0.6316725913659196\n",
      "[200, 197] 0.5723344077911356\n",
      "[201, 182] 0.5318737276408587\n",
      "[202, 194] 0.4986187774938744\n",
      "[203, 182] 0.6955141312237512\n",
      "[204, 183] 0.6803254140881314\n",
      "[205, 184] 0.8735804647362989\n",
      "[206, 173] 0.6847811196969833\n",
      "[207, 188] 0.7400124446680252\n",
      "[208, 187] 0.5961141069667437\n",
      "[209, 188] 0.8039034489224531\n",
      "[210, 189] 1.0\n",
      "[211, 190] 0.7375542486248718\n",
      "[212, 211] 0.5677105786326877\n",
      "[213, 204] 0.5280137429360859\n",
      "[214, 201] 0.691292529240644\n",
      "[215, 202] 0.2419991325749651\n",
      "[216, 203] 0.6107054841934658\n",
      "[217, 204] 0.6845692874294044\n",
      "[218, 204] 0.608573477578244\n",
      "[219, 208] 0.5557981865914886\n",
      "[220, 208] 0.7721669864711823\n",
      "[221, 209] 0.5509162259257191\n",
      "[222, 210] 0.7431499593138798\n",
      "[223, 211] 0.6550212248643779\n",
      "[224, 212] 0.6415316132150499\n",
      "[225, 213] 0.3801376247233375\n",
      "[226, 214] 0.6923886459427828\n",
      "[227, 215] 0.6206994354592202\n",
      "[228, 214] 0.25386872251079107\n",
      "[229, 218] 0.6786044041487266\n",
      "[230, 219] 0.520020955762976\n",
      "[231, 220] 0.6174545865715709\n",
      "[232, 212] 0.529616684608226\n",
      "[233, 208] 0.5429736166285661\n",
      "[234, 248] 0.5197024139833873\n",
      "[235, 208] 0.3901101878644696\n",
      "[236, 208] 0.5143155365177803\n",
      "[237, 222] 0.5634895365038235\n",
      "[238, 223] 0.4807498567691361\n",
      "[239, 243] 0.6299605249474366\n",
      "[240, 225] 0.41119742592218717\n",
      "[241, 218] 0.6273573525873524\n",
      "[242, 211] 0.32284825037527415\n",
      "[243, 243] 0.6299605249474366\n",
      "[244, 211] 0.3811779968659169\n",
      "[245, 218] 0.6273573525873524\n",
      "[246, 211] 0.49641381543369445\n",
      "[247, 243] 0.6299605249474366\n",
      "[248, 223] 0.5425884290572525\n",
      "[249, 230] 0.73748789706377\n",
      "[250, 218] 0.6273573525873524\n",
      "[251, 230] 0.2823108086643086\n",
      "[252, 232] 0.5763205378549514\n",
      "[253, 238] 0.7311977708316184\n",
      "[254, 234] 0.5560135301482864\n",
      "[255, 211] 0.6052503359753401\n",
      "[256, 236] 0.619359400443583\n",
      "[257, 254] 0.49212920792312836\n",
      "[258, 238] 0.5957090775601447\n",
      "[259, 268] 0.39703015887479937\n",
      "[260, 240] 0.5281585700901831\n",
      "[261, 241] 0.6044540336452768\n",
      "[262, 265] 0.4907140256587306\n",
      "[263, 239] 0.38879203999949413\n",
      "[264, 243] 1.0\n",
      "[265, 224] 0.3968502629920499\n",
      "[266, 228] 0.5340620464135872\n",
      "[267, 252] 0.6016360854594685\n",
      "[268, 250] 0.5697942336118992\n",
      "[269, 268] 0.5273996617508764\n",
      "[270, 252] 0.5212973157013532\n",
      "[271, 253] 0.6355872403356794\n",
      "[272, 254] 0.5135590232148614\n",
      "[273, 256] 0.5452621911091869\n",
      "[274, 256] 0.5415186244632821\n",
      "[275, 269] 0.6453780640906298\n",
      "[276, 257] 0.5167430126563471\n",
      "[277, 268] 0.462641752499674\n",
      "[278, 275] 0.5916567750058169\n",
      "[279, 259] 0.6315705544431347\n",
      "[280, 272] 0.595060475456451\n",
      "[281, 261] 0.4964821679027943\n",
      "[282, 265] 0.4687440277914674\n",
      "[283, 269] 0.5503127189440288\n",
      "[284, 264] 0.5524397207825438\n",
      "[285, 265] 0.5713456613857154\n",
      "[286, 266] 0.6075622810266111\n",
      "[287, 267] 0.6271061166967996\n",
      "[288, 268] 0.6394958594933613\n",
      "[289, 269] 0.6583244903303976\n",
      "[290, 269] 0.5581084175327939\n",
      "[291, 262] 0.5975150019762583\n",
      "[292, 272] 0.6564873813658861\n",
      "[293, 258] 0.5479651930240488\n",
      "[294, 274] 0.5763045365073058\n",
      "[295, 275] 0.6788627228935166\n",
      "[296, 269] 0.5266119356000898\n",
      "[297, 278] 0.6421192913276673\n",
      "[298, 279] 0.6576172298202463\n",
      "[299, 267] 0.5896856236046373\n",
      "[300, 281] 0.7228300575115993\n",
      "[301, 273] 0.627309766376697\n",
      "[302, 268] 0.5259140236744559\n",
      "[303, 284] 0.5159847427928896\n",
      "[304, 281] 0.5492258001854716\n",
      "[305, 279] 0.4911858718922356\n",
      "[306, 269] 0.5481290295269257\n",
      "[307, 301] 0.663406953477188\n",
      "[308, 294] 0.45201051105016\n",
      "[309, 275] 0.5822617856905624\n",
      "[310, 293] 0.5248922772093648\n",
      "[311, 286] 0.6219889661267766\n",
      "[312, 287] 0.7574851687513015\n",
      "[313, 288] 0.7841966907341905\n",
      "[314, 289] 0.7968423648764899\n",
      "[315, 290] 0.6716762467843453\n",
      "[316, 301] 0.5837247808022797\n",
      "[317, 292] 0.5252534093384598\n",
      "[318, 293] 0.6023675149493579\n",
      "[319, 301] 0.619642677751705\n",
      "[320, 295] 0.6367081568961861\n",
      "[321, 301] 0.5500155656925246\n",
      "[322, 297] 0.6048217721472248\n",
      "[323, 298] 0.665112974019809\n",
      "[324, 299] 0.5420614910448587\n",
      "[325, 300] 0.5772446921429176\n",
      "[326, 301] 0.6590462414457977\n",
      "[327, 302] 0.6147353138747133\n",
      "[328, 306] 0.5706499198882227\n"
     ]
    },
    {
     "name": "stdout",
     "output_type": "stream",
     "text": [
      "[329, 297] 0.5844715969305849\n",
      "[330, 312] 0.25103626307442306\n",
      "[331, 335] 0.1222336002032885\n",
      "[332, 308] 0.7952172462398076\n",
      "[333, 326] 0.42187208731033116\n",
      "[334, 338] 0.5750421536674588\n",
      "[335, 311] 0.47669065128361443\n",
      "[336, 316] 0.5155712288246632\n",
      "[337, 311] 0.5094053045064009\n",
      "[338, 312] 0.6421192913276673\n",
      "[339, 313] 0.6078526069468122\n",
      "[340, 314] 0.5122881226984192\n",
      "[341, 333] 0.5611635345465036\n",
      "[342, 316] 0.4906424689528916\n",
      "[343, 317] 0.4330751255952941\n",
      "[344, 318] 0.6698558629961215\n",
      "[345, 319] 0.5681446544209482\n",
      "[346, 320] 0.49807477938076494\n",
      "[347, 321] 0.6318220600686393\n",
      "[348, 338] 0.5507161077481877\n",
      "[349, 348] 0.4717601039913682\n",
      "[350, 324] 0.602176337134885\n",
      "[351, 325] 0.6402595753097777\n",
      "[352, 327] 0.7296582085630006\n",
      "[353, 328] 0.5126434948293427\n",
      "[354, 329] 0.5966555906289746\n",
      "[355, 330] 0.49542822389030317\n",
      "[356, 331] 0.5528805019537733\n",
      "[357, 324] 0.5057513344134186\n",
      "[358, 350] 0.47344451324099124\n",
      "[359, 338] 0.430441711447019\n",
      "[360, 338] 0.5115424290464714\n",
      "[361, 337] 0.48518626379072927\n",
      "[362, 338] 0.6772396631452405\n",
      "[363, 335] 0.4951266820795905\n",
      "[364, 324] 0.5174473687019894\n",
      "[365, 341] 0.30285343213869\n",
      "[366, 342] 0.7625946253507728\n",
      "[367, 368] 0.7464292490582097\n",
      "[368, 367] 0.5914404299134559\n",
      "[369, 370] 0.5396856781745941\n",
      "[370, 363] 0.4965184556645163\n",
      "[371, 350] 0.5428835233189814\n",
      "[372, 338] 0.5598690565066184\n",
      "[373, 347] 0.7683865819049197\n",
      "[374, 351] 0.5883413582459041\n",
      "[375, 367] 0.5791766066670669\n",
      "[376, 363] 0.5993914219265841\n",
      "[377, 319] 0.5967717590841548\n",
      "[378, 355] 0.45830518606639176\n",
      "[379, 356] 0.4983886481924821\n",
      "[380, 352] 0.49772606955492377\n",
      "[381, 367] 0.5580016087907491\n",
      "[382, 380] 0.546058352938754\n",
      "[383, 373] 0.47601868986741014\n",
      "[384, 359] 0.5351314649053328\n",
      "[385, 354] 0.48716338763547623\n",
      "[386, 361] 0.5253778069738312\n",
      "[387, 342] 0.4585577785635131\n",
      "[388, 363] 0.5952162657093384\n",
      "[389, 390] 0.4514052218337092\n",
      "[390, 346] 0.47372254916233475\n",
      "[391, 366] 0.5726023148680051\n",
      "[392, 367] 0.5946289641659058\n",
      "[393, 368] 0.6824124778324542\n",
      "[394, 369] 0.5646466921453596\n",
      "[395, 380] 0.6100387160352815\n",
      "[396, 390] 0.4970743692318898\n",
      "[397, 373] 0.590943607962977\n",
      "[398, 367] 0.5691879297969494\n",
      "[399, 367] 0.6345545326413972\n",
      "[400, 380] 0.48817573689621657\n",
      "[401, 375] 0.5270469498079605\n",
      "[402, 373] 0.5196470731669196\n",
      "[403, 388] 0.5645544114051155\n",
      "[404, 367] 0.6024130973726093\n",
      "[405, 379] 0.5066398300651828\n",
      "[406, 380] 0.5223325441944361\n",
      "[407, 381] 0.6886120754786372\n",
      "[408, 383] 0.643317729869332\n",
      "[409, 384] 0.6614289148659745\n",
      "[410, 385] 0.7395829136292182\n",
      "[411, 386] 0.7114334517109462\n",
      "[412, 387] 0.6227733686490764\n",
      "[413, 388] 0.6251938931354822\n",
      "[414, 383] 0.5928485530278162\n",
      "[415, 373] 0.6203907621880546\n",
      "[416, 396] 0.6019395194999394\n",
      "[417, 363] 0.5363060747918307\n",
      "[418, 399] 0.44529060267784487\n",
      "[419, 367] 0.528918512208218\n",
      "[420, 367] 0.5301496988935582\n",
      "[421, 397] 0.4588479315966286\n",
      "[422, 399] 0.4841859357722506\n",
      "[423, 396] 0.5189707288569455\n",
      "[424, 380] 0.6191585390114167\n",
      "[425, 420] 0.5482908179065611\n",
      "[426, 421] 0.4415422939532462\n",
      "[427, 431] 0.6261055425228982\n",
      "[428, 403] 0.5978374486725571\n",
      "[429, 404] 0.4899318621670959\n",
      "[430, 405] 0.5244684745866868\n",
      "[431, 421] 0.2712364349838158\n",
      "[432, 402] 0.10647599682361743\n",
      "[433, 422] 0.5542874455197163\n",
      "[434, 421] 0.5156181766263669\n",
      "[435, 398] 0.4892487605276982\n",
      "[436, 421] 0.568301230358995\n",
      "[437, 431] 0.4699238829055073\n",
      "[438, 421] 0.5339082021547754\n",
      "[439, 411] 0.539106923182942\n",
      "[440, 412] 0.6137453807088813\n",
      "[441, 413] 0.6421192913276673\n",
      "[442, 414] 0.520020955762976\n",
      "[443, 415] 0.6725038386706066\n",
      "[444, 416] 0.610800204532346\n",
      "[445, 432] 0.5018429730881442\n",
      "[446, 418] 0.48461149343533494\n",
      "[447, 440] 0.6067002878747404\n",
      "[448, 432] 0.47668531251661717\n",
      "[449, 420] 0.7141324839897489\n",
      "[450, 421] 0.6481325843003528\n",
      "[451, 422] 0.568839063641944\n",
      "[452, 432] 0.5345779090017292\n",
      "[453, 440] 0.6095086688935077\n",
      "[454, 425] 0.49324241486609405\n",
      "[455, 428] 0.6205972260629273\n",
      "[456, 432] 0.5368308251272337\n",
      "[457, 427] 0.5950670643038178\n",
      "[458, 428] 0.5772458395842814\n",
      "[459, 430] 0.42978930482850664\n",
      "[460, 430] 0.5911779303869941\n",
      "[461, 432] 0.5808825901246754\n",
      "[462, 432] 0.6466263644393453\n",
      "[463, 433] 0.6699909546904316\n",
      "[464, 432] 0.5265493843649173\n",
      "[465, 432] 0.6142232143652046\n",
      "[466, 467] 0.5829821983317613\n",
      "[467, 420] 0.5927292938589376\n",
      "[468, 418] 0.45392092682805896\n",
      "[469, 421] 0.5775136792018277\n",
      "[470, 470] 0.6283296969166798\n",
      "[471, 442] 0.563315270762654\n",
      "[472, 433] 0.4807498567691362\n",
      "[473, 421] 0.3519243207441998\n",
      "[474, 467] 0.5696269423462039\n",
      "[475, 440] 0.5057659301184273\n",
      "[476, 464] 0.431385073638405\n",
      "[477, 448] 0.5044055133426645\n",
      "[478, 452] 0.5213872199902736\n",
      "[479, 459] 0.4108468681096366\n",
      "[480, 440] 0.5298956975354843\n",
      "[481, 451] 0.39862234783202843\n",
      "[482, 453] 0.5908354463936488\n",
      "[483, 454] 0.6937035060322418\n",
      "[484, 456] 0.54053635947768\n",
      "[485, 457] 0.6958884785198739\n",
      "[486, 470] 0.5477332614580457\n",
      "[487, 458] 0.5947318177094807\n",
      "[488, 440] 0.6230349947032486\n",
      "[489, 445] 0.6242664409957471\n",
      "[490, 445] 0.5804081113379107\n",
      "[491, 464] 0.6731805903466739\n",
      "[492, 470] 0.47540906963175394\n",
      "[493, 454] 0.5278934342840362\n",
      "[494, 467] 0.7329736819963665\n",
      "[495, 464] 0.5660123165850365\n",
      "[496, 459] 0.57787809183072\n",
      "[497, 441] 0.709209811818534\n",
      "[498, 468] 0.44086936131817006\n",
      "[499, 468] 0.5939194324107722\n",
      "[500, 468] 0.5929557452280361\n",
      "[501, 459] 0.5016611417710446\n",
      "[502, 468] 0.4977847810746243\n",
      "[503, 459] 0.49493930651108176\n",
      "[504, 494] 0.21869552249971547\n",
      "[505, 476] 0.6339935144254477\n",
      "[506, 491] 0.5073248950826954\n",
      "[507, 480] 0.7079653266373163\n",
      "[508, 489] 0.4298094677505865\n",
      "[509, 476] 0.535937440453811\n",
      "[510, 467] 0.5459077529395949\n",
      "[511, 489] 0.5198595546034505\n",
      "[512, 484] 0.6025609725139038\n",
      "[513, 485] 0.6367943677307075\n",
      "[514, 486] 0.5405690960264542\n",
      "[515, 523] 0.6436595897370865\n",
      "[516, 487] 0.5821165542673643\n",
      "[517, 492] 0.5243613254415918\n",
      "[518, 489] 0.5208869143315106\n",
      "[519, 487] 0.4816203880624107\n",
      "[520, 523] 0.4034857676045089\n",
      "[521, 492] 0.5292685778793353\n",
      "[522, 489] 0.4879540111841852\n",
      "[523, 491] 0.5371289256771739\n",
      "[524, 489] 0.5802361736429529\n",
      "[525, 479] 0.5178720843256431\n",
      "[526, 494] 1.0\n",
      "[527, 478] 0.5848035476425733\n",
      "[528, 496] 1.0\n",
      "[529, 479] 0.5178720843256431\n",
      "[530, 498] 1.0\n",
      "[531, 478] 0.5848035476425733\n",
      "[532, 500] 1.0\n",
      "[533, 479] 0.5178720843256431\n",
      "[534, 502] 1.0\n",
      "[535, 478] 0.5848035476425733\n",
      "[536, 502] 0.7448628524756677\n",
      "[537, 479] 0.5178720843256431\n",
      "[538, 506] 1.0\n",
      "[539, 478] 0.5848035476425733\n",
      "[540, 508] 1.0\n",
      "[541, 479] 0.5178720843256431\n",
      "[542, 510] 1.0\n",
      "[543, 478] 0.5848035476425733\n",
      "[544, 494] 0.6299605249474366\n",
      "[545, 512] 0.6358404930136659\n",
      "[546, 514] 0.4360921696899843\n",
      "[547, 489] 0.5107559136554592\n",
      "[548, 485] 0.517564356306688\n",
      "[549, 487] 0.44663784594853884\n",
      "[550, 493] 0.6211191642007912\n",
      "[551, 494] 1.0\n",
      "[552, 495] 0.5178720843256431\n",
      "[553, 496] 1.0\n",
      "[554, 486] 0.5339956914953011\n",
      "[555, 523] 0.5088212342091079\n",
      "[556, 523] 0.49212920792312836\n",
      "[557, 485] 0.5287727611693225\n",
      "[558, 487] 0.39713089084535214\n",
      "[559, 534] 0.5041140721672596\n",
      "[560, 528] 0.6078811677506472\n",
      "[561, 527] 0.5324857919824826\n",
      "[562, 549] 0.5923072812620721\n",
      "[563, 485] 0.5159339906541883\n",
      "[564, 486] 0.4349950048783647\n",
      "[565, 529] 0.528774647008018\n",
      "[566, 532] 0.254739512261277\n",
      "[567, 533] 0.7749306810998213\n",
      "[568, 534] 0.5887708723056545\n",
      "[569, 535] 0.6278222073714473\n",
      "[570, 536] 0.7418114907689876\n",
      "[571, 537] 0.6421192913276673\n",
      "[572, 538] 0.7874670223072735\n",
      "[573, 539] 0.7127733179951784\n",
      "[574, 540] 0.508152904107263\n",
      "[575, 547] 0.5580023278579119\n",
      "[576, 540] 0.6126723542520237\n",
      "[577, 543] 0.7355407792161903\n",
      "[578, 544] 0.6156283670297308\n",
      "[579, 545] 0.6198850108199249\n",
      "[580, 546] 0.5534466544013675\n",
      "[581, 547] 0.5109625100748137\n",
      "[582, 570] 0.505119744866212\n",
      "[583, 549] 0.6413484301157154\n",
      "[584, 543] 0.6046980947581742\n",
      "[585, 551] 0.6349132825883628\n",
      "[586, 570] 0.6291866315488844\n",
      "[587, 570] 0.704156901710042\n",
      "[588, 543] 0.510083011356351\n",
      "[589, 566] 0.48406593315251945\n",
      "[590, 570] 0.5990184172870113\n",
      "[591, 570] 0.5248282331146986\n",
      "[592, 558] 0.5537597414398792\n",
      "[593, 546] 0.5644348420528893\n",
      "[594, 564] 0.4170367083057952\n",
      "[595, 540] 0.5749702353212787\n",
      "[596, 561] 0.5860606244155123\n",
      "[597, 570] 0.6084859292403156\n",
      "[598, 573] 0.540228594098039\n",
      "[599, 570] 0.5576333058161557\n",
      "[600, 581] 0.5620516904776551\n",
      "[601, 566] 0.4980070078453685\n",
      "[602, 558] 0.5509603088069587\n",
      "[603, 573] 0.5440826168650031\n",
      "[604, 546] 0.523956085513257\n",
      "[605, 565] 0.6124332311637194\n",
      "[606, 575] 0.044094473665783326\n",
      "[607, 572] 0.550516150518272\n",
      "[608, 573] 0.6831632262332471\n",
      "[609, 574] 0.6485153762358118\n",
      "[610, 575] 0.6117178384826382\n",
      "[611, 576] 0.6421192913276673\n",
      "[612, 577] 0.677449614827798\n",
      "[613, 578] 0.6588400509297554\n",
      "[614, 598] 0.5392825486984946\n",
      "[615, 586] 0.4807498567691361\n",
      "[616, 585] 0.5864682508712602\n",
      "[617, 580] 0.6284250702587463\n"
     ]
    },
    {
     "name": "stdout",
     "output_type": "stream",
     "text": [
      "[618, 587] 0.5926057827593906\n",
      "[619, 583] 0.49099722522166744\n",
      "[620, 584] 0.5564404223303246\n",
      "[621, 594] 0.5777622054344488\n",
      "[622, 585] 0.4392328730679435\n",
      "[623, 587] 0.6134563038396615\n",
      "[624, 601] 0.5007753030359198\n",
      "[625, 589] 0.5897682244134738\n",
      "[626, 595] 0.6071688033150439\n",
      "[627, 599] 0.5810960626473354\n",
      "[628, 592] 0.5715502482244055\n",
      "[629, 610] 0.598530143139316\n",
      "[630, 601] 0.45434397926441844\n",
      "[631, 592] 0.5678927699890467\n",
      "[632, 610] 0.5457824270049931\n",
      "[633, 598] 0.5601479148022812\n",
      "[634, 585] 0.46758409532884126\n",
      "[635, 585] 0.529247832553413\n",
      "[636, 601] 0.651716938356621\n",
      "[637, 602] 0.5279698143621901\n",
      "[638, 603] 0.6093152509849739\n",
      "[639, 605] 0.5867438481839257\n",
      "[640, 586] 0.5915481699700716\n",
      "[641, 606] 0.6421192913276673\n",
      "[642, 607] 0.5788494296461713\n",
      "[643, 630] 0.536578061281268\n",
      "[644, 601] 0.5197136563893341\n",
      "[645, 609] 0.6964576244797849\n",
      "[646, 610] 0.8600592204031146\n",
      "[647, 611] 0.5414898857492083\n",
      "[648, 583] 0.41429766746051455\n",
      "[649, 610] 0.5698084949630251\n",
      "[650, 618] 0.508742613565695\n",
      "[651, 638] 0.575045839355521\n",
      "[652, 618] 0.5273639928976801\n",
      "[653, 614] 0.5961726183358225\n",
      "[654, 616] 0.48783973750741877\n",
      "[655, 616] 0.5875748040120118\n",
      "[656, 618] 0.5797396456515767\n",
      "[657, 618] 0.5886200888674691\n",
      "[658, 619] 0.5680856402862451\n",
      "[659, 618] 0.577330734354346\n",
      "[660, 645] 0.5375760059277329\n",
      "[661, 630] 0.5909823703560576\n",
      "[662, 618] 0.577330734354346\n",
      "[663, 619] 0.47753949217878205\n",
      "[664, 618] 0.5652743596640105\n",
      "[665, 618] 0.5036766026257896\n",
      "[666, 618] 0.5263632998046983\n",
      "[667, 618] 0.44035903232314516\n",
      "[668, 626] 0.6080948465787777\n",
      "[669, 627] 0.5538375454215795\n",
      "[670, 639] 0.5276791913058522\n",
      "[671, 617] 0.5587963268921698\n",
      "[672, 630] 0.637384295088952\n",
      "[673, 631] 0.6185487774405084\n",
      "[674, 639] 0.5727164741951423\n",
      "[675, 634] 0.5052298451947114\n",
      "[676, 635] 0.6800602822171796\n",
      "[677, 637] 0.6421192913276673\n",
      "[678, 636] 0.44338561250276115\n",
      "[679, 641] 0.5772107277468781\n",
      "[680, 639] 0.517260862652085\n",
      "[681, 618] 0.6675451382194473\n",
      "[682, 643] 0.566990228602818\n",
      "[683, 639] 0.5631545915644879\n",
      "[684, 652] 0.6349179720973805\n",
      "[685, 645] 0.6746570147790921\n",
      "[686, 639] 0.5954085169953179\n",
      "[687, 659] 0.5950348537170114\n",
      "[688, 616] 0.4724080938988981\n",
      "[689, 633] 0.44726475614242\n",
      "[690, 620] 0.4751312733054617\n",
      "[691, 652] 0.5420023643598043\n",
      "[692, 653] 0.6286994677598347\n",
      "[693, 654] 0.6125868959594803\n",
      "[694, 662] 0.6108512608510166\n",
      "[695, 639] 0.5282194889359335\n",
      "[696, 657] 0.5823330787594343\n",
      "[697, 661] 0.630803541694246\n",
      "[698, 652] 0.5940427789441838\n",
      "[699, 678] 0.586960590108544\n",
      "[700, 662] 0.6751448384427888\n",
      "[701, 674] 0.5636567228153826\n",
      "[702, 664] 0.3275926742761121\n",
      "[703, 636] 0.6140543245018841\n",
      "[704, 678] 0.6877405784892741\n",
      "[705, 678] 0.5920157791960652\n",
      "[706, 637] 0.6421192913276673\n",
      "[707, 668] 0.7111400646576561\n",
      "[708, 669] 0.6342670996453008\n",
      "[709, 679] 0.5163407616225746\n",
      "[710, 677] 0.4516900326656982\n",
      "[711, 678] 0.6552024670636969\n",
      "[712, 673] 0.685841751769827\n",
      "[713, 674] 0.5180959877333934\n",
      "[714, 683] 0.6199692512171804\n",
      "[715, 694] 0.5591400816288407\n",
      "[716, 676] 0.554862833717456\n",
      "[717, 677] 0.5974892672910417\n",
      "[718, 678] 0.7108561394719689\n",
      "[719, 679] 0.6441252709540536\n",
      "[720, 697] 0.5690777635214459\n",
      "[721, 682] 0.6016758540032295\n",
      "[722, 694] 0.5395321063065767\n",
      "[723, 684] 0.7533090590325103\n",
      "[724, 672] 0.597810596302662\n",
      "[725, 694] 0.4205887434922841\n",
      "[726, 698] 0.5014991410524651\n",
      "[727, 698] 0.604641163821585\n",
      "[728, 687] 0.34695338222690403\n",
      "[729, 688] 0.8321562700669007\n",
      "[730, 689] 0.6421192913276673\n",
      "[731, 690] 0.8328840705474448\n",
      "[732, 679] 0.5362588801721792\n",
      "[733, 692] 0.8102730399944085\n",
      "[734, 693] 0.5556545376162491\n",
      "[735, 698] 0.6542485810067462\n",
      "[736, 694] 0.6659280013069506\n",
      "[737, 697] 0.57942819240145\n",
      "[738, 711] 0.5170969711610522\n",
      "[739, 698] 0.5822061624966574\n",
      "[740, 684] 0.4187849994995196\n",
      "[741, 699] 0.5568882829665234\n",
      "[742, 682] 0.6272087445860254\n",
      "[743, 701] 0.6644798687267658\n",
      "[744, 698] 0.464939529980416\n",
      "[745, 710] 0.6388031182233332\n",
      "[746, 694] 0.522152213004856\n",
      "[747, 680] 0.5551266600609059\n",
      "[748, 706] 0.5780874014645988\n",
      "[749, 682] 0.5785440430793839\n",
      "[750, 698] 0.6049012830432673\n",
      "[751, 699] 0.5347225093271412\n",
      "[752, 699] 0.4899923961303338\n",
      "[753, 681] 0.5414420000884113\n",
      "[754, 706] 0.5578037261493514\n",
      "[755, 732] 0.452838571840055\n",
      "[756, 726] 0.5886725188981687\n",
      "[757, 731] 0.6035133028122509\n",
      "[758, 698] 0.5073448977257661\n",
      "[759, 706] 0.5455890943066164\n",
      "[760, 731] 0.6116837520151489\n",
      "[761, 729] 0.4011644541085488\n",
      "[762, 714] 0.6351167475871016\n",
      "[763, 715] 0.5145425426993289\n",
      "[764, 727] 0.48007285484983875\n",
      "[765, 698] 0.46015731455567804\n",
      "[766, 719] 0.5932414993582025\n",
      "[767, 720] 0.7448033489010405\n",
      "[768, 698] 0.49009628848498876\n",
      "[769, 721] 0.5476082150488361\n",
      "[770, 698] 0.5600725250062051\n",
      "[771, 720] 0.49125551454784083\n",
      "[772, 698] 0.596658738201431\n",
      "[773, 750] 0.5730402617586883\n",
      "[774, 751] 0.45209496940350147\n",
      "[775, 738] 0.4253034959254571\n",
      "[776, 740] 0.5079875386567826\n",
      "[777, 721] 0.6425671464288943\n",
      "[778, 729] 0.6126913749891605\n",
      "[779, 751] 0.537809548674848\n",
      "[780, 748] 0.5986211519683238\n",
      "[781, 751] 0.4950625140695791\n",
      "[782, 751] 0.6421512053928088\n",
      "[783, 731] 0.5867759017723247\n",
      "[784, 758] 0.5731701663805784\n",
      "[785, 764] 0.5546175983535492\n",
      "[786, 767] 0.49571394372180244\n",
      "[787, 767] 0.6402338675587101\n",
      "[788, 760] 0.6721564923764103\n",
      "[789, 767] 0.6254846168306962\n",
      "[790, 731] 0.6372659764927908\n",
      "[791, 765] 0.5443664793058169\n",
      "[792, 735] 0.5555858027371403\n",
      "[793, 749] 0.5160220512474408\n",
      "[794, 737] 0.5105863512686238\n",
      "[795, 747] 0.651722375279538\n",
      "[796, 747] 0.6369557728398986\n",
      "[797, 767] 0.4209163410197871\n",
      "[798, 737] 0.4241838595481458\n",
      "[799, 767] 0.6260726836289736\n",
      "[800, 760] 0.6069790993717621\n",
      "[801, 762] 0.5337937699282365\n",
      "[802, 761] 0.47390637906807453\n",
      "[803, 737] 0.5135463453216611\n",
      "[804, 758] 0.5709683314590409\n",
      "[805, 737] 0.5421868501783289\n",
      "[806, 791] 0.6495904936832739\n",
      "[807, 777] 0.5284569034444573\n",
      "[808, 777] 0.5400139774645691\n",
      "[809, 758] 0.6836234403001383\n",
      "[810, 759] 0.49844240474922447\n",
      "[811, 764] 0.6011059469868688\n",
      "[812, 765] 0.5583880472676589\n",
      "[813, 763] 0.5264475675507865\n",
      "[814, 764] 0.618712801003663\n",
      "[815, 779] 0.4748742447657296\n",
      "[816, 764] 0.6140338559059101\n",
      "[817, 781] 0.574891063904839\n",
      "[818, 781] 0.6409617536157791\n",
      "[819, 760] 0.5863625677264758\n",
      "[820, 764] 0.6303821601892986\n",
      "[821, 774] 0.6669479314469013\n",
      "[822, 775] 0.6289293097643636\n",
      "[823, 792] 0.6517766910015581\n",
      "[824, 792] 0.5963522997840688\n",
      "[825, 761] 0.6446080363742406\n",
      "[826, 778] 0.6474965641041923\n",
      "[827, 780] 0.5823802682302737\n",
      "[828, 781] 0.7373204180699224\n",
      "[829, 782] 0.7365958627761358\n",
      "[830, 780] 0.4464926454386955\n",
      "[831, 784] 0.6222107528310079\n",
      "[832, 795] 0.5520669610301373\n",
      "[833, 791] 0.6140190242337337\n",
      "[834, 787] 0.6894563032703062\n",
      "[835, 762] 0.590164396155462\n",
      "[836, 783] 0.442364539504614\n",
      "[837, 791] 0.5888987906535118\n",
      "[838, 792] 0.5235132067713324\n",
      "[839, 758] 0.589375990738108\n",
      "[840, 758] 0.6375381823414443\n",
      "[841, 796] 0.4166370349297914\n",
      "[842, 758] 0.6376744237702734\n",
      "[843, 791] 0.6440620979528062\n",
      "[844, 774] 0.06494611562949855\n",
      "[845, 799] 0.6950533578866739\n",
      "[846, 800] 0.6546892079611067\n",
      "[847, 801] 0.6214454115223061\n",
      "[848, 802] 0.30939628983417533\n",
      "[849, 803] 0.7314684907127024\n",
      "[850, 804] 0.6403230000456417\n",
      "[851, 805] 0.4807498567691361\n",
      "[852, 806] 0.6652480939241137\n",
      "[853, 795] 0.43189641699818704\n",
      "[854, 808] 0.6700590776677279\n",
      "[855, 791] 0.48391010873169416\n",
      "[856, 835] 0.528943327472131\n",
      "[857, 811] 0.6662507646519354\n",
      "[858, 812] 0.46302564029220006\n",
      "[859, 813] 0.7415019745292785\n",
      "[860, 814] 0.8681117000722832\n",
      "[861, 815] 0.7811290062057202\n",
      "[862, 816] 0.5545344003674813\n",
      "[863, 829] 0.5004781625947332\n",
      "[864, 818] 0.6154865168150475\n",
      "[865, 819] 0.6339780656954974\n",
      "[866, 820] 0.7045260288257275\n",
      "[867, 802] 0.30939628983417533\n",
      "[868, 819] 0.503377731960965\n",
      "[869, 823] 0.6337222113856147\n",
      "[870, 824] 0.6163820185672041\n",
      "[871, 835] 0.6159947920051448\n",
      "[872, 826] 0.6306216940685986\n",
      "[873, 808] 0.6199429820065634\n",
      "[874, 828] 0.48074651051399653\n",
      "[875, 829] 0.5930009198281774\n",
      "[876, 830] 0.5906330068933872\n",
      "[877, 835] 0.6656930231641868\n",
      "[878, 832] 0.7787214547258766\n",
      "[879, 833] 0.5677613758987845\n",
      "[880, 827] 0.5306558492187443\n",
      "[881, 816] 0.39344346400631025\n",
      "[882, 835] 0.7734429274196088\n",
      "[883, 852] 0.5104184413839908\n",
      "[884, 844] 0.4949575729697622\n",
      "[885, 844] 0.5593444710406984\n",
      "[886, 838] 0.6697984133288118\n",
      "[887, 835] 0.6371023315136357\n",
      "[888, 838] 0.5497747063428053\n",
      "[889, 841] 0.765040680168891\n",
      "[890, 842] 0.734077071198584\n",
      "[891, 844] 0.5787712070574323\n",
      "[892, 844] 0.6247728557303748\n",
      "[893, 835] 0.5520244760370092\n",
      "[894, 844] 0.5453001836502379\n",
      "[895, 856] 0.5840410910444075\n"
     ]
    },
    {
     "name": "stdout",
     "output_type": "stream",
     "text": [
      "[896, 847] 0.6407023735597184\n",
      "[897, 848] 0.7091446265056405\n",
      "[898, 849] 0.8461286468665263\n",
      "[899, 850] 0.6644894249462313\n",
      "[900, 851] 0.7903095657808165\n",
      "[901, 852] 0.5519035590903046\n",
      "[902, 853] 0.572067071049713\n",
      "[903, 844] 0.5639508651208964\n",
      "[904, 855] 0.7258618708040038\n",
      "[905, 852] 0.3408066728441744\n",
      "[906, 856] 0.19078570709222198\n",
      "[907, 858] 0.5030109517545491\n",
      "[908, 859] 0.5106840652389792\n",
      "[909, 860] 0.6379604114233162\n",
      "[910, 861] 0.6586362838189117\n",
      "[911, 870] 0.568339142576377\n",
      "[912, 863] 0.6758002217303778\n",
      "[913, 856] 0.41282392827636194\n",
      "[914, 868] 0.4963899008282099\n",
      "[915, 875] 0.5728104402770452\n",
      "[916, 852] 0.6760558487485131\n",
      "[917, 852] 0.48557418928721413\n",
      "[918, 866] 0.6602458016123948\n",
      "[919, 844] 0.5419452768371215\n",
      "[920, 844] 0.639450485522658\n",
      "[921, 869] 0.4898708817856759\n",
      "[922, 868] 0.6259533170905708\n",
      "[923, 875] 0.5195267005130779\n",
      "[924, 866] 0.46402404545895587\n",
      "[925, 892] 0.5859057435736735\n",
      "[926, 862] 0.5178932210990361\n",
      "[927, 868] 0.503550870040834\n",
      "[928, 874] 0.5448271970968259\n",
      "[929, 884] 0.536908437471399\n",
      "[930, 884] 0.5453064598905817\n",
      "[931, 877] 0.6509057307892734\n",
      "[932, 878] 0.6052577024974709\n",
      "[933, 884] 0.6430072446915048\n",
      "[934, 880] 0.5985028904852214\n",
      "[935, 881] 0.7107882500112189\n",
      "[936, 884] 0.5746377334698927\n",
      "[937, 883] 0.6042949696306401\n",
      "[938, 884] 0.7479163966323094\n",
      "[939, 885] 0.6914298958939253\n",
      "[940, 887] 0.6338837004337262\n",
      "[941, 900] 0.49289646622454164\n",
      "[942, 889] 0.5602618504218653\n",
      "[943, 886] 0.5115512895213745\n",
      "[944, 901] 0.467493476828934\n",
      "[945, 912] 0.5573670448941804\n",
      "[946, 892] 0.629539922257889\n",
      "[947, 912] 0.6024603904251039\n",
      "[948, 889] 0.40800073936515685\n",
      "[949, 895] 0.624069919170106\n",
      "[950, 915] 0.5675011461537915\n",
      "[951, 897] 0.18621571311891696\n",
      "[952, 885] 0.6167670252011859\n",
      "[953, 899] 0.5989138251920313\n",
      "[954, 900] 0.6152444769337928\n",
      "[955, 901] 0.5539226094192593\n",
      "[956, 902] 0.6375612713451103\n",
      "[957, 910] 0.6501270308320288\n",
      "[958, 910] 0.5970783842474445\n",
      "[959, 905] 0.5209521252847592\n",
      "[960, 924] 0.6569151818171668\n",
      "[961, 907] 0.4816646200011643\n",
      "[962, 908] 0.8108083376474959\n",
      "[963, 936] 0.6122165047301303\n",
      "[964, 924] 0.5812366678044957\n",
      "[965, 891] 0.5117313292998017\n",
      "[966, 910] 0.676802134006204\n",
      "[967, 910] 0.5812047928855794\n",
      "[968, 912] 0.7053937584779637\n",
      "[969, 913] 0.6267798793758983\n",
      "[970, 914] 0.5811664719099042\n",
      "[971, 915] 0.7271653273121932\n",
      "[972, 912] 0.6108250374386613\n",
      "[973, 910] 0.6090256200238733\n",
      "[974, 918] 0.611299781598585\n",
      "[975, 919] 0.7047939589564328\n",
      "[976, 920] 0.4807498567691361\n",
      "[977, 920] 0.30489980118749865\n",
      "[978, 922] 0.817025894385549\n",
      "[979, 936] 0.6884026211872727\n",
      "[980, 924] 0.5767763077453035\n",
      "[981, 925] 0.6169361320493443\n",
      "[982, 910] 0.6149263946547556\n",
      "[983, 939] 0.3409139226595003\n",
      "[984, 928] 0.6543710508100322\n",
      "[985, 936] 0.5695580453001025\n",
      "[986, 928] 0.7296453942423895\n",
      "[987, 928] 0.6250032866055593\n",
      "[988, 936] 0.5899765358421979\n",
      "[989, 931] 0.6976238734109325\n",
      "[990, 910] 0.6133606394903325\n",
      "[991, 910] 0.6451854812833525\n",
      "[992, 934] 0.6996619740275458\n",
      "[993, 936] 0.6101260372275948\n",
      "[994, 935] 0.7384781035332001\n",
      "[995, 936] 0.736411865611776\n",
      "[996, 937] 0.6550442090188695\n",
      "[997, 938] 0.7569638507384193\n",
      "[998, 968] 0.4834618434335386\n",
      "[999, 967] 0.5959414010600115\n",
      "[1000, 936] 0.5022072383973682\n",
      "[1001, 924] 0.5256088912645719\n",
      "[1002, 936] 0.4420890605905774\n",
      "[1003, 943] 0.6162004909647109\n",
      "[1004, 955] 0.5639786584672104\n",
      "[1005, 947] 0.7837782292402525\n",
      "[1006, 956] 0.5181298119101796\n",
      "[1007, 947] 0.8049716118593222\n",
      "[1008, 936] 0.6176922688045122\n",
      "[1009, 954] 0.8532982693822826\n",
      "[1010, 936] 0.5732433459937365\n",
      "[1011, 956] 0.5419403814609093\n",
      "[1012, 976] 0.5076598324764977\n",
      "[1013, 952] 0.6467129366901985\n",
      "[1014, 976] 0.5645152743368078\n",
      "[1015, 963] 0.475447189416057\n",
      "[1016, 952] 0.5904853123713542\n",
      "[1017, 953] 0.44270797770059866\n",
      "[1018, 954] 0.8532982693822826\n",
      "[1019, 956] 0.42309289078044965\n",
      "[1020, 956] 0.6960183583148148\n",
      "[1021, 957] 0.5430745275914313\n",
      "[1022, 958] 0.6266336816303403\n",
      "[1023, 959] 0.5739874911105882\n",
      "[1024, 973] 0.536414392664332\n",
      "[1025, 965] 0.5546130856879733\n",
      "[1026, 976] 0.6512605874604934\n",
      "[1027, 958] 0.587314603660411\n",
      "[1028, 964] 0.6661386554631399\n",
      "[1029, 965] 0.7334557493832382\n",
      "[1030, 968] 0.6421192913276673\n",
      "[1031, 969] 0.643781765280711\n",
      "[1032, 970] 0.5332100197671538\n",
      "[1033, 982] 0.6393700334027071\n",
      "[1034, 976] 0.5316779739893396\n",
      "[1035, 967] 0.4202450570412121\n",
      "[1036, 971] 0.5606436552221671\n",
      "[1037, 972] 0.4629612354044714\n",
      "[1038, 984] 0.4505948933192272\n",
      "[1039, 974] 0.5987409580518099\n",
      "[1040, 975] 0.4522177055267609\n",
      "[1041, 976] 0.550270472764879\n",
      "[1042, 955] 0.5314818826327341\n",
      "[1043, 985] 0.5326556780207043\n",
      "[1044, 952] 0.5451862392401079\n",
      "[1045, 980] 0.6247101382292005\n",
      "[1046, 981] 0.5897147901027486\n",
      "[1047, 980] 0.5548660823029139\n",
      "[1048, 976] 0.7300727602045315\n",
      "[1049, 994] 0.4953009014324717\n",
      "[1050, 984] 0.5233157380658928\n",
      "[1051, 985] 0.4977426381603693\n",
      "[1052, 986] 0.5428272684346839\n",
      "[1053, 987] 0.4807498567691361\n",
      "[1054, 988] 0.6360703506141021\n",
      "[1055, 989] 0.5106662131778407\n",
      "[1056, 976] 0.5666014712695968\n",
      "[1057, 990] 0.6673347212774445\n",
      "[1058, 976] 0.5092489825494818\n",
      "[1059, 992] 0.6306231195613778\n",
      "[1060, 993] 0.7052801683723479\n",
      "[1061, 994] 0.5891851493121018\n",
      "[1062, 995] 0.6792279406961014\n",
      "[1063, 996] 0.6125214237091932\n",
      "[1064, 999] 0.6169183082133871\n",
      "[1065, 999] 0.5714270964557872\n",
      "[1066, 986] 0.5137402625827587\n",
      "[1067, 1020] 0.6034421383554255\n",
      "[1068, 1001] 0.6007603350878313\n",
      "[1069, 1002] 0.46393770774658555\n",
      "[1070, 1022] 0.48852708765967817\n",
      "[1071, 986] 0.622392767919881\n",
      "[1072, 1005] 0.6288733414466953\n",
      "[1073, 992] 0.5097414213264365\n",
      "[1074, 997] 0.5743219872323949\n",
      "[1075, 1008] 0.6956123929726126\n",
      "[1076, 996] 0.6113487320945642\n",
      "[1077, 1010] 0.668956151974865\n",
      "[1078, 1011] 0.5520229785649433\n",
      "[1079, 1014] 0.5250710770125321\n",
      "[1080, 1012] 0.5477932004231151\n",
      "[1081, 1013] 0.6412257090058127\n",
      "[1082, 1014] 0.5494344148080579\n",
      "[1083, 1015] 0.6645487330079513\n",
      "[1084, 1016] 0.7037677036988909\n",
      "[1085, 1022] 0.4408194595750136\n",
      "[1086, 1012] 0.5427743163636912\n",
      "[1087, 1014] 0.5170892493910697\n",
      "[1088, 1020] 0.6890444890006909\n",
      "[1089, 1021] 0.10025967615327587\n",
      "[1090, 1014] 0.5071295507994681\n",
      "[1091, 1023] 0.5769708311910946\n",
      "[1092, 1046] 0.5270313219463728\n",
      "[1093, 1020] 0.5351894961276558\n",
      "[1094, 1014] 0.4688778474571063\n",
      "[1095, 1027] 0.5287371904521967\n",
      "[1096, 1056] 0.4037226869997782\n",
      "[1097, 1030] 0.5863420852510537\n",
      "[1098, 1028] 0.48339751262683067\n",
      "[1099, 1054] 0.5434165878436193\n",
      "[1100, 1029] 0.5853864188989434\n",
      "[1101, 1030] 0.6456127122484134\n",
      "[1102, 1031] 0.580127489486406\n",
      "[1103, 1054] 0.5238381829358669\n",
      "[1104, 1048] 0.5453980315865588\n",
      "[1105, 1032] 0.5010559693457082\n",
      "[1106, 1032] 0.5789159367527843\n",
      "[1107, 1042] 0.46411989806936255\n",
      "[1108, 1036] 0.5536974963403314\n",
      "[1109, 1037] 0.5656577528925715\n",
      "[1110, 1056] 0.5605903820041087\n",
      "[1111, 1046] 0.614928625008512\n",
      "[1112, 1056] 0.5710495512942283\n",
      "[1113, 1061] 0.5209104777210635\n",
      "[1114, 1056] 0.6808721127472094\n",
      "[1115, 1040] 0.5668659791399692\n",
      "[1116, 1044] 0.5940871157883841\n",
      "[1117, 1045] 0.8402395159403159\n",
      "[1118, 1097] 0.6150163604312154\n",
      "[1119, 1047] 0.7260790072397357\n",
      "[1120, 1048] 0.6737893703622353\n",
      "[1121, 1049] 0.7247815059564873\n",
      "[1122, 1050] 0.8155519317269706\n",
      "[1123, 1056] 0.6625162487656873\n",
      "[1124, 1088] 0.5359194284777933\n",
      "[1125, 1071] 0.5409794663882679\n",
      "[1126, 1054] 0.6966464267509335\n",
      "[1127, 1055] 0.8376663201111808\n",
      "[1128, 1056] 0.6993475030980791\n",
      "[1129, 1056] 0.6625162487656873\n",
      "[1130, 1058] 0.6382893958901636\n",
      "[1131, 1061] 0.6505500932291178\n",
      "[1132, 1063] 0.5805009624152611\n",
      "[1133, 1061] 0.7058852066108103\n",
      "[1134, 1056] 0.6525383687928541\n",
      "[1135, 1063] 0.773695803230291\n",
      "[1136, 1064] 0.6731805903466739\n",
      "[1137, 1065] 0.6068751912681278\n",
      "[1138, 1066] 0.7789290584293206\n",
      "[1139, 1056] 0.6993475030980791\n",
      "[1140, 1056] 0.6625162487656873\n",
      "[1141, 1069] 0.7186719209105058\n",
      "[1142, 1048] 0.6035607727182013\n",
      "[1143, 1059] 0.5129824491076117\n",
      "[1144, 1072] 0.5697739846275534\n",
      "[1145, 1073] 0.6783140296787695\n",
      "[1146, 1063] 0.5805009624152611\n",
      "[1147, 1064] 0.6731805903466739\n",
      "[1148, 1056] 0.6333180483033337\n",
      "[1149, 1077] 1.0\n",
      "[1150, 1122] 0.7225205081302112\n",
      "[1151, 1056] 0.6625162487656873\n",
      "[1152, 1069] 0.5387010352142549\n",
      "[1153, 1125] 0.5176275649737991\n",
      "[1154, 1100] 0.6389303602110329\n",
      "[1155, 1122] 0.6828575670932238\n",
      "[1156, 1117] 0.47927158863002034\n",
      "[1157, 1084] 0.8759038279775779\n",
      "[1158, 1085] 0.6321871287120191\n",
      "[1159, 1132] 0.6218764079596764\n",
      "[1160, 1056] 0.6625162487656873\n",
      "[1161, 1088] 0.6117598661100019\n",
      "[1162, 1117] 0.607588797442949\n",
      "[1163, 1088] 0.5922077943625149\n",
      "[1164, 1122] 0.7013308016826919\n",
      "[1165, 1092] 0.8335999147121487\n",
      "[1166, 1085] 0.6321871287120191\n",
      "[1167, 1056] 0.6625162487656873\n",
      "[1168, 1132] 0.6364806852480558\n",
      "[1169, 1122] 0.614707705874437\n",
      "[1170, 1110] 0.5479994713157554\n",
      "[1171, 1089] 0.6145917386807959\n",
      "[1172, 1097] 0.6762144686578608\n",
      "[1173, 1046] 0.6362769136116548\n",
      "[1174, 1056] 0.5768271432503127\n",
      "[1175, 1102] 0.8202323031568709\n",
      "[1176, 1132] 0.5772502503171263\n",
      "[1177, 1056] 0.6625162487656873\n",
      "[1178, 1108] 0.5926415079282\n",
      "[1179, 1106] 0.6693443890346905\n",
      "[1180, 1122] 0.7225477262394484\n",
      "[1181, 1108] 0.6231829986305054\n",
      "[1182, 1132] 0.6742286386436617\n",
      "[1183, 1110] 0.8337990968371788\n",
      "[1184, 1085] 0.6653005198843004\n",
      "[1185, 1056] 0.6625162487656873\n",
      "[1186, 1122] 0.5713534127340297\n",
      "[1187, 1114] 0.647774219108115\n",
      "[1188, 1122] 0.6354658605568324\n",
      "[1189, 1116] 0.6607887436302075\n",
      "[1190, 1117] 0.6783809217007692\n",
      "[1191, 1125] 0.46310654528620165\n",
      "[1192, 1132] 0.6742286386436617\n",
      "[1193, 1120] 0.8254818122236567\n",
      "[1194, 1085] 0.6653005198843004\n",
      "[1195, 1122] 0.7598695528651329\n",
      "[1196, 1078] 0.6625162487656873\n",
      "[1197, 1122] 0.6001623255546024\n",
      "[1198, 1125] 0.729217813062792\n",
      "[1199, 1114] 0.647774219108115\n"
     ]
    },
    {
     "name": "stdout",
     "output_type": "stream",
     "text": [
      "[1200, 1108] 0.6175483035931209\n",
      "[1201, 1122] 0.6272375717905498\n",
      "[1202, 1117] 0.6684471206525682\n",
      "[1203, 1132] 0.5722718662869741\n",
      "[1204, 1131] 0.9436427902001637\n",
      "[1205, 1132] 0.8016599328685922\n",
      "[1206, 1142] 0.6186552598378834\n",
      "[1207, 1113] 0.48972515672125777\n",
      "[1208, 1078] 0.6625162487656873\n",
      "[1209, 1125] 0.4961526945276331\n",
      "[1210, 1135] 0.49739541022450495\n",
      "[1211, 1138] 0.6406707175969932\n",
      "[1212, 1148] 0.5963287850530802\n",
      "[1213, 1131] 0.7113786608980126\n",
      "[1214, 1159] 0.6687421753531747\n",
      "[1215, 1111] 0.6653005198843004\n",
      "[1216, 1125] 0.623882272043621\n",
      "[1217, 1167] 0.6625162487656873\n",
      "[1218, 1144] 0.7173652842925925\n",
      "[1219, 1114] 0.591294512013119\n",
      "[1220, 1136] 0.6138217869786284\n",
      "[1221, 1173] 0.6186721495088142\n",
      "[1222, 1147] 0.6564066955237989\n",
      "[1223, 1127] 0.6160137370210962\n",
      "[1224, 1149] 0.8254818122236567\n",
      "[1225, 1122] 0.7225205081302112\n",
      "[1226, 1151] 0.6121881803042979\n",
      "[1227, 1136] 0.6299605249474366\n",
      "[1228, 1158] 0.6523152922909161\n",
      "[1229, 1142] 0.5983433202140473\n",
      "[1230, 1150] 0.6019627975937797\n",
      "[1231, 1172] 0.5918602041656891\n",
      "[1232, 1173] 0.6731805903466739\n",
      "[1233, 1174] 0.6078409562344328\n",
      "[1234, 1148] 0.540534963478046\n",
      "[1235, 1149] 0.6498038202701869\n",
      "[1236, 1150] 0.7647897993125036\n",
      "[1237, 1150] 0.6761949032469411\n",
      "[1238, 1162] 0.6520765731221281\n",
      "[1239, 1162] 0.5339317084178373\n",
      "[1240, 1162] 0.5528640661855294\n",
      "[1241, 1150] 0.640758071117842\n",
      "[1242, 1177] 0.6166912296896592\n",
      "[1243, 1141] 0.6596124108742263\n",
      "[1244, 1167] 0.6625162487656873\n",
      "[1245, 1162] 0.580113653846002\n",
      "[1246, 1167] 0.6625162487656873\n",
      "[1247, 1148] 0.5204645853204085\n",
      "[1248, 1169] 0.5902140265556962\n",
      "[1249, 1166] 0.7513921233858977\n",
      "[1250, 1167] 0.6993475030980791\n",
      "[1251, 1150] 0.5371076602165441\n",
      "[1252, 1169] 0.5244038645596593\n",
      "[1253, 1170] 0.6667162399244964\n",
      "[1254, 1167] 0.6625162487656873\n",
      "[1255, 1172] 0.6668581794945344\n",
      "[1256, 1173] 0.6731805903466739\n",
      "[1257, 1180] 0.5989377289287631\n",
      "[1258, 1175] 0.726742584133097\n",
      "[1259, 1176] 0.6134531370319768\n",
      "[1260, 1177] 0.7226260449229844\n",
      "[1261, 1178] 0.6717024239894562\n",
      "[1262, 1167] 0.6625162487656873\n",
      "[1263, 1180] 0.6629116044219734\n",
      "[1264, 1181] 0.6257057536009086\n",
      "[1265, 1200] 0.621987053694546\n",
      "[1266, 1183] 0.7734936307237534\n",
      "[1267, 1167] 0.6808721127472094\n",
      "[1268, 1151] 0.6604793775053927\n",
      "[1269, 1186] 0.8657589663766398\n",
      "[1270, 1166] 0.4768773322168393\n",
      "[1271, 1151] 0.5590378669662879\n",
      "[1272, 1170] 0.613620670731322\n",
      "[1273, 1189] 0.5669527940025795\n",
      "[1274, 1167] 0.5614167813714457\n",
      "[1275, 1162] 0.5591323122598774\n",
      "[1276, 1191] 0.8132067048822847\n",
      "[1277, 1155] 0.508604552009222\n",
      "[1278, 1216] 0.6279544730416083\n",
      "[1279, 1167] 0.5077038218907362\n",
      "[1280, 1195] 0.7911519287668882\n",
      "[1281, 1196] 0.6385917130056861\n",
      "[1282, 1191] 0.6191454170762308\n",
      "[1283, 1197] 0.7298993295705108\n",
      "[1284, 1166] 0.47839585512630733\n",
      "[1285, 1155] 0.5420558064510662\n",
      "[1286, 1198] 0.504750254715472\n",
      "[1287, 1210] 0.5511691620451231\n",
      "[1288, 1233] 0.5702569081983456\n",
      "[1289, 1232] 0.654281871481626\n",
      "[1290, 1232] 0.4536483215818743\n",
      "[1291, 1206] 0.5684367439851988\n",
      "[1292, 1232] 0.6570947787198081\n",
      "[1293, 1232] 0.6098113141241736\n",
      "[1294, 1201] 0.6004018141702205\n",
      "[1295, 1183] 0.606688177692378\n",
      "[1296, 1203] 0.573349350572573\n",
      "[1297, 1232] 0.6509246699601913\n",
      "[1298, 1186] 0.5137637332850866\n",
      "[1299, 1207] 0.6162530623142195\n",
      "[1300, 1208] 0.6855267799564864\n",
      "[1301, 1209] 0.494953488505366\n",
      "[1302, 1210] 0.6945819833398075\n",
      "[1303, 1211] 0.5399000227171487\n",
      "[1304, 1242] 0.45099915164684473\n",
      "[1305, 1213] 0.6143083126309857\n",
      "[1306, 1222] 0.6196513269862004\n",
      "[1307, 1215] 0.5830856461526003\n",
      "[1308, 1232] 0.6574827304456469\n",
      "[1309, 1217] 0.5720482821783301\n",
      "[1310, 1220] 0.5557369777853421\n",
      "[1311, 1218] 0.6676528613982166\n",
      "[1312, 1235] 0.5628036003250569\n",
      "[1313, 1220] 0.697356222642065\n",
      "[1314, 1221] 0.7343980046023938\n",
      "[1315, 1232] 0.47699599787620056\n",
      "[1316, 1225] 0.6386500424223016\n",
      "[1317, 1225] 0.7021325649070187\n",
      "[1318, 1226] 0.6299605249474366\n",
      "[1319, 1222] 0.5170401291281362\n",
      "[1320, 1227] 0.5775197652034932\n",
      "[1321, 1206] 0.4807498567691361\n",
      "[1322, 1229] 0.6087828457612146\n",
      "[1323, 1232] 0.6299102811200011\n",
      "[1324, 1233] 0.6074010946838643\n",
      "[1325, 1232] 0.5920139647267171\n",
      "[1326, 1233] 0.625888190443557\n",
      "[1327, 1234] 0.6684149979780941\n",
      "[1328, 1232] 0.6400590900327816\n",
      "[1329, 1226] 0.5569256307771572\n",
      "[1330, 1225] 0.49969290501980124\n",
      "[1331, 1239] 0.6466937874476597\n",
      "[1332, 1240] 0.24492363761346608\n",
      "[1333, 1241] 0.6595055119101123\n",
      "[1334, 1222] 0.5244695046738488\n",
      "[1335, 1219] 0.5831573614899391\n",
      "[1336, 1244] 0.6703124908811582\n",
      "[1337, 1245] 0.6438830050933609\n",
      "[1338, 1246] 0.9739030636540185\n",
      "[1339, 1247] 0.6559659025421296\n",
      "[1340, 1269] 0.5999794475913104\n",
      "[1341, 1248] 0.5988696254230862\n",
      "[1342, 1237] 0.5585761397561859\n",
      "[1343, 1250] 0.5729554795221854\n",
      "[1344, 1247] 0.5986741114893191\n",
      "[1345, 1252] 0.6023672223014062\n",
      "[1346, 1253] 0.6177993914316384\n",
      "[1347, 1254] 0.5872301461753295\n",
      "[1348, 1255] 0.7987922200260789\n",
      "[1349, 1290] 0.5454754469487184\n",
      "[1350, 1257] 0.6500117585537274\n",
      "[1351, 1258] 0.4526884332670778\n",
      "[1352, 1269] 0.6072191053756579\n",
      "[1353, 1247] 0.5245698993423562\n",
      "[1354, 1261] 0.6366268437685179\n",
      "[1355, 1297] 0.5644814033193739\n",
      "[1356, 1295] 0.5543292355786794\n",
      "[1357, 1274] 0.46698049302116384\n",
      "[1358, 1303] 0.424895060562329\n",
      "[1359, 1283] 0.702775227828248\n",
      "[1360, 1274] 0.45234482924292807\n",
      "[1361, 1274] 0.5255093669297373\n",
      "[1362, 1265] 0.5809450518964601\n",
      "[1363, 1274] 0.5564487334744141\n",
      "[1364, 1267] 0.6786235757930976\n",
      "[1365, 1276] 0.6766093903326302\n",
      "[1366, 1269] 0.6651029377947117\n",
      "[1367, 1270] 0.5384648095197148\n",
      "[1368, 1271] 0.6183105562656497\n",
      "[1369, 1272] 1.0\n",
      "[1370, 1273] 0.727765728749728\n",
      "[1371, 1274] 0.627186596631017\n",
      "[1372, 1269] 0.518446859585773\n",
      "[1373, 1276] 0.7599424826535836\n",
      "[1374, 1277] 0.7310044345532165\n",
      "[1375, 1286] 0.5937444733146736\n",
      "[1376, 1260] 0.6085464508130043\n",
      "[1377, 1307] 0.48292276979096677\n",
      "[1378, 1281] 0.5872841287892234\n",
      "[1379, 1282] 0.7690980898962368\n",
      "[1380, 1283] 0.742496327815063\n",
      "[1381, 1307] 0.6440246008085155\n",
      "[1382, 1260] 0.6159975988862013\n",
      "[1383, 1287] 0.5050387480919091\n",
      "[1384, 1288] 0.6494776345954898\n",
      "[1385, 1274] 0.5603134813965827\n",
      "[1386, 1290] 0.4750497887507408\n",
      "[1387, 1291] 0.48026728753364\n",
      "[1388, 1307] 0.34922774764623454\n",
      "[1389, 1293] 0.7987922200260789\n",
      "[1390, 1294] 0.6498023589663547\n",
      "[1391, 1301] 0.5233774379712076\n",
      "[1392, 1296] 0.6421192913276673\n",
      "[1393, 1297] 0.8103510630375044\n",
      "[1394, 1298] 0.7151417208246663\n",
      "[1395, 1299] 0.6381941490400546\n",
      "[1396, 1300] 0.7491356577231966\n",
      "[1397, 1301] 0.5262601317699498\n",
      "[1398, 1302] 0.5555187447242877\n",
      "[1399, 1325] 0.5346251008103359\n",
      "[1400, 1279] 0.6161585253135472\n",
      "[1401, 1286] 0.530977518818138\n",
      "[1402, 1305] 0.5990511408383947\n",
      "[1403, 1286] 0.6047686521207536\n",
      "[1404, 1307] 0.6146044310436587\n",
      "[1405, 1308] 0.5652791204153678\n",
      "[1406, 1309] 0.6027035502492702\n",
      "[1407, 1310] 0.6115916203010459\n",
      "[1408, 1311] 0.7121740581014089\n",
      "[1409, 1312] 0.49567708486911355\n",
      "[1410, 1313] 0.7264063234739605\n",
      "[1411, 1314] 0.5835274076015562\n",
      "[1412, 1315] 0.6738082964996369\n",
      "[1413, 1316] 0.5114474461304321\n",
      "[1414, 1317] 0.6468906474218326\n",
      "[1415, 1325] 0.5808181834685839\n",
      "[1416, 1318] 0.557311845502349\n",
      "[1417, 1320] 0.5503708836911142\n",
      "[1418, 1321] 0.49746705068318947\n",
      "[1419, 1322] 0.7690173443286221\n",
      "[1420, 1318] 0.5595666229116629\n",
      "[1421, 1340] 0.6122669656389007\n",
      "[1422, 1325] 0.8066801362105097\n",
      "[1423, 1307] 0.23846292396104316\n",
      "[1424, 1316] 0.4728850155765238\n",
      "[1425, 1307] 0.5565607259367156\n",
      "[1426, 1322] 0.5632671940389044\n",
      "[1427, 1307] 0.480856455218293\n",
      "[1428, 1334] 0.4635333611728071\n",
      "[1429, 1334] 0.49886620351270267\n",
      "[1430, 1310] 0.5651188106045483\n",
      "[1431, 1336] 0.5976183816150895\n",
      "[1432, 1337] 0.6269737644121289\n",
      "[1433, 1361] 0.4640313619540157\n",
      "[1434, 1339] 0.58200293701254\n",
      "[1435, 1340] 0.5490010356837114\n",
      "[1436, 1342] 0.7474410141686648\n",
      "[1437, 1342] 0.7749468778747759\n",
      "[1438, 1343] 0.8620057795251709\n",
      "[1439, 1344] 0.7398384585816092\n",
      "[1440, 1345] 0.5244312015537992\n",
      "[1441, 1346] 0.7085419874141433\n",
      "[1442, 1377] 0.5648736939781387\n",
      "[1443, 1349] 0.5762387735754297\n",
      "[1444, 1318] 0.5015865018570121\n",
      "[1445, 1347] 0.5202264270185267\n",
      "[1446, 1366] 0.5397993841754223\n",
      "[1447, 1373] 0.5896623751377533\n",
      "[1448, 1359] 0.50006172077584\n",
      "[1449, 1373] 0.5798786401564899\n",
      "[1450, 1378] 0.43962522815182964\n",
      "[1451, 1359] 0.6546974730923711\n",
      "[1452, 1376] 0.674223179501713\n",
      "[1453, 1353] 0.4079318605173241\n",
      "[1454, 1387] 0.6278393523327072\n",
      "[1455, 1360] 0.6323052662539065\n",
      "[1456, 1360] 0.6583009063373149\n"
     ]
    },
    {
     "name": "stdout",
     "output_type": "stream",
     "text": [
      "[1457, 1337] 0.5863594946375843\n",
      "[1458, 1365] 0.646838987801292\n",
      "[1459, 1385] 0.5572404034515631\n",
      "[1460, 1387] 0.6728576330615029\n",
      "[1461, 1386] 0.522079429032209\n",
      "[1462, 1378] 0.5540939754499992\n",
      "[1463, 1367] 0.5735074797258048\n",
      "[1464, 1368] 0.6159351361246592\n",
      "[1465, 1369] 0.5705945111966193\n",
      "[1466, 1359] 0.55471822139917\n",
      "[1467, 1370] 0.6257702938123474\n",
      "[1468, 1375] 0.5493182802091537\n",
      "[1469, 1372] 0.6761048066701801\n",
      "[1470, 1387] 0.6324974586324088\n",
      "[1471, 1365] 0.6548365710476232\n",
      "[1472, 1375] 0.6017902081024681\n",
      "[1473, 1387] 0.620345454113722\n",
      "[1474, 1360] 0.5784893728896872\n",
      "[1475, 1378] 0.604126375546853\n",
      "[1476, 1379] 0.554727859752412\n",
      "[1477, 1382] 0.5065764946741965\n",
      "[1478, 1381] 0.3968502629920499\n",
      "[1479, 1382] 0.8094961431911516\n",
      "[1480, 1385] 0.48979245626655366\n",
      "[1481, 1390] 0.4924339991101887\n",
      "[1482, 1385] 0.5024323344907631\n",
      "[1483, 1385] 0.771583367414296\n",
      "[1484, 1386] 0.7545287423934612\n",
      "[1485, 1387] 0.7475267421863587\n",
      "[1486, 1388] 0.5737556130501786\n",
      "[1487, 1387] 0.5770790382524076\n",
      "[1488, 1390] 0.5952769930488669\n",
      "[1489, 1387] 0.618274097683566\n",
      "[1490, 1427] 0.563448092552215\n",
      "[1491, 1392] 0.6360516191528173\n",
      "[1492, 1392] 0.5964668615796027\n",
      "[1493, 1407] 0.5487979471762808\n",
      "[1494, 1398] 0.6335286288070109\n",
      "[1495, 1398] 0.6619458159272998\n",
      "[1496, 1398] 0.5961606908073286\n",
      "[1497, 1427] 0.4943363409152068\n",
      "[1498, 1407] 0.5693483832626706\n",
      "[1499, 1403] 0.6685363313187879\n",
      "[1500, 1405] 0.5754138065196083\n",
      "[1501, 1427] 0.444487564618528\n",
      "[1502, 1393] 0.5575281480078612\n",
      "[1503, 1406] 0.5564662982252639\n",
      "[1504, 1398] 0.6283304053104878\n",
      "[1505, 1392] 0.5315682008876014\n",
      "[1506, 1408] 0.48496685598059447\n",
      "[1507, 1385] 0.5121480497486562\n",
      "[1508, 1390] 0.5981420606416509\n",
      "[1509, 1398] 0.6259367354194006\n",
      "[1510, 1413] 0.3968502629920499\n",
      "[1511, 1414] 0.6573271876355437\n",
      "[1512, 1415] 0.5352982483318554\n",
      "[1513, 1417] 0.6197167303027298\n",
      "[1514, 1398] 0.5604182168811157\n",
      "[1515, 1412] 0.5794420017081076\n",
      "[1516, 1419] 0.5836263470109883\n",
      "[1517, 1420] 0.5164849505175202\n",
      "[1518, 1421] 0.5645839685071958\n",
      "[1519, 1434] 0.2094138869826054\n",
      "[1520, 1423] 0.8489016720542685\n",
      "[1521, 1423] 0.6646264945890988\n",
      "[1522, 1425] 0.6421192913276673\n",
      "[1523, 1426] 0.6909833381996864\n",
      "[1524, 1427] 0.7097157236752957\n",
      "[1525, 1428] 0.6199210456615457\n",
      "[1526, 1427] 0.4587806579550186\n",
      "[1527, 1444] 0.5128948710285474\n",
      "[1528, 1427] 0.5558480938527733\n",
      "[1529, 1435] 0.5476531905245338\n",
      "[1530, 1432] 0.6356258067865669\n",
      "[1531, 1433] 0.7682416317079339\n",
      "[1532, 1420] 0.4967502348068251\n",
      "[1533, 1435] 0.5223344696967268\n",
      "[1534, 1436] 0.5939439872470923\n",
      "[1535, 1437] 0.593491290998453\n",
      "[1536, 1441] 0.6276469474000586\n",
      "[1537, 1427] 0.588828999608428\n",
      "[1538, 1457] 0.5477144769379666\n",
      "[1539, 1440] 0.5200959975266265\n",
      "[1540, 1441] 0.7048652447648336\n",
      "[1541, 1430] 0.5251399478261516\n",
      "[1542, 1444] 0.6146729381665357\n",
      "[1543, 1430] 0.4971081733978093\n",
      "[1544, 1476] 0.5646804462575953\n",
      "[1545, 1447] 0.522824130470959\n",
      "[1546, 1480] 0.6286036074959942\n",
      "[1547, 1475] 0.5147700133263178\n",
      "[1548, 1441] 0.6745978305173114\n",
      "[1549, 1475] 0.5523723697543541\n",
      "[1550, 1451] 0.6739459237854553\n",
      "[1551, 1452] 0.6482276078976013\n",
      "[1552, 1453] 0.6421192913276673\n",
      "[1553, 1455] 0.5579085993985342\n",
      "[1554, 1455] 0.7935756240219741\n",
      "[1555, 1456] 0.7582026180158958\n",
      "[1556, 1455] 0.6454206370626339\n",
      "[1557, 1459] 0.8233451438832275\n",
      "[1558, 1460] 0.7246234211941688\n",
      "[1559, 1441] 0.5546526715535496\n",
      "[1560, 1461] 0.6794091661254198\n",
      "[1561, 1441] 0.5770948498101953\n",
      "[1562, 1475] 0.5889646269132661\n",
      "[1563, 1464] 0.6249427078409173\n",
      "[1564, 1465] 0.6657329231191373\n",
      "[1565, 1489] 0.6034732113422273\n",
      "[1566, 1467] 0.47586769518413186\n",
      "[1567, 1475] 0.6715323162692555\n",
      "[1568, 1482] 0.5620048010577596\n",
      "[1569, 1475] 0.5974662578289793\n",
      "[1570, 1475] 0.5731279864544268\n",
      "[1571, 1478] 0.6091620341991384\n",
      "[1572, 1473] 0.637593074122156\n",
      "[1573, 1475] 0.5602783894782796\n",
      "[1574, 1475] 0.5666256872856975\n",
      "[1575, 1480] 0.6089979897109853\n",
      "[1576, 1478] 0.6740550760185374\n",
      "[1577, 1475] 0.6282337202335861\n",
      "[1578, 1478] 0.6172801847422896\n",
      "[1579, 1481] 0.5745213192103595\n",
      "[1580, 1484] 0.7894611382483466\n",
      "[1581, 1489] 0.7091717429424209\n",
      "[1582, 1476] 0.5834207460135588\n",
      "[1583, 1475] 0.627249434406027\n",
      "[1584, 1488] 0.6910488482787945\n",
      "[1585, 1489] 0.659025461063651\n",
      "[1586, 1490] 0.6588752518133053\n",
      "[1587, 1491] 0.627971424196525\n",
      "[1588, 1470] 0.5860489181344816\n",
      "[1589, 1497] 0.5611145602797124\n",
      "[1590, 1489] 0.5936759119100131\n",
      "[1591, 1494] 0.6430116537810607\n",
      "[1592, 1495] 0.6087828457612146\n",
      "[1593, 1496] 0.7670598010533284\n",
      "[1594, 1497] 0.5148857634577686\n",
      "[1595, 1498] 0.6421192913276673\n",
      "[1596, 1499] 0.7474278169560572\n",
      "[1597, 1500] 0.8156825657215113\n",
      "[1598, 1501] 0.8260393118595345\n",
      "[1599, 1483] 0.5516756336609433\n",
      "[1600, 1502] 0.4308351624011096\n",
      "[1601, 1503] 0.4831701447165884\n",
      "[1602, 1497] 0.4337984245536661\n",
      "[1603, 1516] 0.5169241788735166\n",
      "[1604, 1489] 0.6077951374453334\n",
      "[1605, 1491] 0.4406762035903776\n",
      "[1606, 1530] 0.5228259754313859\n",
      "[1607, 1524] 0.6003883835028897\n",
      "[1608, 1524] 0.47524459688503573\n",
      "[1609, 1527] 0.5569153661412464\n",
      "[1610, 1535] 0.5207507608713954\n",
      "[1611, 1530] 0.45533440613491066\n",
      "[1612, 1512] 0.6014542464970586\n",
      "[1613, 1513] 0.5836966651051934\n",
      "[1614, 1514] 0.6696544386358417\n",
      "[1615, 1521] 0.3549025476505699\n",
      "[1616, 1516] 0.8388040674537596\n",
      "[1617, 1517] 0.6421192913276673\n",
      "[1618, 1518] 0.6937035060322418\n",
      "[1619, 1521] 0.5376065078584447\n",
      "[1620, 1520] 0.5818643230511298\n",
      "[1621, 1524] 0.5633115856672879\n",
      "[1622, 1522] 0.48426041146062554\n",
      "[1623, 1523] 0.5604738106395187\n",
      "[1624, 1524] 0.5944577074773589\n",
      "[1625, 1524] 0.5616248551440878\n",
      "[1626, 1513] 0.5680651221977185\n",
      "[1627, 1527] 0.5719203209675673\n",
      "[1628, 1545] 0.575427111657119\n",
      "[1629, 1514] 0.5448380424701422\n",
      "[1630, 1545] 0.5955129153513933\n",
      "[1631, 1531] 0.5584123833116211\n",
      "[1632, 1528] 0.5374154038047053\n",
      "[1633, 1542] 0.5953529515209731\n",
      "[1634, 1527] 0.6302763153693512\n",
      "[1635, 1521] 0.3549025476505699\n",
      "[1636, 1537] 0.5441195644016608\n",
      "[1637, 1537] 0.49164099689681895\n",
      "[1638, 1517] 0.6421192913276673\n",
      "[1639, 1518] 0.5886955313666171\n",
      "[1640, 1513] 0.5125617878260901\n",
      "[1641, 1542] 0.6042571498860986\n",
      "[1642, 1551] 0.5377251740145798\n",
      "[1643, 1548] 0.5296948593610971\n",
      "[1644, 1533] 0.5395634201104645\n",
      "[1645, 1534] 0.5700629853263358\n",
      "[1646, 1545] 0.6135284925072821\n",
      "[1647, 1545] 0.5028044641112823\n",
      "[1648, 1533] 0.5682426592135976\n",
      "[1649, 1547] 0.5061337539083341\n",
      "[1650, 1548] 0.5135294203786482\n",
      "[1651, 1545] 0.45409765437236416\n",
      "[1652, 1545] 0.43965548979804503\n",
      "[1653, 1551] 0.612524593742984\n",
      "[1654, 1552] 0.7445850917638015\n",
      "[1655, 1542] 0.6749499701596886\n",
      "[1656, 1542] 0.6717888444446375\n",
      "[1657, 1556] 0.3566624935216932\n",
      "[1658, 1602] 0.2154434690031884\n",
      "[1659, 1560] 0.46290324949482\n",
      "[1660, 1560] 0.469985426538638\n",
      "[1661, 1561] 0.7423970018755778\n",
      "[1662, 1568] 0.4587629481941274\n",
      "[1663, 1586] 0.3968502629920499\n",
      "[1664, 1560] 0.20671313094003774\n",
      "[1665, 1563] 0.7211247851537042\n",
      "[1666, 1564] 0.6786044041487266\n",
      "[1667, 1565] 0.6631762013160654\n",
      "[1668, 1580] 0.5791335261214485\n",
      "[1669, 1568] 0.36818119136256594\n",
      "[1670, 1577] 0.5568471424849728\n",
      "[1671, 1567] 0.5657121587388968\n",
      "[1672, 1576] 0.5109411335548257\n",
      "[1673, 1629] 0.5802728770934773\n",
      "[1674, 1614] 1.0\n",
      "[1675, 1574] 0.6952320909385686\n",
      "[1676, 1568] 0.5213303470777874\n",
      "[1677, 1580] 0.583747685243592\n",
      "[1678, 1574] 0.6303706772489234\n",
      "[1679, 1570] 0.6713936419419172\n",
      "[1680, 1574] 0.5124868246260446\n",
      "[1681, 1576] 0.540554252050844\n",
      "[1682, 1580] 0.5974856489392727\n",
      "[1683, 1569] 0.6649456816531777\n",
      "[1684, 1574] 0.5683667121168058\n",
      "[1685, 1613] 0.7546013420997107\n",
      "[1686, 1614] 1.0\n",
      "[1687, 1618] 0.48379741215935024\n",
      "[1688, 1574] 0.6538706121973629\n",
      "[1689, 1631] 0.5813016460284073\n",
      "[1690, 1582] 0.7427184459777494\n",
      "[1691, 1583] 0.9082686622649909\n",
      "[1692, 1565] 0.5428835233189814\n",
      "[1693, 1589] 0.601641595048339\n",
      "[1694, 1632] 0.6792614358844977\n",
      "[1695, 1586] 0.6758002217303778\n",
      "[1696, 1563] 0.7047298732064893\n",
      "[1697, 1588] 0.8855488076521758\n",
      "[1698, 1589] 0.8457402901133605\n",
      "[1699, 1565] 0.5428835233189814\n",
      "[1700, 1589] 0.8457402901133605\n",
      "[1701, 1632] 0.6359021792590966\n",
      "[1702, 1592] 0.5157320926236422\n",
      "[1703, 1563] 0.7047298732064893\n",
      "[1704, 1589] 0.698143227353338\n",
      "[1705, 1565] 0.5428835233189814\n",
      "[1706, 1589] 0.5823869764908659\n",
      "[1707, 1564] 0.6273573525873524\n",
      "[1708, 1586] 0.5495652714720779\n",
      "[1709, 1563] 0.7047298732064893\n",
      "[1710, 1606] 0.7117496305866535\n",
      "[1711, 1565] 0.5428835233189814\n",
      "[1712, 1608] 0.7631428283688879\n",
      "[1713, 1564] 0.6273573525873524\n",
      "[1714, 1616] 0.5636773432992696\n",
      "[1715, 1563] 0.7047298732064893\n",
      "[1716, 1589] 0.5950515111841507\n",
      "[1717, 1565] 0.5428835233189814\n",
      "[1718, 1608] 0.7631428283688879\n",
      "[1719, 1608] 0.7631428283688879\n",
      "[1720, 1564] 0.6273573525873524\n",
      "[1721, 1592] 0.5495652714720779\n",
      "[1722, 1582] 0.7196996336424686\n",
      "[1723, 1602] 0.5617021152223572\n",
      "[1724, 1639] 0.503378480861778\n",
      "[1725, 1589] 0.6011864953322756\n",
      "[1726, 1608] 0.7631428283688879\n",
      "[1727, 1608] 0.7631428283688879\n",
      "[1728, 1610] 0.7052683795457809\n",
      "[1729, 1611] 0.6607411390191001\n",
      "[1730, 1615] 0.5396500864897215\n",
      "[1731, 1627] 0.7315692498585401\n",
      "[1732, 1614] 1.0\n",
      "[1733, 1615] 0.6411753770977866\n",
      "[1734, 1652] 0.49000317876952093\n",
      "[1735, 1629] 0.6448593026326848\n",
      "[1736, 1614] 1.0\n",
      "[1737, 1615] 0.6040122597660845\n",
      "[1738, 1618] 0.49333754358877413\n",
      "[1739, 1629] 0.6046491586612993\n",
      "[1740, 1580] 0.6582062335086015\n",
      "[1741, 1615] 0.503378480861778\n",
      "[1742, 1642] 0.6046461146474562\n",
      "[1743, 1624] 0.517391654963939\n",
      "[1744, 1642] 0.5096474153742732\n",
      "[1745, 1625] 0.6873066224807337\n",
      "[1746, 1614] 1.0\n"
     ]
    },
    {
     "name": "stdout",
     "output_type": "stream",
     "text": [
      "[1747, 1627] 0.5755289707551099\n",
      "[1748, 1629] 0.7181940985533092\n",
      "[1749, 1630] 0.7431376335545433\n",
      "[1750, 1631] 0.5511125797130931\n",
      "[1751, 1632] 0.5712767908720916\n",
      "[1752, 1633] 0.7113786608980126\n",
      "[1753, 1634] 0.6299605249474366\n",
      "[1754, 1635] 0.2931610714996561\n",
      "[1755, 1636] 0.6998116475067763\n",
      "[1756, 1642] 0.27754353825572253\n",
      "[1757, 1638] 0.6481367494048955\n",
      "[1758, 1639] 0.6245178854348048\n",
      "[1759, 1639] 0.5405706142716199\n",
      "[1760, 1642] 0.49081492397719806\n",
      "[1761, 1671] 0.4084067730789171\n",
      "[1762, 1662] 0.5873678391371261\n",
      "[1763, 1669] 0.5267286945723527\n",
      "[1764, 1663] 0.6349503437652823\n",
      "[1765, 1647] 0.5961588169563619\n",
      "[1766, 1649] 0.5716319237395496\n",
      "[1767, 1649] 0.5967009653653292\n",
      "[1768, 1650] 0.5205709959806677\n",
      "[1769, 1652] 0.4883526646676219\n",
      "[1770, 1666] 0.593599557154948\n",
      "[1771, 1654] 0.5476753506056959\n",
      "[1772, 1692] 0.5117926180120964\n",
      "[1773, 1658] 0.7719442629361641\n",
      "[1774, 1698] 0.5578607917351414\n",
      "[1775, 1662] 0.6259706180608982\n",
      "[1776, 1660] 0.6631762013160654\n",
      "[1777, 1660] 0.4536561362299567\n",
      "[1778, 1676] 0.6701913532543392\n",
      "[1779, 1701] 0.5670120845181211\n",
      "[1780, 1676] 0.6616286907673331\n",
      "[1781, 1664] 0.581767332123121\n",
      "[1782, 1665] 0.626596239759142\n",
      "[1783, 1666] 0.6476496941510063\n",
      "[1784, 1642] 0.5579137241928481\n",
      "[1785, 1667] 0.5235492804153554\n",
      "[1786, 1647] 0.5623061517335329\n",
      "[1787, 1662] 0.5401444138343783\n",
      "[1788, 1669] 0.4646178689645498\n",
      "[1789, 1670] 0.677189604474715\n",
      "[1790, 1671] 0.6021999908983526\n",
      "[1791, 1660] 0.6631762013160654\n",
      "[1792, 1658] 0.734194714691652\n",
      "[1793, 1698] 0.5578607917351414\n",
      "[1794, 1675] 0.42812809338284885\n",
      "[1795, 1642] 0.5303858233135639\n",
      "[1796, 1715] 0.6694329500821695\n",
      "[1797, 1674] 0.3050680947564695\n",
      "[1798, 1716] 0.5831880599992412\n",
      "[1799, 1662] 0.5769899857532842\n",
      "[1800, 1662] 0.5231144672193618\n",
      "[1801, 1663] 0.6790655269141967\n",
      "[1802, 1679] 0.695241053978697\n",
      "[1803, 1665] 0.5153882138995107\n",
      "[1804, 1669] 0.6066184299972515\n",
      "[1805, 1695] 0.5715019218454425\n",
      "[1806, 1713] 0.44628863338811303\n",
      "[1807, 1684] 0.6606746448128745\n",
      "[1808, 1662] 0.48824848371354285\n",
      "[1809, 1688] 0.6051375735541272\n",
      "[1810, 1689] 0.6215221897473043\n",
      "[1811, 1690] 0.6387388781051234\n",
      "[1812, 1693] 0.6763833813557583\n",
      "[1813, 1688] 0.6561953767441777\n",
      "[1814, 1719] 0.5918555945482943\n",
      "[1815, 1695] 0.5844272360859042\n",
      "[1816, 1719] 0.5384553334196454\n",
      "[1817, 1693] 0.5859137935063727\n",
      "[1818, 1694] 0.2931610714996561\n",
      "[1819, 1696] 0.5368254494952703\n",
      "[1820, 1675] 0.25446100603916466\n",
      "[1821, 1698] 0.7352824567031521\n",
      "[1822, 1655] 0.5318253422207946\n",
      "[1823, 1701] 0.546397794588896\n",
      "[1824, 1672] 0.5919791061423163\n",
      "[1825, 1676] 0.5728318366434236\n",
      "[1826, 1701] 0.440129217800322\n",
      "[1827, 1712] 0.4481404746557165\n",
      "[1828, 1691] 0.6251790682704851\n",
      "[1829, 1704] 0.7560422341847416\n",
      "[1830, 1705] 0.620914190705458\n",
      "[1831, 1701] 0.5729392425538654\n",
      "[1832, 1730] 0.6246400446738976\n",
      "[1833, 1715] 0.6694329500821695\n",
      "[1834, 1679] 0.5880922302711483\n",
      "[1835, 1716] 0.5831880599992412\n",
      "[1836, 1709] 0.5632933478460019\n",
      "[1837, 1715] 0.6694329500821695\n",
      "[1838, 1713] 0.4609739219732724\n",
      "[1839, 1716] 0.5831880599992412\n",
      "[1840, 1712] 0.5575631071579464\n",
      "[1841, 1675] 0.6989566796951672\n",
      "[1842, 1714] 0.6173984734658475\n",
      "[1843, 1678] 0.7000416468349387\n",
      "[1844, 1713] 0.4054801330382267\n",
      "[1845, 1716] 0.5831880599992412\n",
      "[1846, 1712] 0.5119350639217353\n",
      "[1847, 1676] 0.6542974929488699\n",
      "[1848, 1680] 0.5153882138995107\n",
      "[1849, 1730] 0.5799357328077981\n",
      "[1850, 1693] 0.5843017566481695\n",
      "[1851, 1688] 0.6018372041389203\n",
      "[1852, 1719] 0.5608668820523728\n",
      "[1853, 1723] 0.5877558917352596\n",
      "[1854, 1729] 0.5580779092206903\n",
      "[1855, 1713] 0.5165125782926029\n",
      "[1856, 1730] 0.5285874211359689\n",
      "[1857, 1727] 0.579457364198925\n",
      "[1858, 1726] 0.6406292583874942\n",
      "[1859, 1728] 0.5759504225436827\n",
      "[1860, 1719] 0.6057802492218674\n",
      "[1861, 1730] 0.6034699252944773\n",
      "[1862, 1748] 0.6274906910297494\n",
      "[1863, 1719] 0.48645298310602414\n",
      "[1864, 1727] 0.46903038775259576\n",
      "[1865, 1732] 0.6707409457722695\n",
      "[1866, 1747] 0.5689005252579973\n",
      "[1867, 1704] 0.5686121333033282\n",
      "[1868, 1734] 0.2931610714996561\n",
      "[1869, 1735] 0.7519577030655955\n",
      "[1870, 1736] 0.761535938800309\n",
      "[1871, 1735] 0.18691171754273705\n",
      "[1872, 1738] 0.7180555873008156\n",
      "[1873, 1751] 0.570331061414537\n",
      "[1874, 1740] 0.6282202936373804\n",
      "[1875, 1741] 0.5508242788897878\n",
      "[1876, 1725] 0.5956486327698389\n",
      "[1877, 1748] 0.59016901751152\n",
      "[1878, 1768] 0.5224272348032053\n",
      "[1879, 1760] 0.4394607938689027\n",
      "[1880, 1735] 0.49208678460982197\n",
      "[1881, 1748] 0.498821445246499\n",
      "[1882, 1745] 0.6164255858745108\n",
      "[1883, 1747] 0.651964679891965\n",
      "[1884, 1748] 1.0\n",
      "[1885, 1751] 0.5578607917351414\n",
      "[1886, 1749] 0.490435103188146\n",
      "[1887, 1750] 0.7113786608980126\n",
      "[1888, 1759] 0.31554066410734977\n",
      "[1889, 1751] 0.5578607917351414\n",
      "[1890, 1753] 0.4432424532272472\n",
      "[1891, 1750] 0.7113786608980126\n",
      "[1892, 1748] 0.4406388027614363\n",
      "[1893, 1751] 0.5578607917351414\n",
      "[1894, 1753] 0.4373328706325873\n",
      "[1895, 1750] 0.7113786608980126\n",
      "[1896, 1746] 0.32994573450039805\n",
      "[1897, 1751] 0.5578607917351414\n",
      "[1898, 1753] 0.39179886295750876\n",
      "[1899, 1750] 0.7113786608980126\n",
      "[1900, 1748] 0.43279192807291006\n",
      "[1901, 1757] 0.6392590376418064\n",
      "[1902, 1748] 0.670088229425836\n",
      "[1903, 1760] 0.6974407481775461\n",
      "[1904, 1761] 0.4779636988807575\n",
      "[1905, 1748] 0.5155073386658097\n",
      "[1906, 1763] 0.49500204616469556\n",
      "[1907, 1744] 0.5933718088302297\n",
      "[1908, 1765] 0.6122878892394477\n",
      "[1909, 1746] 0.47687018076547\n",
      "[1910, 1793] 0.5718875398234431\n",
      "[1911, 1768] 0.6881567744167134\n",
      "[1912, 1760] 0.5476842425989237\n",
      "[1913, 1770] 0.38941675428356376\n",
      "[1914, 1772] 0.664118205452511\n",
      "[1915, 1785] 0.2765783607826467\n",
      "[1916, 1751] 0.6299605249474366\n",
      "[1917, 1751] 0.5578607917351414\n",
      "[1918, 1750] 0.5848035476425733\n",
      "[1919, 1807] 0.5647505091276309\n",
      "[1920, 1760] 0.6580998538217913\n",
      "[1921, 1762] 0.571090867776168\n",
      "[1922, 1799] 0.5635832509264175\n",
      "[1923, 1780] 0.5514275369418119\n",
      "[1924, 1760] 0.521901607850915\n",
      "[1925, 1774] 0.6114466193633645\n",
      "[1926, 1779] 0.5749050173297849\n",
      "[1927, 1807] 0.500565790175356\n",
      "[1928, 1780] 0.5148254361282086\n",
      "[1929, 1782] 0.7631428283688879\n",
      "[1930, 1783] 0.7877771669783342\n",
      "[1931, 1784] 0.6474162619038871\n",
      "[1932, 1785] 0.7113786608980126\n",
      "[1933, 1785] 0.6668215513149193\n",
      "[1934, 1787] 0.6351538375132818\n",
      "[1935, 1796] 0.534284805199427\n",
      "[1936, 1796] 0.6110425501773954\n",
      "[1937, 1807] 0.5315531433022852\n",
      "[1938, 1792] 0.6007317398672635\n",
      "[1939, 1780] 0.5995002567372866\n",
      "[1940, 1794] 0.6083304456356586\n",
      "[1941, 1792] 0.5578260615386993\n",
      "[1942, 1796] 0.49718776193810255\n",
      "[1943, 1797] 0.53527177842055\n",
      "[1944, 1790] 0.6069759851380164\n",
      "[1945, 1793] 0.6003857716861806\n",
      "[1946, 1816] 0.5410539134523461\n",
      "[1947, 1800] 0.5678237553202796\n",
      "[1948, 1829] 0.54439641948416\n",
      "[1949, 1836] 0.51600761648486\n",
      "[1950, 1787] 0.5307131113514615\n",
      "[1951, 1820] 0.5071719441406433\n",
      "[1952, 1827] 0.674273103389925\n",
      "[1953, 1816] 0.5841652958465071\n",
      "[1954, 1806] 0.601641595048339\n",
      "[1955, 1808] 0.7545269127389634\n",
      "[1956, 1807] 0.569065906010485\n",
      "[1957, 1785] 0.2765783607826467\n",
      "[1958, 1810] 0.6836529388632394\n",
      "[1959, 1811] 0.6287155404279318\n",
      "[1960, 1812] 0.5823869764908659\n",
      "[1961, 1813] 0.593015723069164\n",
      "[1962, 1840] 0.5373375487870682\n",
      "[1963, 1815] 0.6256859974108095\n",
      "[1964, 1818] 0.5244568967711108\n",
      "[1965, 1829] 0.5644918468343605\n",
      "[1966, 1818] 0.5070087342573636\n",
      "[1967, 1802] 0.5954730426068304\n",
      "[1968, 1854] 0.5759883276497192\n",
      "[1969, 1838] 0.5694187782662893\n",
      "[1970, 1818] 0.4481404746557165\n",
      "[1971, 1812] 0.8491317075375899\n",
      "[1972, 1824] 0.6141405826518763\n",
      "[1973, 1816] 0.5715842829623283\n",
      "[1974, 1856] 0.5181338238416391\n",
      "[1975, 1829] 0.6096863045491506\n",
      "[1976, 1840] 0.4517922796727542\n",
      "[1977, 1829] 0.7332258111569075\n",
      "[1978, 1840] 0.5706955253426473\n",
      "[1979, 1831] 0.6575526522908784\n",
      "[1980, 1832] 0.651968711635427\n",
      "[1981, 1833] 0.6889015221376249\n",
      "[1982, 1811] 0.6287155404279318\n",
      "[1983, 1843] 0.5162651522696131\n",
      "[1984, 1856] 0.4409961742098622\n",
      "[1985, 1839] 0.7165536380700939\n",
      "[1986, 1884] 0.6498899985116461\n",
      "[1987, 1829] 0.621599912208798\n",
      "[1988, 1846] 0.5659727950751037\n",
      "[1989, 1829] 0.6828427868629399\n",
      "[1990, 1841] 0.7016965724161744\n",
      "[1991, 1842] 0.6782386288970775\n",
      "[1992, 1843] 0.6758002217303778\n",
      "[1993, 1834] 0.5723571212766659\n",
      "[1994, 1850] 0.4807498567691361\n",
      "[1995, 1845] 0.6340803238403693\n",
      "[1996, 1816] 0.5984616677260512\n",
      "[1997, 1870] 0.6788128476817266\n",
      "[1998, 1834] 0.5723571212766659\n",
      "[1999, 1884] 0.6295483469765374\n",
      "[2000, 1849] 0.5793377741477417\n",
      "[2001, 1835] 0.5399807555246002\n",
      "[2002, 1834] 0.5723571212766659\n",
      "[2003, 1884] 0.5635407604629804\n",
      "[2004, 1839] 0.5584416486237145\n",
      "[2005, 1892] 0.6294606802074393\n",
      "[2006, 1891] 0.5498266834178283\n",
      "[2007, 1856] 0.5591916652114838\n",
      "[2008, 1874] 0.5865192941477978\n",
      "[2009, 1874] 0.551272151885132\n",
      "[2010, 1856] 0.5655561663319917\n",
      "[2011, 1860] 0.6430163467173914\n",
      "[2012, 1891] 0.5783831095273841\n",
      "[2013, 1892] 0.6098989843924737\n",
      "[2014, 1862] 0.5094616964827976\n",
      "[2015, 1863] 0.7803450830925929\n",
      "[2016, 1849] 0.5793377741477417\n",
      "[2017, 1866] 0.4494334433748216\n",
      "[2018, 1862] 0.5094616964827976\n",
      "[2019, 1843] 0.5409919277615989\n",
      "[2020, 1867] 0.6364590577037064\n",
      "[2021, 1884] 0.7745816140782532\n",
      "[2022, 1869] 0.5884169803910687\n",
      "[2023, 1874] 0.6307391429743262\n",
      "[2024, 1921] 0.5364012351464892\n",
      "[2025, 1891] 0.6593588841622995\n",
      "[2026, 1870] 0.6794770938316865\n",
      "[2027, 1937] 0.7735128845663647\n",
      "[2028, 1874] 0.8413610130399384\n",
      "[2029, 1936] 0.5928155507483438\n",
      "[2030, 1909] 0.47941071374113875\n",
      "[2031, 1937] 0.7735128845663647\n",
      "[2032, 1877] 0.7409366681898544\n",
      "[2033, 1878] 0.629233087204631\n",
      "[2034, 1884] 0.82364544921395\n",
      "[2035, 1870] 0.6720894890680338\n",
      "[2036, 1839] 0.609375836010322\n",
      "[2037, 1882] 0.5628085996530687\n",
      "[2038, 1937] 0.7735128845663647\n",
      "[2039, 1884] 0.7089699439893965\n",
      "[2040, 1937] 0.6618655729962807\n",
      "[2041, 1884] 0.5624714205872895\n",
      "[2042, 1937] 0.7735128845663647\n",
      "[2043, 1887] 1.0\n",
      "[2044, 1888] 0.6555146632991297\n",
      "[2045, 1937] 0.6618655729962807\n"
     ]
    },
    {
     "name": "stdout",
     "output_type": "stream",
     "text": [
      "[2046, 1890] 0.6134779591508585\n",
      "[2047, 1891] 0.6563312445775287\n",
      "[2048, 1892] 0.686171697108766\n",
      "[2049, 1870] 0.6833723761031565\n",
      "[2050, 1856] 0.5525333600948696\n",
      "[2051, 1895] 0.6153458003599942\n",
      "[2052, 1937] 0.6618655729962807\n",
      "[2053, 1919] 0.7147087441235942\n",
      "[2054, 1897] 0.6299605249474366\n",
      "[2055, 1898] 0.7631428283688879\n",
      "[2056, 1921] 0.7000416468349389\n",
      "[2057, 1936] 0.5928155507483438\n",
      "[2058, 1919] 0.7774104733667395\n",
      "[2059, 1887] 0.5\n",
      "[2060, 1920] 0.6407860711607111\n",
      "[2061, 1874] 0.6294758463328303\n",
      "[2062, 1937] 0.667007785074022\n",
      "[2063, 1905] 0.764794982927755\n",
      "[2064, 1907] 0.8722133569238506\n",
      "[2065, 1924] 0.5449495536574094\n",
      "[2066, 1909] 0.5239721389381216\n",
      "[2067, 1878] 0.629233087204631\n",
      "[2068, 1920] 0.6900714839551475\n",
      "[2069, 1897] 0.6299605249474366\n",
      "[2070, 1912] 0.6675836783681784\n",
      "[2071, 1936] 0.5928155507483438\n",
      "[2072, 1920] 0.6982192074624816\n",
      "[2073, 1907] 0.34751456860248464\n",
      "[2074, 1946] 0.6536428098109275\n",
      "[2075, 1937] 0.6618655729962807\n",
      "[2076, 1905] 0.49513377941249603\n",
      "[2077, 1920] 0.5588947047538154\n",
      "[2078, 1878] 0.6057068642773799\n",
      "[2079, 1920] 0.6704644354578734\n",
      "[2080, 1901] 0.4966441941896344\n",
      "[2081, 1887] 0.619009431052768\n",
      "[2082, 1921] 0.8411313369056374\n",
      "[2083, 1922] 0.7734707767107487\n",
      "[2084, 1907] 0.5172548345341257\n",
      "[2085, 1892] 0.5657536996475597\n",
      "[2086, 1926] 0.5503011540269755\n",
      "[2087, 1892] 0.6124927300490959\n",
      "[2088, 1909] 0.4981035863139642\n",
      "[2089, 1927] 0.6099935762121179\n",
      "[2090, 1870] 0.6476973665137045\n",
      "[2091, 1930] 0.20218000823357415\n",
      "[2092, 1931] 0.6641200578040645\n",
      "[2093, 1874] 0.6592723483918993\n",
      "[2094, 1891] 0.574297985453595\n",
      "[2095, 1939] 0.26285517864925023\n",
      "[2096, 1935] 0.7027830956832655\n",
      "[2097, 1936] 0.5848035476425733\n",
      "[2098, 1937] 0.8411027289423167\n",
      "[2099, 1938] 0.6975494418717453\n",
      "[2100, 1940] 0.5172681640671479\n",
      "[2101, 1941] 0.5088737799304275\n",
      "[2102, 1979] 0.5446508407147175\n",
      "[2103, 1928] 0.4807498567691361\n",
      "[2104, 1944] 0.658076346242073\n",
      "[2105, 1931] 0.5233319597488604\n",
      "[2106, 1967] 0.5933722013786961\n",
      "[2107, 1981] 0.5203399450744642\n",
      "[2108, 1972] 0.559504070271487\n",
      "[2109, 1943] 0.5727622160697625\n",
      "[2110, 1950] 0.7338016012652858\n",
      "[2111, 1956] 0.7580466922409584\n",
      "[2112, 1951] 0.8617738760127536\n",
      "[2113, 1952] 0.7436396584941313\n",
      "[2114, 1953] 0.7631428283688879\n",
      "[2115, 1966] 0.7181448966772946\n",
      "[2116, 1983] 0.4349251787695629\n",
      "[2117, 1952] 0.7066225998366447\n",
      "[2118, 1956] 0.7113786608980126\n",
      "[2119, 1957] 0.6010325342530636\n",
      "[2120, 1966] 0.7181448966772946\n",
      "[2121, 2003] 0.6264373355316005\n",
      "[2122, 1966] 0.7413266968564386\n",
      "[2123, 1956] 0.5523519321144897\n",
      "[2124, 1966] 0.7181448966772946\n",
      "[2125, 1961] 0.530308200189772\n",
      "[2126, 1961] 0.7321929014072424\n",
      "[2127, 1962] 0.6925087074077901\n",
      "[2128, 1979] 0.5597777773734709\n",
      "[2129, 1980] 0.5334161724533013\n",
      "[2130, 1989] 0.561223588437592\n",
      "[2131, 1966] 0.7181448966772946\n",
      "[2132, 1983] 0.493344928483855\n",
      "[2133, 1966] 0.7413266968564386\n",
      "[2134, 1983] 0.5134809192713966\n",
      "[2135, 1966] 0.7181448966772946\n",
      "[2136, 1967] 0.609517066517666\n",
      "[2137, 1966] 0.7413266968564386\n",
      "[2138, 1993] 0.4807498567691361\n",
      "[2139, 2000] 0.6966277108382617\n",
      "[2140, 1970] 0.4976545499107014\n",
      "[2141, 1971] 0.5975073417180661\n",
      "[2142, 1972] 0.6671140171450712\n",
      "[2143, 1966] 0.7181448966772946\n",
      "[2144, 2003] 0.5631730829276991\n",
      "[2145, 1966] 0.7413266968564386\n",
      "[2146, 1990] 0.4671794564782713\n",
      "[2147, 1976] 0.6432996742753447\n",
      "[2148, 1966] 0.7181448966772946\n",
      "[2149, 1976] 0.43317577973949994\n",
      "[2150, 1978] 0.5575631071579463\n",
      "[2151, 2003] 0.6028831126120429\n",
      "[2152, 1980] 0.5245881506622517\n",
      "[2153, 1981] 0.5244634290955983\n",
      "[2154, 1982] 0.7327102168293631\n",
      "[2155, 1983] 0.8192178078806924\n",
      "[2156, 1991] 0.537809548674848\n",
      "[2157, 1993] 0.4807498567691361\n",
      "[2158, 1966] 0.7413266968564386\n",
      "[2159, 1990] 0.4926947112561632\n",
      "[2160, 1986] 0.6288873362850369\n",
      "[2161, 1988] 0.538953240387327\n",
      "[2162, 1988] 0.5578607917351414\n",
      "[2163, 1974] 0.6105718786804298\n",
      "[2164, 1990] 0.5672399574197226\n",
      "[2165, 1952] 0.6842375347258915\n",
      "[2166, 1983] 0.8192178078806924\n",
      "[2167, 1993] 0.5704087733187517\n",
      "[2168, 1989] 0.6217797435076711\n",
      "[2169, 1995] 0.6925194932884214\n",
      "[2170, 1966] 0.7181448966772946\n",
      "[2171, 1984] 0.46992185079974397\n",
      "[2172, 1966] 0.7413266968564386\n",
      "[2173, 1990] 0.47132985388649207\n",
      "[2174, 1967] 0.5691720611950861\n",
      "[2175, 1998] 0.6352307925775944\n",
      "[2176, 1989] 0.6342769603007505\n",
      "[2177, 2000] 0.6798435428240777\n",
      "[2178, 1972] 0.5830335104622922\n",
      "[2179, 2005] 0.517958864119624\n",
      "[2180, 2000] 0.6163253198865968\n",
      "[2181, 2002] 0.4619379934826978\n",
      "[2182, 2004] 0.5054657452064866\n",
      "[2183, 2003] 0.5786742676385471\n",
      "[2184, 2019] 0.5399571368776299\n",
      "[2185, 2005] 0.49670630493210177\n",
      "[2186, 2005] 0.5538586876961373\n",
      "[2187, 1983] 0.5307752390543425\n",
      "[2188, 2005] 0.5295205086153372\n",
      "[2189, 1967] 0.4992913513681616\n",
      "[2190, 2010] 0.5578607917351414\n",
      "[2191, 1989] 0.5460139967903013\n",
      "[2192, 1989] 0.5647964043187368\n",
      "[2193, 2019] 0.5602890829050496\n",
      "[2194, 2019] 0.5065020037616401\n",
      "[2195, 1989] 0.5960755516357186\n",
      "[2196, 1989] 0.5552338598847695\n",
      "[2197, 2005] 0.5442789405569397\n",
      "[2198, 2039] 0.5671341579867565\n",
      "[2199, 2018] 0.6021932533139714\n",
      "[2200, 2019] 0.6133404669308353\n",
      "[2201, 2020] 0.5930563977286919\n",
      "[2202, 2003] 0.5606232386682931\n",
      "[2203, 2022] 0.6006841518320842\n",
      "[2204, 2023] 0.6525105566068631\n",
      "[2205, 2010] 0.2964077753741719\n",
      "[2206, 2025] 0.7943910047285396\n",
      "[2207, 2026] 0.5799472467747004\n",
      "[2208, 2028] 0.5654862092733205\n",
      "[2209, 2027] 0.5118583809251739\n",
      "[2210, 2042] 0.5504909197051377\n",
      "[2211, 2064] 0.6596756793399476\n",
      "[2212, 2010] 0.4205513644711583\n",
      "[2213, 2035] 0.6551853485522242\n",
      "[2214, 2034] 0.929844516152462\n",
      "[2215, 2035] 0.5514924665439825\n",
      "[2216, 2034] 0.6211804084078926\n",
      "[2217, 2048] 0.5357064775212911\n",
      "[2218, 2038] 0.724178748547237\n",
      "[2219, 2039] 0.7701856629233949\n",
      "[2220, 2040] 0.49689058381240797\n",
      "[2221, 2048] 0.38271013106979446\n",
      "[2222, 2041] 0.6251879358006716\n",
      "[2223, 2042] 0.657001599947768\n",
      "[2224, 2042] 0.6203894398880444\n",
      "[2225, 2044] 0.6257694281662626\n",
      "[2226, 2045] 0.6066903921150992\n",
      "[2227, 2046] 0.5916916700690253\n",
      "[2228, 2048] 0.582218384281571\n",
      "[2229, 2047] 0.5089743421562483\n",
      "[2230, 2058] 0.5926162521900096\n",
      "[2231, 2051] 0.5618099566277497\n",
      "[2232, 2052] 0.5859866725474931\n",
      "[2233, 2054] 0.5687348604672041\n",
      "[2234, 2058] 0.5025739444854994\n",
      "[2235, 2055] 0.7439076406241846\n",
      "[2236, 2056] 0.6630498661359834\n",
      "[2237, 2039] 0.5246064158307565\n",
      "[2238, 2058] 0.6374088694543534\n",
      "[2239, 2059] 0.5863203169291951\n",
      "[2240, 2085] 0.5231527910198066\n",
      "[2241, 2061] 0.5922290439054996\n",
      "[2242, 2064] 0.5728087038341517\n",
      "[2243, 2058] 0.5953695424716432\n",
      "[2244, 2088] 0.5992509577781094\n",
      "[2245, 2065] 0.47428906866257237\n",
      "[2246, 2058] 0.5599028033427581\n",
      "[2247, 2116] 0.5137488177316555\n",
      "[2248, 2068] 0.6030235436108916\n",
      "[2249, 2085] 0.6610641608935915\n",
      "[2250, 2092] 0.566962815126382\n",
      "[2251, 2079] 0.5715079254875597\n",
      "[2252, 2075] 0.6610641608935917\n",
      "[2253, 2072] 0.8991239388425801\n",
      "[2254, 2073] 0.6711363491559286\n",
      "[2255, 2079] 0.5715079254875597\n",
      "[2256, 2103] 0.5122881226984192\n",
      "[2257, 2075] 0.8328886516409273\n",
      "[2258, 2072] 0.8765417770945655\n",
      "[2259, 2073] 0.40996866651027775\n",
      "[2260, 2079] 0.5715079254875597\n",
      "[2261, 2109] 0.5081253441563792\n",
      "[2262, 2079] 0.7978130373574885\n",
      "[2263, 2073] 0.4345585139481682\n",
      "[2264, 2079] 0.5715079254875597\n",
      "[2265, 2075] 0.4807498567691361\n",
      "[2266, 2082] 0.6438830050933609\n",
      "[2267, 2083] 0.5528410940436563\n",
      "[2268, 2084] 0.7329083766848514\n",
      "[2269, 2085] 0.7257675871440736\n",
      "[2270, 2079] 0.7978130373574885\n",
      "[2271, 2087] 0.6734746841325987\n",
      "[2272, 2088] 0.6488161663829446\n",
      "[2273, 2058] 0.5622260179591132\n",
      "[2274, 2090] 0.610477422332426\n",
      "[2275, 2091] 0.6047776896472733\n",
      "[2276, 2117] 0.6512772990690928\n",
      "[2277, 2058] 0.6074554782615693\n",
      "[2278, 2064] 0.579800538205327\n",
      "[2279, 2101] 0.5562066440600866\n",
      "[2280, 2116] 0.5865074381938605\n",
      "[2281, 2117] 0.5332283980372362\n",
      "[2282, 2097] 0.5726396273053994\n",
      "[2283, 2103] 0.427200569681309\n",
      "[2284, 2058] 0.6989716566380691\n",
      "[2285, 2100] 0.5713165443058509\n",
      "[2286, 2101] 0.6392590447590047\n",
      "[2287, 2102] 0.6101042216565045\n",
      "[2288, 2101] 0.5498315982748377\n",
      "[2289, 2104] 0.6247442107701836\n",
      "[2290, 2102] 0.6135033207364989\n",
      "[2291, 2106] 0.5644732246775651\n",
      "[2292, 2107] 0.620567373269453\n",
      "[2293, 2116] 0.6205837066319734\n",
      "[2294, 2068] 0.4574359198138967\n",
      "[2295, 2110] 0.5349982118389487\n",
      "[2296, 2130] 0.6785699257214673\n",
      "[2297, 2112] 0.6756594006757217\n",
      "[2298, 2112] 0.7222359190915426\n",
      "[2299, 2114] 0.5869122584543518\n",
      "[2300, 2115] 0.6731438902171424\n",
      "[2301, 2116] 0.7079270548816612\n",
      "[2302, 2117] 0.6643725312908637\n",
      "[2303, 2118] 0.7080355684706271\n",
      "[2304, 2119] 0.6681792974793558\n",
      "[2305, 2116] 0.6121828420640296\n",
      "[2306, 2121] 0.44040943407646826\n",
      "[2307, 2117] 0.665934211821964\n",
      "[2308, 2123] 0.6707809637126518\n",
      "[2309, 2116] 0.5822884435057233\n",
      "[2310, 2125] 0.7789599605462191\n",
      "[2311, 2126] 0.7987922200260789\n",
      "[2312, 2112] 0.25154637880573955\n",
      "[2313, 2128] 0.5349194562298933\n",
      "[2314, 2129] 0.5928155507483438\n",
      "[2315, 2111] 0.6544287828116805\n",
      "[2316, 2111] 0.5786687922892622\n",
      "[2317, 2132] 0.6421192913276673\n",
      "[2318, 2133] 0.7070199585672087\n",
      "[2319, 2134] 0.66230622604469\n",
      "[2320, 2116] 0.6280920111742436\n",
      "[2321, 2136] 0.8959172309759914\n",
      "[2322, 2137] 0.8008382417520612\n",
      "[2323, 2138] 0.5416261201295436\n",
      "[2324, 2139] 0.6996131351139313\n",
      "[2325, 2173] 0.5775235842171547\n",
      "[2326, 2141] 0.7319425404656982\n",
      "[2327, 2173] 0.5689945220564706\n",
      "[2328, 2144] 0.6108991630071513\n",
      "[2329, 2145] 0.5195324608801867\n",
      "[2330, 2146] 0.6551508349133289\n",
      "[2331, 2174] 0.5613186680865282\n",
      "[2332, 2148] 0.6073986962102977\n",
      "[2333, 2149] 0.6005735084220293\n",
      "[2334, 2188] 0.6501438732844821\n",
      "[2335, 2151] 0.7341151548614836\n",
      "[2336, 2152] 0.6117373196435831\n",
      "[2337, 2153] 0.6232633615053527\n",
      "[2338, 2154] 0.6569681761653844\n",
      "[2339, 2174] 0.628158867031095\n",
      "[2340, 2156] 0.4906445207642843\n",
      "[2341, 2192] 0.7285595854064321\n",
      "[2342, 2158] 0.4807498567691361\n",
      "[2343, 2158] 0.4807498567691361\n",
      "[2344, 2159] 0.7383755333853365\n",
      "[2345, 2142] 0.5376304321099918\n",
      "[2346, 2192] 0.7963910568181071\n",
      "[2347, 2162] 0.4060911995115251\n",
      "[2348, 2131] 0.6786044041487267\n",
      "[2349, 2169] 0.5428835233189814\n",
      "[2350, 2192] 0.7963910568181071\n",
      "[2351, 2165] 0.7685105794964534\n",
      "[2352, 2166] 0.6159101056881975\n",
      "[2353, 2173] 0.5382969159997042\n",
      "[2354, 2137] 0.40647885661203714\n",
      "[2355, 2173] 0.573506074951391\n",
      "[2356, 2171] 0.580616550203852\n"
     ]
    },
    {
     "name": "stdout",
     "output_type": "stream",
     "text": [
      "[2357, 2143] 0.44303581726872926\n",
      "[2358, 2173] 0.6904405758011415\n",
      "[2359, 2174] 0.6639347625669125\n",
      "[2360, 2149] 0.5672440321625581\n",
      "[2361, 2142] 0.5089462233332864\n",
      "[2362, 2177] 0.6060298708597299\n",
      "[2363, 2178] 0.5962078175689584\n",
      "[2364, 2179] 0.7008004835965813\n",
      "[2365, 2180] 0.5899790693112382\n",
      "[2366, 2201] 0.5117563876156825\n",
      "[2367, 2159] 0.6889960242213395\n",
      "[2368, 2182] 0.5584663762093626\n",
      "[2369, 2188] 0.5652235985953762\n",
      "[2370, 2185] 0.6844837400281686\n",
      "[2371, 2186] 0.6375759436285986\n",
      "[2372, 2187] 0.5997516724965987\n",
      "[2373, 2173] 0.571924173213361\n",
      "[2374, 2188] 0.6864991056747834\n",
      "[2375, 2186] 0.41478622648329966\n",
      "[2376, 2212] 0.7546013420997107\n",
      "[2377, 2191] 0.7591472429689157\n",
      "[2378, 2195] 0.7299198566479815\n",
      "[2379, 2193] 1.0\n",
      "[2380, 2212] 0.5631239402218031\n",
      "[2381, 2191] 0.6927204594990941\n",
      "[2382, 2196] 0.6421192913276673\n",
      "[2383, 2226] 0.6064629223429108\n",
      "[2384, 2229] 0.5071003391746829\n",
      "[2385, 2198] 0.6928470199514948\n",
      "[2386, 2188] 0.5576982160868688\n",
      "[2387, 2200] 0.7168096977640673\n",
      "[2388, 2201] 0.6659508778351108\n",
      "[2389, 2200] 0.6385697347586966\n",
      "[2390, 2203] 0.6655535243354672\n",
      "[2391, 2187] 0.4350430803881189\n",
      "[2392, 2218] 0.6185117556814084\n",
      "[2393, 2201] 0.5474901760869064\n",
      "[2394, 2198] 0.6080697904166256\n",
      "[2395, 2212] 0.8033807547250766\n",
      "[2396, 2217] 0.6379187192363179\n",
      "[2397, 2216] 0.7293206840418593\n",
      "[2398, 2217] 0.6776760596448582\n",
      "[2399, 2219] 0.7120860341427072\n",
      "[2400, 2206] 0.6262409079938588\n",
      "[2401, 2242] 0.5103457951485846\n",
      "[2402, 2222] 0.6592735738325644\n",
      "[2403, 2230] 0.5937594261600682\n",
      "[2404, 2213] 0.6926537271825436\n",
      "[2405, 2230] 0.5974046249167206\n",
      "[2406, 2213] 0.6462911834441065\n",
      "[2407, 2214] 0.5149236529047206\n",
      "[2408, 2226] 0.4842618508132228\n",
      "[2409, 2218] 0.5129083268424438\n",
      "[2410, 2229] 0.5345202831819356\n",
      "[2411, 2224] 0.6337044381158916\n",
      "[2412, 2217] 0.6430212823129826\n",
      "[2413, 2233] 0.30285343213869\n",
      "[2414, 2234] 0.7987922200260789\n",
      "[2415, 2267] 0.5094616964827977\n",
      "[2416, 2236] 0.9023370853794827\n",
      "[2417, 2237] 0.9023370853794827\n",
      "[2418, 2238] 0.7146164116035124\n",
      "[2419, 2238] 0.6540850352092596\n",
      "[2420, 2240] 0.6421192913276673\n",
      "[2421, 2241] 0.6299605249474366\n",
      "[2422, 2242] 0.8356417477113274\n",
      "[2423, 2243] 0.7188867017625193\n",
      "[2424, 2244] 0.7113786608980126\n",
      "[2425, 2252] 0.5274766076844573\n",
      "[2426, 2273] 0.5604343725989875\n",
      "[2427, 2247] 0.4589168606977282\n",
      "[2428, 2248] 0.48562869017910154\n",
      "[2429, 2234] 0.4556604567047892\n",
      "[2430, 2250] 0.791183249813317\n",
      "[2431, 2273] 0.479754666524782\n",
      "[2432, 2242] 0.4308869380063768\n",
      "[2433, 2250] 0.5477580403143387\n",
      "[2434, 2252] 0.5586214952280746\n",
      "[2435, 2250] 0.6485776560910658\n",
      "[2436, 2255] 0.5315092351028984\n",
      "[2437, 2256] 1.0\n",
      "[2438, 2257] 0.5750156195361235\n",
      "[2439, 2242] 0.5\n",
      "[2440, 2287] 0.5683430891007782\n",
      "[2441, 2273] 0.4261901871575086\n",
      "[2442, 2255] 0.5365023492900676\n",
      "[2443, 2243] 0.48986393613219403\n",
      "[2444, 2284] 0.5844773057420605\n",
      "[2445, 2263] 0.600307519941875\n",
      "[2446, 2287] 0.6543740524698952\n",
      "[2447, 2265] 0.830714682313879\n",
      "[2448, 2289] 0.5351702843025427\n",
      "[2449, 2241] 0.1097601952145034\n",
      "[2450, 2234] 0.7089409615456858\n",
      "[2451, 2240] 0.5417075577282605\n",
      "[2452, 2267] 0.5094616964827977\n",
      "[2453, 2275] 0.649061762731388\n",
      "[2454, 2277] 0.7299198566479815\n",
      "[2455, 2236] 0.7417848716930149\n",
      "[2456, 2279] 0.6299605249474366\n",
      "[2457, 2279] 0.6719994617614721\n",
      "[2458, 2280] 0.5894308170449062\n",
      "[2459, 2234] 0.5108967163523038\n",
      "[2460, 2282] 0.6149186935533958\n",
      "[2461, 2270] 0.5483046955297606\n",
      "[2462, 2322] 0.5724689933392555\n",
      "[2463, 2306] 0.507327068383779\n",
      "[2464, 2322] 0.5882269127380749\n",
      "[2465, 2322] 0.6668211527077469\n",
      "[2466, 2290] 0.6014516679281352\n",
      "[2467, 2291] 0.6712873444586568\n",
      "[2468, 2273] 0.5740230543373963\n",
      "[2469, 2320] 0.5103842709042531\n",
      "[2470, 2292] 0.5033113547800565\n",
      "[2471, 2296] 0.7558573858096796\n",
      "[2472, 2297] 0.752636225541841\n",
      "[2473, 2298] 0.5478364026512739\n",
      "[2474, 2322] 0.516450647227852\n",
      "[2475, 2301] 0.5029113438996294\n",
      "[2476, 2307] 0.5544977169831651\n",
      "[2477, 2303] 0.7275471539501037\n",
      "[2478, 2284] 0.5771322119607531\n",
      "[2479, 2348] 0.6493308915585279\n",
      "[2480, 2307] 0.730638332922493\n",
      "[2481, 2349] 0.5798564728668515\n",
      "[2482, 2296] 0.6299605249474366\n",
      "[2483, 2296] 0.5428835233189813\n",
      "[2484, 2322] 0.5580562551706506\n",
      "[2485, 2291] 0.5635928196559291\n",
      "[2486, 2352] 0.6839903786706788\n",
      "[2487, 2348] 0.5381549270082356\n",
      "[2488, 2305] 0.6496947103999015\n",
      "[2489, 2312] 0.4880857008797172\n",
      "[2490, 2352] 0.6839903786706788\n",
      "[2491, 2293] 0.5093196249517042\n",
      "[2492, 2296] 0.4807498567691361\n",
      "[2493, 2296] 0.5678513298285308\n",
      "[2494, 2306] 0.5543752858304171\n",
      "[2495, 2315] 0.34000806526140415\n",
      "[2496, 2316] 0.67976629932078\n",
      "[2497, 2316] 0.5906944697126502\n",
      "[2498, 2303] 0.5523495836694193\n",
      "[2499, 2352] 0.6839903786706788\n",
      "[2500, 2306] 0.6571602974937466\n",
      "[2501, 2320] 0.8101864342210702\n",
      "[2502, 2321] 0.7040954181770507\n",
      "[2503, 2337] 0.6179550684820727\n",
      "[2504, 2352] 0.6839903786706788\n",
      "[2505, 2353] 0.5340335330182236\n",
      "[2506, 2337] 0.5947690354506667\n",
      "[2507, 2348] 0.5102036864214626\n",
      "[2508, 2348] 0.49610303964045804\n",
      "[2509, 2352] 0.6839903786706788\n",
      "[2510, 2322] 0.6221179910057517\n",
      "[2511, 2345] 0.5750019817746668\n",
      "[2512, 2348] 0.7217245875325207\n",
      "[2513, 2348] 0.5483352467912612\n",
      "[2514, 2350] 0.5330253765407098\n",
      "[2515, 2387] 0.5836793979189195\n",
      "[2516, 2307] 0.5718139608243308\n",
      "[2517, 2337] 0.6320169856196934\n",
      "[2518, 2348] 0.45078435754047985\n",
      "[2519, 2340] 0.6734918056477915\n",
      "[2520, 2336] 0.5578607917351412\n",
      "[2521, 2306] 0.6398362676394349\n",
      "[2522, 2316] 0.6272164173208983\n",
      "[2523, 2316] 0.5585476805522082\n",
      "[2524, 2350] 0.552560586721856\n",
      "[2525, 2349] 0.5664481617210387\n",
      "[2526, 2378] 0.5365657372597185\n",
      "[2527, 2305] 0.6229408819045809\n",
      "[2528, 2320] 0.5812528217676344\n",
      "[2529, 2352] 0.6839903786706788\n",
      "[2530, 2358] 0.5632341230724229\n",
      "[2531, 2306] 0.5770056936892852\n",
      "[2532, 2305] 0.6229408819045809\n",
      "[2533, 2353] 0.5625811497006054\n",
      "[2534, 2352] 0.6839903786706788\n",
      "[2535, 2345] 0.6773713256881572\n",
      "[2536, 2305] 0.6496947103999015\n",
      "[2537, 2345] 0.5761915799116044\n",
      "[2538, 2348] 0.7356008784346093\n",
      "[2539, 2347] 0.5353857283798632\n",
      "[2540, 2387] 0.5425496045242003\n",
      "[2541, 2349] 0.6451169241937827\n",
      "[2542, 2387] 0.593582108928341\n",
      "[2543, 2352] 0.6839903786706788\n",
      "[2544, 2348] 0.7827124500122722\n",
      "[2545, 2358] 0.5428835233189814\n",
      "[2546, 2348] 0.5305994357542023\n",
      "[2547, 2299] 0.5513092168821926\n",
      "[2548, 2356] 0.5660570020731308\n",
      "[2549, 2349] 0.5624629044811691\n",
      "[2550, 2393] 0.590298704353554\n",
      "[2551, 2393] 0.5449720446246813\n",
      "[2552, 2358] 0.6628657478815333\n",
      "[2553, 2393] 0.6215949801974296\n",
      "[2554, 2348] 0.6028386851234604\n",
      "[2555, 2414] 0.5417412805837227\n",
      "[2556, 2352] 0.6839903786706788\n",
      "[2557, 2363] 0.6249146247705941\n",
      "[2558, 2340] 0.6496947103999015\n",
      "[2559, 2374] 0.5071003391746828\n",
      "[2560, 2352] 0.6839903786706788\n",
      "[2561, 2408] 0.6448716932516897\n",
      "[2562, 2348] 0.567548314120071\n",
      "[2563, 2340] 0.6496947103999015\n",
      "[2564, 2393] 0.595679464660386\n",
      "[2565, 2352] 0.6839903786706788\n",
      "[2566, 2358] 0.5271693123695588\n",
      "[2567, 2340] 0.6496947103999015\n",
      "[2568, 2348] 0.5042911097294545\n",
      "[2569, 2370] 0.7024421213845905\n",
      "[2570, 2371] 0.6916516346827026\n",
      "[2571, 2348] 0.46378725879618643\n",
      "[2572, 2347] 0.5959298986019727\n",
      "[2573, 2345] 0.6843582430261452\n",
      "[2574, 2340] 0.6660347547556064\n",
      "[2575, 2383] 0.5578607917351412\n",
      "[2576, 2377] 0.722005612174344\n",
      "[2577, 2378] 0.6693486067588525\n",
      "[2578, 2393] 0.6685289984295884\n",
      "[2579, 2380] 0.5578607917351412\n",
      "[2580, 2362] 0.7044638002887311\n",
      "[2581, 2382] 0.6299605249474366\n",
      "[2582, 2383] 0.6751191380503744\n",
      "[2583, 2390] 0.6627318123949775\n",
      "[2584, 2385] 0.9517952748253559\n",
      "[2585, 2391] 0.6000661302771806\n",
      "[2586, 2387] 0.7229117978045827\n",
      "[2587, 2352] 0.6839903786706788\n",
      "[2588, 2416] 0.550353817843904\n",
      "[2589, 2416] 0.5346034543166361\n",
      "[2590, 2391] 0.7990635300581406\n",
      "[2591, 2390] 0.5780703190134424\n",
      "[2592, 2349] 0.4572950830617992\n",
      "[2593, 2393] 0.6492273347721765\n",
      "[2594, 2394] 0.6711395435418075\n",
      "[2595, 2356] 0.6247533879706917\n",
      "[2596, 2387] 0.6363631055736638\n",
      "[2597, 2396] 0.5609093229687266\n",
      "[2598, 2397] 0.6124128375432412\n",
      "[2599, 2394] 0.6377393605588898\n",
      "[2600, 2399] 0.5663984694892015\n",
      "[2601, 2358] 0.623313265026403\n",
      "[2602, 2364] 0.6496947103999015\n",
      "[2603, 2391] 0.5385272378722411\n",
      "[2604, 2402] 0.6209795753217634\n",
      "[2605, 2403] 0.6409249115228214\n",
      "[2606, 2414] 0.5479521226022759\n",
      "[2607, 2358] 0.6161231460939528\n",
      "[2608, 2410] 0.5064560042682461\n",
      "[2609, 2364] 0.6496947103999015\n",
      "[2610, 2358] 0.5779858991633958\n",
      "[2611, 2409] 0.702143386706262\n",
      "[2612, 2406] 0.5860269139858243\n",
      "[2613, 2393] 0.5630464717591794\n",
      "[2614, 2412] 0.5888400998568182\n",
      "[2615, 2413] 0.6501790430732756\n",
      "[2616, 2391] 0.5684367439851988\n",
      "[2617, 2415] 0.5060595991810496\n",
      "[2618, 2416] 0.30285343213869\n",
      "[2619, 2406] 0.5509047594724891\n",
      "[2620, 2414] 0.5780597958248711\n",
      "[2621, 2413] 0.6758985474987184\n",
      "[2622, 2420] 0.6088422899546836\n",
      "[2623, 2421] 0.5488333816240449\n",
      "[2624, 2440] 0.5014521479580093\n",
      "[2625, 2418] 0.38188277669824666\n",
      "[2626, 2459] 0.5755347405579965\n",
      "[2627, 2418] 0.4764553700785731\n",
      "[2628, 2424] 0.21908396703053123\n",
      "[2629, 2431] 0.520020955762976\n",
      "[2630, 2431] 0.5470405268651842\n",
      "[2631, 2431] 0.5428835233189814\n",
      "[2632, 2431] 0.6573321048766027\n",
      "[2633, 2454] 0.6113730131062671\n",
      "[2634, 2443] 0.5\n",
      "[2635, 2440] 0.4898776284652666\n",
      "[2636, 2443] 0.502222713523639\n",
      "[2637, 2444] 0.6039949850516837\n",
      "[2638, 2454] 0.48217511009110975\n",
      "[2639, 2446] 0.5933206615350224\n",
      "[2640, 2460] 0.583356008188885\n",
      "[2641, 2414] 0.6106758370590181\n",
      "[2642, 2441] 0.5497007611181491\n",
      "[2643, 2442] 0.6024731326916173\n",
      "[2644, 2443] 0.7113786608980126\n",
      "[2645, 2444] 0.7631428283688879\n",
      "[2646, 2444] 0.6811085021302594\n",
      "[2647, 2470] 0.6008822651371596\n",
      "[2648, 2443] 0.48828744527118884\n",
      "[2649, 2473] 0.5909179985024291\n",
      "[2650, 2444] 0.498891808202629\n",
      "[2651, 2443] 0.5\n",
      "[2652, 2460] 0.5133870520742674\n",
      "[2653, 2454] 0.7014734328733628\n",
      "[2654, 2455] 0.5944198492439471\n",
      "[2655, 2461] 0.5381924287943336\n",
      "[2656, 2460] 0.5738433962321976\n",
      "[2657, 2458] 0.5669260884208183\n",
      "[2658, 2458] 0.6828566293300603\n",
      "[2659, 2458] 0.7483091563552716\n",
      "[2660, 2444] 0.510603565622787\n",
      "[2661, 2460] 0.5675323694276863\n",
      "[2662, 2462] 0.7238678277795297\n",
      "[2663, 2463] 0.5666809530669408\n",
      "[2664, 2463] 0.488887467428259\n",
      "[2665, 2465] 0.6523889977445188\n",
      "[2666, 2460] 0.6621490438648472\n",
      "[2667, 2444] 0.4219211487746971\n",
      "[2668, 2444] 0.4768196709187285\n",
      "[2669, 2473] 0.60262352489189\n",
      "[2670, 2468] 0.48020136456646306\n",
      "[2671, 2469] 0.5501052328939724\n",
      "[2672, 2453] 0.6191869789352201\n",
      "[2673, 2511] 0.5546117007681195\n",
      "[2674, 2460] 0.525456564017192\n",
      "[2675, 2503] 0.6194951578609925\n",
      "[2676, 2473] 0.5312773974253243\n",
      "[2677, 2475] 0.38113080015029216\n",
      "[2678, 2479] 0.43138507363840506\n",
      "[2679, 2473] 0.5486429712620198\n",
      "[2680, 2459] 0.6153768034896839\n",
      "[2681, 2478] 0.7085529217423655\n",
      "[2682, 2480] 0.7351484367192567\n",
      "[2683, 2481] 0.6719734249779327\n",
      "[2684, 2482] 0.5798968969942975\n",
      "[2685, 2491] 0.6040961798622649\n"
     ]
    },
    {
     "name": "stdout",
     "output_type": "stream",
     "text": [
      "[2686, 2484] 0.6259221464802974\n",
      "[2687, 2485] 0.7013213668509749\n",
      "[2688, 2462] 0.5288698092392484\n",
      "[2689, 2462] 0.6451757498612953\n",
      "[2690, 2461] 0.5826231622589433\n",
      "[2691, 2494] 0.505144510312093\n",
      "[2692, 2444] 0.5392728022466972\n",
      "[2693, 2497] 0.47713438270908987\n",
      "[2694, 2495] 0.6230090321815024\n",
      "[2695, 2473] 0.6536494811252832\n",
      "[2696, 2512] 0.524384093383002\n",
      "[2697, 2531] 0.4668461524404905\n",
      "[2698, 2473] 0.6680179848017548\n",
      "[2699, 2473] 0.6086965101720249\n",
      "[2700, 2497] 0.6728504499995629\n",
      "[2701, 2473] 0.6137931578001262\n",
      "[2702, 2499] 0.6484111285199586\n",
      "[2703, 2495] 0.618272865532287\n",
      "[2704, 2480] 0.5573044846876086\n",
      "[2705, 2470] 0.5844847549036617\n",
      "[2706, 2507] 0.56447492544537\n",
      "[2707, 2469] 0.6453088084039053\n",
      "[2708, 2501] 0.44821268109901585\n",
      "[2709, 2505] 0.6424912563724033\n",
      "[2710, 2482] 0.4907681012923979\n",
      "[2711, 2507] 0.6677214540559986\n",
      "[2712, 2497] 0.5606128224435661\n",
      "[2713, 2469] 0.5100215793154408\n",
      "[2714, 2527] 0.5268020878730334\n",
      "[2715, 2511] 0.6966041877342536\n",
      "[2716, 2507] 0.5349995263888153\n",
      "[2717, 2528] 0.3829233171134725\n",
      "[2718, 2509] 0.29559901889797724\n",
      "[2719, 2516] 0.7001471714877343\n",
      "[2720, 2507] 0.6110681592181939\n",
      "[2721, 2517] 0.6869984584279116\n",
      "[2722, 2507] 0.3332965983392809\n",
      "[2723, 2521] 0.5488009760725169\n",
      "[2724, 2524] 0.5984084805885754\n",
      "[2725, 2521] 0.5911779303869942\n",
      "[2726, 2524] 0.6382584207017853\n",
      "[2727, 2521] 0.7524574225398074\n",
      "[2728, 2524] 0.7635302291735235\n",
      "[2729, 2525] 0.6421192913276673\n",
      "[2730, 2527] 0.5\n",
      "[2731, 2527] 0.6484904213877647\n",
      "[2732, 2530] 0.6241939722956693\n",
      "[2733, 2491] 0.5614711010123072\n",
      "[2734, 2531] 0.5768271432503127\n",
      "[2735, 2531] 0.8254818122236567\n",
      "[2736, 2532] 0.7113786608980126\n",
      "[2737, 2531] 0.7246616129268566\n",
      "[2738, 2530] 0.5782321650215554\n",
      "[2739, 2533] 0.6299605249474366\n",
      "[2740, 2527] 0.6299605249474366\n",
      "[2741, 2527] 0.6484904213877647\n",
      "[2742, 2587] 0.5570145133488885\n",
      "[2743, 2562] 0.4508660770831977\n",
      "[2744, 2566] 0.4765638312407892\n",
      "[2745, 2594] 0.5664769723396351\n",
      "[2746, 2538] 0.5953630480532308\n",
      "[2747, 2540] 0.6699722447719455\n",
      "[2748, 2540] 0.587084093975642\n",
      "[2749, 2536] 0.5242591815949628\n",
      "[2750, 2543] 0.5283965918750959\n",
      "[2751, 2544] 0.7254403835310844\n",
      "[2752, 2545] 0.6569653469080885\n",
      "[2753, 2546] 1.0\n",
      "[2754, 2547] 0.7631428283688879\n",
      "[2755, 2593] 0.540919088393572\n",
      "[2756, 2552] 0.5085827750383839\n",
      "[2757, 2527] 0.5152314891435935\n",
      "[2758, 2574] 0.4491482723612842\n",
      "[2759, 2544] 0.5899790693112383\n",
      "[2760, 2556] 0.6396172873034424\n",
      "[2761, 2557] 0.5945764385811988\n",
      "[2762, 2558] 0.6351403472408849\n",
      "[2763, 2559] 0.7312582426101458\n",
      "[2764, 2559] 0.6581345839324356\n",
      "[2765, 2550] 0.6994704990415119\n",
      "[2766, 2594] 0.6306450858266452\n",
      "[2767, 2531] 0.5776437943784323\n",
      "[2768, 2564] 0.5946720868946368\n",
      "[2769, 2584] 0.49423869029243594\n",
      "[2770, 2544] 0.5928155507483438\n",
      "[2771, 2568] 0.7709820064041563\n",
      "[2772, 2558] 0.6365442677521126\n",
      "[2773, 2570] 0.7946180996635933\n",
      "[2774, 2594] 0.5676857776402987\n",
      "[2775, 2540] 0.5362913094751313\n",
      "[2776, 2593] 0.5329119936131196\n",
      "[2777, 2573] 0.6071291440072121\n",
      "[2778, 2574] 0.5066188738973145\n",
      "[2779, 2544] 0.5981046073252045\n",
      "[2780, 2576] 0.5624104414648919\n",
      "[2781, 2546] 0.6671878011389252\n",
      "[2782, 2588] 0.4197140912439953\n",
      "[2783, 2573] 0.529215012017394\n",
      "[2784, 2580] 0.6283219792654634\n",
      "[2785, 2552] 0.4722246022472089\n",
      "[2786, 2546] 0.531408324673168\n",
      "[2787, 2587] 0.5485379671725796\n",
      "[2788, 2562] 0.5659865694904512\n",
      "[2789, 2585] 0.5602639983371668\n",
      "[2790, 2543] 0.5170290099049871\n",
      "[2791, 2546] 0.5721883052193693\n",
      "[2792, 2580] 0.558431351180576\n",
      "[2793, 2590] 0.6385464694739273\n",
      "[2794, 2591] 0.5296069317027452\n",
      "[2795, 2594] 0.5796893863935737\n",
      "[2796, 2594] 0.633630365179613\n",
      "[2797, 2595] 0.6392492393358539\n",
      "[2798, 2587] 0.6641171654251764\n",
      "[2799, 2619] 0.5960827983621495\n",
      "[2800, 2589] 0.5944577074773589\n",
      "[2801, 2594] 0.608309109630086\n",
      "[2802, 2594] 0.514624093651458\n",
      "[2803, 2602] 0.6114655608999574\n",
      "[2804, 2589] 0.5418058384626303\n",
      "[2805, 2604] 0.6306216940685986\n",
      "[2806, 2605] 0.39094900689585954\n",
      "[2807, 2607] 0.5258123525338874\n",
      "[2808, 2608] 0.7042210312139174\n",
      "[2809, 2604] 0.2866508033441577\n",
      "[2810, 2611] 0.8399473665965821\n",
      "[2811, 2612] 0.7814047312572834\n",
      "[2812, 2612] 0.6404803638837234\n",
      "[2813, 2588] 0.5386280580778303\n",
      "[2814, 2604] 0.5844932599444005\n",
      "[2815, 2621] 0.5599102960645558\n",
      "[2816, 2593] 0.518856634384557\n",
      "[2817, 2593] 0.5263632998046982\n",
      "[2818, 2557] 0.550744730605841\n",
      "[2819, 2615] 0.5130003234686853\n",
      "[2820, 2644] 0.530635323440193\n",
      "[2821, 2597] 0.5171096313647379\n",
      "[2822, 2618] 0.5684577340219542\n",
      "[2823, 2619] 0.5005285416197444\n",
      "[2824, 2622] 0.5877841375465664\n",
      "[2825, 2623] 0.6239896015729761\n",
      "[2826, 2639] 0.5013651782755255\n",
      "[2827, 2638] 0.5493245465118456\n",
      "[2828, 2619] 0.5981347346763649\n",
      "[2829, 2639] 0.5701500085306589\n",
      "[2830, 2644] 0.5395881648689509\n",
      "[2831, 2634] 0.4748653525158145\n",
      "[2832, 2627] 0.6305135751955844\n",
      "[2833, 2641] 0.56025044903346\n",
      "[2834, 2629] 0.6290258640422045\n",
      "[2835, 2639] 0.5914140030521191\n",
      "[2836, 2646] 0.5295533696751732\n",
      "[2837, 2632] 0.6177335975584566\n",
      "[2838, 2632] 0.5543678329469219\n",
      "[2839, 2644] 0.5632137546412208\n",
      "[2840, 2654] 0.6820900262182801\n",
      "[2841, 2635] 0.6121344446358254\n",
      "[2842, 2661] 0.5203325227119199\n",
      "[2843, 2639] 0.5729342310831046\n",
      "[2844, 2622] 0.5465788760783554\n",
      "[2845, 2638] 0.6323339342677543\n",
      "[2846, 2661] 0.5827975419962452\n",
      "[2847, 2661] 0.5186816365228726\n",
      "[2848, 2644] 0.5850973890316058\n",
      "[2849, 2638] 0.6081404712827543\n",
      "[2850, 2632] 0.6462041933529908\n",
      "[2851, 2661] 0.588665080397034\n",
      "[2852, 2644] 0.703969821899172\n",
      "[2853, 2661] 0.4731164417434408\n",
      "[2854, 2635] 0.6025130224427475\n",
      "[2855, 2673] 0.6786044041487267\n",
      "[2856, 2648] 0.9244816991341795\n",
      "[2857, 2648] 0.9244816991341795\n",
      "[2858, 2648] 0.9244816991341795\n",
      "[2859, 2671] 0.7368062997280773\n",
      "[2860, 2652] 0.8073461731417487\n",
      "[2861, 2652] 0.8073461731417487\n",
      "[2862, 2691] 0.7032870679178798\n",
      "[2863, 2682] 0.46676888755234663\n",
      "[2864, 2632] 0.7921296153441681\n",
      "[2865, 2656] 0.603785570767365\n",
      "[2866, 2680] 0.6009057380287699\n",
      "[2867, 2658] 0.6770824814005993\n",
      "[2868, 2680] 0.6367161428746562\n",
      "[2869, 2661] 0.6257217450887879\n",
      "[2870, 2662] 0.33105015665585236\n",
      "[2871, 2643] 0.64936466562258\n",
      "[2872, 2638] 0.626981813785726\n",
      "[2873, 2666] 0.6046637458019497\n",
      "[2874, 2661] 0.6930873609379392\n",
      "[2875, 2661] 0.5777076648729454\n",
      "[2876, 2641] 0.22045556915418466\n",
      "[2877, 2670] 0.7714873558966363\n",
      "[2878, 2671] 0.8855488076521759\n",
      "[2879, 2672] 0.9384364685966974\n",
      "[2880, 2673] 0.9714127805419094\n",
      "[2881, 2671] 0.6370234511997056\n",
      "[2882, 2676] 0.6030751219756547\n",
      "[2883, 2677] 0.7293790764399938\n",
      "[2884, 2678] 0.6655224560391855\n",
      "[2885, 2679] 0.6346708342719982\n",
      "[2886, 2680] 0.6552161625769235\n",
      "[2887, 2681] 0.6760903600696176\n",
      "[2888, 2682] 0.6617396640850866\n",
      "[2889, 2690] 0.5996159745164716\n",
      "[2890, 2684] 0.6493562198896823\n",
      "[2891, 2661] 0.5497138520726955\n",
      "[2892, 2661] 0.5623255365056512\n",
      "[2893, 2691] 0.6398804437529244\n",
      "[2894, 2710] 0.6103199978876673\n",
      "[2895, 2704] 0.6580532579031718\n",
      "[2896, 2661] 0.5410031391557998\n",
      "[2897, 2691] 0.7218396444578671\n",
      "[2898, 2680] 0.6060709310753876\n",
      "[2899, 2701] 0.5360901217333995\n",
      "[2900, 2690] 0.5647450481703365\n",
      "[2901, 2691] 0.730930593651571\n",
      "[2902, 2682] 0.4796797758227196\n",
      "[2903, 2703] 0.4603486613984396\n",
      "[2904, 2703] 0.5753487900545851\n",
      "[2905, 2680] 0.5159513897769709\n",
      "[2906, 2703] 0.5855492885462125\n",
      "[2907, 2696] 0.45975503320137273\n",
      "[2908, 2680] 0.6172717076602994\n",
      "[2909, 2710] 0.5988639644547457\n",
      "[2910, 2701] 0.5245281168738498\n",
      "[2911, 2724] 0.5127631967823689\n",
      "[2912, 2706] 0.4797706449470055\n",
      "[2913, 2683] 0.4912681503727306\n",
      "[2914, 2717] 0.5079893793979933\n",
      "[2915, 2707] 0.48607679273976523\n",
      "[2916, 2724] 0.5257682949917596\n",
      "[2917, 2730] 0.6299508556594945\n",
      "[2918, 2728] 0.5548203212345891\n",
      "[2919, 2713] 0.5166473827875657\n",
      "[2920, 2747] 0.6298145608801113\n",
      "[2921, 2698] 0.6620999882061724\n",
      "[2922, 2698] 0.5901449935819842\n",
      "[2923, 2709] 0.7065528009859497\n",
      "[2924, 2717] 0.4960073568433569\n",
      "[2925, 2718] 0.6064138128088491\n",
      "[2926, 2698] 0.5624234141686499\n",
      "[2927, 2695] 0.5805186946450854\n",
      "[2928, 2721] 0.6607205655891388\n",
      "[2929, 2722] 0.48828791190823656\n",
      "[2930, 2698] 0.5425702662388511\n",
      "[2931, 2709] 0.6136444765962259\n",
      "[2932, 2723] 0.5833986430980544\n",
      "[2933, 2728] 0.5813015542903189\n",
      "[2934, 2703] 0.49588917309335523\n",
      "[2935, 2703] 0.5759893985180896\n",
      "[2936, 2717] 0.48333175009772383\n",
      "[2937, 2710] 0.5667538311217721\n",
      "[2938, 2745] 0.6233800505996128\n",
      "[2939, 2733] 0.43562625391089527\n",
      "[2940, 2734] 0.563630958572061\n",
      "[2941, 2734] 0.6238695533337884\n",
      "[2942, 2733] 0.3967287534121972\n",
      "[2943, 2736] 0.7181448966772945\n",
      "[2944, 2737] 0.4337984245536661\n",
      "[2945, 2738] 0.7302807237176142\n",
      "[2946, 2739] 0.7274196060924233\n",
      "[2947, 2739] 0.5176599020741632\n",
      "[2948, 2741] 0.6421192913276673\n",
      "[2949, 2742] 0.6142956079342596\n",
      "[2950, 2743] 0.6487387868763165\n",
      "[2951, 2747] 0.5679178254820328\n",
      "[2952, 2745] 0.4621694865544911\n",
      "[2953, 2746] 0.6097901241021035\n",
      "[2954, 2769] 0.4483468248520259\n",
      "[2955, 2748] 0.6101705259231808\n",
      "[2956, 2752] 0.7135902622582614\n",
      "[2957, 2749] 0.8254818122236567\n",
      "[2958, 2750] 0.6091439705073566\n",
      "[2959, 2751] 0.6007431245713886\n",
      "[2960, 2752] 0.6446236300060679\n",
      "[2961, 2785] 0.6083570294496505\n",
      "[2962, 2760] 0.5486647770389761\n",
      "[2963, 2781] 0.6321392140107747\n",
      "[2964, 2749] 0.5400411491276454\n",
      "[2965, 2785] 0.5326728981850156\n",
      "[2966, 2745] 0.4461145228026057\n",
      "[2967, 2785] 0.5998151900279152\n",
      "[2968, 2781] 0.5827533352548765\n",
      "[2969, 2761] 0.62415350195761\n",
      "[2970, 2766] 0.5733654892306573\n",
      "[2971, 2752] 0.5477190561715379\n",
      "[2972, 2785] 0.5534259667299752\n",
      "[2973, 2781] 0.6239455382260192\n",
      "[2974, 2766] 0.7133084311037602\n"
     ]
    },
    {
     "name": "stdout",
     "output_type": "stream",
     "text": [
      "[2975, 2781] 0.5260348638298173\n",
      "[2976, 2762] 0.5617727350895523\n",
      "[2977, 2781] 0.5978251488989933\n",
      "[2978, 2770] 0.7903464607372349\n",
      "[2979, 2778] 0.5558119187191115\n",
      "[2980, 2772] 0.6259083211580615\n",
      "[2981, 2773] 0.6706098538104107\n",
      "[2982, 2776] 0.5485179763681471\n",
      "[2983, 2775] 0.6444032532226647\n",
      "[2984, 2776] 0.5543312158050712\n",
      "[2985, 2772] 0.5018641416000357\n",
      "[2986, 2785] 0.5928083813125737\n",
      "[2987, 2779] 0.5751260793999526\n",
      "[2988, 2780] 0.6379832959487125\n",
      "[2989, 2781] 0.7587307300828978\n",
      "[2990, 2781] 0.6269628978127632\n",
      "[2991, 2783] 0.6901219188502401\n",
      "[2992, 2784] 0.5738310409793864\n",
      "[2993, 2785] 0.6028867378639591\n",
      "[2994, 2786] 0.2823108086643086\n",
      "[2995, 2787] 0.6806840940655993\n",
      "[2996, 2788] 0.653447558322275\n",
      "[2997, 2790] 0.5689386902207164\n",
      "[2998, 2797] 0.518444606229264\n",
      "[2999, 2812] 0.5807270111388565\n",
      "[3000, 2813] 0.5223968241128666\n",
      "[3001, 2794] 0.7597877273300271\n",
      "[3002, 2795] 0.7902817275737845\n",
      "[3003, 2796] 0.6277139114896212\n",
      "[3004, 2797] 0.6262197690055276\n",
      "[3005, 2798] 0.7113786608980126\n",
      "[3006, 2812] 0.6127877921948759\n",
      "[3007, 2791] 0.20011192723318935\n",
      "[3008, 2796] 0.5247340865995997\n",
      "[3009, 2802] 0.6681978434603277\n",
      "[3010, 2813] 0.5839720854978264\n",
      "[3011, 2807] 0.610367633628402\n",
      "[3012, 2812] 0.6475923180702342\n",
      "[3013, 2796] 0.5440986898768212\n",
      "[3014, 2807] 0.6038143088517863\n",
      "[3015, 2808] 0.5766308655122551\n",
      "[3016, 2809] 0.5883272593862803\n",
      "[3017, 2813] 0.597991601123195\n",
      "[3018, 2813] 0.6102995711294876\n",
      "[3019, 2813] 0.6072119875750428\n",
      "[3020, 2845] 0.6346144150003298\n",
      "[3021, 2807] 0.5151529565904199\n",
      "[3022, 2821] 0.6753120725044773\n",
      "[3023, 2821] 0.2858741205916839\n",
      "[3024, 2834] 0.4467192287094416\n",
      "[3025, 2813] 0.5796667796820187\n",
      "[3026, 2847] 0.48249937506455975\n",
      "[3027, 2845] 0.5808173286652331\n",
      "[3028, 2821] 0.6021906617121817\n",
      "[3029, 2821] 0.3328185553824337\n",
      "[3030, 2821] 0.7356191856747742\n",
      "[3031, 2821] 0.5360658205817688\n",
      "[3032, 2824] 0.6179033996702746\n",
      "[3033, 2822] 0.38860970823600266\n",
      "[3034, 2826] 0.6486877193002839\n",
      "[3035, 2822] 0.4014703852256029\n",
      "[3036, 2845] 0.6206397850900044\n",
      "[3037, 2822] 0.3303855623331163\n",
      "[3038, 2830] 0.44814047465571644\n",
      "[3039, 2830] 0.5509317438966655\n",
      "[3040, 2832] 0.6421192913276673\n",
      "[3041, 2833] 0.6498038202701869\n",
      "[3042, 2834] 0.6164111978974187\n",
      "[3043, 2835] 0.5913556651129082\n",
      "[3044, 2847] 0.6190173093301902\n",
      "[3045, 2834] 0.5220891860864105\n",
      "[3046, 2837] 0.603599139313329\n",
      "[3047, 2837] 0.6125837623483524\n",
      "[3048, 2838] 0.4798083904534722\n",
      "[3049, 2868] 0.5801662410847197\n",
      "[3050, 2840] 0.6208514744603917\n",
      "[3051, 2841] 0.5901264797416226\n",
      "[3052, 2847] 0.5866790973406021\n",
      "[3053, 2847] 0.6427580518217914\n",
      "[3054, 2843] 0.6187457001518485\n",
      "[3055, 2845] 0.6503094319462523\n",
      "[3056, 2819] 0.5632343756290898\n",
      "[3057, 2847] 0.7295803492401027\n",
      "[3058, 2868] 0.4997925064973965\n",
      "[3059, 2847] 0.6855366810050925\n",
      "[3060, 2849] 0.5903370759892688\n",
      "[3061, 2850] 0.7770211841312076\n",
      "[3062, 2847] 0.5326987996421666\n",
      "[3063, 2868] 0.5632216878266516\n",
      "[3064, 2880] 0.5817429080142308\n",
      "[3065, 2854] 0.6528643648869757\n",
      "[3066, 2847] 0.5628005975121536\n",
      "[3067, 2868] 0.5837726895024775\n",
      "[3068, 2867] 0.5823115056444714\n",
      "[3069, 2859] 0.6615249367549103\n",
      "[3070, 2861] 0.578481345137991\n",
      "[3071, 2868] 0.542274137673635\n",
      "[3072, 2861] 0.613961295481613\n",
      "[3073, 2843] 0.5820980582264855\n",
      "[3074, 2847] 0.6547121258640092\n",
      "[3075, 2845] 0.5987832353458005\n",
      "[3076, 2875] 0.612292088842519\n",
      "[3077, 2868] 0.4992581591479005\n",
      "[3078, 2867] 0.6639720305743604\n",
      "[3079, 2847] 0.6002900110439365\n",
      "[3080, 2870] 0.5707628034881318\n",
      "[3081, 2871] 0.24658696399919489\n",
      "[3082, 2872] 0.4689082798819396\n",
      "[3083, 2873] 0.6571356043589138\n",
      "[3084, 2875] 0.5954920463970514\n",
      "[3085, 2875] 0.6442399091974932\n",
      "[3086, 2896] 0.5893384117862399\n",
      "[3087, 2896] 0.43422741939364456\n",
      "[3088, 2878] 0.6388750551339268\n",
      "[3089, 2879] 0.7258637037180914\n",
      "[3090, 2880] 0.639911125125546\n",
      "[3091, 2881] 0.5172095115411991\n",
      "[3092, 2882] 0.6521375753239239\n",
      "[3093, 2891] 0.6720551061786177\n",
      "[3094, 2913] 0.7312539914962229\n",
      "[3095, 2896] 0.5817620291780224\n",
      "[3096, 2886] 0.6594338718488485\n",
      "[3097, 2886] 0.6366442161408724\n",
      "[3098, 2884] 0.4807649734103686\n",
      "[3099, 2875] 0.4769373302106419\n",
      "[3100, 2894] 0.4842988849260318\n",
      "[3101, 2905] 0.6530487761048854\n",
      "[3102, 2890] 0.544138485383306\n",
      "[3103, 2891] 0.6187010717630929\n",
      "[3104, 2892] 0.6803974849753466\n",
      "[3105, 2893] 0.7027031175108892\n",
      "[3106, 2896] 0.5991063361962597\n",
      "[3107, 2907] 0.6509553938590663\n",
      "[3108, 2896] 0.5818394294509194\n",
      "[3109, 2886] 0.6431903447309162\n",
      "[3110, 2905] 0.565833744034733\n",
      "[3111, 2905] 0.6575452760745727\n",
      "[3112, 2899] 0.6880194159494483\n",
      "[3113, 2891] 0.6915057629234308\n",
      "[3114, 2901] 0.6263555882951426\n",
      "[3115, 2902] 0.655411694868076\n",
      "[3116, 2903] 0.6694616429549362\n",
      "[3117, 2904] 0.586575276004007\n",
      "[3118, 2946] 0.6179732751143062\n",
      "[3119, 2886] 0.551361852893042\n",
      "[3120, 2907] 0.6006032289754475\n",
      "[3121, 2909] 0.630346746111357\n",
      "[3122, 2892] 0.5719074326321415\n",
      "[3123, 2891] 0.6109166142169\n",
      "[3124, 2912] 0.7145172475046833\n",
      "[3125, 2913] 0.6787434560426865\n",
      "[3126, 2915] 0.4678428381140586\n",
      "[3127, 2915] 0.3674181100028456\n",
      "[3128, 2916] 0.7367946063798824\n",
      "[3129, 2918] 0.5916396979854661\n",
      "[3130, 2918] 0.5926565788520559\n",
      "[3131, 2905] 0.553898846893321\n",
      "[3132, 2920] 0.5883525065441835\n",
      "[3133, 2921] 0.7649246936057233\n",
      "[3134, 2922] 0.6699610565050852\n",
      "[3135, 2923] 0.6976151309132729\n",
      "[3136, 2924] 0.5928155507483438\n",
      "[3137, 2925] 0.7064299147450659\n",
      "[3138, 2926] 0.6094092104373429\n",
      "[3139, 2927] 0.5928155507483438\n",
      "[3140, 2936] 0.48379741215935024\n",
      "[3141, 2929] 0.884234935088087\n",
      "[3142, 2917] 0.4860317216078413\n",
      "[3143, 2931] 0.5574119146166148\n",
      "[3144, 2927] 0.5928155507483438\n",
      "[3145, 2933] 0.6760330387188576\n",
      "[3146, 2934] 0.5616106735276964\n",
      "[3147, 2935] 0.6649086317896404\n",
      "[3148, 2936] 0.8253459080703571\n",
      "[3149, 2924] 0.5928155507483438\n",
      "[3150, 2938] 0.7064299147450659\n",
      "[3151, 2927] 0.5928155507483438\n",
      "[3152, 2936] 0.5846957492481099\n",
      "[3153, 2941] 1.0\n",
      "[3154, 2942] 0.7503701876218076\n",
      "[3155, 2943] 0.5677347534518917\n",
      "[3156, 2944] 0.6566676733979632\n",
      "[3157, 2927] 0.5928155507483438\n",
      "[3158, 2946] 0.44257633785072503\n",
      "[3159, 2965] 0.5726094227132229\n",
      "[3160, 2905] 0.6911815799758094\n",
      "[3161, 2949] 0.7007710939662127\n",
      "[3162, 2950] 0.6855080030592038\n",
      "[3163, 2951] 0.6130275887914766\n",
      "[3164, 2927] 0.5928155507483438\n",
      "[3165, 2954] 0.6428771834303483\n",
      "[3166, 2907] 0.5678981675307186\n",
      "[3167, 2956] 0.49161127536058236\n",
      "[3168, 2927] 0.5928155507483438\n",
      "[3169, 2958] 0.6981432273533381\n",
      "[3170, 2905] 0.5359638951263738\n",
      "[3171, 2951] 0.6036316303014867\n",
      "[3172, 2960] 0.5899418895940686\n",
      "[3173, 2961] 0.6349482874861123\n",
      "[3174, 2953] 0.621234635799583\n",
      "[3175, 2967] 0.617908569672169\n",
      "[3176, 2963] 0.5740416787790992\n",
      "[3177, 2934] 0.4657843651573162\n",
      "[3178, 2959] 0.6637855662501874\n",
      "[3179, 2973] 0.1759116697370715\n",
      "[3180, 2967] 0.5017216902985457\n",
      "[3181, 2977] 0.5101656154620642\n",
      "[3182, 2944] 0.4155297806161718\n",
      "[3183, 2949] 0.5416169000173638\n",
      "[3184, 2973] 0.5601383156412603\n",
      "[3185, 2971] 0.6421192913276673\n",
      "[3186, 2972] 0.4807498567691361\n",
      "[3187, 2973] 0.7150015990782507\n",
      "[3188, 2995] 0.5261723471689285\n",
      "[3189, 2975] 0.6400974468285838\n",
      "[3190, 2976] 0.6543513709156725\n",
      "[3191, 2977] 0.6546144965288071\n",
      "[3192, 2958] 0.322721294699433\n",
      "[3193, 2994] 0.6476547187469974\n",
      "[3194, 2987] 0.43627194029741373\n",
      "[3195, 2994] 0.675630726340332\n",
      "[3196, 2994] 0.20423085584094725\n",
      "[3197, 2994] 0.6474647089235736\n",
      "[3198, 2974] 0.6022269358101299\n",
      "[3199, 2983] 0.5959087748975523\n",
      "[3200, 2987] 0.664596754449757\n",
      "[3201, 2984] 0.5684237002707131\n",
      "[3202, 2994] 0.5702203200907361\n",
      "[3203, 2994] 0.5816578381717936\n",
      "[3204, 2994] 0.6125234412583788\n",
      "[3205, 2987] 0.5451504210251575\n",
      "[3206, 2990] 0.5946703112889842\n",
      "[3207, 2997] 0.5828344379872767\n",
      "[3208, 2994] 0.5402455638833705\n",
      "[3209, 3013] 0.4756207472019213\n",
      "[3210, 2990] 0.641120068193117\n",
      "[3211, 2994] 0.6406604602583468\n",
      "[3212, 2994] 0.5949770005050703\n",
      "[3213, 2994] 0.6465301268907773\n",
      "[3214, 3021] 0.5740211888728352\n",
      "[3215, 2994] 0.4777798707877768\n",
      "[3216, 2998] 0.5520973825897325\n",
      "[3217, 2999] 0.6686198490907452\n",
      "[3218, 3000] 0.5428446042496937\n",
      "[3219, 2994] 0.6195902564229121\n",
      "[3220, 2987] 0.6309854588319456\n",
      "[3221, 2990] 0.6356586207033905\n",
      "[3222, 3005] 0.5872301461753295\n",
      "[3223, 3006] 0.7718058474050643\n",
      "[3224, 3007] 0.7873286669081127\n",
      "[3225, 2971] 0.6421192913276673\n",
      "[3226, 3009] 0.7668014344586445\n",
      "[3227, 3013] 0.4834997329738992\n",
      "[3228, 3009] 0.5358144078040039\n",
      "[3229, 2987] 0.5249346506353888\n",
      "[3230, 3013] 0.6414910587858925\n",
      "[3231, 3013] 0.5646235400571576\n",
      "[3232, 3014] 0.7101325614776491\n",
      "[3233, 3015] 0.5924947957615733\n",
      "[3234, 3016] 0.5361874702120318\n",
      "[3235, 2994] 0.5731425744712563\n",
      "[3236, 3017] 0.696412425996183\n",
      "[3237, 3020] 0.6001330576598538\n",
      "[3238, 3027] 0.6506852578867197\n",
      "[3239, 2994] 0.5154142450778189\n",
      "[3240, 3021] 0.6899708162368737\n",
      "[3241, 2987] 0.548831778366595\n",
      "[3242, 3021] 0.49664419418963435\n",
      "[3243, 3023] 0.562106692948912\n",
      "[3244, 3027] 0.5601206236346065\n",
      "[3245, 3034] 0.6437183465103752\n",
      "[3246, 3036] 0.6686887694790222\n",
      "[3247, 3026] 0.6767956179686124\n",
      "[3248, 3027] 0.6820214645002229\n",
      "[3249, 3042] 0.603036726615362\n"
     ]
    },
    {
     "name": "stdout",
     "output_type": "stream",
     "text": [
      "[3250, 3026] 0.5771845382597831\n",
      "[3251, 3027] 0.5487998038799997\n",
      "[3252, 3030] 0.5100542724749716\n",
      "[3253, 3031] 0.7318083168960302\n",
      "[3254, 3032] 0.5829150081670762\n",
      "[3255, 3033] 0.6586614895060251\n",
      "[3256, 3034] 0.690397302472794\n",
      "[3257, 3035] 0.5666807189178971\n",
      "[3258, 3036] 0.7151152179602512\n",
      "[3259, 3027] 0.6771095047089987\n",
      "[3260, 3038] 0.5807899510209943\n",
      "[3261, 3039] 0.6190045005345095\n",
      "[3262, 3040] 0.6196694348357482\n",
      "[3263, 3024] 0.5376250385141711\n",
      "[3264, 3042] 0.7627682228616331\n",
      "[3265, 3043] 0.7172610896705042\n",
      "[3266, 3044] 0.7576754759205234\n",
      "[3267, 3045] 0.6182154874691237\n",
      "[3268, 3046] 0.15874010519681997\n",
      "[3269, 3047] 0.5604989135059136\n",
      "[3270, 3043] 0.5656023996010133\n",
      "[3271, 3048] 0.653146714680644\n",
      "[3272, 3042] 0.6079332803199795\n",
      "[3273, 3050] 0.6421192913276673\n",
      "[3274, 3069] 0.5461867331942971\n",
      "[3275, 3034] 0.574675698839288\n",
      "[3276, 3050] 0.590304619974247\n",
      "[3277, 3054] 0.6272822308769547\n",
      "[3278, 3053] 0.6418666568014579\n",
      "[3279, 3056] 0.5823868332433454\n",
      "[3280, 3027] 0.5898086805402145\n",
      "[3281, 3057] 0.5945159284252945\n",
      "[3282, 3058] 0.4920368540772505\n",
      "[3283, 3041] 0.5029468407165472\n",
      "[3284, 3067] 0.5201663838976566\n",
      "[3285, 3026] 0.5745174323097504\n",
      "[3286, 3042] 0.5803235213604925\n",
      "[3287, 3066] 0.4941673205300082\n",
      "[3288, 3063] 0.6711194702559122\n",
      "[3289, 3079] 0.626998079965931\n",
      "[3290, 3055] 0.4544047450733633\n",
      "[3291, 3045] 0.5154175156836444\n",
      "[3292, 3065] 0.603846143923178\n",
      "[3293, 3040] 0.47445924365910513\n",
      "[3294, 3055] 0.4827446923028149\n",
      "[3295, 3063] 0.6007244023531217\n",
      "[3296, 3066] 0.5988344066783583\n",
      "[3297, 3067] 0.6487013072278687\n",
      "[3298, 3068] 0.641978905596087\n",
      "[3299, 3069] 0.7263557380583651\n",
      "[3300, 3057] 0.5541166467625813\n",
      "[3301, 3071] 0.7101457348859086\n",
      "[3302, 3098] 0.5970211328517417\n",
      "[3303, 3080] 0.6181408721762325\n",
      "[3304, 3080] 0.6357738839586277\n",
      "[3305, 3067] 0.6283550293105594\n",
      "[3306, 3079] 0.6514865163341914\n",
      "[3307, 3080] 0.561552700574853\n",
      "[3308, 3077] 0.6701152795220794\n",
      "[3309, 3078] 0.7280299465067205\n",
      "[3310, 3079] 0.7691149809474345\n",
      "[3311, 3080] 0.7810773869089431\n",
      "[3312, 3081] 0.706738225599582\n",
      "[3313, 3082] 0.6837626183035829\n",
      "[3314, 3083] 0.6361293687135229\n",
      "[3315, 3084] 0.6900231832545164\n",
      "[3316, 3085] 0.6772027747009781\n",
      "[3317, 3086] 0.5693976210205369\n",
      "[3318, 3084] 0.5981965748375735\n",
      "[3319, 3076] 0.5883091295164528\n",
      "[3320, 3091] 0.6094438238654745\n",
      "[3321, 3099] 0.7013624387689249\n",
      "[3322, 3091] 0.6353271155866389\n",
      "[3323, 3091] 0.560018470491333\n",
      "[3324, 3093] 0.7266585559698374\n",
      "[3325, 3091] 0.546744407061558\n",
      "[3326, 3102] 0.5484118170883993\n",
      "[3327, 3096] 0.5447560647415352\n",
      "[3328, 3097] 0.6598509285051368\n",
      "[3329, 3097] 0.6242195122965516\n",
      "[3330, 3099] 0.6005335806249582\n",
      "[3331, 3126] 0.5753617046220091\n",
      "[3332, 3101] 0.4171673980024558\n",
      "[3333, 3102] 0.4681713552337261\n",
      "[3334, 3103] 0.6550744695314727\n",
      "[3335, 3104] 0.5942736576550723\n",
      "[3336, 3126] 0.5419410138874211\n",
      "[3337, 3079] 0.625350602818057\n",
      "[3338, 3108] 0.8069657729609716\n",
      "[3339, 3122] 0.5554206862885501\n",
      "[3340, 3110] 0.5300243125813917\n",
      "[3341, 3111] 0.6600417149199254\n",
      "[3342, 3116] 0.49807634015748825\n",
      "[3343, 3113] 0.48357781824578644\n",
      "[3344, 3085] 0.6237298872295102\n",
      "[3345, 3115] 0.767824803334576\n",
      "[3346, 3093] 0.633809907377538\n",
      "[3347, 3149] 0.571733091819532\n",
      "[3348, 3118] 0.6513785069930224\n",
      "[3349, 3119] 0.7719388821575226\n",
      "[3350, 3120] 0.6378951103293838\n",
      "[3351, 3121] 0.7069806299736365\n",
      "[3352, 3135] 0.4807498567691361\n",
      "[3353, 3146] 0.5772870038031748\n",
      "[3354, 3102] 0.5609130962757815\n",
      "[3355, 3149] 0.5086291328057931\n",
      "[3356, 3126] 0.6638874897396556\n",
      "[3357, 3127] 0.8790500248145555\n",
      "[3358, 3102] 0.4848653004930272\n",
      "[3359, 3129] 0.6208293741699654\n",
      "[3360, 3130] 0.7403696153644055\n",
      "[3361, 3131] 0.5793959920446975\n",
      "[3362, 3132] 0.6267134636155985\n",
      "[3363, 3133] 0.7262579826726456\n",
      "[3364, 3105] 0.6101758612956217\n",
      "[3365, 3136] 0.6160079785010869\n",
      "[3366, 3122] 0.6221944181199626\n",
      "[3367, 3122] 0.5496447594519391\n",
      "[3368, 3138] 0.6299605249474366\n",
      "[3369, 3149] 0.6084189329895501\n",
      "[3370, 3140] 0.5438234993423166\n",
      "[3371, 3141] 0.6075851659099601\n",
      "[3372, 3149] 0.6545108385575915\n",
      "[3373, 3143] 0.6421192913276673\n",
      "[3374, 3144] 0.6858095105850717\n",
      "[3375, 3122] 0.5142529017590486\n",
      "[3376, 3144] 0.531283282280001\n",
      "[3377, 3146] 0.48786556259530095\n",
      "[3378, 3146] 0.7728302801045225\n",
      "[3379, 3122] 0.5939423240246796\n",
      "[3380, 3148] 0.6009040925979229\n",
      "[3381, 3165] 0.4401020250502278\n",
      "[3382, 3150] 0.6391159154761968\n",
      "[3383, 3151] 0.5899790693112382\n",
      "[3384, 3165] 0.5254639739619683\n",
      "[3385, 3162] 0.5740445410713262\n",
      "[3386, 3155] 0.5915197619927962\n",
      "[3387, 3161] 0.6129479360087406\n",
      "[3388, 3158] 0.6637918033563636\n",
      "[3389, 3167] 0.4110845832869499\n",
      "[3390, 3149] 0.6696883401657622\n",
      "[3391, 3161] 0.723627259982336\n",
      "[3392, 3162] 0.654422712812778\n",
      "[3393, 3141] 0.5841040357850636\n",
      "[3394, 3163] 0.5453040009098429\n",
      "[3395, 3162] 0.5589641785760505\n",
      "[3396, 3166] 0.5699702401421124\n",
      "[3397, 3166] 0.618285941509738\n",
      "[3398, 3167] 0.7174952364626219\n",
      "[3399, 3168] 0.5827197917671093\n",
      "[3400, 3151] 0.5215606195080973\n",
      "[3401, 3169] 0.47100403426383514\n",
      "[3402, 3159] 0.42660289981735233\n",
      "[3403, 3159] 0.6132563225533201\n",
      "[3404, 3162] 0.5956721509362244\n",
      "[3405, 3151] 0.5725812811375512\n",
      "[3406, 3159] 0.5838960669468659\n",
      "[3407, 3173] 0.459612363232595\n",
      "[3408, 3163] 0.5715447014712858\n",
      "[3409, 3170] 0.4501870471457292\n",
      "[3410, 3207] 0.5277384325457698\n",
      "[3411, 3175] 0.6421192913276673\n",
      "[3412, 3200] 0.46458826277667364\n",
      "[3413, 3207] 0.6160649703313171\n",
      "[3414, 3177] 0.7740112974440585\n",
      "[3415, 3170] 0.5871380609031556\n",
      "[3416, 3179] 0.5395645017933869\n",
      "[3417, 3185] 0.5811262249895358\n",
      "[3418, 3185] 0.6290142837270495\n",
      "[3419, 3183] 0.6073460351468252\n",
      "[3420, 3184] 0.7459736198545337\n",
      "[3421, 3185] 0.7708721342795637\n",
      "[3422, 3184] 0.5521258848283291\n",
      "[3423, 3187] 0.6782845281382861\n",
      "[3424, 3188] 0.561026034161008\n",
      "[3425, 3189] 0.6451755621740007\n",
      "[3426, 3220] 0.5552743437220297\n",
      "[3427, 3218] 0.5658687972380619\n",
      "[3428, 3220] 0.5450602664096882\n",
      "[3429, 3218] 0.6498840406454903\n",
      "[3430, 3194] 0.727928250960776\n",
      "[3431, 3195] 0.6107410061231553\n",
      "[3432, 3197] 0.5108729549290354\n",
      "[3433, 3196] 0.6299605249474366\n",
      "[3434, 3200] 0.4177429950251501\n",
      "[3435, 3197] 0.5349194562298933\n",
      "[3436, 3196] 0.6299605249474366\n",
      "[3437, 3200] 0.3968502629920499\n",
      "[3438, 3200] 0.6731805903466739\n",
      "[3439, 3201] 0.6082351753514997\n",
      "[3440, 3184] 0.6277023823450223\n",
      "[3441, 3178] 0.4404201889833168\n",
      "[3442, 3204] 0.708867170743921\n",
      "[3443, 3184] 0.47101551185968993\n",
      "[3444, 3206] 0.6791030314300043\n",
      "[3445, 3207] 0.554135493626538\n",
      "[3446, 3223] 0.5517531634630768\n",
      "[3447, 3208] 0.6110765643718603\n",
      "[3448, 3209] 0.6069315311084769\n",
      "[3449, 3210] 0.5753662738813158\n",
      "[3450, 3191] 0.5437254566142402\n",
      "[3451, 3220] 0.5342503312166671\n",
      "[3452, 3222] 0.6088526755232486\n",
      "[3453, 3191] 0.5861221643935043\n",
      "[3454, 3214] 0.573801955843607\n",
      "[3455, 3223] 0.49875817142113904\n",
      "[3456, 3216] 0.5990809780614557\n",
      "[3457, 3220] 0.5419409846422971\n",
      "[3458, 3218] 0.6384406321204158\n",
      "[3459, 3222] 0.5798231057835737\n",
      "[3460, 3221] 0.5359062875612558\n",
      "[3461, 3194] 0.4949491496245647\n",
      "[3462, 3218] 0.5294489028410833\n",
      "[3463, 3194] 0.4908595641038207\n",
      "[3464, 3223] 0.610667736962199\n",
      "[3465, 3218] 0.5795929201533362\n",
      "[3466, 3225] 0.613944641486271\n",
      "[3467, 3218] 0.5603698271784979\n",
      "[3468, 3225] 0.5536396969656113\n",
      "[3469, 3191] 0.5771423613508672\n",
      "[3470, 3228] 0.470510688528313\n",
      "[3471, 3218] 0.35577832404712006\n",
      "[3472, 3232] 0.37125985052773836\n",
      "[3473, 3250] 0.3324699880575488\n",
      "[3474, 3240] 0.31117436621021044\n",
      "[3475, 3242] 0.47320411624830117\n",
      "[3476, 3255] 0.5638986458436906\n",
      "[3477, 3239] 0.5526977059269432\n",
      "[3478, 3252] 0.562915790358862\n",
      "[3479, 3253] 0.4847049309549312\n",
      "[3480, 3236] 0.2419991325749651\n",
      "[3481, 3237] 0.5481401076278755\n",
      "[3482, 3238] 0.5940216415350906\n",
      "[3483, 3242] 0.6349536949502449\n",
      "[3484, 3243] 0.581075225589765\n",
      "[3485, 3238] 0.5172483167090903\n",
      "[3486, 3256] 0.5707597465041829\n",
      "[3487, 3240] 0.5497730603791825\n",
      "[3488, 3245] 0.6453227774598126\n",
      "[3489, 3253] 0.4812832088712287\n",
      "[3490, 3243] 0.5848125778613255\n",
      "[3491, 3240] 0.4538242209726656\n",
      "[3492, 3242] 0.5361266034532619\n",
      "[3493, 3240] 0.48648032070641706\n",
      "[3494, 3245] 0.572742686323055\n",
      "[3495, 3245] 0.5589651701366303\n",
      "[3496, 3251] 0.5712389454678979\n",
      "[3497, 3252] 0.6108378550067803\n",
      "[3498, 3250] 0.5574365280130218\n",
      "[3499, 3276] 0.22620146804957555\n",
      "[3500, 3252] 0.5247712044828279\n",
      "[3501, 3239] 0.6368281318098716\n",
      "[3502, 3256] 0.6276309145594035\n",
      "[3503, 3257] 0.6579271866915518\n",
      "[3504, 3258] 0.5898426676012499\n",
      "[3505, 3259] 0.6282704600019244\n",
      "[3506, 3260] 0.625043280325308\n",
      "[3507, 3261] 0.611635110725747\n",
      "[3508, 3262] 0.6421192913276673\n",
      "[3509, 3281] 0.5681599448974012\n"
     ]
    },
    {
     "name": "stdout",
     "output_type": "stream",
     "text": [
      "[3510, 3261] 0.4989191687516537\n",
      "[3511, 3265] 0.6605189900561075\n",
      "[3512, 3266] 0.724472490525851\n",
      "[3513, 3267] 0.7439429846511775\n",
      "[3514, 3268] 0.6597937232616613\n",
      "[3515, 3269] 0.744245053280443\n",
      "[3516, 3271] 0.2893482522326843\n",
      "[3517, 3271] 0.6625373885984804\n",
      "[3518, 3272] 0.7879183257323409\n",
      "[3519, 3273] 0.7816048034278001\n",
      "[3520, 3272] 0.752785374797281\n",
      "[3521, 3275] 0.5072856807913079\n",
      "[3522, 3271] 0.4666114563122383\n",
      "[3523, 3253] 0.5652019071690279\n",
      "[3524, 3276] 0.5363637784355547\n",
      "[3525, 3276] 0.7617105413254258\n",
      "[3526, 3275] 0.4723782267843568\n",
      "[3527, 3248] 0.5621479290912251\n",
      "[3528, 3279] 0.661320445043017\n",
      "[3529, 3295] 0.5781911352786361\n",
      "[3530, 3271] 0.4707695471136181\n",
      "[3531, 3259] 0.5729096378913404\n",
      "[3532, 3282] 0.5694378981638138\n",
      "[3533, 3298] 0.5241356851510904\n",
      "[3534, 3284] 0.510827229718378\n",
      "[3535, 3259] 0.5580688772580104\n",
      "[3536, 3266] 0.47621660317813924\n",
      "[3537, 3261] 0.4893134491735664\n",
      "[3538, 3287] 0.6889917208772347\n",
      "[3539, 3266] 0.4638765349932711\n",
      "[3540, 3289] 0.686021534610631\n",
      "[3541, 3290] 0.6652179534092609\n",
      "[3542, 3259] 0.673288059264162\n",
      "[3543, 3292] 0.6075540071205844\n",
      "[3544, 3293] 0.6461356984932818\n",
      "[3545, 3297] 0.5823963100088342\n",
      "[3546, 3295] 0.4356040403946713\n",
      "[3547, 3261] 0.4476768250351918\n",
      "[3548, 3276] 0.6350133642822117\n",
      "[3549, 3297] 0.6942033420100134\n",
      "[3550, 3298] 0.6619640947322581\n",
      "[3551, 3303] 0.5809905547506664\n",
      "[3552, 3300] 0.5880723759241927\n",
      "[3553, 3295] 0.5035638878541134\n",
      "[3554, 3296] 0.5897738663522589\n",
      "[3555, 3292] 0.5504111875197436\n",
      "[3556, 3306] 0.6649870196917044\n",
      "[3557, 3306] 0.7289119504908722\n",
      "[3558, 3295] 0.5851544338943256\n",
      "[3559, 3308] 0.5741578102550845\n",
      "[3560, 3309] 0.4369466980651204\n",
      "[3561, 3314] 0.252852193860165\n",
      "[3562, 3312] 0.7508766446351831\n",
      "[3563, 3313] 0.6421192913276673\n",
      "[3564, 3314] 0.6674423396684354\n",
      "[3565, 3298] 0.5624067461907286\n",
      "[3566, 3316] 0.5718101014652829\n",
      "[3567, 3314] 0.5322773702815651\n",
      "[3568, 3324] 0.6213482887975995\n",
      "[3569, 3312] 0.47549843065809383\n",
      "[3570, 3314] 0.5344062641033909\n",
      "[3571, 3332] 0.5340009253340352\n",
      "[3572, 3314] 0.48338242565638073\n",
      "[3573, 3335] 0.5731347813652549\n",
      "[3574, 3323] 0.6464996413482406\n",
      "[3575, 3323] 0.6597770825334829\n",
      "[3576, 3324] 0.7646356343728338\n",
      "[3577, 3325] 0.6336984207121491\n",
      "[3578, 3338] 0.5661077938961204\n",
      "[3579, 3335] 0.5352841561421275\n",
      "[3580, 3333] 0.6840042399011425\n",
      "[3581, 3333] 0.6454683705110701\n",
      "[3582, 3335] 0.5550038063395881\n",
      "[3583, 3332] 0.5602568641638751\n",
      "[3584, 3312] 0.4521632256403288\n",
      "[3585, 3330] 0.6341532931479239\n",
      "[3586, 3348] 0.503378480861778\n",
      "[3587, 3358] 0.5866408631218643\n",
      "[3588, 3324] 0.5679714276407404\n",
      "[3589, 3332] 0.5871640472914378\n",
      "[3590, 3333] 0.6520023920159258\n",
      "[3591, 3324] 0.7343603019324522\n",
      "[3592, 3335] 0.645489073392228\n",
      "[3593, 3336] 0.6449436447321737\n",
      "[3594, 3376] 0.5732276606756183\n",
      "[3595, 3338] 0.5985639537751966\n",
      "[3596, 3370] 0.6175159718477653\n",
      "[3597, 3340] 0.6208137742660924\n",
      "[3598, 3369] 0.5878088659994848\n",
      "[3599, 3360] 0.29825135409477843\n",
      "[3600, 3343] 0.7797865487994047\n",
      "[3601, 3379] 0.5480210504148513\n",
      "[3602, 3345] 0.6569070243653485\n",
      "[3603, 3376] 0.22813770565347274\n",
      "[3604, 3361] 0.7310044345532165\n",
      "[3605, 3347] 0.594392195276313\n",
      "[3606, 3331] 0.6051470609415611\n",
      "[3607, 3349] 0.5984084805885754\n",
      "[3608, 3351] 0.6327839748899966\n",
      "[3609, 3358] 0.5472097077723749\n",
      "[3610, 3331] 0.5842630634643734\n",
      "[3611, 3354] 0.7587304711008128\n",
      "[3612, 3358] 0.6223716786258526\n",
      "[3613, 3356] 0.5166502669398906\n",
      "[3614, 3377] 0.620075674116902\n",
      "[3615, 3358] 0.7554403534823972\n",
      "[3616, 3331] 0.5474398924859861\n",
      "[3617, 3360] 0.7005098326638468\n",
      "[3618, 3367] 0.8059537140599857\n",
      "[3619, 3368] 0.6100571057229125\n",
      "[3620, 3365] 0.7341570008519694\n",
      "[3621, 3368] 0.6290100770818287\n",
      "[3622, 3347] 0.6551853485522242\n",
      "[3623, 3367] 0.7546562480277642\n",
      "[3624, 3368] 0.6500802968760384\n",
      "[3625, 3369] 0.8628439447346439\n",
      "[3626, 3384] 0.6368624782857094\n",
      "[3627, 3370] 0.6914785514825332\n",
      "[3628, 3376] 0.5626852822666514\n",
      "[3629, 3397] 0.6168139671482368\n",
      "[3630, 3398] 0.6213996730269502\n",
      "[3631, 3347] 0.6551853485522242\n",
      "[3632, 3369] 0.5432174232985799\n",
      "[3633, 3379] 0.5278124121424244\n",
      "[3634, 3347] 0.6551853485522242\n",
      "[3635, 3378] 0.639492829091424\n",
      "[3636, 3388] 0.5882953019719013\n",
      "[3637, 3370] 0.5713623828366846\n",
      "[3638, 3379] 0.5209028297287371\n",
      "[3639, 3347] 0.6551853485522242\n",
      "[3640, 3383] 0.6189553654630446\n",
      "[3641, 3369] 0.5452438143513713\n",
      "[3642, 3376] 0.6140008171059692\n",
      "[3643, 3369] 0.5438968900643633\n",
      "[3644, 3397] 0.5494837458728083\n",
      "[3645, 3358] 0.5902521497694677\n",
      "[3646, 3379] 0.5776904829001975\n",
      "[3647, 3376] 0.5643374423911811\n",
      "[3648, 3379] 0.49264854119602397\n",
      "[3649, 3399] 0.47140397521682137\n",
      "[3650, 3393] 0.5933279977129108\n",
      "[3651, 3367] 0.6329138570426366\n",
      "[3652, 3393] 0.6352682038560048\n",
      "[3653, 3367] 0.5811868975863546\n",
      "[3654, 3393] 0.6182952814755667\n",
      "[3655, 3367] 0.5643764581045696\n",
      "[3656, 3401] 0.6206168509317405\n",
      "[3657, 3365] 0.5692440899748361\n",
      "[3658, 3388] 0.5468740948972325\n",
      "[3659, 3421] 0.6514694369308297\n",
      "[3660, 3398] 0.5693622841712828\n",
      "[3661, 3367] 0.5843505058205106\n",
      "[3662, 3407] 0.566707958316519\n",
      "[3663, 3377] 0.6726227859013122\n",
      "[3664, 3367] 0.48970254106981304\n",
      "[3665, 3367] 0.545164582185338\n",
      "[3666, 3398] 0.5209041166976977\n",
      "[3667, 3404] 0.6984933348611544\n",
      "[3668, 3421] 0.5614934401694013\n",
      "[3669, 3406] 0.8323129460931542\n",
      "[3670, 3407] 0.5648189869665702\n",
      "[3671, 3408] 0.528548797838331\n",
      "[3672, 3408] 0.5482415879264239\n",
      "[3673, 3404] 0.6308797601863017\n",
      "[3674, 3411] 0.6719196871431344\n",
      "[3675, 3412] 0.7448628524756677\n",
      "[3676, 3406] 0.6710314513190908\n",
      "[3677, 3413] 0.7120500202237211\n",
      "[3678, 3408] 0.23806899881377205\n",
      "[3679, 3432] 0.6299605249474366\n",
      "[3680, 3416] 0.5848035476425733\n",
      "[3681, 3395] 0.6354662922565717\n",
      "[3682, 3442] 0.4581441237492595\n",
      "[3683, 3404] 0.513348861163058\n",
      "[3684, 3422] 0.5138419648613067\n",
      "[3685, 3445] 0.5484215435284512\n",
      "[3686, 3406] 0.5312072863081466\n",
      "[3687, 3419] 0.5894683212402226\n",
      "[3688, 3406] 0.5579828695850634\n",
      "[3689, 3421] 0.6364520517483943\n",
      "[3690, 3487] 0.4989979933065488\n",
      "[3691, 3421] 0.5637853860599763\n",
      "[3692, 3486] 0.5240219362414389\n",
      "[3693, 3477] 0.4228845279057461\n",
      "[3694, 3480] 0.6061364795803478\n",
      "[3695, 3486] 0.5646719649058902\n",
      "[3696, 3486] 0.6517074496356304\n",
      "[3697, 3466] 0.4822949225551486\n",
      "[3698, 3431] 0.52000491192322\n",
      "[3699, 3416] 0.7368062997280773\n",
      "[3700, 3433] 0.7387200909212384\n",
      "[3701, 3463] 0.6189008292888538\n",
      "[3702, 3435] 0.5893319545437224\n",
      "[3703, 3431] 0.5385159347928692\n",
      "[3704, 3437] 0.6431620475365534\n",
      "[3705, 3442] 0.6844494261988806\n",
      "[3706, 3422] 0.5202829640610037\n",
      "[3707, 3416] 0.7368062997280773\n",
      "[3708, 3440] 0.6747632985812465\n",
      "[3709, 3441] 0.6225316078368545\n",
      "[3710, 3408] 0.5749149107488103\n",
      "[3711, 3416] 0.5928155507483438\n",
      "[3712, 3444] 0.5262493997656457\n",
      "[3713, 3445] 0.532216619203025\n",
      "[3714, 3478] 0.6524779401948106\n",
      "[3715, 3486] 0.48034587146492486\n",
      "[3716, 3436] 0.545035691447032\n",
      "[3717, 3486] 0.613982654153627\n",
      "[3718, 3478] 0.5928155507483438\n",
      "[3719, 3449] 0.5720446190676965\n",
      "[3720, 3468] 0.7313138216860873\n",
      "[3721, 3454] 0.5788545897916786\n",
      "[3722, 3463] 0.6243651719675275\n",
      "[3723, 3456] 0.6368837224276866\n",
      "[3724, 3457] 0.6423512996645852\n",
      "[3725, 3463] 0.6359757776638373\n",
      "[3726, 3464] 0.611067380665428\n",
      "[3727, 3453] 0.5921654626035406\n",
      "[3728, 3442] 0.6867936492538407\n",
      "[3729, 3472] 0.704465973126315\n",
      "[3730, 3463] 0.652401214189847\n",
      "[3731, 3464] 0.6371010518157979\n",
      "[3732, 3478] 0.5928155507483438\n",
      "[3733, 3442] 0.5900652553629009\n",
      "[3734, 3467] 0.6419072192968839\n",
      "[3735, 3463] 0.6519032535861398\n",
      "[3736, 3464] 0.6402089110071313\n",
      "[3737, 3463] 0.6243651719675275\n",
      "[3738, 3471] 0.6814202223120523\n",
      "[3739, 3472] 0.6527981531408877\n",
      "[3740, 3463] 0.7076434690457762\n",
      "[3741, 3474] 0.607515424650838\n",
      "[3742, 3475] 0.5970854165120314\n",
      "[3743, 3476] 0.65373608224621\n",
      "[3744, 3477] 0.6654626795391663\n",
      "[3745, 3455] 0.6142536372406342\n",
      "[3746, 3479] 0.5848110681676142\n",
      "[3747, 3480] 0.6693832856395213\n",
      "[3748, 3481] 0.5927149921059712\n",
      "[3749, 3482] 0.7080033834304779\n",
      "[3750, 3437] 0.6517438536790069\n",
      "[3751, 3487] 0.5400262666311756\n",
      "[3752, 3478] 0.6575600873035969\n",
      "[3753, 3477] 0.3668808054327363\n",
      "[3754, 3477] 0.3668808054327363\n",
      "[3755, 3442] 0.4983944843591659\n",
      "[3756, 3445] 0.5254560515582368\n",
      "[3757, 3487] 0.7352680775091828\n",
      "[3758, 3488] 0.6199210456615457\n",
      "[3759, 3489] 0.577702502334036\n",
      "[3760, 3490] 0.7176309331959477\n",
      "[3761, 3499] 0.4965045894420498\n",
      "[3762, 3499] 0.5628913301416484\n",
      "[3763, 3488] 0.4117136231001073\n",
      "[3764, 3494] 0.8855488076521759\n",
      "[3765, 3495] 0.4803055405670491\n",
      "[3766, 3496] 0.6421192913276673\n",
      "[3767, 3497] 0.8107349367327964\n",
      "[3768, 3498] 0.8254818122236567\n",
      "[3769, 3499] 0.6497237515880634\n",
      "[3770, 3507] 0.5353381283152671\n",
      "[3771, 3507] 0.4392444644889211\n",
      "[3772, 3502] 0.5722077797502853\n",
      "[3773, 3516] 0.5534778957643396\n",
      "[3774, 3504] 0.5792560671961863\n",
      "[3775, 3506] 0.621234064578452\n",
      "[3776, 3518] 0.5245687017942248\n",
      "[3777, 3508] 0.6081541284238227\n",
      "[3778, 3509] 0.7101491643858816\n",
      "[3779, 3510] 0.7068547711223645\n",
      "[3780, 3511] 0.6992825883013353\n",
      "[3781, 3512] 0.7260099733879083\n",
      "[3782, 3516] 0.590645989933013\n",
      "[3783, 3516] 0.6675234375803559\n",
      "[3784, 3517] 0.6180515602988057\n",
      "[3785, 3518] 0.7501224184200831\n",
      "[3786, 3518] 0.522468223641437\n",
      "[3787, 3521] 0.7014370727163941\n",
      "[3788, 3521] 0.7014370727163941\n",
      "[3789, 3522] 0.47796020812562445\n",
      "[3790, 3516] 0.4747360463809128\n",
      "[3791, 3505] 0.487669362323316\n",
      "[3792, 3499] 0.5393204951863317\n",
      "[3793, 3526] 0.5739285519653488\n",
      "[3794, 3518] 0.45714426883598924\n",
      "[3795, 3499] 0.57041875548513\n",
      "[3796, 3494] 0.7694870940645459\n",
      "[3797, 3526] 0.4762679327266141\n",
      "[3798, 3574] 0.4928687041846188\n",
      "[3799, 3562] 0.4283903258678411\n",
      "[3800, 3531] 0.5166379085519022\n",
      "[3801, 3554] 0.5452087538031418\n",
      "[3802, 3533] 0.6606774581083373\n",
      "[3803, 3534] 0.5408584780047121\n",
      "[3804, 3535] 0.7493630007592923\n",
      "[3805, 3558] 0.441667655549386\n",
      "[3806, 3570] 0.6700135513706704\n",
      "[3807, 3537] 0.8044858190543551\n",
      "[3808, 3537] 0.7663094323935531\n",
      "[3809, 3537] 0.8044858190543551\n",
      "[3810, 3540] 0.6209868631766927\n",
      "[3811, 3541] 0.5474307281624208\n",
      "[3812, 3553] 0.3719886629907863\n",
      "[3813, 3543] 0.55015655976881\n",
      "[3814, 3545] 0.5685742520125929\n",
      "[3815, 3597] 0.5653488874930557\n",
      "[3816, 3574] 0.5737377709684508\n",
      "[3817, 3548] 0.5747352921718001\n",
      "[3818, 3549] 0.5776106098092562\n",
      "[3819, 3550] 0.6418818204299042\n",
      "[3820, 3549] 0.5793377741477417\n",
      "[3821, 3597] 0.5963188038839181\n",
      "[3822, 3597] 0.4739680590496572\n",
      "[3823, 3554] 0.5926312188872221\n",
      "[3824, 3587] 0.5728822198475749\n",
      "[3825, 3556] 0.8973171131813006\n",
      "[3826, 3561] 0.8018835824989566\n",
      "[3827, 3558] 0.6769471345596118\n",
      "[3828, 3557] 0.7368062997280773\n",
      "[3829, 3560] 0.8193557523678934\n",
      "[3830, 3561] 0.8018835824989566\n",
      "[3831, 3562] 0.6066167755272175\n",
      "[3832, 3557] 0.7368062997280773\n",
      "[3833, 3564] 0.6041370263256723\n",
      "[3834, 3561] 0.8018835824989566\n",
      "[3835, 3597] 0.5389279843668153\n",
      "[3836, 3537] 0.8044858190543551\n",
      "[3837, 3568] 0.6595641503768344\n",
      "[3838, 3569] 0.5453094524012821\n",
      "[3839, 3570] 0.7836207720682328\n",
      "[3840, 3571] 0.7430225477772525\n",
      "[3841, 3572] 0.5302082863448524\n",
      "[3842, 3573] 0.6192162566719932\n",
      "[3843, 3574] 0.6504181733680946\n",
      "[3844, 3575] 0.5515181898069856\n",
      "[3845, 3576] 0.6644894249462312\n",
      "[3846, 3597] 0.547049507385334\n",
      "[3847, 3597] 0.49163144821360644\n",
      "[3848, 3553] 0.5166654254962173\n",
      "[3849, 3579] 0.6892279832515312\n",
      "[3850, 3573] 0.5118819735190652\n",
      "[3851, 3630] 0.5159591920549441\n",
      "[3852, 3630] 0.5649918158355184\n",
      "[3853, 3597] 0.5734988834040038\n",
      "[3854, 3627] 0.5723549036866629\n",
      "[3855, 3601] 0.25367822942300833\n",
      "[3856, 3559] 0.6618655729962807\n",
      "[3857, 3587] 0.6299605249474366\n",
      "[3858, 3567] 0.5313292845913056\n",
      "[3859, 3587] 0.6631762013160653\n",
      "[3860, 3589] 0.7937005259840998\n",
      "[3861, 3559] 0.7080895448089145\n",
      "[3862, 3567] 0.7027830956832656\n",
      "[3863, 3592] 0.6421192913276673\n",
      "[3864, 3598] 0.6099515934228545\n",
      "[3865, 3594] 0.7629996333842864\n",
      "[3866, 3595] 0.7181448966772945\n",
      "[3867, 3596] 0.5224684340817553\n",
      "[3868, 3597] 0.6954421621696467\n",
      "[3869, 3598] 0.8332967452706544\n",
      "[3870, 3598] 0.5925020228929201\n",
      "[3871, 3630] 0.5264452264747688\n",
      "[3872, 3630] 0.46826084817630936\n",
      "[3873, 3601] 0.6010232221439302\n",
      "[3874, 3669] 0.45987116250788895\n",
      "[3875, 3604] 0.7107512044758976\n",
      "[3876, 3603] 0.6758002217303778\n",
      "[3877, 3629] 0.561321609045845\n",
      "[3878, 3637] 0.527314845757125\n",
      "[3879, 3603] 0.6758002217303778\n",
      "[3880, 3657] 0.4481404746557165\n",
      "[3881, 3603] 0.6758002217303778\n",
      "[3882, 3611] 0.7830012686599512\n",
      "[3883, 3603] 0.6758002217303778\n",
      "[3884, 3613] 0.9244816991341795\n",
      "[3885, 3603] 0.6758002217303778\n",
      "[3886, 3615] 0.5418500007802629\n",
      "[3887, 3616] 0.6654093365213299\n",
      "[3888, 3629] 0.6008303537419464\n",
      "[3889, 3670] 0.48130912828218353\n",
      "[3890, 3597] 0.49924671961068956\n",
      "[3891, 3620] 0.6960778499838732\n",
      "[3892, 3630] 0.583336123067066\n",
      "[3893, 3597] 0.6787448277351071\n",
      "[3894, 3630] 0.5137348512965022\n",
      "[3895, 3598] 0.5731937993400898\n",
      "[3896, 3597] 0.708698448084303\n",
      "[3897, 3629] 0.6264118349228806\n",
      "[3898, 3631] 0.5453681769990225\n",
      "[3899, 3582] 0.44914215506286786\n",
      "[3900, 3629] 0.6004899411168106\n",
      "[3901, 3669] 0.5018792756427352\n",
      "[3902, 3629] 0.5985132020070486\n",
      "[3903, 3675] 0.5677688443056039\n",
      "[3904, 3669] 0.5732074237001898\n",
      "[3905, 3687] 0.5259186438879555\n",
      "[3906, 3630] 0.5533112143976006\n",
      "[3907, 3676] 0.6367382516430937\n",
      "[3908, 3637] 0.7631428283688879\n",
      "[3909, 3638] 0.7119461963602244\n",
      "[3910, 3639] 0.8849288729528879\n",
      "[3911, 3640] 0.8575250511998259\n",
      "[3912, 3641] 0.6078924867389062\n",
      "[3913, 3637] 1.0\n",
      "[3914, 3643] 0.6886120754786371\n",
      "[3915, 3644] 0.8796352655156838\n",
      "[3916, 3647] 0.7076097562813249\n",
      "[3917, 3639] 0.8719133223931445\n",
      "[3918, 3641] 0.5230651019817879\n",
      "[3919, 3620] 0.4607944277914207\n",
      "[3920, 3661] 0.7075313963508617\n",
      "[3921, 3637] 1.0\n",
      "[3922, 3653] 0.9080493680746857\n",
      "[3923, 3653] 0.8348121888460089\n",
      "[3924, 3655] 0.8050301546000095\n",
      "[3925, 3684] 0.4518272751777849\n",
      "[3926, 3637] 1.0\n",
      "[3927, 3657] 0.5771918026357451\n",
      "[3928, 3620] 0.4457168766035922\n",
      "[3929, 3659] 0.5268758631113879\n",
      "[3930, 3660] 0.6221496636586823\n",
      "[3931, 3661] 0.5136543361512201\n"
     ]
    },
    {
     "name": "stdout",
     "output_type": "stream",
     "text": [
      "[3932, 3671] 0.6766308101993632\n",
      "[3933, 3671] 0.6647469760178462\n",
      "[3934, 3663] 0.528872641182362\n",
      "[3935, 3669] 0.6522971169783746\n",
      "[3936, 3613] 0.6322851235933076\n",
      "[3937, 3663] 0.5488009760725169\n",
      "[3938, 3670] 0.519950071107782\n",
      "[3939, 3641] 0.4807498567691361\n",
      "[3940, 3693] 0.5600542930993436\n",
      "[3941, 3671] 0.8685978731800508\n",
      "[3942, 3672] 0.5433889234754011\n",
      "[3943, 3675] 0.43690661027725664\n",
      "[3944, 3675] 0.5250676346363644\n",
      "[3945, 3675] 0.5871902807229789\n",
      "[3946, 3676] 0.4570672127027183\n",
      "[3947, 3677] 0.6758002217303778\n",
      "[3948, 3677] 0.4644571477303146\n",
      "[3949, 3677] 0.6758002217303778\n",
      "[3950, 3680] 0.7479663404864463\n",
      "[3951, 3681] 0.646505266912522\n",
      "[3952, 3682] 0.6133154247203909\n",
      "[3953, 3683] 0.6213282485262557\n",
      "[3954, 3649] 0.4286186644837004\n",
      "[3955, 3675] 0.4381381841944505\n",
      "[3956, 3686] 0.5956877114409271\n",
      "[3957, 3648] 0.5618252732725647\n",
      "[3958, 3655] 0.5862439562877573\n",
      "[3959, 3693] 0.5073754561762109\n",
      "[3960, 3694] 0.5104895124870542\n",
      "[3961, 3688] 0.4924052076521616\n",
      "[3962, 3678] 0.4287169226437747\n",
      "[3963, 3663] 0.5313292845913056\n",
      "[3964, 3687] 0.6030980376377233\n",
      "[3965, 3693] 0.6935555154530101\n",
      "[3966, 3687] 0.5570055744395721\n",
      "[3967, 3692] 0.540204010938587\n",
      "[3968, 3678] 0.5048121556619497\n",
      "[3969, 3634] 0.49435234574292886\n",
      "[3970, 3698] 0.4709369970176778\n",
      "[3971, 3699] 0.30537198186692704\n",
      "[3972, 3712] 0.49150857906236384\n",
      "[3973, 3708] 0.4619746951839635\n",
      "[3974, 3722] 0.5015001915265799\n",
      "[3975, 3702] 0.6309949142868997\n",
      "[3976, 3708] 0.5613447023967775\n",
      "[3977, 3748] 0.5166170817926756\n",
      "[3978, 3708] 0.5478346772355662\n",
      "[3979, 3751] 0.5709287003975358\n",
      "[3980, 3706] 0.5676080420895991\n",
      "[3981, 3744] 0.5385750261237798\n",
      "[3982, 3751] 0.5204374664010908\n",
      "[3983, 3729] 0.44283814649618974\n",
      "[3984, 3708] 0.7311543495728878\n",
      "[3985, 3757] 0.5702928675673055\n",
      "[3986, 3708] 0.5114264641284998\n",
      "[3987, 3722] 0.46777787798574316\n",
      "[3988, 3756] 0.4453093185174439\n",
      "[3989, 3722] 0.25660393645242674\n",
      "[3990, 3715] 0.7720991847238461\n",
      "[3991, 3717] 0.5831049912466412\n",
      "[3992, 3719] 0.668519356525561\n",
      "[3993, 3720] 0.6421192913276673\n",
      "[3994, 3702] 0.47475419993138124\n",
      "[3995, 3726] 0.5700622881751274\n",
      "[3996, 3723] 0.8707274709853271\n",
      "[3997, 3724] 0.7844328405690024\n",
      "[3998, 3725] 0.8391831451106548\n",
      "[3999, 3726] 0.6622374032245902\n",
      "[4000, 3727] 0.7221915393495671\n",
      "[4001, 3735] 0.5097444448314117\n",
      "[4002, 3722] 0.5312746154598783\n",
      "[4003, 3756] 0.48855857321439\n",
      "[4004, 3712] 0.42569262051668166\n",
      "[4005, 3730] 0.4841595441572517\n",
      "[4006, 3763] 0.5151163864060968\n",
      "[4007, 3732] 0.6871635034352077\n",
      "[4008, 3722] 0.4677427559844314\n",
      "[4009, 3768] 0.5489184534712993\n",
      "[4010, 3735] 0.5833375273198994\n",
      "[4011, 3718] 0.8087200329342966\n",
      "[4012, 3748] 0.5484383038332661\n",
      "[4013, 3713] 0.4680570893553918\n",
      "[4014, 3763] 0.5873573577966443\n",
      "[4015, 3751] 0.8398196716942032\n",
      "[4016, 3724] 0.5409919277615988\n",
      "[4017, 3753] 0.571565644408538\n",
      "[4018, 3754] 0.6925555803953939\n",
      "[4019, 3755] 0.6731805903466739\n",
      "[4020, 3758] 0.5875088705556923\n",
      "[4021, 3759] 0.5694856714434912\n",
      "[4022, 3760] 0.679736662939279\n",
      "[4023, 3761] 0.5736395622341768\n",
      "[4024, 3770] 0.5513574773261481\n",
      "[4025, 3803] 0.5329620281143403\n",
      "[4026, 3797] 0.6565093903414881\n",
      "[4027, 3765] 0.6012760628194261\n",
      "[4028, 3766] 0.5690815923867013\n",
      "[4029, 3794] 0.6847811196969833\n",
      "[4030, 3771] 0.5373977032805423\n",
      "[4031, 3770] 0.6362312346703255\n",
      "[4032, 3771] 0.6243450246610045\n",
      "[4033, 3773] 0.9262005464554\n",
      "[4034, 3774] 0.6321835388196431\n",
      "[4035, 3775] 0.888708664851305\n",
      "[4036, 3776] 0.6456958083076695\n",
      "[4037, 3775] 0.8758966620804131\n",
      "[4038, 3778] 0.7526669772228737\n",
      "[4039, 3748] 0.5524657178729827\n",
      "[4040, 3756] 0.5515259063859815\n",
      "[4041, 3782] 0.8458003443346235\n",
      "[4042, 3795] 0.4593346158940995\n",
      "[4043, 3784] 0.900368975113492\n",
      "[4044, 3785] 0.6114214174657597\n",
      "[4045, 3784] 0.6018397968729383\n",
      "[4046, 3817] 0.7343420462049963\n",
      "[4047, 3787] 0.6593106668198262\n",
      "[4048, 3788] 0.4868761270551461\n",
      "[4049, 3789] 0.9550465008875589\n",
      "[4050, 3790] 0.6563510309247529\n",
      "[4051, 3791] 0.8364518706676846\n",
      "[4052, 3799] 0.5559423666118367\n",
      "[4053, 3793] 0.6190639478939297\n",
      "[4054, 3794] 1.0\n",
      "[4055, 3796] 0.7800087119531917\n",
      "[4056, 3797] 0.6722440490334551\n",
      "[4057, 3798] 0.918308169866222\n",
      "[4058, 3787] 0.5331607818172466\n",
      "[4059, 3800] 0.6206191339790822\n",
      "[4060, 3801] 0.5939425792232892\n",
      "[4061, 3786] 0.49009439187685144\n",
      "[4062, 3777] 0.5520523054256741\n",
      "[4063, 3803] 0.7446095970193771\n",
      "[4064, 3804] 0.9131476686063424\n",
      "[4065, 3805] 0.4807498567691361\n",
      "[4066, 3806] 0.7722010356337583\n",
      "[4067, 3792] 0.5691366559862567\n",
      "[4068, 3800] 0.5535767349825642\n",
      "[4069, 3809] 0.5835925098211809\n",
      "[4070, 3810] 0.9051073736775309\n",
      "[4071, 3811] 0.4308869380063768\n",
      "[4072, 3812] 0.8334879487416721\n",
      "[4073, 3798] 0.9390241873003551\n",
      "[4074, 3814] 0.6167221225457276\n",
      "[4075, 3815] 0.4840894060179828\n",
      "[4076, 3800] 0.537329564997393\n",
      "[4077, 3817] 0.45182132567058153\n",
      "[4078, 3800] 0.5154892751232192\n",
      "[4079, 3792] 0.5238212937822159\n",
      "[4080, 3799] 0.7469007910928608\n",
      "[4081, 3792] 0.5542680313922081\n",
      "[4082, 3850] 0.2233930842542346\n",
      "[4083, 3800] 0.5225740095973074\n",
      "[4084, 3820] 0.517012071883811\n",
      "[4085, 3823] 0.5861703890250287\n",
      "[4086, 3822] 0.41765795089426994\n",
      "[4087, 3859] 0.5772280699871621\n",
      "[4088, 3863] 0.41398996098971297\n",
      "[4089, 3852] 0.48430436567522805\n",
      "[4090, 3850] 0.5478545910644195\n",
      "[4091, 3850] 0.4949992831640299\n",
      "[4092, 3836] 0.4765535208640813\n",
      "[4093, 3830] 0.5358046386326616\n",
      "[4094, 3859] 0.543227300469761\n",
      "[4095, 3855] 0.5596047611447715\n",
      "[4096, 3863] 0.5746283261797993\n",
      "[4097, 3850] 0.4973775095829037\n",
      "[4098, 3830] 0.6514241825418012\n",
      "[4099, 3831] 1.0\n",
      "[4100, 3839] 0.8295887545137923\n",
      "[4101, 3844] 0.8402650836286422\n",
      "[4102, 3841] 0.8080932608318444\n",
      "[4103, 3843] 0.8011345258285293\n",
      "[4104, 3845] 0.4807498567691361\n",
      "[4105, 3831] 1.0\n",
      "[4106, 3838] 0.8572081732184847\n",
      "[4107, 3844] 0.8144378578026963\n",
      "[4108, 3840] 0.8855488076521759\n",
      "[4109, 3841] 0.8555746172436385\n",
      "[4110, 3838] 0.8258973224316102\n",
      "[4111, 3848] 0.8220508071665185\n",
      "[4112, 3844] 0.8517276919718503\n",
      "[4113, 3845] 0.5684367439851988\n",
      "[4114, 3831] 1.0\n",
      "[4115, 3840] 0.6692811167927518\n",
      "[4116, 3831] 1.0\n",
      "[4117, 3847] 0.8829594688729022\n",
      "[4118, 3848] 0.9377979678218276\n",
      "[4119, 3849] 0.8594743500430883\n",
      "[4120, 3850] 0.7244020781927684\n",
      "[4121, 3851] 0.5354758936991713\n",
      "[4122, 3868] 0.44402737578448287\n",
      "[4123, 3859] 0.5201980861962656\n",
      "[4124, 3854] 0.5134047349259045\n",
      "[4125, 3850] 0.505803588216379\n",
      "[4126, 3823] 0.4994409439664649\n",
      "[4127, 3850] 0.500426303094711\n",
      "[4128, 3823] 0.5620835676082353\n",
      "[4129, 3859] 0.6235639244349095\n",
      "[4130, 3858] 0.5751028842875271\n",
      "[4131, 3863] 0.6053860481204918\n",
      "[4132, 3850] 0.5275761515659808\n",
      "[4133, 3859] 0.6262105460378885\n",
      "[4134, 3890] 0.4744235229104807\n",
      "[4135, 3866] 0.5428835233189814\n",
      "[4136, 3862] 0.5218658122207058\n",
      "[4137, 3859] 0.6017646131409462\n",
      "[4138, 3883] 0.5458984542424393\n",
      "[4139, 3905] 0.5045042399837752\n",
      "[4140, 3866] 0.5967415959636685\n",
      "[4141, 3867] 0.5888272794745771\n",
      "[4142, 3877] 0.4803865783766061\n",
      "[4143, 3878] 0.5017728795739885\n",
      "[4144, 3911] 0.6715464972654002\n",
      "[4145, 3871] 0.6886917736443662\n",
      "[4146, 3872] 0.7991128542062479\n",
      "[4147, 3873] 0.5763045365073058\n",
      "[4148, 3906] 1.0\n",
      "[4149, 3873] 0.5763045365073058\n",
      "[4150, 3876] 0.5226877067556532\n",
      "[4151, 3877] 0.8839487622606792\n",
      "[4152, 3878] 0.6998613986103632\n",
      "[4153, 3879] 0.7944909048015686\n",
      "[4154, 3880] 0.860591338729516\n",
      "[4155, 3874] 1.0\n",
      "[4156, 3882] 0.8423808395357107\n",
      "[4157, 3883] 0.8970934167508492\n",
      "[4158, 3874] 1.0\n",
      "[4159, 3885] 0.6677949149035517\n",
      "[4160, 3874] 1.0\n",
      "[4161, 3885] 0.6677949149035517\n",
      "[4162, 3886] 0.7698766165648647\n",
      "[4163, 3898] 0.5912304748660182\n",
      "[4164, 3874] 1.0\n",
      "[4165, 3889] 0.5792767564036194\n",
      "[4166, 3872] 0.6698344608159585\n",
      "[4167, 3874] 0.8508641730230011\n",
      "[4168, 3892] 0.5428835233189814\n",
      "[4169, 3901] 0.7547974988611987\n",
      "[4170, 3896] 0.6364268472906693\n",
      "[4171, 3874] 1.0\n",
      "[4172, 3896] 0.657656553154792\n",
      "[4173, 3897] 0.7534817538944734\n",
      "[4174, 3898] 0.6406835781853286\n",
      "[4175, 3874] 1.0\n",
      "[4176, 3861] 0.5018858820698819\n",
      "[4177, 3901] 0.7066417536899228\n",
      "[4178, 3904] 0.6082201995573401\n",
      "[4179, 3874] 1.0\n",
      "[4180, 3904] 0.6423158288562368\n",
      "[4181, 3905] 0.6590527363721923\n",
      "[4182, 3874] 1.0\n",
      "[4183, 3907] 0.7789599605462191\n",
      "[4184, 3898] 0.5053683746922071\n",
      "[4185, 3898] 0.42989783066768067\n",
      "[4186, 3863] 0.5478765837203606\n",
      "[4187, 3901] 0.3952103671655625\n",
      "[4188, 3912] 0.4609796131498697\n",
      "[4189, 3927] 0.506542099788928\n",
      "[4190, 3911] 0.5652065933962379\n",
      "[4191, 3914] 0.5571098196418645\n",
      "[4192, 3915] 0.5669259972653716\n",
      "[4193, 3927] 0.4695933611301258\n",
      "[4194, 3911] 0.5809983472236088\n",
      "[4195, 3934] 0.16314745255808602\n",
      "[4196, 3919] 0.788660631437383\n",
      "[4197, 3920] 0.5723571212766659\n",
      "[4198, 3948] 0.42984578497898246\n",
      "[4199, 3953] 0.6035106634577653\n",
      "[4200, 3931] 0.6045292163662249\n",
      "[4201, 3948] 0.45837979327012823\n",
      "[4202, 3948] 0.5\n",
      "[4203, 3921] 0.6753315591925487\n",
      "[4204, 3922] 0.6271900801531575\n",
      "[4205, 3923] 0.5653073893475656\n",
      "[4206, 3922] 0.5126391081953845\n",
      "[4207, 3953] 0.5888040393415856\n",
      "[4208, 3931] 0.4918813605327372\n"
     ]
    },
    {
     "name": "stdout",
     "output_type": "stream",
     "text": [
      "[4209, 3926] 0.5339492380459017\n",
      "[4210, 3927] 0.5645627555525176\n",
      "[4211, 3936] 0.4386434791788885\n",
      "[4212, 3929] 0.5533893311328221\n",
      "[4213, 3934] 0.5232113481849547\n",
      "[4214, 3931] 0.5100713125976298\n",
      "[4215, 3932] 0.6294696374523296\n",
      "[4216, 3931] 0.4492778606415596\n",
      "[4217, 3941] 0.6344841162908468\n",
      "[4218, 3936] 0.6889880176838619\n",
      "[4219, 3938] 0.7883735163105243\n",
      "[4220, 3938] 0.814325284978472\n",
      "[4221, 3962] 0.7631428283688879\n",
      "[4222, 3940] 0.5855814584958552\n",
      "[4223, 3941] 0.6843384433312477\n",
      "[4224, 3953] 0.5679579047387653\n",
      "[4225, 3953] 0.5086498343869906\n",
      "[4226, 3944] 0.5729830971106367\n",
      "[4227, 3931] 0.536100303300639\n",
      "[4228, 3922] 0.4837308710144438\n",
      "[4229, 3952] 0.45318887451039097\n",
      "[4230, 3953] 0.5347323567157123\n",
      "[4231, 3948] 0.6624012183082382\n",
      "[4232, 3949] 0.5549744942348454\n",
      "[4233, 3957] 0.6086596243921031\n",
      "[4234, 3931] 0.4792814627579638\n",
      "[4235, 3953] 0.6753387656475183\n",
      "[4236, 3954] 0.6576846673298006\n",
      "[4237, 3956] 0.5196470354802076\n",
      "[4238, 3957] 0.6751599943589294\n",
      "[4239, 3958] 0.6266414356113333\n",
      "[4240, 3949] 0.6164543275813116\n",
      "[4241, 3990] 0.4339558949866042\n",
      "[4242, 3949] 0.48854237996181077\n",
      "[4243, 3978] 0.2589075061209151\n",
      "[4244, 3962] 0.7951980776971667\n",
      "[4245, 3962] 0.6927204594990941\n",
      "[4246, 3962] 0.53278299712901\n",
      "[4247, 3965] 0.6421192913276673\n",
      "[4248, 3974] 0.43675932145242763\n",
      "[4249, 3953] 0.5762153849031285\n",
      "[4250, 3967] 0.5484388257539526\n",
      "[4251, 3976] 0.4261865368877029\n",
      "[4252, 4004] 0.4689447522430056\n",
      "[4253, 3985] 0.5199945346189532\n",
      "[4254, 3974] 0.5027802738712129\n",
      "[4255, 3972] 0.6163004755754826\n",
      "[4256, 3957] 0.5268143087529824\n",
      "[4257, 3974] 0.5612020846565037\n",
      "[4258, 3975] 0.5421757213125492\n",
      "[4259, 3976] 0.5649241416633476\n",
      "[4260, 3976] 0.5688486185746402\n",
      "[4261, 3978] 0.525208475937213\n",
      "[4262, 3957] 0.6133581909041369\n",
      "[4263, 3979] 0.4650506258449656\n",
      "[4264, 3982] 0.6013846483244353\n",
      "[4265, 3985] 0.5023454456497236\n",
      "[4266, 3986] 0.633818158077119\n",
      "[4267, 3986] 0.5291191087544208\n",
      "[4268, 3991] 0.5346972173550233\n",
      "[4269, 3992] 0.564984705324014\n",
      "[4270, 3965] 0.5122881226984192\n",
      "[4271, 4002] 0.48385302208874836\n",
      "[4272, 3994] 0.5760091114133915\n",
      "[4273, 3995] 0.5825772121451541\n",
      "[4274, 3997] 0.545342569319585\n",
      "[4275, 3997] 0.6262451556366073\n",
      "[4276, 3974] 0.6678148977671412\n",
      "[4277, 4015] 0.5453529053944244\n",
      "[4278, 3978] 0.5590263986357157\n",
      "[4279, 4011] 0.5609132997426166\n",
      "[4280, 3974] 0.5112351842669576\n",
      "[4281, 3978] 0.558721489047823\n",
      "[4282, 4003] 0.6562532818790786\n",
      "[4283, 4013] 0.46350583847795945\n",
      "[4284, 4005] 0.6764419634753251\n",
      "[4285, 4006] 0.6137820687608558\n",
      "[4286, 4012] 0.4976819230999043\n",
      "[4287, 3976] 0.4882841380467273\n",
      "[4288, 4015] 0.5541012347577358\n",
      "[4289, 3974] 0.5673943011051289\n",
      "[4290, 4011] 0.6297533729960518\n",
      "[4291, 4012] 0.5227510503418848\n",
      "[4292, 4013] 0.6373355807895814\n",
      "[4293, 4003] 0.5750489123397219\n",
      "[4294, 4015] 0.5587123051996501\n",
      "[4295, 4016] 0.6493559884120897\n",
      "[4296, 4006] 0.49401890379599356\n",
      "[4297, 4014] 0.5002669514655591\n",
      "[4298, 4014] 0.5041554069091996\n",
      "[4299, 3998] 0.5879938628331729\n",
      "[4300, 4004] 0.5179570964118981\n",
      "[4301, 4020] 0.6062858825242451\n",
      "[4302, 4052] 0.6165735188813167\n",
      "[4303, 4052] 0.637049249439764\n",
      "[4304, 4023] 0.5513370533142506\n",
      "[4305, 4026] 0.5649370974079817\n",
      "[4306, 4052] 0.4931739279983897\n",
      "[4307, 4052] 0.5692814259292349\n",
      "[4308, 4026] 0.7184680615151485\n",
      "[4309, 4045] 0.16768398140362017\n",
      "[4310, 4028] 0.5362856201457028\n",
      "[4311, 4045] 0.5949071475221908\n",
      "[4312, 4029] 0.5980806796048583\n",
      "[4313, 4043] 0.4058546449583419\n",
      "[4314, 4030] 0.5678022981026293\n",
      "[4315, 4029] 0.5050965254511103\n",
      "[4316, 4039] 0.43835556339195847\n",
      "[4317, 4052] 0.5531726642757387\n",
      "[4318, 4039] 0.5696878242263889\n",
      "[4319, 4045] 0.5957849864724761\n",
      "[4320, 4039] 0.48092784636583835\n",
      "[4321, 4026] 0.5784851486716176\n",
      "[4322, 4033] 0.5721444038387208\n",
      "[4323, 4031] 0.5622884435344995\n",
      "[4324, 4034] 0.7500291500780822\n",
      "[4325, 4035] 0.7049069908992882\n",
      "[4326, 4052] 0.6725492719561924\n",
      "[4327, 4052] 0.6317233338759602\n",
      "[4328, 4052] 0.6121408952094998\n",
      "[4329, 4039] 0.5479780779712601\n",
      "[4330, 4040] 0.6761947037990251\n",
      "[4331, 4045] 0.5130259397285949\n",
      "[4332, 4042] 0.523723712438895\n",
      "[4333, 4033] 0.48284313363377274\n",
      "[4334, 4044] 0.5796465322380986\n",
      "[4335, 4031] 0.5622884435344995\n",
      "[4336, 4045] 0.7976676867921053\n",
      "[4337, 4045] 0.7396461072096926\n",
      "[4338, 4047] 0.6152880883108754\n",
      "[4339, 4050] 0.4184069963266602\n",
      "[4340, 4049] 0.543199120197525\n",
      "[4341, 4052] 0.5421383645386098\n",
      "[4342, 4045] 0.5961416694034236\n",
      "[4343, 4031] 0.5622884435344995\n",
      "[4344, 4052] 0.7941726858372717\n",
      "[4345, 4045] 0.7896634112959957\n",
      "[4346, 4075] 0.5836028582405371\n",
      "[4347, 4074] 0.6136852886681566\n",
      "[4348, 4031] 0.5622884435344995\n",
      "[4349, 4052] 0.79180624545053\n",
      "[4350, 4045] 0.7240940654755461\n",
      "[4351, 4057] 0.5295281879962935\n",
      "[4352, 4047] 0.4997041910646497\n",
      "[4353, 4059] 0.6301786896777325\n",
      "[4354, 4052] 0.5770576680588108\n",
      "[4355, 4045] 0.600672346918858\n",
      "[4356, 4048] 0.26099117607792427\n",
      "[4357, 4079] 0.6729507673872958\n",
      "[4358, 4063] 0.6123441334734693\n",
      "[4359, 4045] 0.6164476608146171\n",
      "[4360, 4048] 0.26099117607792427\n",
      "[4361, 4079] 0.6689428430734408\n",
      "[4362, 4065] 0.5123804178756921\n",
      "[4363, 4066] 0.5766551410865834\n",
      "[4364, 4052] 0.47696426773055495\n",
      "[4365, 4068] 0.5547274646926261\n",
      "[4366, 4039] 0.5168327211269572\n",
      "[4367, 4076] 0.43301462116282957\n",
      "[4368, 4048] 0.26099117607792427\n",
      "[4369, 4079] 0.7144907155250514\n",
      "[4370, 4071] 0.7946180996635934\n",
      "[4371, 4039] 0.42515906728906844\n",
      "[4372, 4052] 0.6156927853517946\n",
      "[4373, 4074] 0.679155322847821\n",
      "[4374, 4075] 0.6247180876292643\n",
      "[4375, 4076] 0.5477785399197225\n",
      "[4376, 4098] 0.537809548674848\n",
      "[4377, 4077] 0.7294041378281406\n",
      "[4378, 4100] 0.6196980690182311\n",
      "[4379, 4100] 0.659155314450455\n",
      "[4380, 4106] 0.5090666404634856\n",
      "[4381, 4100] 0.6171865540638137\n",
      "[4382, 4098] 0.3968502629920499\n",
      "[4383, 4086] 0.7053013982465262\n",
      "[4384, 4106] 0.63484505051327\n",
      "[4385, 4083] 0.6685673226995383\n",
      "[4386, 4084] 0.6602066530314501\n",
      "[4387, 4098] 0.537809548674848\n",
      "[4388, 4085] 0.6384969054829234\n",
      "[4389, 4086] 0.7053013982465262\n",
      "[4390, 4106] 0.40166597777690083\n",
      "[4391, 4092] 0.5929366945609473\n",
      "[4392, 4106] 0.5671326504741886\n",
      "[4393, 4089] 0.4675426686521358\n",
      "[4394, 4090] 0.5340821427342531\n",
      "[4395, 4074] 0.4778875951613145\n",
      "[4396, 4092] 0.5961480495288718\n",
      "[4397, 4100] 0.5855427544365264\n",
      "[4398, 4090] 0.20789600830764587\n",
      "[4399, 4095] 0.6241183645253996\n",
      "[4400, 4096] 0.609921881304892\n",
      "[4401, 4097] 0.7049485456859719\n",
      "[4402, 4096] 0.6299605249474366\n",
      "[4403, 4100] 0.5479440266457629\n",
      "[4404, 4076] 0.6036522942779511\n",
      "[4405, 4118] 0.5774567441845541\n",
      "[4406, 4106] 0.5139277416851685\n",
      "[4407, 4122] 0.5522042483627941\n",
      "[4408, 4123] 0.6131463153292416\n",
      "[4409, 4100] 0.5553942842551114\n",
      "[4410, 4106] 0.591025196997162\n",
      "[4411, 4106] 0.4921550814918407\n",
      "[4412, 4108] 0.6515770163090965\n",
      "[4413, 4131] 0.4856412258904794\n",
      "[4414, 4100] 0.5421704028657996\n",
      "[4415, 4112] 0.6119005612278366\n",
      "[4416, 4107] 0.5967503487527835\n",
      "[4417, 4114] 0.7631428283688879\n",
      "[4418, 4131] 0.529674889273129\n",
      "[4419, 4131] 0.5281204812295234\n",
      "[4420, 4122] 0.4698749352667134\n",
      "[4421, 4100] 0.6344817824953927\n",
      "[4422, 4122] 0.5892931616883973\n",
      "[4423, 4123] 0.5823814852817196\n",
      "[4424, 4124] 0.5690607271136425\n",
      "[4425, 4100] 0.6389575642971385\n",
      "[4426, 4106] 0.5386264038969918\n",
      "[4427, 4131] 0.4526756708527834\n",
      "[4428, 4100] 0.5724437600318899\n",
      "[4429, 4130] 0.5812036433067753\n",
      "[4430, 4131] 0.744658486508642\n",
      "[4431, 4132] 0.5856793212376553\n",
      "[4432, 4131] 0.44096310858971804\n",
      "[4433, 4122] 0.5600622838617901\n",
      "[4434, 4135] 0.5614758182378953\n",
      "[4435, 4135] 0.6320115192472003\n",
      "[4436, 4135] 0.5348073222166098\n",
      "[4437, 4131] 0.48503995403092054\n",
      "[4438, 4137] 0.5675199893340792\n",
      "[4439, 4138] 0.6128366280695207\n",
      "[4440, 4139] 0.5562711956764047\n",
      "[4441, 4140] 0.7892000967909418\n",
      "[4442, 4138] 0.5669134243915324\n",
      "[4443, 4149] 0.3190180229606767\n",
      "[4444, 4143] 0.5622828100358139\n",
      "[4445, 4184] 0.6238248860069919\n",
      "[4446, 4184] 0.5427741533599215\n",
      "[4447, 4177] 0.5155529567660138\n",
      "[4448, 4150] 0.5423317881702601\n",
      "[4449, 4147] 0.6027398762435151\n",
      "[4450, 4148] 0.6267916363116276\n",
      "[4451, 4149] 0.5029343970677128\n",
      "[4452, 4150] 0.6054798794498332\n",
      "[4453, 4189] 0.542124300663366\n",
      "[4454, 4184] 0.5827737303428854\n",
      "[4455, 4177] 0.47759536873460295\n",
      "[4456, 4189] 0.5868907393321212\n",
      "[4457, 4153] 0.4755189513755097\n",
      "[4458, 4154] 0.39783904225205974\n",
      "[4459, 4189] 0.4397427639741541\n",
      "[4460, 4174] 0.45436931624504184\n",
      "[4461, 4141] 0.5729235138329493\n",
      "[4462, 4181] 0.304677894412465\n",
      "[4463, 4159] 1.0\n",
      "[4464, 4160] 0.8690066612216124\n",
      "[4465, 4176] 1.0\n",
      "[4466, 4163] 0.7173491935396459\n",
      "[4467, 4163] 0.7327879405575054\n",
      "[4468, 4164] 0.7020489364278453\n",
      "[4469, 4198] 0.4860305970220653\n",
      "[4470, 4212] 0.4807831883862049\n",
      "[4471, 4198] 0.5773032670474858\n",
      "[4472, 4167] 0.5505663649553525\n",
      "[4473, 4175] 0.43400489694303007\n",
      "[4474, 4213] 0.5468060196181949\n"
     ]
    },
    {
     "name": "stdout",
     "output_type": "stream",
     "text": [
      "[4475, 4169] 0.6255026413664292\n",
      "[4476, 4170] 0.40399437125875864\n",
      "[4477, 4189] 0.5854936580903077\n",
      "[4478, 4172] 0.6833926768372145\n",
      "[4479, 4173] 0.963958998336572\n",
      "[4480, 4174] 0.8009705794812281\n",
      "[4481, 4175] 0.690176215047398\n",
      "[4482, 4161] 0.8970525154308222\n",
      "[4483, 4177] 0.727498872992337\n",
      "[4484, 4212] 0.6157259955996519\n",
      "[4485, 4179] 0.728748572625502\n",
      "[4486, 4176] 0.7448628524756679\n",
      "[4487, 4181] 0.7005098326638468\n",
      "[4488, 4184] 0.7867112540804417\n",
      "[4489, 4184] 0.7960710819519576\n",
      "[4490, 4185] 0.812275346078561\n",
      "[4491, 4159] 1.0\n",
      "[4492, 4186] 0.82296412118929\n",
      "[4493, 4176] 0.7448628524756679\n",
      "[4494, 4188] 0.8164398935536568\n",
      "[4495, 4189] 0.8628439447346439\n",
      "[4496, 4190] 0.7868851477942452\n",
      "[4497, 4179] 0.5086161656014858\n",
      "[4498, 4176] 0.7448628524756679\n",
      "[4499, 4193] 0.7501648751489153\n",
      "[4500, 4189] 0.6360940897637415\n",
      "[4501, 4193] 0.5210700079906696\n",
      "[4502, 4177] 0.6384918267755381\n",
      "[4503, 4193] 0.5918240931723524\n",
      "[4504, 4177] 0.607976502822242\n",
      "[4505, 4190] 0.5903954101578167\n",
      "[4506, 4179] 0.5790955526131757\n",
      "[4507, 4199] 0.5523890074078628\n",
      "[4508, 4198] 0.5937712586826256\n",
      "[4509, 4199] 0.5486174164146804\n",
      "[4510, 4176] 0.6758002217303778\n",
      "[4511, 4176] 0.7448628524756679\n",
      "[4512, 4176] 0.7990635300581406\n",
      "[4513, 4176] 0.7448628524756679\n",
      "[4514, 4176] 0.7990635300581406\n",
      "[4515, 4176] 0.7448628524756679\n",
      "[4516, 4176] 0.7990635300581406\n",
      "[4517, 4176] 0.7448628524756679\n",
      "[4518, 4176] 0.7990635300581406\n",
      "[4519, 4176] 0.7448628524756679\n",
      "[4520, 4176] 0.7990635300581406\n",
      "[4521, 4176] 0.7448628524756679\n",
      "[4522, 4209] 0.688502985681483\n",
      "[4523, 4212] 0.5846350176184839\n",
      "[4524, 4213] 0.6450921611615585\n",
      "[4525, 4249] 0.591643435981715\n",
      "[4526, 4213] 0.601824056247529\n",
      "[4527, 4225] 0.6670662733036067\n",
      "[4528, 4247] 0.6070965922976731\n",
      "[4529, 4218] 0.6487094135124045\n",
      "[4530, 4258] 0.589454795458918\n",
      "[4531, 4212] 0.6049060902284819\n",
      "[4532, 4243] 0.7049693549354696\n",
      "[4533, 4222] 0.6685039206268975\n",
      "[4534, 4223] 0.5885299573030838\n",
      "[4535, 4198] 0.5673983053307669\n",
      "[4536, 4225] 0.7135203834829382\n",
      "[4537, 4253] 0.5373050366683217\n",
      "[4538, 4222] 0.558871355908478\n",
      "[4539, 4247] 0.5338088955063566\n",
      "[4540, 4230] 0.5763045365073058\n",
      "[4541, 4234] 0.6318435168241782\n",
      "[4542, 4237] 0.537809548674848\n",
      "[4543, 4234] 0.7221323578743084\n",
      "[4544, 4198] 0.5329790355343369\n",
      "[4545, 4236] 0.7020294304213887\n",
      "[4546, 4273] 0.6966660847312173\n",
      "[4547, 4234] 0.6318435168241782\n",
      "[4548, 4254] 0.6556280462107504\n",
      "[4549, 4215] 0.5739029272067543\n",
      "[4550, 4268] 0.5132247544371259\n",
      "[4551, 4243] 0.7363112108367469\n",
      "[4552, 4271] 0.5873148822396363\n",
      "[4553, 4247] 0.5520355735114174\n",
      "[4554, 4262] 0.4222333724234741\n",
      "[4555, 4261] 0.5857495542052069\n",
      "[4556, 4249] 0.5847874315804039\n",
      "[4557, 4252] 0.696281519563225\n",
      "[4558, 4253] 0.6788931851236246\n",
      "[4559, 4254] 0.5308436498391919\n",
      "[4560, 4222] 0.5487142701621746\n",
      "[4561, 4257] 0.6222649828710122\n",
      "[4562, 4258] 0.6546577657066606\n",
      "[4563, 4268] 0.5551789062804519\n",
      "[4564, 4260] 0.715706283247876\n",
      "[4565, 4261] 0.676891630722243\n",
      "[4566, 4262] 0.6028142486979211\n",
      "[4567, 4263] 0.6911101150320916\n",
      "[4568, 4268] 0.5463223016345616\n",
      "[4569, 4265] 0.7554921931998506\n",
      "[4570, 4243] 0.5003064070512481\n",
      "[4571, 4247] 0.544740148187491\n",
      "[4572, 4268] 0.570940389935026\n",
      "[4573, 4243] 0.5553279336539938\n",
      "[4574, 4278] 0.42581674143595816\n",
      "[4575, 4271] 0.5516204933800641\n",
      "[4576, 4271] 0.252949455356905\n",
      "[4577, 4273] 0.733685481439488\n",
      "[4578, 4273] 0.6385408077376465\n",
      "[4579, 4276] 0.4592897248105712\n",
      "[4580, 4273] 0.5916439754600906\n",
      "[4581, 4277] 0.5502764552151973\n",
      "[4582, 4280] 0.6230207180245656\n",
      "[4583, 4279] 0.7125637985346545\n",
      "[4584, 4280] 0.8505879502180094\n",
      "[4585, 4281] 0.661890161782911\n",
      "[4586, 4281] 0.5846829695880952\n",
      "[4587, 4260] 0.5179943308196729\n",
      "[4588, 4284] 0.5355542915460454\n",
      "[4589, 4299] 0.5765557623852285\n",
      "[4590, 4283] 0.5422987990987507\n",
      "[4591, 4284] 0.5515298944627973\n",
      "[4592, 4284] 0.6058358962290693\n",
      "[4593, 4287] 0.5406014116558238\n",
      "[4594, 4267] 0.5102626413164773\n",
      "[4595, 4286] 0.5978095640899184\n",
      "[4596, 4299] 0.5637352309037427\n",
      "[4597, 4280] 0.5607902790129493\n",
      "[4598, 4319] 0.7211247851537042\n",
      "[4599, 4262] 0.5377856945663222\n",
      "[4600, 4288] 0.5147042654896711\n",
      "[4601, 4284] 0.596991483756367\n",
      "[4602, 4285] 0.5624265095683465\n",
      "[4603, 4293] 0.5634244894394812\n",
      "[4604, 4297] 0.6142032105059843\n",
      "[4605, 4326] 0.47523372551487825\n",
      "[4606, 4295] 0.6296366250056593\n",
      "[4607, 4332] 0.5971659517006901\n",
      "[4608, 4297] 0.6240439414993452\n",
      "[4609, 4284] 0.613460307371037\n",
      "[4610, 4299] 0.6145395570257106\n",
      "[4611, 4285] 0.5473652380740173\n",
      "[4612, 4284] 0.5422373037482062\n",
      "[4613, 4341] 0.5529093551541696\n",
      "[4614, 4299] 0.5524424012562532\n",
      "[4615, 4308] 0.7374777773896737\n",
      "[4616, 4307] 0.7966197421192522\n",
      "[4617, 4317] 0.7306143574062803\n",
      "[4618, 4279] 0.5794570911101976\n",
      "[4619, 4308] 0.6826924810955317\n",
      "[4620, 4326] 0.6115618718834499\n",
      "[4621, 4331] 0.6232863355268582\n",
      "[4622, 4307] 0.7966197421192522\n",
      "[4623, 4317] 0.7306143574062803\n",
      "[4624, 4307] 0.4165667014742371\n",
      "[4625, 4314] 0.6398052482828323\n",
      "[4626, 4308] 0.6826924810955317\n",
      "[4627, 4326] 0.6115618718834499\n",
      "[4628, 4331] 0.7331881298936396\n",
      "[4629, 4318] 0.8071350217632639\n",
      "[4630, 4317] 0.7306143574062803\n",
      "[4631, 4327] 0.5562066440600866\n",
      "[4632, 4320] 0.41429766746051455\n",
      "[4633, 4321] 0.9041781046733681\n",
      "[4634, 4283] 0.5412187332714019\n",
      "[4635, 4322] 0.6411016183448888\n",
      "[4636, 4281] 0.5653892831068408\n",
      "[4637, 4323] 0.6333990547900997\n",
      "[4638, 4324] 0.43948180078119664\n",
      "[4639, 4317] 0.7863373430430503\n",
      "[4640, 4304] 0.5486666534417379\n",
      "[4641, 4327] 0.5428835233189814\n",
      "[4642, 4304] 0.5056991356677397\n",
      "[4643, 4326] 0.510781986668079\n",
      "[4644, 4302] 0.5206628436688756\n",
      "[4645, 4317] 0.7306143574062803\n",
      "[4646, 4336] 0.6028318219736194\n",
      "[4647, 4333] 0.5490859473293821\n",
      "[4648, 4289] 0.5316573010805463\n",
      "[4649, 4332] 0.49219161829843705\n",
      "[4650, 4302] 0.4775117210507393\n",
      "[4651, 4300] 0.5088289862274811\n",
      "[4652, 4302] 0.44306957581305056\n",
      "[4653, 4303] 0.6786044041487266\n",
      "[4654, 4289] 0.5534880233899544\n",
      "[4655, 4302] 0.10199195086180504\n",
      "[4656, 4343] 0.48661323776532106\n",
      "[4657, 4340] 0.5733660417422692\n",
      "[4658, 4290] 0.620031758562522\n",
      "[4659, 4341] 0.5926729777311399\n",
      "[4660, 4347] 0.616263513782433\n",
      "[4661, 4297] 0.633825300174635\n",
      "[4662, 4345] 0.4153080464328644\n",
      "[4663, 4355] 0.5616391522562602\n",
      "[4664, 4347] 0.625812120669019\n",
      "[4665, 4355] 0.5381224151897561\n",
      "[4666, 4355] 0.537483082000465\n",
      "[4667, 4371] 0.4663333278483605\n",
      "[4668, 4326] 0.4133735153429409\n",
      "[4669, 4326] 0.5137970389612787\n",
      "[4670, 4355] 0.5498942706958041\n",
      "[4671, 4371] 0.6141935804742259\n",
      "[4672, 4341] 0.514004740463069\n",
      "[4673, 4354] 0.4201314323308556\n",
      "[4674, 4326] 0.4910140769963307\n",
      "[4675, 4371] 0.5772124495419784\n",
      "[4676, 4354] 0.6912343386378946\n",
      "[4677, 4355] 0.5704963153976526\n",
      "[4678, 4356] 0.5650821102372562\n",
      "[4679, 4357] 0.5189696741370937\n",
      "[4680, 4358] 0.6757561226756663\n",
      "[4681, 4355] 0.683486233140986\n",
      "[4682, 4371] 0.5882454843659336\n",
      "[4683, 4360] 0.5902907111730127\n",
      "[4684, 4372] 0.5464825689733174\n",
      "[4685, 4351] 0.3668808054327363\n",
      "[4686, 4362] 1.0\n",
      "[4687, 4363] 0.6575314234331534\n",
      "[4688, 4364] 0.5046748502159761\n",
      "[4689, 4360] 0.6314759519096299\n",
      "[4690, 4355] 0.40852336628082064\n",
      "[4691, 4367] 0.6228381240382318\n",
      "[4692, 4348] 0.4089971864907515\n",
      "[4693, 4369] 0.48314915977438716\n",
      "[4694, 4370] 0.6448992942477747\n",
      "[4695, 4371] 0.5258392436464087\n",
      "[4696, 4372] 0.603135444253243\n",
      "[4697, 4355] 0.4838105906784428\n",
      "[4698, 4374] 0.6158058463134556\n",
      "[4699, 4375] 0.6466494250312622\n",
      "[4700, 4356] 0.5128772692845699\n",
      "[4701, 4407] 0.4766282276788409\n",
      "[4702, 4363] 0.4760725563354711\n",
      "[4703, 4367] 0.5204559365507438\n",
      "[4704, 4371] 0.5225269293952547\n",
      "[4705, 4379] 0.49062374100036515\n",
      "[4706, 4431] 0.22208549024520569\n",
      "[4707, 4381] 1.0\n",
      "[4708, 4382] 0.804485819054355\n",
      "[4709, 4383] 0.7310044345532165\n",
      "[4710, 4381] 0.8399473665965821\n",
      "[4711, 4387] 0.7735128845663647\n",
      "[4712, 4386] 0.7196996336424686\n",
      "[4713, 4390] 0.7202920768089438\n",
      "[4714, 4387] 0.8549879733383485\n",
      "[4715, 4390] 0.7701205213295593\n",
      "[4716, 4422] 0.7323941801697288\n",
      "[4717, 4390] 0.7247111571517559\n",
      "[4718, 4393] 1.0\n",
      "[4719, 4392] 0.7883735163105242\n",
      "[4720, 4394] 0.7249202486685947\n",
      "[4721, 4395] 0.640690631993104\n",
      "[4722, 4405] 0.5633894936787848\n",
      "[4723, 4397] 0.762653327854839\n",
      "[4724, 4398] 0.5932732514686218\n",
      "[4725, 4399] 0.629059556801444\n",
      "[4726, 4400] 0.5882899239520003\n",
      "[4727, 4401] 0.6108623797815155\n",
      "[4728, 4402] 0.5101441743883006\n",
      "[4729, 4403] 0.6299605249474366\n",
      "[4730, 4404] 0.4826527382593905\n",
      "[4731, 4409] 0.5278019243195935\n",
      "[4732, 4406] 0.666759246402153\n",
      "[4733, 4407] 0.6415557501619696\n",
      "[4734, 4429] 0.45755464726573297\n",
      "[4735, 4411] 0.5099376841184171\n"
     ]
    },
    {
     "name": "stdout",
     "output_type": "stream",
     "text": [
      "[4736, 4410] 0.5193540181871623\n",
      "[4737, 4415] 0.49389114221770164\n",
      "[4738, 4403] 0.46139388561064426\n",
      "[4739, 4448] 0.5681685424054408\n",
      "[4740, 4440] 0.552931645095066\n",
      "[4741, 4418] 0.587458167631919\n",
      "[4742, 4419] 0.6007935101509699\n",
      "[4743, 4420] 0.5970972848097793\n",
      "[4744, 4440] 0.6070586543822366\n",
      "[4745, 4422] 0.7150815559107125\n",
      "[4746, 4442] 0.5072198787753632\n",
      "[4747, 4423] 0.5262283615474129\n",
      "[4748, 4445] 0.5583708539229131\n",
      "[4749, 4426] 0.5753695826647881\n",
      "[4750, 4425] 0.8028813201038023\n",
      "[4751, 4446] 0.5511313625770492\n",
      "[4752, 4426] 0.6644775369328298\n",
      "[4753, 4446] 0.5341440151436284\n",
      "[4754, 4447] 0.5415534358765568\n",
      "[4755, 4429] 0.5808792889917047\n",
      "[4756, 4430] 0.677851691888929\n",
      "[4757, 4431] 0.6006179595287792\n",
      "[4758, 4448] 0.49392118155530407\n",
      "[4759, 4448] 0.5498212286254364\n",
      "[4760, 4463] 0.5632731212114267\n",
      "[4761, 4463] 0.6150377197282775\n",
      "[4762, 4435] 0.4933656318802364\n",
      "[4763, 4460] 0.5209553989452945\n",
      "[4764, 4446] 0.5738481400421473\n",
      "[4765, 4419] 0.4333147440741672\n",
      "[4766, 4449] 0.5219728384676986\n",
      "[4767, 4438] 0.4867465833802426\n",
      "[4768, 4439] 0.5516219875735057\n",
      "[4769, 4440] 0.696819388428253\n",
      "[4770, 4422] 0.8248573930653896\n",
      "[4771, 4440] 0.5636031485253997\n",
      "[4772, 4443] 0.8747820899988619\n",
      "[4773, 4432] 0.5909760727369907\n",
      "[4774, 4445] 0.8091211340148429\n",
      "[4775, 4446] 0.4859787999692704\n",
      "[4776, 4463] 0.4997912661124684\n",
      "[4777, 4463] 0.5480735600287173\n",
      "[4778, 4459] 0.6302863210983551\n",
      "[4779, 4448] 0.6625030393140126\n",
      "[4780, 4422] 0.8248573930653896\n",
      "[4781, 4459] 0.5704160055743733\n",
      "[4782, 4423] 0.514656209364614\n",
      "[4783, 4443] 1.0\n",
      "[4784, 4485] 0.48889399946557616\n",
      "[4785, 4440] 0.599268333495334\n",
      "[4786, 4458] 0.7097112426230529\n",
      "[4787, 4459] 0.5967624006276455\n",
      "[4788, 4460] 0.6185745493113048\n",
      "[4789, 4459] 0.5941011237361371\n",
      "[4790, 4492] 0.6405512949997851\n",
      "[4791, 4463] 0.6550195476712795\n",
      "[4792, 4464] 0.5505842966869432\n",
      "[4793, 4446] 0.6008678367564455\n",
      "[4794, 4487] 0.5094742956314983\n",
      "[4795, 4469] 0.6085612042793392\n",
      "[4796, 4469] 0.7266187706100764\n",
      "[4797, 4470] 0.5215778421250848\n",
      "[4798, 4469] 0.7272957283355355\n",
      "[4799, 4470] 0.5417942861009306\n",
      "[4800, 4449] 0.547768016884482\n",
      "[4801, 4472] 0.7699458865849826\n",
      "[4802, 4468] 0.5652175555389244\n",
      "[4803, 4482] 0.5611740591351796\n",
      "[4804, 4472] 0.734417378791307\n",
      "[4805, 4487] 0.5897091794888967\n",
      "[4806, 4475] 0.6454195347863788\n",
      "[4807, 4476] 0.6715119004956509\n",
      "[4808, 4477] 0.6268918815184303\n",
      "[4809, 4478] 0.5063992317480724\n",
      "[4810, 4479] 0.6555719986682754\n",
      "[4811, 4480] 0.5518215015144895\n",
      "[4812, 4484] 0.4700062780115497\n",
      "[4813, 4480] 0.518229116714778\n",
      "[4814, 4484] 0.5850606756800648\n",
      "[4815, 4488] 0.5973790692785369\n",
      "[4816, 4482] 0.6351850465868838\n",
      "[4817, 4459] 0.5978458420485787\n",
      "[4818, 4484] 0.6397402333796103\n",
      "[4819, 4464] 0.5760506955619452\n",
      "[4820, 4458] 0.5149550699698935\n",
      "[4821, 4460] 0.4266139664727175\n",
      "[4822, 4500] 0.6251932360298551\n",
      "[4823, 4488] 0.6092537310133\n",
      "[4824, 4485] 0.48658955470935505\n",
      "[4825, 4490] 0.7631428283688879\n",
      "[4826, 4491] 0.5714866632409726\n",
      "[4827, 4492] 0.5684728433275889\n",
      "[4828, 4498] 0.5361603994763072\n",
      "[4829, 4510] 0.5162529489547493\n",
      "[4830, 4491] 0.5219188165959698\n",
      "[4831, 4484] 0.5902359073573713\n",
      "[4832, 4498] 0.5361603994763072\n",
      "[4833, 4498] 0.7161746631241593\n",
      "[4834, 4490] 0.4661647807250735\n",
      "[4835, 4500] 0.539941934570841\n",
      "[4836, 4490] 0.46050393733004835\n",
      "[4837, 4500] 0.5085898911954984\n",
      "[4838, 4491] 0.5970924141490995\n",
      "[4839, 4502] 0.6055026138767482\n",
      "[4840, 4510] 0.5580247442869222\n",
      "[4841, 4485] 0.4839227096787854\n",
      "[4842, 4487] 0.635351889553983\n",
      "[4843, 4524] 0.5507743889763113\n",
      "[4844, 4498] 0.5361603994763072\n",
      "[4845, 4523] 0.6228077920066687\n",
      "[4846, 4510] 0.6076233434301628\n",
      "[4847, 4511] 0.6284367210667248\n",
      "[4848, 4484] 0.4717885340161695\n",
      "[4849, 4478] 0.4807498567691362\n",
      "[4850, 4488] 0.5493717537424693\n",
      "[4851, 4510] 0.5063931337889933\n",
      "[4852, 4510] 0.54923489158896\n",
      "[4853, 4498] 0.44998278200193775\n",
      "[4854, 4517] 0.5961838932126361\n",
      "[4855, 4477] 0.4507064666648968\n",
      "[4856, 4517] 0.5369887773900168\n",
      "[4857, 4529] 0.4663009475359869\n",
      "[4858, 4519] 0.5683531758044323\n",
      "[4859, 4538] 0.48782104626192\n",
      "[4860, 4523] 0.5067223978510991\n",
      "[4861, 4523] 0.4428380287031783\n",
      "[4862, 4525] 0.5145421837059765\n",
      "[4863, 4519] 0.5967807948726825\n",
      "[4864, 4529] 0.5317926918773054\n",
      "[4865, 4500] 0.4757568614503675\n",
      "[4866, 4500] 0.5142832799178007\n",
      "[4867, 4510] 0.4106322115422227\n",
      "[4868, 4529] 0.5084386789019959\n",
      "[4869, 4500] 0.4158624391751591\n",
      "[4870, 4500] 0.4411325089966649\n",
      "[4871, 4560] 0.5000436320489188\n",
      "[4872, 4547] 0.44210028057980827\n",
      "[4873, 4547] 0.504348432379167\n",
      "[4874, 4543] 0.5960954780599403\n",
      "[4875, 4530] 0.6641177470924672\n",
      "[4876, 4529] 0.477399051897021\n",
      "[4877, 4530] 0.6639910614096973\n",
      "[4878, 4547] 0.3423466748749466\n",
      "[4879, 4530] 0.695828247735883\n",
      "[4880, 4540] 0.9244816991341795\n",
      "[4881, 4543] 0.5249092501325207\n",
      "[4882, 4543] 0.6915203694019527\n",
      "[4883, 4533] 0.6059576832693974\n",
      "[4884, 4538] 0.5495608621582377\n",
      "[4885, 4535] 0.554010227195683\n",
      "[4886, 4530] 0.6496947103999015\n",
      "[4887, 4529] 0.4692149240934491\n",
      "[4888, 4531] 0.6688142501455094\n",
      "[4889, 4547] 0.34811591398917907\n",
      "[4890, 4538] 0.567091442947067\n",
      "[4891, 4530] 0.697615130913273\n",
      "[4892, 4540] 0.9048058721983022\n",
      "[4893, 4543] 0.6672055547511828\n",
      "[4894, 4544] 0.586715802388459\n",
      "[4895, 4545] 0.5757212099575776\n",
      "[4896, 4546] 0.5553119778775388\n",
      "[4897, 4547] 0.4894926730505743\n",
      "[4898, 4537] 0.804511004885536\n",
      "[4899, 4537] 0.8281865557057361\n",
      "[4900, 4550] 0.5608038731937417\n",
      "[4901, 4530] 0.697615130913273\n",
      "[4902, 4552] 0.4287374087849216\n",
      "[4903, 4553] 0.48794965941531204\n",
      "[4904, 4528] 0.5442261836065184\n",
      "[4905, 4537] 0.804511004885536\n",
      "[4906, 4558] 0.5270483465747332\n",
      "[4907, 4559] 0.8244332482972612\n",
      "[4908, 4560] 0.49001839748536336\n",
      "[4909, 4537] 0.804511004885536\n",
      "[4910, 4537] 0.8281865557057361\n",
      "[4911, 4530] 0.697615130913273\n",
      "[4912, 4563] 0.539434150113106\n",
      "[4913, 4549] 0.804511004885536\n",
      "[4914, 4589] 0.7185434786360103\n",
      "[4915, 4549] 0.8281865557057361\n",
      "[4916, 4587] 0.654269482273898\n",
      "[4917, 4548] 0.697615130913273\n",
      "[4918, 4567] 0.9048058721983022\n",
      "[4919, 4592] 0.7721265698178339\n",
      "[4920, 4554] 0.5188608191476289\n",
      "[4921, 4547] 0.4779921824337525\n",
      "[4922, 4593] 0.5882329087333228\n",
      "[4923, 4549] 0.804511004885536\n",
      "[4924, 4589] 0.6933612743506347\n",
      "[4925, 4549] 0.8281865557057361\n",
      "[4926, 4587] 0.6214465011907718\n",
      "[4927, 4548] 0.697615130913273\n",
      "[4928, 4567] 0.9048058721983022\n",
      "[4929, 4592] 0.7721265698178339\n",
      "[4930, 4581] 0.6625138676436627\n",
      "[4931, 4569] 0.5080188565229531\n",
      "[4932, 4592] 0.5495439923882102\n",
      "[4933, 4585] 0.5883000638791392\n",
      "[4934, 4549] 0.804511004885536\n",
      "[4935, 4589] 0.7523929059123335\n",
      "[4936, 4549] 0.8281865557057361\n",
      "[4937, 4548] 0.697615130913273\n",
      "[4938, 4567] 0.9048058721983022\n",
      "[4939, 4592] 0.7402370135078428\n",
      "[4940, 4593] 0.5637966065476162\n",
      "[4941, 4593] 0.4993341304641857\n",
      "[4942, 4595] 0.6371105332450221\n",
      "[4943, 4569] 0.5647598897584307\n",
      "[4944, 4567] 0.48578425279076737\n",
      "[4945, 4593] 0.5050754085212225\n",
      "[4946, 4613] 0.5190155892547299\n",
      "[4947, 4593] 0.46937433600396095\n",
      "[4948, 4592] 0.5422091493267279\n",
      "[4949, 4582] 0.24474633652528716\n",
      "[4950, 4569] 0.5544539015452536\n",
      "[4951, 4601] 0.5430010778533019\n",
      "[4952, 4602] 0.4478509553361911\n",
      "[4953, 4601] 0.5240643086925418\n",
      "[4954, 4617] 0.5507541639309123\n",
      "[4955, 4608] 0.4738612445740159\n",
      "[4956, 4582] 0.2572222615814722\n",
      "[4957, 4606] 0.9060504485569059\n",
      "[4958, 4607] 1.0\n",
      "[4959, 4608] 0.6424201961964278\n",
      "[4960, 4608] 0.5397859860757502\n",
      "[4961, 4610] 0.6165344928878363\n",
      "[4962, 4611] 0.6421192913276673\n",
      "[4963, 4601] 0.4682035497743908\n",
      "[4964, 4593] 0.6231641583503273\n",
      "[4965, 4613] 0.6571745178832681\n",
      "[4966, 4569] 0.47448962461148936\n",
      "[4967, 4608] 0.4646749354987995\n",
      "[4968, 4593] 0.537891551448379\n",
      "[4969, 4596] 0.5016949282165786\n",
      "[4970, 4618] 0.7368062997280773\n",
      "[4971, 4593] 0.5743842573327036\n",
      "[4972, 4597] 0.4727741352186063\n",
      "[4973, 4621] 0.5037406302079158\n",
      "[4974, 4593] 0.5890014089108134\n",
      "[4975, 4623] 0.49912261093729493\n",
      "[4976, 4624] 0.5592110716655441\n",
      "[4977, 4612] 0.40145884316829655\n",
      "[4978, 4632] 0.5537594249936265\n",
      "[4979, 4621] 0.3580927096403275\n",
      "[4980, 4647] 0.6191312312874531\n",
      "[4981, 4631] 0.48473183316856716\n",
      "[4982, 4632] 0.6048457915765459\n",
      "[4983, 4628] 0.7056220150215216\n",
      "[4984, 4632] 0.6438769235765356\n",
      "[4985, 4630] 0.59927298631113\n",
      "[4986, 4628] 0.6029121096906558\n",
      "[4987, 4632] 0.6238586070918672\n",
      "[4988, 4631] 0.5371728233969831\n",
      "[4989, 4632] 0.5760559519888911\n",
      "[4990, 4647] 0.49330562255546867\n",
      "[4991, 4640] 0.5361585217999689\n",
      "[4992, 4632] 0.49764572261292106\n",
      "[4993, 4632] 0.5654148133663317\n",
      "[4994, 4647] 0.5144344009080094\n",
      "[4995, 4625] 0.5970134751602487\n",
      "[4996, 4639] 0.6038495079367748\n",
      "[4997, 4632] 0.5542866855819539\n",
      "[4998, 4647] 0.521915718351673\n",
      "[4999, 4646] 0.5037921245342712\n"
     ]
    },
    {
     "name": "stdout",
     "output_type": "stream",
     "text": [
      "[5000, 4639] 0.5718685773278724\n",
      "[5001, 4632] 0.5860986752522604\n",
      "[5002, 4628] 0.5351071813976158\n",
      "[5003, 4661] 0.6039013869869457\n",
      "[5004, 4647] 0.6161436802881541\n",
      "[5005, 4648] 0.5761833134382569\n",
      "[5006, 4649] 0.5839812048285777\n",
      "[5007, 4650] 0.5897128674982901\n",
      "[5008, 4639] 0.5614339218403754\n",
      "[5009, 4652] 0.6146457648050306\n",
      "[5010, 4639] 0.5824246497495178\n",
      "[5011, 4654] 0.5651724760576059\n",
      "[5012, 4646] 0.5715220935365293\n",
      "[5013, 4646] 0.6228141327950878\n",
      "[5014, 4647] 0.4007813935449484\n",
      "[5015, 4655] 0.5744954694329857\n",
      "[5016, 4646] 0.4639490227468184\n",
      "[5017, 4639] 0.5230470342627974\n",
      "[5018, 4646] 0.46632893064569386\n",
      "[5019, 4672] 0.5853520384369908\n",
      "[5020, 4660] 0.5681563012329276\n",
      "[5021, 4639] 0.5500223715283509\n",
      "[5022, 4661] 0.6286274405602684\n",
      "[5023, 4663] 0.4662182232191967\n",
      "[5024, 4647] 0.4767815192011014\n",
      "[5025, 4639] 0.5327892313156274\n",
      "[5026, 4660] 0.594631563872237\n",
      "[5027, 4647] 0.5531647910635863\n",
      "[5028, 4672] 0.553505565661128\n",
      "[5029, 4681] 0.5308716520461887\n",
      "[5030, 4675] 0.2915301284160095\n",
      "[5031, 4680] 0.4784508465182706\n",
      "[5032, 4688] 0.42197001966330944\n",
      "[5033, 4691] 0.6052174221440026\n",
      "[5034, 4679] 0.6072414466299949\n",
      "[5035, 4691] 0.5213996750479126\n",
      "[5036, 4705] 0.42522229737139405\n",
      "[5037, 4708] 0.5669117152282424\n",
      "[5038, 4691] 0.6095542035877528\n",
      "[5039, 4705] 0.5398197813176012\n",
      "[5040, 4708] 0.49982871852189875\n",
      "[5041, 4688] 0.4666727090703632\n",
      "[5042, 4708] 0.527048487804847\n",
      "[5043, 4680] 0.7226527402482443\n",
      "[5044, 4722] 0.26493075832961166\n",
      "[5045, 4686] 0.6366672346615051\n",
      "[5046, 4684] 0.7347709128403983\n",
      "[5047, 4685] 0.7488872387218507\n",
      "[5048, 4686] 0.6987574725519843\n",
      "[5049, 4687] 0.5851990256625011\n",
      "[5050, 4690] 0.6541109069149446\n",
      "[5051, 4691] 0.6374038743308119\n",
      "[5052, 4692] 0.7631428283688879\n",
      "[5053, 4693] 0.7200603462034262\n",
      "[5054, 4694] 0.6097026359035733\n",
      "[5055, 4695] 0.7114584143645343\n",
      "[5056, 4696] 0.6015703471260708\n",
      "[5057, 4698] 0.5167984952300985\n",
      "[5058, 4705] 0.471716024688968\n",
      "[5059, 4700] 0.5773108595613662\n",
      "[5060, 4705] 0.5478643843251391\n",
      "[5061, 4705] 0.5376612357205182\n",
      "[5062, 4705] 0.543746530201454\n",
      "[5063, 4694] 0.5651069151839883\n",
      "[5064, 4704] 0.5990000975317131\n",
      "[5065, 4705] 0.5593420551163404\n",
      "[5066, 4706] 0.5179816369479247\n",
      "[5067, 4694] 0.46678951241952626\n",
      "[5068, 4694] 0.6268274698338455\n",
      "[5069, 4705] 0.5342490573423445\n",
      "[5070, 4710] 0.6542497339170822\n",
      "[5071, 4718] 0.5189445682485647\n",
      "[5072, 4705] 0.5319993096197038\n",
      "[5073, 4710] 0.616461033111293\n",
      "[5074, 4713] 0.5607704557406005\n",
      "[5075, 4693] 0.5786181452906448\n",
      "[5076, 4694] 0.5290943782625276\n",
      "[5077, 4708] 0.5720810441427231\n",
      "[5078, 4694] 0.5745063468787927\n",
      "[5079, 4718] 0.6084959113809395\n",
      "[5080, 4719] 0.51725517785982\n",
      "[5081, 4710] 0.5528002540969135\n",
      "[5082, 4718] 0.5308365061057942\n",
      "[5083, 4721] 0.6343516227677054\n",
      "[5084, 4710] 0.3028200561816048\n",
      "[5085, 4760] 0.556252120821813\n",
      "[5086, 4713] 0.5440462292460017\n",
      "[5087, 4722] 0.26493075832961166\n",
      "[5088, 4731] 0.7631428283688879\n",
      "[5089, 4732] 0.8254818122236567\n",
      "[5090, 4733] 0.494754857953546\n",
      "[5091, 4734] 0.5534767886336841\n",
      "[5092, 4722] 0.7459283527124679\n",
      "[5093, 4741] 0.5154671233826604\n",
      "[5094, 4735] 0.48147799000890706\n",
      "[5095, 4738] 0.6372119686322655\n",
      "[5096, 4739] 0.7113786608980126\n",
      "[5097, 4740] 0.7607184173719067\n",
      "[5098, 4741] 0.9578867904919414\n",
      "[5099, 4720] 0.5125340597753266\n",
      "[5100, 4758] 0.5135842164491207\n",
      "[5101, 4751] 0.5083830094596969\n",
      "[5102, 4746] 0.7325238743992568\n",
      "[5103, 4709] 0.40539014103851734\n",
      "[5104, 4718] 0.44823219539714326\n",
      "[5105, 4748] 0.5293483915498209\n",
      "[5106, 4733] 0.49968474140443947\n",
      "[5107, 4760] 0.6258008846696308\n",
      "[5108, 4760] 0.5831921392978876\n",
      "[5109, 4760] 0.4683940247997548\n",
      "[5110, 4758] 0.40570250108292477\n",
      "[5111, 4749] 0.5191193376821269\n",
      "[5112, 4752] 0.5564887371536901\n",
      "[5113, 4760] 0.5535966121621084\n",
      "[5114, 4754] 0.5850423619243741\n",
      "[5115, 4755] 0.4666925297457571\n",
      "[5116, 4760] 0.500825554216212\n",
      "[5117, 4741] 0.45999169671002466\n",
      "[5118, 4751] 0.5150031239397135\n",
      "[5119, 4758] 0.7110387924378555\n",
      "[5120, 4760] 0.5406541386702728\n",
      "[5121, 4758] 0.4919042752898907\n",
      "[5122, 4740] 0.48316491462934197\n",
      "[5123, 4760] 0.5252821667753449\n",
      "[5124, 4763] 0.6307401147970089\n",
      "[5125, 4764] 0.30285343213869\n",
      "[5126, 4781] 0.5608238705131686\n",
      "[5127, 4781] 0.5412368168786601\n",
      "[5128, 4778] 0.5190114255904541\n",
      "[5129, 4760] 0.5050854771357911\n",
      "[5130, 4760] 0.568154213851751\n",
      "[5131, 4771] 0.5594934523779447\n",
      "[5132, 4760] 0.5913097596926316\n",
      "[5133, 4774] 0.4540117563372453\n",
      "[5134, 4795] 0.4820578851437083\n",
      "[5135, 4776] 0.6088631389362106\n",
      "[5136, 4805] 0.5412347877102542\n",
      "[5137, 4770] 0.4641732792717155\n",
      "[5138, 4795] 0.5096158084932647\n",
      "[5139, 4781] 0.5195247529458036\n",
      "[5140, 4808] 0.4941982529414682\n",
      "[5141, 4808] 0.608551687311532\n",
      "[5142, 4808] 0.5564468617155613\n",
      "[5143, 4781] 0.7965250826451987\n",
      "[5144, 4782] 0.6640721459525668\n",
      "[5145, 4764] 0.4043600164671483\n",
      "[5146, 4785] 0.9209352055833662\n",
      "[5147, 4784] 0.9060504485569059\n",
      "[5148, 4785] 0.7347709128403982\n",
      "[5149, 4790] 0.6454206370626338\n",
      "[5150, 4790] 0.731204929471266\n",
      "[5151, 4790] 0.78821899386119\n",
      "[5152, 4790] 0.6409998090255148\n",
      "[5153, 4808] 0.52411495589289\n",
      "[5154, 4829] 0.496507650311919\n",
      "[5155, 4805] 0.5948459299527226\n",
      "[5156, 4793] 0.5758308354119719\n",
      "[5157, 4808] 0.5546824579448982\n",
      "[5158, 4770] 0.5767110959940562\n",
      "[5159, 4829] 0.5753223001339655\n",
      "[5160, 4823] 0.5635186694534517\n",
      "[5161, 4795] 0.4902955646164855\n",
      "[5162, 4812] 0.5364273423537878\n",
      "[5163, 4800] 0.6133801153495431\n",
      "[5164, 4805] 0.5622006239005587\n",
      "[5165, 4790] 0.714580843486625\n",
      "[5166, 4814] 0.584303473646825\n",
      "[5167, 4815] 0.6458842452976423\n",
      "[5168, 4816] 0.5585661854297749\n",
      "[5169, 4808] 0.5576172108745169\n",
      "[5170, 4818] 0.7245758411821211\n",
      "[5171, 4819] 0.6308292670402931\n",
      "[5172, 4823] 0.5823934431712022\n",
      "[5173, 4822] 0.5952542194033397\n",
      "[5174, 4824] 0.5089867106013123\n",
      "[5175, 4824] 0.4938639623757767\n",
      "[5176, 4828] 0.4770869990765871\n",
      "[5177, 4830] 0.6755583716419516\n",
      "[5178, 4831] 0.9714127805419094\n",
      "[5179, 4832] 0.8077601302299459\n",
      "[5180, 4833] 0.7968703270749722\n",
      "[5181, 4834] 0.7583177590183112\n",
      "[5182, 4835] 0.6755913665607195\n",
      "[5183, 4848] 0.5086372234588332\n",
      "[5184, 4837] 0.5463887944635638\n",
      "[5185, 4849] 0.5461602950558432\n",
      "[5186, 4823] 0.520849215844471\n",
      "[5187, 4840] 0.4621565083077366\n",
      "[5188, 4815] 0.4856067865826469\n",
      "[5189, 4829] 0.4301240251685266\n",
      "[5190, 4834] 0.48878852088696834\n",
      "[5191, 4848] 0.4162535527599767\n",
      "[5192, 4849] 0.6026173237379514\n",
      "[5193, 4823] 0.544377216151288\n"
     ]
    }
   ],
   "source": [
    "prev_j = 0\n",
    "for i in trange(len(lhs_sents)):\n",
    "    best_score, best_j = 0, None\n",
    "    # candidate sentences are one page above or below\n",
    "    jj = [j for j, (t, p) in enumerate(rhs_sents) if abs(p-lhs_sents[i][1]) <= page_radius]\n",
    "\n",
    "    for j in jj:\n",
    "        if j < 0 or j >= len(rhs_sents):\n",
    "            continue\n",
    "        score = get_sent_sim(rhs_sents[j][0], lhs_sents[i][0])\n",
    "        # score *=  step_penalty ** abs(j-(prev_j+1))\n",
    "        if score > best_score:\n",
    "            best_score, best_j = score, j\n",
    "    if best_score > threshold:\n",
    "        matched_pairs.append([i, best_j])\n",
    "        prev_j = best_j\n",
    "    print([i, best_j], best_score)"
   ]
  },
  {
   "cell_type": "code",
   "execution_count": 513,
   "id": "ac6a9b95",
   "metadata": {},
   "outputs": [
    {
     "data": {
      "text/plain": [
       "('Уртнэ васня пуромить вейс, мейле, щёлкаезь ды эльнезь, срадыть «виренть» келес, ушодыть налксеме чикордайсэ, вейкест-вейкест велькска кирнявтнеме.',\n",
       " 13)"
      ]
     },
     "execution_count": 513,
     "metadata": {},
     "output_type": "execute_result"
    }
   ],
   "source": [
    "lhs_sents[280]"
   ]
  },
  {
   "cell_type": "code",
   "execution_count": 512,
   "id": "ed0baae4",
   "metadata": {},
   "outputs": [
    {
     "data": {
      "text/plain": [
       "('Играют весной и летом преимущественно мальчики.', 12)"
      ]
     },
     "execution_count": 512,
     "metadata": {},
     "output_type": "execute_result"
    }
   ],
   "source": [
    "rhs_sents[240]"
   ]
  },
  {
   "cell_type": "markdown",
   "id": "248365e3",
   "metadata": {},
   "source": [
    "# Alignment-2"
   ]
  },
  {
   "cell_type": "code",
   "execution_count": 81,
   "id": "ef2d00ab",
   "metadata": {},
   "outputs": [],
   "source": [
    "import pandas as pd\n",
    "from collections import defaultdict\n",
    "import matplotlib.pyplot as plt\n",
    "import numpy as np\n",
    "from razdel import sentenize, tokenize\n",
    "import json \n",
    "import re\n",
    "import random\n",
    "from tqdm.auto import tqdm, trange"
   ]
  },
  {
   "cell_type": "code",
   "execution_count": 83,
   "id": "43591b37",
   "metadata": {},
   "outputs": [
    {
     "name": "stderr",
     "output_type": "stream",
     "text": [
      "Some weights of the model checkpoint at labse_erzya_v0 were not used when initializing BertModel: ['cls.predictions.transform.LayerNorm.bias', 'cls.predictions.decoder.bias', 'cls.predictions.transform.dense.weight', 'cls.predictions.bias', 'cls.predictions.transform.dense.bias', 'cls.predictions.decoder.weight', 'cls.seq_relationship.bias', 'cls.predictions.transform.LayerNorm.weight', 'cls.seq_relationship.weight']\n",
      "- This IS expected if you are initializing BertModel from the checkpoint of a model trained on another task or with another architecture (e.g. initializing a BertForSequenceClassification model from a BertForPreTraining model).\n",
      "- This IS NOT expected if you are initializing BertModel from the checkpoint of a model that you expect to be exactly identical (initializing a BertForSequenceClassification model from a BertForSequenceClassification model).\n"
     ]
    }
   ],
   "source": [
    "import torch\n",
    "from transformers import AutoTokenizer, AutoModel\n",
    "mname = 'labse_erzya_v0'\n",
    "tokenizer = AutoTokenizer.from_pretrained(mname)\n",
    "model = AutoModel.from_pretrained(mname)"
   ]
  },
  {
   "cell_type": "code",
   "execution_count": 160,
   "id": "ac426853",
   "metadata": {},
   "outputs": [],
   "source": [
    "model.cuda();"
   ]
  },
  {
   "cell_type": "code",
   "execution_count": 164,
   "id": "9f6e571b",
   "metadata": {},
   "outputs": [],
   "source": [
    "def embed(text):\n",
    "    encoded_input = tokenizer(text, padding=True, truncation=True, max_length=128, return_tensors='pt')\n",
    "    with torch.inference_mode():\n",
    "        model_output = model(**encoded_input.to(model.device))\n",
    "        embeddings = model_output.pooler_output\n",
    "        embeddings = torch.nn.functional.normalize(embeddings)\n",
    "    return embeddings[0].cpu().numpy()"
   ]
  },
  {
   "cell_type": "code",
   "execution_count": 85,
   "id": "29b29989",
   "metadata": {},
   "outputs": [],
   "source": [
    "def center_norm(v):\n",
    "    v = v - v.mean(0)\n",
    "    return v /  (v**2).sum(1, keepdims=True) ** 0.5\n",
    "\n",
    "\n",
    "def center_dot(x, y):\n",
    "    m = (x.sum(0) + y.sum(0)) / (x.shape[0] + y.shape[0])\n",
    "    x = x - m\n",
    "    y = y - m\n",
    "    x =  x /  (x**2).sum(1, keepdims=True) ** 0.5\n",
    "    y =  y /  (y**2).sum(1, keepdims=True) ** 0.5\n",
    "    return np.dot(x, y.T)"
   ]
  },
  {
   "cell_type": "code",
   "execution_count": 86,
   "id": "fba5b2b0",
   "metadata": {},
   "outputs": [],
   "source": [
    "def get_top_mean_by_row(x, k=5):\n",
    "    m, n = x.shape\n",
    "    k = min(k, n)\n",
    "    topk_indices = np.argpartition(x, -k, axis=1)[:, -k:]\n",
    "    rows, _ = np.indices((m, k))\n",
    "    return x[rows, topk_indices].mean(1)"
   ]
  },
  {
   "cell_type": "code",
   "execution_count": 87,
   "id": "36b1e0a9",
   "metadata": {},
   "outputs": [],
   "source": [
    "def align3(sims):\n",
    "    \n",
    "    #sims = np.dot(center_norm(orig_vecs), center_norm(sum_vecs).T) ** 3\n",
    "    #sims = center_dot(orig_embeds, sum_embeds) #** 3\n",
    "\n",
    "    rewards = np.zeros_like(sims)\n",
    "    choices = np.zeros_like(sims).astype(int)  # 1: choose this pair, 2: decrease i, 3: decrease j\n",
    "\n",
    "    # алгоритм, разрешающий пропускать сколько угодно пар, лишь бы была монотонность\n",
    "    for i in trange(sims.shape[0]):\n",
    "        for j in range(0, sims.shape[1]):\n",
    "            # вариант первый: выровнять i-тое предложение с j-тым\n",
    "            score_add = sims[i, j]\n",
    "            if i > 0 and j > 0:  # вот как тогда выровняются предыдущие \n",
    "                score_add += rewards[i-1, j-1]\n",
    "                choices[i, j] = 1\n",
    "            best = score_add\n",
    "            if i > 0 and rewards[i-1, j] > best:\n",
    "                best = rewards[i-1, j]\n",
    "                choices[i, j] = 2\n",
    "            if j > 0 and rewards[i, j-1] > best:\n",
    "                best = rewards[i, j-1]\n",
    "                choices[i, j] = 3\n",
    "            rewards[i, j] = best\n",
    "    alignment = []\n",
    "    i = sims.shape[0] - 1\n",
    "    j = sims.shape[1] - 1\n",
    "    while i > 0 and j > 0:\n",
    "        if choices[i, j] == 1:\n",
    "            alignment.append([i, j])\n",
    "            i -= 1\n",
    "            j -= 1\n",
    "        elif choices[i, j] == 2:\n",
    "            i -= 1\n",
    "        else:\n",
    "            j -= 1\n",
    "    return alignment[::-1]"
   ]
  },
  {
   "cell_type": "markdown",
   "id": "0eaacab4",
   "metadata": {},
   "source": [
    "### Align Sheyanova (this is perfect!)"
   ]
  },
  {
   "cell_type": "code",
   "execution_count": 87,
   "id": "04568006",
   "metadata": {},
   "outputs": [],
   "source": [
    "with open('other_sources/sheyanova___sections_unaligned.json', 'r') as f:\n",
    "    sheyanova_sections = json.load(f)"
   ]
  },
  {
   "cell_type": "code",
   "execution_count": 89,
   "id": "8f916581",
   "metadata": {},
   "outputs": [
    {
     "data": {
      "text/plain": [
       "24"
      ]
     },
     "execution_count": 89,
     "metadata": {},
     "output_type": "execute_result"
    }
   ],
   "source": [
    "len(sheyanova_sections['myv'])"
   ]
  },
  {
   "cell_type": "markdown",
   "id": "d5af8330",
   "metadata": {},
   "source": [
    "Все выравниваются хорошо (скоры 50-60%), кроме 7 секции с разными длинами, там на вид переводы тоже норм, но качество только 40%. \n",
    "\n",
    "На 8 секции выравнивание вроде норм, но скор только 32%-40. "
   ]
  },
  {
   "cell_type": "code",
   "execution_count": 174,
   "id": "01c6d77d",
   "metadata": {},
   "outputs": [],
   "source": [
    "sheyanova_aligned = []"
   ]
  },
  {
   "cell_type": "code",
   "execution_count": 175,
   "id": "a0abafec",
   "metadata": {
    "scrolled": true
   },
   "outputs": [
    {
     "data": {
      "application/vnd.jupyter.widget-view+json": {
       "model_id": "7d61fdac7dd4472498e1b3c85386180d",
       "version_major": 2,
       "version_minor": 0
      },
      "text/plain": [
       "  0%|          | 0/24 [00:00<?, ?it/s]"
      ]
     },
     "metadata": {},
     "output_type": "display_data"
    },
    {
     "name": "stdout",
     "output_type": "stream",
     "text": [
      "0 51 51\n"
     ]
    },
    {
     "data": {
      "application/vnd.jupyter.widget-view+json": {
       "model_id": "91af1b3af97e406ea2f104cdaed95a01",
       "version_major": 2,
       "version_minor": 0
      },
      "text/plain": [
       "  0%|          | 0/51 [00:00<?, ?it/s]"
      ]
     },
     "metadata": {},
     "output_type": "display_data"
    },
    {
     "data": {
      "application/vnd.jupyter.widget-view+json": {
       "model_id": "814028da2e994b7bb9b9d1a43290e4d4",
       "version_major": 2,
       "version_minor": 0
      },
      "text/plain": [
       "  0%|          | 0/51 [00:00<?, ?it/s]"
      ]
     },
     "metadata": {},
     "output_type": "display_data"
    },
    {
     "name": "stdout",
     "output_type": "stream",
     "text": [
      "0.6068137947372171\n",
      "1 43 43\n"
     ]
    },
    {
     "data": {
      "application/vnd.jupyter.widget-view+json": {
       "model_id": "e72cdf518eb147abaf32c576972bc395",
       "version_major": 2,
       "version_minor": 0
      },
      "text/plain": [
       "  0%|          | 0/43 [00:00<?, ?it/s]"
      ]
     },
     "metadata": {},
     "output_type": "display_data"
    },
    {
     "data": {
      "application/vnd.jupyter.widget-view+json": {
       "model_id": "c08389aa94b94d48a8ca416b0992f8c8",
       "version_major": 2,
       "version_minor": 0
      },
      "text/plain": [
       "  0%|          | 0/43 [00:00<?, ?it/s]"
      ]
     },
     "metadata": {},
     "output_type": "display_data"
    },
    {
     "name": "stdout",
     "output_type": "stream",
     "text": [
      "0.5430295452691487\n",
      "2 31 31\n"
     ]
    },
    {
     "data": {
      "application/vnd.jupyter.widget-view+json": {
       "model_id": "b1ebac6d5e634d72995fbc2ecfcf5783",
       "version_major": 2,
       "version_minor": 0
      },
      "text/plain": [
       "  0%|          | 0/31 [00:00<?, ?it/s]"
      ]
     },
     "metadata": {},
     "output_type": "display_data"
    },
    {
     "data": {
      "application/vnd.jupyter.widget-view+json": {
       "model_id": "b661b1c19909432ebf190b57d0d80d35",
       "version_major": 2,
       "version_minor": 0
      },
      "text/plain": [
       "  0%|          | 0/31 [00:00<?, ?it/s]"
      ]
     },
     "metadata": {},
     "output_type": "display_data"
    },
    {
     "name": "stdout",
     "output_type": "stream",
     "text": [
      "0.5484245435788498\n",
      "3 31 31\n"
     ]
    },
    {
     "data": {
      "application/vnd.jupyter.widget-view+json": {
       "model_id": "29da42176c0c4bd78bd9e67db93e5eea",
       "version_major": 2,
       "version_minor": 0
      },
      "text/plain": [
       "  0%|          | 0/31 [00:00<?, ?it/s]"
      ]
     },
     "metadata": {},
     "output_type": "display_data"
    },
    {
     "data": {
      "application/vnd.jupyter.widget-view+json": {
       "model_id": "05acd819b5f143a6b3e97d5f67b8c14e",
       "version_major": 2,
       "version_minor": 0
      },
      "text/plain": [
       "  0%|          | 0/31 [00:00<?, ?it/s]"
      ]
     },
     "metadata": {},
     "output_type": "display_data"
    },
    {
     "name": "stdout",
     "output_type": "stream",
     "text": [
      "0.512200001831648\n",
      "4 56 56\n"
     ]
    },
    {
     "data": {
      "application/vnd.jupyter.widget-view+json": {
       "model_id": "f3fcc9a99a4f4bdbb951fbe124fccd77",
       "version_major": 2,
       "version_minor": 0
      },
      "text/plain": [
       "  0%|          | 0/56 [00:00<?, ?it/s]"
      ]
     },
     "metadata": {},
     "output_type": "display_data"
    },
    {
     "data": {
      "application/vnd.jupyter.widget-view+json": {
       "model_id": "2c917f6feeea46a79ff469cb4c7bafbd",
       "version_major": 2,
       "version_minor": 0
      },
      "text/plain": [
       "  0%|          | 0/56 [00:00<?, ?it/s]"
      ]
     },
     "metadata": {},
     "output_type": "display_data"
    },
    {
     "name": "stdout",
     "output_type": "stream",
     "text": [
      "0.5337381809115572\n",
      "5 95 95\n"
     ]
    },
    {
     "data": {
      "application/vnd.jupyter.widget-view+json": {
       "model_id": "2aa1ad64fced4633989985afb28cd66e",
       "version_major": 2,
       "version_minor": 0
      },
      "text/plain": [
       "  0%|          | 0/95 [00:00<?, ?it/s]"
      ]
     },
     "metadata": {},
     "output_type": "display_data"
    },
    {
     "data": {
      "application/vnd.jupyter.widget-view+json": {
       "model_id": "8b3cde1022b04d289712a949ec805f01",
       "version_major": 2,
       "version_minor": 0
      },
      "text/plain": [
       "  0%|          | 0/95 [00:00<?, ?it/s]"
      ]
     },
     "metadata": {},
     "output_type": "display_data"
    },
    {
     "name": "stdout",
     "output_type": "stream",
     "text": [
      "0.506112061891255\n",
      "6 35 36\n"
     ]
    },
    {
     "data": {
      "application/vnd.jupyter.widget-view+json": {
       "model_id": "cf2d783bfc9a412a95be2732c92d8dde",
       "version_major": 2,
       "version_minor": 0
      },
      "text/plain": [
       "  0%|          | 0/35 [00:00<?, ?it/s]"
      ]
     },
     "metadata": {},
     "output_type": "display_data"
    },
    {
     "data": {
      "application/vnd.jupyter.widget-view+json": {
       "model_id": "86613022b9e04bce8bdfcb8b15d73590",
       "version_major": 2,
       "version_minor": 0
      },
      "text/plain": [
       "  0%|          | 0/36 [00:00<?, ?it/s]"
      ]
     },
     "metadata": {},
     "output_type": "display_data"
    },
    {
     "name": "stdout",
     "output_type": "stream",
     "text": [
      "0.509102520987062\n",
      "7 107 621\n"
     ]
    },
    {
     "data": {
      "application/vnd.jupyter.widget-view+json": {
       "model_id": "5518f510410842cc904ebd53b7b9056b",
       "version_major": 2,
       "version_minor": 0
      },
      "text/plain": [
       "  0%|          | 0/107 [00:00<?, ?it/s]"
      ]
     },
     "metadata": {},
     "output_type": "display_data"
    },
    {
     "data": {
      "application/vnd.jupyter.widget-view+json": {
       "model_id": "6f183a9be6d34cdcbdcc432ed53ae1b5",
       "version_major": 2,
       "version_minor": 0
      },
      "text/plain": [
       "  0%|          | 0/621 [00:00<?, ?it/s]"
      ]
     },
     "metadata": {},
     "output_type": "display_data"
    },
    {
     "name": "stdout",
     "output_type": "stream",
     "text": [
      "0.4158998666950417\n",
      "8 20 23\n"
     ]
    },
    {
     "data": {
      "application/vnd.jupyter.widget-view+json": {
       "model_id": "c3e438bcf74844e19144383445b5210f",
       "version_major": 2,
       "version_minor": 0
      },
      "text/plain": [
       "  0%|          | 0/20 [00:00<?, ?it/s]"
      ]
     },
     "metadata": {},
     "output_type": "display_data"
    },
    {
     "data": {
      "application/vnd.jupyter.widget-view+json": {
       "model_id": "bab261679f544b85aaebf081b3470467",
       "version_major": 2,
       "version_minor": 0
      },
      "text/plain": [
       "  0%|          | 0/23 [00:00<?, ?it/s]"
      ]
     },
     "metadata": {},
     "output_type": "display_data"
    },
    {
     "name": "stdout",
     "output_type": "stream",
     "text": [
      "0.32253400069587845\n",
      "9 13 13\n"
     ]
    },
    {
     "data": {
      "application/vnd.jupyter.widget-view+json": {
       "model_id": "c7f788cba7d745ebbb06f30fd32d06ef",
       "version_major": 2,
       "version_minor": 0
      },
      "text/plain": [
       "  0%|          | 0/13 [00:00<?, ?it/s]"
      ]
     },
     "metadata": {},
     "output_type": "display_data"
    },
    {
     "data": {
      "application/vnd.jupyter.widget-view+json": {
       "model_id": "f82eaae4a48d44cdaa3b592c8f5e37fe",
       "version_major": 2,
       "version_minor": 0
      },
      "text/plain": [
       "  0%|          | 0/13 [00:00<?, ?it/s]"
      ]
     },
     "metadata": {},
     "output_type": "display_data"
    },
    {
     "name": "stdout",
     "output_type": "stream",
     "text": [
      "0.46639144790776776\n",
      "10 95 98\n"
     ]
    },
    {
     "data": {
      "application/vnd.jupyter.widget-view+json": {
       "model_id": "0a6148b889a2482e9cf1b065519338b8",
       "version_major": 2,
       "version_minor": 0
      },
      "text/plain": [
       "  0%|          | 0/95 [00:00<?, ?it/s]"
      ]
     },
     "metadata": {},
     "output_type": "display_data"
    },
    {
     "data": {
      "application/vnd.jupyter.widget-view+json": {
       "model_id": "3b2569f7c56649f39832b856e9c31f1c",
       "version_major": 2,
       "version_minor": 0
      },
      "text/plain": [
       "  0%|          | 0/98 [00:00<?, ?it/s]"
      ]
     },
     "metadata": {},
     "output_type": "display_data"
    },
    {
     "name": "stdout",
     "output_type": "stream",
     "text": [
      "0.5373500167625179\n",
      "11 84 95\n"
     ]
    },
    {
     "data": {
      "application/vnd.jupyter.widget-view+json": {
       "model_id": "88fecc868dd844b79c9a952347009bb9",
       "version_major": 2,
       "version_minor": 0
      },
      "text/plain": [
       "  0%|          | 0/84 [00:00<?, ?it/s]"
      ]
     },
     "metadata": {},
     "output_type": "display_data"
    },
    {
     "data": {
      "application/vnd.jupyter.widget-view+json": {
       "model_id": "a07e1a8d25484cefa0e202aeba3c3ebd",
       "version_major": 2,
       "version_minor": 0
      },
      "text/plain": [
       "  0%|          | 0/95 [00:00<?, ?it/s]"
      ]
     },
     "metadata": {},
     "output_type": "display_data"
    },
    {
     "name": "stdout",
     "output_type": "stream",
     "text": [
      "0.5158857081694298\n",
      "12 22 23\n"
     ]
    },
    {
     "data": {
      "application/vnd.jupyter.widget-view+json": {
       "model_id": "32858b961da4465ca73422f1189ca9c1",
       "version_major": 2,
       "version_minor": 0
      },
      "text/plain": [
       "  0%|          | 0/22 [00:00<?, ?it/s]"
      ]
     },
     "metadata": {},
     "output_type": "display_data"
    },
    {
     "data": {
      "application/vnd.jupyter.widget-view+json": {
       "model_id": "1f22b8e0921c4ec6b828bb05fa12c3b9",
       "version_major": 2,
       "version_minor": 0
      },
      "text/plain": [
       "  0%|          | 0/23 [00:00<?, ?it/s]"
      ]
     },
     "metadata": {},
     "output_type": "display_data"
    },
    {
     "name": "stdout",
     "output_type": "stream",
     "text": [
      "0.42506828107025574\n",
      "13 118 122\n"
     ]
    },
    {
     "data": {
      "application/vnd.jupyter.widget-view+json": {
       "model_id": "36693c38497447baa0d3175612764e61",
       "version_major": 2,
       "version_minor": 0
      },
      "text/plain": [
       "  0%|          | 0/118 [00:00<?, ?it/s]"
      ]
     },
     "metadata": {},
     "output_type": "display_data"
    },
    {
     "data": {
      "application/vnd.jupyter.widget-view+json": {
       "model_id": "26a3203857f0400ab047f521b37a92f8",
       "version_major": 2,
       "version_minor": 0
      },
      "text/plain": [
       "  0%|          | 0/122 [00:00<?, ?it/s]"
      ]
     },
     "metadata": {},
     "output_type": "display_data"
    },
    {
     "name": "stdout",
     "output_type": "stream",
     "text": [
      "0.5402624407594981\n",
      "14 140 160\n"
     ]
    },
    {
     "data": {
      "application/vnd.jupyter.widget-view+json": {
       "model_id": "1105f557be7d4b5a84407e4423ee2c47",
       "version_major": 2,
       "version_minor": 0
      },
      "text/plain": [
       "  0%|          | 0/140 [00:00<?, ?it/s]"
      ]
     },
     "metadata": {},
     "output_type": "display_data"
    },
    {
     "data": {
      "application/vnd.jupyter.widget-view+json": {
       "model_id": "0f2c32e682024f90a5068f14069f5b44",
       "version_major": 2,
       "version_minor": 0
      },
      "text/plain": [
       "  0%|          | 0/160 [00:00<?, ?it/s]"
      ]
     },
     "metadata": {},
     "output_type": "display_data"
    },
    {
     "name": "stdout",
     "output_type": "stream",
     "text": [
      "0.5091444525908825\n",
      "15 2 2\n"
     ]
    },
    {
     "data": {
      "application/vnd.jupyter.widget-view+json": {
       "model_id": "a62132c0c6924cd6b48002ebc46270b6",
       "version_major": 2,
       "version_minor": 0
      },
      "text/plain": [
       "  0%|          | 0/2 [00:00<?, ?it/s]"
      ]
     },
     "metadata": {},
     "output_type": "display_data"
    },
    {
     "data": {
      "application/vnd.jupyter.widget-view+json": {
       "model_id": "38eeb72e511b4f3e9e3c8dcc252c6617",
       "version_major": 2,
       "version_minor": 0
      },
      "text/plain": [
       "  0%|          | 0/2 [00:00<?, ?it/s]"
      ]
     },
     "metadata": {},
     "output_type": "display_data"
    },
    {
     "name": "stdout",
     "output_type": "stream",
     "text": [
      "0.2954628441068861\n",
      "16 8 8\n"
     ]
    },
    {
     "data": {
      "application/vnd.jupyter.widget-view+json": {
       "model_id": "849613fc436c461e9f4e295e2bdc3fc0",
       "version_major": 2,
       "version_minor": 0
      },
      "text/plain": [
       "  0%|          | 0/8 [00:00<?, ?it/s]"
      ]
     },
     "metadata": {},
     "output_type": "display_data"
    },
    {
     "data": {
      "application/vnd.jupyter.widget-view+json": {
       "model_id": "0855c0d49ba043019d2c7425c97dc4ae",
       "version_major": 2,
       "version_minor": 0
      },
      "text/plain": [
       "  0%|          | 0/8 [00:00<?, ?it/s]"
      ]
     },
     "metadata": {},
     "output_type": "display_data"
    },
    {
     "name": "stdout",
     "output_type": "stream",
     "text": [
      "0.45454022199943367\n",
      "17 7 7\n"
     ]
    },
    {
     "data": {
      "application/vnd.jupyter.widget-view+json": {
       "model_id": "48aec35a9dc94a9d8d4dcbd360645c70",
       "version_major": 2,
       "version_minor": 0
      },
      "text/plain": [
       "  0%|          | 0/7 [00:00<?, ?it/s]"
      ]
     },
     "metadata": {},
     "output_type": "display_data"
    },
    {
     "data": {
      "application/vnd.jupyter.widget-view+json": {
       "model_id": "988f45032ffe426d867415d937e07403",
       "version_major": 2,
       "version_minor": 0
      },
      "text/plain": [
       "  0%|          | 0/7 [00:00<?, ?it/s]"
      ]
     },
     "metadata": {},
     "output_type": "display_data"
    },
    {
     "name": "stdout",
     "output_type": "stream",
     "text": [
      "0.43658774591510024\n",
      "18 14 14\n"
     ]
    },
    {
     "data": {
      "application/vnd.jupyter.widget-view+json": {
       "model_id": "1676995ae6834699b603fb9f4ab1100f",
       "version_major": 2,
       "version_minor": 0
      },
      "text/plain": [
       "  0%|          | 0/14 [00:00<?, ?it/s]"
      ]
     },
     "metadata": {},
     "output_type": "display_data"
    },
    {
     "data": {
      "application/vnd.jupyter.widget-view+json": {
       "model_id": "3c6c9cec67a64f548895897d5ae65c1c",
       "version_major": 2,
       "version_minor": 0
      },
      "text/plain": [
       "  0%|          | 0/14 [00:00<?, ?it/s]"
      ]
     },
     "metadata": {},
     "output_type": "display_data"
    },
    {
     "name": "stdout",
     "output_type": "stream",
     "text": [
      "0.4691574317404178\n",
      "19 6 6\n"
     ]
    },
    {
     "data": {
      "application/vnd.jupyter.widget-view+json": {
       "model_id": "0e773246424046c0965ffdede7afa954",
       "version_major": 2,
       "version_minor": 0
      },
      "text/plain": [
       "  0%|          | 0/6 [00:00<?, ?it/s]"
      ]
     },
     "metadata": {},
     "output_type": "display_data"
    },
    {
     "data": {
      "application/vnd.jupyter.widget-view+json": {
       "model_id": "62c876be63fd410f87ede505cb5d520e",
       "version_major": 2,
       "version_minor": 0
      },
      "text/plain": [
       "  0%|          | 0/6 [00:00<?, ?it/s]"
      ]
     },
     "metadata": {},
     "output_type": "display_data"
    },
    {
     "name": "stdout",
     "output_type": "stream",
     "text": [
      "0.5106314041612733\n",
      "20 40 40\n"
     ]
    },
    {
     "data": {
      "application/vnd.jupyter.widget-view+json": {
       "model_id": "f43c1fb78397408f95012616809f3e55",
       "version_major": 2,
       "version_minor": 0
      },
      "text/plain": [
       "  0%|          | 0/40 [00:00<?, ?it/s]"
      ]
     },
     "metadata": {},
     "output_type": "display_data"
    },
    {
     "data": {
      "application/vnd.jupyter.widget-view+json": {
       "model_id": "f281e3d4a85f49dd8911e47bfeff9cb2",
       "version_major": 2,
       "version_minor": 0
      },
      "text/plain": [
       "  0%|          | 0/40 [00:00<?, ?it/s]"
      ]
     },
     "metadata": {},
     "output_type": "display_data"
    },
    {
     "name": "stdout",
     "output_type": "stream",
     "text": [
      "0.5401768224428325\n",
      "21 27 28\n"
     ]
    },
    {
     "data": {
      "application/vnd.jupyter.widget-view+json": {
       "model_id": "b409eb18474e490997cc1f48985ca977",
       "version_major": 2,
       "version_minor": 0
      },
      "text/plain": [
       "  0%|          | 0/27 [00:00<?, ?it/s]"
      ]
     },
     "metadata": {},
     "output_type": "display_data"
    },
    {
     "data": {
      "application/vnd.jupyter.widget-view+json": {
       "model_id": "d65aa34ed03c4c79970bb9c85088f412",
       "version_major": 2,
       "version_minor": 0
      },
      "text/plain": [
       "  0%|          | 0/28 [00:00<?, ?it/s]"
      ]
     },
     "metadata": {},
     "output_type": "display_data"
    },
    {
     "name": "stdout",
     "output_type": "stream",
     "text": [
      "0.547801942902949\n",
      "22 7 7\n"
     ]
    },
    {
     "data": {
      "application/vnd.jupyter.widget-view+json": {
       "model_id": "fe4e9ce820bd43ab842d0088f9074074",
       "version_major": 2,
       "version_minor": 0
      },
      "text/plain": [
       "  0%|          | 0/7 [00:00<?, ?it/s]"
      ]
     },
     "metadata": {},
     "output_type": "display_data"
    },
    {
     "data": {
      "application/vnd.jupyter.widget-view+json": {
       "model_id": "a104a438be5f4d49a0810440a6cff168",
       "version_major": 2,
       "version_minor": 0
      },
      "text/plain": [
       "  0%|          | 0/7 [00:00<?, ?it/s]"
      ]
     },
     "metadata": {},
     "output_type": "display_data"
    },
    {
     "name": "stdout",
     "output_type": "stream",
     "text": [
      "0.43352781671882096\n",
      "23 18 18\n"
     ]
    },
    {
     "data": {
      "application/vnd.jupyter.widget-view+json": {
       "model_id": "41d04ea8a96b4505a1550a3eb154389a",
       "version_major": 2,
       "version_minor": 0
      },
      "text/plain": [
       "  0%|          | 0/18 [00:00<?, ?it/s]"
      ]
     },
     "metadata": {},
     "output_type": "display_data"
    },
    {
     "data": {
      "application/vnd.jupyter.widget-view+json": {
       "model_id": "a5a74909a40c4ad5bfae5603f5e15fe3",
       "version_major": 2,
       "version_minor": 0
      },
      "text/plain": [
       "  0%|          | 0/18 [00:00<?, ?it/s]"
      ]
     },
     "metadata": {},
     "output_type": "display_data"
    },
    {
     "name": "stdout",
     "output_type": "stream",
     "text": [
      "0.5257392420223713\n"
     ]
    }
   ],
   "source": [
    "for sec_id in trange(len(sheyanova_sections['myv'])):\n",
    "    sents_er = sheyanova_sections['myv'][sec_id]\n",
    "    sents_ru = sheyanova_sections['rus'][sec_id]\n",
    "    sents_er = [s for s in sents_er if s.strip()]\n",
    "    sents_ru = [s for s in sents_ru if s.strip()]\n",
    "    print(sec_id, len(sents_ru), len(sents_er))\n",
    "    emb_ru = np.stack([embed(s) for s in tqdm(sents_ru)])\n",
    "    emb_er = np.stack([embed(s) for s in tqdm(sents_er)])\n",
    "    \n",
    "    pen = np.array([[min(len(x), len(y)) / max(len(x), len(y)) for x in sents_er] for y in sents_ru])\n",
    "    sims = np.maximum(0, np.dot(emb_ru, emb_er.T)) ** 1 * pen\n",
    "\n",
    "    alpha = 0.2\n",
    "    sims_rel = (sims.T - get_top_mean_by_row(sims) * alpha).T - get_top_mean_by_row(sims.T) * alpha\n",
    "\n",
    "    alignment = align3(sims_rel)\n",
    "\n",
    "    print(sum(sims[i, j] for i, j in alignment) / min(sims.shape))\n",
    "\n",
    "    # plt.imshow(sims_rel);\n",
    "    \n",
    "    for i, j in alignment:\n",
    "        #print(sents_ru[i].replace('\\n', ' '))\n",
    "        #print(sents_er[j].replace('\\n', ' '))\n",
    "        sheyanova_aligned.append({'ru': sents_ru[i], 'myv': sents_er[j]})"
   ]
  },
  {
   "cell_type": "code",
   "execution_count": 176,
   "id": "f598ba68",
   "metadata": {},
   "outputs": [
    {
     "name": "stdout",
     "output_type": "stream",
     "text": [
      "1023\n"
     ]
    }
   ],
   "source": [
    "print(len(sheyanova_aligned))"
   ]
  },
  {
   "cell_type": "code",
   "execution_count": 177,
   "id": "27ce2f9e",
   "metadata": {},
   "outputs": [],
   "source": [
    "with open('other_sources/sheyanova_sentence_aligned.json', 'w') as f:\n",
    "    json.dump(sheyanova_aligned, f, ensure_ascii=False, indent=2)"
   ]
  },
  {
   "cell_type": "markdown",
   "id": "19fcae15",
   "metadata": {},
   "source": [
    "### Align Brizhinskiy (page-wise)\n",
    "\n",
    "У Брижинского ровность выравнивания тоже довольно высока, "
   ]
  },
  {
   "cell_type": "code",
   "execution_count": 178,
   "id": "8da99892",
   "metadata": {},
   "outputs": [],
   "source": [
    "with open('other_sources/BrizhinskiyVasiliySergeevich_001___sentences_unaligned.json', 'r') as f:\n",
    "    briz = json.load(f)"
   ]
  },
  {
   "cell_type": "code",
   "execution_count": 182,
   "id": "5a7c0350",
   "metadata": {},
   "outputs": [
    {
     "name": "stdout",
     "output_type": "stream",
     "text": [
      "5194\n",
      "4851\n"
     ]
    }
   ],
   "source": [
    "print(len(briz['myv']))\n",
    "print(len(briz['rus']))"
   ]
  },
  {
   "cell_type": "code",
   "execution_count": 180,
   "id": "17db19fb",
   "metadata": {},
   "outputs": [
    {
     "name": "stdout",
     "output_type": "stream",
     "text": [
      "['Чачсь 1934 иень январень 19-це чистэ МР-нь Кочкуровань райононь Од Тягловка велесэ, театровед, режиссёр, педагог.', 0]\n"
     ]
    }
   ],
   "source": [
    "print(briz['myv'][0])"
   ]
  },
  {
   "cell_type": "code",
   "execution_count": 184,
   "id": "33e730fc",
   "metadata": {},
   "outputs": [
    {
     "name": "stdout",
     "output_type": "stream",
     "text": [
      "4851 5194\n"
     ]
    }
   ],
   "source": [
    "sents_er = [s for s, _ in briz['myv'] if s.strip()]\n",
    "sents_ru = [s for s, _ in briz['rus'] if s.strip()]\n",
    "print(len(sents_ru), len(sents_er))"
   ]
  },
  {
   "cell_type": "code",
   "execution_count": 185,
   "id": "901ddb41",
   "metadata": {},
   "outputs": [
    {
     "data": {
      "application/vnd.jupyter.widget-view+json": {
       "model_id": "d64f636720c54a3e847599d7121362a6",
       "version_major": 2,
       "version_minor": 0
      },
      "text/plain": [
       "  0%|          | 0/4851 [00:00<?, ?it/s]"
      ]
     },
     "metadata": {},
     "output_type": "display_data"
    },
    {
     "data": {
      "application/vnd.jupyter.widget-view+json": {
       "model_id": "461671095210475c878a17f0fc8c9064",
       "version_major": 2,
       "version_minor": 0
      },
      "text/plain": [
       "  0%|          | 0/5194 [00:00<?, ?it/s]"
      ]
     },
     "metadata": {},
     "output_type": "display_data"
    }
   ],
   "source": [
    "emb_ru = np.stack([embed(s) for s in tqdm(sents_ru)])\n",
    "emb_er = np.stack([embed(s) for s in tqdm(sents_er)])"
   ]
  },
  {
   "cell_type": "code",
   "execution_count": 188,
   "id": "feaa457b",
   "metadata": {},
   "outputs": [
    {
     "data": {
      "application/vnd.jupyter.widget-view+json": {
       "model_id": "1496c4517b4f41b4931e324e3f7bcc03",
       "version_major": 2,
       "version_minor": 0
      },
      "text/plain": [
       "  0%|          | 0/4851 [00:00<?, ?it/s]"
      ]
     },
     "metadata": {},
     "output_type": "display_data"
    },
    {
     "name": "stdout",
     "output_type": "stream",
     "text": [
      "0.4330963097720021\n"
     ]
    }
   ],
   "source": [
    "pen = np.array([[min(len(x), len(y)) / max(len(x), len(y)) for x in sents_er] for y in sents_ru])\n",
    "sims = np.maximum(0, np.dot(emb_ru, emb_er.T)) ** 1 * pen\n",
    "\n",
    "alpha = 0.2\n",
    "sims_rel = (sims.T - get_top_mean_by_row(sims) * alpha).T - get_top_mean_by_row(sims.T) * alpha\n",
    "\n",
    "alignment = align3(sims_rel)\n",
    "\n",
    "print(sum(sims[i, j] for i, j in alignment) / min(sims.shape))"
   ]
  },
  {
   "cell_type": "code",
   "execution_count": 189,
   "id": "260b93b9",
   "metadata": {},
   "outputs": [
    {
     "name": "stdout",
     "output_type": "stream",
     "text": [
      "4203\n"
     ]
    }
   ],
   "source": [
    "print(len(alignment))"
   ]
  },
  {
   "cell_type": "code",
   "execution_count": 190,
   "id": "cced84c8",
   "metadata": {},
   "outputs": [
    {
     "data": {
      "text/plain": [
       "<matplotlib.image.AxesImage at 0x1ec33f10a60>"
      ]
     },
     "execution_count": 190,
     "metadata": {},
     "output_type": "execute_result"
    },
    {
     "data": {
      "image/png": "[encoded data removed]",
      "text/plain": [
       "<Figure size 432x288 with 1 Axes>"
      ]
     },
     "metadata": {
      "needs_background": "light"
     },
     "output_type": "display_data"
    }
   ],
   "source": [
    "plt.imshow(sims_rel)"
   ]
  },
  {
   "cell_type": "code",
   "execution_count": 192,
   "id": "475cc6cc",
   "metadata": {},
   "outputs": [
    {
     "data": {
      "image/png": "[encoded data removed]",
      "text/plain": [
       "<Figure size 432x288 with 1 Axes>"
      ]
     },
     "metadata": {
      "needs_background": "light"
     },
     "output_type": "display_data"
    }
   ],
   "source": [
    "plt.scatter(*list(zip(*alignment)), s=1);"
   ]
  },
  {
   "cell_type": "code",
   "execution_count": 200,
   "id": "657ff073",
   "metadata": {},
   "outputs": [
    {
     "name": "stdout",
     "output_type": "stream",
     "text": [
      "Игра первая Участвуют 2 — 4 играющих.\n",
      "Ламочинь коряс весе стявтыть кознатнень вейкетьстэ.\n",
      "-\n",
      "При этом бабки ставятся парами, конов (отметок) для броска лячки и с той, и с другой стороны устанавливается по одному в 4 — 5 м от квадрата.\n",
      "Ляч* катне ёртневить кознатнень лангс кавто ёндо, кавто консто, конат теезь кознатнень эйстэ вейкень кувалмонь тарка.\n",
      "-\n",
      "Большак подбрасывается вверх.\n",
      "Прявткесь ёртови верев.\n",
      "-\n",
      "Все камешки в правой руке.\n",
      "Весе кевнетне коморсот.\n",
      "-\n",
      "Содержание и условия игры Каждая команда возглавляется пред* водителем.\n",
      "Налксемань кой-кирдатне Эрьва командась кочки эстензэ прявт.\n",
      "-\n",
      "Цибы ставятся на ту же линию, по кото рой побегут «ножки».\n",
      "Ци батне путневить секе кикстнэнь лангс, конаванть сави чиемс «пильгинетненень».\n",
      "-\n",
      "Играют мальчики и девочки 10 — 14 лет.\n",
      "Налксицятне 10 — 14 иесэ цёрынеть ды тейтернеть.\n",
      "-\n",
      "Все поют песню «Давай, брат», ступая на каждое слово по шагу.\n",
      "Теке марто весе морыть «Адя, брат, мирятано» моронть ды эрьва валонь ёвтазь теить ве эс келькс.\n",
      "-\n",
      "Справа и слева выходят по две лоша ди, покачивая из стороны в сторону дугами-венками, останавливаются позади Норовавы.\n",
      "Чирькавтнезь венець кирькссэст вить ды керш ёндо лисить кавтонь-кавтонь алашат ды арыть Нороваванть удалов.\n",
      "-\n",
      "Партия ищущих напротив какого-либо дома или забора строит себе «село» — чертит на земле квадраты-домики с фронтонами.\n",
      "Вешницянь партиясь кодамояк кудонь эли ортань каршо путы эстензэ «веле» — черьксты мода лангс ниле ужосо кундот-кудынеть кудоконя марто.\n",
      "-\n"
     ]
    }
   ],
   "source": [
    "for _ in range(10):\n",
    "    i, j = random.choice(alignment)\n",
    "    print(sents_ru[i])\n",
    "    print(sents_er[j])\n",
    "    print('-')"
   ]
  },
  {
   "cell_type": "code",
   "execution_count": 201,
   "id": "e62ea665",
   "metadata": {},
   "outputs": [],
   "source": [
    "briz_alignment = []\n",
    "for i, j in alignment:\n",
    "    briz_alignment.append({'ru': sents_ru[i], 'myv': sents_er[j]})"
   ]
  },
  {
   "cell_type": "code",
   "execution_count": 204,
   "id": "7b60a8dd",
   "metadata": {},
   "outputs": [
    {
     "data": {
      "text/plain": [
       "4203"
      ]
     },
     "execution_count": 204,
     "metadata": {},
     "output_type": "execute_result"
    }
   ],
   "source": [
    "len(briz_alignment)"
   ]
  },
  {
   "cell_type": "code",
   "execution_count": 202,
   "id": "ef0c9275",
   "metadata": {},
   "outputs": [],
   "source": [
    "with open('other_sources/brizhinskiy_sentence_aligned.json', 'w') as f:\n",
    "    json.dump(briz_alignment, f, ensure_ascii=False, indent=2)"
   ]
  },
  {
   "cell_type": "markdown",
   "id": "28fcfe27",
   "metadata": {},
   "source": [
    "# Evsenyev\n",
    "\n",
    "The translation is very good, but the quality of OCR is poor. "
   ]
  },
  {
   "cell_type": "code",
   "execution_count": 189,
   "id": "aca9507b",
   "metadata": {},
   "outputs": [],
   "source": [
    "with open('books_parallel/evsenyev.txt', 'r') as f:\n",
    "    ev_lines = [line.strip() for line in f.readlines()]"
   ]
  },
  {
   "cell_type": "code",
   "execution_count": 190,
   "id": "f0f0165d",
   "metadata": {},
   "outputs": [],
   "source": [
    "stories = []\n",
    "\n",
    "story = []\n",
    "for i, line in enumerate(ev_lines):\n",
    "    if line.isdigit():\n",
    "        continue\n",
    "    if line.isupper():\n",
    "        # print(line)\n",
    "        if story:\n",
    "            stories.append(story)\n",
    "            story = []\n",
    "        if line[0].isdigit():\n",
    "            story = [line + '. ']\n",
    "    else:\n",
    "        if line[0].isdigit():\n",
    "            continue # примечания\n",
    "        story.append(line)\n",
    "    if line == 'СОДАМО ЁВКСТ':\n",
    "        break\n",
    "\n",
    "# special parsing for riddles\n",
    "riddle_lines = []\n",
    "for line in ev_lines[i+1:]:\n",
    "    if line.isdigit():\n",
    "        continue\n",
    "    riddle_lines.append(line)\n",
    "    # todo: parse riddles"
   ]
  },
  {
   "cell_type": "code",
   "execution_count": 191,
   "id": "f2d6a928",
   "metadata": {},
   "outputs": [
    {
     "data": {
      "text/plain": [
       "126"
      ]
     },
     "execution_count": 191,
     "metadata": {},
     "output_type": "execute_result"
    }
   ],
   "source": [
    "len(stories)"
   ]
  },
  {
   "cell_type": "code",
   "execution_count": 192,
   "id": "a956220c",
   "metadata": {
    "scrolled": false
   },
   "outputs": [
    {
     "name": "stdout",
     "output_type": "stream",
     "text": [
      "1. СЕИНЕ. \n",
      "1. КОЗА. \n",
      "2. ПУСТАЧЕЙ. \n",
      "2. ПУСТАЧЕЙ. \n",
      "3. ЧЕЕРНЕ. \n",
      "3. МЫШКА. \n",
      "4. СЮКОР ПАТЯ. \n",
      "4. СЕСТРА-ЛЕПЕШКА. \n",
      "5. РИВЕЗЬ ДЫ ОВТО. \n",
      "5. ЛИСИЦА И МЕДВЕДЬ. \n",
      "6. АТЯ, ОВТО ДЫ РИВЕЗЬ. \n",
      "6. СТАРИК, МЕДВЕДЬ И ЛИСИЦА. \n",
      "7. ВАРАКА МАРТО РИВЕСЬКЕ. \n",
      "7. ВОРОНА И ЛИСИДА. \n",
      "8. АТЯКШКЕ ДЫ КАТКИНЕ. \n",
      "8. КОШКА И ПЕТУШОК. \n",
      "9. РИВЕЗЬ МАРТО НУМОЛО. \n",
      "9. ЛИСИЦА И ЗАЯЦ. \n",
      "10. БУКИНЕ МАРТО ПСАКИНЕ. \n",
      "10. БЫК И КОШКА. \n",
      "11. КАТКА ДЫ РИВЕЗЬ. \n",
      "11. КОШКА И ЛИСИЦА. \n",
      "12. АТИНЕ ДЫ РИВЕСЬКЕ. \n",
      "12. СТАРИК И ЛИСИЦА. \n",
      "13. ВЕДЯВА. \n",
      "13. ВЕДЯВА. \n",
      "14. АЛТАЗЬ ЦЁРА. \n",
      "14. ОБЕЩАННЫЙ СЫН. \n",
      "15. ДЯЧКА НАЙ-НАЙ ДЫ СОНЗЭ ТЕИТЕРЕЗЭ МАЗЫ МАРЯ. \n",
      "15. ДЯЧКА НАИ-НАЙ И ЕГО ДОЧЬ МАРИЯ ПРЕКРАСНАЯ. \n",
      "16. ОЗЯЗ ДЫ ЧЕЕРЬ. \n",
      "16. ВОРОБЕИ И МЫШЬ. \n",
      "17. ИВАН. \n",
      "17. ИВАН. \n",
      "18. СИЯ ПЕИНЕ-ТЕИТЕРНЕ. \n",
      "18. ДЕВОЧКА С СЕРЕБРЯНЫМ ЗУБОМ. \n",
      "19. КЕЖЕЙ ОД АВА. \n",
      "19. ЗЛАЯ МАЧЕХА. \n",
      "20. КЕВГАНЯ. \n",
      "20. КЕВГАНЯ. \n",
      "21. ОД АВА. \n",
      "21. МАЧЕХА. \n",
      "22. ЦЁРЫНЕСЬ ТЕЕВСЬ БАРАНКС. \n",
      "22. КАК МАЛЬЧИК ПРЕВРАТИЛСЯ В БАРАШКД. \n",
      "23. ЯГА-БАБА. \n",
      "23. БАБА-ЯГА. \n",
      "24. ЯГА-БАБАНЬ ТЕЙТЕРЬ. \n",
      "24. ДОЧЬ БАБЫ-ЯГИ. \n",
      "25. СЫРЕ СКАЛНЭ. \n",
      "25. СТАРАЯ КОРОВА. \n",
      "26. КОДА ТЕЙТЕРЕСЬ ТЕЕВСЬ МАЗЫЙ КИЛЕЙКС. \n",
      "26. КАК ДЕВУШКА ПРЕВРАТИЛАСЬ В КУДРЯВУЮ БЕРЕЗУ. \n",
      "27. ВАРДЫНЕ. \n",
      "27. ВАРДЫНЕ1. \n",
      "28. КАНЁВА—КОЛМО ЛЕЛЯНЬ САЗОР. \n",
      "28. КАНЁВА-СЕСТРА ТРЕХ БРАТЬЕВ. \n",
      "29. ПЕЛЬКИНЕ. \n",
      "29. МАЛЬЧИК С ПАЛЬЧИК. \n",
      "30. (М) КАФТА УРОСТ. \n",
      "30. ДВЕ СИРОТЫ. \n",
      "31. ПЕЛЬКИНЕ. \n",
      "31. МАЛЬЧИК С ПАЛЬЧИК. \n",
      "32. ЛОВНЯСЬКЕ. \n",
      "32. СНЕГУРОЧКА. \n",
      "33. КАВТО БРАТТ. \n",
      "33. ДВА БРАТА. \n",
      "34. КОДА АТЯТ-БАБАТ МАКСЫЗЬ ЦЕРАСТ ЭРЬВА, КОДАМО КЕЛЬС ТОНАВТНЕМЕ. \n",
      "34. КАК СТАРИК СО СТАРУХОЙ ОТДАЛИ СВОЕГО СЫНА РАЗНЫМ ЯЗЫКАМ УЧИТЬСЯ. \n",
      "35. ЮРТАЙ. \n",
      "35. ЮРТАЙ. \n",
      "36. ЗАВАРЗА. \n",
      "36. ЗАВАРЗА. \n",
      "37. ЯГА-БЛБА ДЫ ТЕЙТЕРНЕ. \n",
      "37. БАБА-ЯГА И ДЕВОЧКА. \n",
      "38. АНДЯМО. \n",
      "38. АНДЯМО. \n",
      "39. ОХОТНИК. \n",
      "39. ОХОТНИК. \n",
      "40. ВЕДУН. \n",
      "40. ВЕДЬМА. \n",
      "41. ДИГИНЕТЬ. \n",
      "41. ДИКИЕ ГУСИ. \n",
      "42. КОДА ДУРАКОСЬ ИНЯЗОРОНЬ ТЕЙТЕРЬ ЭСТЕНЗЭ НИКС САЙСЬ. \n",
      "42. КАК ДУРАЧОК НА ЦАРСКОЙ ДОЧКЕ ЖЕНИЛСЯ. \n",
      "43. КОЛМОНЬСТ БРАТИНИК. \n",
      "43. ТРИ БРАТА. \n",
      "44. ШИВЕЧ, НЕЧИСТОЙ, ОВТО ДЫ ВИРЯВА. \n",
      "44. ПОРТНОЙ, НЕЧИСТЫЙ, МЕДВЕДЬ И ВИРЯВА. \n",
      "45. КОДА ЭРЯСТЬ ИВАН МАРТО МАТРЯТ. \n",
      "45. КАК ЖИЛИ ИВАН С МАТРЕНОЙ. \n",
      "46. ЛОМАНЬ ДЫ ИНЕ ГУИ. \n",
      "46. ЧЕЛОВЕК И ЗМЕЯ. \n",
      "47. КАТКА, КОЙМЕ ДЫ ЛЕВШ. \n",
      "47. КОШКА, ЛОПАТА И МОЧАЛО. \n",
      "48. ТУМО ПЕТЯ. \n",
      "48. ТУМО1 ПЕТЯ. \n",
      "49. (М.) ЁФКС НУЖАТЬ КОЛГА. \n",
      "49. СКАЗКА О НУЖДЕ. \n",
      "50. ЧАРЫНЬ ТЕЙНИЦЯ. \n",
      "50. КОЛЕСНИК. \n",
      "51. КУПЕЦЕНЬ КАВТО ЦЁРАТ. \n",
      "51. ДВА КУПЕЧЕСКИХ СЫНА. \n",
      "52. КИСКИНЕ—КРЕНДЕЛЬ ПУЛЫНЕ. \n",
      "52. СОБАЧКА ХВОСТ КОЛЕЧКОМ. \n",
      "53. КОДА ДУРАК САЛОНЬ РАМАМО ЯКАСЬ. \n",
      "53. КАК ДУРАК ХОДИЛ СОЛЬ ПОКУПАТЬ. \n",
      "54. АНТИПКА. \n",
      "54. АНТИПКА. \n",
      "55. КОДА ОВТО МАРТО АТИНЕ РЕПСТ ВИДНЕСТЬ. \n",
      "55. КАК МЕДВЕДЬ СО СТАРИКОМ РЕПУ САЖАЛИ. \n",
      "56. КОДА АТЯСЬ ВИДСЬ РЕПСТ. \n",
      "56. КАК СТАРИК ПОСАДИЛ РЕПУ. \n",
      "57. МУШКО САКАЛО АТИНЕ, КИВЕ СЕЛЬМЕ БАБИНЕ. \n",
      "57. СТАРИК КУДЕЛЬНАЯ БОРОДА, СТАРУШКА ОЛОВЯННЫЙ ГЛАЗ. \n",
      "58. СЕЯ. \n",
      "58. КОЗА. \n",
      "59. ОХОТНИК. \n",
      "59. ОХОТНИК. \n",
      "60. НАРЬГИЦЯ. \n",
      "60. УРОК. \n",
      "61. «ПАРО» РОБОТНИКТЬ. \n",
      "61. «ХОРОШИЕ» РАБОТНИКИ. \n",
      "62. АТЯ ДЫ ПОП. \n",
      "62. СТАРИК И ПОП. \n",
      "63. КЕЗЭРЕНЬ ЁВКСКЕ. \n",
      "63. СТАРИННАЯ СКАЗКА. \n"
     ]
    }
   ],
   "source": [
    "# check that all stories go in pairs\n",
    "for i, s in enumerate(stories):\n",
    "    assert s[0].split()[0][:-1] == str(i//2+1)\n",
    "    print(s[0])"
   ]
  },
  {
   "cell_type": "code",
   "execution_count": 193,
   "id": "c0ba6da9",
   "metadata": {},
   "outputs": [],
   "source": [
    "import razdel"
   ]
  },
  {
   "cell_type": "code",
   "execution_count": 194,
   "id": "4d05c3c2",
   "metadata": {
    "scrolled": false
   },
   "outputs": [
    {
     "name": "stdout",
     "output_type": "stream",
     "text": [
      "Только старик стал пить, Дячка Най-най схватил его за бороду и говорит: — Обещай мне из твоего дэма то, о чем не знаешь!\n",
      "— Не сделать тебе работу Дячки Най-ная,—гово- рит Баба-Яга.— Иди далыне, найдешь мою старшую сестру, она тебя научит, что делать.\n",
      "— Не сделать тебе работу Дячки Най-ная,— гово- рит Баба-Яга.— Иди дальше, найдешь еще одну Бабу- Ягу.\n",
      "Ты не показы- вайся к,огда девушка скажет «Если юноша взял мое платье, пусть будет мне мужем», тогда выходи и отдай Марии Прекрасной ее платье.\n",
      "Дячка Най-най говорит Марии Прекрасной: — Накорми юношу, напой, а я подумаю, какую бы работу ему дать.\n",
      "Дала она юноше белый платочек и говорит: — Выйди на двор, махни платочком на четыре сто- роны и крикни: «Родичи Дячки Най-ная, соберитесь сюда, подсчитайте, сколько зерен проса в его амбаре, запишите на бумаге, а бумагу передайте мне».\n",
      "Собрались все родичи Дячки Най-ная, подсччтали просо по зернышку, записали на бумаге, бумагу отдали юноше.\n",
      "На, возьми платочек, выйди вэ двор, махни на четыре стороны и скажи: «Родичи Дячки Най-ная, соберитесь быстрей, при- учите его жеребца!»\n",
      "На, возьми пла- точек, выйди во двзр, махни на четыре стороны и ска- жи: «Родичи Дячки Най-ная, приходите, аделайте цер- ковь и мост!»\n",
      "Взял кмсша платочек, вышел вэ двор, махнул на четыре стороны и сказал так, как его научила Мария Прекрасная.\n",
      "Пришел юноша к Марии Прекрасной и говорит ей: — Отец превратит вас в голубей, я должен буду узнать тебя.\n",
      "В это время одна из девушек вытерла лицо платоч- ком. Юяоша понял и говорит: — Вот эта — Мария Прекрасная.\n",
      "Дячка Най-най говоритюноше иМарии Прекрасной: — Идите в це'рковь, которую сами построили, пе- реночуете там эту ночь, а утром я вас обвенчаю.\n",
      "Встал утром Дячка Най-най, позвал старого работ- нкка и говорит: — Иди к новойцеркви и позови Марию Прекрасную с юношей.\n",
      "Дячка Най-най говорит: — Соберитесь-ка все мои работники, скачите, дого- ните Марию Прекрасную с юношей.\n",
      "Примчали работники Дячки Най-ная к цернви, вошли в церковь и спрашивают попа: — Не проходил лн здесь кто-нибудь?\n",
      "Она посмотрела в колодец, увидела там отра- жение Марии Прекрасной, бросила коромысло и вер- нулась в дом.\n",
      "Утром встал Сарайдыр и говорит своим работни кам: — Идите позовите сын-а Ивана венчаться с младшей дочерью.\n",
      "Мачеха еще больше стала ненавидеть Кевганю И Iоворит: — Как только придут хорошие сваты, я сосватаю Кевганю, а вместо нее выдам свою дочь.\n",
      "Мачеха нарядила свою дочь в платья Кевгани, накрыла ее лицо фатой и посадила рядом с женихом, а Кевганю сунула на дворе под коры- то и говорит ей: — Лежи здесь до конца свадьбы, да смотри не пока- зывайся.\n",
      "Когда Кевганя прилетит, ты скажи ей: —' Кевганя, здесь никого нет, сбрось с себя голуби ную одежду, успокой своего ребенка, накорми его хоро- шенько.\n",
      "Когда однажды они ответили, что пожирнели, Баба- Яга затопила печь, подозвала к себе детишек и гово- рит им: — Теперь ложитесь на лопату, я брошу вас в печку.\n",
      "Брат пошел, взял кольцо с окошка и думает: «Поче- му это сестра не разрешила мне пробовать сала Бабы- Яги?\n",
      "Села Баба-Яга в ступу, в руки взяла пест и погна- тась за девушкой Едет за девушкой и кричит: — Ступа, лети, пест, гони!\n",
      "Потом села у изголовья матери и запела: — Вот где мать моя спит, Под нею белая кошма, Под головой у матери синяя подушка, На метери синий тулупчик.\n",
      "Прилетела голубка к изголовью старшей сестры и запела: — Вот где злодейка сестра спит, Под нею старый лапоть, Под головой у сестры жернова, На сестре шкура ежа.\n",
      "Собачки бегали, бегали по двору и остановились шеред отцом Юртая Старик говорит отцу Юртая: — Узнай, который из них твой сын!\n",
      "— Не зтот, он четвертый,— говорит ему старик Взяп у отца Юртая сто рублей и сказал: — Приходи через год.\n",
      "И взял Юртая домой Пожили немного дома, Юртай и говорит своему отцу: — За мою учебу, отец, ты много денег потратил Те- перь я верну их тебе.\n",
      "Заварза вышел во двор к жеребиу Жеребец говорит ему: — Смотри, Заварза, Баба-Яга тебя и твоих братьев уничтожить хочет.\n",
      "Хотел жеребец Заварзы еще раз лягнуть жеребца Ба- бы-Яги, но тот говорит: — Пощади, я соберу жеребцов Заварзе Ушел, собрал жеребцов.\n",
      "Подошел За- варза, только взялся за гусли — проснулась Баба-Яга, гхватила Заварзу за руки и говорит: — Ага!\n",
      "Теперь попался!—Взяла Баба-Яга Заварзу, связала его, жеребца закрыла в конюшню на замок, а гама пошла за своими сестрами.\n",
      "Поскакал обратно домой Зашел он в правое ухо Сивки, вышел из левого и снова превратился в дурачка Забрался на печь, ждет своих братьев.\n",
      "«Погоди,— думает Тумо Петя, когда ушел мальчик,— я этого мальчика так обману, что он перестанет в мой дом ходить!»\n",
      "— Давай мой пятак'—закричал ему мальчик — Нету сейчас, ей-богу, нет!— клянется Тумо Петя — Когда будет?\n",
      "Взял горящую свечу и поднес к его носу Как прыгнет из гроба Тумо Петя на пол, как закри чит: — Вы что делаете?\n",
      "Вечером пришел к ним под окно волк и поет: — Живут-поживают старик Кудельнзя борода, ста- руха Оловянный глаз.\n"
     ]
    }
   ],
   "source": [
    "for story in stories[1::2]:\n",
    "    for s in razdel.sentenize('\\n'.join(story)):\n",
    "        if len(s.text) > 100:\n",
    "            if len([c for i, c in enumerate(s.text) \n",
    "                    if c.isalpha() and c.isupper() and i > 2 and s.text[i-1] == ' ' and s.text[i-2] != '—']) > 1:\n",
    "                print(s.text.replace('\\n', ' '))"
   ]
  },
  {
   "cell_type": "code",
   "execution_count": 195,
   "id": "67cd0b42",
   "metadata": {},
   "outputs": [],
   "source": [
    "t = 'Вечером пришел к ним - под окно волк и пэет: — Живут-поживают ста-\\nрик Кудельнзя борода, ста- руха Оловянный глаз.'"
   ]
  },
  {
   "cell_type": "code",
   "execution_count": 196,
   "id": "bd3e292e",
   "metadata": {},
   "outputs": [
    {
     "data": {
      "text/plain": [
       "'Вечером пришел к ним - под окно волк и пэет: — Живут-поживают старик Кудельнзя борода, старуха Оловянный глаз.'"
      ]
     },
     "execution_count": 196,
     "metadata": {},
     "output_type": "execute_result"
    }
   ],
   "source": [
    "def dashrepl(matchobj):\n",
    "    return matchobj.group(1) + matchobj.group(3)\n",
    "\n",
    "def fix_breaks(text):\n",
    "    return re.sub('([а-яА-ЯёЁ])(\\-\\s+)([а-яА-ЯёЁ])', dashrepl, text)\n",
    "\n",
    "fix_breaks(t)"
   ]
  },
  {
   "cell_type": "code",
   "execution_count": 197,
   "id": "ad17852c",
   "metadata": {},
   "outputs": [],
   "source": [
    "def make_sents(story):\n",
    "    t = '\\n'.join(story)\n",
    "    t = fix_breaks(t)\n",
    "    return [s.text.strip().replace('\\n', ' ') for s in razdel.sentenize(t) if s.text.strip()]"
   ]
  },
  {
   "cell_type": "code",
   "execution_count": 198,
   "id": "9a836ded",
   "metadata": {},
   "outputs": [],
   "source": [
    "i = 10"
   ]
  },
  {
   "cell_type": "code",
   "execution_count": 199,
   "id": "127408ed",
   "metadata": {},
   "outputs": [
    {
     "data": {
      "application/vnd.jupyter.widget-view+json": {
       "model_id": "81d36383d5b2437b9ae4744dcd438f8d",
       "version_major": 2,
       "version_minor": 0
      },
      "text/plain": [
       "  0%|          | 0/11 [00:00<?, ?it/s]"
      ]
     },
     "metadata": {},
     "output_type": "display_data"
    },
    {
     "data": {
      "application/vnd.jupyter.widget-view+json": {
       "model_id": "3ff80a7aa10048b4b0f6f77ee4a5bab7",
       "version_major": 2,
       "version_minor": 0
      },
      "text/plain": [
       "  0%|          | 0/9 [00:00<?, ?it/s]"
      ]
     },
     "metadata": {},
     "output_type": "display_data"
    }
   ],
   "source": [
    "sents_er = make_sents(stories[2*i])\n",
    "sents_ru = make_sents(stories[2*i+1])\n",
    "\n",
    "emb_ru = np.stack([embed(s) for s in tqdm(sents_ru)])\n",
    "emb_er = np.stack([embed(s) for s in tqdm(sents_er)])"
   ]
  },
  {
   "cell_type": "code",
   "execution_count": 200,
   "id": "1b3b06d6",
   "metadata": {},
   "outputs": [
    {
     "data": {
      "application/vnd.jupyter.widget-view+json": {
       "model_id": "5588ccc62dfa420281c23036ddb649f4",
       "version_major": 2,
       "version_minor": 0
      },
      "text/plain": [
       "  0%|          | 0/11 [00:00<?, ?it/s]"
      ]
     },
     "metadata": {},
     "output_type": "display_data"
    },
    {
     "name": "stdout",
     "output_type": "stream",
     "text": [
      "0.40176266574753516\n"
     ]
    },
    {
     "data": {
      "image/png": "[encoded data removed]",
      "text/plain": [
       "<Figure size 432x288 with 1 Axes>"
      ]
     },
     "metadata": {
      "needs_background": "light"
     },
     "output_type": "display_data"
    }
   ],
   "source": [
    "pen = np.array([[min(len(x), len(y)) / max(len(x), len(y)) for x in sents_er] for y in sents_ru])\n",
    "sims = np.maximum(0, np.dot(emb_ru, emb_er.T)) ** 1 * pen\n",
    "\n",
    "alpha = 0.2\n",
    "sims_rel = (sims.T - get_top_mean_by_row(sims) * alpha).T - get_top_mean_by_row(sims.T) * alpha\n",
    "\n",
    "alignment = align3(sims_rel)\n",
    "\n",
    "print(sum(sims[i, j] for i, j in alignment) / min(sims.shape))\n",
    "\n",
    "plt.imshow(sims_rel);"
   ]
  },
  {
   "cell_type": "code",
   "execution_count": 201,
   "id": "9780ac40",
   "metadata": {},
   "outputs": [
    {
     "data": {
      "image/png": "[encoded data removed]",
      "text/plain": [
       "<Figure size 432x288 with 1 Axes>"
      ]
     },
     "metadata": {
      "needs_background": "light"
     },
     "output_type": "display_data"
    }
   ],
   "source": [
    "plt.scatter(*list(zip(*alignment)), s=1);"
   ]
  },
  {
   "cell_type": "code",
   "execution_count": 202,
   "id": "626b05b2",
   "metadata": {},
   "outputs": [
    {
     "name": "stdout",
     "output_type": "stream",
     "text": [
      "Я знаю одну такую уловку.\n",
      "Монь ули вейке истямо ёжовчим.\n",
      "0.5727627376715343\n",
      "-\n",
      "Во время разговора к ним подошли охотники с собаками.\n",
      "Сынст кортамо шкастонть састь охотникть киска марто.\n",
      "0.8477312933723882\n",
      "-\n",
      "Во время разговора к ним подошли охотники с собаками.\n",
      "Сынст кортамо шкастонть састь охотникть киска марто.\n",
      "0.8477312933723882\n",
      "-\n",
      "Лисица стала пускать в ход все свои увертки, но раз ошиблась.\n",
      "Ривезась кармась эрьва кода велявтневеме ды ваа рясто эзь велявтово.\n",
      "0.5550561950487249\n",
      "-\n",
      "Во время разговора к ним подошли охотники с собаками.\n",
      "Сынст кортамо шкастонть састь охотникть киска марто.\n",
      "0.8477312933723882\n",
      "-\n",
      "Лисица стала пускать в ход все свои увертки, но раз ошиблась.\n",
      "Ривезась кармась эрьва кода велявтневеме ды ваа рясто эзь велявтово.\n",
      "0.5550561950487249\n",
      "-\n",
      "Лисица стала пускать в ход все свои увертки, но раз ошиблась.\n",
      "Ривезась кармась эрьва кода велявтневеме ды ваа рясто эзь велявтово.\n",
      "0.5550561950487249\n",
      "-\n",
      "Собаки ее и поймали.\n",
      "Кискатне сонзэ кундызь,\n",
      "0.5311178642770519\n",
      "-\n",
      "Я знаю одну такую уловку.\n",
      "Монь ули вейке истямо ёжовчим.\n",
      "0.5727627376715343\n",
      "-\n",
      "Собаки ее и поймали.\n",
      "Кискатне сонзэ кундызь,\n",
      "0.5311178642770519\n",
      "-\n"
     ]
    }
   ],
   "source": [
    "for _ in range(10):\n",
    "    i, j = random.choice(alignment)\n",
    "    print(sents_ru[i])\n",
    "    print(sents_er[j])\n",
    "    print(sims[i, j])\n",
    "    print('-')"
   ]
  },
  {
   "cell_type": "code",
   "execution_count": 203,
   "id": "16804640",
   "metadata": {
    "scrolled": true
   },
   "outputs": [
    {
     "data": {
      "application/vnd.jupyter.widget-view+json": {
       "model_id": "3040796a07d64bb7b0d1deff6a9801a9",
       "version_major": 2,
       "version_minor": 0
      },
      "text/plain": [
       "  0%|          | 0/63 [00:00<?, ?it/s]"
      ]
     },
     "metadata": {},
     "output_type": "display_data"
    },
    {
     "data": {
      "application/vnd.jupyter.widget-view+json": {
       "model_id": "4788ed8d3b7141bf806b0bff814b34de",
       "version_major": 2,
       "version_minor": 0
      },
      "text/plain": [
       "  0%|          | 0/74 [00:00<?, ?it/s]"
      ]
     },
     "metadata": {},
     "output_type": "display_data"
    },
    {
     "name": "stdout",
     "output_type": "stream",
     "text": [
      "0.4630563064076396\n"
     ]
    },
    {
     "data": {
      "application/vnd.jupyter.widget-view+json": {
       "model_id": "2e22bb00eaf1483ab684580d64e20021",
       "version_major": 2,
       "version_minor": 0
      },
      "text/plain": [
       "  0%|          | 0/38 [00:00<?, ?it/s]"
      ]
     },
     "metadata": {},
     "output_type": "display_data"
    },
    {
     "name": "stdout",
     "output_type": "stream",
     "text": [
      "0.5235887376245557\n"
     ]
    },
    {
     "data": {
      "application/vnd.jupyter.widget-view+json": {
       "model_id": "bf5212b8fabb45a0947a841aa1c72bf8",
       "version_major": 2,
       "version_minor": 0
      },
      "text/plain": [
       "  0%|          | 0/63 [00:00<?, ?it/s]"
      ]
     },
     "metadata": {},
     "output_type": "display_data"
    },
    {
     "name": "stdout",
     "output_type": "stream",
     "text": [
      "0.6028594797383795\n"
     ]
    },
    {
     "data": {
      "application/vnd.jupyter.widget-view+json": {
       "model_id": "d0be2976668046fb881aafe7e8e000f1",
       "version_major": 2,
       "version_minor": 0
      },
      "text/plain": [
       "  0%|          | 0/99 [00:00<?, ?it/s]"
      ]
     },
     "metadata": {},
     "output_type": "display_data"
    },
    {
     "name": "stdout",
     "output_type": "stream",
     "text": [
      "0.530531671553623\n"
     ]
    },
    {
     "data": {
      "application/vnd.jupyter.widget-view+json": {
       "model_id": "3c6d3419017c4c0d97f1dafca6fc47a1",
       "version_major": 2,
       "version_minor": 0
      },
      "text/plain": [
       "  0%|          | 0/58 [00:00<?, ?it/s]"
      ]
     },
     "metadata": {},
     "output_type": "display_data"
    },
    {
     "name": "stdout",
     "output_type": "stream",
     "text": [
      "0.5344503047763646\n"
     ]
    },
    {
     "data": {
      "application/vnd.jupyter.widget-view+json": {
       "model_id": "790bb2e1d5fb45899f361c9a45753b15",
       "version_major": 2,
       "version_minor": 0
      },
      "text/plain": [
       "  0%|          | 0/42 [00:00<?, ?it/s]"
      ]
     },
     "metadata": {},
     "output_type": "display_data"
    },
    {
     "name": "stdout",
     "output_type": "stream",
     "text": [
      "0.570042803519376\n"
     ]
    },
    {
     "data": {
      "application/vnd.jupyter.widget-view+json": {
       "model_id": "b5f2403edeeb4f89baee8ca2236dec8d",
       "version_major": 2,
       "version_minor": 0
      },
      "text/plain": [
       "  0%|          | 0/46 [00:00<?, ?it/s]"
      ]
     },
     "metadata": {},
     "output_type": "display_data"
    },
    {
     "name": "stdout",
     "output_type": "stream",
     "text": [
      "0.5379069082156085\n"
     ]
    },
    {
     "data": {
      "application/vnd.jupyter.widget-view+json": {
       "model_id": "6d84b132590d4d54bd0184601043803d",
       "version_major": 2,
       "version_minor": 0
      },
      "text/plain": [
       "  0%|          | 0/42 [00:00<?, ?it/s]"
      ]
     },
     "metadata": {},
     "output_type": "display_data"
    },
    {
     "name": "stdout",
     "output_type": "stream",
     "text": [
      "0.5507197751828016\n"
     ]
    },
    {
     "data": {
      "application/vnd.jupyter.widget-view+json": {
       "model_id": "930237e01af8479bb34f907826eef6f8",
       "version_major": 2,
       "version_minor": 0
      },
      "text/plain": [
       "  0%|          | 0/59 [00:00<?, ?it/s]"
      ]
     },
     "metadata": {},
     "output_type": "display_data"
    },
    {
     "name": "stdout",
     "output_type": "stream",
     "text": [
      "0.48005143714163756\n"
     ]
    },
    {
     "data": {
      "application/vnd.jupyter.widget-view+json": {
       "model_id": "b794848993a749eaaa400332bbdc482f",
       "version_major": 2,
       "version_minor": 0
      },
      "text/plain": [
       "  0%|          | 0/84 [00:00<?, ?it/s]"
      ]
     },
     "metadata": {},
     "output_type": "display_data"
    },
    {
     "name": "stdout",
     "output_type": "stream",
     "text": [
      "0.5334892950188317\n"
     ]
    },
    {
     "data": {
      "application/vnd.jupyter.widget-view+json": {
       "model_id": "105ef9c93f9a4273a9a3a633a0945b9a",
       "version_major": 2,
       "version_minor": 0
      },
      "text/plain": [
       "  0%|          | 0/11 [00:00<?, ?it/s]"
      ]
     },
     "metadata": {},
     "output_type": "display_data"
    },
    {
     "name": "stdout",
     "output_type": "stream",
     "text": [
      "0.40176266574753516\n"
     ]
    },
    {
     "data": {
      "application/vnd.jupyter.widget-view+json": {
       "model_id": "62ca353227a146e3bb08482024e91368",
       "version_major": 2,
       "version_minor": 0
      },
      "text/plain": [
       "  0%|          | 0/34 [00:00<?, ?it/s]"
      ]
     },
     "metadata": {},
     "output_type": "display_data"
    },
    {
     "name": "stdout",
     "output_type": "stream",
     "text": [
      "0.5415516734185698\n"
     ]
    },
    {
     "data": {
      "application/vnd.jupyter.widget-view+json": {
       "model_id": "890cb57f8e5543048cfd029dec92d95d",
       "version_major": 2,
       "version_minor": 0
      },
      "text/plain": [
       "  0%|          | 0/319 [00:00<?, ?it/s]"
      ]
     },
     "metadata": {},
     "output_type": "display_data"
    },
    {
     "name": "stdout",
     "output_type": "stream",
     "text": [
      "0.5209817474490984\n"
     ]
    },
    {
     "data": {
      "application/vnd.jupyter.widget-view+json": {
       "model_id": "14806d13ee334bcf9080905a1ae882e2",
       "version_major": 2,
       "version_minor": 0
      },
      "text/plain": [
       "  0%|          | 0/95 [00:00<?, ?it/s]"
      ]
     },
     "metadata": {},
     "output_type": "display_data"
    },
    {
     "name": "stdout",
     "output_type": "stream",
     "text": [
      "0.5933586445016863\n"
     ]
    },
    {
     "data": {
      "application/vnd.jupyter.widget-view+json": {
       "model_id": "95c69b5b2447474db5f93d680da09e81",
       "version_major": 2,
       "version_minor": 0
      },
      "text/plain": [
       "  0%|          | 0/216 [00:00<?, ?it/s]"
      ]
     },
     "metadata": {},
     "output_type": "display_data"
    },
    {
     "name": "stdout",
     "output_type": "stream",
     "text": [
      "0.5102973669700718\n"
     ]
    },
    {
     "data": {
      "application/vnd.jupyter.widget-view+json": {
       "model_id": "236f49c0003948a9a7210c379e70bdd1",
       "version_major": 2,
       "version_minor": 0
      },
      "text/plain": [
       "  0%|          | 0/79 [00:00<?, ?it/s]"
      ]
     },
     "metadata": {},
     "output_type": "display_data"
    },
    {
     "name": "stdout",
     "output_type": "stream",
     "text": [
      "0.5213827949468067\n"
     ]
    },
    {
     "data": {
      "application/vnd.jupyter.widget-view+json": {
       "model_id": "bb807e442f5e4307b078c572f687b292",
       "version_major": 2,
       "version_minor": 0
      },
      "text/plain": [
       "  0%|          | 0/453 [00:00<?, ?it/s]"
      ]
     },
     "metadata": {},
     "output_type": "display_data"
    },
    {
     "name": "stdout",
     "output_type": "stream",
     "text": [
      "0.5085413179041565\n"
     ]
    },
    {
     "data": {
      "application/vnd.jupyter.widget-view+json": {
       "model_id": "a3b9cacf643e46f7b140e2b0fca7165f",
       "version_major": 2,
       "version_minor": 0
      },
      "text/plain": [
       "  0%|          | 0/130 [00:00<?, ?it/s]"
      ]
     },
     "metadata": {},
     "output_type": "display_data"
    },
    {
     "name": "stdout",
     "output_type": "stream",
     "text": [
      "0.44624711798317407\n"
     ]
    },
    {
     "data": {
      "application/vnd.jupyter.widget-view+json": {
       "model_id": "62e2c2c43d5042b083db2dd1a391eddf",
       "version_major": 2,
       "version_minor": 0
      },
      "text/plain": [
       "  0%|          | 0/72 [00:00<?, ?it/s]"
      ]
     },
     "metadata": {},
     "output_type": "display_data"
    },
    {
     "name": "stdout",
     "output_type": "stream",
     "text": [
      "0.4956865652820503\n"
     ]
    },
    {
     "data": {
      "application/vnd.jupyter.widget-view+json": {
       "model_id": "8ae52ae258a849149b69722bdbbd49e5",
       "version_major": 2,
       "version_minor": 0
      },
      "text/plain": [
       "  0%|          | 0/88 [00:00<?, ?it/s]"
      ]
     },
     "metadata": {},
     "output_type": "display_data"
    },
    {
     "name": "stdout",
     "output_type": "stream",
     "text": [
      "0.5622149757934566\n"
     ]
    },
    {
     "data": {
      "application/vnd.jupyter.widget-view+json": {
       "model_id": "d59c978747cf4864bc17fa97d8ee1277",
       "version_major": 2,
       "version_minor": 0
      },
      "text/plain": [
       "  0%|          | 0/107 [00:00<?, ?it/s]"
      ]
     },
     "metadata": {},
     "output_type": "display_data"
    },
    {
     "name": "stdout",
     "output_type": "stream",
     "text": [
      "0.5263424224778129\n"
     ]
    },
    {
     "data": {
      "application/vnd.jupyter.widget-view+json": {
       "model_id": "904a3180edd74d32b1101668b01928b4",
       "version_major": 2,
       "version_minor": 0
      },
      "text/plain": [
       "  0%|          | 0/45 [00:00<?, ?it/s]"
      ]
     },
     "metadata": {},
     "output_type": "display_data"
    },
    {
     "name": "stdout",
     "output_type": "stream",
     "text": [
      "0.47746076038809604\n"
     ]
    },
    {
     "data": {
      "application/vnd.jupyter.widget-view+json": {
       "model_id": "aaec18a716ba45b7a6d6badef6b8874e",
       "version_major": 2,
       "version_minor": 0
      },
      "text/plain": [
       "  0%|          | 0/141 [00:00<?, ?it/s]"
      ]
     },
     "metadata": {},
     "output_type": "display_data"
    },
    {
     "name": "stdout",
     "output_type": "stream",
     "text": [
      "0.4985031296330878\n"
     ]
    },
    {
     "data": {
      "application/vnd.jupyter.widget-view+json": {
       "model_id": "bc41a5704e4b40bb822ac5a90331e24d",
       "version_major": 2,
       "version_minor": 0
      },
      "text/plain": [
       "  0%|          | 0/88 [00:00<?, ?it/s]"
      ]
     },
     "metadata": {},
     "output_type": "display_data"
    },
    {
     "name": "stdout",
     "output_type": "stream",
     "text": [
      "0.5093247826120142\n"
     ]
    },
    {
     "data": {
      "application/vnd.jupyter.widget-view+json": {
       "model_id": "179a4be3a06a49edb3a09e17017a5dea",
       "version_major": 2,
       "version_minor": 0
      },
      "text/plain": [
       "  0%|          | 0/122 [00:00<?, ?it/s]"
      ]
     },
     "metadata": {},
     "output_type": "display_data"
    },
    {
     "name": "stdout",
     "output_type": "stream",
     "text": [
      "0.5269303978081425\n"
     ]
    },
    {
     "data": {
      "application/vnd.jupyter.widget-view+json": {
       "model_id": "4807781e300d40b8b23ffeb19a84e3c3",
       "version_major": 2,
       "version_minor": 0
      },
      "text/plain": [
       "  0%|          | 0/63 [00:00<?, ?it/s]"
      ]
     },
     "metadata": {},
     "output_type": "display_data"
    },
    {
     "name": "stdout",
     "output_type": "stream",
     "text": [
      "0.4878794617343131\n"
     ]
    },
    {
     "data": {
      "application/vnd.jupyter.widget-view+json": {
       "model_id": "fe0547c8a9d346bcb648a62095e59068",
       "version_major": 2,
       "version_minor": 0
      },
      "text/plain": [
       "  0%|          | 0/65 [00:00<?, ?it/s]"
      ]
     },
     "metadata": {},
     "output_type": "display_data"
    },
    {
     "name": "stdout",
     "output_type": "stream",
     "text": [
      "0.48819166168201794\n"
     ]
    },
    {
     "data": {
      "application/vnd.jupyter.widget-view+json": {
       "model_id": "b50b066b107b4398b012414523312017",
       "version_major": 2,
       "version_minor": 0
      },
      "text/plain": [
       "  0%|          | 0/57 [00:00<?, ?it/s]"
      ]
     },
     "metadata": {},
     "output_type": "display_data"
    },
    {
     "name": "stdout",
     "output_type": "stream",
     "text": [
      "0.584706123939268\n"
     ]
    },
    {
     "data": {
      "application/vnd.jupyter.widget-view+json": {
       "model_id": "635d621cc8fc40c38184ea5c8374dbb9",
       "version_major": 2,
       "version_minor": 0
      },
      "text/plain": [
       "  0%|          | 0/49 [00:00<?, ?it/s]"
      ]
     },
     "metadata": {},
     "output_type": "display_data"
    },
    {
     "name": "stdout",
     "output_type": "stream",
     "text": [
      "0.5313516296053223\n"
     ]
    },
    {
     "data": {
      "application/vnd.jupyter.widget-view+json": {
       "model_id": "11d5b3ac448340ac94635acb64f16912",
       "version_major": 2,
       "version_minor": 0
      },
      "text/plain": [
       "  0%|          | 0/117 [00:00<?, ?it/s]"
      ]
     },
     "metadata": {},
     "output_type": "display_data"
    },
    {
     "name": "stdout",
     "output_type": "stream",
     "text": [
      "0.3375858339648804\n"
     ]
    },
    {
     "data": {
      "application/vnd.jupyter.widget-view+json": {
       "model_id": "3d179bdef14a4f71a049a1abd07b43eb",
       "version_major": 2,
       "version_minor": 0
      },
      "text/plain": [
       "  0%|          | 0/36 [00:00<?, ?it/s]"
      ]
     },
     "metadata": {},
     "output_type": "display_data"
    },
    {
     "name": "stdout",
     "output_type": "stream",
     "text": [
      "0.4656847117360109\n"
     ]
    },
    {
     "data": {
      "application/vnd.jupyter.widget-view+json": {
       "model_id": "6901cbc8c6c64c419998a83c3e7fe5ea",
       "version_major": 2,
       "version_minor": 0
      },
      "text/plain": [
       "  0%|          | 0/33 [00:00<?, ?it/s]"
      ]
     },
     "metadata": {},
     "output_type": "display_data"
    },
    {
     "name": "stdout",
     "output_type": "stream",
     "text": [
      "0.5805533770666247\n"
     ]
    },
    {
     "data": {
      "application/vnd.jupyter.widget-view+json": {
       "model_id": "63c50a30fac5426d865d6bdbdbce5848",
       "version_major": 2,
       "version_minor": 0
      },
      "text/plain": [
       "  0%|          | 0/20 [00:00<?, ?it/s]"
      ]
     },
     "metadata": {},
     "output_type": "display_data"
    },
    {
     "name": "stdout",
     "output_type": "stream",
     "text": [
      "0.5980796299633783\n"
     ]
    },
    {
     "data": {
      "application/vnd.jupyter.widget-view+json": {
       "model_id": "51ccc8e18de543328a97f91c2f9b4be4",
       "version_major": 2,
       "version_minor": 0
      },
      "text/plain": [
       "  0%|          | 0/138 [00:00<?, ?it/s]"
      ]
     },
     "metadata": {},
     "output_type": "display_data"
    },
    {
     "name": "stdout",
     "output_type": "stream",
     "text": [
      "0.47076253956484065\n"
     ]
    },
    {
     "data": {
      "application/vnd.jupyter.widget-view+json": {
       "model_id": "433218dea8774ac28526b1cf84b60089",
       "version_major": 2,
       "version_minor": 0
      },
      "text/plain": [
       "  0%|          | 0/132 [00:00<?, ?it/s]"
      ]
     },
     "metadata": {},
     "output_type": "display_data"
    },
    {
     "name": "stdout",
     "output_type": "stream",
     "text": [
      "0.4852838742532783\n"
     ]
    },
    {
     "data": {
      "application/vnd.jupyter.widget-view+json": {
       "model_id": "86bf7ed3d295469aa08d2dc09325db28",
       "version_major": 2,
       "version_minor": 0
      },
      "text/plain": [
       "  0%|          | 0/95 [00:00<?, ?it/s]"
      ]
     },
     "metadata": {},
     "output_type": "display_data"
    },
    {
     "name": "stdout",
     "output_type": "stream",
     "text": [
      "0.5205392953531481\n"
     ]
    },
    {
     "data": {
      "application/vnd.jupyter.widget-view+json": {
       "model_id": "a7eb7c45a5814888bf1b3106e7f9aa5d",
       "version_major": 2,
       "version_minor": 0
      },
      "text/plain": [
       "  0%|          | 0/40 [00:00<?, ?it/s]"
      ]
     },
     "metadata": {},
     "output_type": "display_data"
    },
    {
     "name": "stdout",
     "output_type": "stream",
     "text": [
      "0.5957571471589062\n"
     ]
    },
    {
     "data": {
      "application/vnd.jupyter.widget-view+json": {
       "model_id": "2be77b2296044399bda64f7e00c8bb5c",
       "version_major": 2,
       "version_minor": 0
      },
      "text/plain": [
       "  0%|          | 0/73 [00:00<?, ?it/s]"
      ]
     },
     "metadata": {},
     "output_type": "display_data"
    },
    {
     "name": "stdout",
     "output_type": "stream",
     "text": [
      "0.5013182273532804\n"
     ]
    },
    {
     "data": {
      "application/vnd.jupyter.widget-view+json": {
       "model_id": "c6bf99ce539840af8b0e5a6fece48d85",
       "version_major": 2,
       "version_minor": 0
      },
      "text/plain": [
       "  0%|          | 0/101 [00:00<?, ?it/s]"
      ]
     },
     "metadata": {},
     "output_type": "display_data"
    },
    {
     "name": "stdout",
     "output_type": "stream",
     "text": [
      "0.5484717226213737\n"
     ]
    },
    {
     "data": {
      "application/vnd.jupyter.widget-view+json": {
       "model_id": "de1b9c6c300a405abcb3eab9bc81d12c",
       "version_major": 2,
       "version_minor": 0
      },
      "text/plain": [
       "  0%|          | 0/82 [00:00<?, ?it/s]"
      ]
     },
     "metadata": {},
     "output_type": "display_data"
    },
    {
     "name": "stdout",
     "output_type": "stream",
     "text": [
      "0.5294987423605433\n"
     ]
    },
    {
     "data": {
      "application/vnd.jupyter.widget-view+json": {
       "model_id": "1d1d832b83c94bbf819608d1b7569136",
       "version_major": 2,
       "version_minor": 0
      },
      "text/plain": [
       "  0%|          | 0/70 [00:00<?, ?it/s]"
      ]
     },
     "metadata": {},
     "output_type": "display_data"
    },
    {
     "name": "stdout",
     "output_type": "stream",
     "text": [
      "0.5469956560488347\n"
     ]
    },
    {
     "data": {
      "application/vnd.jupyter.widget-view+json": {
       "model_id": "75720acf05304bd68ffb578999f3cc15",
       "version_major": 2,
       "version_minor": 0
      },
      "text/plain": [
       "  0%|          | 0/84 [00:00<?, ?it/s]"
      ]
     },
     "metadata": {},
     "output_type": "display_data"
    },
    {
     "name": "stdout",
     "output_type": "stream",
     "text": [
      "0.5591159062399895\n"
     ]
    },
    {
     "data": {
      "application/vnd.jupyter.widget-view+json": {
       "model_id": "aa41610fa13b4185b6b1f611ec4d9d63",
       "version_major": 2,
       "version_minor": 0
      },
      "text/plain": [
       "  0%|          | 0/157 [00:00<?, ?it/s]"
      ]
     },
     "metadata": {},
     "output_type": "display_data"
    },
    {
     "name": "stdout",
     "output_type": "stream",
     "text": [
      "0.49705505361599056\n"
     ]
    },
    {
     "data": {
      "application/vnd.jupyter.widget-view+json": {
       "model_id": "d1ff75eaefd84f209a8bfc241e7b0c60",
       "version_major": 2,
       "version_minor": 0
      },
      "text/plain": [
       "  0%|          | 0/139 [00:00<?, ?it/s]"
      ]
     },
     "metadata": {},
     "output_type": "display_data"
    },
    {
     "name": "stdout",
     "output_type": "stream",
     "text": [
      "0.5052060277446504\n"
     ]
    },
    {
     "data": {
      "application/vnd.jupyter.widget-view+json": {
       "model_id": "5e37f75452224ce1972c7b41d9a1b662",
       "version_major": 2,
       "version_minor": 0
      },
      "text/plain": [
       "  0%|          | 0/50 [00:00<?, ?it/s]"
      ]
     },
     "metadata": {},
     "output_type": "display_data"
    },
    {
     "name": "stdout",
     "output_type": "stream",
     "text": [
      "0.5598502635689534\n"
     ]
    },
    {
     "data": {
      "application/vnd.jupyter.widget-view+json": {
       "model_id": "eea99c6108cf426596dff06d5890f6b7",
       "version_major": 2,
       "version_minor": 0
      },
      "text/plain": [
       "  0%|          | 0/7 [00:00<?, ?it/s]"
      ]
     },
     "metadata": {},
     "output_type": "display_data"
    },
    {
     "name": "stdout",
     "output_type": "stream",
     "text": [
      "0.4350551652126401\n"
     ]
    },
    {
     "data": {
      "application/vnd.jupyter.widget-view+json": {
       "model_id": "25e2580866d14f6e999d5998f82f5293",
       "version_major": 2,
       "version_minor": 0
      },
      "text/plain": [
       "  0%|          | 0/43 [00:00<?, ?it/s]"
      ]
     },
     "metadata": {},
     "output_type": "display_data"
    },
    {
     "name": "stdout",
     "output_type": "stream",
     "text": [
      "0.5222087252574914\n"
     ]
    },
    {
     "data": {
      "application/vnd.jupyter.widget-view+json": {
       "model_id": "ac7746ba5b784c71a8357db6a3cc1f3a",
       "version_major": 2,
       "version_minor": 0
      },
      "text/plain": [
       "  0%|          | 0/81 [00:00<?, ?it/s]"
      ]
     },
     "metadata": {},
     "output_type": "display_data"
    },
    {
     "name": "stdout",
     "output_type": "stream",
     "text": [
      "0.48050082593087956\n"
     ]
    },
    {
     "data": {
      "application/vnd.jupyter.widget-view+json": {
       "model_id": "654372bc958b47d7953cb7cc4fa61a87",
       "version_major": 2,
       "version_minor": 0
      },
      "text/plain": [
       "  0%|          | 0/67 [00:00<?, ?it/s]"
      ]
     },
     "metadata": {},
     "output_type": "display_data"
    },
    {
     "name": "stdout",
     "output_type": "stream",
     "text": [
      "0.3497183527306361\n"
     ]
    },
    {
     "data": {
      "application/vnd.jupyter.widget-view+json": {
       "model_id": "fa782d7f326441c89ce32228a610faa7",
       "version_major": 2,
       "version_minor": 0
      },
      "text/plain": [
       "  0%|          | 0/97 [00:00<?, ?it/s]"
      ]
     },
     "metadata": {},
     "output_type": "display_data"
    },
    {
     "name": "stdout",
     "output_type": "stream",
     "text": [
      "0.42241579185661854\n"
     ]
    },
    {
     "data": {
      "application/vnd.jupyter.widget-view+json": {
       "model_id": "8f1876d423af44768f1b38142ac3880c",
       "version_major": 2,
       "version_minor": 0
      },
      "text/plain": [
       "  0%|          | 0/12 [00:00<?, ?it/s]"
      ]
     },
     "metadata": {},
     "output_type": "display_data"
    },
    {
     "name": "stdout",
     "output_type": "stream",
     "text": [
      "0.42777093201933\n"
     ]
    },
    {
     "data": {
      "application/vnd.jupyter.widget-view+json": {
       "model_id": "073fe5afbc6e4e97a78d6f865aa39d80",
       "version_major": 2,
       "version_minor": 0
      },
      "text/plain": [
       "  0%|          | 0/97 [00:00<?, ?it/s]"
      ]
     },
     "metadata": {},
     "output_type": "display_data"
    },
    {
     "name": "stdout",
     "output_type": "stream",
     "text": [
      "0.504618275392419\n"
     ]
    },
    {
     "data": {
      "application/vnd.jupyter.widget-view+json": {
       "model_id": "1b24e8c8697b4c92b2df4d9493188036",
       "version_major": 2,
       "version_minor": 0
      },
      "text/plain": [
       "  0%|          | 0/60 [00:00<?, ?it/s]"
      ]
     },
     "metadata": {},
     "output_type": "display_data"
    },
    {
     "name": "stdout",
     "output_type": "stream",
     "text": [
      "0.5538594311912166\n"
     ]
    },
    {
     "data": {
      "application/vnd.jupyter.widget-view+json": {
       "model_id": "df951c4a7158450792c44c8a24ff722e",
       "version_major": 2,
       "version_minor": 0
      },
      "text/plain": [
       "  0%|          | 0/131 [00:00<?, ?it/s]"
      ]
     },
     "metadata": {},
     "output_type": "display_data"
    },
    {
     "name": "stdout",
     "output_type": "stream",
     "text": [
      "0.5273657372772548\n"
     ]
    },
    {
     "data": {
      "application/vnd.jupyter.widget-view+json": {
       "model_id": "fbd5fdbe2d234ff9b0279523e28bada2",
       "version_major": 2,
       "version_minor": 0
      },
      "text/plain": [
       "  0%|          | 0/95 [00:00<?, ?it/s]"
      ]
     },
     "metadata": {},
     "output_type": "display_data"
    },
    {
     "name": "stdout",
     "output_type": "stream",
     "text": [
      "0.5770287625613353\n"
     ]
    },
    {
     "data": {
      "application/vnd.jupyter.widget-view+json": {
       "model_id": "7a07eb6b89564797971411af6b317cd9",
       "version_major": 2,
       "version_minor": 0
      },
      "text/plain": [
       "  0%|          | 0/58 [00:00<?, ?it/s]"
      ]
     },
     "metadata": {},
     "output_type": "display_data"
    },
    {
     "name": "stdout",
     "output_type": "stream",
     "text": [
      "0.5406662524304889\n"
     ]
    },
    {
     "data": {
      "application/vnd.jupyter.widget-view+json": {
       "model_id": "7ea0eb7da1e447028bb5873a69e163d4",
       "version_major": 2,
       "version_minor": 0
      },
      "text/plain": [
       "  0%|          | 0/17 [00:00<?, ?it/s]"
      ]
     },
     "metadata": {},
     "output_type": "display_data"
    },
    {
     "name": "stdout",
     "output_type": "stream",
     "text": [
      "0.5432308960688459\n"
     ]
    },
    {
     "data": {
      "application/vnd.jupyter.widget-view+json": {
       "model_id": "0af7ee24ed4f497ca8902350943cca52",
       "version_major": 2,
       "version_minor": 0
      },
      "text/plain": [
       "  0%|          | 0/22 [00:00<?, ?it/s]"
      ]
     },
     "metadata": {},
     "output_type": "display_data"
    },
    {
     "name": "stdout",
     "output_type": "stream",
     "text": [
      "0.5437793497639456\n"
     ]
    },
    {
     "data": {
      "application/vnd.jupyter.widget-view+json": {
       "model_id": "543e4c1edc9e4fc6ada65fcc6985568d",
       "version_major": 2,
       "version_minor": 0
      },
      "text/plain": [
       "  0%|          | 0/10 [00:00<?, ?it/s]"
      ]
     },
     "metadata": {},
     "output_type": "display_data"
    },
    {
     "name": "stdout",
     "output_type": "stream",
     "text": [
      "0.5395853890816512\n"
     ]
    },
    {
     "data": {
      "application/vnd.jupyter.widget-view+json": {
       "model_id": "3ee30940520a42d0a65479c0b9934a99",
       "version_major": 2,
       "version_minor": 0
      },
      "text/plain": [
       "  0%|          | 0/14 [00:00<?, ?it/s]"
      ]
     },
     "metadata": {},
     "output_type": "display_data"
    },
    {
     "name": "stdout",
     "output_type": "stream",
     "text": [
      "0.6166317446582515\n"
     ]
    },
    {
     "data": {
      "application/vnd.jupyter.widget-view+json": {
       "model_id": "e16ca6c29e744d469d4bc924fc9fde0b",
       "version_major": 2,
       "version_minor": 0
      },
      "text/plain": [
       "  0%|          | 0/6 [00:00<?, ?it/s]"
      ]
     },
     "metadata": {},
     "output_type": "display_data"
    },
    {
     "name": "stdout",
     "output_type": "stream",
     "text": [
      "0.4718267464607892\n"
     ]
    },
    {
     "data": {
      "application/vnd.jupyter.widget-view+json": {
       "model_id": "85e3536b31b24393a51db4403be1e0c2",
       "version_major": 2,
       "version_minor": 0
      },
      "text/plain": [
       "  0%|          | 0/33 [00:00<?, ?it/s]"
      ]
     },
     "metadata": {},
     "output_type": "display_data"
    },
    {
     "name": "stdout",
     "output_type": "stream",
     "text": [
      "0.5884666883457038\n"
     ]
    },
    {
     "data": {
      "application/vnd.jupyter.widget-view+json": {
       "model_id": "0b7e08b300ec4548b21a07d553d18d09",
       "version_major": 2,
       "version_minor": 0
      },
      "text/plain": [
       "  0%|          | 0/17 [00:00<?, ?it/s]"
      ]
     },
     "metadata": {},
     "output_type": "display_data"
    },
    {
     "name": "stdout",
     "output_type": "stream",
     "text": [
      "0.49396160053937743\n"
     ]
    }
   ],
   "source": [
    "mathed_stories = []\n",
    "\n",
    "for i in trange(len(stories)//2):\n",
    "    sents_er = make_sents(stories[2*i])\n",
    "    sents_ru = make_sents(stories[2*i+1])\n",
    "\n",
    "    emb_ru = np.stack([embed(s) for s in sents_ru])\n",
    "    emb_er = np.stack([embed(s) for s in sents_er])\n",
    "    \n",
    "    pen = np.array([[min(len(x), len(y)) / max(len(x), len(y)) for x in sents_er] for y in sents_ru])\n",
    "    sims = np.maximum(0, np.dot(emb_ru, emb_er.T)) ** 1 * pen\n",
    "\n",
    "    alpha = 0.2\n",
    "    sims_rel = (sims.T - get_top_mean_by_row(sims) * alpha).T - get_top_mean_by_row(sims.T) * alpha\n",
    "\n",
    "    alignment = align3(sims_rel)\n",
    "\n",
    "    print(sum(sims[i, j] for i, j in alignment) / min(sims.shape))\n",
    "    \n",
    "    for i, j in alignment:\n",
    "        if sims[i, j] >= 0.4: \n",
    "            mathed_stories.append([sents_er[j], sents_ru[i]])"
   ]
  },
  {
   "cell_type": "code",
   "execution_count": 204,
   "id": "6c5291cc",
   "metadata": {},
   "outputs": [
    {
     "name": "stdout",
     "output_type": "stream",
     "text": [
      "3676\n"
     ]
    }
   ],
   "source": [
    "print(len(mathed_stories))"
   ]
  },
  {
   "cell_type": "code",
   "execution_count": 205,
   "id": "4e5db711",
   "metadata": {},
   "outputs": [],
   "source": [
    "matched_riddles = []\n",
    "\n",
    "cand = []\n",
    "\n",
    "for line in riddle_lines:\n",
    "    if line.replace(' ', '').replace('*', '').replace('#', '') == '':\n",
    "        continue\n",
    "    line = fix_breaks(line)\n",
    "    line = re.sub('\\([^()]*\\)', '', line).strip()\n",
    "    if line.split('.')[0].isdigit():\n",
    "        sents = make_sents([line.split('.', 1)[1]])\n",
    "        if len(sents) == 2:\n",
    "            matched_riddles.append(sents)\n",
    "        elif len(sents) == 1:\n",
    "            cand = sents\n",
    "        else:\n",
    "            cand = []\n",
    "    else:\n",
    "        sents = make_sents(line)\n",
    "        if len(sents) == 1 and len(cand) == 1:\n",
    "            matched_riddles.append(cand+sents)"
   ]
  },
  {
   "cell_type": "code",
   "execution_count": 206,
   "id": "a6024b9d",
   "metadata": {},
   "outputs": [
    {
     "data": {
      "text/plain": [
       "100"
      ]
     },
     "execution_count": 206,
     "metadata": {},
     "output_type": "execute_result"
    }
   ],
   "source": [
    "len(matched_riddles)"
   ]
  },
  {
   "cell_type": "code",
   "execution_count": 207,
   "id": "d509aede",
   "metadata": {},
   "outputs": [],
   "source": [
    "with open('other_sources/evsenyev_stories_aligned.json', 'w') as f:\n",
    "    json.dump(mathed_stories+matched_riddles, f, ensure_ascii=False, indent=2)"
   ]
  },
  {
   "cell_type": "code",
   "execution_count": null,
   "id": "09572512",
   "metadata": {},
   "outputs": [],
   "source": []
  }
 ],
 "metadata": {
  "kernelspec": {
   "display_name": "Python 3 (ipykernel)",
   "language": "python",
   "name": "python3"
  },
  "language_info": {
   "codemirror_mode": {
    "name": "ipython",
    "version": 3
   },
   "file_extension": ".py",
   "mimetype": "text/x-python",
   "name": "python",
   "nbconvert_exporter": "python",
   "pygments_lexer": "ipython3",
   "version": "3.9.6"
  }
 },
 "nbformat": 4,
 "nbformat_minor": 5
}
