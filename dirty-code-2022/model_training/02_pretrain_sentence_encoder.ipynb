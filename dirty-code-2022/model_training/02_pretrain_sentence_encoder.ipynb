{
 "cells": [
  {
   "cell_type": "markdown",
   "id": "83617225",
   "metadata": {},
   "source": [
    "# Collect the data"
   ]
  },
  {
   "cell_type": "markdown",
   "id": "f2c19323",
   "metadata": {},
   "source": [
    "## Raw data"
   ]
  },
  {
   "cell_type": "code",
   "execution_count": 1,
   "id": "df2081cc",
   "metadata": {},
   "outputs": [],
   "source": [
    "import os\n",
    "import pandas as pd\n",
    "import razdel\n",
    "import re\n",
    "import random\n",
    "import json\n",
    "from tqdm.auto import tqdm, trange"
   ]
  },
  {
   "cell_type": "code",
   "execution_count": 2,
   "id": "d586c267",
   "metadata": {
    "scrolled": true
   },
   "outputs": [
    {
     "name": "stdout",
     "output_type": "stream",
     "text": [
      "Balankin_001.txt\n",
      "917\n",
      "BeBANMaksimAfanas'evich_002.txt\n",
      "6485\n",
      "BeZBoRoDoVMihailIl'ich_002.txt\n",
      "4734\n",
      "EjovAnatoliiiFedorovich_002.txt\n",
      "1075\n",
      "GolenkovNikolaiiBorisovich_002.txt\n",
      "3192\n",
      "Kemaiikina_001.txt\n",
      "2195\n",
      "kosheleva_001.txt\n",
      "382\n",
      "KyldyrkaevEAkovEAkovlevich_001.txt\n",
      "3214\n",
      "KyldyrkaevEAkovEAkovlevich_002.txt\n",
      "7795\n",
      "LiyleakinaSerafimaMarkovna_001.txt\n",
      "2171\n",
      "RadaevVasiliiiKyz'mich_002.txt\n",
      "8201\n",
      "Александр Арапов.txt\n",
      "2816\n",
      "Лобанов.txt\n",
      "336\n",
      "радаев.txt\n",
      "8201\n",
      "Яков Кулдуркаев - ЭРЬМЕЗЬ.txt\n",
      "1156\n",
      "52870\n"
     ]
    }
   ],
   "source": [
    "bp = 'books_mono/'\n",
    "books_sents = []\n",
    "for fn in os.listdir(bp):\n",
    "    if fn.endswith('.txt'):\n",
    "        print(fn)\n",
    "        with open(bp + fn, 'r') as f:\n",
    "            raw_lines = f.readlines()\n",
    "        sents = []\n",
    "        raw_text = ''.join(raw_lines).replace('\\xa0', ' ')\n",
    "        raw_text = re.sub('\\s+', ' ', raw_text).strip().replace('* ', '')\n",
    "        \n",
    "        for sent in list(razdel.sentenize(raw_text)):\n",
    "            text = sent.text.replace('-\\n', '').replace('\\n', ' ').strip()\n",
    "            if len(text) >= 3 and len(text) <= 500:\n",
    "                sents.append(text)\n",
    "        print(len(sents))\n",
    "        books_sents.extend(sents)\n",
    "        \n",
    "print(len(books_sents))"
   ]
  },
  {
   "cell_type": "code",
   "execution_count": 3,
   "id": "9a1ea169",
   "metadata": {},
   "outputs": [
    {
     "data": {
      "text/plain": [
       "'Явсть минь киньке, кода лофне Тунда явихть модать эзда.'"
      ]
     },
     "execution_count": 3,
     "metadata": {},
     "output_type": "execute_result"
    }
   ],
   "source": [
    "random.choice(books_sents)"
   ]
  },
  {
   "cell_type": "code",
   "execution_count": 4,
   "id": "4fb11e47",
   "metadata": {},
   "outputs": [
    {
     "name": "stdout",
     "output_type": "stream",
     "text": [
      "54798\n"
     ]
    }
   ],
   "source": [
    "bp = 'fennougrica_text/'\n",
    "fennougrica_sents = []\n",
    "\n",
    "for fn in os.listdir(bp):\n",
    "    if fn.endswith('.txt'):\n",
    "        with open(bp + fn, 'r') as f:\n",
    "            raw_lines = f.readlines()\n",
    "        sents = []\n",
    "        raw_text = ''.join(raw_lines).replace('\\xa0', ' ')\n",
    "        raw_text = re.sub('\\s+', ' ', raw_text).strip().replace('* ', '')\n",
    "        \n",
    "        for sent in list(razdel.sentenize(raw_text)):\n",
    "            text = sent.text.replace('-\\n', '').replace('\\n', ' ').strip()\n",
    "            if len(text) >= 3 and len(text) <= 500:\n",
    "                sents.append(text)\n",
    "        fennougrica_sents.extend(sents)\n",
    "        \n",
    "print(len(fennougrica_sents))"
   ]
  },
  {
   "cell_type": "code",
   "execution_count": 5,
   "id": "72de0614",
   "metadata": {},
   "outputs": [
    {
     "data": {
      "text/plain": [
       "'Сталинской Колмоце Пятилеткастонть макстано масторонтень пландо велькска сядот тоннат продукция.'"
      ]
     },
     "execution_count": 5,
     "metadata": {},
     "output_type": "execute_result"
    }
   ],
   "source": [
    "random.choice(fennougrica_sents)"
   ]
  },
  {
   "cell_type": "code",
   "execution_count": 6,
   "id": "aacf3008",
   "metadata": {},
   "outputs": [],
   "source": [
    "with open('other_sources/wikisource_myv_clean.json', 'r') as f:\n",
    "    ws = json.load(f)"
   ]
  },
  {
   "cell_type": "code",
   "execution_count": 7,
   "id": "832f57dc",
   "metadata": {},
   "outputs": [
    {
     "name": "stdout",
     "output_type": "stream",
     "text": [
      "120470\n"
     ]
    }
   ],
   "source": [
    "wikisource_sentences = []\n",
    "\n",
    "for text in ws.values():\n",
    "    sents = []\n",
    "    raw_text = ''.join(text).replace('\\xa0', ' ')\n",
    "    raw_text = re.sub('\\s+', ' ', raw_text).strip().replace('* ', '')\n",
    "\n",
    "    for sent in list(razdel.sentenize(raw_text)):\n",
    "        text = sent.text.replace('-\\n', '').replace('\\n', ' ').strip()\n",
    "        if len(text) >= 3 and len(text) <= 500:\n",
    "            sents.append(text)\n",
    "    wikisource_sentences.extend(sents)\n",
    "\n",
    "print(len(wikisource_sentences))"
   ]
  },
  {
   "cell_type": "code",
   "execution_count": 8,
   "id": "04a79c50",
   "metadata": {},
   "outputs": [
    {
     "data": {
      "text/plain": [
       "'Эйкакштнэнь седе курок саить, эйкакштнэнь...'"
      ]
     },
     "execution_count": 8,
     "metadata": {},
     "output_type": "execute_result"
    }
   ],
   "source": [
    "random.choice(wikisource_sentences)"
   ]
  },
  {
   "cell_type": "code",
   "execution_count": 9,
   "id": "9d97ddf2",
   "metadata": {},
   "outputs": [],
   "source": [
    "pravda = pd.read_csv('other_sources/erzya_pravda.tsv', sep='\\t')"
   ]
  },
  {
   "cell_type": "code",
   "execution_count": 10,
   "id": "306ca51c",
   "metadata": {},
   "outputs": [
    {
     "data": {
      "text/plain": [
       "43772"
      ]
     },
     "execution_count": 10,
     "metadata": {},
     "output_type": "execute_result"
    }
   ],
   "source": [
    "pravda_sents = []\n",
    "\n",
    "for text in pravda.body:\n",
    "    sents = []\n",
    "    raw_text = ''.join(text).replace('\\xa0', ' ')\n",
    "    raw_text = re.sub('\\s+', ' ', raw_text).strip().replace('* ', '')\n",
    "\n",
    "    for sent in list(razdel.sentenize(raw_text)):\n",
    "        text = sent.text.replace('-\\n', '').replace('\\n', ' ').strip()\n",
    "        if len(text) >= 3 and len(text) <= 500:\n",
    "            sents.append(text)\n",
    "    pravda_sents.extend(sents)\n",
    "    \n",
    "len(pravda_sents)"
   ]
  },
  {
   "cell_type": "code",
   "execution_count": 11,
   "id": "e00848aa",
   "metadata": {},
   "outputs": [
    {
     "data": {
      "text/plain": [
       "'Берянь ёнов полавтовсь Культурань кудоськак.'"
      ]
     },
     "execution_count": 11,
     "metadata": {},
     "output_type": "execute_result"
    }
   ],
   "source": [
    "random.choice(pravda_sents)"
   ]
  },
  {
   "cell_type": "code",
   "execution_count": 12,
   "id": "4824536a",
   "metadata": {},
   "outputs": [],
   "source": [
    "with open('other_sources/livejournal_clean_myv.json', 'r') as f:\n",
    "    lj = json.load(f)"
   ]
  },
  {
   "cell_type": "code",
   "execution_count": 13,
   "id": "5660300d",
   "metadata": {},
   "outputs": [
    {
     "data": {
      "application/vnd.jupyter.widget-view+json": {
       "model_id": "1ca87072c3454e43acd805459be4f94a",
       "version_major": 2,
       "version_minor": 0
      },
      "text/plain": [
       "  0%|          | 0/1132 [00:00<?, ?it/s]"
      ]
     },
     "metadata": {},
     "output_type": "display_data"
    },
    {
     "name": "stdout",
     "output_type": "stream",
     "text": [
      "36584\n"
     ]
    }
   ],
   "source": [
    "lj_sentences = []\n",
    "\n",
    "for text in tqdm(lj.values()):\n",
    "    sents = []\n",
    "    raw_text = ''.join(text).replace('\\xa0', ' ')\n",
    "    raw_text = re.sub('\\s+', ' ', raw_text).strip().replace('* ', '')\n",
    "\n",
    "    for sent in list(razdel.sentenize(raw_text)):\n",
    "        text = sent.text.replace('-\\n', '').replace('\\n', ' ').strip()\n",
    "        if len(text) >= 3 and len(text) <= 500:\n",
    "            sents.append(text)\n",
    "    lj_sentences.extend(sents)\n",
    "\n",
    "print(len(lj_sentences))"
   ]
  },
  {
   "cell_type": "code",
   "execution_count": 14,
   "id": "baa87ef1",
   "metadata": {},
   "outputs": [],
   "source": [
    "with open('wiki/clean_myv.json', 'r') as f:\n",
    "    wiki = json.load(f)"
   ]
  },
  {
   "cell_type": "code",
   "execution_count": 15,
   "id": "11ba2236",
   "metadata": {},
   "outputs": [
    {
     "name": "stdout",
     "output_type": "stream",
     "text": [
      "59569\n"
     ]
    }
   ],
   "source": [
    "wiki_sentences = []\n",
    "\n",
    "for text in wiki.values():\n",
    "    sents = []\n",
    "    raw_text = ''.join(text).replace('\\xa0', ' ')\n",
    "    raw_text = re.sub('\\s+', ' ', raw_text).strip().replace('* ', '')\n",
    "\n",
    "    for sent in list(razdel.sentenize(raw_text)):\n",
    "        text = sent.text.replace('-\\n', '').replace('\\n', ' ').strip()\n",
    "        if len(text) >= 3 and len(text) <= 500:\n",
    "            sents.append(text)\n",
    "    wiki_sentences.extend(sents)\n",
    "\n",
    "print(len(wiki_sentences))"
   ]
  },
  {
   "cell_type": "code",
   "execution_count": 16,
   "id": "a0c3323c",
   "metadata": {},
   "outputs": [
    {
     "data": {
      "text/plain": [
       "'Те - кудо.'"
      ]
     },
     "execution_count": 16,
     "metadata": {},
     "output_type": "execute_result"
    }
   ],
   "source": [
    "random.choice(wiki_sentences)"
   ]
  },
  {
   "cell_type": "code",
   "execution_count": 17,
   "id": "5004042b",
   "metadata": {},
   "outputs": [
    {
     "data": {
      "text/plain": [
       "12912"
      ]
     },
     "execution_count": 17,
     "metadata": {},
     "output_type": "execute_result"
    }
   ],
   "source": [
    "erzya_bible = pd.read_csv('erzya_bible.tsv', sep='\\t')\n",
    "bible_sentences = erzya_bible.myv.dropna().tolist()\n",
    "len(bible_sentences)"
   ]
  },
  {
   "cell_type": "code",
   "execution_count": 18,
   "id": "b0374593",
   "metadata": {},
   "outputs": [
    {
     "data": {
      "text/plain": [
       "'Кие корты асодавикс кельсэ, се корты Пазонтень, аволь ломантненень, секс мекс сонзэ кияк а чарькодьсы. Сон корты салавачить Пазонь Оймеялтонть ветямонзо коряс.'"
      ]
     },
     "execution_count": 18,
     "metadata": {},
     "output_type": "execute_result"
    }
   ],
   "source": [
    "random.choice(bible_sentences)"
   ]
  },
  {
   "cell_type": "code",
   "execution_count": 19,
   "id": "904c6616",
   "metadata": {},
   "outputs": [],
   "source": [
    "with open('other_sources/BrizhinskiyVasiliySergeevich_001___sentences_unaligned.json', 'r') as f:\n",
    "    games = json.load(f)"
   ]
  },
  {
   "cell_type": "code",
   "execution_count": 20,
   "id": "3f276e36",
   "metadata": {},
   "outputs": [
    {
     "name": "stdout",
     "output_type": "stream",
     "text": [
      "5194\n"
     ]
    }
   ],
   "source": [
    "games_sents = [p[0] for p in games['myv']]\n",
    "print(len(games_sents))"
   ]
  },
  {
   "cell_type": "code",
   "execution_count": 21,
   "id": "7162974b",
   "metadata": {},
   "outputs": [
    {
     "data": {
      "text/plain": [
       "'Тень кисэ ули мелезэ саемс эстензэ тарка микшницянь куросо ды седе питнейстэ миемс ансяконь рамавт товаронзо, чакшкензэ.'"
      ]
     },
     "execution_count": 21,
     "metadata": {},
     "output_type": "execute_result"
    }
   ],
   "source": [
    "random.choice(games_sents)"
   ]
  },
  {
   "cell_type": "markdown",
   "id": "ff46ce31",
   "metadata": {},
   "source": [
    "В итоге у меня набралось 300К уникальных предложений, что в общем-то весьма круто!"
   ]
  },
  {
   "cell_type": "code",
   "execution_count": 22,
   "id": "98d0d77e",
   "metadata": {},
   "outputs": [
    {
     "name": "stdout",
     "output_type": "stream",
     "text": [
      "306557\n"
     ]
    }
   ],
   "source": [
    "all_sentences = sorted(set(\n",
    "    books_sents + fennougrica_sents + wikisource_sentences + pravda_sents + lj_sentences + wiki_sentences + bible_sentences  +games_sents\n",
    "))\n",
    "print(len(all_sentences))"
   ]
  },
  {
   "cell_type": "markdown",
   "id": "1f9540b9",
   "metadata": {},
   "source": [
    "## Sentence-parallel data"
   ]
  },
  {
   "cell_type": "code",
   "execution_count": 23,
   "id": "43babdca",
   "metadata": {},
   "outputs": [
    {
     "name": "stdout",
     "output_type": "stream",
     "text": [
      "(12926, 4)\n",
      "(12899, 4)\n",
      "(12483, 4)\n",
      "Index(['Unnamed: 0', 'myv', 'ru', 'source'], dtype='object')\n"
     ]
    }
   ],
   "source": [
    "bible = pd.read_csv('erzya_bible.tsv', sep='\\t')\n",
    "print(bible.shape)\n",
    "bible = bible.dropna()\n",
    "print(bible.shape)\n",
    "bible = bible[~bible.myv.str.startswith('Глава ')]\n",
    "print(bible.shape)\n",
    "print(bible.columns)"
   ]
  },
  {
   "cell_type": "code",
   "execution_count": 24,
   "id": "47e9341a",
   "metadata": {},
   "outputs": [
    {
     "name": "stdout",
     "output_type": "stream",
     "text": [
      "12483\n"
     ]
    },
    {
     "data": {
      "text/plain": [
       "('Пежетькстан-божан Пазонть икеле: мезде тыненк сёрмадан, те виде, аволь кенгелямо.',\n",
       " 'А в том, что пишу вам, пред Богом, не лгу.')"
      ]
     },
     "execution_count": 24,
     "metadata": {},
     "output_type": "execute_result"
    }
   ],
   "source": [
    "bible_pairs = list(zip(bible.myv, bible.ru))\n",
    "print(len(bible_pairs))\n",
    "random.choice(bible_pairs)"
   ]
  },
  {
   "cell_type": "code",
   "execution_count": 25,
   "id": "9c4eb59f",
   "metadata": {},
   "outputs": [],
   "source": [
    "with open('opus_aligned/wikimedia.myv-ru.myv', 'r') as f:\n",
    "    opus_m = [line.strip() for line in f.readlines()]\n",
    "with open('opus_aligned/wikimedia.myv-ru.ru', 'r') as f:\n",
    "    opus_r = [line.strip() for line in f.readlines()]\n",
    "assert len(opus_r) == len(opus_m)"
   ]
  },
  {
   "cell_type": "code",
   "execution_count": 26,
   "id": "28321ab9",
   "metadata": {},
   "outputs": [
    {
     "name": "stdout",
     "output_type": "stream",
     "text": [
      "3202\n"
     ]
    }
   ],
   "source": [
    "opus_pairs = list(zip(opus_m, opus_r))\n",
    "print(len(opus_pairs))"
   ]
  },
  {
   "cell_type": "code",
   "execution_count": 27,
   "id": "517959fd",
   "metadata": {},
   "outputs": [
    {
     "data": {
      "text/plain": [
       "('Ташто найманось ашти ошонь куншкакуронть вакссо Крана леенть тона чиресэ сэденть трокс 5 минутань ютамо туросо.',\n",
       " 'Старый базар находится рядом с центром города на другом берегу реки Крана в 5 минутах ходьбы через мост.')"
      ]
     },
     "execution_count": 27,
     "metadata": {},
     "output_type": "execute_result"
    }
   ],
   "source": [
    "random.choice(opus_pairs)"
   ]
  },
  {
   "cell_type": "code",
   "execution_count": 28,
   "id": "ac6630e5",
   "metadata": {},
   "outputs": [],
   "source": [
    "from ast import literal_eval"
   ]
  },
  {
   "cell_type": "code",
   "execution_count": 29,
   "id": "eb09a164",
   "metadata": {},
   "outputs": [],
   "source": [
    "dict1 = pd.read_csv('russian-moksha-erzya-dictionary_fixed.tsv', sep='\\t')\n",
    "dict1['mo'] = dict1['mo'].apply(literal_eval)\n",
    "dict1['er'] = dict1['er'].apply(literal_eval)"
   ]
  },
  {
   "cell_type": "code",
   "execution_count": 30,
   "id": "48969f6b",
   "metadata": {},
   "outputs": [
    {
     "data": {
      "text/html": [
       "<div>\n",
       "<style scoped>\n",
       "    .dataframe tbody tr th:only-of-type {\n",
       "        vertical-align: middle;\n",
       "    }\n",
       "\n",
       "    .dataframe tbody tr th {\n",
       "        vertical-align: top;\n",
       "    }\n",
       "\n",
       "    .dataframe thead th {\n",
       "        text-align: right;\n",
       "    }\n",
       "</style>\n",
       "<table border=\"1\" class=\"dataframe\">\n",
       "  <thead>\n",
       "    <tr style=\"text-align: right;\">\n",
       "      <th></th>\n",
       "      <th>Unnamed: 0</th>\n",
       "      <th>ru</th>\n",
       "      <th>mo</th>\n",
       "      <th>er</th>\n",
       "      <th>ru_fix</th>\n",
       "    </tr>\n",
       "  </thead>\n",
       "  <tbody>\n",
       "    <tr>\n",
       "      <th>3722</th>\n",
       "      <td>3722</td>\n",
       "      <td>качать</td>\n",
       "      <td>[люкафтомс, нюряфтомс, яфиемс/ шерьфтемс/ люка...</td>\n",
       "      <td>[нурсемс, юхаемс, чаравтомс, пештемс]</td>\n",
       "      <td>качать</td>\n",
       "    </tr>\n",
       "    <tr>\n",
       "      <th>5120</th>\n",
       "      <td>5120</td>\n",
       "      <td>нагретый</td>\n",
       "      <td>[эждьф]</td>\n",
       "      <td>[эждезь]</td>\n",
       "      <td>нагретый</td>\n",
       "    </tr>\n",
       "    <tr>\n",
       "      <th>5303</th>\n",
       "      <td>5303</td>\n",
       "      <td>намешать</td>\n",
       "      <td>[каямс, шовордамс]</td>\n",
       "      <td>[каямс, човордамс]</td>\n",
       "      <td>намешать</td>\n",
       "    </tr>\n",
       "    <tr>\n",
       "      <th>6010</th>\n",
       "      <td>6010</td>\n",
       "      <td>обезобразить</td>\n",
       "      <td>[гастямс, кальдявгофтомс]</td>\n",
       "      <td>[теемс а мазыйкс]</td>\n",
       "      <td>обезобразить</td>\n",
       "    </tr>\n",
       "    <tr>\n",
       "      <th>7301</th>\n",
       "      <td>7301</td>\n",
       "      <td>покос</td>\n",
       "      <td>[лядема ланга, лядема васта]</td>\n",
       "      <td>[ледема ланго, ледема тарка]</td>\n",
       "      <td>покос</td>\n",
       "    </tr>\n",
       "  </tbody>\n",
       "</table>\n",
       "</div>"
      ],
      "text/plain": [
       "      Unnamed: 0            ru  \\\n",
       "3722        3722        качать   \n",
       "5120        5120      нагретый   \n",
       "5303        5303      намешать   \n",
       "6010        6010  обезобразить   \n",
       "7301        7301         покос   \n",
       "\n",
       "                                                     mo  \\\n",
       "3722  [люкафтомс, нюряфтомс, яфиемс/ шерьфтемс/ люка...   \n",
       "5120                                            [эждьф]   \n",
       "5303                                 [каямс, шовордамс]   \n",
       "6010                          [гастямс, кальдявгофтомс]   \n",
       "7301                       [лядема ланга, лядема васта]   \n",
       "\n",
       "                                         er        ru_fix  \n",
       "3722  [нурсемс, юхаемс, чаравтомс, пештемс]        качать  \n",
       "5120                               [эждезь]      нагретый  \n",
       "5303                     [каямс, човордамс]      намешать  \n",
       "6010                      [теемс а мазыйкс]  обезобразить  \n",
       "7301           [ледема ланго, ледема тарка]         покос  "
      ]
     },
     "execution_count": 30,
     "metadata": {},
     "output_type": "execute_result"
    }
   ],
   "source": [
    "dict1.sample(5)"
   ]
  },
  {
   "cell_type": "code",
   "execution_count": 31,
   "id": "57df8a71",
   "metadata": {},
   "outputs": [],
   "source": [
    "dict1_pairs = []\n",
    "for row in dict1.itertuples():\n",
    "    for er in row.er:\n",
    "        dict1_pairs.append((er, row.ru_fix))"
   ]
  },
  {
   "cell_type": "code",
   "execution_count": 32,
   "id": "2cdfcb24",
   "metadata": {},
   "outputs": [
    {
     "name": "stdout",
     "output_type": "stream",
     "text": [
      "22499\n"
     ]
    },
    {
     "data": {
      "text/plain": [
       "('моргов чувто', 'коряга')"
      ]
     },
     "execution_count": 32,
     "metadata": {},
     "output_type": "execute_result"
    }
   ],
   "source": [
    "print(len(dict1_pairs))\n",
    "random.choice(dict1_pairs)"
   ]
  },
  {
   "cell_type": "code",
   "execution_count": 33,
   "id": "6de0269b",
   "metadata": {},
   "outputs": [],
   "source": [
    "joint_phrasebook = pd.read_csv('other_sources/joint_phrasebook.tsv', sep='\\t')"
   ]
  },
  {
   "cell_type": "code",
   "execution_count": 34,
   "id": "67cf6f41",
   "metadata": {},
   "outputs": [
    {
     "data": {
      "text/html": [
       "<div>\n",
       "<style scoped>\n",
       "    .dataframe tbody tr th:only-of-type {\n",
       "        vertical-align: middle;\n",
       "    }\n",
       "\n",
       "    .dataframe tbody tr th {\n",
       "        vertical-align: top;\n",
       "    }\n",
       "\n",
       "    .dataframe thead th {\n",
       "        text-align: right;\n",
       "    }\n",
       "</style>\n",
       "<table border=\"1\" class=\"dataframe\">\n",
       "  <thead>\n",
       "    <tr style=\"text-align: right;\">\n",
       "      <th></th>\n",
       "      <th>myv</th>\n",
       "      <th>ru</th>\n",
       "      <th>source</th>\n",
       "    </tr>\n",
       "  </thead>\n",
       "  <tbody>\n",
       "    <tr>\n",
       "      <th>33356</th>\n",
       "      <td>пачтямс куля</td>\n",
       "      <td>доложить</td>\n",
       "      <td>schankina</td>\n",
       "    </tr>\n",
       "    <tr>\n",
       "      <th>17988</th>\n",
       "      <td>парнэ</td>\n",
       "      <td>жеребёнок</td>\n",
       "      <td>marlamuter</td>\n",
       "    </tr>\n",
       "    <tr>\n",
       "      <th>37141</th>\n",
       "      <td>понгомс ульмас</td>\n",
       "      <td>клюнуть</td>\n",
       "      <td>schankina</td>\n",
       "    </tr>\n",
       "    <tr>\n",
       "      <th>27147</th>\n",
       "      <td>экспериментальной</td>\n",
       "      <td>экспериментальный</td>\n",
       "      <td>marlamuter</td>\n",
       "    </tr>\n",
       "    <tr>\n",
       "      <th>40219</th>\n",
       "      <td>пештемс качамодо панемс пичеой</td>\n",
       "      <td>накурить</td>\n",
       "      <td>schankina</td>\n",
       "    </tr>\n",
       "  </tbody>\n",
       "</table>\n",
       "</div>"
      ],
      "text/plain": [
       "                                  myv                 ru      source\n",
       "33356                    пачтямс куля           доложить   schankina\n",
       "17988                           парнэ          жеребёнок  marlamuter\n",
       "37141                  понгомс ульмас            клюнуть   schankina\n",
       "27147               экспериментальной  экспериментальный  marlamuter\n",
       "40219  пештемс качамодо панемс пичеой           накурить   schankina"
      ]
     },
     "execution_count": 34,
     "metadata": {},
     "output_type": "execute_result"
    }
   ],
   "source": [
    "joint_phrasebook.sample(5)"
   ]
  },
  {
   "cell_type": "code",
   "execution_count": 35,
   "id": "66509ae1",
   "metadata": {},
   "outputs": [
    {
     "data": {
      "text/plain": [
       "myv        2\n",
       "ru        35\n",
       "source     0\n",
       "dtype: int64"
      ]
     },
     "execution_count": 35,
     "metadata": {},
     "output_type": "execute_result"
    }
   ],
   "source": [
    "joint_phrasebook.isnull().sum()"
   ]
  },
  {
   "cell_type": "code",
   "execution_count": 36,
   "id": "08a77c45",
   "metadata": {},
   "outputs": [
    {
     "name": "stdout",
     "output_type": "stream",
     "text": [
      "47860\n"
     ]
    }
   ],
   "source": [
    "joint_phrasebook_pairs = [(row.myv, row.ru) for row in joint_phrasebook.dropna().itertuples() if row.myv != row.ru]\n",
    "print(len(joint_phrasebook_pairs))"
   ]
  },
  {
   "cell_type": "code",
   "execution_count": 37,
   "id": "102fed6d",
   "metadata": {},
   "outputs": [
    {
     "name": "stdout",
     "output_type": "stream",
     "text": [
      "1023\n"
     ]
    }
   ],
   "source": [
    "with open('other_sources/sheyanova_sentence_aligned.json', 'r') as f:\n",
    "    sheyanova_aligned = json.load(f)\n",
    "    \n",
    "sheyanova_pairs = [(p['myv'], p['ru']) for p in sheyanova_aligned]\n",
    "print(len(sheyanova_pairs))"
   ]
  },
  {
   "cell_type": "code",
   "execution_count": 38,
   "id": "092ce0cf",
   "metadata": {},
   "outputs": [
    {
     "data": {
      "text/plain": [
       "('Кода весе се таркатне ютавсть, чуважонь инязорось виензэ марто яла пани мельгаст, арсесь, што сонзэ тевезэ моли икелев ды курок пачкоди Веталанонь ошс.',\n",
       " 'Веталан получил от своей тещи, Паштени, подмогу, завлек чувашей в глубь страны, а потом, воспользовавшись темной ночью, напал на них и загнал в глубокий и страшный овраг, попав в который, чувашский царь и все его войско убились досмерти.')"
      ]
     },
     "execution_count": 38,
     "metadata": {},
     "output_type": "execute_result"
    }
   ],
   "source": [
    "random.choice(sheyanova_pairs)"
   ]
  },
  {
   "cell_type": "code",
   "execution_count": 39,
   "id": "85aa8a6c",
   "metadata": {},
   "outputs": [
    {
     "name": "stdout",
     "output_type": "stream",
     "text": [
      "4203\n"
     ]
    }
   ],
   "source": [
    "with open('other_sources/brizhinskiy_sentence_aligned.json', 'r') as f:\n",
    "    brizhinskiy_aligned = json.load(f)\n",
    "    \n",
    "brizhinskiy_pairs = [(p['myv'], p['ru']) for p in brizhinskiy_aligned]\n",
    "print(len(brizhinskiy_pairs))"
   ]
  },
  {
   "cell_type": "code",
   "execution_count": 40,
   "id": "660a091c",
   "metadata": {},
   "outputs": [
    {
     "data": {
      "text/plain": [
       "('Н е ш к е п и р е н ь а з о р о с ь (амельсэ).',\n",
       " 'П а с е ч н и к (недовольно).')"
      ]
     },
     "execution_count": 40,
     "metadata": {},
     "output_type": "execute_result"
    }
   ],
   "source": [
    "random.choice(brizhinskiy_pairs)"
   ]
  },
  {
   "cell_type": "code",
   "execution_count": 41,
   "id": "e6796cbc",
   "metadata": {},
   "outputs": [
    {
     "name": "stdout",
     "output_type": "stream",
     "text": [
      "3776\n"
     ]
    }
   ],
   "source": [
    "with open('other_sources/evsenyev_stories_aligned.json', 'r') as f:\n",
    "    evs_pairs = json.load(f)\n",
    "evs_pairs = [tuple(p) for p in evs_pairs]\n",
    "print(len(evs_pairs))"
   ]
  },
  {
   "cell_type": "code",
   "execution_count": 42,
   "id": "78fed705",
   "metadata": {},
   "outputs": [
    {
     "data": {
      "text/plain": [
       "('Ансяк улезэ Канёва сазоронок жив.',\n",
       " 'Только была бы жива наша сестренка Канева.')"
      ]
     },
     "execution_count": 42,
     "metadata": {},
     "output_type": "execute_result"
    }
   ],
   "source": [
    "random.choice(evs_pairs)"
   ]
  },
  {
   "cell_type": "code",
   "execution_count": 43,
   "id": "3eab73e6",
   "metadata": {},
   "outputs": [
    {
     "name": "stdout",
     "output_type": "stream",
     "text": [
      "11479\n"
     ]
    }
   ],
   "source": [
    "with open('wiki/myv_ru_aligned.json', 'r') as f:\n",
    "    wiki_pairs = json.load(f)\n",
    "wiki_pairs = [tuple(p) for p in wiki_pairs]\n",
    "print(len(wiki_pairs))"
   ]
  },
  {
   "cell_type": "code",
   "execution_count": 44,
   "id": "0f8d26c2",
   "metadata": {},
   "outputs": [
    {
     "data": {
      "text/plain": [
       "('Верещагинский райо́н) — административной таркань буе Пермень крайесэ, Россиясо.',\n",
       " 'Вереща́гинский райо́н — административный район Пермского края.')"
      ]
     },
     "execution_count": 44,
     "metadata": {},
     "output_type": "execute_result"
    }
   ],
   "source": [
    "random.choice(wiki_pairs)"
   ]
  },
  {
   "cell_type": "code",
   "execution_count": 45,
   "id": "07ae6c7d",
   "metadata": {},
   "outputs": [
    {
     "name": "stdout",
     "output_type": "stream",
     "text": [
      "1799\n"
     ]
    }
   ],
   "source": [
    "with open('other_sources/livejournal_myv_ru_aligned.json', 'r') as f:\n",
    "    lj_pairs = json.load(f)\n",
    "lj_pairs = [tuple(p) for p in lj_pairs]\n",
    "print(len(lj_pairs))"
   ]
  },
  {
   "cell_type": "code",
   "execution_count": 46,
   "id": "a41e9a4f",
   "metadata": {},
   "outputs": [
    {
     "data": {
      "text/plain": [
       "('Мезесь пек кенярдовтымим, \\xa0те – «Вконтакте» сайтэнть эрзянь кельсэ важодемазо!',\n",
       " 'А еще, я очень рад тому, что можно пользоваться сайтом «Вконтакте» на родном эрзянском языке!')"
      ]
     },
     "execution_count": 46,
     "metadata": {},
     "output_type": "execute_result"
    }
   ],
   "source": [
    "random.choice(lj_pairs)"
   ]
  },
  {
   "cell_type": "code",
   "execution_count": 47,
   "id": "c742be6e",
   "metadata": {},
   "outputs": [
    {
     "name": "stdout",
     "output_type": "stream",
     "text": [
      "916\n"
     ]
    }
   ],
   "source": [
    "with open('other_sources/rus4all_myv_ru_aligned.json', 'r') as f:\n",
    "    rus4all_pairs = json.load(f)\n",
    "rus4all_pairs = [tuple(p) for p in rus4all_pairs]\n",
    "print(len(rus4all_pairs))"
   ]
  },
  {
   "cell_type": "code",
   "execution_count": 48,
   "id": "c97fde15",
   "metadata": {},
   "outputs": [
    {
     "data": {
      "text/plain": [
       "('Зярс служась, колхозось кармась каладомо — ды сехте васенцекс мекс-бути лоткасть пандомодо ломантненень.',\n",
       " 'Пока служил, колхоз задышал на ладан — и в первую очередь почему-то перестали платить людям за работу.')"
      ]
     },
     "execution_count": 48,
     "metadata": {},
     "output_type": "execute_result"
    }
   ],
   "source": [
    "random.choice(rus4all_pairs)"
   ]
  },
  {
   "cell_type": "code",
   "execution_count": 49,
   "id": "6ce6dbf6",
   "metadata": {},
   "outputs": [
    {
     "name": "stdout",
     "output_type": "stream",
     "text": [
      "304\n"
     ]
    }
   ],
   "source": [
    "with open('other_sources/ussr_constitution_aligned.json', 'r') as f:\n",
    "    const_pairs = json.load(f)\n",
    "const_pairs = [tuple(p) for p in const_pairs]\n",
    "print(len(const_pairs))"
   ]
  },
  {
   "cell_type": "code",
   "execution_count": 50,
   "id": "46515cad",
   "metadata": {},
   "outputs": [
    {
     "data": {
      "text/plain": [
       "('Оборонань;', 'Обороны;')"
      ]
     },
     "execution_count": 50,
     "metadata": {},
     "output_type": "execute_result"
    }
   ],
   "source": [
    "random.choice(const_pairs)"
   ]
  },
  {
   "cell_type": "code",
   "execution_count": 51,
   "id": "52c68645",
   "metadata": {},
   "outputs": [
    {
     "name": "stdout",
     "output_type": "stream",
     "text": [
      "77630\n"
     ]
    }
   ],
   "source": [
    "all_pairs = sorted({\n",
    "    c for c in \n",
    "    dict1_pairs + joint_phrasebook_pairs \n",
    "    + opus_pairs + bible_pairs \n",
    "    + sheyanova_pairs + brizhinskiy_pairs\n",
    "    + wiki_pairs\n",
    "    + lj_pairs\n",
    "    + rus4all_pairs\n",
    "    + const_pairs\n",
    "    + evs_pairs\n",
    "    if c[0] and c[1]\n",
    "})\n",
    "print(len(all_pairs))"
   ]
  },
  {
   "cell_type": "code",
   "execution_count": 52,
   "id": "5d0c27f5",
   "metadata": {},
   "outputs": [
    {
     "name": "stdout",
     "output_type": "stream",
     "text": [
      "317827\n"
     ]
    }
   ],
   "source": [
    "all_sentences = sorted(set(\n",
    "    all_sentences + [e for e, r in all_pairs if len(e.split()) >= 3]\n",
    "))\n",
    "print(len(all_sentences))"
   ]
  },
  {
   "cell_type": "markdown",
   "id": "2e998e3b",
   "metadata": {},
   "source": [
    "# Vocabulary extension"
   ]
  },
  {
   "cell_type": "code",
   "execution_count": 454,
   "id": "45b40c61",
   "metadata": {},
   "outputs": [],
   "source": [
    "from collections import Counter, defaultdict\n",
    "import numpy as np"
   ]
  },
  {
   "cell_type": "code",
   "execution_count": 439,
   "id": "3fef8bac",
   "metadata": {},
   "outputs": [],
   "source": [
    "from transformers import AutoModelForPreTraining, AutoTokenizer, BertTokenizer"
   ]
  },
  {
   "cell_type": "code",
   "execution_count": 437,
   "id": "4faaf00c",
   "metadata": {},
   "outputs": [],
   "source": [
    "base_model = 'cointegrated/LaBSE-en-ru'"
   ]
  },
  {
   "cell_type": "code",
   "execution_count": 440,
   "id": "ae7b3576",
   "metadata": {},
   "outputs": [
    {
     "name": "stdout",
     "output_type": "stream",
     "text": [
      "55083\n"
     ]
    }
   ],
   "source": [
    "tokenizer = BertTokenizer.from_pretrained(base_model)\n",
    "print(tokenizer.vocab_size)"
   ]
  },
  {
   "cell_type": "code",
   "execution_count": 471,
   "id": "8676640b",
   "metadata": {},
   "outputs": [],
   "source": [
    "model = AutoModelForPreTraining.from_pretrained(base_model)"
   ]
  },
  {
   "cell_type": "code",
   "execution_count": 458,
   "id": "22f9aa27",
   "metadata": {},
   "outputs": [
    {
     "data": {
      "text/plain": [
       "['привет', ',', 'как', 'дели', '##шки', '?']"
      ]
     },
     "execution_count": 458,
     "metadata": {},
     "output_type": "execute_result"
    }
   ],
   "source": [
    "tokenizer.tokenize('привет, как делишки?')"
   ]
  },
  {
   "cell_type": "code",
   "execution_count": 443,
   "id": "a9b84b5e",
   "metadata": {},
   "outputs": [
    {
     "data": {
      "application/vnd.jupyter.widget-view+json": {
       "model_id": "d444163416bc4f53859b0b1631fcd714",
       "version_major": 2,
       "version_minor": 0
      },
      "text/plain": [
       "  0%|          | 0/306557 [00:00<?, ?it/s]"
      ]
     },
     "metadata": {},
     "output_type": "display_data"
    }
   ],
   "source": [
    "word_count = Counter()\n",
    "for text in tqdm(all_sentences):\n",
    "    word_count.update(tokenizer.basic_tokenizer.tokenize(text))"
   ]
  },
  {
   "cell_type": "code",
   "execution_count": 444,
   "id": "46f93c4b",
   "metadata": {},
   "outputs": [
    {
     "name": "stdout",
     "output_type": "stream",
     "text": [
      "387893\n"
     ]
    },
    {
     "data": {
      "text/plain": [
       "[('.', 537905),\n",
       " (',', 336607),\n",
       " ('-', 121259),\n",
       " ('—', 64732),\n",
       " ('ды', 63745),\n",
       " (':', 36523),\n",
       " (')', 31829),\n",
       " ('а', 31143),\n",
       " ('(', 30733),\n",
       " ('»', 30631),\n",
       " ('«', 30229),\n",
       " ('!', 20941),\n",
       " ('?', 19168),\n",
       " ('и', 17296),\n",
       " ('–', 16612),\n",
       " ('марто', 14049),\n",
       " ('те', 13418),\n",
       " ('кода', 10898),\n",
       " ('це', 10507),\n",
       " ('сон', 10424)]"
      ]
     },
     "execution_count": 444,
     "metadata": {},
     "output_type": "execute_result"
    }
   ],
   "source": [
    "print(len(word_count))\n",
    "word_count.most_common(20)"
   ]
  },
  {
   "cell_type": "code",
   "execution_count": 450,
   "id": "2f904541",
   "metadata": {},
   "outputs": [
    {
     "name": "stdout",
     "output_type": "stream",
     "text": [
      "3946\n",
      "12183\n",
      "31319\n"
     ]
    }
   ],
   "source": [
    "print(sum(1 for v in word_count.values() if v > 100))\n",
    "print(sum(1 for v in word_count.values() if v > 30))\n",
    "print(sum(1 for v in word_count.values() if v > 10))"
   ]
  },
  {
   "cell_type": "code",
   "execution_count": 451,
   "id": "fe9d9243",
   "metadata": {},
   "outputs": [],
   "source": [
    "steps = 100_000\n",
    "min_count = 30\n",
    "extra_vocab = []\n",
    "extra_counts = []\n",
    "\n",
    "id2ids = [[idx] for tok, idx in tokenizer.vocab.items()]\n",
    "tok2id = {tok: idx for tok, idx in tokenizer.vocab.items()}"
   ]
  },
  {
   "cell_type": "code",
   "execution_count": 452,
   "id": "469160f2",
   "metadata": {},
   "outputs": [
    {
     "data": {
      "application/vnd.jupyter.widget-view+json": {
       "model_id": "c3684ea6ce30403d8aa6f2de8d31a2f8",
       "version_major": 2,
       "version_minor": 0
      },
      "text/plain": [
       "  0%|          | 0/387893 [00:00<?, ?it/s]"
      ]
     },
     "metadata": {},
     "output_type": "display_data"
    }
   ],
   "source": [
    "word2toks = {w: tokenizer.wordpiece_tokenizer.tokenize(w) for w in tqdm(word_count)}"
   ]
  },
  {
   "cell_type": "code",
   "execution_count": 455,
   "id": "2a268df2",
   "metadata": {},
   "outputs": [
    {
     "data": {
      "application/vnd.jupyter.widget-view+json": {
       "model_id": "99082050769c4563bec7fc585c642a51",
       "version_major": 2,
       "version_minor": 0
      },
      "text/plain": [
       "  0%|          | 0/387893 [00:00<?, ?it/s]"
      ]
     },
     "metadata": {},
     "output_type": "display_data"
    }
   ],
   "source": [
    "pairs_count = Counter()\n",
    "pair2word = defaultdict(set)\n",
    "for w, c in tqdm(word_count.items(), total=len(word_count)):\n",
    "    enc = word2toks[w]\n",
    "    for pair in zip(enc[:-1], enc[1:]):\n",
    "        pairs_count[pair] += c\n",
    "        pair2word[pair].add(w)"
   ]
  },
  {
   "cell_type": "code",
   "execution_count": 456,
   "id": "e02a555c",
   "metadata": {},
   "outputs": [],
   "source": [
    "from heapdict import heapdict\n",
    "hd = heapdict()\n",
    "for w, c in pairs_count.items():\n",
    "    hd[w] = -c"
   ]
  },
  {
   "cell_type": "code",
   "execution_count": 457,
   "id": "6de87d25",
   "metadata": {},
   "outputs": [],
   "source": [
    "def replace_pair(old_tokens, pair, new_token):\n",
    "    result = []\n",
    "    prev = old_tokens[0]\n",
    "    for tok in old_tokens[1:]:\n",
    "        if (prev, tok) == pair:\n",
    "            result.append(new_token)\n",
    "            prev = None\n",
    "        else:\n",
    "            if prev is not None:\n",
    "                result.append(prev)\n",
    "            prev = tok\n",
    "    if prev is not None:\n",
    "        result.append(prev)\n",
    "    return result"
   ]
  },
  {
   "cell_type": "code",
   "execution_count": 459,
   "id": "844b6927",
   "metadata": {},
   "outputs": [
    {
     "data": {
      "application/vnd.jupyter.widget-view+json": {
       "model_id": "bda0fa3143e34c3c8b971486595f21d6",
       "version_major": 2,
       "version_minor": 0
      },
      "text/plain": [
       "  0%|          | 0/100000 [00:00<?, ?it/s]"
      ]
     },
     "metadata": {},
     "output_type": "display_data"
    }
   ],
   "source": [
    "# rewrite with heapdict\n",
    "for _ in trange(steps):\n",
    "    pair, c = hd.peekitem()\n",
    "    c = -c\n",
    "    \n",
    "    if c < min_count:\n",
    "        break\n",
    "    new_token = pair[0] + pair[1][2:]\n",
    "    extra_vocab.append(new_token)\n",
    "    extra_counts.append(c)\n",
    "    \n",
    "    # update the vocabulary\n",
    "    new_id = len(id2ids)\n",
    "    tok2id[new_token] = new_id\n",
    "    id2ids.append(id2ids[tok2id[pair[0]]] + id2ids[tok2id[pair[1]]]) \n",
    "    \n",
    "    # calculate the delta for the heap\n",
    "    delta = Counter()\n",
    "    for word in list(pair2word[pair]):\n",
    "        # calculate old and new ways to tokenize the word\n",
    "        old_toks = word2toks[word]\n",
    "        new_toks = replace_pair(old_toks, pair, new_token)\n",
    "        word2toks[word] = new_toks\n",
    "        wc = word_count[word]\n",
    "        # update the index concerning the tokens of the word\n",
    "        for old_pair in zip(old_toks[:-1], old_toks[1:]):\n",
    "            delta[old_pair] -= wc\n",
    "            if word in pair2word[old_pair]:\n",
    "                pair2word[old_pair].remove(word)\n",
    "        for new_pair in zip(new_toks[:-1], new_toks[1:]):\n",
    "            delta[new_pair] += wc\n",
    "            pair2word[new_pair].add(word)\n",
    "    # update the heap\n",
    "    for a_pair, a_delta in delta.items():\n",
    "        if a_delta == 0:\n",
    "            continue\n",
    "        if a_pair not in hd:\n",
    "            hd[a_pair] = 0\n",
    "        hd[a_pair] -= a_delta"
   ]
  },
  {
   "cell_type": "code",
   "execution_count": 460,
   "id": "dcb1b3e5",
   "metadata": {},
   "outputs": [
    {
     "name": "stdout",
     "output_type": "stream",
     "text": [
      "19098\n"
     ]
    }
   ],
   "source": [
    "print(len(extra_vocab))"
   ]
  },
  {
   "cell_type": "code",
   "execution_count": 461,
   "id": "bcfc3ad8",
   "metadata": {},
   "outputs": [],
   "source": [
    "old_vocab_size = len(tokenizer.vocab)"
   ]
  },
  {
   "cell_type": "code",
   "execution_count": 465,
   "id": "1c0c7165",
   "metadata": {},
   "outputs": [
    {
     "name": "stdout",
     "output_type": "stream",
     "text": [
      "30.855\n"
     ]
    }
   ],
   "source": [
    "random.seed(1)\n",
    "sample_texts = random.choices(all_sentences, k=1000)\n",
    "old_len = np.mean([len(tokenizer.tokenize(t)) for t in sample_texts])\n",
    "print(old_len)"
   ]
  },
  {
   "cell_type": "code",
   "execution_count": 466,
   "id": "e9e70e4d",
   "metadata": {},
   "outputs": [
    {
     "name": "stdout",
     "output_type": "stream",
     "text": [
      "55083\n"
     ]
    }
   ],
   "source": [
    "print(len(tokenizer.vocab) + len(tokenizer.get_added_vocab()))"
   ]
  },
  {
   "cell_type": "code",
   "execution_count": 467,
   "id": "0eb46416",
   "metadata": {},
   "outputs": [
    {
     "data": {
      "text/plain": [
       "('tmp_tok\\\\tokenizer_config.json',\n",
       " 'tmp_tok\\\\special_tokens_map.json',\n",
       " 'tmp_tok\\\\vocab.txt',\n",
       " 'tmp_tok\\\\added_tokens.json')"
      ]
     },
     "execution_count": 467,
     "metadata": {},
     "output_type": "execute_result"
    }
   ],
   "source": [
    "tmp_tok = 'tmp_tok'\n",
    "tokenizer.save_pretrained(tmp_tok)"
   ]
  },
  {
   "cell_type": "code",
   "execution_count": 468,
   "id": "de7e56f9",
   "metadata": {},
   "outputs": [],
   "source": [
    "with open(tmp_tok + '/vocab.txt', 'a') as f:\n",
    "    for token in extra_vocab:\n",
    "        f.write(token + '\\n')"
   ]
  },
  {
   "cell_type": "code",
   "execution_count": 469,
   "id": "b4000ad5",
   "metadata": {},
   "outputs": [],
   "source": [
    "tokenizer = BertTokenizer.from_pretrained(tmp_tok)"
   ]
  },
  {
   "cell_type": "code",
   "execution_count": 470,
   "id": "aeda32a7",
   "metadata": {},
   "outputs": [
    {
     "name": "stdout",
     "output_type": "stream",
     "text": [
      "18.67\n",
      "0.6050883163182629\n"
     ]
    }
   ],
   "source": [
    "new_len = np.mean([len(tokenizer.tokenize(t)) for t in sample_texts])\n",
    "print(new_len)\n",
    "print(new_len / old_len)"
   ]
  },
  {
   "cell_type": "code",
   "execution_count": 472,
   "id": "985b1b6d",
   "metadata": {},
   "outputs": [
    {
     "name": "stdout",
     "output_type": "stream",
     "text": [
      "74181\n"
     ]
    }
   ],
   "source": [
    "print(len(tokenizer.vocab) + len(tokenizer.get_added_vocab()))"
   ]
  },
  {
   "cell_type": "code",
   "execution_count": 473,
   "id": "0380e18f",
   "metadata": {},
   "outputs": [
    {
     "data": {
      "text/plain": [
       "Embedding(74181, 768)"
      ]
     },
     "execution_count": 473,
     "metadata": {},
     "output_type": "execute_result"
    }
   ],
   "source": [
    "model.resize_token_embeddings(tokenizer.vocab_size)"
   ]
  },
  {
   "cell_type": "code",
   "execution_count": 474,
   "id": "bcf82698",
   "metadata": {},
   "outputs": [
    {
     "data": {
      "application/vnd.jupyter.widget-view+json": {
       "model_id": "ef5546144e9f400ba8c03eb8fb5f3a2c",
       "version_major": 2,
       "version_minor": 0
      },
      "text/plain": [
       "  0%|          | 0/74181 [00:00<?, ?it/s]"
      ]
     },
     "metadata": {},
     "output_type": "display_data"
    }
   ],
   "source": [
    "for i, ids_from in enumerate(tqdm(id2ids)):\n",
    "    if len(ids_from) == 1:\n",
    "        continue\n",
    "    model.bert.embeddings.word_embeddings.weight.data[i] = model.bert.embeddings.word_embeddings.weight.data[ids_from].mean(0)"
   ]
  },
  {
   "cell_type": "code",
   "execution_count": 477,
   "id": "6bdfc3bc",
   "metadata": {},
   "outputs": [],
   "source": [
    "del tokenizer.init_kwargs['special_tokens_map_file']  # this is required for correct creation of fast tokenizer from it"
   ]
  },
  {
   "cell_type": "code",
   "execution_count": 481,
   "id": "1e95878e",
   "metadata": {},
   "outputs": [],
   "source": []
  },
  {
   "cell_type": "code",
   "execution_count": 482,
   "id": "b73d8c81",
   "metadata": {},
   "outputs": [
    {
     "data": {
      "text/plain": [
       "('labse_erzya_v0\\\\tokenizer_config.json',\n",
       " 'labse_erzya_v0\\\\special_tokens_map.json',\n",
       " 'labse_erzya_v0\\\\vocab.txt',\n",
       " 'labse_erzya_v0\\\\added_tokens.json')"
      ]
     },
     "execution_count": 482,
     "metadata": {},
     "output_type": "execute_result"
    }
   ],
   "source": [
    "NEW_MODEL_NAME = 'labse_erzya_v0'\n",
    "model.save_pretrained(NEW_MODEL_NAME)\n",
    "tokenizer.save_pretrained(NEW_MODEL_NAME)"
   ]
  },
  {
   "cell_type": "markdown",
   "id": "6f0c1098",
   "metadata": {},
   "source": [
    "# Training the model"
   ]
  },
  {
   "cell_type": "code",
   "execution_count": 571,
   "id": "656eed62",
   "metadata": {},
   "outputs": [],
   "source": [
    "import gc\n",
    "\n",
    "def cleanup():\n",
    "    gc.collect()\n",
    "    torch.cuda.empty_cache()\n",
    "    \n",
    "cleanup()"
   ]
  },
  {
   "cell_type": "code",
   "execution_count": 507,
   "id": "c8fcbdaa",
   "metadata": {},
   "outputs": [],
   "source": [
    "import torch"
   ]
  },
  {
   "cell_type": "code",
   "execution_count": 484,
   "id": "0ac86e40",
   "metadata": {},
   "outputs": [],
   "source": [
    "model.cuda();"
   ]
  },
  {
   "cell_type": "markdown",
   "id": "9dcfceac",
   "metadata": {},
   "source": [
    "Чтобы модель выучила словарь, будем подтягивать эмбеддинги эрзянских предложений к соответствующим эмбеддингам русских. "
   ]
  },
  {
   "cell_type": "code",
   "execution_count": 493,
   "id": "f793e88b",
   "metadata": {},
   "outputs": [],
   "source": [
    "for p in model.parameters():\n",
    "    p.requires_grad = False\n",
    "for p in model.bert.embeddings.word_embeddings.parameters():\n",
    "    p.requires_grad = True"
   ]
  },
  {
   "cell_type": "code",
   "execution_count": 574,
   "id": "de7cfd85",
   "metadata": {},
   "outputs": [],
   "source": [
    "batch_size = 4\n",
    "margin = 0.3"
   ]
  },
  {
   "cell_type": "code",
   "execution_count": 553,
   "id": "c1cbc034",
   "metadata": {},
   "outputs": [],
   "source": [
    "loss_fn = torch.nn.CrossEntropyLoss()"
   ]
  },
  {
   "cell_type": "code",
   "execution_count": 530,
   "id": "bd2ca921",
   "metadata": {},
   "outputs": [],
   "source": [
    "from transformers.optimization import Adafactor\n",
    "optimizer = Adafactor(\n",
    "    [p for p in model.parameters() if p.requires_grad], \n",
    "    scale_parameter=False, relative_step=False, lr=1e-5, clip_threshold=1.0\n",
    ")"
   ]
  },
  {
   "cell_type": "code",
   "execution_count": 658,
   "id": "e8a9be34",
   "metadata": {},
   "outputs": [],
   "source": [
    "def get_acc(embeddings):\n",
    "    batch_size = embeddings.shape[0] // 2\n",
    "    with torch.no_grad():\n",
    "        scores = torch.matmul(\n",
    "            embeddings[:batch_size].detach(),\n",
    "            embeddings[batch_size:].T\n",
    "        ).cpu().numpy()\n",
    "    a1 = (scores.argmax(1) == np.arange(batch_size)).mean()\n",
    "    a2 = (scores.argmax(0) == np.arange(batch_size)).mean()\n",
    "    return (a1 + a2) / 2"
   ]
  },
  {
   "cell_type": "code",
   "execution_count": 576,
   "id": "1f883d1d",
   "metadata": {},
   "outputs": [],
   "source": [
    "losses = []"
   ]
  },
  {
   "cell_type": "code",
   "execution_count": 652,
   "id": "e2b70c78",
   "metadata": {},
   "outputs": [],
   "source": [
    "accuracies = []"
   ]
  },
  {
   "cell_type": "code",
   "execution_count": 772,
   "id": "a4c91150",
   "metadata": {
    "scrolled": true
   },
   "outputs": [
    {
     "data": {
      "application/vnd.jupyter.widget-view+json": {
       "model_id": "e1eb3f0685d44023b262d654aa5ffa56",
       "version_major": 2,
       "version_minor": 0
      },
      "text/plain": [
       "  0%|          | 0/300000 [00:00<?, ?it/s]"
      ]
     },
     "metadata": {},
     "output_type": "display_data"
    },
    {
     "name": "stdout",
     "output_type": "stream",
     "text": [
      "0 2.2401464593410494 0.95875\n",
      "100 2.256891255378723 0.94875\n",
      "200 2.2599706768989565 0.97125\n",
      "300 2.2349245953559875 0.96375\n",
      "400 2.2714816999435423 0.96375\n",
      "500 2.2874680173397066 0.95125\n",
      "600 2.3030453848838808 0.95375\n",
      "700 2.253097994327545 0.95875\n",
      "800 2.241684103012085 0.955\n",
      "900 2.2901425731182097 0.95625\n"
     ]
    },
    {
     "ename": "KeyboardInterrupt",
     "evalue": "",
     "output_type": "error",
     "traceback": [
      "\u001b[1;31m---------------------------------------------------------------------------\u001b[0m",
      "\u001b[1;31mKeyboardInterrupt\u001b[0m                         Traceback (most recent call last)",
      "\u001b[1;32m~\\AppData\\Local\\Temp/ipykernel_9804/3920294668.py\u001b[0m in \u001b[0;36m<module>\u001b[1;34m\u001b[0m\n\u001b[0;32m     15\u001b[0m         \u001b[0moptimizer\u001b[0m\u001b[1;33m.\u001b[0m\u001b[0mstep\u001b[0m\u001b[1;33m(\u001b[0m\u001b[1;33m)\u001b[0m\u001b[1;33m\u001b[0m\u001b[1;33m\u001b[0m\u001b[0m\n\u001b[0;32m     16\u001b[0m         \u001b[0moptimizer\u001b[0m\u001b[1;33m.\u001b[0m\u001b[0mzero_grad\u001b[0m\u001b[1;33m(\u001b[0m\u001b[0mset_to_none\u001b[0m\u001b[1;33m=\u001b[0m\u001b[1;32mTrue\u001b[0m\u001b[1;33m)\u001b[0m\u001b[1;33m\u001b[0m\u001b[1;33m\u001b[0m\u001b[0m\n\u001b[1;32m---> 17\u001b[1;33m         \u001b[0mlosses\u001b[0m\u001b[1;33m.\u001b[0m\u001b[0mappend\u001b[0m\u001b[1;33m(\u001b[0m\u001b[0mloss\u001b[0m\u001b[1;33m.\u001b[0m\u001b[0mitem\u001b[0m\u001b[1;33m(\u001b[0m\u001b[1;33m)\u001b[0m\u001b[1;33m)\u001b[0m\u001b[1;33m\u001b[0m\u001b[1;33m\u001b[0m\u001b[0m\n\u001b[0m\u001b[0;32m     18\u001b[0m         \u001b[0maccuracies\u001b[0m\u001b[1;33m.\u001b[0m\u001b[0mappend\u001b[0m\u001b[1;33m(\u001b[0m\u001b[0mget_acc\u001b[0m\u001b[1;33m(\u001b[0m\u001b[0membeddings\u001b[0m\u001b[1;33m)\u001b[0m\u001b[1;33m)\u001b[0m\u001b[1;33m\u001b[0m\u001b[1;33m\u001b[0m\u001b[0m\n\u001b[0;32m     19\u001b[0m     \u001b[1;32mexcept\u001b[0m \u001b[0mRuntimeError\u001b[0m\u001b[1;33m:\u001b[0m\u001b[1;33m\u001b[0m\u001b[1;33m\u001b[0m\u001b[0m\n",
      "\u001b[1;31mKeyboardInterrupt\u001b[0m: "
     ]
    }
   ],
   "source": [
    "model.train()\n",
    "tq = trange(300_000)\n",
    "for i in tq:\n",
    "    myv, ru = [list(p) for p in zip(*random.choices(all_pairs, k=batch_size))]\n",
    "    try:\n",
    "        batch = tokenizer(ru+myv, return_tensors='pt', padding=True, truncation=True, max_length=128).to(model.device)\n",
    "        out = model.bert(**batch, output_hidden_states=True)\n",
    "        embeddings = torch.nn.functional.normalize(out.pooler_output)\n",
    "        all_scores = torch.matmul(\n",
    "            embeddings[:batch_size].detach(), # keep Russian embeddings frozen\n",
    "            embeddings[batch_size:].T  # update Erzya embeddings\n",
    "        ) - torch.eye(batch_size, device=model.device) * margin\n",
    "        loss = loss_fn(all_scores, torch.arange(batch_size, device=model.device)) + loss_fn(all_scores.T, torch.arange(batch_size, device=model.device))\n",
    "\n",
    "        loss.backward()\n",
    "        optimizer.step()\n",
    "        optimizer.zero_grad(set_to_none=True)\n",
    "        losses.append(loss.item())\n",
    "        accuracies.append(get_acc(embeddings))\n",
    "    except RuntimeError:\n",
    "        optimizer.zero_grad(set_to_none=True)\n",
    "        batch, out, embeddings, all_scores, loss = None, None, None, None, None\n",
    "        cleanup()\n",
    "        print('error', max(len(s) for s in myv+ru))\n",
    "        continue\n",
    "    if i % 100 == 0:\n",
    "        print(i, np.mean(losses[-100:]), np.mean(accuracies[-100:]))"
   ]
  },
  {
   "cell_type": "code",
   "execution_count": 777,
   "id": "d1dafec8",
   "metadata": {},
   "outputs": [],
   "source": [
    "optimizer.zero_grad(set_to_none=True)\n",
    "batch, out, embeddings, all_scores, loss = None, None, None, None, None\n",
    "cleanup()"
   ]
  },
  {
   "cell_type": "code",
   "execution_count": 657,
   "id": "ccff92d9",
   "metadata": {},
   "outputs": [
    {
     "name": "stdout",
     "output_type": "stream",
     "text": [
      "tensor([[0.8775, 0.0285, 0.0679, 0.0913],\n",
      "        [0.0908, 0.5250, 0.4368, 0.5497],\n",
      "        [0.0043, 0.4049, 0.7021, 0.3934],\n",
      "        [0.0662, 0.4138, 0.8327, 0.5108]], device='cuda:0',\n",
      "       grad_fn=<MmBackward>)\n"
     ]
    }
   ],
   "source": [
    "print(torch.matmul(\n",
    "    embeddings[:batch_size].detach(), # keep Russian embeddings frozen\n",
    "    embeddings[batch_size:].T  # update Erzya embeddings\n",
    "))"
   ]
  },
  {
   "cell_type": "code",
   "execution_count": 649,
   "id": "a0f90e4a",
   "metadata": {},
   "outputs": [
    {
     "data": {
      "text/plain": [
       "['Надгробие Петр Бериславича в Соборе Святого Михаила в Веспреме',\n",
       " 'надпись',\n",
       " 'оклеветать',\n",
       " 'занумеровать']"
      ]
     },
     "execution_count": 649,
     "metadata": {},
     "output_type": "execute_result"
    }
   ],
   "source": [
    "ru"
   ]
  },
  {
   "cell_type": "code",
   "execution_count": 650,
   "id": "7ad16a5c",
   "metadata": {},
   "outputs": [
    {
     "data": {
      "text/plain": [
       "['Веспремсэ Святой Михаилэнь соборсо Петар Бериславичень калмонь лангозо',\n",
       " 'сёрмадовкс',\n",
       " 'сялдомс',\n",
       " 'путнемс номерт']"
      ]
     },
     "execution_count": 650,
     "metadata": {},
     "output_type": "execute_result"
    }
   ],
   "source": [
    "myv"
   ]
  },
  {
   "cell_type": "markdown",
   "id": "9d43ef71",
   "metadata": {},
   "source": [
    "At about 140K steps I have added more phrases to the parallel dictionary, so the loss should probably go up.\n",
    "\n",
    "At 290K I added Sheyanova and Brizhinsky parallel sentences, and the loss should go up again. The loss suddenly went down, probably because the sentences were pre-selected with this very model. \n",
    "\n",
    "At 528 I added noisily aligned sentences; expect deterioration in scores. "
   ]
  },
  {
   "cell_type": "code",
   "execution_count": 768,
   "id": "ca631edf",
   "metadata": {},
   "outputs": [
    {
     "data": {
      "text/plain": [
       "528654"
      ]
     },
     "execution_count": 768,
     "metadata": {},
     "output_type": "execute_result"
    }
   ],
   "source": [
    "len(losses)"
   ]
  },
  {
   "cell_type": "code",
   "execution_count": 770,
   "id": "0507669d",
   "metadata": {},
   "outputs": [
    {
     "data": {
      "image/png": "[encoded data removed]",
      "text/plain": [
       "<Figure size 432x288 with 1 Axes>"
      ]
     },
     "metadata": {
      "needs_background": "light"
     },
     "output_type": "display_data"
    }
   ],
   "source": [
    "pd.Series(losses).ewm(1000).mean()[100:].plot();"
   ]
  },
  {
   "cell_type": "code",
   "execution_count": 771,
   "id": "ec12543f",
   "metadata": {},
   "outputs": [
    {
     "data": {
      "image/png": "[encoded data removed]",
      "text/plain": [
       "<Figure size 432x288 with 1 Axes>"
      ]
     },
     "metadata": {
      "needs_background": "light"
     },
     "output_type": "display_data"
    }
   ],
   "source": [
    "pd.Series(accuracies).ewm(1000).mean()[100:].plot();"
   ]
  },
  {
   "cell_type": "code",
   "execution_count": 584,
   "id": "567867f7",
   "metadata": {},
   "outputs": [
    {
     "data": {
      "text/plain": [
       "['Агджабеди, Азербайджан[32] Артвин, Турция Ашдод, Израиль (2012)[33] Бари, Италия (1987)[32] Брест, Белоруссия (2015)[34] Бургас, Болгария Ванадзор, Армения (2006)[32] Верона, Италия Волос, Греция (2007)[32] Даугавпилс, Латвия (3 августа 2012) Донецк, Украина (2013)[35] Кисловодск, Россия (1997)[32] Кушадасы, Турция Марбелья, Испания Нахичевань, Азербайджан Николаев, Украина (1995)[32] Новый Орлеан, США (2012) Орду, Турция Пирей, Греция (1996)[32] Рио-де-Жанейро, Бразилия Саванна, США (1992)[32] Сан-Себастьян, Испания (1987)[32] Тернополь, Украина (2011)[32] Трабзон, Турция (2000)[32] Урумчи, КНР (2015)[36] Цзыбо, КНР Ялова, Турция / Ялта, Украина / Россия (2008)[32]',\n",
       " 'сёрмадомань',\n",
       " 'эцемс',\n",
       " 'седе пек']"
      ]
     },
     "execution_count": 584,
     "metadata": {},
     "output_type": "execute_result"
    }
   ],
   "source": [
    "myv"
   ]
  },
  {
   "cell_type": "code",
   "execution_count": 585,
   "id": "55439b3f",
   "metadata": {},
   "outputs": [
    {
     "data": {
      "text/plain": [
       "['Батуми ночью', 'записной', 'забраться', 'наиболее']"
      ]
     },
     "execution_count": 585,
     "metadata": {},
     "output_type": "execute_result"
    }
   ],
   "source": [
    "ru"
   ]
  },
  {
   "cell_type": "code",
   "execution_count": 587,
   "id": "59e8fb7d",
   "metadata": {},
   "outputs": [
    {
     "data": {
      "text/plain": [
       "674"
      ]
     },
     "execution_count": 587,
     "metadata": {},
     "output_type": "execute_result"
    }
   ],
   "source": [
    "len(myv[0])"
   ]
  },
  {
   "cell_type": "code",
   "execution_count": 779,
   "id": "c8a75a55",
   "metadata": {},
   "outputs": [
    {
     "data": {
      "text/plain": [
       "('labse_erzya_v0\\\\tokenizer_config.json',\n",
       " 'labse_erzya_v0\\\\special_tokens_map.json',\n",
       " 'labse_erzya_v0\\\\vocab.txt',\n",
       " 'labse_erzya_v0\\\\added_tokens.json')"
      ]
     },
     "execution_count": 779,
     "metadata": {},
     "output_type": "execute_result"
    }
   ],
   "source": [
    "NEW_MODEL_NAME = 'labse_erzya_v0' # the same model name; updated embeddings\n",
    "model.save_pretrained(NEW_MODEL_NAME)\n",
    "tokenizer.save_pretrained(NEW_MODEL_NAME)"
   ]
  },
  {
   "cell_type": "markdown",
   "id": "c5b8dc8f",
   "metadata": {},
   "source": [
    "# Next step: adding MLM loss on non-parallel sentences"
   ]
  },
  {
   "cell_type": "markdown",
   "id": "047f040d",
   "metadata": {},
   "source": [
    "Two modifications to the model:\n",
    "* train to make embeddings close to that of the original LaBSE model (to avoid drifting both ru and myv embeddings away)\n",
    "* train on non-parallel sentences with MLM loss"
   ]
  },
  {
   "cell_type": "code",
   "execution_count": 49,
   "id": "c712ef21",
   "metadata": {},
   "outputs": [],
   "source": [
    "from transformers import AutoModelForPreTraining, AutoTokenizer, BertTokenizer, AutoModel"
   ]
  },
  {
   "cell_type": "code",
   "execution_count": 72,
   "id": "15f8475c",
   "metadata": {},
   "outputs": [],
   "source": [
    "import torch\n",
    "import gc\n",
    "import numpy as np\n",
    "import matplotlib.pyplot as plt\n",
    "\n",
    "def cleanup():\n",
    "    gc.collect()\n",
    "    torch.cuda.empty_cache()\n",
    "    \n",
    "cleanup()"
   ]
  },
  {
   "cell_type": "code",
   "execution_count": 50,
   "id": "13171137",
   "metadata": {},
   "outputs": [],
   "source": [
    "base_model_name = 'labse_erzya_v0'"
   ]
  },
  {
   "cell_type": "code",
   "execution_count": 54,
   "id": "06c7106e",
   "metadata": {},
   "outputs": [],
   "source": [
    "model = AutoModelForPreTraining.from_pretrained(base_model_name).cuda()\n",
    "tokenizer = AutoTokenizer.from_pretrained(base_model_name)"
   ]
  },
  {
   "cell_type": "code",
   "execution_count": 125,
   "id": "f1479018",
   "metadata": {},
   "outputs": [
    {
     "data": {
      "application/vnd.jupyter.widget-view+json": {
       "model_id": "d4f82d23c04c42988da898d04006b0e9",
       "version_major": 2,
       "version_minor": 0
      },
      "text/plain": [
       "  0%|          | 0/73633 [00:00<?, ?it/s]"
      ]
     },
     "metadata": {},
     "output_type": "display_data"
    }
   ],
   "source": [
    "pair_lens = [len(tokenizer.encode(*p)) for p in tqdm(all_pairs)]"
   ]
  },
  {
   "cell_type": "code",
   "execution_count": 127,
   "id": "658e57dc",
   "metadata": {},
   "outputs": [
    {
     "data": {
      "text/plain": [
       "0.50      10.0\n",
       "0.75      37.0\n",
       "0.90      61.0\n",
       "0.95      76.0\n",
       "0.99     111.0\n",
       "1.00    1787.0\n",
       "dtype: float64"
      ]
     },
     "execution_count": 127,
     "metadata": {},
     "output_type": "execute_result"
    }
   ],
   "source": [
    "pd.Series(pair_lens).quantile([0.5, 0.75, 0.9, 0.95, 0.99, 1])"
   ]
  },
  {
   "cell_type": "code",
   "execution_count": 235,
   "id": "b08d2517",
   "metadata": {},
   "outputs": [
    {
     "data": {
      "application/vnd.jupyter.widget-view+json": {
       "model_id": "a20de502252c49e5aa1b94f616fd3f6d",
       "version_major": 2,
       "version_minor": 0
      },
      "text/plain": [
       "  0%|          | 0/77630 [00:00<?, ?it/s]"
      ]
     },
     "metadata": {},
     "output_type": "display_data"
    },
    {
     "name": "stdout",
     "output_type": "stream",
     "text": [
      "77630 76425\n"
     ]
    }
   ],
   "source": [
    "short_pairs = [p for p in tqdm(all_pairs) if len(tokenizer.encode(*p)) <= 100]\n",
    "print(len(all_pairs), len(short_pairs))"
   ]
  },
  {
   "cell_type": "code",
   "execution_count": 55,
   "id": "76868527",
   "metadata": {},
   "outputs": [],
   "source": [
    "teacher_model_name = 'cointegrated/LaBSE-en-ru'\n",
    "teacher_tokenizer = AutoTokenizer.from_pretrained(teacher_model_name)"
   ]
  },
  {
   "cell_type": "code",
   "execution_count": 56,
   "id": "5be38ace",
   "metadata": {},
   "outputs": [
    {
     "name": "stderr",
     "output_type": "stream",
     "text": [
      "Some weights of the model checkpoint at cointegrated/LaBSE-en-ru were not used when initializing BertModel: ['cls.predictions.transform.dense.bias', 'cls.predictions.transform.dense.weight', 'cls.predictions.decoder.bias', 'cls.predictions.transform.LayerNorm.weight', 'cls.seq_relationship.bias', 'cls.predictions.decoder.weight', 'cls.seq_relationship.weight', 'cls.predictions.bias', 'cls.predictions.transform.LayerNorm.bias']\n",
      "- This IS expected if you are initializing BertModel from the checkpoint of a model trained on another task or with another architecture (e.g. initializing a BertForSequenceClassification model from a BertForPreTraining model).\n",
      "- This IS NOT expected if you are initializing BertModel from the checkpoint of a model that you expect to be exactly identical (initializing a BertForSequenceClassification model from a BertForSequenceClassification model).\n"
     ]
    }
   ],
   "source": [
    "teacher_model = AutoModel.from_pretrained(teacher_model_name).cuda()"
   ]
  },
  {
   "cell_type": "code",
   "execution_count": 57,
   "id": "6865a7c6",
   "metadata": {},
   "outputs": [],
   "source": [
    "def get_acc2(e1, e2):\n",
    "    batch_size = e1.shape[0]\n",
    "    with torch.no_grad():\n",
    "        scores = torch.matmul(e1, e2.T).cpu().numpy()\n",
    "    a1 = (scores.argmax(1) == np.arange(batch_size)).mean()\n",
    "    a2 = (scores.argmax(0) == np.arange(batch_size)).mean()\n",
    "    return (a1 + a2) / 2"
   ]
  },
  {
   "cell_type": "code",
   "execution_count": 328,
   "id": "a6614aed",
   "metadata": {},
   "outputs": [
    {
     "data": {
      "text/plain": [
       "['a', 'b', 'd', 'c']"
      ]
     },
     "execution_count": 328,
     "metadata": {},
     "output_type": "execute_result"
    }
   ],
   "source": [
    "a = list('abc')\n",
    "a.insert(2, 'd')\n",
    "a"
   ]
  },
  {
   "cell_type": "code",
   "execution_count": 419,
   "id": "5d3ddc44",
   "metadata": {},
   "outputs": [],
   "source": [
    "def corrupt_sentence(sent, ix, p_edit=0.5):\n",
    "    sent = sent.split()\n",
    "    old_sent = sent[:]\n",
    "    while sent == old_sent:\n",
    "        # insert a random word\n",
    "        if random.random() < p_edit or len(sent) == 1:\n",
    "            other_sent = random.choice(all_pairs)[ix].split()\n",
    "            sent.insert(random.randint(0, len(sent) - 1), random.choice(other_sent))\n",
    "        # replace a random word\n",
    "        if random.random() < p_edit and len(sent) > 1:\n",
    "            other_sent = random.choice(all_pairs)[ix].split()\n",
    "            sent[random.randint(0, len(sent) - 1)] = random.choice(other_sent)\n",
    "        # remove a word\n",
    "        if random.random() < p_edit and len(sent) > 1:\n",
    "            sent.pop(random.randint(0, len(sent) - 1))\n",
    "        # swap words\n",
    "        if random.random() < p_edit and len(sent) > 1:\n",
    "            i, j = random.sample(range(len(sent)), 2)\n",
    "            sent[i], sent[j] = sent[j], sent[i]\n",
    "    return ' '.join(sent)\n",
    "\n",
    "def corrupt_pair(pair):\n",
    "    \"\"\" Corrupt one (randomly chosen) sentence in a pair \"\"\"\n",
    "    pair = list(pair)\n",
    "    ix = random.choice([0, 1])\n",
    "    sent = pair[ix]\n",
    "    pair[ix] = corrupt_sentence(sent, ix)\n",
    "    return pair"
   ]
  },
  {
   "cell_type": "code",
   "execution_count": 420,
   "id": "bb2d60e6",
   "metadata": {},
   "outputs": [],
   "source": [
    "def get_pairs_batch(bs=4):\n",
    "    pp = random.choices(short_pairs, k=int(np.ceil(bs/2)))\n",
    "    labels = [1] * len(pp) + [0] * len(pp)\n",
    "    if random.random() < 0.5:\n",
    "        # make negatives by swapping sentence with a random one\n",
    "        pp.extend([(pp[i][0], pp[i-1][1]) for i in range(len(pp))])\n",
    "    else:\n",
    "        # make negatives by corrupting existing sentences\n",
    "        pp.extend([corrupt_pair(p) for p in pp])\n",
    "    pp = [[x, y] if random.random() < 0.5 else [y, x] for x, y in pp]\n",
    "    \n",
    "    return [list(t) for t in zip(*pp)], labels"
   ]
  },
  {
   "cell_type": "code",
   "execution_count": 58,
   "id": "f7b1808f",
   "metadata": {},
   "outputs": [],
   "source": [
    "from transformers import DataCollatorForWholeWordMask\n",
    "collator = DataCollatorForWholeWordMask(tokenizer, mlm=True, mlm_probability=0.3)"
   ]
  },
  {
   "cell_type": "code",
   "execution_count": 59,
   "id": "40f26d58",
   "metadata": {},
   "outputs": [],
   "source": [
    "for p in model.parameters():\n",
    "    p.requires_grad = True"
   ]
  },
  {
   "cell_type": "code",
   "execution_count": 61,
   "id": "a0bc45dc",
   "metadata": {},
   "outputs": [],
   "source": [
    "from transformers.optimization import Adafactor\n",
    "optimizer = Adafactor(\n",
    "    [p for p in model.parameters() if p.requires_grad], \n",
    "    scale_parameter=False, relative_step=False, \n",
    "    lr=2e-6, # make it very slow, because we want to update too many parameters\n",
    "    clip_threshold=1.0\n",
    ")\n",
    "# optimizer.param_groups[0]['lr'] = 2e-6"
   ]
  },
  {
   "cell_type": "code",
   "execution_count": 67,
   "id": "cdde9938",
   "metadata": {},
   "outputs": [],
   "source": [
    "loss_fn = torch.nn.CrossEntropyLoss()"
   ]
  },
  {
   "cell_type": "code",
   "execution_count": 65,
   "id": "735a963d",
   "metadata": {},
   "outputs": [],
   "source": [
    "mlm_batch_size = 2\n",
    "batch_size = 4\n",
    "margin = 0.3"
   ]
  },
  {
   "cell_type": "code",
   "execution_count": 63,
   "id": "97a1da97",
   "metadata": {},
   "outputs": [],
   "source": [
    "losses2 = []\n",
    "accuracies2 = []\n",
    "losses_mlm = []"
   ]
  },
  {
   "cell_type": "code",
   "execution_count": 183,
   "id": "fd911191",
   "metadata": {},
   "outputs": [],
   "source": [
    "losses_ce = []"
   ]
  },
  {
   "cell_type": "code",
   "execution_count": null,
   "id": "6132d7f0",
   "metadata": {},
   "outputs": [],
   "source": []
  },
  {
   "cell_type": "code",
   "execution_count": null,
   "id": "1f13b58a",
   "metadata": {
    "scrolled": true
   },
   "outputs": [
    {
     "data": {
      "application/vnd.jupyter.widget-view+json": {
       "model_id": "83eb725b4f3e4e0d9f392ece39d42b67",
       "version_major": 2,
       "version_minor": 0
      },
      "text/plain": [
       "  0%|          | 0/300000 [00:00<?, ?it/s]"
      ]
     },
     "metadata": {},
     "output_type": "display_data"
    },
    {
     "name": "stdout",
     "output_type": "stream",
     "text": [
      "0 2.2633165907859802 0.9625 5.76052170753479 0.2482785230781883\n",
      "100 2.2550850749015807 0.9775 5.839994730949402 0.24404158127494158\n",
      "200 2.311798061132431 0.95 5.564939630031586 0.2967242539441213\n",
      "300 2.256009542942047 0.9725 5.495200880169868 0.27820112332236024\n",
      "400 2.3052890253067018 0.94875 5.545244226455688 0.2595865166164003\n",
      "500 2.287625743150711 0.9625 5.725169218629599 0.22631934439297766\n",
      "600 2.2701006603240965 0.9475 5.419301118254662 0.29615319507196547\n",
      "700 2.2483345711231233 0.97625 5.762264189720153 0.2673908222047612\n",
      "800 2.3012849068641663 0.95375 5.591793793737889 0.21750230301171541\n",
      "900 2.2688322353363035 0.9725 5.633097656369209 0.27824340558843685\n",
      "1000 2.29024888753891 0.955 5.448489968776703 0.26712789928074926\n",
      "1100 2.2893646264076235 0.9675 5.47394932448864 0.23252736731432377\n",
      "1200 2.2831146824359894 0.95 5.549178869724273 0.26933247468899935\n",
      "1300 2.2957391011714936 0.95 5.3857043543457985 0.25279897306114435\n",
      "1400 2.2922820901870726 0.95625 5.388298223614693 0.28271817686967554\n",
      "1500 2.2522459483146666 0.97625 5.500965313911438 0.24098899764940143\n",
      "1600 2.2649794697761534 0.97125 5.549250237941742 0.24219812773400917\n",
      "1700 2.297074706554413 0.96625 5.556249759197235 0.21471086968202144\n",
      "1800 2.2925362968444825 0.96875 5.457800483703613 0.24968802473973484\n",
      "1900 2.2753879654407503 0.96625 5.5405749773979185 0.26362801644951106\n",
      "2000 2.2707152330875395 0.96125 5.391298205852508 0.27437329618260264\n",
      "2100 2.2526267194747924 0.97625 5.573061306476593 0.29041518790647386\n",
      "2200 2.314565497636795 0.9425 5.723137114048004 0.2370483016502112\n",
      "2300 2.289637906551361 0.98125 5.207627435922623 0.30528950851177794\n",
      "2400 2.286674289703369 0.9675 5.537755583822727 0.23242101339623333\n",
      "2500 2.293684949874878 0.96 5.203538247346878 0.2241627919767052\n",
      "error 99\n",
      "2600 2.288970559835434 0.955 5.362981832325459 0.24606524030910804\n",
      "2700 2.256663306951523 0.96125 5.567362961769104 0.2633711817767471\n",
      "2800 2.2844730269908906 0.965 5.5010269510746 0.2754707834124565\n",
      "2900 2.2668838727474214 0.97125 5.486207379698754 0.20346628435887396\n",
      "3000 2.2644941318035126 0.96375 5.389598566293716 0.26650820787530394\n",
      "3100 2.2900433254241945 0.96375 5.389818834066391 0.2599942485429347\n",
      "3200 2.281530013084412 0.9725 5.587431019246578 0.2781902990490198\n",
      "3300 2.282410807609558 0.95125 5.5013909435272215 0.22736042252276092\n",
      "3400 2.2494879174232483 0.96125 5.598588470220566 0.1937387019395828\n",
      "3500 2.2849290013313293 0.96625 5.724450416564942 0.29072248509153725\n",
      "3600 2.3034005880355837 0.96375 5.798793182969093 0.24471609096741304\n",
      "3700 2.318373430967331 0.96 5.26229102909565 0.3076560582406819\n",
      "3800 2.2581973564624787 0.9675 5.570304863452911 0.251233816803433\n",
      "3900 2.271466063261032 0.96625 5.615394550561905 0.2943350426154211\n",
      "4000 2.280558319091797 0.95875 5.597967705503106 0.3133501122007146\n",
      "4100 2.295757244825363 0.96125 5.233940417766571 0.24821295283734798\n",
      "4200 2.2629009640216826 0.965 5.484483431577683 0.3450762214511633\n",
      "4300 2.2903243708610534 0.97375 5.480269609689713 0.23436816479545086\n",
      "4400 2.2992543458938597 0.96375 5.414764714539051 0.24224729297682643\n",
      "4500 2.2721685409545898 0.9625 5.657771390676499 0.24972613026853652\n",
      "4600 2.2605832374095916 0.9675 5.412733738422394 0.2714268332719803\n",
      "4700 2.2442911887168884 0.96375 5.630505230426788 0.28789060650393367\n",
      "error 117\n",
      "4800 2.2593495845794678 0.97125 5.358536846041679 0.2436304258275777\n",
      "4900 2.290007947683334 0.94875 5.6714382898807525 0.29624746803194285\n",
      "5000 2.270304329395294 0.9575 5.762350533008576 0.23194535995367915\n",
      "5100 2.2883714842796326 0.9725 5.45229994893074 0.23239624251844362\n",
      "5200 2.2286123514175413 0.945 5.616650229692459 0.24031022089766338\n",
      "5300 2.292407350540161 0.96875 5.614864091277123 0.24217182186897845\n",
      "5400 2.2760829126834867 0.96625 5.782362356930971 0.22522043318953366\n",
      "5500 2.259372104406357 0.9575 5.476735572814942 0.2941427663061768\n",
      "5600 2.2508175456523896 0.96125 5.472776036262513 0.2551725015277043\n",
      "5700 2.2706507790088652 0.97375 5.245586655139923 0.30569373603444544\n",
      "5800 2.289867124557495 0.96125 5.730867338180542 0.24401926402933896\n",
      "5900 2.3020431435108186 0.96875 5.762108182907104 0.26637956228572873\n",
      "6000 2.2926911222934723 0.95875 5.854482896327973 0.337117285025306\n",
      "6100 2.304684369564056 0.95625 5.579577291011811 0.21496560791507363\n",
      "6200 2.2752298605442047 0.97125 5.5457253232598305 0.2505975247197785\n",
      "error 175\n",
      "6300 2.280249351263046 0.9625 5.489623675346374 0.28227352230576797\n",
      "6400 2.2973243391513822 0.9825 5.621089494228363 0.22315149352885782\n",
      "6500 2.281481935977936 0.965 5.688725503683091 0.2872140645701438\n",
      "6600 2.2793977570533754 0.96125 5.493398175239563 0.2616919571720064\n",
      "6700 2.2707474744319915 0.97125 5.799951403141022 0.23659797346219422\n",
      "6800 2.273140445947647 0.9725 5.4200075972080235 0.24964956318726764\n",
      "6900 2.336933665275574 0.95125 5.726381222605705 0.25300095285288987\n",
      "7000 2.299825519323349 0.96125 5.3861023664474486 0.26909490934107455\n",
      "7100 2.260322974920273 0.9775 5.774639074802399 0.23437890484929086\n",
      "7200 2.2802853751182557 0.9675 5.55850176692009 0.21414140904322265\n",
      "7300 2.293532100915909 0.96875 5.360044041275978 0.2666138299368322\n",
      "7400 2.264052176475525 0.9675 5.40175184905529 0.2681706091016531\n",
      "7500 2.3093311309814455 0.9525 5.393930051922798 0.20779271273873745\n",
      "7600 2.321157058477402 0.96 5.508684210777282 0.31450033430475743\n",
      "7700 2.2739919555187225 0.9725 5.4267199051380155 0.2546271598339081\n",
      "7800 2.240819664001465 0.98375 5.249639267921448 0.25609381195623426\n",
      "7900 2.2830327343940735 0.97375 5.604994372427464 0.21971678670728578\n",
      "8000 2.254794566631317 0.9725 5.5215205514431 0.24230622344184666\n",
      "8100 2.2593141436576842 0.98 5.390363775491714 0.29203361205291\n",
      "8200 2.2921212911605835 0.965 5.551591608524323 0.24304339290130883\n",
      "8300 2.3114311754703523 0.9425 5.344156152009964 0.25095328128896655\n",
      "8400 2.273535267114639 0.97125 5.5165509390831 0.261615629401058\n",
      "error 21\n",
      "8500 2.24222336769104 0.97125 5.82450217962265 0.28769024410285055\n",
      "8600 2.2616957890987397 0.9675 5.409106892347336 0.26580996279604735\n",
      "8700 2.2733236467838287 0.97125 5.397586349844932 0.236132575632073\n",
      "8800 2.279429249763489 0.96875 5.578613784611225 0.26502335953060535\n",
      "8900 2.2684509575366976 0.97375 5.336161340624094 0.27733665791340173\n",
      "9000 2.2492015242576597 0.98875 5.6465871322155 0.2658263790886849\n",
      "9100 2.2531475484371186 0.97 5.299970375299454 0.26071852184366434\n",
      "9200 2.2767068696022035 0.97375 5.424843451976776 0.22413255612831562\n",
      "9300 2.296491640806198 0.95625 5.454997455626726 0.2617502445587888\n",
      "9400 2.2491397356986997 0.97125 5.606069564819336 0.23667163994628937\n",
      "9500 2.3038169884681703 0.9575 5.605692085623741 0.25874900760129094\n",
      "9600 2.256277023553848 0.97 5.479236253499985 0.23608913297532128\n",
      "9700 2.278359956741333 0.97125 5.7877530264854435 0.21988031222950666\n",
      "9800 2.270383070707321 0.9625 5.555130448937416 0.2582980647403747\n",
      "9900 2.2362699735164644 0.96875 5.664349529743195 0.21647724954062142\n",
      "10000 2.2830368375778196 0.975 5.457844988107682 0.25853039246052506\n",
      "10100 2.267895847558975 0.9525 5.410564702153206 0.2798481280170381\n",
      "10200 2.274687076807022 0.95625 5.544870688915252 0.2300307012721896\n",
      "10300 2.2398344433307646 0.97125 5.483710780739784 0.2259040381014347\n",
      "10400 2.28103538274765 0.97375 5.597329006195069 0.2179468282777816\n",
      "10500 2.2871175694465635 0.965 5.579533723592758 0.2735877164360136\n",
      "10600 2.265825756788254 0.96875 5.3689224457740785 0.27212439430877566\n",
      "error 65\n",
      "10700 2.266263030767441 0.97 5.775065104961396 0.1982500790443737\n",
      "10800 2.278927843570709 0.94625 5.634666863679886 0.2210233753803186\n",
      "10900 2.300041871070862 0.96875 5.6708368614315985 0.23823443364817648\n",
      "11000 2.22650935292244 0.96125 5.466360499858856 0.2944271196750924\n",
      "11100 2.2506026256084444 0.97625 5.483474713563919 0.24283986108377575\n",
      "11200 2.2692863547801974 0.96 5.749508473873139 0.16813257365021855\n",
      "11300 2.2777023470401763 0.96 5.133998627066612 0.22975356060778723\n",
      "11400 2.2768493628501894 0.96625 5.248888573050499 0.25320981652475893\n",
      "11500 2.248498879671097 0.97625 5.421654078960419 0.2039068186026998\n",
      "11600 2.24666149020195 0.95375 5.448582528829575 0.19023189995670692\n",
      "11700 2.2818062472343446 0.97125 5.299427571296692 0.2412992059951648\n",
      "11800 2.2655002236366273 0.97 5.526224960088729 0.24106043830281124\n",
      "11900 2.3001019859313967 0.95875 5.63915422141552 0.26543506138725204\n"
     ]
    },
    {
     "name": "stdout",
     "output_type": "stream",
     "text": [
      "12000 2.2370961022377016 0.96875 5.462704008817672 0.25248355449410154\n",
      "12100 2.2660952603816984 0.955 5.599624400138855 0.22994319963501766\n",
      "12200 2.2829912638664247 0.97375 5.344158334434033 0.24394688343163579\n",
      "12300 2.276161631345749 0.96875 5.16299389719963 0.33035026024561376\n",
      "12400 2.2259155392646788 0.9625 5.3316812682151795 0.30248653820715843\n",
      "12500 2.254231159687042 0.9775 5.447694432735443 0.20527239507995546\n",
      "12600 2.260325500965118 0.965 5.593490819931031 0.19486590817570687\n",
      "12700 2.2638343942165373 0.97875 5.526470835208893 0.2769223568262532\n",
      "12800 2.2735543990135194 0.97 5.197430112361908 0.21782605211250483\n",
      "12900 2.2835998344421387 0.9625 5.591362706422806 0.24124387411400675\n",
      "13000 2.277768164873123 0.965 5.616412639021873 0.25663057478144763\n",
      "13100 2.3031309413909913 0.96125 5.543754137754441 0.2342808654718101\n",
      "13200 2.289302216768265 0.9725 5.43480545938015 0.2549002024112269\n",
      "13300 2.243105789422989 0.95875 5.657428889274597 0.27424907858250663\n"
     ]
    }
   ],
   "source": [
    "model.train()\n",
    "tq = trange(300_000)\n",
    "for i in tq:\n",
    "    myv, ru = [list(p) for p in zip(*random.choices(all_pairs, k=batch_size))]\n",
    "    try:\n",
    "        # translation ranking step step\n",
    "        # in half cases, pull embeddings to the teacher; in other half - to self. \n",
    "        tm, tt = (teacher_model, teacher_tokenizer) if random.random() < 0.5 else (model.bert, tokenizer)\n",
    "        ru_batch = tt(ru, return_tensors='pt', padding=True, truncation=True, max_length=128)\n",
    "        with torch.no_grad():\n",
    "            ru_emb = torch.nn.functional.normalize(tm(**ru_batch.to(teacher_model.device)).pooler_output)\n",
    "\n",
    "        myv_batch = tokenizer(myv, return_tensors='pt', padding=True, truncation=True, max_length=128)\n",
    "        myv_emb = torch.nn.functional.normalize(model.bert(**myv_batch.to(model.device)).pooler_output)\n",
    "        all_scores = torch.matmul(ru_emb, myv_emb.T) - torch.eye(batch_size, device=model.device) * margin\n",
    "        loss = loss_fn(all_scores, torch.arange(batch_size, device=model.device)) + loss_fn(all_scores.T, torch.arange(batch_size, device=model.device))\n",
    "        loss.backward()\n",
    "        losses2.append(loss.item())\n",
    "        accuracies2.append(get_acc2(myv_emb, ru_emb))\n",
    "        \n",
    "        # mlm step\n",
    "        sents = random.choices(all_sentences, k=mlm_batch_size)\n",
    "        myv_batch = {k: v.to(model.device) for k, v in collator([tokenizer(s) for s in sents]).items()}\n",
    "        loss = loss_fn(\n",
    "            model(**myv_batch).prediction_logits.view(-1, model.config.vocab_size), \n",
    "            myv_batch['labels'].view(-1)\n",
    "        )\n",
    "        loss.backward()\n",
    "        losses_mlm.append(loss.item())\n",
    "        \n",
    "        # cross-encoder step\n",
    "        pp, pl = get_pairs_batch(bs=4)\n",
    "        loss = loss_fn(\n",
    "            model(\n",
    "                **tokenizer(*pp, padding=True, truncation=True, max_length=128, return_tensors='pt').to(model.device)\n",
    "            ).seq_relationship_logits.view(-1, 2),\n",
    "            torch.tensor(pl, device=model.device)\n",
    "        )\n",
    "        loss.backward()\n",
    "        losses_ce.append(loss.item())\n",
    "        \n",
    "        optimizer.step()\n",
    "        optimizer.zero_grad(set_to_none=True)\n",
    "        \n",
    "    except RuntimeError:\n",
    "        optimizer.zero_grad(set_to_none=True)\n",
    "        batch, out, embeddings, all_scores, loss = None, None, None, None, None\n",
    "        cleanup()\n",
    "        print('error', max(len(s) for s in myv+ru))\n",
    "        continue\n",
    "    if i % 100 == 0:\n",
    "        print(i, np.mean(losses2[-100:]), np.mean(accuracies2[-100:]), np.mean(losses_mlm[-100:]), np.mean(losses_ce[-100:]))"
   ]
  },
  {
   "cell_type": "code",
   "execution_count": 237,
   "id": "ac2c6869",
   "metadata": {},
   "outputs": [],
   "source": [
    "optimizer.zero_grad(set_to_none=True)\n",
    "ru_batch, ru_emb, myv_batch, myv_emb, all_scores, loss = None, None, None, None, None, None\n",
    "cleanup()"
   ]
  },
  {
   "cell_type": "markdown",
   "id": "7ea5341b",
   "metadata": {},
   "source": [
    "Added dropout on step 120k; in a few hundred steps added cross-encoder loss. Everything went up, but it is only an illusion.\n",
    "\n",
    "At step 340K, added more difficult pairs for translation detection => much much higher loss. "
   ]
  },
  {
   "cell_type": "code",
   "execution_count": 431,
   "id": "225cae34",
   "metadata": {},
   "outputs": [
    {
     "name": "stdout",
     "output_type": "stream",
     "text": [
      "358122\n"
     ]
    },
    {
     "data": {
      "image/png": "[encoded data removed]",
      "text/plain": [
       "<Figure size 1152x216 with 4 Axes>"
      ]
     },
     "metadata": {
      "needs_background": "light"
     },
     "output_type": "display_data"
    }
   ],
   "source": [
    "print(len(losses2))\n",
    "plt.figure(figsize=(16, 3))\n",
    "for i, s in enumerate([losses2, accuracies2, losses_mlm, losses_ce]):\n",
    "    plt.subplot(1, 4, i+1)\n",
    "    pd.Series(s).ewm(1000).mean()[1000:].plot(lw=1);"
   ]
  },
  {
   "cell_type": "markdown",
   "id": "d91e40d3",
   "metadata": {},
   "source": [
    "In total, we managed to train for 358122 steps, before the kernel crashed due to external reasons. "
   ]
  },
  {
   "cell_type": "code",
   "execution_count": 432,
   "id": "7c0fcebf",
   "metadata": {},
   "outputs": [
    {
     "data": {
      "text/plain": [
       "('labse_erzya_v1\\\\tokenizer_config.json',\n",
       " 'labse_erzya_v1\\\\special_tokens_map.json',\n",
       " 'labse_erzya_v1\\\\vocab.txt',\n",
       " 'labse_erzya_v1\\\\added_tokens.json',\n",
       " 'labse_erzya_v1\\\\tokenizer.json')"
      ]
     },
     "execution_count": 432,
     "metadata": {},
     "output_type": "execute_result"
    }
   ],
   "source": [
    "NEW_MODEL_NAME = 'labse_erzya_v1' # the same model name; updated embeddings AND weights\n",
    "model.save_pretrained(NEW_MODEL_NAME)\n",
    "tokenizer.save_pretrained(NEW_MODEL_NAME)"
   ]
  },
  {
   "cell_type": "code",
   "execution_count": 286,
   "id": "19a798ce",
   "metadata": {},
   "outputs": [
    {
     "data": {
      "text/plain": [
       "'Ниле иеде ламо тосо важодемстэ учинь школасо тарка.Неть иетнестэ васенцеде вастовинь С.М. Люлякинань марто (сон сакшнось минек велес эрзянь журналтнэнь ды газетатнень кис агитировамо).'"
      ]
     },
     "execution_count": 286,
     "metadata": {},
     "output_type": "execute_result"
    }
   ],
   "source": [
    "random.choice(all_sentences)"
   ]
  },
  {
   "cell_type": "code",
   "execution_count": 258,
   "id": "45b80968",
   "metadata": {},
   "outputs": [],
   "source": [
    "def test_mask(text):\n",
    "    input = tokenizer.encode_plus(text, return_tensors = \"pt\").to(model.device)\n",
    "    mask_index = torch.where(input[\"input_ids\"][0] == tokenizer.mask_token_id)[0]\n",
    "\n",
    "    with torch.no_grad():\n",
    "        output = model(**input)\n",
    "        logits = output.prediction_logits\n",
    "        softmax = torch.softmax(logits, dim = -1)\n",
    "        mask_word = softmax[0, mask_index, :]\n",
    "        top_10 = torch.topk(mask_word, 10, dim = 1)[1][0]\n",
    "    for token in top_10:\n",
    "       word = tokenizer.decode([token])\n",
    "       new_sentence = text.replace(tokenizer.mask_token, word)\n",
    "       print(new_sentence)"
   ]
  },
  {
   "cell_type": "code",
   "execution_count": 436,
   "id": "e12dae20",
   "metadata": {},
   "outputs": [
    {
     "name": "stdout",
     "output_type": "stream",
     "text": [
      "2018 иестэ саезь книганть лангсо важодсть Самарань ды ошонь специалисттнэ, весемезэ сисем ломанть.\n",
      "2018 иестэ саезь книганть лангсо важодсть Самарань ды Саранск специалисттнэ, весемезэ сисем ломанть.\n",
      "2018 иестэ саезь книганть лангсо важодсть Самарань ды мокшонь специалисттнэ, весемезэ сисем ломанть.\n",
      "2018 иестэ саезь книганть лангсо важодсть Самарань ды Пушкин специалисттнэ, весемезэ сисем ломанть.\n",
      "2018 иестэ саезь книганть лангсо важодсть Самарань ды Саран специалисттнэ, весемезэ сисем ломанть.\n",
      "2018 иестэ саезь книганть лангсо важодсть Самарань ды Саранскоень специалисттнэ, весемезэ сисем ломанть.\n",
      "2018 иестэ саезь книганть лангсо важодсть Самарань ды Мордовиянь специалисттнэ, весемезэ сисем ломанть.\n",
      "2018 иестэ саезь книганть лангсо важодсть Самарань ды рузонь специалисттнэ, весемезэ сисем ломанть.\n",
      "2018 иестэ саезь книганть лангсо важодсть Самарань ды райононь специалисттнэ, весемезэ сисем ломанть.\n",
      "2018 иестэ саезь книганть лангсо важодсть Самарань ды лия специалисттнэ, весемезэ сисем ломанть.\n"
     ]
    }
   ],
   "source": [
    "test_mask('2018 иестэ саезь книганть лангсо важодсть Самарань ды [MASK] специалисттнэ, весемезэ сисем ломанть.')"
   ]
  },
  {
   "cell_type": "code",
   "execution_count": 435,
   "id": "a0d5aab8",
   "metadata": {},
   "outputs": [
    {
     "name": "stdout",
     "output_type": "stream",
     "text": [
      "2018 иестэ саезь сцена лангсо важодсть Самарань ды Мордовиянь специалисттнэ, весемезэ сисем ломанть.\n",
      "2018 иестэ саезь школа лангсо важодсть Самарань ды Мордовиянь специалисттнэ, весемезэ сисем ломанть.\n",
      "2018 иестэ саезь Пушкин лангсо важодсть Самарань ды Мордовиянь специалисттнэ, весемезэ сисем ломанть.\n",
      "2018 иестэ саезь школасо лангсо важодсть Самарань ды Мордовиянь специалисттнэ, весемезэ сисем ломанть.\n",
      "2018 иестэ саезь ошонь лангсо важодсть Самарань ды Мордовиянь специалисттнэ, весемезэ сисем ломанть.\n",
      "2018 иестэ саезь пейзаж лангсо важодсть Самарань ды Мордовиянь специалисттнэ, весемезэ сисем ломанть.\n",
      "2018 иестэ саезь моданть лангсо важодсть Самарань ды Мордовиянь специалисттнэ, весемезэ сисем ломанть.\n",
      "2018 иестэ саезь Александровна лангсо важодсть Самарань ды Мордовиянь специалисттнэ, весемезэ сисем ломанть.\n",
      "2018 иестэ саезь государственной лангсо важодсть Самарань ды Мордовиянь специалисттнэ, весемезэ сисем ломанть.\n",
      "2018 иестэ саезь школань лангсо важодсть Самарань ды Мордовиянь специалисттнэ, весемезэ сисем ломанть.\n"
     ]
    }
   ],
   "source": [
    "test_mask('2018 иестэ саезь [MASK] лангсо важодсть Самарань ды Мордовиянь специалисттнэ, весемезэ сисем ломанть.')"
   ]
  },
  {
   "cell_type": "code",
   "execution_count": 434,
   "id": "ecbaf42b",
   "metadata": {},
   "outputs": [
    {
     "name": "stdout",
     "output_type": "stream",
     "text": [
      "(сон сакшнось минек велес эрзянь Культурань ды газетатнень кис агитировамо).\n",
      "(сон сакшнось минек велес эрзянь культурань ды газетатнень кис агитировамо).\n",
      "(сон сакшнось минек велес эрзянь газетань ды газетатнень кис агитировамо).\n",
      "(сон сакшнось минек велес эрзянь келень ды газетатнень кис агитировамо).\n",
      "(сон сакшнось минек велес эрзянь литературань ды газетатнень кис агитировамо).\n",
      "(сон сакшнось минек велес эрзянь искусствань ды газетатнень кис агитировамо).\n",
      "(сон сакшнось минек велес эрзянь газета ды газетатнень кис агитировамо).\n",
      "(сон сакшнось минек велес эрзянь произведеният ды газетатнень кис агитировамо).\n",
      "(сон сакшнось минек велес эрзянь хозяйствань ды газетатнень кис агитировамо).\n",
      "(сон сакшнось минек велес эрзянь келенть ды газетатнень кис агитировамо).\n"
     ]
    }
   ],
   "source": [
    "test_mask('(сон сакшнось минек велес эрзянь [MASK] ды газетатнень кис агитировамо).')"
   ]
  },
  {
   "cell_type": "code",
   "execution_count": 433,
   "id": "317c1aa7",
   "metadata": {
    "scrolled": true
   },
   "outputs": [
    {
     "name": "stdout",
     "output_type": "stream",
     "text": [
      "(сон сакшнось минек велес , литературань  ды газетатнень кис агитировамо).\n",
      "(сон сакшнось минек велес ##со литературань  ды газетатнень кис агитировамо).\n",
      "(сон сакшнось минек велес ды литературань  ды газетатнень кис агитировамо).\n",
      "(сон сакшнось минек велес марто литературань  ды газетатнень кис агитировамо).\n",
      "(сон сакшнось минек велес ##нь литературань  ды газетатнень кис агитировамо).\n",
      "(сон сакшнось минек велес ) литературань  ды газетатнень кис агитировамо).\n",
      "(сон сакшнось минек велес : литературань  ды газетатнень кис агитировамо).\n",
      "(сон сакшнось минек велес - литературань  ды газетатнень кис агитировамо).\n",
      "(сон сакшнось минек велес » литературань  ды газетатнень кис агитировамо).\n",
      "(сон сакшнось минек велес ##онь литературань  ды газетатнень кис агитировамо).\n"
     ]
    }
   ],
   "source": [
    "test_mask('(сон сакшнось минек велес [MASK] литературань  ды газетатнень кис агитировамо).')"
   ]
  },
  {
   "cell_type": "markdown",
   "id": "3b6b3843",
   "metadata": {},
   "source": [
    "# Continue training after reboot"
   ]
  },
  {
   "cell_type": "code",
   "execution_count": 68,
   "id": "a5fd9375",
   "metadata": {},
   "outputs": [],
   "source": [
    "from transformers import AutoModelForPreTraining, AutoTokenizer, AutoModel"
   ]
  },
  {
   "cell_type": "code",
   "execution_count": 54,
   "id": "719ed605",
   "metadata": {},
   "outputs": [],
   "source": [
    "model_path = 'labse_erzya_v1' # the same model name; updated embeddings AND weights\n",
    "model = AutoModelForPreTraining.from_pretrained(model_path).cuda()\n",
    "tokenizer = AutoTokenizer.from_pretrained(model_path)"
   ]
  },
  {
   "cell_type": "code",
   "execution_count": 55,
   "id": "05a3c011",
   "metadata": {},
   "outputs": [],
   "source": [
    "import torch\n",
    "import gc\n",
    "import numpy as np\n",
    "import matplotlib.pyplot as plt\n",
    "\n",
    "def cleanup():\n",
    "    gc.collect()\n",
    "    torch.cuda.empty_cache()\n",
    "    \n",
    "cleanup()"
   ]
  },
  {
   "cell_type": "code",
   "execution_count": 57,
   "id": "178eb193",
   "metadata": {},
   "outputs": [
    {
     "data": {
      "application/vnd.jupyter.widget-view+json": {
       "model_id": "955baa00cc6a42efaf27126fb559783a",
       "version_major": 2,
       "version_minor": 0
      },
      "text/plain": [
       "  0%|          | 0/77630 [00:00<?, ?it/s]"
      ]
     },
     "metadata": {},
     "output_type": "display_data"
    },
    {
     "name": "stdout",
     "output_type": "stream",
     "text": [
      "77630 76425\n"
     ]
    }
   ],
   "source": [
    "short_pairs = [p for p in tqdm(all_pairs) if len(tokenizer.encode(*p)) <= 100]\n",
    "print(len(all_pairs), len(short_pairs))"
   ]
  },
  {
   "cell_type": "code",
   "execution_count": 58,
   "id": "4bf1a502",
   "metadata": {},
   "outputs": [],
   "source": [
    "teacher_model_name = 'cointegrated/LaBSE-en-ru'\n",
    "teacher_tokenizer = AutoTokenizer.from_pretrained(teacher_model_name)"
   ]
  },
  {
   "cell_type": "code",
   "execution_count": 69,
   "id": "e61c9049",
   "metadata": {},
   "outputs": [
    {
     "name": "stderr",
     "output_type": "stream",
     "text": [
      "Some weights of the model checkpoint at cointegrated/LaBSE-en-ru were not used when initializing BertModel: ['cls.predictions.transform.LayerNorm.weight', 'cls.seq_relationship.weight', 'cls.seq_relationship.bias', 'cls.predictions.transform.dense.weight', 'cls.predictions.transform.dense.bias', 'cls.predictions.decoder.weight', 'cls.predictions.decoder.bias', 'cls.predictions.bias', 'cls.predictions.transform.LayerNorm.bias']\n",
      "- This IS expected if you are initializing BertModel from the checkpoint of a model trained on another task or with another architecture (e.g. initializing a BertForSequenceClassification model from a BertForPreTraining model).\n",
      "- This IS NOT expected if you are initializing BertModel from the checkpoint of a model that you expect to be exactly identical (initializing a BertForSequenceClassification model from a BertForSequenceClassification model).\n"
     ]
    }
   ],
   "source": [
    "teacher_model = AutoModel.from_pretrained(teacher_model_name).cuda()"
   ]
  },
  {
   "cell_type": "code",
   "execution_count": 70,
   "id": "ff16a77d",
   "metadata": {},
   "outputs": [],
   "source": [
    "def get_acc2(e1, e2):\n",
    "    batch_size = e1.shape[0]\n",
    "    with torch.no_grad():\n",
    "        scores = torch.matmul(e1, e2.T).cpu().numpy()\n",
    "    a1 = (scores.argmax(1) == np.arange(batch_size)).mean()\n",
    "    a2 = (scores.argmax(0) == np.arange(batch_size)).mean()\n",
    "    return (a1 + a2) / 2"
   ]
  },
  {
   "cell_type": "code",
   "execution_count": 71,
   "id": "4116f57b",
   "metadata": {},
   "outputs": [],
   "source": [
    "def corrupt_sentence(sent, ix, p_edit=0.5):\n",
    "    sent = sent.split()\n",
    "    old_sent = sent[:]\n",
    "    while sent == old_sent:\n",
    "        # insert a random word\n",
    "        if random.random() < p_edit or len(sent) == 1:\n",
    "            other_sent = random.choice(all_pairs)[ix].split()\n",
    "            sent.insert(random.randint(0, len(sent) - 1), random.choice(other_sent))\n",
    "        # replace a random word\n",
    "        if random.random() < p_edit and len(sent) > 1:\n",
    "            other_sent = random.choice(all_pairs)[ix].split()\n",
    "            sent[random.randint(0, len(sent) - 1)] = random.choice(other_sent)\n",
    "        # remove a word\n",
    "        if random.random() < p_edit and len(sent) > 1:\n",
    "            sent.pop(random.randint(0, len(sent) - 1))\n",
    "        # swap words\n",
    "        if random.random() < p_edit and len(sent) > 1:\n",
    "            i, j = random.sample(range(len(sent)), 2)\n",
    "            sent[i], sent[j] = sent[j], sent[i]\n",
    "    return ' '.join(sent)\n",
    "\n",
    "def corrupt_pair(pair):\n",
    "    \"\"\" Corrupt one (randomly chosen) sentence in a pair \"\"\"\n",
    "    pair = list(pair)\n",
    "    ix = random.choice([0, 1])\n",
    "    sent = pair[ix]\n",
    "    pair[ix] = corrupt_sentence(sent, ix)\n",
    "    return pair"
   ]
  },
  {
   "cell_type": "code",
   "execution_count": 72,
   "id": "955d9934",
   "metadata": {},
   "outputs": [],
   "source": [
    "def get_pairs_batch(bs=4):\n",
    "    pp = random.choices(short_pairs, k=int(np.ceil(bs/2)))\n",
    "    labels = [1] * len(pp) + [0] * len(pp)\n",
    "    if random.random() < 0.5:\n",
    "        # make negatives by swapping sentence with a random one\n",
    "        pp.extend([(pp[i][0], pp[i-1][1]) for i in range(len(pp))])\n",
    "    else:\n",
    "        # make negatives by corrupting existing sentences\n",
    "        pp.extend([corrupt_pair(p) for p in pp])\n",
    "    pp = [[x, y] if random.random() < 0.5 else [y, x] for x, y in pp]\n",
    "    \n",
    "    return [list(t) for t in zip(*pp)], labels"
   ]
  },
  {
   "cell_type": "code",
   "execution_count": 60,
   "id": "8c9b855f",
   "metadata": {},
   "outputs": [],
   "source": [
    "from transformers import DataCollatorForWholeWordMask\n",
    "collator = DataCollatorForWholeWordMask(tokenizer, mlm=True, mlm_probability=0.3)"
   ]
  },
  {
   "cell_type": "code",
   "execution_count": 61,
   "id": "5840b353",
   "metadata": {},
   "outputs": [],
   "source": [
    "for p in model.parameters():\n",
    "    p.requires_grad = True"
   ]
  },
  {
   "cell_type": "code",
   "execution_count": 62,
   "id": "8bf239d9",
   "metadata": {},
   "outputs": [],
   "source": [
    "from transformers.optimization import Adafactor\n",
    "optimizer = Adafactor(\n",
    "    [p for p in model.parameters() if p.requires_grad], \n",
    "    scale_parameter=False, relative_step=False, \n",
    "    lr=2e-6, # make it very slow, because we want to update too many parameters\n",
    "    clip_threshold=1.0\n",
    ")\n",
    "# optimizer.param_groups[0]['lr'] = 2e-6"
   ]
  },
  {
   "cell_type": "code",
   "execution_count": 63,
   "id": "e0f19efa",
   "metadata": {},
   "outputs": [],
   "source": [
    "loss_fn = torch.nn.CrossEntropyLoss()"
   ]
  },
  {
   "cell_type": "code",
   "execution_count": 64,
   "id": "40d843fa",
   "metadata": {},
   "outputs": [],
   "source": [
    "mlm_batch_size = 2\n",
    "batch_size = 4\n",
    "margin = 0.3"
   ]
  },
  {
   "cell_type": "code",
   "execution_count": 66,
   "id": "10365e53",
   "metadata": {},
   "outputs": [],
   "source": [
    "losses2 = []\n",
    "accuracies2 = []\n",
    "losses_mlm = []\n",
    "losses_ce = []"
   ]
  },
  {
   "cell_type": "code",
   "execution_count": null,
   "id": "007d10e9",
   "metadata": {},
   "outputs": [],
   "source": []
  },
  {
   "cell_type": "code",
   "execution_count": 126,
   "id": "ed62cb36",
   "metadata": {
    "scrolled": true
   },
   "outputs": [
    {
     "data": {
      "application/vnd.jupyter.widget-view+json": {
       "model_id": "001f05fcfc9e40fc922a8776125cb796",
       "version_major": 2,
       "version_minor": 0
      },
      "text/plain": [
       "  0%|          | 0/300000 [00:00<?, ?it/s]"
      ]
     },
     "metadata": {},
     "output_type": "display_data"
    },
    {
     "name": "stdout",
     "output_type": "stream",
     "text": [
      "0 2.2575094509124756 0.97375 4.838617547750473 0.22978557605063543\n",
      "100 2.2240990126132965 0.975 5.106414977312088 0.22290227346587926\n",
      "200 2.264026275873184 0.98125 5.2418779015541075 0.20482552862726153\n",
      "300 2.274596691131592 0.9825 5.202867120504379 0.16304172050673515\n",
      "400 2.22374990105629 0.96 5.055300569534301 0.1705955007718876\n",
      "500 2.266619393825531 0.9725 5.122816634774208 0.14156278443755582\n",
      "600 2.289240571260452 0.975 5.121324732601643 0.23306222741201055\n",
      "700 2.2915099251270292 0.96125 5.055006603896618 0.1351705885003321\n",
      "800 2.2882922613620758 0.98 5.208745607882738 0.2250130078336224\n",
      "900 2.279128301143646 0.9625 5.059159638881684 0.19646110726287588\n",
      "1000 2.2892199206352233 0.96875 5.169292038679123 0.1830881323828362\n",
      "1100 2.2844565153121947 0.9675 5.098052794337272 0.14343544633476996\n",
      "1200 2.2692313039302827 0.96875 5.3371937388181685 0.20681401437846944\n",
      "1300 2.2551062536239623 0.975 5.344616045504808 0.1617470502119977\n",
      "1400 2.252299054861069 0.98 5.398797961473465 0.16011333608883432\n",
      "1500 2.2995434308052065 0.97 5.348671125173569 0.15703207434387878\n",
      "1600 2.2718849635124205 0.98 5.19600572437048 0.17983155033492948\n",
      "1700 2.2457497835159304 0.98 5.242056695222854 0.17467469201888888\n",
      "error 346\n",
      "1800 2.2792614781856537 0.96375 5.233510595560074 0.12074160558404401\n",
      "1900 2.3148813319206236 0.96375 5.114227981567383 0.2134832125296816\n",
      "2000 2.2651440477371216 0.9775 5.268020875155925 0.12284860569634475\n",
      "2100 2.26497913479805 0.97375 4.934350066184997 0.14644930774113163\n",
      "2200 2.265612541437149 0.97625 5.346416372060776 0.13757259277277625\n",
      "2300 2.29648606300354 0.97 5.096937312483788 0.16356372279697098\n",
      "2400 2.281032112836838 0.9525 4.995843460559845 0.20080875643645413\n",
      "2500 2.290063599348068 0.97125 5.161272601485252 0.1868448003870435\n",
      "2600 2.2942122840881347 0.9675 5.2722551292181015 0.18855765451851766\n",
      "error 181\n",
      "2700 2.2965132284164427 0.97375 4.914080638587475 0.1264619375905022\n",
      "2800 2.278415163755417 0.96875 5.145499371290207 0.1904376659996342\n",
      "2900 2.2570911157131195 0.97875 4.9270649152994155 0.15990839308593421\n",
      "3000 2.263937134742737 0.97375 5.175894629582762 0.16010596852283926\n",
      "3100 2.2872596096992495 0.96 5.382914383411407 0.20632223851513118\n",
      "error 110\n",
      "3200 2.2809725522994997 0.98 5.301024441123008 0.14840854471549392\n",
      "3300 2.2261437594890596 0.98375 5.080229617357254 0.20103420110186562\n",
      "error 126\n",
      "3400 2.294374692440033 0.97375 5.182589499354362 0.20106323504121973\n",
      "3500 2.2494727313518523 0.9775 5.411484751701355 0.23218233013758435\n",
      "3600 2.2773444151878355 0.97625 5.463860192298889 0.17430974351242184\n",
      "3700 2.2870556545257568 0.9825 5.0925212836265565 0.14582200987963007\n",
      "3800 2.2773231959342954 0.96875 4.682591989557259 0.22809314972430003\n",
      "3900 2.27317511677742 0.975 5.125643708109855 0.198784793834202\n",
      "4000 2.273745174407959 0.97 5.154321827888489 0.15505885273683817\n",
      "error 56\n",
      "4100 2.2828302443027497 0.9725 5.300294749736786 0.247645139626693\n",
      "4200 2.275288153886795 0.965 5.348678506016731 0.21229214596096427\n",
      "4300 2.2857819485664366 0.95625 5.25185951590538 0.1233174926135689\n",
      "4400 2.2704333162307737 0.96125 5.000136283636093 0.1799566227174364\n",
      "4500 2.268120596408844 0.97375 5.26785964012146 0.1483184800716117\n",
      "4600 2.260763552188873 0.9725 5.304766535758972 0.18639424830907955\n",
      "4700 2.290928338766098 0.97125 5.026686077713967 0.1638373334170319\n",
      "4800 2.272037832736969 0.97375 5.1877281004190445 0.1613319693953963\n",
      "4900 2.249008446931839 0.97875 5.37837327003479 0.1571785442053806\n",
      "5000 2.257520831823349 0.96 5.285913323163986 0.16662613488093483\n",
      "5100 2.2937985026836394 0.97125 5.045061664581299 0.17500492743449286\n",
      "error 106\n",
      "5200 2.270653283596039 0.975 5.256686478555203 0.21857898327405564\n",
      "5300 2.295856968164444 0.945 5.222292952537536 0.14595946989837102\n",
      "5400 2.2754833722114562 0.9675 5.1477975842356685 0.1682451307820156\n",
      "5500 2.2605681085586546 0.97625 4.869850088953972 0.15988695541163905\n",
      "5600 2.2470102536678316 0.97625 5.33720552444458 0.1643528225272894\n",
      "5700 2.274341554641724 0.97125 5.1146332240104675 0.2141672967816703\n",
      "5800 2.2738277280330657 0.96875 4.983687498569489 0.15159937165444717\n",
      "5900 2.2737075579166413 0.96875 5.064187954664231 0.1764352964423597\n",
      "6000 2.2554884588718416 0.98 5.173573558330536 0.20220054360223003\n",
      "6100 2.2884545767307283 0.96875 5.051484726965428 0.1552359488850925\n",
      "6200 2.257322943210602 0.975 5.0755298012495045 0.19160573692293836\n",
      "6300 2.275703674554825 0.97375 5.1641806840896605 0.18271357738645747\n",
      "6400 2.27678919672966 0.97625 5.002587381005287 0.18525767744169572\n",
      "6500 2.247739828824997 0.9725 5.370054793357849 0.1669554510130547\n",
      "6600 2.2790421772003175 0.97875 5.393679196834564 0.16944810334360227\n",
      "6700 2.2502014565467836 0.98 5.125975848436355 0.2040530960651813\n",
      "6800 2.247652751207352 0.97375 4.929986124187708 0.20691238567233086\n",
      "6900 2.269132488965988 0.98 5.465371772050857 0.12885838032118044\n",
      "7000 2.2994115257263186 0.97375 5.054457060098648 0.1638064518524334\n",
      "7100 2.2824885070323946 0.9775 5.108932478427887 0.15715293811634182\n",
      "7200 2.291892261505127 0.97125 5.049635106921196 0.16876228067791088\n",
      "7300 2.280166848897934 0.96375 5.081785740852356 0.17691239733016118\n",
      "7400 2.3273423767089843 0.9575 5.1705064725875856 0.1874501854425762\n",
      "7500 2.2624580132961274 0.9675 5.077948451042175 0.22645596893969924\n",
      "7600 2.317192116975784 0.96375 5.379782525300979 0.2016660253191367\n",
      "7700 2.265237182378769 0.97375 5.146162421703338 0.16564271284965798\n",
      "7800 2.2386497795581817 0.98 5.237851727008819 0.18092896150657908\n",
      "7900 2.2851122987270354 0.97625 5.345834389328957 0.1479532858321909\n",
      "8000 2.273979071378708 0.9775 5.206489926576614 0.1832063412980642\n",
      "error 123\n",
      "8100 2.2868292462825774 0.96625 4.923933785595 0.19916899224277584\n",
      "8200 2.265236713886261 0.96625 4.973868453502655 0.14692150177201257\n",
      "8300 2.2696233940124513 0.97375 4.932746602296829 0.2322279892070219\n",
      "8400 2.282592908143997 0.97 5.247509067058563 0.14984556949930267\n",
      "8500 2.2483016991615297 0.97125 5.112722979187965 0.10457228946266696\n",
      "8600 2.27446381688118 0.98 5.372693138122559 0.1883567810303066\n",
      "8700 2.283513034582138 0.96625 5.077642272114754 0.12875801658490674\n",
      "8800 2.290184260606766 0.97125 5.042986848950386 0.15147552195703612\n",
      "8900 2.3135439777374267 0.95375 5.395477236509323 0.13989489823463372\n",
      "9000 2.2577969884872435 0.97125 5.332478566169739 0.1590863129356876\n",
      "9100 2.285182225704193 0.95625 5.131979520320892 0.14877187957288698\n",
      "9200 2.2529061794281007 0.97625 5.2184702616930005 0.18757195648737252\n",
      "9300 2.2909619867801667 0.9725 5.079575183391571 0.12388570789364167\n",
      "9400 2.2980087900161745 0.96125 5.454057856798172 0.20272351509076544\n",
      "9500 2.2804715526103974 0.97625 5.032292791008949 0.18068062244914473\n",
      "9600 2.285183380842209 0.965 5.308074320554733 0.19548007379285992\n",
      "9700 2.2714748227596284 0.965 5.130650281012058 0.17696942213224248\n",
      "9800 2.2846081483364107 0.96875 5.2806058549880985 0.14997420778498052\n",
      "error 168\n",
      "9900 2.2721106851100923 0.95875 5.1473477637767795 0.2142444008484017\n",
      "error 46\n",
      "10000 2.284370483160019 0.95875 5.057963643074036 0.173143063376192\n",
      "error 199\n",
      "10100 2.2677574551105497 0.97 5.026956434249878 0.21126559506636114\n",
      "10200 2.2483634614944457 0.97 5.210347592830658 0.18016148501541465\n",
      "error 237\n",
      "10300 2.278639713525772 0.98875 5.277443379163742 0.23607980145607144\n",
      "10400 2.2867010021209717 0.97 5.365622739195824 0.17728472644928842\n",
      "10500 2.2741313433647155 0.98375 5.090793699026108 0.17495732740615494\n",
      "10600 2.2644797587394714 0.98 5.147879164218903 0.18800357764353975\n",
      "10700 2.2541375505924224 0.97 4.817768942713737 0.13877621470252052\n",
      "10800 2.2507930219173433 0.9775 5.284442455172539 0.14903957479051314\n",
      "10900 2.3002800703048707 0.96375 5.223548298478127 0.23170732086291537\n",
      "11000 2.2535091853141784 0.97125 5.064065073728561 0.19789579678676092\n",
      "11100 2.2747460806369784 0.9775 5.392491636276245 0.18889547613216565\n",
      "11200 2.2732660007476806 0.975 5.294399330615997 0.16248802208108828\n",
      "11300 2.216704992055893 0.97875 5.350678547620773 0.14556923155207188\n",
      "error 158\n",
      "11400 2.226413938999176 0.97625 5.005698156356812 0.16683399226516485\n",
      "11500 2.2641988050937654 0.97625 5.16371910572052 0.14727949534484652\n",
      "11600 2.2985055696964265 0.975 5.1194457125663755 0.16948807548265904\n",
      "11700 2.2741540563106537 0.95875 5.217169369459152 0.2057158526213607\n",
      "11800 2.253314428329468 0.98 4.972456722259522 0.16989934054668993\n"
     ]
    },
    {
     "name": "stdout",
     "output_type": "stream",
     "text": [
      "11900 2.281592571735382 0.965 5.211987713575363 0.16193519402411766\n",
      "12000 2.2772851192951205 0.96625 5.008845525681973 0.181713217520155\n",
      "12100 2.2718026983737944 0.97375 5.175409384071827 0.1265886755241081\n",
      "12200 2.2850073957443238 0.96875 5.154564288258553 0.22683557330048643\n",
      "error 147\n",
      "12300 2.292833480834961 0.96375 5.098923442363739 0.2095348669565283\n",
      "12400 2.3370813405513764 0.95625 5.219241884946823 0.1863439883221872\n",
      "12500 2.2954159390926363 0.95625 5.255072288513183 0.2307851844537072\n",
      "12600 2.3035721349716187 0.97625 5.272269651889801 0.16550394593621603\n",
      "12700 2.287083988189697 0.965 5.282873398065567 0.14984355997294188\n",
      "12800 2.274806467294693 0.96625 5.290914981365204 0.15458086480619385\n",
      "12900 2.2904775178432466 0.97625 5.314686278104782 0.13048835995257832\n",
      "13000 2.296052451133728 0.9625 5.249566118717194 0.2132325414090883\n",
      "13100 2.2689951145648957 0.96875 5.254428241252899 0.15502738317940384\n",
      "13200 2.299924274682999 0.96375 5.150377217829227 0.15643087812350132\n",
      "13300 2.276918873786926 0.965 5.042312930822373 0.17350089439423755\n",
      "error 66\n",
      "13400 2.2902116096019745 0.9725 5.15400393396616 0.14695085892919452\n"
     ]
    },
    {
     "ename": "KeyboardInterrupt",
     "evalue": "",
     "output_type": "error",
     "traceback": [
      "\u001b[1;31m---------------------------------------------------------------------------\u001b[0m",
      "\u001b[1;31mKeyboardInterrupt\u001b[0m                         Traceback (most recent call last)",
      "\u001b[1;32m~\\AppData\\Local\\Temp/ipykernel_24384/2145382122.py\u001b[0m in \u001b[0;36m<module>\u001b[1;34m\u001b[0m\n\u001b[0;32m     21\u001b[0m         \u001b[1;31m# mlm step\u001b[0m\u001b[1;33m\u001b[0m\u001b[1;33m\u001b[0m\u001b[1;33m\u001b[0m\u001b[0m\n\u001b[0;32m     22\u001b[0m         \u001b[0msents\u001b[0m \u001b[1;33m=\u001b[0m \u001b[0mrandom\u001b[0m\u001b[1;33m.\u001b[0m\u001b[0mchoices\u001b[0m\u001b[1;33m(\u001b[0m\u001b[0mall_sentences\u001b[0m\u001b[1;33m,\u001b[0m \u001b[0mk\u001b[0m\u001b[1;33m=\u001b[0m\u001b[0mmlm_batch_size\u001b[0m\u001b[1;33m)\u001b[0m\u001b[1;33m\u001b[0m\u001b[1;33m\u001b[0m\u001b[0m\n\u001b[1;32m---> 23\u001b[1;33m         \u001b[0mmyv_batch\u001b[0m \u001b[1;33m=\u001b[0m \u001b[1;33m{\u001b[0m\u001b[0mk\u001b[0m\u001b[1;33m:\u001b[0m \u001b[0mv\u001b[0m\u001b[1;33m.\u001b[0m\u001b[0mto\u001b[0m\u001b[1;33m(\u001b[0m\u001b[0mmodel\u001b[0m\u001b[1;33m.\u001b[0m\u001b[0mdevice\u001b[0m\u001b[1;33m)\u001b[0m \u001b[1;32mfor\u001b[0m \u001b[0mk\u001b[0m\u001b[1;33m,\u001b[0m \u001b[0mv\u001b[0m \u001b[1;32min\u001b[0m \u001b[0mcollator\u001b[0m\u001b[1;33m(\u001b[0m\u001b[1;33m[\u001b[0m\u001b[0mtokenizer\u001b[0m\u001b[1;33m(\u001b[0m\u001b[0ms\u001b[0m\u001b[1;33m)\u001b[0m \u001b[1;32mfor\u001b[0m \u001b[0ms\u001b[0m \u001b[1;32min\u001b[0m \u001b[0msents\u001b[0m\u001b[1;33m]\u001b[0m\u001b[1;33m)\u001b[0m\u001b[1;33m.\u001b[0m\u001b[0mitems\u001b[0m\u001b[1;33m(\u001b[0m\u001b[1;33m)\u001b[0m\u001b[1;33m}\u001b[0m\u001b[1;33m\u001b[0m\u001b[1;33m\u001b[0m\u001b[0m\n\u001b[0m\u001b[0;32m     24\u001b[0m         loss = loss_fn(\n\u001b[0;32m     25\u001b[0m             \u001b[0mmodel\u001b[0m\u001b[1;33m(\u001b[0m\u001b[1;33m**\u001b[0m\u001b[0mmyv_batch\u001b[0m\u001b[1;33m)\u001b[0m\u001b[1;33m.\u001b[0m\u001b[0mprediction_logits\u001b[0m\u001b[1;33m.\u001b[0m\u001b[0mview\u001b[0m\u001b[1;33m(\u001b[0m\u001b[1;33m-\u001b[0m\u001b[1;36m1\u001b[0m\u001b[1;33m,\u001b[0m \u001b[0mmodel\u001b[0m\u001b[1;33m.\u001b[0m\u001b[0mconfig\u001b[0m\u001b[1;33m.\u001b[0m\u001b[0mvocab_size\u001b[0m\u001b[1;33m)\u001b[0m\u001b[1;33m,\u001b[0m\u001b[1;33m\u001b[0m\u001b[1;33m\u001b[0m\u001b[0m\n",
      "\u001b[1;32mc:\\users\\david\\appdata\\local\\programs\\python\\python39\\lib\\site-packages\\transformers\\data\\data_collator.py\u001b[0m in \u001b[0;36m__call__\u001b[1;34m(self, features, return_tensors)\u001b[0m\n\u001b[0;32m     39\u001b[0m             \u001b[1;32mreturn\u001b[0m \u001b[0mself\u001b[0m\u001b[1;33m.\u001b[0m\u001b[0mtf_call\u001b[0m\u001b[1;33m(\u001b[0m\u001b[0mfeatures\u001b[0m\u001b[1;33m)\u001b[0m\u001b[1;33m\u001b[0m\u001b[1;33m\u001b[0m\u001b[0m\n\u001b[0;32m     40\u001b[0m         \u001b[1;32melif\u001b[0m \u001b[0mreturn_tensors\u001b[0m \u001b[1;33m==\u001b[0m \u001b[1;34m\"pt\"\u001b[0m\u001b[1;33m:\u001b[0m\u001b[1;33m\u001b[0m\u001b[1;33m\u001b[0m\u001b[0m\n\u001b[1;32m---> 41\u001b[1;33m             \u001b[1;32mreturn\u001b[0m \u001b[0mself\u001b[0m\u001b[1;33m.\u001b[0m\u001b[0mtorch_call\u001b[0m\u001b[1;33m(\u001b[0m\u001b[0mfeatures\u001b[0m\u001b[1;33m)\u001b[0m\u001b[1;33m\u001b[0m\u001b[1;33m\u001b[0m\u001b[0m\n\u001b[0m\u001b[0;32m     42\u001b[0m         \u001b[1;32melif\u001b[0m \u001b[0mreturn_tensors\u001b[0m \u001b[1;33m==\u001b[0m \u001b[1;34m\"np\"\u001b[0m\u001b[1;33m:\u001b[0m\u001b[1;33m\u001b[0m\u001b[1;33m\u001b[0m\u001b[0m\n\u001b[0;32m     43\u001b[0m             \u001b[1;32mreturn\u001b[0m \u001b[0mself\u001b[0m\u001b[1;33m.\u001b[0m\u001b[0mnumpy_call\u001b[0m\u001b[1;33m(\u001b[0m\u001b[0mfeatures\u001b[0m\u001b[1;33m)\u001b[0m\u001b[1;33m\u001b[0m\u001b[1;33m\u001b[0m\u001b[0m\n",
      "\u001b[1;32mc:\\users\\david\\appdata\\local\\programs\\python\\python39\\lib\\site-packages\\transformers\\data\\data_collator.py\u001b[0m in \u001b[0;36mtorch_call\u001b[1;34m(self, examples)\u001b[0m\n\u001b[0;32m    884\u001b[0m             \u001b[0mmask_labels\u001b[0m\u001b[1;33m.\u001b[0m\u001b[0mappend\u001b[0m\u001b[1;33m(\u001b[0m\u001b[0mself\u001b[0m\u001b[1;33m.\u001b[0m\u001b[0m_whole_word_mask\u001b[0m\u001b[1;33m(\u001b[0m\u001b[0mref_tokens\u001b[0m\u001b[1;33m)\u001b[0m\u001b[1;33m)\u001b[0m\u001b[1;33m\u001b[0m\u001b[1;33m\u001b[0m\u001b[0m\n\u001b[0;32m    885\u001b[0m         \u001b[0mbatch_mask\u001b[0m \u001b[1;33m=\u001b[0m \u001b[0m_torch_collate_batch\u001b[0m\u001b[1;33m(\u001b[0m\u001b[0mmask_labels\u001b[0m\u001b[1;33m,\u001b[0m \u001b[0mself\u001b[0m\u001b[1;33m.\u001b[0m\u001b[0mtokenizer\u001b[0m\u001b[1;33m,\u001b[0m \u001b[0mpad_to_multiple_of\u001b[0m\u001b[1;33m=\u001b[0m\u001b[0mself\u001b[0m\u001b[1;33m.\u001b[0m\u001b[0mpad_to_multiple_of\u001b[0m\u001b[1;33m)\u001b[0m\u001b[1;33m\u001b[0m\u001b[1;33m\u001b[0m\u001b[0m\n\u001b[1;32m--> 886\u001b[1;33m         \u001b[0minputs\u001b[0m\u001b[1;33m,\u001b[0m \u001b[0mlabels\u001b[0m \u001b[1;33m=\u001b[0m \u001b[0mself\u001b[0m\u001b[1;33m.\u001b[0m\u001b[0mtorch_mask_tokens\u001b[0m\u001b[1;33m(\u001b[0m\u001b[0mbatch_input\u001b[0m\u001b[1;33m,\u001b[0m \u001b[0mbatch_mask\u001b[0m\u001b[1;33m)\u001b[0m\u001b[1;33m\u001b[0m\u001b[1;33m\u001b[0m\u001b[0m\n\u001b[0m\u001b[0;32m    887\u001b[0m         \u001b[1;32mreturn\u001b[0m \u001b[1;33m{\u001b[0m\u001b[1;34m\"input_ids\"\u001b[0m\u001b[1;33m:\u001b[0m \u001b[0minputs\u001b[0m\u001b[1;33m,\u001b[0m \u001b[1;34m\"labels\"\u001b[0m\u001b[1;33m:\u001b[0m \u001b[0mlabels\u001b[0m\u001b[1;33m}\u001b[0m\u001b[1;33m\u001b[0m\u001b[1;33m\u001b[0m\u001b[0m\n\u001b[0;32m    888\u001b[0m \u001b[1;33m\u001b[0m\u001b[0m\n",
      "\u001b[1;32mc:\\users\\david\\appdata\\local\\programs\\python\\python39\\lib\\site-packages\\transformers\\data\\data_collator.py\u001b[0m in \u001b[0;36mtorch_mask_tokens\u001b[1;34m(self, inputs, mask_labels)\u001b[0m\n\u001b[0;32m   1014\u001b[0m             \u001b[0mprobability_matrix\u001b[0m\u001b[1;33m.\u001b[0m\u001b[0mmasked_fill_\u001b[0m\u001b[1;33m(\u001b[0m\u001b[0mpadding_mask\u001b[0m\u001b[1;33m,\u001b[0m \u001b[0mvalue\u001b[0m\u001b[1;33m=\u001b[0m\u001b[1;36m0.0\u001b[0m\u001b[1;33m)\u001b[0m\u001b[1;33m\u001b[0m\u001b[1;33m\u001b[0m\u001b[0m\n\u001b[0;32m   1015\u001b[0m \u001b[1;33m\u001b[0m\u001b[0m\n\u001b[1;32m-> 1016\u001b[1;33m         \u001b[0mmasked_indices\u001b[0m \u001b[1;33m=\u001b[0m \u001b[0mprobability_matrix\u001b[0m\u001b[1;33m.\u001b[0m\u001b[0mbool\u001b[0m\u001b[1;33m(\u001b[0m\u001b[1;33m)\u001b[0m\u001b[1;33m\u001b[0m\u001b[1;33m\u001b[0m\u001b[0m\n\u001b[0m\u001b[0;32m   1017\u001b[0m         \u001b[0mlabels\u001b[0m\u001b[1;33m[\u001b[0m\u001b[1;33m~\u001b[0m\u001b[0mmasked_indices\u001b[0m\u001b[1;33m]\u001b[0m \u001b[1;33m=\u001b[0m \u001b[1;33m-\u001b[0m\u001b[1;36m100\u001b[0m  \u001b[1;31m# We only compute loss on masked tokens\u001b[0m\u001b[1;33m\u001b[0m\u001b[1;33m\u001b[0m\u001b[0m\n\u001b[0;32m   1018\u001b[0m \u001b[1;33m\u001b[0m\u001b[0m\n",
      "\u001b[1;31mKeyboardInterrupt\u001b[0m: "
     ]
    }
   ],
   "source": [
    "model.train()\n",
    "tq = trange(300_000)\n",
    "for i in tq:\n",
    "    myv, ru = [list(p) for p in zip(*random.choices(all_pairs, k=batch_size))]\n",
    "    try:\n",
    "        # translation ranking step step\n",
    "        # in half cases, pull embeddings to the teacher; in other half - to self. \n",
    "        tm, tt = (teacher_model, teacher_tokenizer) if random.random() < 0.5 else (model.bert, tokenizer)\n",
    "        ru_batch = tt(ru, return_tensors='pt', padding=True, truncation=True, max_length=128)\n",
    "        with torch.no_grad():\n",
    "            ru_emb = torch.nn.functional.normalize(tm(**ru_batch.to(teacher_model.device)).pooler_output)\n",
    "\n",
    "        myv_batch = tokenizer(myv, return_tensors='pt', padding=True, truncation=True, max_length=128)\n",
    "        myv_emb = torch.nn.functional.normalize(model.bert(**myv_batch.to(model.device)).pooler_output)\n",
    "        all_scores = torch.matmul(ru_emb, myv_emb.T) - torch.eye(batch_size, device=model.device) * margin\n",
    "        loss = loss_fn(all_scores, torch.arange(batch_size, device=model.device)) + loss_fn(all_scores.T, torch.arange(batch_size, device=model.device))\n",
    "        loss.backward()\n",
    "        losses2.append(loss.item())\n",
    "        accuracies2.append(get_acc2(myv_emb, ru_emb))\n",
    "        \n",
    "        # mlm step\n",
    "        sents = random.choices(all_sentences, k=mlm_batch_size)\n",
    "        myv_batch = {k: v.to(model.device) for k, v in collator([tokenizer(s) for s in sents]).items()}\n",
    "        loss = loss_fn(\n",
    "            model(**myv_batch).prediction_logits.view(-1, model.config.vocab_size), \n",
    "            myv_batch['labels'].view(-1)\n",
    "        )\n",
    "        loss.backward()\n",
    "        losses_mlm.append(loss.item())\n",
    "        \n",
    "        # cross-encoder step\n",
    "        pp, pl = get_pairs_batch(bs=4)\n",
    "        loss = loss_fn(\n",
    "            model(\n",
    "                **tokenizer(*pp, padding=True, truncation=True, max_length=128, return_tensors='pt').to(model.device)\n",
    "            ).seq_relationship_logits.view(-1, 2),\n",
    "            torch.tensor(pl, device=model.device)\n",
    "        )\n",
    "        loss.backward()\n",
    "        losses_ce.append(loss.item())\n",
    "        \n",
    "        optimizer.step()\n",
    "        optimizer.zero_grad(set_to_none=True)\n",
    "        \n",
    "    except RuntimeError:\n",
    "        optimizer.zero_grad(set_to_none=True)\n",
    "        batch, out, embeddings, all_scores, loss = None, None, None, None, None\n",
    "        cleanup()\n",
    "        print('error', max(len(s) for s in myv+ru))\n",
    "        continue\n",
    "    if i % 100 == 0:\n",
    "        print(i, np.mean(losses2[-100:]), np.mean(accuracies2[-100:]), np.mean(losses_mlm[-100:]), np.mean(losses_ce[-100:]))"
   ]
  },
  {
   "cell_type": "code",
   "execution_count": 118,
   "id": "aa79f2dc",
   "metadata": {},
   "outputs": [],
   "source": [
    "optimizer.zero_grad(set_to_none=True)\n",
    "ru_batch, ru_emb, myv_batch, myv_emb, all_scores, loss = None, None, None, None, None, None\n",
    "cleanup()"
   ]
  },
  {
   "cell_type": "markdown",
   "id": "55e41654",
   "metadata": {},
   "source": [
    "..."
   ]
  },
  {
   "cell_type": "code",
   "execution_count": 127,
   "id": "d99af1c8",
   "metadata": {},
   "outputs": [
    {
     "name": "stdout",
     "output_type": "stream",
     "text": [
      "252422\n"
     ]
    },
    {
     "data": {
      "image/png": "[encoded data removed]",
      "text/plain": [
       "<Figure size 1152x216 with 4 Axes>"
      ]
     },
     "metadata": {
      "needs_background": "light"
     },
     "output_type": "display_data"
    }
   ],
   "source": [
    "print(len(losses2))\n",
    "plt.figure(figsize=(16, 3))\n",
    "names = ['labse loss', 'labse in-batch accuracy', 'mlm loss', 'cross-encoder loss']\n",
    "for i, s in enumerate([losses2, accuracies2, losses_mlm, losses_ce]):\n",
    "    plt.subplot(1, 4, i+1)\n",
    "    pd.Series(s).ewm(5000).mean()[1000:].plot(lw=1)\n",
    "    plt.title(names[i])"
   ]
  },
  {
   "cell_type": "code",
   "execution_count": 128,
   "id": "02a719ee",
   "metadata": {},
   "outputs": [
    {
     "data": {
      "text/plain": [
       "('labse_erzya_v1\\\\tokenizer_config.json',\n",
       " 'labse_erzya_v1\\\\special_tokens_map.json',\n",
       " 'labse_erzya_v1\\\\vocab.txt',\n",
       " 'labse_erzya_v1\\\\added_tokens.json',\n",
       " 'labse_erzya_v1\\\\tokenizer.json')"
      ]
     },
     "execution_count": 128,
     "metadata": {},
     "output_type": "execute_result"
    }
   ],
   "source": [
    "NEW_MODEL_NAME = 'labse_erzya_v1' # the same model name; updated embeddings AND weights\n",
    "model.save_pretrained(NEW_MODEL_NAME)\n",
    "tokenizer.save_pretrained(NEW_MODEL_NAME)"
   ]
  },
  {
   "cell_type": "code",
   "execution_count": 129,
   "id": "4571cfea",
   "metadata": {},
   "outputs": [
    {
     "data": {
      "text/plain": [
       "'Волго-Вятское междуречье), пандолангонь (сынь эрить Рав леенть вить ды керш чирева), чилисемань (сынь теевсть-пурнавсть Рав леенть нарлангонь ёнксто Башкирэнь Масторов ды Уралваксcов (руз.'"
      ]
     },
     "execution_count": 129,
     "metadata": {},
     "output_type": "execute_result"
    }
   ],
   "source": [
    "random.choice(all_sentences)"
   ]
  },
  {
   "cell_type": "code",
   "execution_count": 130,
   "id": "94cc5742",
   "metadata": {},
   "outputs": [],
   "source": [
    "def test_mask(text):\n",
    "    input = tokenizer.encode_plus(text, return_tensors = \"pt\").to(model.device)\n",
    "    mask_index = torch.where(input[\"input_ids\"][0] == tokenizer.mask_token_id)[0]\n",
    "\n",
    "    with torch.no_grad():\n",
    "        output = model(**input)\n",
    "        logits = output.prediction_logits\n",
    "        softmax = torch.softmax(logits, dim = -1)\n",
    "        mask_word = softmax[0, mask_index, :]\n",
    "        top_10 = torch.topk(mask_word, 10, dim = 1)[1][0]\n",
    "    for token in top_10:\n",
    "       word = tokenizer.decode([token])\n",
    "       new_sentence = text.replace(tokenizer.mask_token, word)\n",
    "       print(new_sentence)"
   ]
  },
  {
   "cell_type": "code",
   "execution_count": 131,
   "id": "b45d630e",
   "metadata": {},
   "outputs": [
    {
     "name": "stdout",
     "output_type": "stream",
     "text": [
      "2018 иестэ саезь книганть лангсо важодсть Самарань ды Мордовиянь специалисттнэ, весемезэ сисем ломанть.\n",
      "2018 иестэ саезь книганть лангсо важодсть Самарань ды Том специалисттнэ, весемезэ сисем ломанть.\n",
      "2018 иестэ саезь книганть лангсо важодсть Самарань ды Московонь специалисттнэ, весемезэ сисем ломанть.\n",
      "2018 иестэ саезь книганть лангсо важодсть Самарань ды Саранск специалисттнэ, весемезэ сисем ломанть.\n",
      "2018 иестэ саезь книганть лангсо важодсть Самарань ды Самарань специалисттнэ, весемезэ сисем ломанть.\n",
      "2018 иестэ саезь книганть лангсо важодсть Самарань ды Саранскоень специалисттнэ, весемезэ сисем ломанть.\n",
      "2018 иестэ саезь книганть лангсо важодсть Самарань ды Саран специалисттнэ, весемезэ сисем ломанть.\n",
      "2018 иестэ саезь книганть лангсо важодсть Самарань ды мокшонь специалисттнэ, весемезэ сисем ломанть.\n",
      "2018 иестэ саезь книганть лангсо важодсть Самарань ды республикань специалисттнэ, весемезэ сисем ломанть.\n",
      "2018 иестэ саезь книганть лангсо важодсть Самарань ды Ленинградонь специалисттнэ, весемезэ сисем ломанть.\n"
     ]
    }
   ],
   "source": [
    "test_mask('2018 иестэ саезь книганть лангсо важодсть Самарань ды [MASK] специалисттнэ, весемезэ сисем ломанть.')"
   ]
  },
  {
   "cell_type": "code",
   "execution_count": 132,
   "id": "b61a452a",
   "metadata": {},
   "outputs": [
    {
     "name": "stdout",
     "output_type": "stream",
     "text": [
      "2018 иестэ саезь сцена лангсо важодсть Самарань ды Мордовиянь специалисттнэ, весемезэ сисем ломанть.\n",
      "2018 иестэ саезь сонзэ лангсо важодсть Самарань ды Мордовиянь специалисттнэ, весемезэ сисем ломанть.\n",
      "2018 иестэ саезь моданть лангсо важодсть Самарань ды Мордовиянь специалисттнэ, весемезэ сисем ломанть.\n",
      "2018 иестэ саезь сценанть лангсо важодсть Самарань ды Мордовиянь специалисттнэ, весемезэ сисем ломанть.\n",
      "2018 иестэ саезь те лангсо важодсть Самарань ды Мордовиянь специалисттнэ, весемезэ сисем ломанть.\n",
      "2018 иестэ саезь Сонзэ лангсо важодсть Самарань ды Мордовиянь специалисттнэ, весемезэ сисем ломанть.\n",
      "2018 иестэ саезь школанть лангсо важодсть Самарань ды Мордовиянь специалисттнэ, весемезэ сисем ломанть.\n",
      "2018 иестэ саезь ошонь лангсо важодсть Самарань ды Мордовиянь специалисттнэ, весемезэ сисем ломанть.\n",
      "2018 иестэ саезь проектэнть лангсо важодсть Самарань ды Мордовиянь специалисттнэ, весемезэ сисем ломанть.\n",
      "2018 иестэ саезь , лангсо важодсть Самарань ды Мордовиянь специалисттнэ, весемезэ сисем ломанть.\n"
     ]
    }
   ],
   "source": [
    "test_mask('2018 иестэ саезь [MASK] лангсо важодсть Самарань ды Мордовиянь специалисттнэ, весемезэ сисем ломанть.')"
   ]
  },
  {
   "cell_type": "code",
   "execution_count": 133,
   "id": "ea49b495",
   "metadata": {},
   "outputs": [
    {
     "name": "stdout",
     "output_type": "stream",
     "text": [
      "(сон сакшнось минек велес эрзянь газета ды газетатнень кис агитировамо).\n",
      "(сон сакшнось минек велес эрзянь кельсэ ды газетатнень кис агитировамо).\n",
      "(сон сакшнось минек велес эрзянь газетань ды газетатнень кис агитировамо).\n",
      "(сон сакшнось минек велес эрзянь кельс ды газетатнень кис агитировамо).\n",
      "(сон сакшнось минек велес эрзянь келень ды газетатнень кис агитировамо).\n",
      "(сон сакшнось минек велес эрзянь кельтнень ды газетатнень кис агитировамо).\n",
      "(сон сакшнось минек велес эрзянь келенть ды газетатнень кис агитировамо).\n",
      "(сон сакшнось минек велес эрзянь кель ды газетатнень кис агитировамо).\n",
      "(сон сакшнось минек велес эрзянь литературань ды газетатнень кис агитировамо).\n",
      "(сон сакшнось минек велес эрзянь кельстэ ды газетатнень кис агитировамо).\n"
     ]
    }
   ],
   "source": [
    "test_mask('(сон сакшнось минек велес эрзянь [MASK] ды газетатнень кис агитировамо).')"
   ]
  },
  {
   "cell_type": "code",
   "execution_count": 134,
   "id": "51e71cf3",
   "metadata": {
    "scrolled": true
   },
   "outputs": [
    {
     "name": "stdout",
     "output_type": "stream",
     "text": [
      "(сон сакшнось минек велес ##со литературань  ды газетатнень кис агитировамо).\n",
      "(сон сакшнось минек велес ##сэ литературань  ды газетатнень кис агитировамо).\n",
      "(сон сакшнось минек велес ##энь литературань  ды газетатнень кис агитировамо).\n",
      "(сон сакшнось минек велес ##с литературань  ды газетатнень кис агитировамо).\n",
      "(сон сакшнось минек велес , литературань  ды газетатнень кис агитировамо).\n",
      "(сон сакшнось минек велес марто литературань  ды газетатнень кис агитировамо).\n",
      "(сон сакшнось минек велес ##онть литературань  ды газетатнень кис агитировамо).\n",
      "(сон сакшнось минек велес ##нь литературань  ды газетатнень кис агитировамо).\n",
      "(сон сакшнось минек велес ##сонть литературань  ды газетатнень кис агитировамо).\n",
      "(сон сакшнось минек велес ##нть литературань  ды газетатнень кис агитировамо).\n"
     ]
    }
   ],
   "source": [
    "test_mask('(сон сакшнось минек велес [MASK] литературань  ды газетатнень кис агитировамо).')"
   ]
  },
  {
   "cell_type": "code",
   "execution_count": null,
   "id": "b9197c42",
   "metadata": {},
   "outputs": [],
   "source": []
  },
  {
   "cell_type": "code",
   "execution_count": null,
   "id": "eda95a40",
   "metadata": {},
   "outputs": [],
   "source": []
  },
  {
   "cell_type": "code",
   "execution_count": null,
   "id": "287631fe",
   "metadata": {},
   "outputs": [],
   "source": []
  },
  {
   "cell_type": "code",
   "execution_count": null,
   "id": "9910b61b",
   "metadata": {},
   "outputs": [],
   "source": []
  }
 ],
 "metadata": {
  "kernelspec": {
   "display_name": "Python 3 (ipykernel)",
   "language": "python",
   "name": "python3"
  },
  "language_info": {
   "codemirror_mode": {
    "name": "ipython",
    "version": 3
   },
   "file_extension": ".py",
   "mimetype": "text/x-python",
   "name": "python",
   "nbconvert_exporter": "python",
   "pygments_lexer": "ipython3",
   "version": "3.9.6"
  }
 },
 "nbformat": 4,
 "nbformat_minor": 5
}
